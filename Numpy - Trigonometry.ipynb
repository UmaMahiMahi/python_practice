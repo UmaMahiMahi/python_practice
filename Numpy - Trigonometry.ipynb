{
 "cells": [
  {
   "cell_type": "markdown",
   "id": "dense-thinking",
   "metadata": {},
   "source": [
    "## Numpy - Trigonometry"
   ]
  },
  {
   "cell_type": "code",
   "execution_count": 58,
   "id": "massive-double",
   "metadata": {},
   "outputs": [],
   "source": [
    "import numpy as np"
   ]
  },
  {
   "cell_type": "code",
   "execution_count": null,
   "id": "attempted-rendering",
   "metadata": {},
   "outputs": [],
   "source": [
    "1. np.sin()\n",
    "2. np.cos()\n",
    "3. np.tan()\n",
    "4. np.deg2rad()\n",
    "5. np.rad2deg()"
   ]
  },
  {
   "cell_type": "code",
   "execution_count": null,
   "id": "synthetic-layer",
   "metadata": {},
   "outputs": [],
   "source": [
    "sin >> opp/hyp\n",
    "cos >> Adj/Hyp\n",
    "tan >> Opp/Adj\n",
    "\n",
    "cosec >> 1/sin\n",
    "sec   >> 1/cos\n",
    "cot   >> 1/tan"
   ]
  },
  {
   "cell_type": "code",
   "execution_count": 3,
   "id": "periodic-layout",
   "metadata": {},
   "outputs": [
    {
     "data": {
      "text/plain": [
       "3.141592653589793"
      ]
     },
     "execution_count": 3,
     "metadata": {},
     "output_type": "execute_result"
    }
   ],
   "source": [
    "np.pi # 180 degree"
   ]
  },
  {
   "cell_type": "code",
   "execution_count": 4,
   "id": "spiritual-creator",
   "metadata": {},
   "outputs": [],
   "source": [
    "import math"
   ]
  },
  {
   "cell_type": "code",
   "execution_count": 6,
   "id": "conditional-college",
   "metadata": {},
   "outputs": [
    {
     "data": {
      "text/plain": [
       "3.141592653589793"
      ]
     },
     "execution_count": 6,
     "metadata": {},
     "output_type": "execute_result"
    }
   ],
   "source": [
    "math.pi"
   ]
  },
  {
   "cell_type": "markdown",
   "id": "respected-backing",
   "metadata": {},
   "source": [
    "### 1. sin"
   ]
  },
  {
   "cell_type": "code",
   "execution_count": 7,
   "id": "worse-killer",
   "metadata": {},
   "outputs": [
    {
     "data": {
      "text/plain": [
       "0.49999999999999994"
      ]
     },
     "execution_count": 7,
     "metadata": {},
     "output_type": "execute_result"
    }
   ],
   "source": [
    "np.sin(np.pi/6) # sin 30"
   ]
  },
  {
   "cell_type": "code",
   "execution_count": 9,
   "id": "liked-management",
   "metadata": {},
   "outputs": [
    {
     "data": {
      "text/plain": [
       "0.7071067811865476"
      ]
     },
     "execution_count": 9,
     "metadata": {},
     "output_type": "execute_result"
    }
   ],
   "source": [
    "np.sin(np.pi/4) # sin 45"
   ]
  },
  {
   "cell_type": "code",
   "execution_count": 11,
   "id": "caroline-marathon",
   "metadata": {},
   "outputs": [
    {
     "data": {
      "text/plain": [
       "0.8660254037844386"
      ]
     },
     "execution_count": 11,
     "metadata": {},
     "output_type": "execute_result"
    }
   ],
   "source": [
    "np.sin(np.pi/3)  # sin 60"
   ]
  },
  {
   "cell_type": "code",
   "execution_count": 13,
   "id": "provincial-abraham",
   "metadata": {},
   "outputs": [
    {
     "data": {
      "text/plain": [
       "0.866"
      ]
     },
     "execution_count": 13,
     "metadata": {},
     "output_type": "execute_result"
    }
   ],
   "source": [
    "1.732/2"
   ]
  },
  {
   "cell_type": "code",
   "execution_count": 15,
   "id": "fundamental-closer",
   "metadata": {},
   "outputs": [
    {
     "data": {
      "text/plain": [
       "1.0"
      ]
     },
     "execution_count": 15,
     "metadata": {},
     "output_type": "execute_result"
    }
   ],
   "source": [
    "np.sin(np.pi/2)  # sin 90"
   ]
  },
  {
   "cell_type": "code",
   "execution_count": 18,
   "id": "cross-spine",
   "metadata": {},
   "outputs": [
    {
     "data": {
      "text/plain": [
       "0.0"
      ]
     },
     "execution_count": 18,
     "metadata": {},
     "output_type": "execute_result"
    }
   ],
   "source": [
    "np.sin(0)  # sin 0"
   ]
  },
  {
   "cell_type": "markdown",
   "id": "pacific-elephant",
   "metadata": {},
   "source": [
    "### 2. cos"
   ]
  },
  {
   "cell_type": "code",
   "execution_count": 20,
   "id": "formal-coral",
   "metadata": {},
   "outputs": [
    {
     "data": {
      "text/plain": [
       "0.8660254037844387"
      ]
     },
     "execution_count": 20,
     "metadata": {},
     "output_type": "execute_result"
    }
   ],
   "source": [
    "np.cos(np.pi/6)# cos30"
   ]
  },
  {
   "cell_type": "code",
   "execution_count": 25,
   "id": "intense-classics",
   "metadata": {},
   "outputs": [
    {
     "data": {
      "text/plain": [
       "0.7071067811865476"
      ]
     },
     "execution_count": 25,
     "metadata": {},
     "output_type": "execute_result"
    }
   ],
   "source": [
    "np.cos(np.pi/4)# cos45"
   ]
  },
  {
   "cell_type": "code",
   "execution_count": 26,
   "id": "demanding-escape",
   "metadata": {},
   "outputs": [
    {
     "data": {
      "text/plain": [
       "0.5000000000000001"
      ]
     },
     "execution_count": 26,
     "metadata": {},
     "output_type": "execute_result"
    }
   ],
   "source": [
    "np.cos(np.pi/3)# "
   ]
  },
  {
   "cell_type": "markdown",
   "id": "intellectual-opening",
   "metadata": {},
   "source": [
    "### 3. tan"
   ]
  },
  {
   "cell_type": "code",
   "execution_count": 29,
   "id": "described-identity",
   "metadata": {},
   "outputs": [
    {
     "data": {
      "text/plain": [
       "0.5773502691896257"
      ]
     },
     "execution_count": 29,
     "metadata": {},
     "output_type": "execute_result"
    }
   ],
   "source": [
    "np.tan(np.pi/6)"
   ]
  },
  {
   "cell_type": "code",
   "execution_count": 31,
   "id": "enabling-manor",
   "metadata": {},
   "outputs": [
    {
     "data": {
      "text/plain": [
       "0.9999999999999999"
      ]
     },
     "execution_count": 31,
     "metadata": {},
     "output_type": "execute_result"
    }
   ],
   "source": [
    "np.tan(np.pi/4)"
   ]
  },
  {
   "cell_type": "code",
   "execution_count": 33,
   "id": "bizarre-heaven",
   "metadata": {},
   "outputs": [
    {
     "data": {
      "text/plain": [
       "1.7320508075688767"
      ]
     },
     "execution_count": 33,
     "metadata": {},
     "output_type": "execute_result"
    }
   ],
   "source": [
    "np.tan(np.pi/3)"
   ]
  },
  {
   "cell_type": "code",
   "execution_count": 36,
   "id": "satisfactory-kennedy",
   "metadata": {},
   "outputs": [
    {
     "data": {
      "text/plain": [
       "1.1547005383792515"
      ]
     },
     "execution_count": 36,
     "metadata": {},
     "output_type": "execute_result"
    }
   ],
   "source": [
    "sec_30 = 1/np.cos(np.pi/6)\n",
    "sec_30"
   ]
  },
  {
   "cell_type": "markdown",
   "id": "dominican-probability",
   "metadata": {},
   "source": [
    "### degree to radians"
   ]
  },
  {
   "cell_type": "code",
   "execution_count": 38,
   "id": "advance-hungary",
   "metadata": {},
   "outputs": [
    {
     "data": {
      "text/plain": [
       "0.7853981633974483"
      ]
     },
     "execution_count": 38,
     "metadata": {},
     "output_type": "execute_result"
    }
   ],
   "source": [
    "np.deg2rad(45)"
   ]
  },
  {
   "cell_type": "code",
   "execution_count": 40,
   "id": "based-start",
   "metadata": {},
   "outputs": [
    {
     "data": {
      "text/plain": [
       "0.5235987755982988"
      ]
     },
     "execution_count": 40,
     "metadata": {},
     "output_type": "execute_result"
    }
   ],
   "source": [
    "np.deg2rad(30)"
   ]
  },
  {
   "cell_type": "code",
   "execution_count": 43,
   "id": "standing-applicant",
   "metadata": {},
   "outputs": [
    {
     "data": {
      "text/plain": [
       "0.49999999999999994"
      ]
     },
     "execution_count": 43,
     "metadata": {},
     "output_type": "execute_result"
    }
   ],
   "source": [
    "np.sin(np.pi/6) # sin30"
   ]
  },
  {
   "cell_type": "code",
   "execution_count": 44,
   "id": "pressed-gibson",
   "metadata": {},
   "outputs": [
    {
     "data": {
      "text/plain": [
       "0.49999999999999994"
      ]
     },
     "execution_count": 44,
     "metadata": {},
     "output_type": "execute_result"
    }
   ],
   "source": [
    "np.sin(np.deg2rad(30)) # sin30"
   ]
  },
  {
   "cell_type": "code",
   "execution_count": 42,
   "id": "hydraulic-victim",
   "metadata": {},
   "outputs": [
    {
     "data": {
      "text/plain": [
       "0.5235987755982988"
      ]
     },
     "execution_count": 42,
     "metadata": {},
     "output_type": "execute_result"
    }
   ],
   "source": [
    "np.pi/6"
   ]
  },
  {
   "cell_type": "code",
   "execution_count": 49,
   "id": "printable-student",
   "metadata": {},
   "outputs": [
    {
     "data": {
      "text/plain": [
       "array([0.        , 0.5       , 0.70710678, 0.8660254 , 1.        ])"
      ]
     },
     "execution_count": 49,
     "metadata": {},
     "output_type": "execute_result"
    }
   ],
   "source": [
    "rad_values = np.deg2rad([0,30,45,60,90])\n",
    "np.sin(rad_values)"
   ]
  },
  {
   "cell_type": "code",
   "execution_count": 51,
   "id": "metallic-sunglasses",
   "metadata": {},
   "outputs": [
    {
     "data": {
      "text/plain": [
       "array([1.00000000e+00, 8.66025404e-01, 7.07106781e-01, 5.00000000e-01,\n",
       "       6.12323400e-17])"
      ]
     },
     "execution_count": 51,
     "metadata": {},
     "output_type": "execute_result"
    }
   ],
   "source": [
    "rad_values = np.deg2rad([0,30,45,60,90])\n",
    "np.cos(rad_values)"
   ]
  },
  {
   "cell_type": "code",
   "execution_count": 53,
   "id": "certain-stewart",
   "metadata": {},
   "outputs": [
    {
     "data": {
      "text/plain": [
       "array([0.00000000e+00, 5.77350269e-01, 1.00000000e+00, 1.73205081e+00,\n",
       "       1.63312394e+16])"
      ]
     },
     "execution_count": 53,
     "metadata": {},
     "output_type": "execute_result"
    }
   ],
   "source": [
    "rad_values = np.deg2rad([0,30,45,60,90])\n",
    "np.tan(rad_values)"
   ]
  },
  {
   "cell_type": "markdown",
   "id": "gothic-mason",
   "metadata": {},
   "source": [
    "### Radians to Degree"
   ]
  },
  {
   "cell_type": "code",
   "execution_count": 55,
   "id": "polyphonic-while",
   "metadata": {},
   "outputs": [
    {
     "data": {
      "text/plain": [
       "array([0.        , 0.52359878, 0.78539816, 1.04719755, 1.57079633])"
      ]
     },
     "execution_count": 55,
     "metadata": {},
     "output_type": "execute_result"
    }
   ],
   "source": [
    "rad_values = np.deg2rad([0,30,45,60,90])\n",
    "rad_values"
   ]
  },
  {
   "cell_type": "code",
   "execution_count": 57,
   "id": "portuguese-envelope",
   "metadata": {},
   "outputs": [
    {
     "data": {
      "text/plain": [
       "array([ 0., 30., 45., 60., 90.])"
      ]
     },
     "execution_count": 57,
     "metadata": {},
     "output_type": "execute_result"
    }
   ],
   "source": [
    "degree = np.rad2deg(rad_values)\n",
    "degree"
   ]
  },
  {
   "cell_type": "code",
   "execution_count": null,
   "id": "loving-westminster",
   "metadata": {},
   "outputs": [],
   "source": []
  }
 ],
 "metadata": {
  "kernelspec": {
   "display_name": "Python 3 (ipykernel)",
   "language": "python",
   "name": "python3"
  },
  "language_info": {
   "codemirror_mode": {
    "name": "ipython",
    "version": 3
   },
   "file_extension": ".py",
   "mimetype": "text/x-python",
   "name": "python",
   "nbconvert_exporter": "python",
   "pygments_lexer": "ipython3",
   "version": "3.9.12"
  }
 },
 "nbformat": 4,
 "nbformat_minor": 5
}
