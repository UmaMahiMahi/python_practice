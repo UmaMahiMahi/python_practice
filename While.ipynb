{
 "cells": [
  {
   "cell_type": "markdown",
   "id": "analyzed-motel",
   "metadata": {},
   "source": [
    "# While"
   ]
  },
  {
   "cell_type": "code",
   "execution_count": null,
   "id": "hourly-hobby",
   "metadata": {},
   "outputs": [],
   "source": [
    "Sytax:\n",
    "    \n",
    "while condition == True:\n",
    "    statement1\n",
    "    statement2"
   ]
  },
  {
   "cell_type": "code",
   "execution_count": 2,
   "id": "frequent-genre",
   "metadata": {},
   "outputs": [
    {
     "name": "stdout",
     "output_type": "stream",
     "text": [
      "0\n",
      "1\n",
      "2\n",
      "3\n",
      "4\n"
     ]
    }
   ],
   "source": [
    "for i in range(5):\n",
    "    print(i)"
   ]
  },
  {
   "cell_type": "code",
   "execution_count": 7,
   "id": "aggressive-particular",
   "metadata": {},
   "outputs": [
    {
     "name": "stdout",
     "output_type": "stream",
     "text": [
      "0\n",
      "1\n",
      "2\n",
      "3\n",
      "4\n"
     ]
    }
   ],
   "source": [
    "i = 0\n",
    "while i < 5: # 5 < 5 False\n",
    "    print(i)\n",
    "    i = i + 1 # i = 5"
   ]
  },
  {
   "cell_type": "code",
   "execution_count": 28,
   "id": "above-adventure",
   "metadata": {},
   "outputs": [
    {
     "name": "stdout",
     "output_type": "stream",
     "text": [
      "1\n",
      "2\n",
      "3\n",
      "4\n"
     ]
    }
   ],
   "source": [
    "i = 1\n",
    "while i < 5:\n",
    "    print(i)\n",
    "    i = i + 1"
   ]
  },
  {
   "cell_type": "code",
   "execution_count": 29,
   "id": "computational-sleep",
   "metadata": {},
   "outputs": [
    {
     "name": "stdout",
     "output_type": "stream",
     "text": [
      "0\n",
      "1\n",
      "2\n",
      "3\n",
      "4\n",
      "5\n"
     ]
    }
   ],
   "source": [
    "i = 0\n",
    "while i <= 5:\n",
    "    print(i)\n",
    "    i = i + 1"
   ]
  },
  {
   "cell_type": "code",
   "execution_count": 12,
   "id": "temporal-diving",
   "metadata": {},
   "outputs": [
    {
     "name": "stdout",
     "output_type": "stream",
     "text": [
      "We are learning While Loop\n",
      "We are learning While Loop\n",
      "We are learning While Loop\n",
      "We are learning While Loop\n"
     ]
    }
   ],
   "source": [
    "i = 1\n",
    "while i < 5:\n",
    "    print('We are learning While Loop')\n",
    "    i = i + 1"
   ]
  },
  {
   "cell_type": "code",
   "execution_count": 14,
   "id": "technological-trout",
   "metadata": {},
   "outputs": [
    {
     "name": "stdout",
     "output_type": "stream",
     "text": [
      "We are learning While Loop\n",
      "Python and Data Science\n",
      "We are learning While Loop\n",
      "Python and Data Science\n",
      "We are learning While Loop\n",
      "Python and Data Science\n",
      "We are learning While Loop\n",
      "Python and Data Science\n"
     ]
    }
   ],
   "source": [
    "i = 1\n",
    "while i < 5:\n",
    "    print('We are learning While Loop')\n",
    "    print(\"Python and Data Science\")\n",
    "    i = i + 1"
   ]
  },
  {
   "cell_type": "code",
   "execution_count": 15,
   "id": "alleged-haven",
   "metadata": {},
   "outputs": [
    {
     "name": "stdout",
     "output_type": "stream",
     "text": [
      "We are learning While Loop\n",
      "Python and Data Science\n",
      "\n",
      "We are learning While Loop\n",
      "Python and Data Science\n",
      "\n",
      "We are learning While Loop\n",
      "Python and Data Science\n",
      "\n",
      "We are learning While Loop\n",
      "Python and Data Science\n",
      "\n"
     ]
    }
   ],
   "source": [
    "i = 1\n",
    "while i < 5:\n",
    "    print('We are learning While Loop')\n",
    "    print(\"Python and Data Science\")\n",
    "    print()\n",
    "    i = i + 1"
   ]
  },
  {
   "cell_type": "code",
   "execution_count": 17,
   "id": "martial-nevada",
   "metadata": {},
   "outputs": [
    {
     "name": "stdout",
     "output_type": "stream",
     "text": [
      "p\n",
      "y\n",
      "t\n",
      "h\n",
      "o\n",
      "n\n"
     ]
    }
   ],
   "source": [
    "string = 'python'\n",
    "for char in string:\n",
    "    print(char)"
   ]
  },
  {
   "cell_type": "code",
   "execution_count": 19,
   "id": "verbal-surgeon",
   "metadata": {},
   "outputs": [
    {
     "name": "stdout",
     "output_type": "stream",
     "text": [
      "Character at index 0 is p\n",
      "Character at index 1 is y\n",
      "Character at index 2 is t\n",
      "Character at index 3 is h\n",
      "Character at index 4 is o\n",
      "Character at index 5 is n\n"
     ]
    }
   ],
   "source": [
    "string = 'python'\n",
    "for index,char in enumerate(string):\n",
    "    print(f\"Character at index {index} is {char}\")"
   ]
  },
  {
   "cell_type": "code",
   "execution_count": 21,
   "id": "located-artwork",
   "metadata": {},
   "outputs": [
    {
     "name": "stdout",
     "output_type": "stream",
     "text": [
      "Character at index 0 is p\n",
      "Character at index 1 is y\n",
      "Character at index 2 is t\n",
      "Character at index 3 is h\n",
      "Character at index 4 is o\n",
      "Character at index 5 is n\n"
     ]
    }
   ],
   "source": [
    "string = 'python'\n",
    "index = 0\n",
    "while index < len(string): # 0 < 6 True\n",
    "    print(f\"Character at index {index} is {string[index]}\")\n",
    "    index += 1"
   ]
  },
  {
   "cell_type": "code",
   "execution_count": 25,
   "id": "eleven-morocco",
   "metadata": {},
   "outputs": [
    {
     "name": "stdout",
     "output_type": "stream",
     "text": [
      "value at index 0 is 4\n",
      "value at index 1 is 5\n",
      "value at index 2 is 6\n",
      "value at index 3 is 7\n",
      "value at index 4 is 10\n",
      "value at index 5 is 20\n",
      "value at index 6 is 30\n"
     ]
    }
   ],
   "source": [
    "list1 = [4,5,6,7,10,20,30]\n",
    "\n",
    "index = 0\n",
    "while index < len(list1): # 0 < 6 True\n",
    "    print(f\"value at index {index} is {list1[index]}\")\n",
    "    index += 1"
   ]
  },
  {
   "cell_type": "code",
   "execution_count": 27,
   "id": "mighty-light",
   "metadata": {},
   "outputs": [
    {
     "name": "stdout",
     "output_type": "stream",
     "text": [
      "value at index 0 is 4\n",
      "value at index 1 is 5\n",
      "value at index 2 is 6\n",
      "value at index 3 is 7\n",
      "value at index 4 is 10\n",
      "value at index 5 is 20\n",
      "value at index 6 is 30\n"
     ]
    }
   ],
   "source": [
    "tuple1 = (4,5,6,7,10,20,30)\n",
    "\n",
    "index = 0\n",
    "while index < len(tuple1): # 0 < 6 True\n",
    "    print(f\"value at index {index} is {tuple1[index]}\")\n",
    "    index += 1 # index = 6"
   ]
  },
  {
   "cell_type": "code",
   "execution_count": 31,
   "id": "therapeutic-missile",
   "metadata": {},
   "outputs": [
    {
     "name": "stdout",
     "output_type": "stream",
     "text": [
      "0\n",
      "2\n",
      "4\n",
      "6\n",
      "8\n",
      "10\n"
     ]
    }
   ],
   "source": [
    "i = 0 \n",
    "while i <= 10: # i = 2 True\n",
    "    print(i) # 2\n",
    "    i += 2   # 4"
   ]
  },
  {
   "cell_type": "code",
   "execution_count": 36,
   "id": "proof-prospect",
   "metadata": {},
   "outputs": [
    {
     "name": "stdout",
     "output_type": "stream",
     "text": [
      "1\n",
      "3\n",
      "5\n",
      "7\n",
      "9\n"
     ]
    }
   ],
   "source": [
    "i = 1\n",
    "n = 10\n",
    "while i <= n: # i = 2 True\n",
    "    print(i) # 1\n",
    "    i += 2   # 3"
   ]
  },
  {
   "cell_type": "code",
   "execution_count": 43,
   "id": "mysterious-healthcare",
   "metadata": {},
   "outputs": [
    {
     "name": "stdout",
     "output_type": "stream",
     "text": [
      "15 * 1 = 15\n",
      "15 * 2 = 30\n",
      "15 * 3 = 45\n",
      "15 * 4 = 60\n",
      "15 * 5 = 75\n",
      "15 * 6 = 90\n",
      "15 * 7 = 105\n",
      "15 * 8 = 120\n",
      "15 * 9 = 135\n",
      "15 * 10 = 150\n"
     ]
    }
   ],
   "source": [
    "i = 1\n",
    "n = 15\n",
    "while i <= 10:\n",
    "    print(f\"{n} * {i} = {i*n}\")\n",
    "    i += 1"
   ]
  },
  {
   "cell_type": "code",
   "execution_count": 45,
   "id": "included-longer",
   "metadata": {},
   "outputs": [
    {
     "name": "stdout",
     "output_type": "stream",
     "text": [
      "25 * 1 = 25\n",
      "25 * 2 = 50\n",
      "25 * 3 = 75\n",
      "25 * 4 = 100\n",
      "25 * 5 = 125\n",
      "25 * 6 = 150\n",
      "25 * 7 = 175\n",
      "25 * 8 = 200\n",
      "25 * 9 = 225\n",
      "25 * 10 = 250\n"
     ]
    }
   ],
   "source": [
    "i = 1\n",
    "n = 25\n",
    "while i <= 10:\n",
    "    print(f\"{n} * {i} = {i*n}\")\n",
    "    i += 1"
   ]
  },
  {
   "cell_type": "code",
   "execution_count": 47,
   "id": "protecting-ladder",
   "metadata": {},
   "outputs": [
    {
     "name": "stdout",
     "output_type": "stream",
     "text": [
      "7 * 1 = 7\n",
      "7 * 2 = 14\n",
      "7 * 3 = 21\n",
      "7 * 4 = 28\n",
      "7 * 5 = 35\n",
      "7 * 6 = 42\n",
      "7 * 7 = 49\n",
      "7 * 8 = 56\n",
      "7 * 9 = 63\n",
      "7 * 10 = 70\n"
     ]
    }
   ],
   "source": [
    "i = 1\n",
    "n = 7\n",
    "while i <= 10:\n",
    "    print(f\"{n} * {i} = {i*n}\")\n",
    "    i += 1"
   ]
  },
  {
   "cell_type": "code",
   "execution_count": 49,
   "id": "blocked-weather",
   "metadata": {},
   "outputs": [
    {
     "data": {
      "text/plain": [
       "[7, 14, 21, 28, 35, 42, 49, 56, 63, 70]"
      ]
     },
     "execution_count": 49,
     "metadata": {},
     "output_type": "execute_result"
    }
   ],
   "source": [
    "i = 1\n",
    "n = 7\n",
    "list1 = []\n",
    "while i <= 10:\n",
    "    list1.append(i*n)\n",
    "    i += 1\n",
    "list1"
   ]
  },
  {
   "cell_type": "code",
   "execution_count": 51,
   "id": "sitting-valentine",
   "metadata": {},
   "outputs": [
    {
     "name": "stdout",
     "output_type": "stream",
     "text": [
      "Addition of first 10 numbers is 55\n"
     ]
    }
   ],
   "source": [
    "n = 10\n",
    "i = 1\n",
    "sum1 = 0\n",
    "while i <= 10:\n",
    "    sum1 += i\n",
    "    i += 1\n",
    "print(f\"Addition of first {n} numbers is {sum1}\")"
   ]
  },
  {
   "cell_type": "code",
   "execution_count": 54,
   "id": "lightweight-egyptian",
   "metadata": {},
   "outputs": [
    {
     "name": "stdout",
     "output_type": "stream",
     "text": [
      "Addition of first 20 numbers is 210\n"
     ]
    }
   ],
   "source": [
    "n = 20\n",
    "i = 1\n",
    "sum1 = 0\n",
    "while i <= n:\n",
    "    sum1 += i\n",
    "    i += 1\n",
    "print(f\"Addition of first {n} numbers is {sum1}\")"
   ]
  },
  {
   "cell_type": "code",
   "execution_count": 58,
   "id": "restricted-background",
   "metadata": {},
   "outputs": [
    {
     "name": "stdout",
     "output_type": "stream",
     "text": [
      "multiplication of first 5 numbers is 120\n"
     ]
    }
   ],
   "source": [
    "n = 5\n",
    "i = 1\n",
    "multiplication = 1\n",
    "while i <= n:\n",
    "    multiplication *= i\n",
    "    i += 1\n",
    "print(f\"multiplication of first {n} numbers is {multiplication}\")"
   ]
  },
  {
   "cell_type": "code",
   "execution_count": 60,
   "id": "relative-surprise",
   "metadata": {},
   "outputs": [
    {
     "name": "stdout",
     "output_type": "stream",
     "text": [
      "multiplication of first 6 numbers is 720\n"
     ]
    }
   ],
   "source": [
    "n = 6\n",
    "i = 1\n",
    "multiplication = 1\n",
    "while i <= n:\n",
    "    multiplication *= i\n",
    "    i += 1\n",
    "print(f\"multiplication of first {n} numbers is {multiplication}\")"
   ]
  },
  {
   "cell_type": "markdown",
   "id": "multiple-carrier",
   "metadata": {},
   "source": [
    "# Loop Control Statements"
   ]
  },
  {
   "cell_type": "code",
   "execution_count": null,
   "id": "limiting-installation",
   "metadata": {},
   "outputs": [],
   "source": [
    "1. break\n",
    "2. continue\n",
    "3. pass\n"
   ]
  },
  {
   "cell_type": "markdown",
   "id": "accessory-commerce",
   "metadata": {},
   "source": [
    "### 1. break"
   ]
  },
  {
   "cell_type": "code",
   "execution_count": null,
   "id": "industrial-provider",
   "metadata": {},
   "outputs": [],
   "source": [
    "To terminate while loop"
   ]
  },
  {
   "cell_type": "code",
   "execution_count": 64,
   "id": "brief-reasoning",
   "metadata": {},
   "outputs": [
    {
     "name": "stdout",
     "output_type": "stream",
     "text": [
      "i == 0\n",
      "i == 1\n",
      "i == 2\n",
      "i == 3\n"
     ]
    }
   ],
   "source": [
    "for i in range(5):\n",
    "    print(f'i == {i}')\n",
    "    if i == 3:\n",
    "        break"
   ]
  },
  {
   "cell_type": "code",
   "execution_count": 67,
   "id": "dutch-clerk",
   "metadata": {},
   "outputs": [
    {
     "name": "stdout",
     "output_type": "stream",
     "text": [
      "i == 0\n",
      "i == 1\n",
      "i == 2\n",
      "i == 3\n"
     ]
    }
   ],
   "source": [
    "i = 0\n",
    "while i < 5:\n",
    "    print(f'i == {i}')\n",
    "    if i == 3:\n",
    "        break\n",
    "    i += 1"
   ]
  },
  {
   "cell_type": "code",
   "execution_count": 69,
   "id": "constant-productivity",
   "metadata": {},
   "outputs": [
    {
     "name": "stdout",
     "output_type": "stream",
     "text": [
      "i == 10\n",
      "i == 11\n",
      "i == 12\n",
      "i == 13\n",
      "i == 14\n",
      "i == 15\n",
      "i == 16\n",
      "i == 17\n",
      "i == 18\n",
      "i == 19\n",
      "i == 20\n"
     ]
    }
   ],
   "source": [
    "i = 10\n",
    "while i <= 20:\n",
    "    print(f'i == {i}')\n",
    "    if i == 3:\n",
    "        break\n",
    "    i += 1"
   ]
  },
  {
   "cell_type": "code",
   "execution_count": 72,
   "id": "veterinary-february",
   "metadata": {},
   "outputs": [
    {
     "name": "stdout",
     "output_type": "stream",
     "text": [
      "7 * 1 = 7\n",
      "7 * 2 = 14\n",
      "7 * 3 = 21\n",
      "7 * 4 = 28\n",
      "7 * 5 = 35\n"
     ]
    }
   ],
   "source": [
    "i = 1\n",
    "n = 7\n",
    "while i <= 10:\n",
    "    print(f\"{n} * {i} = {i*n}\")\n",
    "    if i == 5:\n",
    "        break\n",
    "    i += 1"
   ]
  },
  {
   "cell_type": "markdown",
   "id": "amateur-conversation",
   "metadata": {},
   "source": [
    "### 2. continue"
   ]
  },
  {
   "cell_type": "code",
   "execution_count": 76,
   "id": "transsexual-supervisor",
   "metadata": {},
   "outputs": [
    {
     "name": "stdout",
     "output_type": "stream",
     "text": [
      "i == 1\n",
      "i == 2\n",
      "i == 3\n",
      "i == 4\n",
      "i == 5\n",
      "Hello\n",
      "Python\n",
      "i == 6\n",
      "i == 7\n",
      "i == 8\n",
      "i == 9\n"
     ]
    }
   ],
   "source": [
    "i = 1\n",
    "while i < 10: # 1 <= 10 True\n",
    "    print(f'i == {i}') # 5\n",
    "    \n",
    "    if i == 5:     # True\n",
    "        print(\"Hello\")\n",
    "        print(\"Python\")\n",
    "    i += 1          # 5"
   ]
  },
  {
   "cell_type": "code",
   "execution_count": 79,
   "id": "stone-intellectual",
   "metadata": {},
   "outputs": [
    {
     "name": "stdout",
     "output_type": "stream",
     "text": [
      "i == 1\n",
      "i == 2\n",
      "i == 3\n",
      "i == 4\n",
      "Hello\n",
      "Python\n",
      "i == 5\n",
      "i == 6\n",
      "i == 7\n",
      "i == 8\n",
      "i == 9\n"
     ]
    }
   ],
   "source": [
    "i = 1\n",
    "while i < 10: \n",
    "    print(f'i == {i}') \n",
    "    i += 1        \n",
    "    if i == 5:     \n",
    "        print(\"Hello\")\n",
    "        print(\"Python\")"
   ]
  },
  {
   "cell_type": "code",
   "execution_count": 81,
   "id": "isolated-robertson",
   "metadata": {},
   "outputs": [
    {
     "name": "stdout",
     "output_type": "stream",
     "text": [
      "i == 1\n",
      "i == 2\n",
      "i == 3\n",
      "i == 4\n",
      "Hello\n",
      "Python\n",
      "i == 5\n",
      "i == 6\n",
      "i == 7\n",
      "i == 8\n",
      "i == 9\n"
     ]
    }
   ],
   "source": [
    "i = 1\n",
    "while i < 10: \n",
    "    print(f'i == {i}') \n",
    "    i += 1        \n",
    "    if i == 5:     \n",
    "        print(\"Hello\")\n",
    "        print(\"Python\")\n",
    "        continue"
   ]
  },
  {
   "cell_type": "code",
   "execution_count": 84,
   "id": "automatic-silicon",
   "metadata": {},
   "outputs": [
    {
     "name": "stdout",
     "output_type": "stream",
     "text": [
      "i == 1\n",
      "********************\n",
      "i == 2\n",
      "********************\n",
      "i == 3\n",
      "********************\n",
      "i == 4\n",
      "Hello\n",
      "i == 5\n",
      "********************\n",
      "i == 6\n",
      "********************\n",
      "i == 7\n",
      "********************\n",
      "i == 8\n",
      "********************\n",
      "i == 9\n",
      "********************\n"
     ]
    }
   ],
   "source": [
    "i = 1\n",
    "while i < 10: # 5<=10\n",
    "    print(f'i == {i}')  # i = 5\n",
    "    i += 1     # i = 6\n",
    "    if i == 5:    # False  \n",
    "        print(\"Hello\")\n",
    "        continue\n",
    "        print(\"Python\")\n",
    "    print(\"*\"*20)"
   ]
  },
  {
   "cell_type": "code",
   "execution_count": 86,
   "id": "medium-judges",
   "metadata": {},
   "outputs": [
    {
     "name": "stdout",
     "output_type": "stream",
     "text": [
      "i == 1\n",
      "********************\n",
      "i == 2\n",
      "********************\n",
      "i == 3\n",
      "********************\n",
      "i == 4\n",
      "Hello\n",
      "Python\n",
      "i == 5\n",
      "********************\n",
      "i == 6\n",
      "********************\n",
      "i == 7\n",
      "********************\n",
      "i == 8\n",
      "********************\n",
      "i == 9\n",
      "********************\n"
     ]
    }
   ],
   "source": [
    "i = 1\n",
    "while i < 10: # 5<=10\n",
    "    print(f'i == {i}')  # i = 5\n",
    "    i += 1     # i = 6\n",
    "    if i == 5:    # False  \n",
    "        print(\"Hello\")\n",
    "        print(\"Python\")\n",
    "        continue\n",
    "    print(\"*\"*20)"
   ]
  },
  {
   "cell_type": "code",
   "execution_count": 89,
   "id": "intended-ghana",
   "metadata": {},
   "outputs": [
    {
     "name": "stdout",
     "output_type": "stream",
     "text": [
      "i == 1\n",
      "********************\n",
      "i == 2\n",
      "********************\n",
      "i == 3\n",
      "********************\n",
      "i == 4\n",
      "Hello\n",
      "Python\n",
      "i == 5\n",
      "********************\n",
      "i == 6\n",
      "********************\n",
      "i == 7\n",
      "********************\n",
      "i == 8\n",
      "********************\n",
      "i == 9\n",
      "********************\n",
      "i == 10\n",
      "********************\n"
     ]
    }
   ],
   "source": [
    "i = 1\n",
    "while i <= 10: # i = 5\n",
    "    print(f'i == {i}') \n",
    "    i += 1 \n",
    "    if i == 5:   # True 5 == 5\n",
    "        print(\"Hello\")\n",
    "        print(\"Python\")\n",
    "        continue\n",
    "    print(\"*\"*20)"
   ]
  },
  {
   "cell_type": "markdown",
   "id": "laden-yorkshire",
   "metadata": {},
   "source": [
    "### 3. pass "
   ]
  },
  {
   "cell_type": "code",
   "execution_count": 91,
   "id": "dense-siemens",
   "metadata": {},
   "outputs": [
    {
     "name": "stdout",
     "output_type": "stream",
     "text": [
      "i == 1\n",
      "********************\n",
      "i == 2\n",
      "********************\n",
      "i == 3\n",
      "********************\n",
      "i == 4\n",
      "Hello\n",
      "Python\n",
      "********************\n",
      "i == 5\n",
      "********************\n",
      "i == 6\n",
      "********************\n",
      "i == 7\n",
      "********************\n",
      "i == 8\n",
      "********************\n",
      "i == 9\n",
      "********************\n",
      "i == 10\n",
      "********************\n"
     ]
    }
   ],
   "source": [
    "i = 1\n",
    "while i <= 10: # i = 5\n",
    "    print(f'i == {i}') \n",
    "    i += 1 \n",
    "    if i == 5:   # True 5 == 5\n",
    "        print(\"Hello\")\n",
    "        print(\"Python\")\n",
    "        pass\n",
    "    print(\"*\"*20)"
   ]
  },
  {
   "cell_type": "code",
   "execution_count": 92,
   "id": "cellular-above",
   "metadata": {},
   "outputs": [
    {
     "name": "stdout",
     "output_type": "stream",
     "text": [
      "i == 1\n",
      "********************\n",
      "i == 2\n",
      "********************\n",
      "i == 3\n",
      "********************\n",
      "i == 4\n",
      "Hello\n",
      "Python\n",
      "********************\n",
      "i == 5\n",
      "********************\n",
      "i == 6\n",
      "********************\n",
      "i == 7\n",
      "********************\n",
      "i == 8\n",
      "********************\n",
      "i == 9\n",
      "********************\n",
      "i == 10\n",
      "********************\n"
     ]
    }
   ],
   "source": [
    "i = 1\n",
    "while i <= 10: # i = 5\n",
    "    print(f'i == {i}') \n",
    "    i += 1 \n",
    "    if i == 5:   # True 5 == 5\n",
    "        print(\"Hello\")\n",
    "        print(\"Python\")\n",
    "        pass\n",
    "    print(\"*\"*20)"
   ]
  },
  {
   "cell_type": "markdown",
   "id": "subtle-hypothesis",
   "metadata": {},
   "source": [
    "# while-else"
   ]
  },
  {
   "cell_type": "code",
   "execution_count": 96,
   "id": "geological-agreement",
   "metadata": {},
   "outputs": [
    {
     "name": "stdout",
     "output_type": "stream",
     "text": [
      "i == 0\n",
      "i == 1\n",
      "i == 2\n",
      "i == 3\n",
      "i == 4\n",
      "Loop Completed\n"
     ]
    }
   ],
   "source": [
    "for i in range(5):\n",
    "    print(f\"i == {i}\")\n",
    "    \n",
    "else:\n",
    "    print(\"Loop Completed\")"
   ]
  },
  {
   "cell_type": "code",
   "execution_count": 98,
   "id": "preliminary-olive",
   "metadata": {},
   "outputs": [
    {
     "name": "stdout",
     "output_type": "stream",
     "text": [
      "i == 0\n",
      "i == 1\n",
      "i == 2\n",
      "i == 3\n"
     ]
    }
   ],
   "source": [
    "for i in range(5):\n",
    "    print(f\"i == {i}\")\n",
    "    if i ==3 :\n",
    "        break\n",
    "else:\n",
    "    print(\"Loop Completed\")"
   ]
  },
  {
   "cell_type": "code",
   "execution_count": 103,
   "id": "revolutionary-democrat",
   "metadata": {},
   "outputs": [
    {
     "name": "stdout",
     "output_type": "stream",
     "text": [
      "i == 1\n",
      "********************\n",
      "i == 2\n",
      "********************\n",
      "i == 3\n",
      "********************\n",
      "i == 4\n",
      "********************\n",
      "i == 5\n",
      "********************\n",
      "Loop Completed\n"
     ]
    }
   ],
   "source": [
    "i = 1\n",
    "while i <= 5: # 6<= 5 False\n",
    "    print(f'i == {i}') \n",
    "    i += 1         # i = 6\n",
    "    print(\"*\"*20)\n",
    "    \n",
    "else:\n",
    "    print('Loop Completed')"
   ]
  },
  {
   "cell_type": "code",
   "execution_count": 104,
   "id": "insured-turner",
   "metadata": {},
   "outputs": [
    {
     "name": "stdout",
     "output_type": "stream",
     "text": [
      "i == 1\n",
      "********************\n",
      "i == 2\n",
      "********************\n"
     ]
    }
   ],
   "source": [
    "i = 1\n",
    "while i <= 5: # i = 2 # True\n",
    "    print(f'i == {i}') \n",
    "    i += 1         # 3\n",
    "    print(\"*\"*20)\n",
    "    if i == 3: # 3 == 3\n",
    "        break\n",
    "        \n",
    "else:\n",
    "    print('Loop Completed')"
   ]
  },
  {
   "cell_type": "code",
   "execution_count": 110,
   "id": "linear-spring",
   "metadata": {},
   "outputs": [
    {
     "name": "stdout",
     "output_type": "stream",
     "text": [
      "Number is 0\n",
      "Hello Python\n",
      "Hello Python\n",
      "Hello Python\n",
      "********************************************************************************\n",
      "Number is 1\n",
      "Hello Python\n",
      "Hello Python\n",
      "Hello Python\n",
      "********************************************************************************\n",
      "Number is 2\n",
      "Hello Python\n",
      "Hello Python\n",
      "Hello Python\n",
      "********************************************************************************\n",
      "Number is 3\n",
      "Hello Python\n",
      "Hello Python\n",
      "Hello Python\n",
      "********************************************************************************\n",
      "Number is 4\n",
      "Hello Python\n",
      "Hello Python\n",
      "Hello Python\n",
      "********************************************************************************\n"
     ]
    }
   ],
   "source": [
    "i = 0\n",
    "n = 5\n",
    "while i<n: # i = 1\n",
    "    print(f\"Number is {i}\")\n",
    "    i += 1 # i = 2\n",
    "    \n",
    "    j = 0  # j = 0\n",
    "    while j < 3: # j = 3\n",
    "        print(\"Hello Python\")\n",
    "        j += 1\n",
    "    print(\"*\"*80)"
   ]
  },
  {
   "cell_type": "code",
   "execution_count": 112,
   "id": "reliable-morris",
   "metadata": {},
   "outputs": [
    {
     "name": "stdout",
     "output_type": "stream",
     "text": [
      "* * * * * \n",
      "* * * * * \n",
      "* * * * * \n",
      "* * * * * \n",
      "* * * * * \n"
     ]
    }
   ],
   "source": [
    "i = 0\n",
    "n = 5\n",
    "while i<n: \n",
    "    i += 1\n",
    "    \n",
    "    j = 0  \n",
    "    while j < n:\n",
    "        print(\"*\",end = ' ')\n",
    "        j += 1\n",
    "    print()"
   ]
  },
  {
   "cell_type": "code",
   "execution_count": 113,
   "id": "numeric-reasoning",
   "metadata": {},
   "outputs": [
    {
     "name": "stdout",
     "output_type": "stream",
     "text": [
      "* \n",
      "* * \n",
      "* * * \n",
      "* * * * \n",
      "* * * * * \n"
     ]
    }
   ],
   "source": [
    "i = 0\n",
    "n = 5\n",
    "while i<n: \n",
    "    i += 1\n",
    "    j = 0  \n",
    "    while j < i:\n",
    "        print(\"*\",end = ' ')\n",
    "        j += 1\n",
    "    print()"
   ]
  }
 ],
 "metadata": {
  "kernelspec": {
   "display_name": "Python 3",
   "language": "python",
   "name": "python3"
  },
  "language_info": {
   "codemirror_mode": {
    "name": "ipython",
    "version": 3
   },
   "file_extension": ".py",
   "mimetype": "text/x-python",
   "name": "python",
   "nbconvert_exporter": "python",
   "pygments_lexer": "ipython3",
   "version": "3.8.7"
  }
 },
 "nbformat": 4,
 "nbformat_minor": 5
}
