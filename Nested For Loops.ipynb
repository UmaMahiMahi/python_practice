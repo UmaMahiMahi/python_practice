{
 "cells": [
  {
   "cell_type": "markdown",
   "id": "certified-comedy",
   "metadata": {},
   "source": [
    "# Nested For Loops"
   ]
  },
  {
   "cell_type": "code",
   "execution_count": null,
   "id": "representative-street",
   "metadata": {},
   "outputs": [],
   "source": [
    "for loop inside the for loop"
   ]
  },
  {
   "cell_type": "markdown",
   "id": "technological-court",
   "metadata": {},
   "source": [
    "#### Syntax"
   ]
  },
  {
   "cell_type": "code",
   "execution_count": null,
   "id": "optical-tuning",
   "metadata": {},
   "outputs": [],
   "source": [
    "for variable1 in sequence1:\n",
    "    statement1\n",
    "    statement2\n",
    "    statement3\n",
    "    \n",
    "    for variable2 in sequence2:\n",
    "        statement4\n",
    "        statement5\n",
    "        statement6"
   ]
  },
  {
   "cell_type": "code",
   "execution_count": null,
   "id": "pacific-front",
   "metadata": {},
   "outputs": [],
   "source": []
  },
  {
   "cell_type": "code",
   "execution_count": null,
   "id": "satisfactory-steps",
   "metadata": {},
   "outputs": [],
   "source": []
  },
  {
   "cell_type": "code",
   "execution_count": 2,
   "id": "adjusted-entrepreneur",
   "metadata": {},
   "outputs": [
    {
     "name": "stdout",
     "output_type": "stream",
     "text": [
      "0\n",
      "1\n",
      "2\n",
      "3\n",
      "4\n"
     ]
    }
   ],
   "source": [
    "for i in range(5):\n",
    "    print(i)"
   ]
  },
  {
   "cell_type": "code",
   "execution_count": 3,
   "id": "optimum-capability",
   "metadata": {},
   "outputs": [
    {
     "name": "stdout",
     "output_type": "stream",
     "text": [
      "5\n",
      "6\n",
      "7\n",
      "8\n",
      "9\n",
      "10\n",
      "11\n",
      "12\n",
      "13\n",
      "14\n"
     ]
    }
   ],
   "source": [
    "for i in range(5,15):\n",
    "    print(i)"
   ]
  },
  {
   "cell_type": "code",
   "execution_count": 10,
   "id": "daily-rhythm",
   "metadata": {},
   "outputs": [
    {
     "name": "stdout",
     "output_type": "stream",
     "text": [
      "We are in main for loop : 0\n",
      "we are in second for loop\n",
      "we are in second for loop\n",
      "we are in second for loop\n",
      "********************************************************************************\n",
      "We are in main for loop : 1\n",
      "we are in second for loop\n",
      "we are in second for loop\n",
      "we are in second for loop\n",
      "********************************************************************************\n",
      "We are in main for loop : 2\n",
      "we are in second for loop\n",
      "we are in second for loop\n",
      "we are in second for loop\n",
      "********************************************************************************\n",
      "We are in main for loop : 3\n",
      "we are in second for loop\n",
      "we are in second for loop\n",
      "we are in second for loop\n",
      "********************************************************************************\n",
      "We are in main for loop : 4\n",
      "we are in second for loop\n",
      "we are in second for loop\n",
      "we are in second for loop\n",
      "********************************************************************************\n"
     ]
    }
   ],
   "source": [
    "for i in range(5): # i = 1\n",
    "    print('We are in main for loop :',i)\n",
    "    for k in range(3): # 3 times\n",
    "        print(\"we are in second for loop\")\n",
    "    \n",
    "    print(\"*\"*80)"
   ]
  },
  {
   "cell_type": "code",
   "execution_count": 12,
   "id": "approved-vietnam",
   "metadata": {},
   "outputs": [
    {
     "name": "stdout",
     "output_type": "stream",
     "text": [
      "We are in main for loop : 0\n",
      "we are in second for loop\n",
      "Hello\n",
      "we are in second for loop\n",
      "Hello\n",
      "we are in second for loop\n",
      "Hello\n",
      "********************************************************************************\n",
      "We are in main for loop : 1\n",
      "we are in second for loop\n",
      "Hello\n",
      "we are in second for loop\n",
      "Hello\n",
      "we are in second for loop\n",
      "Hello\n",
      "********************************************************************************\n",
      "We are in main for loop : 2\n",
      "we are in second for loop\n",
      "Hello\n",
      "we are in second for loop\n",
      "Hello\n",
      "we are in second for loop\n",
      "Hello\n",
      "********************************************************************************\n",
      "We are in main for loop : 3\n",
      "we are in second for loop\n",
      "Hello\n",
      "we are in second for loop\n",
      "Hello\n",
      "we are in second for loop\n",
      "Hello\n",
      "********************************************************************************\n",
      "We are in main for loop : 4\n",
      "we are in second for loop\n",
      "Hello\n",
      "we are in second for loop\n",
      "Hello\n",
      "we are in second for loop\n",
      "Hello\n",
      "********************************************************************************\n"
     ]
    }
   ],
   "source": [
    "for i in range(5): # i = 0\n",
    "    print('We are in main for loop :',i)\n",
    "    for k in range(3): # 3 times\n",
    "        print(\"we are in second for loop\")\n",
    "        print(\"Hello\")\n",
    "    \n",
    "    print(\"*\"*80)"
   ]
  },
  {
   "cell_type": "code",
   "execution_count": 15,
   "id": "reduced-speaking",
   "metadata": {},
   "outputs": [
    {
     "name": "stdout",
     "output_type": "stream",
     "text": [
      "We are in main for loop : 0\n",
      "we are in second for loop\n",
      "Hello\n",
      "Hello\n",
      "we are in second for loop\n",
      "Hello\n",
      "Hello\n",
      "we are in second for loop\n",
      "Hello\n",
      "Hello\n",
      "********************************************************************************\n",
      "We are in main for loop : 1\n",
      "we are in second for loop\n",
      "Hello\n",
      "Hello\n",
      "we are in second for loop\n",
      "Hello\n",
      "Hello\n",
      "we are in second for loop\n",
      "Hello\n",
      "Hello\n",
      "********************************************************************************\n",
      "We are in main for loop : 2\n",
      "we are in second for loop\n",
      "Hello\n",
      "Hello\n",
      "we are in second for loop\n",
      "Hello\n",
      "Hello\n",
      "we are in second for loop\n",
      "Hello\n",
      "Hello\n",
      "********************************************************************************\n",
      "We are in main for loop : 3\n",
      "we are in second for loop\n",
      "Hello\n",
      "Hello\n",
      "we are in second for loop\n",
      "Hello\n",
      "Hello\n",
      "we are in second for loop\n",
      "Hello\n",
      "Hello\n",
      "********************************************************************************\n"
     ]
    }
   ],
   "source": [
    "for i in range(4): # i = 0\n",
    "    print('We are in main for loop :',i)\n",
    "    for j in range(3): # j = 1\n",
    "        print(\"we are in second for loop\")\n",
    "        for k in range(2): # times\n",
    "            print(\"Hello\")\n",
    "    \n",
    "    print(\"*\"*80)"
   ]
  },
  {
   "cell_type": "code",
   "execution_count": 18,
   "id": "executed-amount",
   "metadata": {},
   "outputs": [
    {
     "name": "stdout",
     "output_type": "stream",
     "text": [
      "Character is : p\n",
      "Python and Data Science\n",
      "Python and Data Science\n",
      "Python and Data Science\n",
      "**********************************************************************\n",
      "Character is : y\n",
      "Python and Data Science\n",
      "Python and Data Science\n",
      "Python and Data Science\n",
      "**********************************************************************\n",
      "Character is : t\n",
      "Python and Data Science\n",
      "Python and Data Science\n",
      "Python and Data Science\n",
      "**********************************************************************\n",
      "Character is : h\n",
      "Python and Data Science\n",
      "Python and Data Science\n",
      "Python and Data Science\n",
      "**********************************************************************\n",
      "Character is : o\n",
      "Python and Data Science\n",
      "Python and Data Science\n",
      "Python and Data Science\n",
      "**********************************************************************\n",
      "Character is : n\n",
      "Python and Data Science\n",
      "Python and Data Science\n",
      "Python and Data Science\n",
      "**********************************************************************\n"
     ]
    }
   ],
   "source": [
    "for char in 'python':\n",
    "    print('Character is :',char)\n",
    "    for i in range(3):\n",
    "        print(\"Python and Data Science\")\n",
    "    print(\"*\"*70)"
   ]
  },
  {
   "cell_type": "code",
   "execution_count": 20,
   "id": "cardiovascular-billy",
   "metadata": {},
   "outputs": [
    {
     "name": "stdout",
     "output_type": "stream",
     "text": [
      "Character is : p\n",
      "Python and Data Science\n",
      "Python and Data Science\n",
      "Python and Data Science\n",
      "\n",
      "Character is : y\n",
      "Python and Data Science\n",
      "Python and Data Science\n",
      "Python and Data Science\n",
      "\n",
      "Character is : t\n",
      "Python and Data Science\n",
      "Python and Data Science\n",
      "Python and Data Science\n",
      "\n",
      "Character is : h\n",
      "Python and Data Science\n",
      "Python and Data Science\n",
      "Python and Data Science\n",
      "\n",
      "Character is : o\n",
      "Python and Data Science\n",
      "Python and Data Science\n",
      "Python and Data Science\n",
      "\n",
      "Character is : n\n",
      "Python and Data Science\n",
      "Python and Data Science\n",
      "Python and Data Science\n",
      "\n"
     ]
    }
   ],
   "source": [
    "for char in 'python':\n",
    "    print('Character is :',char) # p\n",
    "    for i in range(3):\n",
    "        print(\"Python and Data Science\") # 3 times\n",
    "    print(end = '\\n')"
   ]
  },
  {
   "cell_type": "code",
   "execution_count": 22,
   "id": "august-toddler",
   "metadata": {},
   "outputs": [
    {
     "name": "stdout",
     "output_type": "stream",
     "text": [
      "Character is : p\n",
      "Python and Data Science\n",
      "Python and Data Science\n",
      "Python and Data Science\n",
      "\n",
      "Character is : y\n",
      "Python and Data Science\n",
      "Python and Data Science\n",
      "Python and Data Science\n",
      "\n",
      "Character is : t\n",
      "Python and Data Science\n",
      "Python and Data Science\n",
      "Python and Data Science\n",
      "\n",
      "Character is : h\n",
      "Python and Data Science\n",
      "Python and Data Science\n",
      "Python and Data Science\n",
      "\n",
      "Character is : o\n",
      "Python and Data Science\n",
      "Python and Data Science\n",
      "Python and Data Science\n",
      "\n",
      "Character is : n\n",
      "Python and Data Science\n",
      "Python and Data Science\n",
      "Python and Data Science\n",
      "\n"
     ]
    }
   ],
   "source": [
    "for char in 'python':\n",
    "    print('Character is :',char) # p\n",
    "    for i in range(3):\n",
    "        print(\"Python and Data Science\") # 3 times\n",
    "    print()"
   ]
  },
  {
   "cell_type": "code",
   "execution_count": 25,
   "id": "vital-makeup",
   "metadata": {},
   "outputs": [
    {
     "name": "stdout",
     "output_type": "stream",
     "text": [
      "Number is : 0\n",
      "********\n",
      "********\n",
      "********\n",
      "\n",
      "Number is : 1\n",
      "********\n",
      "********\n",
      "********\n",
      "\n",
      "Number is : 2\n",
      "********\n",
      "********\n",
      "********\n",
      "\n",
      "Number is : 3\n",
      "********\n",
      "********\n",
      "********\n",
      "\n"
     ]
    }
   ],
   "source": [
    "for i in range(4):\n",
    "    print('Number is :',i)\n",
    "    for j in range(3):\n",
    "        print(\"********\")\n",
    "    print()"
   ]
  },
  {
   "cell_type": "code",
   "execution_count": 28,
   "id": "photographic-third",
   "metadata": {},
   "outputs": [
    {
     "name": "stdout",
     "output_type": "stream",
     "text": [
      "********\n",
      "********\n",
      "********\n",
      "\n",
      "********\n",
      "********\n",
      "********\n",
      "\n",
      "********\n",
      "********\n",
      "********\n",
      "\n",
      "********\n",
      "********\n",
      "********\n",
      "\n"
     ]
    }
   ],
   "source": [
    "for i in range(4):\n",
    "    for j in range(3):\n",
    "        print(\"********\")\n",
    "    print()"
   ]
  },
  {
   "cell_type": "code",
   "execution_count": 32,
   "id": "changing-message",
   "metadata": {},
   "outputs": [
    {
     "name": "stdout",
     "output_type": "stream",
     "text": [
      "python\n",
      "python\n",
      "python\n",
      "\n",
      "python\n",
      "python\n",
      "python\n",
      "\n",
      "python\n",
      "python\n",
      "python\n",
      "\n",
      "python\n",
      "python\n",
      "python\n",
      "\n"
     ]
    }
   ],
   "source": [
    "for i in range(4):\n",
    "    for j in range(3):\n",
    "        print(\"python\",end = '\\n')\n",
    "    print()"
   ]
  },
  {
   "cell_type": "code",
   "execution_count": 36,
   "id": "inner-metropolitan",
   "metadata": {},
   "outputs": [
    {
     "name": "stdout",
     "output_type": "stream",
     "text": [
      "python python python ++++\n",
      "python python python ++++\n",
      "python python python ++++\n",
      "python python python ++++\n"
     ]
    }
   ],
   "source": [
    "for i in range(4):\n",
    "    for j in range(3):\n",
    "        print(\"python\",end = ' ')\n",
    "    print('++++')"
   ]
  },
  {
   "cell_type": "code",
   "execution_count": 39,
   "id": "hollywood-liberty",
   "metadata": {},
   "outputs": [
    {
     "name": "stdout",
     "output_type": "stream",
     "text": [
      "* * * \n",
      "* * * \n",
      "* * * \n",
      "* * * \n"
     ]
    }
   ],
   "source": [
    "for i in range(4):\n",
    "    for j in range(3):\n",
    "        print(\"*\",end = ' ')\n",
    "    print()"
   ]
  },
  {
   "cell_type": "code",
   "execution_count": 41,
   "id": "restricted-joining",
   "metadata": {},
   "outputs": [
    {
     "name": "stdout",
     "output_type": "stream",
     "text": [
      "* * * * * \n",
      "* * * * * \n",
      "* * * * * \n",
      "* * * * * \n",
      "* * * * * \n"
     ]
    }
   ],
   "source": [
    "for i in range(5):\n",
    "    for j in range(5):\n",
    "        print(\"*\",end = ' ')\n",
    "    print()"
   ]
  },
  {
   "cell_type": "code",
   "execution_count": 43,
   "id": "little-singapore",
   "metadata": {},
   "outputs": [
    {
     "name": "stdout",
     "output_type": "stream",
     "text": [
      "* * * * * \n",
      "* * * * * \n",
      "* * * * * \n",
      "* * * * * \n",
      "* * * * * \n"
     ]
    }
   ],
   "source": [
    "n = 5\n",
    "for i in range(n):\n",
    "    for j in range(n):\n",
    "        print(\"*\",end = ' ')\n",
    "    print()"
   ]
  },
  {
   "cell_type": "code",
   "execution_count": 48,
   "id": "enabling-compromise",
   "metadata": {},
   "outputs": [
    {
     "name": "stdout",
     "output_type": "stream",
     "text": [
      "* \n",
      "* * \n",
      "* * * \n",
      "* * * * \n",
      "* * * * * \n"
     ]
    }
   ],
   "source": [
    "n = 5\n",
    "for i in range(1,n+1): # i = 2\n",
    "    for j in range(i): # 2 times\n",
    "        print(\"*\",end = ' ') # * *\n",
    "    print()"
   ]
  },
  {
   "cell_type": "code",
   "execution_count": 49,
   "id": "jewish-slovenia",
   "metadata": {},
   "outputs": [
    {
     "name": "stdout",
     "output_type": "stream",
     "text": [
      "0\n",
      "1\n"
     ]
    }
   ],
   "source": [
    "for i in range(0,2):\n",
    "    print(i)"
   ]
  },
  {
   "cell_type": "code",
   "execution_count": 51,
   "id": "identical-measurement",
   "metadata": {},
   "outputs": [
    {
     "name": "stdout",
     "output_type": "stream",
     "text": [
      "* \n",
      "* * \n",
      "* * * \n",
      "* * * * \n",
      "* * * * * \n",
      "* * * * * * \n",
      "* * * * * * * \n",
      "* * * * * * * * \n",
      "* * * * * * * * * \n",
      "* * * * * * * * * * \n"
     ]
    }
   ],
   "source": [
    "n = 10\n",
    "for i in range(1,n+1): # i = 2\n",
    "    for j in range(i): # 2 times\n",
    "        print(\"*\",end = ' ') # * *\n",
    "    print()"
   ]
  },
  {
   "cell_type": "code",
   "execution_count": 58,
   "id": "offensive-implementation",
   "metadata": {},
   "outputs": [
    {
     "name": "stdout",
     "output_type": "stream",
     "text": [
      "0\n"
     ]
    }
   ],
   "source": [
    "for j in range(0,1):\n",
    "    print(j)"
   ]
  },
  {
   "cell_type": "code",
   "execution_count": 54,
   "id": "genetic-sympathy",
   "metadata": {},
   "outputs": [
    {
     "name": "stdout",
     "output_type": "stream",
     "text": [
      "1 \n",
      "1 1 \n",
      "1 1 1 \n",
      "1 1 1 1 \n",
      "1 1 1 1 1 \n",
      "1 1 1 1 1 1 \n",
      "1 1 1 1 1 1 1 \n",
      "1 1 1 1 1 1 1 1 \n",
      "1 1 1 1 1 1 1 1 1 \n",
      "1 1 1 1 1 1 1 1 1 1 \n"
     ]
    }
   ],
   "source": [
    "n = 10\n",
    "for i in range(1,n+1): # i = 2\n",
    "    for j in range(i): # 2 times\n",
    "        print(\"1\",end = ' ') # * *\n",
    "    print()"
   ]
  },
  {
   "cell_type": "code",
   "execution_count": 59,
   "id": "rapid-principal",
   "metadata": {},
   "outputs": [
    {
     "name": "stdout",
     "output_type": "stream",
     "text": [
      "0 \n",
      "0 1 \n",
      "0 1 2 \n",
      "0 1 2 3 \n",
      "0 1 2 3 4 \n"
     ]
    }
   ],
   "source": [
    "n = 5\n",
    "for i in range(1,n+1): # i = 3\n",
    "    for j in range(i): # 3 times, j = 0\n",
    "        print(j,end = ' ') # * *\n",
    "    print()"
   ]
  },
  {
   "cell_type": "code",
   "execution_count": 61,
   "id": "allied-calcium",
   "metadata": {},
   "outputs": [
    {
     "name": "stdout",
     "output_type": "stream",
     "text": [
      "1 \n",
      "1 2 \n",
      "1 2 3 \n",
      "1 2 3 4 \n",
      "1 2 3 4 5 \n"
     ]
    }
   ],
   "source": [
    "n = 5\n",
    "for i in range(1,n+1): # i = 3\n",
    "    for j in range(1,i+1): # 3 times, j = 1\n",
    "        print(j,end = ' ') # * *\n",
    "    print()"
   ]
  },
  {
   "cell_type": "code",
   "execution_count": 64,
   "id": "whole-audit",
   "metadata": {},
   "outputs": [
    {
     "name": "stdout",
     "output_type": "stream",
     "text": [
      "1 \n",
      "2 2 \n",
      "3 3 3 \n",
      "4 4 4 4 \n",
      "5 5 5 5 5 \n"
     ]
    }
   ],
   "source": [
    "n = 5\n",
    "for i in range(1,n+1): # i = 3\n",
    "    for j in range(1,i+1): # 3 times, j = 1\n",
    "        print(i,end = ' ') # 3 3 3\n",
    "    print()"
   ]
  },
  {
   "cell_type": "code",
   "execution_count": 67,
   "id": "general-account",
   "metadata": {},
   "outputs": [
    {
     "name": "stdout",
     "output_type": "stream",
     "text": [
      "1 \n",
      "1 1 \n",
      "1 1 1 \n",
      "1 1 1 1 \n",
      "1 1 1 1 1 \n"
     ]
    }
   ],
   "source": [
    "n = 5\n",
    "x = 1\n",
    "for i in range(1,n+1): \n",
    "    for j in range(1,i+1):\n",
    "        print(x,end = ' ') \n",
    "    print()"
   ]
  },
  {
   "cell_type": "code",
   "execution_count": 69,
   "id": "brown-seventh",
   "metadata": {},
   "outputs": [
    {
     "name": "stdout",
     "output_type": "stream",
     "text": [
      "3 \n",
      "3 3 \n",
      "3 3 3 \n",
      "3 3 3 3 \n",
      "3 3 3 3 3 \n"
     ]
    }
   ],
   "source": [
    "n = 5\n",
    "x = 3\n",
    "for i in range(1,n+1): \n",
    "    for j in range(1,i+1):\n",
    "        print(x,end = ' ') \n",
    "    print()"
   ]
  },
  {
   "cell_type": "code",
   "execution_count": 71,
   "id": "american-designer",
   "metadata": {},
   "outputs": [
    {
     "name": "stdout",
     "output_type": "stream",
     "text": [
      "0 \n",
      "0 0 \n",
      "0 0 0 \n",
      "0 0 0 0 \n",
      "0 0 0 0 0 \n"
     ]
    }
   ],
   "source": [
    "n = 5\n",
    "x = 0\n",
    "for i in range(1,n+1): \n",
    "    for j in range(1,i+1):\n",
    "        print(x,end = ' ') \n",
    "    print()"
   ]
  },
  {
   "cell_type": "code",
   "execution_count": 74,
   "id": "leading-czech",
   "metadata": {},
   "outputs": [
    {
     "name": "stdout",
     "output_type": "stream",
     "text": [
      "1 \n",
      "2 3 \n",
      "4 5 6 \n",
      "7 8 9 10 \n",
      "11 12 13 14 15 \n"
     ]
    }
   ],
   "source": [
    "n = 5\n",
    "x = 1\n",
    "for i in range(1,n+1): \n",
    "    for j in range(1,i+1):\n",
    "        print(x,end = ' ') \n",
    "        x += 1\n",
    "    print()"
   ]
  },
  {
   "cell_type": "code",
   "execution_count": 76,
   "id": "established-affect",
   "metadata": {},
   "outputs": [
    {
     "name": "stdout",
     "output_type": "stream",
     "text": [
      "1 2 3 4 5 \n",
      "6 7 8 9 10 \n",
      "11 12 13 14 15 \n",
      "16 17 18 19 20 \n",
      "21 22 23 24 25 \n"
     ]
    }
   ],
   "source": [
    "n = 5\n",
    "x = 1\n",
    "for i in range(1,n+1): \n",
    "    for j in range(1,n+1):\n",
    "        print(x,end = ' ') \n",
    "        x += 1\n",
    "    print()"
   ]
  },
  {
   "cell_type": "code",
   "execution_count": 79,
   "id": "tribal-wales",
   "metadata": {},
   "outputs": [
    {
     "data": {
      "text/plain": [
       "'B'"
      ]
     },
     "execution_count": 79,
     "metadata": {},
     "output_type": "execute_result"
    }
   ],
   "source": [
    "chr(65)\n",
    "chr(66)\n",
    "A >> 65\n",
    "B >> 66\n",
    "C >> 67\n",
    "...\n",
    "Z >> 90\n",
    "\n",
    "a >> 97\n",
    "b >> 98\n",
    "c >> 99\n",
    "...\n",
    "z >> 122"
   ]
  },
  {
   "cell_type": "code",
   "execution_count": null,
   "id": "cathedral-reading",
   "metadata": {},
   "outputs": [],
   "source": [
    "A - Z >>> 65 to 90\n",
    "a - z >>> 97 to 122"
   ]
  },
  {
   "cell_type": "code",
   "execution_count": 81,
   "id": "promising-arizona",
   "metadata": {},
   "outputs": [
    {
     "data": {
      "text/plain": [
       "'z'"
      ]
     },
     "execution_count": 81,
     "metadata": {},
     "output_type": "execute_result"
    }
   ],
   "source": [
    "chr(122)"
   ]
  },
  {
   "cell_type": "code",
   "execution_count": 83,
   "id": "incident-multimedia",
   "metadata": {},
   "outputs": [
    {
     "data": {
      "text/plain": [
       "'o'"
      ]
     },
     "execution_count": 83,
     "metadata": {},
     "output_type": "execute_result"
    }
   ],
   "source": [
    "chr(111)"
   ]
  },
  {
   "cell_type": "code",
   "execution_count": 85,
   "id": "appointed-excellence",
   "metadata": {},
   "outputs": [
    {
     "data": {
      "text/plain": [
       "'T'"
      ]
     },
     "execution_count": 85,
     "metadata": {},
     "output_type": "execute_result"
    }
   ],
   "source": [
    "chr(84)"
   ]
  },
  {
   "cell_type": "code",
   "execution_count": 87,
   "id": "individual-request",
   "metadata": {},
   "outputs": [
    {
     "data": {
      "text/plain": [
       "'['"
      ]
     },
     "execution_count": 87,
     "metadata": {},
     "output_type": "execute_result"
    }
   ],
   "source": [
    "chr(91)"
   ]
  },
  {
   "cell_type": "code",
   "execution_count": 88,
   "id": "criminal-medicine",
   "metadata": {},
   "outputs": [
    {
     "data": {
      "text/plain": [
       "'_'"
      ]
     },
     "execution_count": 88,
     "metadata": {},
     "output_type": "execute_result"
    }
   ],
   "source": [
    "chr(95)"
   ]
  },
  {
   "cell_type": "code",
   "execution_count": 92,
   "id": "typical-tourism",
   "metadata": {},
   "outputs": [
    {
     "name": "stdout",
     "output_type": "stream",
     "text": [
      "A A A A A \n",
      "A A A A A \n",
      "A A A A A \n",
      "A A A A A \n",
      "A A A A A \n"
     ]
    }
   ],
   "source": [
    "n = 5\n",
    "x = 65\n",
    "for i in range(1,n+1): \n",
    "    for j in range(1,n+1):\n",
    "        print(chr(x),end = ' ') \n",
    "    print()"
   ]
  },
  {
   "cell_type": "code",
   "execution_count": 94,
   "id": "functional-valentine",
   "metadata": {},
   "outputs": [
    {
     "name": "stdout",
     "output_type": "stream",
     "text": [
      "A B C D E \n",
      "F G H I J \n",
      "K L M N O \n",
      "P Q R S T \n",
      "U V W X Y \n"
     ]
    }
   ],
   "source": [
    "n = 5\n",
    "x = 65\n",
    "for i in range(1,n+1): \n",
    "    for j in range(1,n+1):\n",
    "        print(chr(x),end = ' ') \n",
    "        x += 1\n",
    "    print()"
   ]
  },
  {
   "cell_type": "code",
   "execution_count": 96,
   "id": "equal-survey",
   "metadata": {},
   "outputs": [
    {
     "name": "stdout",
     "output_type": "stream",
     "text": [
      "A \n",
      "B C \n",
      "D E F \n",
      "G H I J \n",
      "K L M N O \n"
     ]
    }
   ],
   "source": [
    "n = 5\n",
    "x = 65\n",
    "for i in range(1,n+1): \n",
    "    for j in range(1,i+1):\n",
    "        print(chr(x),end = ' ') \n",
    "        x += 1\n",
    "    print()"
   ]
  },
  {
   "cell_type": "code",
   "execution_count": 97,
   "id": "governing-significance",
   "metadata": {},
   "outputs": [
    {
     "name": "stdout",
     "output_type": "stream",
     "text": [
      "A \n",
      "A B \n",
      "A B C \n",
      "A B C D \n",
      "A B C D E \n"
     ]
    }
   ],
   "source": [
    "n = 5\n",
    "for i in range(1,n+1): \n",
    "    x = 65\n",
    "    for j in range(1,i+1):\n",
    "        print(chr(x),end = ' ') \n",
    "        x += 1\n",
    "    print()"
   ]
  }
 ],
 "metadata": {
  "kernelspec": {
   "display_name": "Python 3",
   "language": "python",
   "name": "python3"
  },
  "language_info": {
   "codemirror_mode": {
    "name": "ipython",
    "version": 3
   },
   "file_extension": ".py",
   "mimetype": "text/x-python",
   "name": "python",
   "nbconvert_exporter": "python",
   "pygments_lexer": "ipython3",
   "version": "3.8.7"
  }
 },
 "nbformat": 4,
 "nbformat_minor": 5
}
