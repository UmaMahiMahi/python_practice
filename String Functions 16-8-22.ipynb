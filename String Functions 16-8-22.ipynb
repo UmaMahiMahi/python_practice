{
 "cells": [
  {
   "cell_type": "markdown",
   "id": "suited-employee",
   "metadata": {},
   "source": [
    "# String Functions"
   ]
  },
  {
   "cell_type": "code",
   "execution_count": null,
   "id": "current-incident",
   "metadata": {},
   "outputs": [],
   "source": [
    "\n",
    "String:\n",
    "1. capitalize()\n",
    "2. upper()\n",
    "3. lower()\n",
    "4. casefold()\n",
    "5. title()\n",
    "6. swapcase()\n",
    "7. lstrip()\n",
    "8. rstrip()\n",
    "9. strip()\n",
    "10. replace()\n",
    "\n",
    "Integer:\n",
    "11. count()\n",
    "12. index()\n",
    "13. find() # -1 \n",
    "\n",
    "List:\n",
    "14. split()\n",
    "\n",
    "String:\n",
    "15. join()\n",
    "\n",
    "True/False:\n",
    "16. endswith()\n",
    "17. startswith()\n",
    "18. isalnum()\n",
    "19. isalpha()\n",
    "20. isdecimal()\n",
    "21. isdigit()\n",
    "22. isnumeric()\n",
    "23. islower()\n",
    "24. isupper()\n",
    "25. istitle()\n",
    "26. isspace()\n",
    "\n",
    "String:\n",
    "27. zfill()\n",
    "28. center"
   ]
  },
  {
   "cell_type": "markdown",
   "id": "retained-present",
   "metadata": {},
   "source": [
    "## 18. isalnum()"
   ]
  },
  {
   "cell_type": "code",
   "execution_count": null,
   "id": "starting-picnic",
   "metadata": {},
   "outputs": [],
   "source": [
    "isalnum >> Is Alpha Numeric? >> \n",
    "\n",
    "a-z, A-Z, 0-9\n",
    "Space is not allowed\n",
    "Returns True/False Values"
   ]
  },
  {
   "cell_type": "code",
   "execution_count": 2,
   "id": "annoying-dayton",
   "metadata": {},
   "outputs": [
    {
     "data": {
      "text/plain": [
       "True"
      ]
     },
     "execution_count": 2,
     "metadata": {},
     "output_type": "execute_result"
    }
   ],
   "source": [
    "string = 'Python'\n",
    "string.isalnum()"
   ]
  },
  {
   "cell_type": "code",
   "execution_count": 4,
   "id": "empirical-camping",
   "metadata": {},
   "outputs": [
    {
     "data": {
      "text/plain": [
       "True"
      ]
     },
     "execution_count": 4,
     "metadata": {},
     "output_type": "execute_result"
    }
   ],
   "source": [
    "string = 'Python123'\n",
    "string.isalnum()"
   ]
  },
  {
   "cell_type": "code",
   "execution_count": 6,
   "id": "breathing-screw",
   "metadata": {},
   "outputs": [
    {
     "data": {
      "text/plain": [
       "False"
      ]
     },
     "execution_count": 6,
     "metadata": {},
     "output_type": "execute_result"
    }
   ],
   "source": [
    "string = 'Data Science'\n",
    "string.isalnum()"
   ]
  },
  {
   "cell_type": "code",
   "execution_count": 8,
   "id": "incredible-dryer",
   "metadata": {},
   "outputs": [
    {
     "data": {
      "text/plain": [
       "True"
      ]
     },
     "execution_count": 8,
     "metadata": {},
     "output_type": "execute_result"
    }
   ],
   "source": [
    "string = 'DataScience'\n",
    "string.isalnum()"
   ]
  },
  {
   "cell_type": "code",
   "execution_count": 9,
   "id": "moved-holocaust",
   "metadata": {},
   "outputs": [
    {
     "data": {
      "text/plain": [
       "True"
      ]
     },
     "execution_count": 9,
     "metadata": {},
     "output_type": "execute_result"
    }
   ],
   "source": [
    "string = 'DataScience2022'\n",
    "string.isalnum()"
   ]
  },
  {
   "cell_type": "code",
   "execution_count": 11,
   "id": "injured-incidence",
   "metadata": {},
   "outputs": [
    {
     "data": {
      "text/plain": [
       "False"
      ]
     },
     "execution_count": 11,
     "metadata": {},
     "output_type": "execute_result"
    }
   ],
   "source": [
    "string = 'DataScience-2022'\n",
    "string.isalnum()"
   ]
  },
  {
   "cell_type": "code",
   "execution_count": 13,
   "id": "equivalent-excuse",
   "metadata": {},
   "outputs": [
    {
     "data": {
      "text/plain": [
       "True"
      ]
     },
     "execution_count": 13,
     "metadata": {},
     "output_type": "execute_result"
    }
   ],
   "source": [
    "string = 'python'\n",
    "string.isalnum()"
   ]
  },
  {
   "cell_type": "code",
   "execution_count": 15,
   "id": "historic-parallel",
   "metadata": {},
   "outputs": [
    {
     "data": {
      "text/plain": [
       "True"
      ]
     },
     "execution_count": 15,
     "metadata": {},
     "output_type": "execute_result"
    }
   ],
   "source": [
    "string = 'PYTHON'\n",
    "string.isalnum()"
   ]
  },
  {
   "cell_type": "code",
   "execution_count": 17,
   "id": "fancy-anthony",
   "metadata": {},
   "outputs": [
    {
     "data": {
      "text/plain": [
       "True"
      ]
     },
     "execution_count": 17,
     "metadata": {},
     "output_type": "execute_result"
    }
   ],
   "source": [
    "string = 'Python'\n",
    "string.isalnum()"
   ]
  },
  {
   "cell_type": "code",
   "execution_count": 19,
   "id": "diverse-florist",
   "metadata": {},
   "outputs": [
    {
     "data": {
      "text/plain": [
       "True"
      ]
     },
     "execution_count": 19,
     "metadata": {},
     "output_type": "execute_result"
    }
   ],
   "source": [
    "string = 'Python123'\n",
    "string.isalnum()"
   ]
  },
  {
   "cell_type": "code",
   "execution_count": 20,
   "id": "textile-sport",
   "metadata": {},
   "outputs": [
    {
     "data": {
      "text/plain": [
       "True"
      ]
     },
     "execution_count": 20,
     "metadata": {},
     "output_type": "execute_result"
    }
   ],
   "source": [
    "string = '2345678'\n",
    "string.isalnum()"
   ]
  },
  {
   "cell_type": "markdown",
   "id": "south-phrase",
   "metadata": {},
   "source": [
    "## 19. isalpha"
   ]
  },
  {
   "cell_type": "code",
   "execution_count": null,
   "id": "cosmetic-pierre",
   "metadata": {},
   "outputs": [],
   "source": [
    "isalpha >> a-z A-Z\n",
    "True >> If the string contains only lower case(a-z) and upper(A-Z) case characters\n",
    "Space is not allowed"
   ]
  },
  {
   "cell_type": "code",
   "execution_count": 21,
   "id": "irish-affect",
   "metadata": {},
   "outputs": [
    {
     "data": {
      "text/plain": [
       "True"
      ]
     },
     "execution_count": 21,
     "metadata": {},
     "output_type": "execute_result"
    }
   ],
   "source": [
    "string = 'python'\n",
    "string.isalpha()"
   ]
  },
  {
   "cell_type": "code",
   "execution_count": 23,
   "id": "hearing-encyclopedia",
   "metadata": {},
   "outputs": [
    {
     "data": {
      "text/plain": [
       "True"
      ]
     },
     "execution_count": 23,
     "metadata": {},
     "output_type": "execute_result"
    }
   ],
   "source": [
    "string = 'Python'\n",
    "string.isalpha()"
   ]
  },
  {
   "cell_type": "code",
   "execution_count": 25,
   "id": "environmental-madness",
   "metadata": {},
   "outputs": [
    {
     "data": {
      "text/plain": [
       "False"
      ]
     },
     "execution_count": 25,
     "metadata": {},
     "output_type": "execute_result"
    }
   ],
   "source": [
    "string = 'Python123'\n",
    "string.isalpha()"
   ]
  },
  {
   "cell_type": "code",
   "execution_count": 27,
   "id": "freelance-bouquet",
   "metadata": {},
   "outputs": [
    {
     "data": {
      "text/plain": [
       "True"
      ]
     },
     "execution_count": 27,
     "metadata": {},
     "output_type": "execute_result"
    }
   ],
   "source": [
    "string = 'Data'\n",
    "string.isalpha()"
   ]
  },
  {
   "cell_type": "code",
   "execution_count": 29,
   "id": "atmospheric-dialogue",
   "metadata": {},
   "outputs": [
    {
     "data": {
      "text/plain": [
       "False"
      ]
     },
     "execution_count": 29,
     "metadata": {},
     "output_type": "execute_result"
    }
   ],
   "source": [
    "string = 'Data Science'\n",
    "string.isalpha()"
   ]
  },
  {
   "cell_type": "code",
   "execution_count": 31,
   "id": "pressed-session",
   "metadata": {},
   "outputs": [
    {
     "data": {
      "text/plain": [
       "True"
      ]
     },
     "execution_count": 31,
     "metadata": {},
     "output_type": "execute_result"
    }
   ],
   "source": [
    "string = 'DataScience'\n",
    "string.isalpha()"
   ]
  },
  {
   "cell_type": "code",
   "execution_count": 33,
   "id": "interpreted-schema",
   "metadata": {},
   "outputs": [
    {
     "name": "stdout",
     "output_type": "stream",
     "text": [
      "True\n",
      "True\n"
     ]
    }
   ],
   "source": [
    "string = 'SCIENCE'\n",
    "print(string.isalpha())\n",
    "print(string.isalnum())"
   ]
  },
  {
   "cell_type": "markdown",
   "id": "israeli-palestine",
   "metadata": {},
   "source": [
    "# 20. isdecimal()"
   ]
  },
  {
   "cell_type": "code",
   "execution_count": null,
   "id": "environmental-lesbian",
   "metadata": {},
   "outputs": [],
   "source": [
    "True / False\n",
    "0-9\n",
    "True >> If the string contains only digits and unicode for digits(0-9)\n",
    "0 >> '\\u0030'\n",
    "1 >> '\\u0031'\n",
    "...\n",
    "9 >> '\\u0039'\n",
    "Space not allowed\n",
    "dot is not allowed"
   ]
  },
  {
   "cell_type": "code",
   "execution_count": 36,
   "id": "ultimate-stable",
   "metadata": {},
   "outputs": [
    {
     "data": {
      "text/plain": [
       "True"
      ]
     },
     "execution_count": 36,
     "metadata": {},
     "output_type": "execute_result"
    }
   ],
   "source": [
    "string = '1234'\n",
    "string.isdecimal()"
   ]
  },
  {
   "cell_type": "code",
   "execution_count": 38,
   "id": "scenic-jungle",
   "metadata": {},
   "outputs": [
    {
     "data": {
      "text/plain": [
       "False"
      ]
     },
     "execution_count": 38,
     "metadata": {},
     "output_type": "execute_result"
    }
   ],
   "source": [
    "string = 'Python'\n",
    "string.isdecimal()"
   ]
  },
  {
   "cell_type": "code",
   "execution_count": 40,
   "id": "developmental-metabolism",
   "metadata": {},
   "outputs": [
    {
     "data": {
      "text/plain": [
       "False"
      ]
     },
     "execution_count": 40,
     "metadata": {},
     "output_type": "execute_result"
    }
   ],
   "source": [
    "string = 'Python1234'\n",
    "string.isdecimal()"
   ]
  },
  {
   "cell_type": "code",
   "execution_count": 42,
   "id": "fewer-johns",
   "metadata": {},
   "outputs": [
    {
     "data": {
      "text/plain": [
       "True"
      ]
     },
     "execution_count": 42,
     "metadata": {},
     "output_type": "execute_result"
    }
   ],
   "source": [
    "string = '987654321'\n",
    "string.isdecimal()"
   ]
  },
  {
   "cell_type": "code",
   "execution_count": 43,
   "id": "supposed-weekend",
   "metadata": {},
   "outputs": [
    {
     "data": {
      "text/plain": [
       "False"
      ]
     },
     "execution_count": 43,
     "metadata": {},
     "output_type": "execute_result"
    }
   ],
   "source": [
    "string = '3.14'\n",
    "string.isdecimal()"
   ]
  },
  {
   "cell_type": "code",
   "execution_count": 45,
   "id": "palestinian-concept",
   "metadata": {},
   "outputs": [
    {
     "data": {
      "text/plain": [
       "True"
      ]
     },
     "execution_count": 45,
     "metadata": {},
     "output_type": "execute_result"
    }
   ],
   "source": [
    "string = '000000000'\n",
    "string.isdecimal()"
   ]
  },
  {
   "cell_type": "code",
   "execution_count": 47,
   "id": "occupational-structure",
   "metadata": {},
   "outputs": [
    {
     "data": {
      "text/plain": [
       "False"
      ]
     },
     "execution_count": 47,
     "metadata": {},
     "output_type": "execute_result"
    }
   ],
   "source": [
    "string = '1234 7654 9879'\n",
    "string.isdecimal()"
   ]
  },
  {
   "cell_type": "code",
   "execution_count": 48,
   "id": "level-favor",
   "metadata": {},
   "outputs": [
    {
     "name": "stdout",
     "output_type": "stream",
     "text": [
      "False\n"
     ]
    },
    {
     "data": {
      "text/plain": [
       "True"
      ]
     },
     "execution_count": 48,
     "metadata": {},
     "output_type": "execute_result"
    }
   ],
   "source": [
    "string = '1234 7654 9879'\n",
    "print(string.isdecimal()) # False\n",
    "\n",
    "string = string.replace(' ','')\n",
    "string.isdecimal() # True"
   ]
  },
  {
   "cell_type": "code",
   "execution_count": 50,
   "id": "civil-vermont",
   "metadata": {},
   "outputs": [
    {
     "data": {
      "text/plain": [
       "True"
      ]
     },
     "execution_count": 50,
     "metadata": {},
     "output_type": "execute_result"
    }
   ],
   "source": [
    "string = '\\u0030'\n",
    "string.isdecimal()"
   ]
  },
  {
   "cell_type": "code",
   "execution_count": 52,
   "id": "unlikely-vaccine",
   "metadata": {},
   "outputs": [
    {
     "data": {
      "text/plain": [
       "False"
      ]
     },
     "execution_count": 52,
     "metadata": {},
     "output_type": "execute_result"
    }
   ],
   "source": [
    "string = '\\u0060'\n",
    "string.isdecimal()"
   ]
  },
  {
   "cell_type": "code",
   "execution_count": 54,
   "id": "least-remedy",
   "metadata": {},
   "outputs": [
    {
     "data": {
      "text/plain": [
       "False"
      ]
     },
     "execution_count": 54,
     "metadata": {},
     "output_type": "execute_result"
    }
   ],
   "source": [
    "string = '\\u0090'\n",
    "string.isdecimal()"
   ]
  },
  {
   "cell_type": "code",
   "execution_count": 56,
   "id": "grand-terminal",
   "metadata": {},
   "outputs": [
    {
     "data": {
      "text/plain": [
       "True"
      ]
     },
     "execution_count": 56,
     "metadata": {},
     "output_type": "execute_result"
    }
   ],
   "source": [
    "string = '\\u0033'\n",
    "string.isdecimal()"
   ]
  },
  {
   "cell_type": "code",
   "execution_count": 58,
   "id": "removable-childhood",
   "metadata": {},
   "outputs": [
    {
     "data": {
      "text/plain": [
       "True"
      ]
     },
     "execution_count": 58,
     "metadata": {},
     "output_type": "execute_result"
    }
   ],
   "source": [
    "string = '\\u0039'\n",
    "string.isdecimal()"
   ]
  },
  {
   "cell_type": "code",
   "execution_count": 60,
   "id": "large-textbook",
   "metadata": {},
   "outputs": [
    {
     "data": {
      "text/plain": [
       "False"
      ]
     },
     "execution_count": 60,
     "metadata": {},
     "output_type": "execute_result"
    }
   ],
   "source": [
    "string = '\\u0040'\n",
    "string.isdecimal()"
   ]
  },
  {
   "cell_type": "code",
   "execution_count": 62,
   "id": "limited-little",
   "metadata": {},
   "outputs": [
    {
     "data": {
      "text/plain": [
       "True"
      ]
     },
     "execution_count": 62,
     "metadata": {},
     "output_type": "execute_result"
    }
   ],
   "source": [
    "string = '\\u0030'\n",
    "string.isdecimal()"
   ]
  },
  {
   "cell_type": "code",
   "execution_count": 64,
   "id": "compressed-orange",
   "metadata": {},
   "outputs": [
    {
     "data": {
      "text/plain": [
       "False"
      ]
     },
     "execution_count": 64,
     "metadata": {},
     "output_type": "execute_result"
    }
   ],
   "source": [
    "string = '\\u0029'\n",
    "string.isdecimal()"
   ]
  },
  {
   "cell_type": "markdown",
   "id": "incomplete-friend",
   "metadata": {},
   "source": [
    "# 21. isdigit()"
   ]
  },
  {
   "cell_type": "code",
   "execution_count": null,
   "id": "casual-atlas",
   "metadata": {},
   "outputs": [],
   "source": [
    "True / False\n",
    "True >> If the string contains digits, unicode for digits(0-9), \n",
    "True >> If the string contains subscript and superscript (unicode)\n",
    "\n",
    "0 >> '\\u0030'\n",
    "1 >> '\\u0031'\n",
    "...\n",
    "9 >> '\\u0039'\n",
    "Space not allowed\n",
    "dot is not allowed"
   ]
  },
  {
   "cell_type": "code",
   "execution_count": null,
   "id": "smooth-station",
   "metadata": {},
   "outputs": [],
   "source": [
    "        0\t1\t2\t3\t4\t5\t6\t7\t8\t9\tA\tB\tC\tD\tE\tF\n",
    "U+00Bx\t\t\tx²\tx³\t\t\t\t\t\tx¹\t\t\t\t\t\t\n",
    "U+207x\tx⁰\txⁱ\t\t\tx⁴\tx⁵\tx⁶\tx⁷\tx⁸\tx⁹\tx⁺\tx⁻\tx⁼\tx⁽\tx⁾\txⁿ\n",
    "U+208x\tx₀\tx₁\tx₂\tx₃\tx₄\tx₅\tx₆\tx₇\tx₈\tx₉\tx₊\tx₋\tx₌\tx₍\tx₎\t\n",
    "U+209x\txₐ\txₑ\txₒ\txₓ\txₔ\txₕ\txₖ\txₗ\txₘ\txₙ\txₚ\txₛ\txₜ\t\t\t\n"
   ]
  },
  {
   "cell_type": "code",
   "execution_count": null,
   "id": "optional-refrigerator",
   "metadata": {},
   "outputs": [],
   "source": []
  },
  {
   "cell_type": "code",
   "execution_count": 66,
   "id": "marine-rover",
   "metadata": {},
   "outputs": [
    {
     "data": {
      "text/plain": [
       "False"
      ]
     },
     "execution_count": 66,
     "metadata": {},
     "output_type": "execute_result"
    }
   ],
   "source": [
    "string = 'python'\n",
    "string.isdigit()"
   ]
  },
  {
   "cell_type": "code",
   "execution_count": 68,
   "id": "bacterial-discretion",
   "metadata": {},
   "outputs": [
    {
     "data": {
      "text/plain": [
       "True"
      ]
     },
     "execution_count": 68,
     "metadata": {},
     "output_type": "execute_result"
    }
   ],
   "source": [
    "string = '1234'\n",
    "string.isdigit()"
   ]
  },
  {
   "cell_type": "code",
   "execution_count": 69,
   "id": "conventional-grant",
   "metadata": {},
   "outputs": [
    {
     "data": {
      "text/plain": [
       "False"
      ]
     },
     "execution_count": 69,
     "metadata": {},
     "output_type": "execute_result"
    }
   ],
   "source": [
    "string = '1.234'\n",
    "string.isdigit()"
   ]
  },
  {
   "cell_type": "code",
   "execution_count": 71,
   "id": "attended-florist",
   "metadata": {},
   "outputs": [
    {
     "data": {
      "text/plain": [
       "False"
      ]
     },
     "execution_count": 71,
     "metadata": {},
     "output_type": "execute_result"
    }
   ],
   "source": [
    "string = '12 34'\n",
    "string.isdigit()"
   ]
  },
  {
   "cell_type": "code",
   "execution_count": 73,
   "id": "appreciated-article",
   "metadata": {},
   "outputs": [
    {
     "data": {
      "text/plain": [
       "False"
      ]
     },
     "execution_count": 73,
     "metadata": {},
     "output_type": "execute_result"
    }
   ],
   "source": [
    "string = '1234 '\n",
    "string.isdigit()"
   ]
  },
  {
   "cell_type": "code",
   "execution_count": 75,
   "id": "moderate-clock",
   "metadata": {},
   "outputs": [
    {
     "data": {
      "text/plain": [
       "True"
      ]
     },
     "execution_count": 75,
     "metadata": {},
     "output_type": "execute_result"
    }
   ],
   "source": [
    "string = '\\u0030'\n",
    "string.isdigit()"
   ]
  },
  {
   "cell_type": "code",
   "execution_count": 77,
   "id": "affiliated-plasma",
   "metadata": {},
   "outputs": [
    {
     "data": {
      "text/plain": [
       "False"
      ]
     },
     "execution_count": 77,
     "metadata": {},
     "output_type": "execute_result"
    }
   ],
   "source": [
    "string = '\\u0029'\n",
    "string.isdigit()"
   ]
  },
  {
   "cell_type": "code",
   "execution_count": 79,
   "id": "macro-letter",
   "metadata": {},
   "outputs": [
    {
     "data": {
      "text/plain": [
       "True"
      ]
     },
     "execution_count": 79,
     "metadata": {},
     "output_type": "execute_result"
    }
   ],
   "source": [
    "string = '\\u0035'\n",
    "string.isdigit()"
   ]
  },
  {
   "cell_type": "code",
   "execution_count": 81,
   "id": "qualified-conflict",
   "metadata": {},
   "outputs": [
    {
     "data": {
      "text/plain": [
       "True"
      ]
     },
     "execution_count": 81,
     "metadata": {},
     "output_type": "execute_result"
    }
   ],
   "source": [
    "string = '\\u0039'\n",
    "string.isdigit()"
   ]
  },
  {
   "cell_type": "code",
   "execution_count": 82,
   "id": "surprised-network",
   "metadata": {},
   "outputs": [
    {
     "data": {
      "text/plain": [
       "False"
      ]
     },
     "execution_count": 82,
     "metadata": {},
     "output_type": "execute_result"
    }
   ],
   "source": [
    "string = '\\u0040'\n",
    "string.isdigit()"
   ]
  },
  {
   "cell_type": "code",
   "execution_count": 83,
   "id": "supported-omega",
   "metadata": {},
   "outputs": [
    {
     "data": {
      "text/plain": [
       "True"
      ]
     },
     "execution_count": 83,
     "metadata": {},
     "output_type": "execute_result"
    }
   ],
   "source": [
    "# U+2070\n",
    "string = '\\u2070'\n",
    "string.isdigit()"
   ]
  },
  {
   "cell_type": "code",
   "execution_count": null,
   "id": "illegal-volume",
   "metadata": {},
   "outputs": [],
   "source": [
    "SuperScripts:\n",
    "        0\t1\t2\t3\t4\t5\t6\t7\t8\t9\tA\tB\tC\tD\tE\tF\n",
    "U+00Bx\t\t\tx²\tx³\t\t\t\t\t\tx¹\t\t\t\t\t\t\n",
    "U+207x\tx⁰\txⁱ\t\t\tx⁴\tx⁵\tx⁶\tx⁷\tx⁸\tx⁹\tx⁺\tx⁻\tx⁼\tx⁽\tx⁾\txⁿ\n",
    "\n",
    "\n",
    "Subscripts:\n",
    "        0\t1\t2\t3\t4\t5\t6\t7\t8\t9\tA\tB\tC\tD\tE\tF\n",
    "U+208x\tx₀\tx₁\tx₂\tx₃\tx₄\tx₅\tx₆\tx₇\tx₈\tx₉\tx₊\tx₋\tx₌\tx₍\tx₎\t\n",
    "U+209x\txₐ\txₑ\txₒ\txₓ\txₔ\txₕ\txₖ\txₗ\txₘ\txₙ\txₚ\txₛ\txₜ\t\t\t"
   ]
  },
  {
   "cell_type": "code",
   "execution_count": 85,
   "id": "consistent-winning",
   "metadata": {},
   "outputs": [
    {
     "data": {
      "text/plain": [
       "True"
      ]
     },
     "execution_count": 85,
     "metadata": {},
     "output_type": "execute_result"
    }
   ],
   "source": [
    "# U+2070\n",
    "string = '\\u00B3'\n",
    "string.isdigit()"
   ]
  },
  {
   "cell_type": "code",
   "execution_count": 86,
   "id": "atomic-evolution",
   "metadata": {},
   "outputs": [
    {
     "data": {
      "text/plain": [
       "False"
      ]
     },
     "execution_count": 86,
     "metadata": {},
     "output_type": "execute_result"
    }
   ],
   "source": [
    "# U+2070\n",
    "string = '\\u00B4'\n",
    "string.isdigit()"
   ]
  },
  {
   "cell_type": "code",
   "execution_count": 87,
   "id": "eligible-reserve",
   "metadata": {},
   "outputs": [
    {
     "data": {
      "text/plain": [
       "True"
      ]
     },
     "execution_count": 87,
     "metadata": {},
     "output_type": "execute_result"
    }
   ],
   "source": [
    "\n",
    "string = '\\u2076'\n",
    "string.isdigit()"
   ]
  },
  {
   "cell_type": "code",
   "execution_count": 92,
   "id": "stretch-compensation",
   "metadata": {},
   "outputs": [
    {
     "data": {
      "text/plain": [
       "False"
      ]
     },
     "execution_count": 92,
     "metadata": {},
     "output_type": "execute_result"
    }
   ],
   "source": [
    "string = '\\u207B' # x⁻\n",
    "string.isdigit()"
   ]
  },
  {
   "cell_type": "code",
   "execution_count": 93,
   "id": "instrumental-democrat",
   "metadata": {},
   "outputs": [
    {
     "data": {
      "text/plain": [
       "True"
      ]
     },
     "execution_count": 93,
     "metadata": {},
     "output_type": "execute_result"
    }
   ],
   "source": [
    "string = '\\u2079' # x⁹\n",
    "string.isdigit()"
   ]
  },
  {
   "cell_type": "markdown",
   "id": "english-monthly",
   "metadata": {},
   "source": [
    "# 21. isnumeric()"
   ]
  },
  {
   "cell_type": "code",
   "execution_count": null,
   "id": "resident-rebate",
   "metadata": {},
   "outputs": [],
   "source": [
    "True / False\n",
    "True >> If the string contains digits, unicode for digits(0-9), \n",
    "True >> If the string contains subscript, superscript (unicode), vulgar fraction(1/2)\n",
    "\n",
    "0 >> '\\u0030'\n",
    "1 >> '\\u0031'\n",
    "...\n",
    "9 >> '\\u0039'\n",
    "Space not allowed\n",
    "dot is not allowed"
   ]
  },
  {
   "cell_type": "code",
   "execution_count": 95,
   "id": "equipped-exception",
   "metadata": {},
   "outputs": [
    {
     "data": {
      "text/plain": [
       "False"
      ]
     },
     "execution_count": 95,
     "metadata": {},
     "output_type": "execute_result"
    }
   ],
   "source": [
    "string = 'python'\n",
    "string.isnumeric()"
   ]
  },
  {
   "cell_type": "code",
   "execution_count": 97,
   "id": "white-seeker",
   "metadata": {},
   "outputs": [
    {
     "data": {
      "text/plain": [
       "True"
      ]
     },
     "execution_count": 97,
     "metadata": {},
     "output_type": "execute_result"
    }
   ],
   "source": [
    "string = '234567'\n",
    "string.isnumeric()"
   ]
  },
  {
   "cell_type": "code",
   "execution_count": 99,
   "id": "reserved-monaco",
   "metadata": {},
   "outputs": [
    {
     "data": {
      "text/plain": [
       "False"
      ]
     },
     "execution_count": 99,
     "metadata": {},
     "output_type": "execute_result"
    }
   ],
   "source": [
    "string = '234 567'\n",
    "string.isnumeric()"
   ]
  },
  {
   "cell_type": "code",
   "execution_count": 102,
   "id": "colored-adolescent",
   "metadata": {},
   "outputs": [
    {
     "data": {
      "text/plain": [
       "False"
      ]
     },
     "execution_count": 102,
     "metadata": {},
     "output_type": "execute_result"
    }
   ],
   "source": [
    "string = '234-567'\n",
    "string.isnumeric()"
   ]
  },
  {
   "cell_type": "code",
   "execution_count": 104,
   "id": "cordless-expansion",
   "metadata": {},
   "outputs": [
    {
     "data": {
      "text/plain": [
       "False"
      ]
     },
     "execution_count": 104,
     "metadata": {},
     "output_type": "execute_result"
    }
   ],
   "source": [
    "string = '234.567'\n",
    "string.isnumeric()"
   ]
  },
  {
   "cell_type": "code",
   "execution_count": 106,
   "id": "central-traveler",
   "metadata": {},
   "outputs": [
    {
     "data": {
      "text/plain": [
       "True"
      ]
     },
     "execution_count": 106,
     "metadata": {},
     "output_type": "execute_result"
    }
   ],
   "source": [
    "string = '23567'\n",
    "string.isnumeric()"
   ]
  },
  {
   "cell_type": "code",
   "execution_count": 108,
   "id": "olive-jones",
   "metadata": {},
   "outputs": [
    {
     "data": {
      "text/plain": [
       "False"
      ]
     },
     "execution_count": 108,
     "metadata": {},
     "output_type": "execute_result"
    }
   ],
   "source": [
    "string = '23567a'\n",
    "string.isnumeric()"
   ]
  },
  {
   "cell_type": "code",
   "execution_count": 111,
   "id": "alive-lithuania",
   "metadata": {},
   "outputs": [
    {
     "data": {
      "text/plain": [
       "True"
      ]
     },
     "execution_count": 111,
     "metadata": {},
     "output_type": "execute_result"
    }
   ],
   "source": [
    "string = '\\u0030'\n",
    "string.isnumeric()"
   ]
  },
  {
   "cell_type": "code",
   "execution_count": 113,
   "id": "sufficient-genealogy",
   "metadata": {},
   "outputs": [
    {
     "data": {
      "text/plain": [
       "True"
      ]
     },
     "execution_count": 113,
     "metadata": {},
     "output_type": "execute_result"
    }
   ],
   "source": [
    "string = '\\u0035'\n",
    "string.isnumeric()"
   ]
  },
  {
   "cell_type": "code",
   "execution_count": 115,
   "id": "inclusive-israel",
   "metadata": {},
   "outputs": [
    {
     "data": {
      "text/plain": [
       "True"
      ]
     },
     "execution_count": 115,
     "metadata": {},
     "output_type": "execute_result"
    }
   ],
   "source": [
    "string = '\\u0039'\n",
    "string.isnumeric()"
   ]
  },
  {
   "cell_type": "code",
   "execution_count": 117,
   "id": "graphic-percentage",
   "metadata": {},
   "outputs": [
    {
     "data": {
      "text/plain": [
       "False"
      ]
     },
     "execution_count": 117,
     "metadata": {},
     "output_type": "execute_result"
    }
   ],
   "source": [
    "string = '\\u0040'\n",
    "string.isnumeric()"
   ]
  },
  {
   "cell_type": "code",
   "execution_count": 119,
   "id": "constitutional-catholic",
   "metadata": {},
   "outputs": [
    {
     "data": {
      "text/plain": [
       "True"
      ]
     },
     "execution_count": 119,
     "metadata": {},
     "output_type": "execute_result"
    }
   ],
   "source": [
    "string = '\\u2079'\n",
    "string.isnumeric()"
   ]
  },
  {
   "cell_type": "code",
   "execution_count": 121,
   "id": "retired-makeup",
   "metadata": {},
   "outputs": [
    {
     "data": {
      "text/plain": [
       "True"
      ]
     },
     "execution_count": 121,
     "metadata": {},
     "output_type": "execute_result"
    }
   ],
   "source": [
    "string = '\\u00BD' # ½\n",
    "string.isnumeric()"
   ]
  },
  {
   "cell_type": "code",
   "execution_count": 123,
   "id": "superior-hampshire",
   "metadata": {},
   "outputs": [
    {
     "data": {
      "text/plain": [
       "True"
      ]
     },
     "execution_count": 123,
     "metadata": {},
     "output_type": "execute_result"
    }
   ],
   "source": [
    "string = '\\u00BE' # \n",
    "string.isnumeric()"
   ]
  },
  {
   "cell_type": "code",
   "execution_count": 124,
   "id": "cardiac-revelation",
   "metadata": {},
   "outputs": [
    {
     "data": {
      "text/plain": [
       "False"
      ]
     },
     "execution_count": 124,
     "metadata": {},
     "output_type": "execute_result"
    }
   ],
   "source": [
    "string = '\\u00BE' # \n",
    "string.isdigit()"
   ]
  },
  {
   "cell_type": "code",
   "execution_count": null,
   "id": "daily-sword",
   "metadata": {},
   "outputs": [],
   "source": [
    "isdecimal >> 0-9, unicode(0-9)\n",
    "isdigit   >> 0-9, unicode(0-9), subscripts , superscript\n",
    "isnumeric >> 0-9, unicode(0-9), subscripts , superscript, vulgar fraction"
   ]
  },
  {
   "cell_type": "code",
   "execution_count": 126,
   "id": "recovered-notebook",
   "metadata": {},
   "outputs": [
    {
     "name": "stdout",
     "output_type": "stream",
     "text": [
      "False\n",
      "False\n",
      "False\n"
     ]
    }
   ],
   "source": [
    "string = 'python'\n",
    "print(string.isdecimal()) # False\n",
    "print(string.isdigit()) # False\n",
    "print(string.isnumeric()) # False"
   ]
  },
  {
   "cell_type": "code",
   "execution_count": 128,
   "id": "specialized-killer",
   "metadata": {},
   "outputs": [
    {
     "name": "stdout",
     "output_type": "stream",
     "text": [
      "False\n",
      "False\n",
      "False\n"
     ]
    }
   ],
   "source": [
    "string = 'python1234'\n",
    "print(string.isdecimal()) # False\n",
    "print(string.isdigit()) # False\n",
    "print(string.isnumeric()) # False"
   ]
  },
  {
   "cell_type": "code",
   "execution_count": 130,
   "id": "enhanced-participation",
   "metadata": {},
   "outputs": [
    {
     "name": "stdout",
     "output_type": "stream",
     "text": [
      "True\n",
      "True\n",
      "True\n"
     ]
    }
   ],
   "source": [
    "string = '9876541234'\n",
    "print(string.isdecimal()) # True\n",
    "print(string.isdigit()) # True\n",
    "print(string.isnumeric())  # True"
   ]
  },
  {
   "cell_type": "code",
   "execution_count": 132,
   "id": "south-messenger",
   "metadata": {},
   "outputs": [
    {
     "name": "stdout",
     "output_type": "stream",
     "text": [
      "False\n",
      "False\n",
      "False\n"
     ]
    }
   ],
   "source": [
    "string = '9876 5412 2434'\n",
    "print(string.isdecimal())  # False\n",
    "print(string.isdigit()) # False\n",
    "print(string.isnumeric())  # False"
   ]
  },
  {
   "cell_type": "code",
   "execution_count": 134,
   "id": "million-asthma",
   "metadata": {},
   "outputs": [
    {
     "name": "stdout",
     "output_type": "stream",
     "text": [
      "True\n",
      "True\n",
      "True\n"
     ]
    }
   ],
   "source": [
    "string = '\\u0034'\n",
    "print(string.isdecimal())  # True\n",
    "print(string.isdigit())  # True\n",
    "print(string.isnumeric())  # True"
   ]
  },
  {
   "cell_type": "code",
   "execution_count": 136,
   "id": "completed-uncertainty",
   "metadata": {},
   "outputs": [
    {
     "name": "stdout",
     "output_type": "stream",
     "text": [
      "False\n",
      "True\n",
      "True\n"
     ]
    }
   ],
   "source": [
    "string = '\\u00B2' # Superscript One\n",
    "print(string.isdecimal())  # False\n",
    "print(string.isdigit())  # True\n",
    "print(string.isnumeric())  # True"
   ]
  },
  {
   "cell_type": "code",
   "execution_count": 138,
   "id": "later-treasurer",
   "metadata": {},
   "outputs": [
    {
     "name": "stdout",
     "output_type": "stream",
     "text": [
      "False\n",
      "True\n",
      "True\n"
     ]
    }
   ],
   "source": [
    "string = '\\u2081' #  Subscript One\n",
    "print(string.isdecimal())  # False\n",
    "print(string.isdigit())  # True\n",
    "print(string.isnumeric())  # True"
   ]
  },
  {
   "cell_type": "code",
   "execution_count": 139,
   "id": "first-cycling",
   "metadata": {},
   "outputs": [
    {
     "name": "stdout",
     "output_type": "stream",
     "text": [
      "False\n",
      "False\n",
      "True\n"
     ]
    }
   ],
   "source": [
    "string = '\\u00BE' #  Vulgar Fraction Three Quarters\n",
    "print(string.isdecimal())  # False\n",
    "print(string.isdigit())  # False\n",
    "print(string.isnumeric())  # True"
   ]
  },
  {
   "cell_type": "code",
   "execution_count": 140,
   "id": "governmental-parker",
   "metadata": {},
   "outputs": [
    {
     "name": "stdout",
     "output_type": "stream",
     "text": [
      "False\n",
      "False\n",
      "False\n"
     ]
    }
   ],
   "source": [
    "string = '3/4' \n",
    "print(string.isdecimal())  # False\n",
    "print(string.isdigit())  # False\n",
    "print(string.isnumeric())  # True"
   ]
  },
  {
   "cell_type": "markdown",
   "id": "exclusive-tsunami",
   "metadata": {},
   "source": [
    "# 22. islower()"
   ]
  },
  {
   "cell_type": "code",
   "execution_count": null,
   "id": "involved-functionality",
   "metadata": {},
   "outputs": [],
   "source": [
    "True/False\n",
    "True >> If all alphabets are in lower case\n",
    "Space is allowed\n"
   ]
  },
  {
   "cell_type": "code",
   "execution_count": 142,
   "id": "protecting-bridges",
   "metadata": {},
   "outputs": [
    {
     "data": {
      "text/plain": [
       "True"
      ]
     },
     "execution_count": 142,
     "metadata": {},
     "output_type": "execute_result"
    }
   ],
   "source": [
    "string = 'python'\n",
    "string.islower()"
   ]
  },
  {
   "cell_type": "code",
   "execution_count": 143,
   "id": "baking-prediction",
   "metadata": {},
   "outputs": [
    {
     "data": {
      "text/plain": [
       "True"
      ]
     },
     "execution_count": 143,
     "metadata": {},
     "output_type": "execute_result"
    }
   ],
   "source": [
    "string = 'python and data science'\n",
    "string.islower()"
   ]
  },
  {
   "cell_type": "code",
   "execution_count": 145,
   "id": "detailed-mills",
   "metadata": {},
   "outputs": [
    {
     "data": {
      "text/plain": [
       "False"
      ]
     },
     "execution_count": 145,
     "metadata": {},
     "output_type": "execute_result"
    }
   ],
   "source": [
    "string = 'python and data Science'\n",
    "string.islower()"
   ]
  },
  {
   "cell_type": "code",
   "execution_count": 147,
   "id": "recorded-shuttle",
   "metadata": {},
   "outputs": [
    {
     "data": {
      "text/plain": [
       "True"
      ]
     },
     "execution_count": 147,
     "metadata": {},
     "output_type": "execute_result"
    }
   ],
   "source": [
    "string = 'python and data science 234567890'\n",
    "string.islower()"
   ]
  },
  {
   "cell_type": "code",
   "execution_count": 149,
   "id": "green-wedding",
   "metadata": {},
   "outputs": [
    {
     "data": {
      "text/plain": [
       "True"
      ]
     },
     "execution_count": 149,
     "metadata": {},
     "output_type": "execute_result"
    }
   ],
   "source": [
    "string = 'python and data science $%'\n",
    "string.islower()"
   ]
  },
  {
   "cell_type": "code",
   "execution_count": 151,
   "id": "grateful-syria",
   "metadata": {},
   "outputs": [
    {
     "data": {
      "text/plain": [
       "False"
      ]
     },
     "execution_count": 151,
     "metadata": {},
     "output_type": "execute_result"
    }
   ],
   "source": [
    "string = 'Python and data science $%'\n",
    "string.islower()"
   ]
  },
  {
   "cell_type": "markdown",
   "id": "imposed-insulin",
   "metadata": {},
   "source": [
    "# 23. isupper()"
   ]
  },
  {
   "cell_type": "code",
   "execution_count": null,
   "id": "medieval-barrel",
   "metadata": {},
   "outputs": [],
   "source": [
    "True/False\n",
    "True >> If all alphabets are in upper case\n",
    "Space and special chars are allowed\n"
   ]
  },
  {
   "cell_type": "code",
   "execution_count": 152,
   "id": "simple-special",
   "metadata": {},
   "outputs": [
    {
     "data": {
      "text/plain": [
       "False"
      ]
     },
     "execution_count": 152,
     "metadata": {},
     "output_type": "execute_result"
    }
   ],
   "source": [
    "string = 'python'\n",
    "string.isupper()"
   ]
  },
  {
   "cell_type": "code",
   "execution_count": 154,
   "id": "active-consciousness",
   "metadata": {},
   "outputs": [
    {
     "data": {
      "text/plain": [
       "False"
      ]
     },
     "execution_count": 154,
     "metadata": {},
     "output_type": "execute_result"
    }
   ],
   "source": [
    "string = 'Python'\n",
    "string.isupper()"
   ]
  },
  {
   "cell_type": "code",
   "execution_count": 156,
   "id": "median-voice",
   "metadata": {},
   "outputs": [
    {
     "data": {
      "text/plain": [
       "True"
      ]
     },
     "execution_count": 156,
     "metadata": {},
     "output_type": "execute_result"
    }
   ],
   "source": [
    "string = 'PYTHON'\n",
    "string.isupper()"
   ]
  },
  {
   "cell_type": "code",
   "execution_count": 158,
   "id": "oriented-greek",
   "metadata": {},
   "outputs": [
    {
     "data": {
      "text/plain": [
       "False"
      ]
     },
     "execution_count": 158,
     "metadata": {},
     "output_type": "execute_result"
    }
   ],
   "source": [
    "string = 'PYTHON and DATA SCIENCE'\n",
    "string.isupper()"
   ]
  },
  {
   "cell_type": "code",
   "execution_count": 160,
   "id": "perceived-bracelet",
   "metadata": {},
   "outputs": [
    {
     "data": {
      "text/plain": [
       "True"
      ]
     },
     "execution_count": 160,
     "metadata": {},
     "output_type": "execute_result"
    }
   ],
   "source": [
    "string = 'PYTHON AND DATA SCIENCE'\n",
    "string.isupper()"
   ]
  },
  {
   "cell_type": "code",
   "execution_count": 162,
   "id": "interested-investigation",
   "metadata": {},
   "outputs": [
    {
     "data": {
      "text/plain": [
       "True"
      ]
     },
     "execution_count": 162,
     "metadata": {},
     "output_type": "execute_result"
    }
   ],
   "source": [
    "string = 'PYTHON AND DATA SCIENCE 1224'\n",
    "string.isupper()"
   ]
  },
  {
   "cell_type": "code",
   "execution_count": 163,
   "id": "acquired-tournament",
   "metadata": {},
   "outputs": [
    {
     "data": {
      "text/plain": [
       "True"
      ]
     },
     "execution_count": 163,
     "metadata": {},
     "output_type": "execute_result"
    }
   ],
   "source": [
    "string = 'PYTHON AND DATA SCIENCE 1224 $%^'\n",
    "string.isupper()"
   ]
  },
  {
   "cell_type": "code",
   "execution_count": 164,
   "id": "comfortable-major",
   "metadata": {},
   "outputs": [
    {
     "data": {
      "text/plain": [
       "True"
      ]
     },
     "execution_count": 164,
     "metadata": {},
     "output_type": "execute_result"
    }
   ],
   "source": [
    "string = 'PYTHON AND DATA SCIENCE 1.224 $%^'\n",
    "string.isupper()"
   ]
  },
  {
   "cell_type": "markdown",
   "id": "amended-clothing",
   "metadata": {},
   "source": [
    "# 24. istitle()"
   ]
  },
  {
   "cell_type": "code",
   "execution_count": null,
   "id": "gross-adult",
   "metadata": {},
   "outputs": [],
   "source": [
    "True/False\n",
    "True >> If all alphabets are in title case\n",
    "Space and special chars are allowed\n"
   ]
  },
  {
   "cell_type": "code",
   "execution_count": 168,
   "id": "royal-tournament",
   "metadata": {},
   "outputs": [
    {
     "data": {
      "text/plain": [
       "False"
      ]
     },
     "execution_count": 168,
     "metadata": {},
     "output_type": "execute_result"
    }
   ],
   "source": [
    "string = 'rohit sharma'\n",
    "string.istitle()"
   ]
  },
  {
   "cell_type": "code",
   "execution_count": 169,
   "id": "proved-project",
   "metadata": {},
   "outputs": [
    {
     "data": {
      "text/plain": [
       "False"
      ]
     },
     "execution_count": 169,
     "metadata": {},
     "output_type": "execute_result"
    }
   ],
   "source": [
    "string = 'Rohit sharma'\n",
    "string.istitle()"
   ]
  },
  {
   "cell_type": "code",
   "execution_count": 171,
   "id": "mediterranean-novelty",
   "metadata": {},
   "outputs": [
    {
     "data": {
      "text/plain": [
       "True"
      ]
     },
     "execution_count": 171,
     "metadata": {},
     "output_type": "execute_result"
    }
   ],
   "source": [
    "string = 'Rohit Sharma'\n",
    "string.istitle()"
   ]
  },
  {
   "cell_type": "markdown",
   "id": "subject-technician",
   "metadata": {},
   "source": [
    "# 25. isspace()"
   ]
  },
  {
   "cell_type": "code",
   "execution_count": null,
   "id": "located-foundation",
   "metadata": {},
   "outputs": [],
   "source": [
    "True/False\n",
    "\n",
    "True >> If string contains only space (one or more spaces)"
   ]
  },
  {
   "cell_type": "code",
   "execution_count": 173,
   "id": "upper-wheel",
   "metadata": {},
   "outputs": [
    {
     "data": {
      "text/plain": [
       "True"
      ]
     },
     "execution_count": 173,
     "metadata": {},
     "output_type": "execute_result"
    }
   ],
   "source": [
    "string = ' '\n",
    "string.isspace()"
   ]
  },
  {
   "cell_type": "code",
   "execution_count": 175,
   "id": "laden-means",
   "metadata": {},
   "outputs": [
    {
     "data": {
      "text/plain": [
       "True"
      ]
     },
     "execution_count": 175,
     "metadata": {},
     "output_type": "execute_result"
    }
   ],
   "source": [
    "string = '                                 '\n",
    "string.isspace()"
   ]
  },
  {
   "cell_type": "code",
   "execution_count": 177,
   "id": "lucky-chair",
   "metadata": {},
   "outputs": [
    {
     "data": {
      "text/plain": [
       "False"
      ]
     },
     "execution_count": 177,
     "metadata": {},
     "output_type": "execute_result"
    }
   ],
   "source": [
    "string = '                              i   '\n",
    "string.isspace()"
   ]
  },
  {
   "cell_type": "code",
   "execution_count": 180,
   "id": "earlier-mauritius",
   "metadata": {},
   "outputs": [
    {
     "data": {
      "text/plain": [
       "False"
      ]
     },
     "execution_count": 180,
     "metadata": {},
     "output_type": "execute_result"
    }
   ],
   "source": [
    "string = '                              @   '\n",
    "string.isspace()"
   ]
  },
  {
   "cell_type": "code",
   "execution_count": 182,
   "id": "later-harbor",
   "metadata": {},
   "outputs": [
    {
     "data": {
      "text/plain": [
       "False"
      ]
     },
     "execution_count": 182,
     "metadata": {},
     "output_type": "execute_result"
    }
   ],
   "source": [
    "string = '                  $   '\n",
    "string.isspace()"
   ]
  },
  {
   "cell_type": "code",
   "execution_count": 184,
   "id": "filled-technical",
   "metadata": {},
   "outputs": [
    {
     "data": {
      "text/plain": [
       "False"
      ]
     },
     "execution_count": 184,
     "metadata": {},
     "output_type": "execute_result"
    }
   ],
   "source": [
    "string = ''\n",
    "string.isspace()"
   ]
  },
  {
   "cell_type": "code",
   "execution_count": null,
   "id": "alleged-insert",
   "metadata": {},
   "outputs": [],
   "source": [
    "text = \"\"\"Data science is an interdisciplinary field that uses scientific methods, processes,\n",
    "         \n",
    "algorithms and systems to extract knowledge and insights from noisy, structured and \n",
    "                \n",
    "                        \n",
    "unstructured data, and apply knowledge from data across a broad range of application domains\"\"\""
   ]
  },
  {
   "cell_type": "code",
   "execution_count": null,
   "id": "sublime-arrangement",
   "metadata": {},
   "outputs": [],
   "source": [
    "text2 = \"\"\"Data science is an interdisciplinary field that uses scientific methods, processes, \n",
    "algorithms and systems to extract knowledge and insights from noisy, structured and\n",
    "unstructured data, and apply knowledge from data across a broad range of application domains\"\"\""
   ]
  },
  {
   "cell_type": "code",
   "execution_count": 196,
   "id": "injured-coordination",
   "metadata": {},
   "outputs": [
    {
     "name": "stdout",
     "output_type": "stream",
     "text": [
      "False\n",
      "line : Data science is an interdisciplinary field that uses \n",
      "******************************\n",
      "False\n",
      "line : scientific methods, processes,\n",
      "******************************\n",
      "True\n",
      "Line contains only space\n",
      "******************************\n",
      "False\n",
      "line : algorithms and systems to extract knowledge and insights from noisy,\n",
      "******************************\n",
      "False\n",
      "line : structured and \n",
      "******************************\n",
      "True\n",
      "Line contains only space\n",
      "******************************\n",
      "True\n",
      "Line contains only space\n",
      "******************************\n",
      "False\n",
      "line : unstructured data, and apply knowledge from data across a broad range of application domains\n",
      "******************************\n"
     ]
    }
   ],
   "source": [
    "text = \"\"\"Data science is an interdisciplinary field that uses \n",
    "scientific methods, processes,\n",
    "         \n",
    "algorithms and systems to extract knowledge and insights from noisy,\n",
    "structured and \n",
    "                \n",
    "                        \n",
    "unstructured data, and apply knowledge from data across a broad range of application domains\"\"\"\n",
    "\n",
    "text_list = text.split('\\n')\n",
    "\n",
    "for line in text_list:\n",
    "    print(line.isspace())\n",
    "    if line.isspace():\n",
    "        print(\"Line contains only space\")\n",
    "    else:\n",
    "        print(\"line :\",line)\n",
    "        \n",
    "    print(\"******************************\")"
   ]
  },
  {
   "cell_type": "code",
   "execution_count": 207,
   "id": "acquired-southeast",
   "metadata": {},
   "outputs": [
    {
     "name": "stdout",
     "output_type": "stream",
     "text": [
      "Line : Data science is an interdisciplinary field that uses \n",
      "Line : scientific methods, processes,\n",
      "Line : algorithms and systems to extract knowledge and insights from noisy,\n",
      "Line : structured and \n",
      "Line : unstructured data, and apply knowledge from data across a broad range of application domains\n"
     ]
    }
   ],
   "source": [
    "text = \"\"\"Data science is an interdisciplinary field that uses \n",
    "scientific methods, processes,\n",
    "         \n",
    "algorithms and systems to extract knowledge and insights from noisy,\n",
    "structured and \n",
    "                \n",
    "                        \n",
    "unstructured data, and apply knowledge from data across a broad range of application domains\"\"\"\n",
    "\n",
    "text_list = text.split('\\n')\n",
    "\n",
    "for line in text_list:\n",
    "    if not line.isspace():\n",
    "        print(\"Line :\",line)\n"
   ]
  },
  {
   "cell_type": "code",
   "execution_count": 210,
   "id": "ceramic-saint",
   "metadata": {},
   "outputs": [
    {
     "name": "stdout",
     "output_type": "stream",
     "text": [
      "Data science is an interdisciplinary field that uses \n",
      "scientific methods, processes,\n",
      "algorithms and systems to extract knowledge and insights from noisy,\n",
      "structured and \n",
      "unstructured data, and apply knowledge from data across a broad range of application domains\n"
     ]
    }
   ],
   "source": [
    "text = \"\"\"Data science is an interdisciplinary field that uses \n",
    "scientific methods, processes,\n",
    "         \n",
    "algorithms and systems to extract knowledge and insights from noisy,\n",
    "structured and \n",
    "                \n",
    "                        \n",
    "unstructured data, and apply knowledge from data across a broad range of application domains\"\"\"\n",
    "\n",
    "text_list = text.split('\\n')\n",
    "list1 = []\n",
    "for line in text_list:\n",
    "    if not line.isspace():\n",
    "        list1.append(line)\n",
    "\n",
    "# print(list1)\n",
    "\n",
    "new_text = '\\n'.join(list1)\n",
    "print(new_text)"
   ]
  },
  {
   "cell_type": "code",
   "execution_count": 199,
   "id": "encouraging-weather",
   "metadata": {},
   "outputs": [
    {
     "data": {
      "text/plain": [
       "False"
      ]
     },
     "execution_count": 199,
     "metadata": {},
     "output_type": "execute_result"
    }
   ],
   "source": [
    "not True"
   ]
  },
  {
   "cell_type": "code",
   "execution_count": 202,
   "id": "broad-catch",
   "metadata": {},
   "outputs": [
    {
     "data": {
      "text/plain": [
       "True"
      ]
     },
     "execution_count": 202,
     "metadata": {},
     "output_type": "execute_result"
    }
   ],
   "source": [
    "not False"
   ]
  },
  {
   "cell_type": "code",
   "execution_count": 204,
   "id": "lyric-pipeline",
   "metadata": {},
   "outputs": [
    {
     "data": {
      "text/plain": [
       "False"
      ]
     },
     "execution_count": 204,
     "metadata": {},
     "output_type": "execute_result"
    }
   ],
   "source": [
    "not 5 == 5"
   ]
  },
  {
   "cell_type": "code",
   "execution_count": 213,
   "id": "conscious-regulation",
   "metadata": {},
   "outputs": [
    {
     "name": "stdout",
     "output_type": "stream",
     "text": [
      "Data science is an interdisciplinary field that uses \n",
      "scientific methods, processes,\n",
      "algorithms and systems to extract knowledge and insights from noisy,\n",
      "structured and \n",
      "unstructured data, and apply knowledge from data across a broad range of application domains\n"
     ]
    }
   ],
   "source": [
    "text_list = text.split('\\n')\n",
    "new_text = '\\n'.join([line for line in text_list if not line.isspace()])\n",
    "print(new_text)"
   ]
  },
  {
   "cell_type": "code",
   "execution_count": 214,
   "id": "prescription-moment",
   "metadata": {},
   "outputs": [
    {
     "name": "stdout",
     "output_type": "stream",
     "text": [
      "p\n",
      "y\n",
      "t\n",
      "h\n",
      "o\n",
      "n\n"
     ]
    }
   ],
   "source": [
    "for char in 'python': # char = 'p'\n",
    "    print(char)"
   ]
  },
  {
   "cell_type": "code",
   "execution_count": 217,
   "id": "concerned-baghdad",
   "metadata": {},
   "outputs": [
    {
     "name": "stdout",
     "output_type": "stream",
     "text": [
      "100\n",
      "20\n",
      "30\n",
      "400\n"
     ]
    }
   ],
   "source": [
    "for char in [100,20,30,400]: # char = 100\n",
    "    print(char)"
   ]
  },
  {
   "cell_type": "code",
   "execution_count": 225,
   "id": "electoral-converter",
   "metadata": {},
   "outputs": [
    {
     "name": "stdout",
     "output_type": "stream",
     "text": [
      "100\n",
      "20\n",
      "30\n",
      "400\n"
     ]
    }
   ],
   "source": [
    "for i in [100,20,30,400]: # char = 100\n",
    "    print(i)"
   ]
  },
  {
   "cell_type": "code",
   "execution_count": 226,
   "id": "atlantic-aquatic",
   "metadata": {},
   "outputs": [
    {
     "name": "stdout",
     "output_type": "stream",
     "text": [
      "100\n",
      "20\n",
      "30\n",
      "400\n"
     ]
    }
   ],
   "source": [
    "for num in [100,20,30,400]: # char = 100\n",
    "    print(num)"
   ]
  },
  {
   "cell_type": "code",
   "execution_count": 221,
   "id": "derived-pressing",
   "metadata": {},
   "outputs": [
    {
     "data": {
      "text/plain": [
       "['Data science is an interdisciplinary field that uses ',\n",
       " 'scientific methods, processes,',\n",
       " '         ',\n",
       " 'algorithms and systems to extract knowledge and insights from noisy,',\n",
       " 'structured and ',\n",
       " '                ',\n",
       " '                        ',\n",
       " 'unstructured data, and apply knowledge from data across a broad range of application domains']"
      ]
     },
     "execution_count": 221,
     "metadata": {},
     "output_type": "execute_result"
    }
   ],
   "source": [
    "text_list"
   ]
  },
  {
   "cell_type": "code",
   "execution_count": 224,
   "id": "criminal-weapon",
   "metadata": {},
   "outputs": [
    {
     "name": "stdout",
     "output_type": "stream",
     "text": [
      "line >> Data science is an interdisciplinary field that uses \n",
      "line >> scientific methods, processes,\n",
      "line >>          \n",
      "line >> algorithms and systems to extract knowledge and insights from noisy,\n",
      "line >> structured and \n",
      "line >>                 \n",
      "line >>                         \n",
      "line >> unstructured data, and apply knowledge from data across a broad range of application domains\n"
     ]
    }
   ],
   "source": [
    "for line in text_list:\n",
    "    print('line >>',line)"
   ]
  },
  {
   "cell_type": "markdown",
   "id": "advance-evolution",
   "metadata": {},
   "source": [
    "# 26. zfill"
   ]
  },
  {
   "cell_type": "code",
   "execution_count": null,
   "id": "varying-welding",
   "metadata": {},
   "outputs": [],
   "source": [
    "zero filling"
   ]
  },
  {
   "cell_type": "code",
   "execution_count": 228,
   "id": "static-vietnamese",
   "metadata": {},
   "outputs": [
    {
     "data": {
      "text/plain": [
       "4"
      ]
     },
     "execution_count": 228,
     "metadata": {},
     "output_type": "execute_result"
    }
   ],
   "source": [
    "string = 'data'\n",
    "len(string)"
   ]
  },
  {
   "cell_type": "code",
   "execution_count": 231,
   "id": "vertical-assets",
   "metadata": {},
   "outputs": [
    {
     "data": {
      "text/plain": [
       "'0data'"
      ]
     },
     "execution_count": 231,
     "metadata": {},
     "output_type": "execute_result"
    }
   ],
   "source": [
    "string = 'data'\n",
    "string.zfill(5)"
   ]
  },
  {
   "cell_type": "code",
   "execution_count": 234,
   "id": "roman-essex",
   "metadata": {},
   "outputs": [
    {
     "name": "stdout",
     "output_type": "stream",
     "text": [
      "000000data\n",
      "10\n"
     ]
    }
   ],
   "source": [
    "string = 'data'\n",
    "s = string.zfill(10)\n",
    "print(s)\n",
    "print(len(s))"
   ]
  },
  {
   "cell_type": "code",
   "execution_count": 236,
   "id": "minor-giant",
   "metadata": {},
   "outputs": [
    {
     "name": "stdout",
     "output_type": "stream",
     "text": [
      "data science\n",
      "12\n"
     ]
    }
   ],
   "source": [
    "string = 'data science'\n",
    "s = string.zfill(10)\n",
    "print(s)\n",
    "print(len(s))"
   ]
  },
  {
   "cell_type": "code",
   "execution_count": 238,
   "id": "hourly-darkness",
   "metadata": {},
   "outputs": [
    {
     "name": "stdout",
     "output_type": "stream",
     "text": [
      "0000000 data science\n",
      "20\n"
     ]
    }
   ],
   "source": [
    "string = ' data science'\n",
    "s = string.zfill(20)\n",
    "print(s)\n",
    "print(len(s))"
   ]
  },
  {
   "cell_type": "markdown",
   "id": "practical-breast",
   "metadata": {},
   "source": [
    "# 27. center"
   ]
  },
  {
   "cell_type": "code",
   "execution_count": 240,
   "id": "indonesian-substance",
   "metadata": {},
   "outputs": [
    {
     "data": {
      "text/plain": [
       "' python '"
      ]
     },
     "execution_count": 240,
     "metadata": {},
     "output_type": "execute_result"
    }
   ],
   "source": [
    "string = 'python'\n",
    "string.center(8)"
   ]
  },
  {
   "cell_type": "code",
   "execution_count": 243,
   "id": "pharmaceutical-participant",
   "metadata": {},
   "outputs": [
    {
     "data": {
      "text/plain": [
       "'  python  '"
      ]
     },
     "execution_count": 243,
     "metadata": {},
     "output_type": "execute_result"
    }
   ],
   "source": [
    "string = 'python'\n",
    "string.center(10)"
   ]
  },
  {
   "cell_type": "code",
   "execution_count": 245,
   "id": "billion-identifier",
   "metadata": {},
   "outputs": [
    {
     "data": {
      "text/plain": [
       "'       python       '"
      ]
     },
     "execution_count": 245,
     "metadata": {},
     "output_type": "execute_result"
    }
   ],
   "source": [
    "string = 'python'\n",
    "string.center(20)"
   ]
  },
  {
   "cell_type": "code",
   "execution_count": 247,
   "id": "biblical-monitoring",
   "metadata": {},
   "outputs": [
    {
     "data": {
      "text/plain": [
       "'                                     python                                     '"
      ]
     },
     "execution_count": 247,
     "metadata": {},
     "output_type": "execute_result"
    }
   ],
   "source": [
    "string = 'python'\n",
    "string.center(80)"
   ]
  },
  {
   "cell_type": "code",
   "execution_count": 249,
   "id": "brutal-developer",
   "metadata": {},
   "outputs": [
    {
     "data": {
      "text/plain": [
       "'  python '"
      ]
     },
     "execution_count": 249,
     "metadata": {},
     "output_type": "execute_result"
    }
   ],
   "source": [
    "string = 'python'\n",
    "string.center(9)"
   ]
  },
  {
   "cell_type": "code",
   "execution_count": 253,
   "id": "latin-identification",
   "metadata": {},
   "outputs": [
    {
     "data": {
      "text/plain": [
       "'**python*'"
      ]
     },
     "execution_count": 253,
     "metadata": {},
     "output_type": "execute_result"
    }
   ],
   "source": [
    "string = 'python'\n",
    "string.center(9,'*')"
   ]
  },
  {
   "cell_type": "code",
   "execution_count": 255,
   "id": "occupational-reducing",
   "metadata": {},
   "outputs": [
    {
     "data": {
      "text/plain": [
       "'********************************* Data Science *********************************'"
      ]
     },
     "execution_count": 255,
     "metadata": {},
     "output_type": "execute_result"
    }
   ],
   "source": [
    "string = ' Data Science '\n",
    "string.center(80,'*')"
   ]
  },
  {
   "cell_type": "code",
   "execution_count": 256,
   "id": "tamil-bahamas",
   "metadata": {},
   "outputs": [
    {
     "data": {
      "text/plain": [
       "'********************************* Data Science *********************************'"
      ]
     },
     "execution_count": 256,
     "metadata": {},
     "output_type": "execute_result"
    }
   ],
   "source": [
    "string = ' Data Science '\n",
    "string.center(80,'*')"
   ]
  },
  {
   "cell_type": "code",
   "execution_count": 259,
   "id": "wound-peripheral",
   "metadata": {},
   "outputs": [
    {
     "name": "stdout",
     "output_type": "stream",
     "text": [
      "****************************** Remove Blank Lines ******************************\n",
      "Data science is an interdisciplinary field that uses \n",
      "scientific methods, processes,\n",
      "algorithms and systems to extract knowledge and insights from noisy,\n",
      "structured and \n",
      "unstructured data, and apply knowledge from data across a broad range of application domains\n"
     ]
    }
   ],
   "source": [
    "text = \"\"\"Data science is an interdisciplinary field that uses \n",
    "scientific methods, processes,\n",
    "         \n",
    "algorithms and systems to extract knowledge and insights from noisy,\n",
    "structured and \n",
    "                \n",
    "                        \n",
    "unstructured data, and apply knowledge from data across a broad range of application domains\"\"\"\n",
    "\n",
    "string = ' Remove Blank Lines '\n",
    "print(string.center(80,'*'))\n",
    "\n",
    "text_list = text.split('\\n')\n",
    "list1 = []\n",
    "for line in text_list:\n",
    "    if not line.isspace():\n",
    "        list1.append(line)\n",
    "\n",
    "# print(list1)\n",
    "\n",
    "new_text = '\\n'.join(list1)\n",
    "print(new_text)"
   ]
  },
  {
   "cell_type": "code",
   "execution_count": null,
   "id": "welsh-concord",
   "metadata": {},
   "outputs": [],
   "source": []
  }
 ],
 "metadata": {
  "kernelspec": {
   "display_name": "Python 3",
   "language": "python",
   "name": "python3"
  },
  "language_info": {
   "codemirror_mode": {
    "name": "ipython",
    "version": 3
   },
   "file_extension": ".py",
   "mimetype": "text/x-python",
   "name": "python",
   "nbconvert_exporter": "python",
   "pygments_lexer": "ipython3",
   "version": "3.8.7"
  }
 },
 "nbformat": 4,
 "nbformat_minor": 5
}
