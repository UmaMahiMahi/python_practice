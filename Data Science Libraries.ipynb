{
 "cells": [
  {
   "cell_type": "markdown",
   "id": "august-asset",
   "metadata": {},
   "source": [
    "### Data Science Libraries"
   ]
  },
  {
   "cell_type": "code",
   "execution_count": null,
   "id": "referenced-classic",
   "metadata": {},
   "outputs": [],
   "source": [
    "1. pandas >> Read Data, Exploratory Data Analysis\n",
    "2. numpy  >> Mathematical Operation\n",
    "3. scikit-learn >> sklearn:\n",
    "    ML Algorithms\n",
    "    Preprocessing\n",
    "    Feature Selection\n",
    "    Feature Extraction\n",
    "    Evaluation\n",
    "\n",
    "Visualization:\n",
    "    4. matplotlib\n",
    "    5. seaborn \n",
    "    6. plotly(3D Plots)\n",
    "    \n",
    "7. statsmodel\n",
    "8. scipy\n",
    "9. Image Processing:\n",
    "    1. openCV >> cv2 >> Computer Vision >> Img\n",
    "    2. PIL\n",
    "    \n",
    "10. Tensorflow >> Deep Learning\n",
    "11. nltk >> Natural Language Toolkit >>NLP >> Text Data \n",
    "\n",
    "12. imblearn\n",
    "13. pdf2image\n",
    "14. OCR :\n",
    "    1. pytesseract- TesseractOCR\n",
    "    2. Easy OCR\n",
    "    3. Google Vision\n",
    "    4. Amazon Textract"
   ]
  },
  {
   "cell_type": "code",
   "execution_count": 2,
   "id": "overhead-expression",
   "metadata": {},
   "outputs": [],
   "source": [
    "import sklearn"
   ]
  },
  {
   "cell_type": "code",
   "execution_count": 4,
   "id": "diverse-reservation",
   "metadata": {},
   "outputs": [],
   "source": [
    "from sklearn.linear_model import LinearRegression"
   ]
  },
  {
   "cell_type": "code",
   "execution_count": 5,
   "id": "toxic-surprise",
   "metadata": {},
   "outputs": [],
   "source": [
    "from sklearn.metrics import confusion_matrix, classification_report, accuracy_score, mean_absolute_error"
   ]
  },
  {
   "cell_type": "code",
   "execution_count": null,
   "id": "demanding-frederick",
   "metadata": {},
   "outputs": [],
   "source": []
  }
 ],
 "metadata": {
  "kernelspec": {
   "display_name": "Python 3",
   "language": "python",
   "name": "python3"
  },
  "language_info": {
   "codemirror_mode": {
    "name": "ipython",
    "version": 3
   },
   "file_extension": ".py",
   "mimetype": "text/x-python",
   "name": "python",
   "nbconvert_exporter": "python",
   "pygments_lexer": "ipython3",
   "version": "3.8.7"
  }
 },
 "nbformat": 4,
 "nbformat_minor": 5
}
