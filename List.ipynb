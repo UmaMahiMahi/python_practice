{
 "cells": [
  {
   "cell_type": "markdown",
   "id": "descending-christianity",
   "metadata": {},
   "source": [
    "# List"
   ]
  },
  {
   "cell_type": "code",
   "execution_count": null,
   "id": "outdoor-questionnaire",
   "metadata": {},
   "outputs": [],
   "source": [
    "List is a collection of items\n",
    "\n",
    "We can add any datatype in list(Heterogeneous datatypes)\n",
    "\n",
    "datatype: int, float, complex, str, list, tuple, dict, set, frozenset, numpy array,\n",
    "    pandas dataframe, pandas series"
   ]
  },
  {
   "cell_type": "markdown",
   "id": "greek-journalism",
   "metadata": {},
   "source": [
    "# Properties of List datatype"
   ]
  },
  {
   "cell_type": "code",
   "execution_count": null,
   "id": "productive-stick",
   "metadata": {},
   "outputs": [],
   "source": [
    "1. Mutable >> Changable (add, delete, update)\n",
    "2. It is an ordered datatype\n",
    "3. Duplicate items are allowed\n",
    "4. Lists are enclosed by []\n",
    "5. List items are comma seperated"
   ]
  },
  {
   "cell_type": "code",
   "execution_count": 3,
   "id": "japanese-royal",
   "metadata": {},
   "outputs": [
    {
     "data": {
      "text/plain": [
       "[20, 30, 4, 5, 6]"
      ]
     },
     "execution_count": 3,
     "metadata": {},
     "output_type": "execute_result"
    }
   ],
   "source": [
    "list1 = [20,30,4,5,6]\n",
    "list1"
   ]
  },
  {
   "cell_type": "code",
   "execution_count": 7,
   "id": "respiratory-gabriel",
   "metadata": {},
   "outputs": [
    {
     "data": {
      "text/plain": [
       "[20, 30, 4, 5, 6]"
      ]
     },
     "execution_count": 7,
     "metadata": {},
     "output_type": "execute_result"
    }
   ],
   "source": [
    "list1 = [20,30,4,5,6]\n",
    "list1"
   ]
  },
  {
   "cell_type": "code",
   "execution_count": 9,
   "id": "automotive-norwegian",
   "metadata": {},
   "outputs": [
    {
     "name": "stdout",
     "output_type": "stream",
     "text": [
      "[20, 30, 30, 30, 4, 5, 5, 5, 5, 6]\n"
     ]
    },
    {
     "data": {
      "text/plain": [
       "10"
      ]
     },
     "execution_count": 9,
     "metadata": {},
     "output_type": "execute_result"
    }
   ],
   "source": [
    "list1 = [20,30,30,30,4,5,5,5,5,6]\n",
    "print(list1)\n",
    "len(list1)"
   ]
  },
  {
   "cell_type": "code",
   "execution_count": 6,
   "id": "excited-yellow",
   "metadata": {},
   "outputs": [
    {
     "data": {
      "text/plain": [
       "{4, 5, 6, 20, 30}"
      ]
     },
     "execution_count": 6,
     "metadata": {},
     "output_type": "execute_result"
    }
   ],
   "source": [
    "set1 = {20,30,4,5,6}\n",
    "set1"
   ]
  },
  {
   "cell_type": "code",
   "execution_count": 11,
   "id": "threaded-bulgaria",
   "metadata": {},
   "outputs": [
    {
     "name": "stdout",
     "output_type": "stream",
     "text": [
      "{4, 5, 6, 20, 30}\n"
     ]
    },
    {
     "data": {
      "text/plain": [
       "5"
      ]
     },
     "execution_count": 11,
     "metadata": {},
     "output_type": "execute_result"
    }
   ],
   "source": [
    "set1 = {20,30,30,30,4,5,5,5,5,6}\n",
    "print(set1)\n",
    "len(set1)"
   ]
  },
  {
   "cell_type": "code",
   "execution_count": 13,
   "id": "organized-interstate",
   "metadata": {},
   "outputs": [
    {
     "data": {
      "text/plain": [
       "6"
      ]
     },
     "execution_count": 13,
     "metadata": {},
     "output_type": "execute_result"
    }
   ],
   "source": [
    "string = 'python'\n",
    "len(string)"
   ]
  },
  {
   "cell_type": "code",
   "execution_count": 16,
   "id": "generic-inside",
   "metadata": {},
   "outputs": [
    {
     "data": {
      "text/plain": [
       "3"
      ]
     },
     "execution_count": 16,
     "metadata": {},
     "output_type": "execute_result"
    }
   ],
   "source": [
    "list1 = ['python','data','science']\n",
    "len(list1)"
   ]
  },
  {
   "cell_type": "code",
   "execution_count": 19,
   "id": "sonic-hawaiian",
   "metadata": {},
   "outputs": [
    {
     "data": {
      "text/plain": [
       "['python', 10, 20, 30, 3.14, 8.76, (4+5j), 'data', 'science']"
      ]
     },
     "execution_count": 19,
     "metadata": {},
     "output_type": "execute_result"
    }
   ],
   "source": [
    "list1 = ['python',10,20,30,3.14,8.76,4+5j,'data','science']\n",
    "list1"
   ]
  },
  {
   "cell_type": "code",
   "execution_count": 21,
   "id": "celtic-morgan",
   "metadata": {},
   "outputs": [
    {
     "data": {
      "text/plain": [
       "['python', 10, 20, 30, 3.14, 8.76, (4+5j), 'data', 'science', [2, 3, 4]]"
      ]
     },
     "execution_count": 21,
     "metadata": {},
     "output_type": "execute_result"
    }
   ],
   "source": [
    "list1 = ['python',10,20,30,3.14,8.76,4+5j,'data','science',[2,3,4,]]\n",
    "list1"
   ]
  },
  {
   "cell_type": "code",
   "execution_count": 22,
   "id": "quarterly-southwest",
   "metadata": {},
   "outputs": [
    {
     "data": {
      "text/plain": [
       "['python',\n",
       " 10,\n",
       " 20,\n",
       " 30,\n",
       " 3.14,\n",
       " 8.76,\n",
       " (4+5j),\n",
       " 'data',\n",
       " 'science',\n",
       " [2, 3, 4],\n",
       " (5, 6, 7)]"
      ]
     },
     "execution_count": 22,
     "metadata": {},
     "output_type": "execute_result"
    }
   ],
   "source": [
    "list1 = ['python',10,20,30,3.14,8.76,4+5j,'data','science',[2,3,4],(5,6,7)]\n",
    "list1"
   ]
  },
  {
   "cell_type": "markdown",
   "id": "entertaining-lunch",
   "metadata": {},
   "source": [
    "# Indexing"
   ]
  },
  {
   "cell_type": "code",
   "execution_count": null,
   "id": "angry-breakdown",
   "metadata": {},
   "outputs": [],
   "source": [
    "Index will always starts from 0"
   ]
  },
  {
   "cell_type": "code",
   "execution_count": 31,
   "id": "intellectual-possibility",
   "metadata": {},
   "outputs": [
    {
     "data": {
      "text/plain": [
       "7"
      ]
     },
     "execution_count": 31,
     "metadata": {},
     "output_type": "execute_result"
    }
   ],
   "source": [
    "list1 = [3,4,5,6,7]\n",
    "list1[0]\n",
    "list1[1]\n",
    "list1[2]\n",
    "list1[3]\n",
    "list1[4]\n",
    "# list1[5]"
   ]
  },
  {
   "cell_type": "code",
   "execution_count": 40,
   "id": "endless-martin",
   "metadata": {},
   "outputs": [
    {
     "data": {
      "text/plain": [
       "3"
      ]
     },
     "execution_count": 40,
     "metadata": {},
     "output_type": "execute_result"
    }
   ],
   "source": [
    "list1 = [3,4,5,6,7]\n",
    "list1[-1]\n",
    "list1[-2]\n",
    "list1[-3]\n",
    "list1[-4]\n",
    "list1[-5]\n",
    "# list1[-6]"
   ]
  },
  {
   "cell_type": "code",
   "execution_count": null,
   "id": "median-offering",
   "metadata": {},
   "outputs": [],
   "source": [
    "list1       =  [100, 200, 300, 400 ,500 , 700]\n",
    "pos indexing     0    1    2    3    4     5\n",
    "neg indexing    -6   -5   -4   -3   -2    -1"
   ]
  },
  {
   "cell_type": "code",
   "execution_count": 43,
   "id": "elect-jerusalem",
   "metadata": {},
   "outputs": [
    {
     "name": "stdout",
     "output_type": "stream",
     "text": [
      "300\n",
      "300\n"
     ]
    }
   ],
   "source": [
    "list1  =  [100, 200, 300, 400 ,500 , 700]\n",
    "print(list1[2])\n",
    "print(list1[-4])"
   ]
  },
  {
   "cell_type": "markdown",
   "id": "micro-invalid",
   "metadata": {},
   "source": [
    "# Slicing"
   ]
  },
  {
   "cell_type": "code",
   "execution_count": null,
   "id": "premier-assets",
   "metadata": {},
   "outputs": [],
   "source": [
    "[start_index(include) : end_index(exclude) : [step_size]]\n",
    "start_index >> default value is 0\n",
    "end_index >> default value is  len(list1)"
   ]
  },
  {
   "cell_type": "code",
   "execution_count": 45,
   "id": "signal-ireland",
   "metadata": {},
   "outputs": [
    {
     "data": {
      "text/plain": [
       "[3, 5, 7, 'a', 'b', 6.7, 'python']"
      ]
     },
     "execution_count": 45,
     "metadata": {},
     "output_type": "execute_result"
    }
   ],
   "source": [
    "list1 = [3,5,7,'a','b',6.7,'python']\n",
    "list1"
   ]
  },
  {
   "cell_type": "code",
   "execution_count": 47,
   "id": "removed-whale",
   "metadata": {},
   "outputs": [
    {
     "data": {
      "text/plain": [
       "[3, 5, 7, 'a', 'b', 6.7, 'python']"
      ]
     },
     "execution_count": 47,
     "metadata": {},
     "output_type": "execute_result"
    }
   ],
   "source": [
    "list1 = [3,5,7,'a','b',6.7,'python']\n",
    "list1[:]"
   ]
  },
  {
   "cell_type": "code",
   "execution_count": 49,
   "id": "critical-humanity",
   "metadata": {},
   "outputs": [
    {
     "data": {
      "text/plain": [
       "[3, 5, 7]"
      ]
     },
     "execution_count": 49,
     "metadata": {},
     "output_type": "execute_result"
    }
   ],
   "source": [
    "list1 = [3,5,7,'a','b',6.7,'python']\n",
    "list1[:3]"
   ]
  },
  {
   "cell_type": "code",
   "execution_count": 51,
   "id": "military-settlement",
   "metadata": {},
   "outputs": [
    {
     "data": {
      "text/plain": [
       "[3, 5, 7]"
      ]
     },
     "execution_count": 51,
     "metadata": {},
     "output_type": "execute_result"
    }
   ],
   "source": [
    "list1 = [3,5,7,'a','b',6.7,'python']\n",
    "list1[0:3]"
   ]
  },
  {
   "cell_type": "code",
   "execution_count": 53,
   "id": "offshore-probe",
   "metadata": {},
   "outputs": [
    {
     "data": {
      "text/plain": [
       "['a', 'b', 6.7, 'python']"
      ]
     },
     "execution_count": 53,
     "metadata": {},
     "output_type": "execute_result"
    }
   ],
   "source": [
    "list1 = [3,5,7,'a','b',6.7,'python']\n",
    "list1[3:7]"
   ]
  },
  {
   "cell_type": "code",
   "execution_count": 55,
   "id": "junior-marine",
   "metadata": {},
   "outputs": [
    {
     "data": {
      "text/plain": [
       "['a', 'b', 6.7, 'python']"
      ]
     },
     "execution_count": 55,
     "metadata": {},
     "output_type": "execute_result"
    }
   ],
   "source": [
    "list1 = [3,5,7,'a','b',6.7,'python']\n",
    "list1[3:]"
   ]
  },
  {
   "cell_type": "code",
   "execution_count": 57,
   "id": "missing-insulin",
   "metadata": {},
   "outputs": [
    {
     "data": {
      "text/plain": [
       "['a', 'b', 6.7]"
      ]
     },
     "execution_count": 57,
     "metadata": {},
     "output_type": "execute_result"
    }
   ],
   "source": [
    "list1 = [3,5,7,'a','b',6.7,'python']\n",
    "list1[3:6] # 3,4,5"
   ]
  },
  {
   "cell_type": "code",
   "execution_count": 59,
   "id": "supreme-carpet",
   "metadata": {},
   "outputs": [
    {
     "data": {
      "text/plain": [
       "[5, 7, 'a', 'b']"
      ]
     },
     "execution_count": 59,
     "metadata": {},
     "output_type": "execute_result"
    }
   ],
   "source": [
    "list1 = [3,5,7,'a','b',6.7,'python']\n",
    "list1[1:5] # 1,2,3,4"
   ]
  },
  {
   "cell_type": "code",
   "execution_count": 61,
   "id": "automotive-fifty",
   "metadata": {},
   "outputs": [
    {
     "data": {
      "text/plain": [
       "[7, 'a', 'b', 6.7, 'python']"
      ]
     },
     "execution_count": 61,
     "metadata": {},
     "output_type": "execute_result"
    }
   ],
   "source": [
    "list1 = [3,5,7,'a','b',6.7,'python']\n",
    "list1[-5:]"
   ]
  },
  {
   "cell_type": "code",
   "execution_count": 63,
   "id": "bibliographic-genre",
   "metadata": {},
   "outputs": [
    {
     "data": {
      "text/plain": [
       "['b', 6.7, 'python']"
      ]
     },
     "execution_count": 63,
     "metadata": {},
     "output_type": "execute_result"
    }
   ],
   "source": [
    "list1 = [3,5,7,'a','b',6.7,'python']\n",
    "list1[-3:]"
   ]
  },
  {
   "cell_type": "code",
   "execution_count": 68,
   "id": "plain-horizontal",
   "metadata": {},
   "outputs": [
    {
     "data": {
      "text/plain": [
       "['b', 6.7]"
      ]
     },
     "execution_count": 68,
     "metadata": {},
     "output_type": "execute_result"
    }
   ],
   "source": [
    "list1 = [3,5,7,'a','b',6.7,'python']\n",
    "list1[-3:-1] # -3,-2"
   ]
  },
  {
   "cell_type": "code",
   "execution_count": null,
   "id": "official-charge",
   "metadata": {},
   "outputs": [],
   "source": [
    "list1 = [10,20,30,40,50,60,70]\n",
    "\n",
    "print(list1[2:5]) # 2,3,4\n",
    "print(list1[-5:-2])"
   ]
  },
  {
   "cell_type": "code",
   "execution_count": null,
   "id": "structured-customer",
   "metadata": {},
   "outputs": [],
   "source": [
    "list1 = [10,   20,  30,  40,  50,  60,  70]\n",
    "pos   >>  0     1    2    3    4    5    6\n",
    "neg      -7    -6   -5   -4   -3   -2   -1"
   ]
  },
  {
   "cell_type": "code",
   "execution_count": 72,
   "id": "continuous-medline",
   "metadata": {},
   "outputs": [
    {
     "name": "stdout",
     "output_type": "stream",
     "text": [
      "[20, 30, 40]\n",
      "[20, 30, 40]\n",
      "[20, 30, 40]\n",
      "[20, 30, 40]\n"
     ]
    }
   ],
   "source": [
    "list1 = [10,20,30,40,50,60,70]\n",
    "print(list1[1:4])\n",
    "print(list1[-6:-3])\n",
    "print(list1[1:-3])\n",
    "print(list1[-6:4])"
   ]
  },
  {
   "cell_type": "code",
   "execution_count": 74,
   "id": "horizontal-loading",
   "metadata": {},
   "outputs": [
    {
     "data": {
      "text/plain": [
       "[10, 20, 30, 40, 50, 60, 70]"
      ]
     },
     "execution_count": 74,
     "metadata": {},
     "output_type": "execute_result"
    }
   ],
   "source": [
    "list1 = [10,20,30,40,50,60,70]\n",
    "list1"
   ]
  },
  {
   "cell_type": "code",
   "execution_count": 76,
   "id": "steady-business",
   "metadata": {},
   "outputs": [
    {
     "data": {
      "text/plain": [
       "[70, 60, 50, 40, 30, 20, 10]"
      ]
     },
     "execution_count": 76,
     "metadata": {},
     "output_type": "execute_result"
    }
   ],
   "source": [
    "list1 = [10,20,30,40,50,60,70]\n",
    "list1[::-1]"
   ]
  },
  {
   "cell_type": "code",
   "execution_count": 82,
   "id": "protecting-bottle",
   "metadata": {},
   "outputs": [
    {
     "data": {
      "text/plain": [
       "[20, 30, 40, 50, 60]"
      ]
     },
     "execution_count": 82,
     "metadata": {},
     "output_type": "execute_result"
    }
   ],
   "source": [
    "list1 = [10,20,30,40,50,60,70]\n",
    "list1[1:6:1] # 1,2,3,4"
   ]
  },
  {
   "cell_type": "code",
   "execution_count": 83,
   "id": "spanish-revelation",
   "metadata": {},
   "outputs": [
    {
     "data": {
      "text/plain": [
       "[20, 40, 60]"
      ]
     },
     "execution_count": 83,
     "metadata": {},
     "output_type": "execute_result"
    }
   ],
   "source": [
    "list1 = [10,20,30,40,50,60,70]\n",
    "list1[1:6:2] # 1,3,5"
   ]
  },
  {
   "cell_type": "code",
   "execution_count": 85,
   "id": "brazilian-samoa",
   "metadata": {},
   "outputs": [
    {
     "data": {
      "text/plain": [
       "[20, 50]"
      ]
     },
     "execution_count": 85,
     "metadata": {},
     "output_type": "execute_result"
    }
   ],
   "source": [
    "list1 = [10,20,30,40,50,60,70]\n",
    "list1[1:6:3] "
   ]
  },
  {
   "cell_type": "code",
   "execution_count": 95,
   "id": "married-defendant",
   "metadata": {},
   "outputs": [
    {
     "data": {
      "text/plain": [
       "[10, 40, 70]"
      ]
     },
     "execution_count": 95,
     "metadata": {},
     "output_type": "execute_result"
    }
   ],
   "source": [
    "list1 = [10,20,30,40,50,60,70]\n",
    "list1[0:7:3] "
   ]
  },
  {
   "cell_type": "code",
   "execution_count": null,
   "id": "ready-party",
   "metadata": {},
   "outputs": [],
   "source": [
    "list1 = [10,   20,  30,  40,  50,  60,  70]\n",
    "pos   >>  0     1    2    3    4    5    6\n",
    "neg      -7    -6   -5   -4   -3   -2   -1"
   ]
  },
  {
   "cell_type": "code",
   "execution_count": 96,
   "id": "sought-sword",
   "metadata": {},
   "outputs": [
    {
     "data": {
      "text/plain": [
       "[60, 50, 40]"
      ]
     },
     "execution_count": 96,
     "metadata": {},
     "output_type": "execute_result"
    }
   ],
   "source": [
    "list1 = [10,20,30,40,50,60,70]\n",
    "list1[5 : 2 : -1] # 5,4,3"
   ]
  },
  {
   "cell_type": "code",
   "execution_count": 100,
   "id": "future-belize",
   "metadata": {},
   "outputs": [
    {
     "data": {
      "text/plain": [
       "[70, 60, 50, 40, 30]"
      ]
     },
     "execution_count": 100,
     "metadata": {},
     "output_type": "execute_result"
    }
   ],
   "source": [
    "list1 = [10,20,30,40,50,60,70]\n",
    "list1[6 : 1 : -1] "
   ]
  },
  {
   "cell_type": "code",
   "execution_count": 103,
   "id": "supposed-sheffield",
   "metadata": {},
   "outputs": [
    {
     "data": {
      "text/plain": [
       "[70, 50, 30]"
      ]
     },
     "execution_count": 103,
     "metadata": {},
     "output_type": "execute_result"
    }
   ],
   "source": [
    "list1 = [10,20,30,40,50,60,70]\n",
    "list1[6 : 1 : -2] "
   ]
  },
  {
   "cell_type": "code",
   "execution_count": null,
   "id": "permanent-motorcycle",
   "metadata": {},
   "outputs": [],
   "source": [
    "list1 = [10,   20,  30,  40,  50,  60,  70]\n",
    "pos   >>  0     1    2    3    4    5    6\n",
    "neg      -7    -6   -5   -4   -3   -2   -1"
   ]
  },
  {
   "cell_type": "code",
   "execution_count": 106,
   "id": "valued-hepatitis",
   "metadata": {},
   "outputs": [
    {
     "data": {
      "text/plain": [
       "[]"
      ]
     },
     "execution_count": 106,
     "metadata": {},
     "output_type": "execute_result"
    }
   ],
   "source": [
    "list1 = [10,20,30,40,50,60,70]\n",
    "list1[-2:-5] "
   ]
  },
  {
   "cell_type": "code",
   "execution_count": 109,
   "id": "exterior-climb",
   "metadata": {},
   "outputs": [
    {
     "data": {
      "text/plain": [
       "[60, 50, 40]"
      ]
     },
     "execution_count": 109,
     "metadata": {},
     "output_type": "execute_result"
    }
   ],
   "source": [
    "list1 = [10,20,30,40,50,60,70]\n",
    "list1[-2:-5:-1] # -2,-3,-4"
   ]
  },
  {
   "cell_type": "code",
   "execution_count": 110,
   "id": "exposed-tsunami",
   "metadata": {},
   "outputs": [
    {
     "data": {
      "text/plain": [
       "[60, 50, 40]"
      ]
     },
     "execution_count": 110,
     "metadata": {},
     "output_type": "execute_result"
    }
   ],
   "source": [
    "list1 = [10,20,30,40,50,60,70]\n",
    "new_list = list1[-2:-5:-1] # -2,-3,-4\n",
    "new_list"
   ]
  },
  {
   "cell_type": "code",
   "execution_count": 112,
   "id": "behavioral-liberia",
   "metadata": {},
   "outputs": [
    {
     "data": {
      "text/plain": [
       "[60, 50, 40]"
      ]
     },
     "execution_count": 112,
     "metadata": {},
     "output_type": "execute_result"
    }
   ],
   "source": [
    "list1 = [10,20,30,40,50,60,70]\n",
    "a = -2\n",
    "new_list = list1[a:-5:-1] # -2,-3,-4\n",
    "new_list"
   ]
  },
  {
   "cell_type": "markdown",
   "id": "satisfied-kruger",
   "metadata": {},
   "source": [
    "# Access items by using for loop"
   ]
  },
  {
   "cell_type": "code",
   "execution_count": null,
   "id": "greek-recipient",
   "metadata": {},
   "outputs": [],
   "source": [
    "sequence >> list\n",
    "for variable in sequence:\n",
    "    statement1\n",
    "    statement2\n",
    "    statement3"
   ]
  },
  {
   "cell_type": "code",
   "execution_count": 114,
   "id": "intermediate-brook",
   "metadata": {},
   "outputs": [
    {
     "name": "stdout",
     "output_type": "stream",
     "text": [
      "5\n",
      "6\n",
      "7\n",
      "8\n",
      "9\n"
     ]
    }
   ],
   "source": [
    "list2 = [5,6,7,8,9]\n",
    "for i in list2:\n",
    "    print(i)"
   ]
  },
  {
   "cell_type": "code",
   "execution_count": 116,
   "id": "false-gentleman",
   "metadata": {},
   "outputs": [
    {
     "name": "stdout",
     "output_type": "stream",
     "text": [
      "25\n",
      "36\n",
      "49\n",
      "64\n",
      "81\n"
     ]
    }
   ],
   "source": [
    "list2 = [5,6,7,8,9]\n",
    "for i in list2:\n",
    "    print(i**2)"
   ]
  },
  {
   "cell_type": "code",
   "execution_count": 118,
   "id": "medieval-collectible",
   "metadata": {},
   "outputs": [
    {
     "name": "stdout",
     "output_type": "stream",
     "text": [
      "Hello Python\n",
      "Hello Python\n",
      "Hello Python\n",
      "Hello Python\n",
      "Hello Python\n"
     ]
    }
   ],
   "source": [
    "list2 = [5,6,7,8,9]\n",
    "for i in list2: # 5 times, i = 6\n",
    "    print('Hello Python')"
   ]
  },
  {
   "cell_type": "code",
   "execution_count": 120,
   "id": "afraid-rendering",
   "metadata": {},
   "outputs": [
    {
     "name": "stdout",
     "output_type": "stream",
     "text": [
      "Item is : 5\n",
      "Item is : 6\n",
      "Item is : 7\n",
      "Item is : 8\n",
      "Item is : 9\n"
     ]
    }
   ],
   "source": [
    "list2 = [5,6,7,8,9]\n",
    "for i in list2: # 5 times, i = 9\n",
    "    print('Item is :',i)\n",
    "    "
   ]
  },
  {
   "cell_type": "code",
   "execution_count": 122,
   "id": "cutting-gravity",
   "metadata": {},
   "outputs": [
    {
     "name": "stdout",
     "output_type": "stream",
     "text": [
      "Item is : 5\n",
      "Item is : 6\n",
      "Item is : 7\n",
      "Item is : 8\n",
      "Item is : 9\n"
     ]
    }
   ],
   "source": [
    "list2 = [5,6,7,8,9]\n",
    "for val in list2: # 5 times, i = 6\n",
    "    print('Item is :',val)\n",
    "    "
   ]
  },
  {
   "cell_type": "code",
   "execution_count": 124,
   "id": "standard-profile",
   "metadata": {},
   "outputs": [
    {
     "name": "stdout",
     "output_type": "stream",
     "text": [
      "Item is : 5\n",
      "Item is : 6\n",
      "Item is : 7\n",
      "Item is : 8\n",
      "Item is : 9\n"
     ]
    }
   ],
   "source": [
    "list2 = [5,6,7,8,9]\n",
    "for item in list2: # 5 times, i = 6\n",
    "    print('Item is :',item)\n",
    "    "
   ]
  },
  {
   "cell_type": "code",
   "execution_count": 127,
   "id": "instant-boost",
   "metadata": {},
   "outputs": [
    {
     "name": "stdout",
     "output_type": "stream",
     "text": [
      "Item is : 5\n",
      "Item is : 6\n",
      "Item is : 7\n",
      "Item is : 8\n",
      "Item is : 9\n"
     ]
    }
   ],
   "source": [
    "list2 = [5,6,7,8,9]\n",
    "for num in list2: # 5 times, i = 6\n",
    "    print('Item is :',num)"
   ]
  },
  {
   "cell_type": "code",
   "execution_count": 128,
   "id": "interested-insert",
   "metadata": {},
   "outputs": [
    {
     "data": {
      "text/plain": [
       "9"
      ]
     },
     "execution_count": 128,
     "metadata": {},
     "output_type": "execute_result"
    }
   ],
   "source": [
    "i"
   ]
  },
  {
   "cell_type": "code",
   "execution_count": 131,
   "id": "forced-renewal",
   "metadata": {},
   "outputs": [
    {
     "name": "stdout",
     "output_type": "stream",
     "text": [
      "Item is : 5\n",
      "Item is : 6\n",
      "Item is : 7\n",
      "Item is : 8\n",
      "Item is : 9\n"
     ]
    }
   ],
   "source": [
    "list2 = [5,6,7,8,9]\n",
    "for num in list2: \n",
    "    print('Item is :',num)"
   ]
  },
  {
   "cell_type": "code",
   "execution_count": 134,
   "id": "diverse-screening",
   "metadata": {},
   "outputs": [
    {
     "name": "stdout",
     "output_type": "stream",
     "text": [
      "pune\n",
      "Mumbai\n",
      "Delhi\n",
      "Chennai\n",
      "Bangalore\n"
     ]
    }
   ],
   "source": [
    "city_names = [\"pune\",\"Mumbai\",'Delhi',\"Chennai\",\"Bangalore\"]\n",
    "for city in city_names:\n",
    "    print(city)"
   ]
  },
  {
   "cell_type": "code",
   "execution_count": 135,
   "id": "statewide-river",
   "metadata": {},
   "outputs": [
    {
     "name": "stdout",
     "output_type": "stream",
     "text": [
      "City name is :\n",
      "City name is :\n",
      "City name is :\n",
      "City name is :\n",
      "City name is :\n"
     ]
    }
   ],
   "source": [
    "city_names = [\"pune\",\"Mumbai\",'Delhi',\"Chennai\",\"Bangalore\"]\n",
    "for city in city_names:\n",
    "    print(f\"City name is : {}\")"
   ]
  }
 ],
 "metadata": {
  "kernelspec": {
   "display_name": "Python 3",
   "language": "python",
   "name": "python3"
  },
  "language_info": {
   "codemirror_mode": {
    "name": "ipython",
    "version": 3
   },
   "file_extension": ".py",
   "mimetype": "text/x-python",
   "name": "python",
   "nbconvert_exporter": "python",
   "pygments_lexer": "ipython3",
   "version": "3.8.7"
  }
 },
 "nbformat": 4,
 "nbformat_minor": 5
}
