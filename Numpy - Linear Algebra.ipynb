{
 "cells": [
  {
   "cell_type": "markdown",
   "id": "apart-wisconsin",
   "metadata": {},
   "source": [
    "### Numpy - Linear Algebra"
   ]
  },
  {
   "cell_type": "code",
   "execution_count": null,
   "id": "earlier-article",
   "metadata": {},
   "outputs": [],
   "source": [
    "1. np.linalg.solve()\n",
    "2. np.linalg.inv()\n",
    "3. np.polynomial.Polynomial():\n",
    "    poly.roots()\n",
    "4. np.linalg.eig()\n",
    "5. np.linalg.eigvals()"
   ]
  },
  {
   "cell_type": "code",
   "execution_count": null,
   "id": "ahead-offer",
   "metadata": {},
   "outputs": [],
   "source": [
    "2x + 3y = 10\n",
    "3x + 9y = 20\n",
    "x = ?\n",
    "y = ?"
   ]
  },
  {
   "cell_type": "code",
   "execution_count": null,
   "id": "floating-version",
   "metadata": {},
   "outputs": [],
   "source": [
    "2x + 3y = 10\n",
    "3x + 9y = 20\n",
    "x = 3.3\n",
    "y = 1.1"
   ]
  },
  {
   "cell_type": "code",
   "execution_count": 2,
   "id": "bizarre-thread",
   "metadata": {},
   "outputs": [],
   "source": [
    "import numpy as np"
   ]
  },
  {
   "cell_type": "code",
   "execution_count": 5,
   "id": "continued-figure",
   "metadata": {},
   "outputs": [
    {
     "name": "stdout",
     "output_type": "stream",
     "text": [
      "Array A is :\n",
      " [[2 3]\n",
      " [3 9]]\n",
      "Array B is :\n",
      " [10 20]\n"
     ]
    }
   ],
   "source": [
    "array_A = np.array([[2,3],[3,9]])\n",
    "array_B = np.array([10,20])\n",
    "print(\"Array A is :\\n\",array_A)\n",
    "print(\"Array B is :\\n\",array_B)"
   ]
  },
  {
   "cell_type": "code",
   "execution_count": 8,
   "id": "everyday-sullivan",
   "metadata": {},
   "outputs": [
    {
     "data": {
      "text/plain": [
       "array([3.33333333, 1.11111111])"
      ]
     },
     "execution_count": 8,
     "metadata": {},
     "output_type": "execute_result"
    }
   ],
   "source": [
    "np.linalg.solve(array_A,array_B)"
   ]
  },
  {
   "cell_type": "code",
   "execution_count": null,
   "id": "pharmaceutical-planner",
   "metadata": {},
   "outputs": [],
   "source": [
    "2x + 3y + 5z = 100\n",
    "3x + 9y + 4z = 140\n",
    "5x + 3y + 7z = 120\n",
    "\n",
    "x = ?\n",
    "y = ?\n",
    "z = ?"
   ]
  },
  {
   "cell_type": "code",
   "execution_count": 12,
   "id": "champion-violence",
   "metadata": {},
   "outputs": [
    {
     "name": "stdout",
     "output_type": "stream",
     "text": [
      "Array A is :\n",
      " [[2 3 5]\n",
      " [3 9 4]\n",
      " [5 3 7]]\n",
      "Array B is :\n",
      " [100 140 120]\n"
     ]
    },
    {
     "data": {
      "text/plain": [
       "array([-3.7037037 ,  9.87654321, 15.55555556])"
      ]
     },
     "execution_count": 12,
     "metadata": {},
     "output_type": "execute_result"
    }
   ],
   "source": [
    "array_A = np.array([[2,3,5],[3,9,4],[5,3,7]])\n",
    "array_B = np.array([100,140,120])\n",
    "print(\"Array A is :\\n\",array_A)\n",
    "print(\"Array B is :\\n\",array_B)\n",
    "np.linalg.solve(array_A,array_B)"
   ]
  },
  {
   "cell_type": "markdown",
   "id": "exact-clark",
   "metadata": {},
   "source": [
    "### Inverse of an array"
   ]
  },
  {
   "cell_type": "code",
   "execution_count": 14,
   "id": "thousand-cabin",
   "metadata": {},
   "outputs": [
    {
     "data": {
      "text/plain": [
       "array([[ 1.        , -0.33333333],\n",
       "       [-0.33333333,  0.22222222]])"
      ]
     },
     "execution_count": 14,
     "metadata": {},
     "output_type": "execute_result"
    }
   ],
   "source": [
    "array_A = np.array([[2,3],[3,9]])\n",
    "\n",
    "np.linalg.inv(array_A)"
   ]
  },
  {
   "cell_type": "code",
   "execution_count": 16,
   "id": "czech-chapel",
   "metadata": {},
   "outputs": [
    {
     "data": {
      "text/plain": [
       "array([[-2.5,  1.5],\n",
       "       [ 2. , -1. ]])"
      ]
     },
     "execution_count": 16,
     "metadata": {},
     "output_type": "execute_result"
    }
   ],
   "source": [
    "array_A = np.array([[2,3],[4,5]])\n",
    "\n",
    "np.linalg.inv(array_A)"
   ]
  },
  {
   "cell_type": "code",
   "execution_count": 19,
   "id": "israeli-oklahoma",
   "metadata": {},
   "outputs": [
    {
     "data": {
      "text/plain": [
       "array([[-0.08333333,  0.05      ],\n",
       "       [ 0.06666667, -0.02      ]])"
      ]
     },
     "execution_count": 19,
     "metadata": {},
     "output_type": "execute_result"
    }
   ],
   "source": [
    "array_A = np.array([[12,30],[40,50]])\n",
    "\n",
    "np.linalg.inv(array_A)"
   ]
  },
  {
   "cell_type": "code",
   "execution_count": 21,
   "id": "prompt-cotton",
   "metadata": {},
   "outputs": [
    {
     "data": {
      "text/plain": [
       "array([[-0.62962963,  0.07407407,  0.40740741],\n",
       "       [ 0.01234568,  0.13580247, -0.08641975],\n",
       "       [ 0.44444444, -0.11111111, -0.11111111]])"
      ]
     },
     "execution_count": 21,
     "metadata": {},
     "output_type": "execute_result"
    }
   ],
   "source": [
    "array_A = np.array([[2,3,5],[3,9,4],[5,3,7]])\n",
    "np.linalg.inv(array_A)"
   ]
  },
  {
   "cell_type": "markdown",
   "id": "exotic-authorization",
   "metadata": {},
   "source": [
    "## Roots"
   ]
  },
  {
   "cell_type": "code",
   "execution_count": null,
   "id": "significant-desktop",
   "metadata": {},
   "outputs": [],
   "source": [
    "x2 -5x + 6 = 0\n",
    "a = 1\n",
    "b = -5\n",
    "c = 6"
   ]
  },
  {
   "cell_type": "code",
   "execution_count": 25,
   "id": "closed-contemporary",
   "metadata": {},
   "outputs": [
    {
     "data": {
      "text/plain": [
       "array([2., 3.])"
      ]
     },
     "execution_count": 25,
     "metadata": {},
     "output_type": "execute_result"
    }
   ],
   "source": [
    "\n",
    "eq = np.polynomial.Polynomial([6,-5,1])\n",
    "eq.roots()"
   ]
  },
  {
   "cell_type": "code",
   "execution_count": 27,
   "id": "marked-makeup",
   "metadata": {},
   "outputs": [
    {
     "name": "stdout",
     "output_type": "stream",
     "text": [
      "6.0 - 5.0 x**1 + 1.0 x**2\n"
     ]
    },
    {
     "data": {
      "text/plain": [
       "array([2., 3.])"
      ]
     },
     "execution_count": 27,
     "metadata": {},
     "output_type": "execute_result"
    }
   ],
   "source": [
    "eq = np.polynomial.Polynomial([6,-5,1])\n",
    "print(eq)\n",
    "eq.roots()"
   ]
  },
  {
   "cell_type": "code",
   "execution_count": 29,
   "id": "therapeutic-coffee",
   "metadata": {},
   "outputs": [
    {
     "name": "stdout",
     "output_type": "stream",
     "text": [
      "4.0 + 5.0 x**1 + 1.0 x**2\n"
     ]
    },
    {
     "data": {
      "text/plain": [
       "array([-4., -1.])"
      ]
     },
     "execution_count": 29,
     "metadata": {},
     "output_type": "execute_result"
    }
   ],
   "source": [
    "eq = np.polynomial.Polynomial([4,5,1])\n",
    "print(eq)\n",
    "eq.roots()"
   ]
  },
  {
   "cell_type": "code",
   "execution_count": 31,
   "id": "homeless-lingerie",
   "metadata": {},
   "outputs": [
    {
     "name": "stdout",
     "output_type": "stream",
     "text": [
      "4.0 + 5.0 x**1 + 2.0 x**2\n"
     ]
    },
    {
     "data": {
      "text/plain": [
       "array([-1.25-0.66143783j, -1.25+0.66143783j])"
      ]
     },
     "execution_count": 31,
     "metadata": {},
     "output_type": "execute_result"
    }
   ],
   "source": [
    "eq = np.polynomial.Polynomial([4,5,2])\n",
    "print(eq)\n",
    "eq.roots()"
   ]
  },
  {
   "cell_type": "code",
   "execution_count": 34,
   "id": "laughing-rabbit",
   "metadata": {},
   "outputs": [
    {
     "data": {
      "text/plain": [
       "array([-1.-0.70710678j, -1.+0.70710678j])"
      ]
     },
     "execution_count": 34,
     "metadata": {},
     "output_type": "execute_result"
    }
   ],
   "source": [
    "from numpy.polynomial import Polynomial\n",
    "\n",
    "poly = Polynomial([3,4,2])\n",
    "poly.roots()"
   ]
  },
  {
   "cell_type": "code",
   "execution_count": 36,
   "id": "answering-aerospace",
   "metadata": {},
   "outputs": [
    {
     "data": {
      "text/latex": [
       "$x \\mapsto \\text{3.0} + \\text{4.0}\\,x + \\text{2.0}\\,x^{2} + \\text{1.0}\\,x^{3}$"
      ],
      "text/plain": [
       "Polynomial([3., 4., 2., 1.], domain=[-1,  1], window=[-1,  1])"
      ]
     },
     "execution_count": 36,
     "metadata": {},
     "output_type": "execute_result"
    }
   ],
   "source": [
    "from numpy.polynomial import Polynomial\n",
    "\n",
    "poly = Polynomial([3,4,2,1])\n",
    "poly"
   ]
  },
  {
   "cell_type": "code",
   "execution_count": 38,
   "id": "reduced-cisco",
   "metadata": {},
   "outputs": [
    {
     "data": {
      "text/plain": [
       "array([-1. +0.j       , -0.5-1.6583124j, -0.5+1.6583124j])"
      ]
     },
     "execution_count": 38,
     "metadata": {},
     "output_type": "execute_result"
    }
   ],
   "source": [
    "poly.roots()"
   ]
  },
  {
   "cell_type": "markdown",
   "id": "physical-prince",
   "metadata": {},
   "source": [
    "### Eigen Values "
   ]
  },
  {
   "cell_type": "code",
   "execution_count": 42,
   "id": "active-vacation",
   "metadata": {},
   "outputs": [
    {
     "data": {
      "text/plain": [
       "array([[3, 9],\n",
       "       [1, 5]])"
      ]
     },
     "execution_count": 42,
     "metadata": {},
     "output_type": "execute_result"
    }
   ],
   "source": [
    "array1 = np.random.randint(1,10,size = (2,2))\n",
    "array1"
   ]
  },
  {
   "cell_type": "code",
   "execution_count": 48,
   "id": "desirable-forest",
   "metadata": {},
   "outputs": [
    {
     "data": {
      "text/plain": [
       "array([0.83772234, 7.16227766])"
      ]
     },
     "execution_count": 48,
     "metadata": {},
     "output_type": "execute_result"
    }
   ],
   "source": [
    "eigen_values = np.linalg.eigvals(array1)\n",
    "eigen_values"
   ]
  },
  {
   "cell_type": "code",
   "execution_count": 50,
   "id": "departmental-packing",
   "metadata": {},
   "outputs": [
    {
     "data": {
      "text/plain": [
       "array([0.83772234, 7.16227766])"
      ]
     },
     "execution_count": 50,
     "metadata": {},
     "output_type": "execute_result"
    }
   ],
   "source": [
    "eigen_values, eigen_vectors = np.linalg.eig(array1)\n",
    "eigen_values"
   ]
  },
  {
   "cell_type": "code",
   "execution_count": 51,
   "id": "turkish-mills",
   "metadata": {},
   "outputs": [
    {
     "data": {
      "text/plain": [
       "array([[-0.97233143, -0.90763558],\n",
       "       [ 0.23360562, -0.41975903]])"
      ]
     },
     "execution_count": 51,
     "metadata": {},
     "output_type": "execute_result"
    }
   ],
   "source": [
    "eigen_vectors"
   ]
  },
  {
   "cell_type": "code",
   "execution_count": null,
   "id": "strategic-health",
   "metadata": {},
   "outputs": [],
   "source": []
  },
  {
   "cell_type": "code",
   "execution_count": null,
   "id": "impressive-reynolds",
   "metadata": {},
   "outputs": [],
   "source": []
  }
 ],
 "metadata": {
  "kernelspec": {
   "display_name": "Python 3 (ipykernel)",
   "language": "python",
   "name": "python3"
  },
  "language_info": {
   "codemirror_mode": {
    "name": "ipython",
    "version": 3
   },
   "file_extension": ".py",
   "mimetype": "text/x-python",
   "name": "python",
   "nbconvert_exporter": "python",
   "pygments_lexer": "ipython3",
   "version": "3.9.12"
  }
 },
 "nbformat": 4,
 "nbformat_minor": 5
}
