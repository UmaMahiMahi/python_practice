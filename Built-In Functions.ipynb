{
 "cells": [
  {
   "cell_type": "markdown",
   "id": "static-reservoir",
   "metadata": {},
   "source": [
    "## Built in Functions"
   ]
  },
  {
   "cell_type": "code",
   "execution_count": null,
   "id": "random-samoa",
   "metadata": {},
   "outputs": [],
   "source": [
    "1. int()\n",
    "2. float()\n",
    "complex()\n",
    "list()\n",
    "str()\n",
    "tuple()\n",
    "set()\n",
    "frozenset()\n",
    "bool()\n",
    "dict()\n",
    "range()\n",
    "print()\n",
    "sorted()\n",
    "reversed()\n",
    "sum()\n",
    "min()\n",
    "max()\n",
    "len()\n",
    "chr()\n",
    "enumerate()\n",
    "eval()\n",
    "type()\n",
    "input()\n"
   ]
  },
  {
   "cell_type": "markdown",
   "id": "defensive-amsterdam",
   "metadata": {},
   "source": [
    "## 1. zip()"
   ]
  },
  {
   "cell_type": "code",
   "execution_count": 4,
   "id": "floral-friday",
   "metadata": {},
   "outputs": [
    {
     "name": "stdout",
     "output_type": "stream",
     "text": [
      "0 Virat 35\n",
      "1 Rohit 36\n",
      "2 Dhoni 40\n",
      "3 Kartik 37\n"
     ]
    }
   ],
   "source": [
    "players_name = ['Virat','Rohit','Dhoni','Kartik']\n",
    "age = [35,36,40,37]\n",
    "\n",
    "for i, name in enumerate(players_name):\n",
    "    print(i,name,age[i])"
   ]
  },
  {
   "cell_type": "code",
   "execution_count": 8,
   "id": "outdoor-buddy",
   "metadata": {},
   "outputs": [
    {
     "name": "stdout",
     "output_type": "stream",
     "text": [
      "0 Virat 35\n",
      "1 Rohit 36\n",
      "2 Dhoni 40\n",
      "3 Kartik 37\n"
     ]
    },
    {
     "data": {
      "text/plain": [
       "{'Virat': 35, 'Rohit': 36, 'Dhoni': 40, 'Kartik': 37}"
      ]
     },
     "execution_count": 8,
     "metadata": {},
     "output_type": "execute_result"
    }
   ],
   "source": [
    "players_name = ['Virat','Rohit','Dhoni','Kartik']\n",
    "age = [35,36,40,37]\n",
    "\n",
    "d1 = {}\n",
    "for i, name in enumerate(players_name):\n",
    "    print(i,name,age[i])\n",
    "    d1.update({name : age[i]})\n",
    "    \n",
    "d1"
   ]
  },
  {
   "cell_type": "code",
   "execution_count": 24,
   "id": "optional-emperor",
   "metadata": {},
   "outputs": [
    {
     "data": {
      "text/plain": [
       "{'Virat': 35, 'Rohit': 36, 'Dhoni': 40, 'Kartik': 37}"
      ]
     },
     "execution_count": 24,
     "metadata": {},
     "output_type": "execute_result"
    }
   ],
   "source": [
    "players_name = ['Virat','Rohit','Dhoni','Kartik']\n",
    "age = [35,36,40,37]\n",
    "\n",
    "d1 = {}\n",
    "for i, name in enumerate(players_name):\n",
    "    d1.update({name : age[i]})\n",
    "    \n",
    "d1"
   ]
  },
  {
   "cell_type": "code",
   "execution_count": 25,
   "id": "sporting-catering",
   "metadata": {},
   "outputs": [
    {
     "data": {
      "text/plain": [
       "{'Virat': 35, 'Rohit': 36, 'Dhoni': 40, 'Kartik': 37}"
      ]
     },
     "execution_count": 25,
     "metadata": {},
     "output_type": "execute_result"
    }
   ],
   "source": [
    "players_name = ['Virat','Rohit','Dhoni','Kartik']\n",
    "age = [35,36,40,37]\n",
    "\n",
    "d1 = {}\n",
    "for i, name in enumerate(players_name):\n",
    "    d1[name] = age[i]\n",
    "    \n",
    "d1"
   ]
  },
  {
   "cell_type": "code",
   "execution_count": 23,
   "id": "quick-product",
   "metadata": {},
   "outputs": [
    {
     "data": {
      "text/plain": [
       "{'Virat': 35, 'Rohit': 36, 'Dhoni': 40, 'Kartik': 37}"
      ]
     },
     "execution_count": 23,
     "metadata": {},
     "output_type": "execute_result"
    }
   ],
   "source": [
    "players_name = ['Virat','Rohit','Dhoni','Kartik']\n",
    "age = [35,36,40,37]\n",
    "\n",
    "d1 = {name : age[i] for i, name in enumerate(players_name)}\n",
    "d1"
   ]
  },
  {
   "cell_type": "code",
   "execution_count": 13,
   "id": "owned-dealing",
   "metadata": {},
   "outputs": [
    {
     "data": {
      "text/plain": [
       "{'Virat': 35, 'Rohit': 36, 'Dhoni': 40, 'Kartik': 37}"
      ]
     },
     "execution_count": 13,
     "metadata": {},
     "output_type": "execute_result"
    }
   ],
   "source": [
    "players_name = ['Virat','Rohit','Dhoni','Kartik']\n",
    "age = [35,36,40,37]\n",
    "\n",
    "dict(zip(players_name,age))"
   ]
  },
  {
   "cell_type": "code",
   "execution_count": 15,
   "id": "proved-paris",
   "metadata": {},
   "outputs": [
    {
     "data": {
      "text/plain": [
       "{'Virat': 35, 'Rohit': 36, 'Dhoni': 40, 'Kartik': 37}"
      ]
     },
     "execution_count": 15,
     "metadata": {},
     "output_type": "execute_result"
    }
   ],
   "source": [
    "players_name = ('Virat','Rohit','Dhoni','Kartik')\n",
    "age = [35,36,40,37]\n",
    "\n",
    "dict(zip(players_name,age))"
   ]
  },
  {
   "cell_type": "code",
   "execution_count": 17,
   "id": "generous-monthly",
   "metadata": {},
   "outputs": [
    {
     "data": {
      "text/plain": [
       "{'Virat': 35, 'Rohit': 36, 'Dhoni': 40, 'Kartik': 37}"
      ]
     },
     "execution_count": 17,
     "metadata": {},
     "output_type": "execute_result"
    }
   ],
   "source": [
    "players_name = ('Virat','Rohit','Dhoni','Kartik')\n",
    "age = (35,36,40,37)\n",
    "\n",
    "dict(zip(players_name,age))"
   ]
  },
  {
   "cell_type": "code",
   "execution_count": 19,
   "id": "amended-appliance",
   "metadata": {},
   "outputs": [
    {
     "data": {
      "text/plain": [
       "{35: 'Virat', 36: 'Rohit', 40: 'Dhoni', 37: 'Kartik'}"
      ]
     },
     "execution_count": 19,
     "metadata": {},
     "output_type": "execute_result"
    }
   ],
   "source": [
    "players_name = ('Virat','Rohit','Dhoni','Kartik')\n",
    "age = (35,36,40,37)\n",
    "\n",
    "dict(zip(age,players_name))"
   ]
  },
  {
   "cell_type": "code",
   "execution_count": 21,
   "id": "dominant-portland",
   "metadata": {},
   "outputs": [
    {
     "data": {
      "text/plain": [
       "{35: 'Dhoni', 36: 'Rohit', 37: 'Kartik'}"
      ]
     },
     "execution_count": 21,
     "metadata": {},
     "output_type": "execute_result"
    }
   ],
   "source": [
    "players_name = ('Virat','Rohit','Dhoni','Kartik')\n",
    "age = (35,36,35,37)\n",
    "\n",
    "dict(zip(age,players_name))"
   ]
  },
  {
   "cell_type": "markdown",
   "id": "portable-volleyball",
   "metadata": {},
   "source": [
    "### 2. filter"
   ]
  },
  {
   "cell_type": "code",
   "execution_count": null,
   "id": "interracial-ranch",
   "metadata": {},
   "outputs": [],
   "source": [
    "filter(function_name, iterable)"
   ]
  },
  {
   "cell_type": "code",
   "execution_count": 27,
   "id": "lonely-accessory",
   "metadata": {},
   "outputs": [
    {
     "data": {
      "text/plain": [
       "11"
      ]
     },
     "execution_count": 27,
     "metadata": {},
     "output_type": "execute_result"
    }
   ],
   "source": [
    "def test_odd_number(x):\n",
    "    if x %2 != 0:\n",
    "        return x\n",
    "    \n",
    "test_odd_number(11)"
   ]
  },
  {
   "cell_type": "code",
   "execution_count": 30,
   "id": "generic-block",
   "metadata": {},
   "outputs": [],
   "source": [
    "def test_odd_number(x):\n",
    "    if x %2 != 0:\n",
    "        return x\n",
    "    \n",
    "test_odd_number(12)"
   ]
  },
  {
   "cell_type": "code",
   "execution_count": 33,
   "id": "seasonal-exclusive",
   "metadata": {},
   "outputs": [
    {
     "data": {
      "text/plain": [
       "[3, 1, 5, 7, 9]"
      ]
     },
     "execution_count": 33,
     "metadata": {},
     "output_type": "execute_result"
    }
   ],
   "source": [
    "list(filter(lambda x : x%2 != 0, [3,1,2,5,6,7,8,9,10]))"
   ]
  },
  {
   "cell_type": "code",
   "execution_count": 35,
   "id": "developmental-asset",
   "metadata": {},
   "outputs": [
    {
     "data": {
      "text/plain": [
       "[3, 1, 5, 7, 9]"
      ]
     },
     "execution_count": 35,
     "metadata": {},
     "output_type": "execute_result"
    }
   ],
   "source": [
    "odd_list = list(filter(lambda x : x%2 != 0, [3,1,2,5,6,7,8,9,10]))\n",
    "odd_list"
   ]
  },
  {
   "cell_type": "code",
   "execution_count": 37,
   "id": "guilty-empire",
   "metadata": {},
   "outputs": [
    {
     "data": {
      "text/plain": [
       "[2, 6, 8, 10]"
      ]
     },
     "execution_count": 37,
     "metadata": {},
     "output_type": "execute_result"
    }
   ],
   "source": [
    "even_list = list(filter(lambda x : x%2 == 0, [3,1,2,5,6,7,8,9,10]))\n",
    "even_list"
   ]
  },
  {
   "cell_type": "code",
   "execution_count": 39,
   "id": "forced-joining",
   "metadata": {},
   "outputs": [
    {
     "data": {
      "text/plain": [
       "['P', 'D', 'S']"
      ]
     },
     "execution_count": 39,
     "metadata": {},
     "output_type": "execute_result"
    }
   ],
   "source": [
    "string = 'Python and Data Science'\n",
    "\n",
    "upper_char = list(filter(lambda x : x.isupper(), string))\n",
    "upper_char"
   ]
  },
  {
   "cell_type": "code",
   "execution_count": 53,
   "id": "above-lover",
   "metadata": {},
   "outputs": [
    {
     "name": "stdout",
     "output_type": "stream",
     "text": [
      "['y', 't', 'h', 'o', 'n', 'a', 'n', 'd', 'a', 't', 'a', 'c', 'i', 'e', 'n', 'c', 'e']\n"
     ]
    }
   ],
   "source": [
    "string = 'Python and Data Science'\n",
    "\n",
    "upper_char = list(filter(lambda x : x.islower(), string))\n",
    "print(upper_char)"
   ]
  },
  {
   "cell_type": "code",
   "execution_count": null,
   "id": "private-nancy",
   "metadata": {},
   "outputs": [],
   "source": [
    "string = 'Python and Data Science'\n",
    "\n",
    "upper_char = list(filter(lambda x : x.upper(), string))\n",
    "print(upper_char)"
   ]
  },
  {
   "cell_type": "code",
   "execution_count": 41,
   "id": "acute-emperor",
   "metadata": {},
   "outputs": [
    {
     "name": "stdout",
     "output_type": "stream",
     "text": [
      "Hello\n"
     ]
    }
   ],
   "source": [
    "string = 'python'\n",
    "\n",
    "if string:\n",
    "    print(\"Hello\")"
   ]
  },
  {
   "cell_type": "code",
   "execution_count": 43,
   "id": "applied-static",
   "metadata": {},
   "outputs": [
    {
     "name": "stdout",
     "output_type": "stream",
     "text": [
      "Hello\n"
     ]
    }
   ],
   "source": [
    "string = 'python'\n",
    "\n",
    "if string.lower():\n",
    "    print(\"Hello\")"
   ]
  },
  {
   "cell_type": "code",
   "execution_count": 44,
   "id": "sharp-harrison",
   "metadata": {},
   "outputs": [
    {
     "name": "stdout",
     "output_type": "stream",
     "text": [
      "Hello\n"
     ]
    }
   ],
   "source": [
    "string = 'python'\n",
    "\n",
    "if string.upper():\n",
    "    print(\"Hello\")"
   ]
  },
  {
   "cell_type": "code",
   "execution_count": 46,
   "id": "manual-advancement",
   "metadata": {},
   "outputs": [
    {
     "name": "stdout",
     "output_type": "stream",
     "text": [
      "Hello\n"
     ]
    }
   ],
   "source": [
    "if 'P':\n",
    "    print(\"Hello\")"
   ]
  },
  {
   "cell_type": "code",
   "execution_count": 49,
   "id": "reduced-tunisia",
   "metadata": {},
   "outputs": [
    {
     "name": "stdout",
     "output_type": "stream",
     "text": [
      "Hello\n"
     ]
    }
   ],
   "source": [
    "if 'p':\n",
    "    print(\"Hello\")"
   ]
  },
  {
   "cell_type": "code",
   "execution_count": 54,
   "id": "decimal-china",
   "metadata": {},
   "outputs": [
    {
     "name": "stdout",
     "output_type": "stream",
     "text": [
      "['P', 'y', 't', 'h', 'o', 'n']\n"
     ]
    }
   ],
   "source": [
    "string = 'Python'\n",
    "\n",
    "upper_char = list(filter(lambda x : x.upper(), string))\n",
    "print(upper_char)"
   ]
  },
  {
   "cell_type": "markdown",
   "id": "french-vatican",
   "metadata": {},
   "source": [
    "### map"
   ]
  },
  {
   "cell_type": "code",
   "execution_count": null,
   "id": "qualified-paint",
   "metadata": {},
   "outputs": [],
   "source": [
    "map(function_name, iterables)"
   ]
  },
  {
   "cell_type": "code",
   "execution_count": 56,
   "id": "bottom-vienna",
   "metadata": {},
   "outputs": [
    {
     "name": "stdout",
     "output_type": "stream",
     "text": [
      "['P', 'Y', 'T', 'H', 'O', 'N']\n"
     ]
    }
   ],
   "source": [
    "string = 'Python'\n",
    "\n",
    "upper_char = list(map(lambda x : x.upper(), string))\n",
    "print(upper_char)"
   ]
  },
  {
   "cell_type": "code",
   "execution_count": 58,
   "id": "gentle-danish",
   "metadata": {},
   "outputs": [
    {
     "data": {
      "text/plain": [
       "[True, True, False, True, False, True, False, True, False]"
      ]
     },
     "execution_count": 58,
     "metadata": {},
     "output_type": "execute_result"
    }
   ],
   "source": [
    "list1 = [3,1,2,5,6,7,8,9,10]\n",
    "odd_list = list(map(lambda x : x%2 != 0,list1 ))\n",
    "odd_list"
   ]
  },
  {
   "cell_type": "code",
   "execution_count": 60,
   "id": "proprietary-waters",
   "metadata": {},
   "outputs": [
    {
     "data": {
      "text/plain": [
       "[13, 11, 12, 15, 16, 17, 18, 19, 20]"
      ]
     },
     "execution_count": 60,
     "metadata": {},
     "output_type": "execute_result"
    }
   ],
   "source": [
    "list1 = [3,1,2,5,6,7,8,9,10]\n",
    "result = list(map(lambda x : x + 10,list1 ))\n",
    "result"
   ]
  },
  {
   "cell_type": "code",
   "execution_count": 63,
   "id": "hidden-stationery",
   "metadata": {},
   "outputs": [
    {
     "data": {
      "text/plain": [
       "[27, 1, 8, 125, 216, 343, 512, 729, 1000]"
      ]
     },
     "execution_count": 63,
     "metadata": {},
     "output_type": "execute_result"
    }
   ],
   "source": [
    "list1 = [3,1,2,5,6,7,8,9,10]\n",
    "result = list(map(lambda x : x ** 3,list1 ))\n",
    "result"
   ]
  },
  {
   "cell_type": "code",
   "execution_count": 65,
   "id": "weighted-credits",
   "metadata": {},
   "outputs": [
    {
     "data": {
      "text/plain": [
       "[10, 9, 11, 15]"
      ]
     },
     "execution_count": 65,
     "metadata": {},
     "output_type": "execute_result"
    }
   ],
   "source": [
    "list1 = [3,1,2,5]\n",
    "list2 = [7,8,9,10]\n",
    "result = list(map(lambda x,y: x+y,list1,list2 ))\n",
    "result"
   ]
  },
  {
   "cell_type": "code",
   "execution_count": 67,
   "id": "fifth-facility",
   "metadata": {},
   "outputs": [
    {
     "data": {
      "text/plain": [
       "[21, 8, 18, 50]"
      ]
     },
     "execution_count": 67,
     "metadata": {},
     "output_type": "execute_result"
    }
   ],
   "source": [
    "list1 = [3,1,2,5]\n",
    "list2 = [7,8,9,10]\n",
    "result = list(map(lambda x,y: x*y,list1,list2 ))\n",
    "result"
   ]
  },
  {
   "cell_type": "code",
   "execution_count": 69,
   "id": "falling-photographer",
   "metadata": {},
   "outputs": [
    {
     "data": {
      "text/plain": [
       "[1000, 1000, 1000, 1000]"
      ]
     },
     "execution_count": 69,
     "metadata": {},
     "output_type": "execute_result"
    }
   ],
   "source": [
    "list1 = [3,1,2,5]\n",
    "list2 = [7,8,9,10]\n",
    "result = list(map(lambda x,y: 1000 ,list1,list2 ))\n",
    "result"
   ]
  },
  {
   "cell_type": "code",
   "execution_count": null,
   "id": "quality-moral",
   "metadata": {},
   "outputs": [],
   "source": [
    "       1\n",
    "      1 1\n",
    "     1 2 1\n",
    "    1 3 3 1\n",
    "   1 4 6 4 1\n",
    "  \n",
    "      0C0\n",
    "    1C0 1C1\n",
    "   2C0 2C1 2C2\n",
    "  3C0 3C1 3C2  3C3\n",
    "4C0  4C1 4C2 4C3 4C4"
   ]
  },
  {
   "cell_type": "code",
   "execution_count": null,
   "id": "affected-vancouver",
   "metadata": {},
   "outputs": [],
   "source": [
    "nCr = n!/(n-r)! r!"
   ]
  },
  {
   "cell_type": "code",
   "execution_count": null,
   "id": "closed-method",
   "metadata": {},
   "outputs": [],
   "source": [
    "5C2 = 5!/(3!* 2!)\n",
    "120/(6*2) = 10"
   ]
  },
  {
   "cell_type": "code",
   "execution_count": 72,
   "id": "atomic-beatles",
   "metadata": {},
   "outputs": [
    {
     "data": {
      "text/plain": [
       "10.0"
      ]
     },
     "execution_count": 72,
     "metadata": {},
     "output_type": "execute_result"
    }
   ],
   "source": [
    "120/(6*2) "
   ]
  },
  {
   "cell_type": "code",
   "execution_count": null,
   "id": "better-venice",
   "metadata": {},
   "outputs": [],
   "source": [
    "5C5 = 5!/(0!* 5!)\n",
    "5C0 = 5!/(5!* 0!)\n"
   ]
  }
 ],
 "metadata": {
  "kernelspec": {
   "display_name": "Python 3 (ipykernel)",
   "language": "python",
   "name": "python3"
  },
  "language_info": {
   "codemirror_mode": {
    "name": "ipython",
    "version": 3
   },
   "file_extension": ".py",
   "mimetype": "text/x-python",
   "name": "python",
   "nbconvert_exporter": "python",
   "pygments_lexer": "ipython3",
   "version": "3.9.12"
  }
 },
 "nbformat": 4,
 "nbformat_minor": 5
}
