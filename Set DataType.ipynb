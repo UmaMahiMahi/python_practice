{
 "cells": [
  {
   "cell_type": "markdown",
   "id": "hidden-corps",
   "metadata": {},
   "source": [
    "# Python Data Types"
   ]
  },
  {
   "cell_type": "code",
   "execution_count": null,
   "id": "center-postage",
   "metadata": {},
   "outputs": [],
   "source": [
    "1. String : Immutable, Ordered, Duplicates are allowed, '', \"\", '''a''', \"\"\"a\"\"\"\n",
    "2. list   : Mutable,   Ordered, Duplicates are allowed, [], list()\n",
    "3. Tuple  : Immutable, Ordered, Duplicates are allowed, ()"
   ]
  },
  {
   "cell_type": "code",
   "execution_count": 2,
   "id": "angry-pioneer",
   "metadata": {},
   "outputs": [
    {
     "data": {
      "text/plain": [
       "tuple"
      ]
     },
     "execution_count": 2,
     "metadata": {},
     "output_type": "execute_result"
    }
   ],
   "source": [
    "x = ()\n",
    "type(x)"
   ]
  },
  {
   "cell_type": "code",
   "execution_count": 5,
   "id": "specific-midwest",
   "metadata": {},
   "outputs": [
    {
     "data": {
      "text/plain": [
       "tuple"
      ]
     },
     "execution_count": 5,
     "metadata": {},
     "output_type": "execute_result"
    }
   ],
   "source": [
    "x = (100,)\n",
    "type(x)"
   ]
  },
  {
   "cell_type": "code",
   "execution_count": 6,
   "id": "global-jason",
   "metadata": {},
   "outputs": [
    {
     "data": {
      "text/plain": [
       "tuple"
      ]
     },
     "execution_count": 6,
     "metadata": {},
     "output_type": "execute_result"
    }
   ],
   "source": [
    "x = (1.90,0)\n",
    "type(x)"
   ]
  },
  {
   "cell_type": "markdown",
   "id": "enabling-plain",
   "metadata": {},
   "source": [
    "# Set DataType"
   ]
  },
  {
   "cell_type": "code",
   "execution_count": null,
   "id": "hourly-thailand",
   "metadata": {},
   "outputs": [],
   "source": [
    "1. Mutable >> Changable\n",
    "2. Unordered >> we can not use indexing and slicing\n",
    "3. Duplicates are not allowed\n",
    "4. Enclosed by {}\n",
    "5. Initialize with set()\n",
    "6. Sets item are comma seperaed\n",
    "7. We can add only Immutable items in set data type"
   ]
  },
  {
   "cell_type": "markdown",
   "id": "hidden-replacement",
   "metadata": {},
   "source": [
    "## Set Functions"
   ]
  },
  {
   "cell_type": "code",
   "execution_count": null,
   "id": "external-poison",
   "metadata": {},
   "outputs": [],
   "source": [
    "1. add()\n",
    "2. update()\n",
    "3. union()\n",
    "\n",
    "4. remove()\n",
    "5. discard()\n",
    "6. pop()\n",
    "7. clear()"
   ]
  },
  {
   "cell_type": "code",
   "execution_count": null,
   "id": "short-giving",
   "metadata": {},
   "outputs": [],
   "source": []
  },
  {
   "cell_type": "code",
   "execution_count": null,
   "id": "indirect-rochester",
   "metadata": {},
   "outputs": [],
   "source": [
    "list >> tuple\n",
    "tuple >> list\n",
    "list >> set\n",
    "set >> list\n",
    "set >> tuple\n",
    "tuple >> set"
   ]
  },
  {
   "cell_type": "code",
   "execution_count": 12,
   "id": "italic-fight",
   "metadata": {},
   "outputs": [
    {
     "data": {
      "text/plain": [
       "{3, 4, 5, 6, 7}"
      ]
     },
     "execution_count": 12,
     "metadata": {},
     "output_type": "execute_result"
    }
   ],
   "source": [
    "a = {3,4,5,6,7}\n",
    "a"
   ]
  },
  {
   "cell_type": "code",
   "execution_count": 14,
   "id": "excited-statistics",
   "metadata": {},
   "outputs": [
    {
     "data": {
      "text/plain": [
       "dict"
      ]
     },
     "execution_count": 14,
     "metadata": {},
     "output_type": "execute_result"
    }
   ],
   "source": [
    "d1 = {'a':100,'b':200}\n",
    "d1\n",
    "type(d1)"
   ]
  },
  {
   "cell_type": "code",
   "execution_count": 17,
   "id": "temporal-notice",
   "metadata": {},
   "outputs": [
    {
     "data": {
      "text/plain": [
       "dict"
      ]
     },
     "execution_count": 17,
     "metadata": {},
     "output_type": "execute_result"
    }
   ],
   "source": [
    "x = {}\n",
    "type(x)"
   ]
  },
  {
   "cell_type": "code",
   "execution_count": 18,
   "id": "enabling-living",
   "metadata": {},
   "outputs": [
    {
     "data": {
      "text/plain": [
       "dict"
      ]
     },
     "execution_count": 18,
     "metadata": {},
     "output_type": "execute_result"
    }
   ],
   "source": [
    "x = dict()\n",
    "type(x)"
   ]
  },
  {
   "cell_type": "code",
   "execution_count": 19,
   "id": "prescribed-missile",
   "metadata": {},
   "outputs": [
    {
     "data": {
      "text/plain": [
       "set"
      ]
     },
     "execution_count": 19,
     "metadata": {},
     "output_type": "execute_result"
    }
   ],
   "source": [
    "x = set()\n",
    "type(x)"
   ]
  },
  {
   "cell_type": "code",
   "execution_count": 21,
   "id": "distinguished-habitat",
   "metadata": {},
   "outputs": [
    {
     "data": {
      "text/plain": [
       "{1, 3, 6, 7, 8, 10, 20}"
      ]
     },
     "execution_count": 21,
     "metadata": {},
     "output_type": "execute_result"
    }
   ],
   "source": [
    "s1 = {3,1,1,6,7,8,10,20}\n",
    "s1"
   ]
  },
  {
   "cell_type": "code",
   "execution_count": 26,
   "id": "spread-alarm",
   "metadata": {},
   "outputs": [
    {
     "data": {
      "text/plain": [
       "{1, 10, 20, 3, 5.67, 6, 7, 8, 'a', 'python'}"
      ]
     },
     "execution_count": 26,
     "metadata": {},
     "output_type": "execute_result"
    }
   ],
   "source": [
    "s1 = {3,1,5.67,'python',1,6,7,8,10,20,'a'}\n",
    "s1"
   ]
  },
  {
   "cell_type": "code",
   "execution_count": 31,
   "id": "becoming-thompson",
   "metadata": {},
   "outputs": [
    {
     "data": {
      "text/plain": [
       "8"
      ]
     },
     "execution_count": 31,
     "metadata": {},
     "output_type": "execute_result"
    }
   ],
   "source": [
    "s1 = {3,1,1,6,6,6,7,8,10,20,10,10,100,10}\n",
    "len(s1)"
   ]
  },
  {
   "cell_type": "code",
   "execution_count": 43,
   "id": "aerial-frederick",
   "metadata": {},
   "outputs": [
    {
     "name": "stdout",
     "output_type": "stream",
     "text": [
      "{3, 4.56} <class 'set'>\n"
     ]
    },
    {
     "data": {
      "text/plain": [
       "2"
      ]
     },
     "execution_count": 43,
     "metadata": {},
     "output_type": "execute_result"
    }
   ],
   "source": [
    "s1 = {3,3,4.56}\n",
    "print(s1,type(s1))\n",
    "len(s1)"
   ]
  },
  {
   "cell_type": "code",
   "execution_count": 45,
   "id": "deluxe-fight",
   "metadata": {},
   "outputs": [
    {
     "name": "stdout",
     "output_type": "stream",
     "text": [
      "{3, 4.56, (10, 20, 30)}\n"
     ]
    },
    {
     "data": {
      "text/plain": [
       "3"
      ]
     },
     "execution_count": 45,
     "metadata": {},
     "output_type": "execute_result"
    }
   ],
   "source": [
    "s1 = {3,3,4.56,(10,20,30)}\n",
    "print(s1)\n",
    "len(s1)"
   ]
  },
  {
   "cell_type": "code",
   "execution_count": 47,
   "id": "bright-twelve",
   "metadata": {},
   "outputs": [
    {
     "name": "stdout",
     "output_type": "stream",
     "text": [
      "{(4+5j), 3, 4.56, (10, 20, 30)}\n"
     ]
    },
    {
     "data": {
      "text/plain": [
       "4"
      ]
     },
     "execution_count": 47,
     "metadata": {},
     "output_type": "execute_result"
    }
   ],
   "source": [
    "s1 = {3,3,4.56,(10,20,30),4+5j}\n",
    "print(s1)\n",
    "len(s1)"
   ]
  },
  {
   "cell_type": "code",
   "execution_count": 49,
   "id": "progressive-cancellation",
   "metadata": {},
   "outputs": [
    {
     "ename": "TypeError",
     "evalue": "unhashable type: 'list'",
     "output_type": "error",
     "traceback": [
      "\u001b[1;31m---------------------------------------------------------------------------\u001b[0m",
      "\u001b[1;31mTypeError\u001b[0m                                 Traceback (most recent call last)",
      "\u001b[1;32m<ipython-input-49-01290653d0b6>\u001b[0m in \u001b[0;36m<module>\u001b[1;34m\u001b[0m\n\u001b[1;32m----> 1\u001b[1;33m \u001b[0ms1\u001b[0m \u001b[1;33m=\u001b[0m \u001b[1;33m{\u001b[0m\u001b[1;36m3\u001b[0m\u001b[1;33m,\u001b[0m\u001b[1;36m3\u001b[0m\u001b[1;33m,\u001b[0m\u001b[1;36m4.56\u001b[0m\u001b[1;33m,\u001b[0m\u001b[1;33m(\u001b[0m\u001b[1;36m10\u001b[0m\u001b[1;33m,\u001b[0m\u001b[1;36m20\u001b[0m\u001b[1;33m,\u001b[0m\u001b[1;36m30\u001b[0m\u001b[1;33m)\u001b[0m\u001b[1;33m,\u001b[0m\u001b[1;36m4\u001b[0m\u001b[1;33m+\u001b[0m\u001b[1;36m5j\u001b[0m\u001b[1;33m,\u001b[0m\u001b[1;33m[\u001b[0m\u001b[1;36m9\u001b[0m\u001b[1;33m,\u001b[0m\u001b[1;36m8\u001b[0m\u001b[1;33m,\u001b[0m\u001b[1;36m7\u001b[0m\u001b[1;33m]\u001b[0m\u001b[1;33m}\u001b[0m\u001b[1;33m\u001b[0m\u001b[1;33m\u001b[0m\u001b[0m\n\u001b[0m\u001b[0;32m      2\u001b[0m \u001b[0mprint\u001b[0m\u001b[1;33m(\u001b[0m\u001b[0ms1\u001b[0m\u001b[1;33m)\u001b[0m\u001b[1;33m\u001b[0m\u001b[1;33m\u001b[0m\u001b[0m\n\u001b[0;32m      3\u001b[0m \u001b[0mlen\u001b[0m\u001b[1;33m(\u001b[0m\u001b[0ms1\u001b[0m\u001b[1;33m)\u001b[0m\u001b[1;33m\u001b[0m\u001b[1;33m\u001b[0m\u001b[0m\n",
      "\u001b[1;31mTypeError\u001b[0m: unhashable type: 'list'"
     ]
    }
   ],
   "source": [
    "s1 = {3,3,4.56,(10,20,30),4+5j,[9,8,7]}\n",
    "print(s1)\n",
    "len(s1)"
   ]
  },
  {
   "cell_type": "code",
   "execution_count": 51,
   "id": "blank-twelve",
   "metadata": {},
   "outputs": [
    {
     "ename": "TypeError",
     "evalue": "unhashable type: 'set'",
     "output_type": "error",
     "traceback": [
      "\u001b[1;31m---------------------------------------------------------------------------\u001b[0m",
      "\u001b[1;31mTypeError\u001b[0m                                 Traceback (most recent call last)",
      "\u001b[1;32m<ipython-input-51-9fba8679167d>\u001b[0m in \u001b[0;36m<module>\u001b[1;34m\u001b[0m\n\u001b[1;32m----> 1\u001b[1;33m \u001b[0ms1\u001b[0m \u001b[1;33m=\u001b[0m \u001b[1;33m{\u001b[0m\u001b[1;36m3\u001b[0m\u001b[1;33m,\u001b[0m\u001b[1;36m3\u001b[0m\u001b[1;33m,\u001b[0m\u001b[1;36m4.56\u001b[0m\u001b[1;33m,\u001b[0m\u001b[1;33m(\u001b[0m\u001b[1;36m10\u001b[0m\u001b[1;33m,\u001b[0m\u001b[1;36m20\u001b[0m\u001b[1;33m,\u001b[0m\u001b[1;36m30\u001b[0m\u001b[1;33m)\u001b[0m\u001b[1;33m,\u001b[0m\u001b[1;36m4\u001b[0m\u001b[1;33m+\u001b[0m\u001b[1;36m5j\u001b[0m\u001b[1;33m,\u001b[0m\u001b[1;33m{\u001b[0m\u001b[1;36m3\u001b[0m\u001b[1;33m,\u001b[0m\u001b[1;36m4\u001b[0m\u001b[1;33m,\u001b[0m\u001b[1;36m5\u001b[0m\u001b[1;33m}\u001b[0m\u001b[1;33m}\u001b[0m\u001b[1;33m\u001b[0m\u001b[1;33m\u001b[0m\u001b[0m\n\u001b[0m\u001b[0;32m      2\u001b[0m \u001b[0mprint\u001b[0m\u001b[1;33m(\u001b[0m\u001b[0ms1\u001b[0m\u001b[1;33m)\u001b[0m\u001b[1;33m\u001b[0m\u001b[1;33m\u001b[0m\u001b[0m\n\u001b[0;32m      3\u001b[0m \u001b[0mlen\u001b[0m\u001b[1;33m(\u001b[0m\u001b[0ms1\u001b[0m\u001b[1;33m)\u001b[0m\u001b[1;33m\u001b[0m\u001b[1;33m\u001b[0m\u001b[0m\n",
      "\u001b[1;31mTypeError\u001b[0m: unhashable type: 'set'"
     ]
    }
   ],
   "source": [
    "s1 = {3,3,4.56,(10,20,30),4+5j,{3,4,5}}\n",
    "print(s1)\n",
    "len(s1)"
   ]
  },
  {
   "cell_type": "code",
   "execution_count": 53,
   "id": "mental-registration",
   "metadata": {},
   "outputs": [
    {
     "ename": "TypeError",
     "evalue": "unhashable type: 'dict'",
     "output_type": "error",
     "traceback": [
      "\u001b[1;31m---------------------------------------------------------------------------\u001b[0m",
      "\u001b[1;31mTypeError\u001b[0m                                 Traceback (most recent call last)",
      "\u001b[1;32m<ipython-input-53-48e066ca6c29>\u001b[0m in \u001b[0;36m<module>\u001b[1;34m\u001b[0m\n\u001b[1;32m----> 1\u001b[1;33m \u001b[0ms1\u001b[0m \u001b[1;33m=\u001b[0m \u001b[1;33m{\u001b[0m\u001b[1;36m3\u001b[0m\u001b[1;33m,\u001b[0m\u001b[1;36m3\u001b[0m\u001b[1;33m,\u001b[0m\u001b[1;36m4.56\u001b[0m\u001b[1;33m,\u001b[0m\u001b[1;33m(\u001b[0m\u001b[1;36m10\u001b[0m\u001b[1;33m,\u001b[0m\u001b[1;36m20\u001b[0m\u001b[1;33m,\u001b[0m\u001b[1;36m30\u001b[0m\u001b[1;33m)\u001b[0m\u001b[1;33m,\u001b[0m\u001b[1;36m4\u001b[0m\u001b[1;33m+\u001b[0m\u001b[1;36m5j\u001b[0m\u001b[1;33m,\u001b[0m\u001b[1;33m{\u001b[0m\u001b[1;36m1\u001b[0m\u001b[1;33m:\u001b[0m\u001b[1;36m100\u001b[0m\u001b[1;33m,\u001b[0m\u001b[1;36m2\u001b[0m\u001b[1;33m:\u001b[0m\u001b[1;36m200\u001b[0m\u001b[1;33m}\u001b[0m\u001b[1;33m}\u001b[0m\u001b[1;33m\u001b[0m\u001b[1;33m\u001b[0m\u001b[0m\n\u001b[0m\u001b[0;32m      2\u001b[0m \u001b[0mprint\u001b[0m\u001b[1;33m(\u001b[0m\u001b[0ms1\u001b[0m\u001b[1;33m)\u001b[0m\u001b[1;33m\u001b[0m\u001b[1;33m\u001b[0m\u001b[0m\n\u001b[0;32m      3\u001b[0m \u001b[0mlen\u001b[0m\u001b[1;33m(\u001b[0m\u001b[0ms1\u001b[0m\u001b[1;33m)\u001b[0m\u001b[1;33m\u001b[0m\u001b[1;33m\u001b[0m\u001b[0m\n",
      "\u001b[1;31mTypeError\u001b[0m: unhashable type: 'dict'"
     ]
    }
   ],
   "source": [
    "s1 = {3,3,4.56,(10,20,30),4+5j,{1:100,2:200}}\n",
    "print(s1)\n",
    "len(s1)"
   ]
  },
  {
   "cell_type": "code",
   "execution_count": 59,
   "id": "thirty-brief",
   "metadata": {},
   "outputs": [
    {
     "data": {
      "text/plain": [
       "[3, 4, 5, 6, 7, 8]"
      ]
     },
     "execution_count": 59,
     "metadata": {},
     "output_type": "execute_result"
    }
   ],
   "source": [
    "list1 = [3,4,5,5,5,6,7,8]\n",
    "s1 = set(list1)\n",
    "list2 = list(s1)\n",
    "list2"
   ]
  },
  {
   "cell_type": "code",
   "execution_count": 61,
   "id": "fossil-moral",
   "metadata": {},
   "outputs": [
    {
     "data": {
      "text/plain": [
       "[3, 4, 5, 6, 7, 8]"
      ]
     },
     "execution_count": 61,
     "metadata": {},
     "output_type": "execute_result"
    }
   ],
   "source": [
    "list1 = [3,4,5,5,5,6,7,8]\n",
    "list2 = list(set(list1))\n",
    "list2"
   ]
  },
  {
   "cell_type": "code",
   "execution_count": 63,
   "id": "fitting-contrast",
   "metadata": {},
   "outputs": [
    {
     "data": {
      "text/plain": [
       "[3, 4, 5, 6, 7, 8, 'python', 'data']"
      ]
     },
     "execution_count": 63,
     "metadata": {},
     "output_type": "execute_result"
    }
   ],
   "source": [
    "list1 = [3,4,5,'data','python',5,5,6,7,8]\n",
    "list2 = list(set(list1))\n",
    "list2"
   ]
  },
  {
   "cell_type": "code",
   "execution_count": 64,
   "id": "meaningful-distributor",
   "metadata": {},
   "outputs": [
    {
     "data": {
      "text/plain": [
       "(3, 4, 5, 6, 7, 8, 'python', 'data')"
      ]
     },
     "execution_count": 64,
     "metadata": {},
     "output_type": "execute_result"
    }
   ],
   "source": [
    "list1 = [3,4,5,'data','python',5,5,6,7,8]\n",
    "x = tuple(set(list1))\n",
    "x"
   ]
  },
  {
   "cell_type": "markdown",
   "id": "fresh-passport",
   "metadata": {},
   "source": [
    "# Access set items "
   ]
  },
  {
   "cell_type": "code",
   "execution_count": 66,
   "id": "conscious-chester",
   "metadata": {},
   "outputs": [
    {
     "ename": "TypeError",
     "evalue": "'set' object is not subscriptable",
     "output_type": "error",
     "traceback": [
      "\u001b[1;31m---------------------------------------------------------------------------\u001b[0m",
      "\u001b[1;31mTypeError\u001b[0m                                 Traceback (most recent call last)",
      "\u001b[1;32m<ipython-input-66-ed466f0a0f87>\u001b[0m in \u001b[0;36m<module>\u001b[1;34m\u001b[0m\n\u001b[0;32m      1\u001b[0m \u001b[0mset1\u001b[0m \u001b[1;33m=\u001b[0m \u001b[1;33m{\u001b[0m\u001b[1;36m9\u001b[0m\u001b[1;33m,\u001b[0m\u001b[1;36m8\u001b[0m\u001b[1;33m,\u001b[0m\u001b[1;36m7\u001b[0m\u001b[1;33m,\u001b[0m\u001b[1;36m7\u001b[0m\u001b[1;33m,\u001b[0m\u001b[1;36m7\u001b[0m\u001b[1;33m,\u001b[0m\u001b[1;36m4\u001b[0m\u001b[1;33m,\u001b[0m\u001b[1;36m3\u001b[0m\u001b[1;33m}\u001b[0m\u001b[1;33m\u001b[0m\u001b[1;33m\u001b[0m\u001b[0m\n\u001b[1;32m----> 2\u001b[1;33m \u001b[0mset1\u001b[0m\u001b[1;33m[\u001b[0m\u001b[1;36m0\u001b[0m\u001b[1;33m]\u001b[0m\u001b[1;33m\u001b[0m\u001b[1;33m\u001b[0m\u001b[0m\n\u001b[0m",
      "\u001b[1;31mTypeError\u001b[0m: 'set' object is not subscriptable"
     ]
    }
   ],
   "source": [
    "set1 = {9,8,7,7,7,4,3}\n",
    "set1[0]"
   ]
  },
  {
   "cell_type": "code",
   "execution_count": 68,
   "id": "expressed-sunglasses",
   "metadata": {},
   "outputs": [
    {
     "ename": "TypeError",
     "evalue": "'set' object is not subscriptable",
     "output_type": "error",
     "traceback": [
      "\u001b[1;31m---------------------------------------------------------------------------\u001b[0m",
      "\u001b[1;31mTypeError\u001b[0m                                 Traceback (most recent call last)",
      "\u001b[1;32m<ipython-input-68-e4f26eba9723>\u001b[0m in \u001b[0;36m<module>\u001b[1;34m\u001b[0m\n\u001b[0;32m      1\u001b[0m \u001b[0mset1\u001b[0m \u001b[1;33m=\u001b[0m \u001b[1;33m{\u001b[0m\u001b[1;36m9\u001b[0m\u001b[1;33m,\u001b[0m\u001b[1;36m8\u001b[0m\u001b[1;33m,\u001b[0m\u001b[1;36m7\u001b[0m\u001b[1;33m,\u001b[0m\u001b[1;36m7\u001b[0m\u001b[1;33m,\u001b[0m\u001b[1;36m7\u001b[0m\u001b[1;33m,\u001b[0m\u001b[1;36m4\u001b[0m\u001b[1;33m,\u001b[0m\u001b[1;36m3\u001b[0m\u001b[1;33m}\u001b[0m\u001b[1;33m\u001b[0m\u001b[1;33m\u001b[0m\u001b[0m\n\u001b[1;32m----> 2\u001b[1;33m \u001b[0mset1\u001b[0m\u001b[1;33m[\u001b[0m\u001b[1;36m0\u001b[0m\u001b[1;33m:\u001b[0m\u001b[1;36m3\u001b[0m\u001b[1;33m]\u001b[0m\u001b[1;33m\u001b[0m\u001b[1;33m\u001b[0m\u001b[0m\n\u001b[0m",
      "\u001b[1;31mTypeError\u001b[0m: 'set' object is not subscriptable"
     ]
    }
   ],
   "source": [
    "set1 = {9,8,7,7,7,4,3}\n",
    "set1[0:3]"
   ]
  },
  {
   "cell_type": "code",
   "execution_count": 70,
   "id": "referenced-institution",
   "metadata": {},
   "outputs": [
    {
     "name": "stdout",
     "output_type": "stream",
     "text": [
      "3\n",
      "4\n",
      "7\n",
      "8\n",
      "9\n"
     ]
    }
   ],
   "source": [
    "set1 = {9,8,7,7,7,4,3}\n",
    "for i in set1:\n",
    "    print(i)"
   ]
  },
  {
   "cell_type": "code",
   "execution_count": 74,
   "id": "allied-latin",
   "metadata": {},
   "outputs": [
    {
     "name": "stdout",
     "output_type": "stream",
     "text": [
      "{3, 4, 7, 8, 9}\n",
      "i == 3\n",
      "i == 4\n",
      "i == 7\n",
      "i == 8\n",
      "i == 9\n"
     ]
    }
   ],
   "source": [
    "set1 = {9,8,7,7,7,4,3}\n",
    "print(set1)\n",
    "for i in set1:\n",
    "    print(f'i == {i}')"
   ]
  },
  {
   "cell_type": "code",
   "execution_count": 76,
   "id": "subject-ground",
   "metadata": {},
   "outputs": [
    {
     "name": "stdout",
     "output_type": "stream",
     "text": [
      "{'a', 3, 4, 5.45, 7, 8, 9, 'machine Learning'}\n",
      "i == a\n",
      "i == 3\n",
      "i == 4\n",
      "i == 5.45\n",
      "i == 7\n",
      "i == 8\n",
      "i == 9\n",
      "i == machine Learning\n"
     ]
    }
   ],
   "source": [
    "set1 = {9,8,'a','machine Learning',5.45,7,7,7,4,3}\n",
    "print(set1)\n",
    "for i in set1:\n",
    "    print(f'i == {i}')"
   ]
  },
  {
   "cell_type": "code",
   "execution_count": 80,
   "id": "single-valve",
   "metadata": {},
   "outputs": [
    {
     "name": "stdout",
     "output_type": "stream",
     "text": [
      "{'a', 3, 4, 5.45, 7, 8, 9, 'machine Learning'}\n",
      "i == 10\n",
      "i == 11\n",
      "i == 12\n",
      "i == 13\n",
      "i == 14\n",
      "i == 15\n",
      "i == 16\n",
      "i == 17\n"
     ]
    }
   ],
   "source": [
    "set1 = {9,8,'a','machine Learning',5.45,7,7,7,4,3}\n",
    "print(set1)\n",
    "\n",
    "for i,val in enumerate(set1,start=10):\n",
    "    print(f'i == {i}')"
   ]
  },
  {
   "cell_type": "code",
   "execution_count": 92,
   "id": "chicken-passion",
   "metadata": {},
   "outputs": [
    {
     "data": {
      "text/plain": [
       "[4, 5, 7]"
      ]
     },
     "execution_count": 92,
     "metadata": {},
     "output_type": "execute_result"
    }
   ],
   "source": [
    "list1 = [3,4,5,2,4,7]\n",
    "list2 = [4,5,6,7,8,9]\n",
    "\n",
    "new_list = []\n",
    "for i in list1: # i = 2\n",
    "    if i in list2 and i not in new_list: # True and False  >> False\n",
    "        new_list.append(i) \n",
    "new_list"
   ]
  },
  {
   "cell_type": "code",
   "execution_count": 105,
   "id": "confidential-capacity",
   "metadata": {},
   "outputs": [
    {
     "data": {
      "text/plain": [
       "[3, 2]"
      ]
     },
     "execution_count": 105,
     "metadata": {},
     "output_type": "execute_result"
    }
   ],
   "source": [
    "list1 = [3,4,5,2,4,7]\n",
    "list2 = [4,5,6,7,8,9]\n",
    "\n",
    "new_list = [] # [3,2]\n",
    "for i in list1:\n",
    "    if i not in list2:\n",
    "        new_list.append(i)\n",
    "new_list"
   ]
  },
  {
   "cell_type": "markdown",
   "id": "average-devil",
   "metadata": {},
   "source": [
    "# Set Function"
   ]
  },
  {
   "cell_type": "markdown",
   "id": "endless-agreement",
   "metadata": {},
   "source": [
    "### 1. add()"
   ]
  },
  {
   "cell_type": "code",
   "execution_count": null,
   "id": "lined-kuwait",
   "metadata": {},
   "outputs": [],
   "source": [
    "Used to add only one item in set "
   ]
  },
  {
   "cell_type": "code",
   "execution_count": 107,
   "id": "worthy-casino",
   "metadata": {},
   "outputs": [
    {
     "data": {
      "text/plain": [
       "{2, 3, 5, 8, 9, 100}"
      ]
     },
     "execution_count": 107,
     "metadata": {},
     "output_type": "execute_result"
    }
   ],
   "source": [
    "set1 = {3,5,2,8,9}\n",
    "set1.add(100)\n",
    "set1"
   ]
  },
  {
   "cell_type": "code",
   "execution_count": 108,
   "id": "educational-bishop",
   "metadata": {},
   "outputs": [
    {
     "data": {
      "text/plain": [
       "{2, 3, 4, 5, 8, 9}"
      ]
     },
     "execution_count": 108,
     "metadata": {},
     "output_type": "execute_result"
    }
   ],
   "source": [
    "set1 = {3,5,2,8,9}\n",
    "set1.add(4)\n",
    "set1"
   ]
  },
  {
   "cell_type": "code",
   "execution_count": 110,
   "id": "spiritual-bosnia",
   "metadata": {},
   "outputs": [
    {
     "data": {
      "text/plain": [
       "{2, 3, 5, 8, 9, 'b'}"
      ]
     },
     "execution_count": 110,
     "metadata": {},
     "output_type": "execute_result"
    }
   ],
   "source": [
    "set1 = {3,5,2,8,9}\n",
    "set1.add('b')\n",
    "set1"
   ]
  },
  {
   "cell_type": "code",
   "execution_count": 112,
   "id": "fancy-cherry",
   "metadata": {},
   "outputs": [
    {
     "data": {
      "text/plain": [
       "{2, 3, 3.15, 5, 8, 9}"
      ]
     },
     "execution_count": 112,
     "metadata": {},
     "output_type": "execute_result"
    }
   ],
   "source": [
    "set1 = {3,5,2,8,9}\n",
    "set1.add(3.15)\n",
    "set1"
   ]
  },
  {
   "cell_type": "code",
   "execution_count": 114,
   "id": "split-variation",
   "metadata": {},
   "outputs": [
    {
     "data": {
      "text/plain": [
       "{(3, 4, 5), 2, 3, 5, 8, 9}"
      ]
     },
     "execution_count": 114,
     "metadata": {},
     "output_type": "execute_result"
    }
   ],
   "source": [
    "set1 = {3,5,2,8,9}\n",
    "set1.add((3,4,5))\n",
    "set1"
   ]
  },
  {
   "cell_type": "code",
   "execution_count": 116,
   "id": "orange-prairie",
   "metadata": {},
   "outputs": [
    {
     "data": {
      "text/plain": [
       "{10, 15, 20, 25, 50, 1000}"
      ]
     },
     "execution_count": 116,
     "metadata": {},
     "output_type": "execute_result"
    }
   ],
   "source": [
    "set1 = {10,20,15,25,50}\n",
    "set1.add(1000)\n",
    "set1"
   ]
  },
  {
   "cell_type": "code",
   "execution_count": 118,
   "id": "valued-anchor",
   "metadata": {},
   "outputs": [
    {
     "data": {
      "text/plain": [
       "{10, 15, 20, 25, 50}"
      ]
     },
     "execution_count": 118,
     "metadata": {},
     "output_type": "execute_result"
    }
   ],
   "source": [
    "set1 = {10,20,15,25,50}\n",
    "set1.add(10)\n",
    "set1"
   ]
  },
  {
   "cell_type": "code",
   "execution_count": 120,
   "id": "canadian-oracle",
   "metadata": {},
   "outputs": [
    {
     "data": {
      "text/plain": [
       "{'Bangalore', 'Chennai', 'Delhi', 'Mumbai', 'Pune'}"
      ]
     },
     "execution_count": 120,
     "metadata": {},
     "output_type": "execute_result"
    }
   ],
   "source": [
    "set1 = {'Mumbai', 'Pune','Chennai','Delhi'}\n",
    "set1.add('Bangalore')\n",
    "set1"
   ]
  },
  {
   "cell_type": "code",
   "execution_count": 122,
   "id": "expressed-congress",
   "metadata": {},
   "outputs": [
    {
     "data": {
      "text/plain": [
       "{'Chennai', 'Delhi', 'Mumbai', 'Pune'}"
      ]
     },
     "execution_count": 122,
     "metadata": {},
     "output_type": "execute_result"
    }
   ],
   "source": [
    "set1 = {'Mumbai', 'Pune','Chennai','Delhi'}\n",
    "set1.add('Pune')\n",
    "set1"
   ]
  },
  {
   "cell_type": "code",
   "execution_count": 124,
   "id": "resistant-catalog",
   "metadata": {},
   "outputs": [
    {
     "data": {
      "text/plain": [
       "{100, 'Chennai', 'Delhi', 'Mumbai', 'Pune'}"
      ]
     },
     "execution_count": 124,
     "metadata": {},
     "output_type": "execute_result"
    }
   ],
   "source": [
    "set1 = {'Mumbai', 'Pune','Chennai','Delhi'}\n",
    "set1.add(100)\n",
    "set1"
   ]
  },
  {
   "cell_type": "markdown",
   "id": "successful-bundle",
   "metadata": {},
   "source": [
    "### 2. update"
   ]
  },
  {
   "cell_type": "code",
   "execution_count": 126,
   "id": "brown-delivery",
   "metadata": {},
   "outputs": [
    {
     "data": {
      "text/plain": [
       "[3, 4, 5, 6, [10, 20, 30, 40, 40]]"
      ]
     },
     "execution_count": 126,
     "metadata": {},
     "output_type": "execute_result"
    }
   ],
   "source": [
    "list1 = [3,4,5,6]\n",
    "list2 = [10,20,30,40,40]\n",
    "list1.append(list2)\n",
    "list1"
   ]
  },
  {
   "cell_type": "code",
   "execution_count": 128,
   "id": "domestic-reach",
   "metadata": {},
   "outputs": [
    {
     "data": {
      "text/plain": [
       "[3, 4, 5, 6, 10, 20, 30, 40, 40]"
      ]
     },
     "execution_count": 128,
     "metadata": {},
     "output_type": "execute_result"
    }
   ],
   "source": [
    "list1 = [3,4,5,6]\n",
    "list2 = [10,20,30,40,40]\n",
    "list1.extend(list2)\n",
    "list1"
   ]
  },
  {
   "cell_type": "code",
   "execution_count": 137,
   "id": "intended-homeless",
   "metadata": {},
   "outputs": [
    {
     "data": {
      "text/plain": [
       "[10, 20, 30, 40, 40, 10, 20, 30, 40, 40]"
      ]
     },
     "execution_count": 137,
     "metadata": {},
     "output_type": "execute_result"
    }
   ],
   "source": [
    "list1 = [3,4,5,6]\n",
    "list2 = [10,20,30,40,40]\n",
    "list2.extend(list2)\n",
    "list2"
   ]
  },
  {
   "cell_type": "code",
   "execution_count": 139,
   "id": "neural-allergy",
   "metadata": {},
   "outputs": [
    {
     "data": {
      "text/plain": [
       "[3, 4, 5, 6, 10, 20, 30, 40, 40]"
      ]
     },
     "execution_count": 139,
     "metadata": {},
     "output_type": "execute_result"
    }
   ],
   "source": [
    "list1 = [3,4,5,6]\n",
    "list2 = [10,20,30,40,40]\n",
    "list1.extend(list2)\n",
    "list1"
   ]
  },
  {
   "cell_type": "code",
   "execution_count": 141,
   "id": "alpha-expansion",
   "metadata": {},
   "outputs": [
    {
     "data": {
      "text/plain": [
       "[3, 4, 5, 6, 10, 20, 30, 40, 40]"
      ]
     },
     "execution_count": 141,
     "metadata": {},
     "output_type": "execute_result"
    }
   ],
   "source": [
    "list1 = [3,4,5,6]\n",
    "list2 = (10,20,30,40,40)\n",
    "list1.extend(list2)\n",
    "list1"
   ]
  },
  {
   "cell_type": "code",
   "execution_count": 144,
   "id": "objective-marsh",
   "metadata": {},
   "outputs": [
    {
     "data": {
      "text/plain": [
       "[3, 4, 5, 6, 40, 10, 20, 30]"
      ]
     },
     "execution_count": 144,
     "metadata": {},
     "output_type": "execute_result"
    }
   ],
   "source": [
    "list1 = [3,4,5,6]\n",
    "set2 = {10,20,30,40,40}\n",
    "list1.extend(set2)\n",
    "list1"
   ]
  },
  {
   "cell_type": "code",
   "execution_count": 133,
   "id": "emerging-advancement",
   "metadata": {},
   "outputs": [
    {
     "data": {
      "text/plain": [
       "{1, 2, 3, 4, 5, 6, 7, 10, 20, 30}"
      ]
     },
     "execution_count": 133,
     "metadata": {},
     "output_type": "execute_result"
    }
   ],
   "source": [
    "set1 = {3,4,5,6,7,7} # 5\n",
    "set2 = {1,2,10,20,20,30} # 5\n",
    "\n",
    "set1.update(set2)\n",
    "set1"
   ]
  },
  {
   "cell_type": "code",
   "execution_count": 135,
   "id": "distinguished-tender",
   "metadata": {},
   "outputs": [
    {
     "data": {
      "text/plain": [
       "{1, 2, 3, 4, 5, 6, 7, 10, 20, 30}"
      ]
     },
     "execution_count": 135,
     "metadata": {},
     "output_type": "execute_result"
    }
   ],
   "source": [
    "set1 = {3,4,5,6,7,7} # 5\n",
    "set2 = {1,2,10,20,20,30} # 5\n",
    "\n",
    "set2.update(set1)\n",
    "set2"
   ]
  },
  {
   "cell_type": "code",
   "execution_count": 151,
   "id": "incorporated-isaac",
   "metadata": {},
   "outputs": [
    {
     "name": "stdout",
     "output_type": "stream",
     "text": [
      "set1 {3, 4, 5, 6, 40, 10, 20, 30}\n",
      "set2 {40, 10, 20, 30}\n"
     ]
    }
   ],
   "source": [
    "list1 = [3,4,5,6]\n",
    "list2 = [10,20,30,40,40]\n",
    "s1 = set(list1)\n",
    "s2 = set(list2)\n",
    "\n",
    "s1.update(s2)\n",
    "print('set1',s1)\n",
    "print('set2',s2)"
   ]
  },
  {
   "cell_type": "code",
   "execution_count": 153,
   "id": "better-community",
   "metadata": {},
   "outputs": [
    {
     "name": "stdout",
     "output_type": "stream",
     "text": [
      "set1 {3, 4, 5, 6, 7, 8, 9, 10}\n",
      "set2 {5, 6, 7, 8, 9, 10}\n"
     ]
    }
   ],
   "source": [
    "s1 = {3,4,5,6,7}\n",
    "s2 = {5,6,7,8,9,10}\n",
    "s1.update(s2)\n",
    "\n",
    "print('set1',s1)\n",
    "print('set2',s2)"
   ]
  },
  {
   "cell_type": "markdown",
   "id": "falling-upper",
   "metadata": {},
   "source": [
    "### 3. union"
   ]
  },
  {
   "cell_type": "code",
   "execution_count": 156,
   "id": "sustainable-spice",
   "metadata": {},
   "outputs": [
    {
     "name": "stdout",
     "output_type": "stream",
     "text": [
      "set1 {3, 4, 5, 6, 7}\n",
      "set2 {5, 6, 7, 8, 9, 10}\n",
      "set3 {3, 4, 5, 6, 7, 8, 9, 10}\n"
     ]
    }
   ],
   "source": [
    "s1 = {3,4,5,6,7}\n",
    "s2 = {5,6,7,8,9,10}\n",
    "s3 = s1.union(s2)\n",
    "\n",
    "print('set1',s1)\n",
    "print('set2',s2)\n",
    "print('set3',s3)"
   ]
  },
  {
   "cell_type": "code",
   "execution_count": 158,
   "id": "south-cooling",
   "metadata": {},
   "outputs": [
    {
     "name": "stdout",
     "output_type": "stream",
     "text": [
      "set1 {3, 4, 5, 6, 7}\n",
      "set2 {5, 6, 7, 8, 9, 10}\n",
      "set3 {3, 4, 5, 6, 7, 8, 9, 10}\n"
     ]
    }
   ],
   "source": [
    "s1 = {3,4,5,6,7}\n",
    "s2 = {5,6,7,8,9,10}\n",
    "s3 = s2.union(s1)\n",
    "\n",
    "print('set1',s1)\n",
    "print('set2',s2)\n",
    "print('set3',s3)"
   ]
  },
  {
   "cell_type": "code",
   "execution_count": 166,
   "id": "physical-tension",
   "metadata": {},
   "outputs": [
    {
     "name": "stdout",
     "output_type": "stream",
     "text": [
      "set1 {3, 4, 5, 6, 7}\n",
      "set2 {5, 6, 7, 8, 9, 10}\n",
      "set3 {7, 40, 10, 20, 30}\n",
      "new set : {3, 4, 5, 6, 7, 8, 9, 10, 40, 20, 30} 11\n"
     ]
    }
   ],
   "source": [
    "s1 = {3,4,5,6,7}\n",
    "s2 = {5,6,7,8,9,10}\n",
    "s3 = {7,10,20,30,40}\n",
    "\n",
    "new_set = s1.union(s2,s3)\n",
    "print('set1',s1)\n",
    "print('set2',s2)\n",
    "print('set3',s3)\n",
    "print(\"new set :\",new_set,len(new_set))"
   ]
  },
  {
   "cell_type": "code",
   "execution_count": 207,
   "id": "elegant-revolution",
   "metadata": {},
   "outputs": [
    {
     "name": "stdout",
     "output_type": "stream",
     "text": [
      "set1 {3, 4, 5, 6, 7, 8, 9, 10, 40, 20, 30}\n",
      "set2 {5, 6, 7, 8, 9, 10}\n",
      "set3 {7, 40, 10, 20, 30}\n",
      "new set : None\n"
     ]
    }
   ],
   "source": [
    "s1 = {3,4,5,6,7}\n",
    "s2 = {5,6,7,8,9,10}\n",
    "s3 = {7,10,20,30,40}\n",
    "\n",
    "new_set = s1.update(s2,s3)\n",
    "print('set1',s1)\n",
    "print('set2',s2)\n",
    "print('set3',s3)\n",
    "print(\"new set :\",new_set)"
   ]
  },
  {
   "cell_type": "code",
   "execution_count": 209,
   "id": "printable-bridge",
   "metadata": {},
   "outputs": [
    {
     "data": {
      "text/plain": [
       "{7, 10, 20, 30, 40}"
      ]
     },
     "execution_count": 209,
     "metadata": {},
     "output_type": "execute_result"
    }
   ],
   "source": [
    "s3 = {7,10,20,30,40}\n",
    "s3"
   ]
  },
  {
   "cell_type": "markdown",
   "id": "mobile-batman",
   "metadata": {},
   "source": [
    "### Delete items from set"
   ]
  },
  {
   "cell_type": "code",
   "execution_count": null,
   "id": "weighted-mileage",
   "metadata": {},
   "outputs": [],
   "source": [
    "1. remove()\n",
    "2. discard()\n",
    "3. pop()\n",
    "4. clear()"
   ]
  },
  {
   "cell_type": "markdown",
   "id": "recreational-villa",
   "metadata": {},
   "source": [
    "### 1. remove()"
   ]
  },
  {
   "cell_type": "code",
   "execution_count": null,
   "id": "attractive-samba",
   "metadata": {},
   "outputs": [],
   "source": [
    "set.remove(value)"
   ]
  },
  {
   "cell_type": "code",
   "execution_count": 170,
   "id": "worst-klein",
   "metadata": {},
   "outputs": [
    {
     "data": {
      "text/plain": [
       "{3, 4, 5, 6, 7, 10}"
      ]
     },
     "execution_count": 170,
     "metadata": {},
     "output_type": "execute_result"
    }
   ],
   "source": [
    "set1 = {3,4,5,6,7,5,5,10}\n",
    "set1"
   ]
  },
  {
   "cell_type": "code",
   "execution_count": 173,
   "id": "deadly-statistics",
   "metadata": {},
   "outputs": [
    {
     "data": {
      "text/plain": [
       "{4, 5, 6, 7, 10}"
      ]
     },
     "execution_count": 173,
     "metadata": {},
     "output_type": "execute_result"
    }
   ],
   "source": [
    "set1 = {3,4,5,6,7,5,5,10}\n",
    "set1.remove(3)\n",
    "set1"
   ]
  },
  {
   "cell_type": "code",
   "execution_count": 175,
   "id": "funky-mechanism",
   "metadata": {},
   "outputs": [
    {
     "data": {
      "text/plain": [
       "{3, 4, 6, 7, 10}"
      ]
     },
     "execution_count": 175,
     "metadata": {},
     "output_type": "execute_result"
    }
   ],
   "source": [
    "set1 = {3,4,5,6,7,5,5,10}\n",
    "set1.remove(5)\n",
    "set1"
   ]
  },
  {
   "cell_type": "code",
   "execution_count": 177,
   "id": "suspected-acoustic",
   "metadata": {},
   "outputs": [
    {
     "ename": "KeyError",
     "evalue": "50",
     "output_type": "error",
     "traceback": [
      "\u001b[1;31m---------------------------------------------------------------------------\u001b[0m",
      "\u001b[1;31mKeyError\u001b[0m                                  Traceback (most recent call last)",
      "\u001b[1;32m<ipython-input-177-e9ddab69c63d>\u001b[0m in \u001b[0;36m<module>\u001b[1;34m\u001b[0m\n\u001b[0;32m      1\u001b[0m \u001b[0mset1\u001b[0m \u001b[1;33m=\u001b[0m \u001b[1;33m{\u001b[0m\u001b[1;36m3\u001b[0m\u001b[1;33m,\u001b[0m\u001b[1;36m4\u001b[0m\u001b[1;33m,\u001b[0m\u001b[1;36m5\u001b[0m\u001b[1;33m,\u001b[0m\u001b[1;36m6\u001b[0m\u001b[1;33m,\u001b[0m\u001b[1;36m7\u001b[0m\u001b[1;33m,\u001b[0m\u001b[1;36m5\u001b[0m\u001b[1;33m,\u001b[0m\u001b[1;36m5\u001b[0m\u001b[1;33m,\u001b[0m\u001b[1;36m10\u001b[0m\u001b[1;33m}\u001b[0m\u001b[1;33m\u001b[0m\u001b[1;33m\u001b[0m\u001b[0m\n\u001b[1;32m----> 2\u001b[1;33m \u001b[0mset1\u001b[0m\u001b[1;33m.\u001b[0m\u001b[0mremove\u001b[0m\u001b[1;33m(\u001b[0m\u001b[1;36m50\u001b[0m\u001b[1;33m)\u001b[0m\u001b[1;33m\u001b[0m\u001b[1;33m\u001b[0m\u001b[0m\n\u001b[0m\u001b[0;32m      3\u001b[0m \u001b[0mset1\u001b[0m\u001b[1;33m\u001b[0m\u001b[1;33m\u001b[0m\u001b[0m\n",
      "\u001b[1;31mKeyError\u001b[0m: 50"
     ]
    }
   ],
   "source": [
    "set1 = {3,4,5,6,7,5,5,10}\n",
    "set1.remove(50)\n",
    "set1"
   ]
  },
  {
   "cell_type": "code",
   "execution_count": 181,
   "id": "departmental-catholic",
   "metadata": {},
   "outputs": [
    {
     "data": {
      "text/plain": [
       "{3, 4, 5, 6, 7, 10}"
      ]
     },
     "execution_count": 181,
     "metadata": {},
     "output_type": "execute_result"
    }
   ],
   "source": [
    "set1 = {3,4,5,6,7,5,5,10}\n",
    "val = 50\n",
    "if val in set1: # False\n",
    "    set1.remove(val)\n",
    "\n",
    "set1"
   ]
  },
  {
   "cell_type": "code",
   "execution_count": 183,
   "id": "conventional-habitat",
   "metadata": {},
   "outputs": [
    {
     "name": "stdout",
     "output_type": "stream",
     "text": [
      "value not found\n"
     ]
    },
    {
     "data": {
      "text/plain": [
       "{3, 4, 5, 6, 7, 10}"
      ]
     },
     "execution_count": 183,
     "metadata": {},
     "output_type": "execute_result"
    }
   ],
   "source": [
    "set1 = {3,4,5,6,7,5,5,10}\n",
    "val = 50\n",
    "if val in set1: # False\n",
    "    set1.remove(val)\n",
    "    print(\"Value deleted from set\")\n",
    "else:\n",
    "    print(\"value not found\")\n",
    "\n",
    "set1"
   ]
  },
  {
   "cell_type": "markdown",
   "id": "toxic-decimal",
   "metadata": {},
   "source": [
    "### 2. discard"
   ]
  },
  {
   "cell_type": "code",
   "execution_count": null,
   "id": "after-behavior",
   "metadata": {},
   "outputs": [],
   "source": [
    "set.discard(value)"
   ]
  },
  {
   "cell_type": "code",
   "execution_count": 185,
   "id": "reliable-abortion",
   "metadata": {},
   "outputs": [
    {
     "data": {
      "text/plain": [
       "{3, 4, 6, 7, 10}"
      ]
     },
     "execution_count": 185,
     "metadata": {},
     "output_type": "execute_result"
    }
   ],
   "source": [
    "set1 = {3,4,5,6,7,5,5,10}\n",
    "set1.discard(5)\n",
    "set1"
   ]
  },
  {
   "cell_type": "code",
   "execution_count": 211,
   "id": "responsible-entity",
   "metadata": {},
   "outputs": [
    {
     "data": {
      "text/plain": [
       "{3, 4, 5, 6, 7, 10}"
      ]
     },
     "execution_count": 211,
     "metadata": {},
     "output_type": "execute_result"
    }
   ],
   "source": [
    "set1 = {3,4,5,6,7,5,5,10}\n",
    "set1.discard(56)\n",
    "set1"
   ]
  },
  {
   "cell_type": "markdown",
   "id": "endless-penalty",
   "metadata": {},
   "source": [
    "### 3. pop()"
   ]
  },
  {
   "cell_type": "code",
   "execution_count": null,
   "id": "interesting-kruger",
   "metadata": {},
   "outputs": [],
   "source": [
    "set1.pop()\n",
    "\n",
    "It will delete random item from set "
   ]
  },
  {
   "cell_type": "code",
   "execution_count": 189,
   "id": "republican-wings",
   "metadata": {},
   "outputs": [
    {
     "name": "stdout",
     "output_type": "stream",
     "text": [
      "{4, 5, 6, 7, 10}\n"
     ]
    }
   ],
   "source": [
    "set1 = {3,4,5,6,7,5,5,10}\n",
    "set1.pop()\n",
    "print(set1)"
   ]
  },
  {
   "cell_type": "code",
   "execution_count": 206,
   "id": "million-gentleman",
   "metadata": {},
   "outputs": [
    {
     "name": "stdout",
     "output_type": "stream",
     "text": [
      "{4, 5, 6, 7, 10}\n",
      "3\n"
     ]
    }
   ],
   "source": [
    "set1 = {3,4,5,6,7,5,5,10}\n",
    "x = set1.pop()\n",
    "print(set1)\n",
    "print(x)"
   ]
  },
  {
   "cell_type": "code",
   "execution_count": 195,
   "id": "refined-chart",
   "metadata": {},
   "outputs": [
    {
     "name": "stdout",
     "output_type": "stream",
     "text": [
      "{'Delhi', 'Mumbai', 'Pune'}\n"
     ]
    }
   ],
   "source": [
    "set1 = {'Mumbai', 'Pune','Chennai','Delhi'}\n",
    "set1.pop()\n",
    "print(set1)"
   ]
  },
  {
   "cell_type": "code",
   "execution_count": 196,
   "id": "leading-greeting",
   "metadata": {},
   "outputs": [
    {
     "ename": "TypeError",
     "evalue": "pop() takes no arguments (1 given)",
     "output_type": "error",
     "traceback": [
      "\u001b[1;31m---------------------------------------------------------------------------\u001b[0m",
      "\u001b[1;31mTypeError\u001b[0m                                 Traceback (most recent call last)",
      "\u001b[1;32m<ipython-input-196-44b760273a5f>\u001b[0m in \u001b[0;36m<module>\u001b[1;34m\u001b[0m\n\u001b[0;32m      1\u001b[0m \u001b[0mset1\u001b[0m \u001b[1;33m=\u001b[0m \u001b[1;33m{\u001b[0m\u001b[1;34m'Mumbai'\u001b[0m\u001b[1;33m,\u001b[0m \u001b[1;34m'Pune'\u001b[0m\u001b[1;33m,\u001b[0m\u001b[1;34m'Chennai'\u001b[0m\u001b[1;33m,\u001b[0m\u001b[1;34m'Delhi'\u001b[0m\u001b[1;33m}\u001b[0m\u001b[1;33m\u001b[0m\u001b[1;33m\u001b[0m\u001b[0m\n\u001b[1;32m----> 2\u001b[1;33m \u001b[0mset1\u001b[0m\u001b[1;33m.\u001b[0m\u001b[0mpop\u001b[0m\u001b[1;33m(\u001b[0m\u001b[1;36m2\u001b[0m\u001b[1;33m)\u001b[0m\u001b[1;33m\u001b[0m\u001b[1;33m\u001b[0m\u001b[0m\n\u001b[0m\u001b[0;32m      3\u001b[0m \u001b[0mprint\u001b[0m\u001b[1;33m(\u001b[0m\u001b[0mset1\u001b[0m\u001b[1;33m)\u001b[0m\u001b[1;33m\u001b[0m\u001b[1;33m\u001b[0m\u001b[0m\n",
      "\u001b[1;31mTypeError\u001b[0m: pop() takes no arguments (1 given)"
     ]
    }
   ],
   "source": [
    "set1 = {'Mumbai', 'Pune','Chennai','Delhi'}\n",
    "set1.pop(2)\n",
    "print(set1)"
   ]
  },
  {
   "cell_type": "markdown",
   "id": "quiet-wells",
   "metadata": {},
   "source": [
    "### 4. clear()"
   ]
  },
  {
   "cell_type": "code",
   "execution_count": null,
   "id": "expensive-progressive",
   "metadata": {},
   "outputs": [],
   "source": [
    "set.clear()\n",
    "\n",
    "used to remove all items from set"
   ]
  },
  {
   "cell_type": "code",
   "execution_count": 199,
   "id": "early-likelihood",
   "metadata": {},
   "outputs": [
    {
     "data": {
      "text/plain": [
       "set()"
      ]
     },
     "execution_count": 199,
     "metadata": {},
     "output_type": "execute_result"
    }
   ],
   "source": [
    "set1 ={3,4,5,6,7,7,7,8}\n",
    "set1.clear()  # set()\n",
    "set1"
   ]
  },
  {
   "cell_type": "code",
   "execution_count": 201,
   "id": "irish-profile",
   "metadata": {},
   "outputs": [
    {
     "data": {
      "text/plain": [
       "dict"
      ]
     },
     "execution_count": 201,
     "metadata": {},
     "output_type": "execute_result"
    }
   ],
   "source": [
    "x = {}\n",
    "type(x)"
   ]
  },
  {
   "cell_type": "code",
   "execution_count": 202,
   "id": "complex-birmingham",
   "metadata": {},
   "outputs": [
    {
     "data": {
      "text/plain": [
       "set"
      ]
     },
     "execution_count": 202,
     "metadata": {},
     "output_type": "execute_result"
    }
   ],
   "source": [
    "x = set()\n",
    "type(x)"
   ]
  },
  {
   "cell_type": "code",
   "execution_count": null,
   "id": "straight-legislation",
   "metadata": {},
   "outputs": [],
   "source": []
  }
 ],
 "metadata": {
  "kernelspec": {
   "display_name": "Python 3",
   "language": "python",
   "name": "python3"
  },
  "language_info": {
   "codemirror_mode": {
    "name": "ipython",
    "version": 3
   },
   "file_extension": ".py",
   "mimetype": "text/x-python",
   "name": "python",
   "nbconvert_exporter": "python",
   "pygments_lexer": "ipython3",
   "version": "3.8.7"
  }
 },
 "nbformat": 4,
 "nbformat_minor": 5
}
