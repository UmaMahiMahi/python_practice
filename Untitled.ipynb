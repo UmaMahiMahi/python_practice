{
 "cells": [
  {
   "cell_type": "code",
   "execution_count": 2,
   "id": "62a190de",
   "metadata": {},
   "outputs": [],
   "source": [
    "a=3\n",
    "b=10\n",
    "sum=a+b"
   ]
  },
  {
   "cell_type": "code",
   "execution_count": 3,
   "id": "503a4184",
   "metadata": {},
   "outputs": [
    {
     "name": "stdout",
     "output_type": "stream",
     "text": [
      "sum of 3 and 10 is 13\n"
     ]
    }
   ],
   "source": [
    "print(\"sum of {} and {} is {}\".format(a,b,sum))"
   ]
  },
  {
   "cell_type": "code",
   "execution_count": 4,
   "id": "e206504a",
   "metadata": {},
   "outputs": [
    {
     "name": "stdout",
     "output_type": "stream",
     "text": [
      "sum of 3 and 10 is 13\n"
     ]
    }
   ],
   "source": [
    "print(f\"sum of {a} and {b} is {sum}\")"
   ]
  },
  {
   "cell_type": "code",
   "execution_count": 6,
   "id": "0b0242d1",
   "metadata": {},
   "outputs": [
    {
     "name": "stdout",
     "output_type": "stream",
     "text": [
      "sum of 3 and 10 is 13\n"
     ]
    }
   ],
   "source": [
    "print(\"sum of %d and %d is %d\" %(a,b,sum))"
   ]
  },
  {
   "cell_type": "code",
   "execution_count": 7,
   "id": "8d7eece4",
   "metadata": {},
   "outputs": [
    {
     "name": "stdout",
     "output_type": "stream",
     "text": [
      "3\n"
     ]
    }
   ],
   "source": [
    "string=\"uma\"\n",
    "print(len(string))"
   ]
  },
  {
   "cell_type": "code",
   "execution_count": 8,
   "id": "a68008ee",
   "metadata": {},
   "outputs": [
    {
     "data": {
      "text/plain": [
       "1"
      ]
     },
     "execution_count": 8,
     "metadata": {},
     "output_type": "execute_result"
    }
   ],
   "source": [
    "string=\"uma maheswari\"\n",
    "string.count(\"u\")"
   ]
  },
  {
   "cell_type": "code",
   "execution_count": 9,
   "id": "244681cc",
   "metadata": {},
   "outputs": [
    {
     "data": {
      "text/plain": [
       "0"
      ]
     },
     "execution_count": 9,
     "metadata": {},
     "output_type": "execute_result"
    }
   ],
   "source": [
    "string.index(\"u\")"
   ]
  },
  {
   "cell_type": "code",
   "execution_count": 10,
   "id": "104b87e1",
   "metadata": {},
   "outputs": [
    {
     "data": {
      "text/plain": [
       "12"
      ]
     },
     "execution_count": 10,
     "metadata": {},
     "output_type": "execute_result"
    }
   ],
   "source": [
    "string.find(\"i\")"
   ]
  },
  {
   "cell_type": "code",
   "execution_count": 11,
   "id": "08d85e2d",
   "metadata": {},
   "outputs": [],
   "source": [
    "a=string.split()"
   ]
  },
  {
   "cell_type": "code",
   "execution_count": 12,
   "id": "9f9ce955",
   "metadata": {},
   "outputs": [
    {
     "data": {
      "text/plain": [
       "['uma', 'maheswari']"
      ]
     },
     "execution_count": 12,
     "metadata": {},
     "output_type": "execute_result"
    }
   ],
   "source": [
    "a"
   ]
  },
  {
   "cell_type": "code",
   "execution_count": 15,
   "id": "c27f544e",
   "metadata": {},
   "outputs": [],
   "source": [
    "b=\",\".join(a)"
   ]
  },
  {
   "cell_type": "code",
   "execution_count": 16,
   "id": "d15060c3",
   "metadata": {},
   "outputs": [
    {
     "data": {
      "text/plain": [
       "'uma,maheswari'"
      ]
     },
     "execution_count": 16,
     "metadata": {},
     "output_type": "execute_result"
    }
   ],
   "source": [
    "b"
   ]
  },
  {
   "cell_type": "code",
   "execution_count": 17,
   "id": "f5049c79",
   "metadata": {},
   "outputs": [],
   "source": [
    "b=string.endswith(\"i\")"
   ]
  },
  {
   "cell_type": "code",
   "execution_count": 18,
   "id": "a8ca1d88",
   "metadata": {},
   "outputs": [
    {
     "data": {
      "text/plain": [
       "True"
      ]
     },
     "execution_count": 18,
     "metadata": {},
     "output_type": "execute_result"
    }
   ],
   "source": [
    "b"
   ]
  },
  {
   "cell_type": "code",
   "execution_count": 20,
   "id": "14b77e83",
   "metadata": {},
   "outputs": [],
   "source": [
    "folder_path = r\"D:\\RahulK\\Velocity_Aug_22\\08_15\"\n",
    "f_parts=folder_path.split(\"\\\\\")"
   ]
  },
  {
   "cell_type": "code",
   "execution_count": 21,
   "id": "3f04285b",
   "metadata": {},
   "outputs": [
    {
     "data": {
      "text/plain": [
       "['D:', 'RahulK', 'Velocity_Aug_22', '08_15']"
      ]
     },
     "execution_count": 21,
     "metadata": {},
     "output_type": "execute_result"
    }
   ],
   "source": [
    "f_parts"
   ]
  },
  {
   "cell_type": "code",
   "execution_count": 22,
   "id": "83facef1",
   "metadata": {},
   "outputs": [
    {
     "data": {
      "text/plain": [
       "'Gradient_Descent_Img'"
      ]
     },
     "execution_count": 22,
     "metadata": {},
     "output_type": "execute_result"
    }
   ],
   "source": [
    "image_file_path= r\"D:\\RahulK\\Velocity_Aug_22\\08_15\\Gradient_Descent_Img.png\"\n",
    "image_file_path.split('\\\\')[-1].split('.')[0]"
   ]
  },
  {
   "cell_type": "code",
   "execution_count": 24,
   "id": "ae7c0e39",
   "metadata": {},
   "outputs": [
    {
     "name": "stdout",
     "output_type": "stream",
     "text": [
      "character : u\n",
      "************************\n",
      "0\n",
      "character : m\n",
      "************************\n",
      "1\n",
      "character : a\n",
      "************************\n",
      "2\n",
      "character :  \n",
      "************************\n",
      "3\n",
      "character : M\n",
      "************************\n",
      "4\n",
      "character : a\n",
      "************************\n",
      "5\n",
      "character : h\n",
      "************************\n",
      "6\n",
      "character : e\n",
      "************************\n",
      "7\n",
      "character : s\n",
      "************************\n",
      "8\n",
      "character : w\n",
      "************************\n",
      "9\n",
      "character : a\n",
      "************************\n",
      "10\n",
      "character : r\n",
      "************************\n",
      "11\n",
      "character : i\n",
      "************************\n",
      "12\n"
     ]
    }
   ],
   "source": [
    "string=\"uma Maheswari\"\n",
    "count=0\n",
    "for che in string:\n",
    "    print(\"character :\",che)\n",
    "    print(\"************************\")\n",
    "    print(count)\n",
    "    count=count+1\n",
    "    "
   ]
  },
  {
   "cell_type": "code",
   "execution_count": 25,
   "id": "5e604f8f",
   "metadata": {},
   "outputs": [
    {
     "name": "stdout",
     "output_type": "stream",
     "text": [
      "character is u and count is 1\n",
      "character is m and count is 2\n",
      "character is a and count is 3\n",
      "character is   and count is 4\n",
      "character is M and count is 5\n",
      "character is a and count is 6\n",
      "character is h and count is 7\n",
      "character is e and count is 8\n",
      "character is s and count is 9\n",
      "character is w and count is 10\n",
      "character is a and count is 11\n",
      "character is r and count is 12\n",
      "character is i and count is 13\n"
     ]
    }
   ],
   "source": [
    "count=0\n",
    "for ch in string:\n",
    "    count=count+1\n",
    "    print(f\"character is {ch} and count is {count}\")"
   ]
  },
  {
   "cell_type": "code",
   "execution_count": 29,
   "id": "6a1fa324",
   "metadata": {},
   "outputs": [
    {
     "name": "stdout",
     "output_type": "stream",
     "text": [
      "a is greater than 50\n",
      "a is greater than 75\n"
     ]
    }
   ],
   "source": [
    "a=100\n",
    "\n",
    "if a>50:\n",
    "    print(\"a is greater than 50\")\n",
    "    if a>70:\n",
    "        print(\"a is greater than 75\")\n",
    "    else:\n",
    "        print(\"a is less than 75\")\n",
    "elif a==50:\n",
    "    print(\"a is equal to 100\")\n",
    "else:\n",
    "    print(\"a is less than 50\")"
   ]
  },
  {
   "cell_type": "code",
   "execution_count": 31,
   "id": "530d3115",
   "metadata": {},
   "outputs": [
    {
     "name": "stdout",
     "output_type": "stream",
     "text": [
      "****************************************************************************************************\n",
      "$$$$$$$$$$$$$$$$$$$$$$$$$$$$$$$$$$$$$$$$$$$$$$$$$$\n"
     ]
    }
   ],
   "source": [
    "print(\"*\"*100)\n",
    "print(\"$\"*50)"
   ]
  },
  {
   "cell_type": "code",
   "execution_count": 33,
   "id": "34273059",
   "metadata": {},
   "outputs": [
    {
     "name": "stdout",
     "output_type": "stream",
     "text": [
      "index of list3 0 and the number is a\n",
      "index of list3 1 and the number is 1\n",
      "index of list3 2 and the number is 2\n",
      "index of list3 3 and the number is 3\n",
      "index of list3 4 and the number is 4\n",
      "index of list3 5 and the number is 5\n",
      "index of list3 6 and the number is 6\n"
     ]
    }
   ],
   "source": [
    "list3=[\"a\",1,2,3,4,5,6]\n",
    "\n",
    "for index,num in enumerate(list3):\n",
    "    print(f\"index of list3 {index} and the number is {num}\")"
   ]
  },
  {
   "cell_type": "code",
   "execution_count": 2,
   "id": "2e25e632",
   "metadata": {},
   "outputs": [],
   "source": [
    "import json\n",
    "emp_data={\"name\":\"uma\",\"des\":\"sr exe\"}\n",
    "\n",
    "with open(\"emp.json\", \"w\") as f:\n",
    "    json.dump(emp_data,f)"
   ]
  },
  {
   "cell_type": "code",
   "execution_count": 3,
   "id": "b67e0d61",
   "metadata": {},
   "outputs": [
    {
     "name": "stdout",
     "output_type": "stream",
     "text": [
      "{'name': 'uma', 'des': 'sr exe'}\n"
     ]
    }
   ],
   "source": [
    "with open(\"emp.json\") as f:\n",
    "    data=json.load(f)\n",
    "    print(data)\n",
    "    \n",
    "    "
   ]
  },
  {
   "cell_type": "code",
   "execution_count": 4,
   "id": "1f5f2520",
   "metadata": {},
   "outputs": [],
   "source": [
    "import os"
   ]
  },
  {
   "cell_type": "code",
   "execution_count": 5,
   "id": "3a757e4c",
   "metadata": {},
   "outputs": [
    {
     "name": "stdout",
     "output_type": "stream",
     "text": [
      "C:\\Users\\UmaM2\\Downloads\n"
     ]
    }
   ],
   "source": [
    "print(os.getcwd())"
   ]
  },
  {
   "cell_type": "code",
   "execution_count": null,
   "id": "840dd783",
   "metadata": {},
   "outputs": [],
   "source": [
    "os.chdir(:C:\\\\)"
   ]
  }
 ],
 "metadata": {
  "kernelspec": {
   "display_name": "Python 3 (ipykernel)",
   "language": "python",
   "name": "python3"
  },
  "language_info": {
   "codemirror_mode": {
    "name": "ipython",
    "version": 3
   },
   "file_extension": ".py",
   "mimetype": "text/x-python",
   "name": "python",
   "nbconvert_exporter": "python",
   "pygments_lexer": "ipython3",
   "version": "3.9.12"
  }
 },
 "nbformat": 4,
 "nbformat_minor": 5
}
