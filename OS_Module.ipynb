{
 "cells": [
  {
   "cell_type": "markdown",
   "id": "realistic-railway",
   "metadata": {},
   "source": [
    "## OS module "
   ]
  },
  {
   "cell_type": "code",
   "execution_count": null,
   "id": "social-coordinate",
   "metadata": {},
   "outputs": [],
   "source": [
    "os >> operating system"
   ]
  },
  {
   "cell_type": "code",
   "execution_count": 2,
   "id": "champion-floor",
   "metadata": {},
   "outputs": [],
   "source": [
    "import os\n",
    "import shutil"
   ]
  },
  {
   "cell_type": "code",
   "execution_count": 4,
   "id": "powered-literacy",
   "metadata": {},
   "outputs": [],
   "source": [
    "# dir(os)"
   ]
  },
  {
   "cell_type": "markdown",
   "id": "foster-anaheim",
   "metadata": {},
   "source": [
    "### OS Module Functions"
   ]
  },
  {
   "cell_type": "code",
   "execution_count": null,
   "id": "broad-cigarette",
   "metadata": {},
   "outputs": [],
   "source": [
    "OS Module:\n",
    "    1. os.rename() # To rename or move files\n",
    "    2. os.remove() # To remove the files\n",
    "    3. os.path.exists() # To check file/folder \n",
    "    4. os.mkdir() # To create a folder\n",
    "    5. os.makedires() # To create multiple folder (Tree Structure)\n",
    "    6. os.rmdir() # To delete Empty Directory\n",
    "    7. os.listdir() # list of files/folders\\\n",
    "    8. os.getcwd() # To get Current working Directory\n",
    "    9. os.path.join # To join multiple paths\n",
    "    \n",
    "    \n",
    "Shutil Module:\n",
    "    1. shutil.rmtree() # To delete empty or non-empty directory\n",
    "    2. shutil.copy() # To Copy files from one dir to other\n",
    "    \n",
    "glob module:\n",
    "    1. glob.glob(folder_path + \"*.txt\" )"
   ]
  },
  {
   "cell_type": "markdown",
   "id": "explicit-sugar",
   "metadata": {},
   "source": [
    "## 1. Rename/Move"
   ]
  },
  {
   "cell_type": "code",
   "execution_count": null,
   "id": "wireless-moore",
   "metadata": {},
   "outputs": [],
   "source": [
    "os.rename(source_file_path, destination_file_path)"
   ]
  },
  {
   "cell_type": "code",
   "execution_count": 5,
   "id": "brief-solution",
   "metadata": {},
   "outputs": [],
   "source": [
    "os.rename('machine_learning.txt', 'data_science.txt')"
   ]
  },
  {
   "cell_type": "code",
   "execution_count": 6,
   "id": "dominant-preparation",
   "metadata": {},
   "outputs": [],
   "source": [
    "os.rename('data_science.txt', 'machine_learning.txt')"
   ]
  },
  {
   "cell_type": "markdown",
   "id": "higher-raleigh",
   "metadata": {},
   "source": [
    "#### 1.1 Move Files"
   ]
  },
  {
   "cell_type": "code",
   "execution_count": 9,
   "id": "painted-filling",
   "metadata": {},
   "outputs": [],
   "source": [
    "source_file_path = \"machine_learning.txt\"\n",
    "destination_file_path = r\"D:\\RahulK\\Velocity_Aug_22\\09_15_Anaconda\\machine_learning.txt\"\n",
    "os.rename(source_file_path, destination_file_path)"
   ]
  },
  {
   "cell_type": "code",
   "execution_count": 10,
   "id": "unexpected-thousand",
   "metadata": {},
   "outputs": [],
   "source": [
    "source_file_path = r\"D:\\Dataset\\movie_reviews\\pos\\cv004_11636.txt\"\n",
    "destination_file_path = 'cv004_11636.txt'\n",
    "os.rename(source_file_path, destination_file_path)"
   ]
  },
  {
   "cell_type": "code",
   "execution_count": 11,
   "id": "quantitative-lobby",
   "metadata": {},
   "outputs": [],
   "source": [
    "source_file_path = r\"D:\\Dataset\\movie_reviews\\pos\\cv002_15918.txt\"\n",
    "destination_file_path = 'review11.txt'\n",
    "os.rename(source_file_path, destination_file_path)"
   ]
  },
  {
   "cell_type": "code",
   "execution_count": 12,
   "id": "studied-transsexual",
   "metadata": {},
   "outputs": [],
   "source": [
    "source_file_path = r\"D:\\RahulK\\Velocity_Aug_22\\09_15_File_Handling\\deep_learning.txt\"\n",
    "\n",
    "destination_file_path = r\"D:\\RahulK\\Velocity_Aug_22\\09_15_Anaconda\\deep_learning.txt\"\n",
    "\n",
    "os.rename(source_file_path, destination_file_path)"
   ]
  },
  {
   "cell_type": "markdown",
   "id": "cross-enlargement",
   "metadata": {},
   "source": [
    "### 2. remove files"
   ]
  },
  {
   "cell_type": "code",
   "execution_count": null,
   "id": "surrounded-evans",
   "metadata": {},
   "outputs": [],
   "source": [
    "os.remove(file_path)"
   ]
  },
  {
   "cell_type": "code",
   "execution_count": 13,
   "id": "guilty-breeding",
   "metadata": {},
   "outputs": [],
   "source": [
    "os.remove('deep_learning2.txt')"
   ]
  },
  {
   "cell_type": "code",
   "execution_count": 14,
   "id": "norman-tribute",
   "metadata": {},
   "outputs": [],
   "source": [
    "os.remove('data.txt')"
   ]
  },
  {
   "cell_type": "code",
   "execution_count": 22,
   "id": "portuguese-chapter",
   "metadata": {},
   "outputs": [],
   "source": [
    "file_path = r\"D:\\RahulK\\Velocity_Aug_22\\09_15_Anaconda\\data_science.txt\"\n",
    "os.remove(file_path)"
   ]
  },
  {
   "cell_type": "code",
   "execution_count": 23,
   "id": "intermediate-flesh",
   "metadata": {},
   "outputs": [
    {
     "ename": "FileNotFoundError",
     "evalue": "[WinError 2] The system cannot find the file specified: 'D:\\\\RahulK\\\\Velocity_Aug_22\\\\09_15_Anaconda\\\\data_science.txt'",
     "output_type": "error",
     "traceback": [
      "\u001b[1;31m---------------------------------------------------------------------------\u001b[0m",
      "\u001b[1;31mFileNotFoundError\u001b[0m                         Traceback (most recent call last)",
      "\u001b[1;32m<ipython-input-23-a313fe0abb5d>\u001b[0m in \u001b[0;36m<module>\u001b[1;34m\u001b[0m\n\u001b[0;32m      1\u001b[0m \u001b[0mfile_path\u001b[0m \u001b[1;33m=\u001b[0m \u001b[1;34mr\"D:\\RahulK\\Velocity_Aug_22\\09_15_Anaconda\\data_science.txt\"\u001b[0m\u001b[1;33m\u001b[0m\u001b[1;33m\u001b[0m\u001b[0m\n\u001b[1;32m----> 2\u001b[1;33m \u001b[0mos\u001b[0m\u001b[1;33m.\u001b[0m\u001b[0mremove\u001b[0m\u001b[1;33m(\u001b[0m\u001b[0mfile_path\u001b[0m\u001b[1;33m)\u001b[0m\u001b[1;33m\u001b[0m\u001b[1;33m\u001b[0m\u001b[0m\n\u001b[0m",
      "\u001b[1;31mFileNotFoundError\u001b[0m: [WinError 2] The system cannot find the file specified: 'D:\\\\RahulK\\\\Velocity_Aug_22\\\\09_15_Anaconda\\\\data_science.txt'"
     ]
    }
   ],
   "source": [
    "file_path = r\"D:\\RahulK\\Velocity_Aug_22\\09_15_Anaconda\\data_science.txt\"\n",
    "os.remove(file_path)"
   ]
  },
  {
   "cell_type": "code",
   "execution_count": 24,
   "id": "upset-accounting",
   "metadata": {},
   "outputs": [],
   "source": [
    "file_path = r\"D:\\RahulK\\Velocity_Aug_22\\09_15_Anaconda\\deep_learning.txt\"\n",
    "os.remove(file_path)"
   ]
  },
  {
   "cell_type": "markdown",
   "id": "sufficient-casting",
   "metadata": {},
   "source": [
    "### 3. Check file exist or not"
   ]
  },
  {
   "cell_type": "code",
   "execution_count": null,
   "id": "fuzzy-category",
   "metadata": {},
   "outputs": [],
   "source": [
    "os.path.exists(file_path)"
   ]
  },
  {
   "cell_type": "code",
   "execution_count": 28,
   "id": "powerful-madness",
   "metadata": {},
   "outputs": [
    {
     "ename": "FileNotFoundError",
     "evalue": "[WinError 2] The system cannot find the file specified: 'machineLearning.txt'",
     "output_type": "error",
     "traceback": [
      "\u001b[1;31m---------------------------------------------------------------------------\u001b[0m",
      "\u001b[1;31mFileNotFoundError\u001b[0m                         Traceback (most recent call last)",
      "\u001b[1;32m<ipython-input-28-60297204de2d>\u001b[0m in \u001b[0;36m<module>\u001b[1;34m\u001b[0m\n\u001b[0;32m      1\u001b[0m \u001b[0mfile_name\u001b[0m \u001b[1;33m=\u001b[0m \u001b[1;34m\"machineLearning.txt\"\u001b[0m\u001b[1;33m\u001b[0m\u001b[1;33m\u001b[0m\u001b[0m\n\u001b[1;32m----> 2\u001b[1;33m \u001b[0mos\u001b[0m\u001b[1;33m.\u001b[0m\u001b[0mremove\u001b[0m\u001b[1;33m(\u001b[0m\u001b[0mfile_name\u001b[0m\u001b[1;33m)\u001b[0m\u001b[1;33m\u001b[0m\u001b[1;33m\u001b[0m\u001b[0m\n\u001b[0m",
      "\u001b[1;31mFileNotFoundError\u001b[0m: [WinError 2] The system cannot find the file specified: 'machineLearning.txt'"
     ]
    }
   ],
   "source": [
    "file_name = \"machineLearning.txt\"\n",
    "\n",
    "os.remove(file_name)"
   ]
  },
  {
   "cell_type": "code",
   "execution_count": 29,
   "id": "imperial-collaboration",
   "metadata": {},
   "outputs": [
    {
     "data": {
      "text/plain": [
       "False"
      ]
     },
     "execution_count": 29,
     "metadata": {},
     "output_type": "execute_result"
    }
   ],
   "source": [
    "os.path.exists(file_name)"
   ]
  },
  {
   "cell_type": "code",
   "execution_count": 33,
   "id": "liberal-russian",
   "metadata": {},
   "outputs": [
    {
     "data": {
      "text/plain": [
       "True"
      ]
     },
     "execution_count": 33,
     "metadata": {},
     "output_type": "execute_result"
    }
   ],
   "source": [
    "os.path.exists('sample.txt')"
   ]
  },
  {
   "cell_type": "code",
   "execution_count": 35,
   "id": "racial-player",
   "metadata": {},
   "outputs": [
    {
     "data": {
      "text/plain": [
       "False"
      ]
     },
     "execution_count": 35,
     "metadata": {},
     "output_type": "execute_result"
    }
   ],
   "source": [
    "os.path.exists('sample1.txt')"
   ]
  },
  {
   "cell_type": "code",
   "execution_count": 37,
   "id": "steady-election",
   "metadata": {},
   "outputs": [
    {
     "name": "stdout",
     "output_type": "stream",
     "text": [
      "File not found\n"
     ]
    }
   ],
   "source": [
    "file_name = 'sample.txt' \n",
    "if os.path.exists('sample.txt'):\n",
    "    os.remove(file_name)\n",
    "    print('File Deleted')\n",
    "    \n",
    "else:\n",
    "    print(\"File not found\")"
   ]
  },
  {
   "cell_type": "code",
   "execution_count": 38,
   "id": "joined-british",
   "metadata": {},
   "outputs": [
    {
     "name": "stdout",
     "output_type": "stream",
     "text": [
      "File Deleted\n"
     ]
    }
   ],
   "source": [
    "file_name = 'review11.txt' \n",
    "\n",
    "if os.path.exists(file_name): # TRUE\n",
    "    os.remove(file_name)\n",
    "    print('File Deleted')\n",
    "    \n",
    "else:\n",
    "    print(\"File not found\")"
   ]
  },
  {
   "cell_type": "code",
   "execution_count": 39,
   "id": "continent-contemporary",
   "metadata": {},
   "outputs": [
    {
     "name": "stdout",
     "output_type": "stream",
     "text": [
      "File not found\n"
     ]
    }
   ],
   "source": [
    "file_name = 'review11.txt' \n",
    "\n",
    "if os.path.exists(file_name): # False\n",
    "    os.remove(file_name)\n",
    "    print('File Deleted')\n",
    "    \n",
    "else:\n",
    "    print(\"File not found\")"
   ]
  },
  {
   "cell_type": "code",
   "execution_count": 44,
   "id": "amber-dictionary",
   "metadata": {},
   "outputs": [],
   "source": [
    "file_name = 'review11.txt' \n",
    "\n",
    "if os.path.exists(file_name):\n",
    "    os.remove(file_name)"
   ]
  },
  {
   "cell_type": "code",
   "execution_count": 48,
   "id": "widespread-brisbane",
   "metadata": {},
   "outputs": [
    {
     "name": "stdout",
     "output_type": "stream",
     "text": [
      "D:\\RahulK\\Velocity_Aug_22\\09_15_File_Handling\\deep_learning2.txt\n",
      "File not found\n"
     ]
    }
   ],
   "source": [
    "file_name = r'D:\\RahulK\\Velocity_Aug_22\\09_15_File_Handling\\deep_learning2.txt' \n",
    "print(file_name)\n",
    "if os.path.exists(file_name): # False\n",
    "    os.remove(file_name)\n",
    "    print('File Deleted')\n",
    "    \n",
    "else:\n",
    "    print(\"File not found\")"
   ]
  },
  {
   "cell_type": "code",
   "execution_count": 49,
   "id": "standard-weekly",
   "metadata": {},
   "outputs": [
    {
     "name": "stdout",
     "output_type": "stream",
     "text": [
      "D:\\RahulK\\Velocity_Aug_22\\09_15_File_Handling\\employee.json\n",
      "File Deleted\n"
     ]
    }
   ],
   "source": [
    "file_name = r'D:\\RahulK\\Velocity_Aug_22\\09_15_File_Handling\\employee.json' \n",
    "print(file_name)\n",
    "if os.path.exists(file_name): # False\n",
    "    os.remove(file_name)\n",
    "    print('File Deleted')\n",
    "    \n",
    "else:\n",
    "    print(\"File not found\")"
   ]
  },
  {
   "cell_type": "code",
   "execution_count": 51,
   "id": "alternate-incident",
   "metadata": {},
   "outputs": [
    {
     "name": "stdout",
     "output_type": "stream",
     "text": [
      "bias_variance_tradeoff.png\n",
      "File Deleted\n"
     ]
    }
   ],
   "source": [
    "\n",
    "file_name = 'bias_variance_tradeoff.png' \n",
    "print(file_name)\n",
    "if os.path.exists(file_name): # False\n",
    "    os.remove(file_name)\n",
    "    print('File Deleted')\n",
    "    \n",
    "else:\n",
    "    print(\"File not found\")"
   ]
  },
  {
   "cell_type": "code",
   "execution_count": 52,
   "id": "occasional-lodging",
   "metadata": {},
   "outputs": [
    {
     "name": "stdout",
     "output_type": "stream",
     "text": [
      "bias_variance_tradeoff.png\n",
      "File not found\n"
     ]
    }
   ],
   "source": [
    "\n",
    "file_name = 'bias_variance_tradeoff.png' \n",
    "print(file_name)\n",
    "if os.path.exists(file_name): # False\n",
    "    os.remove(file_name)\n",
    "    print('File Deleted')\n",
    "    \n",
    "else:\n",
    "    print(\"File not found\")"
   ]
  },
  {
   "cell_type": "markdown",
   "id": "faced-adrian",
   "metadata": {},
   "source": [
    "### 4. Create Folder"
   ]
  },
  {
   "cell_type": "code",
   "execution_count": null,
   "id": "tender-myanmar",
   "metadata": {},
   "outputs": [],
   "source": [
    "os.mkdir(folder_path)"
   ]
  },
  {
   "cell_type": "code",
   "execution_count": 53,
   "id": "close-model",
   "metadata": {},
   "outputs": [],
   "source": [
    "folder_path = \"images\"\n",
    "os.mkdir(folder_path)"
   ]
  },
  {
   "cell_type": "code",
   "execution_count": 54,
   "id": "japanese-liberia",
   "metadata": {},
   "outputs": [],
   "source": [
    "folder_path = \"templates\"\n",
    "os.mkdir(folder_path)"
   ]
  },
  {
   "cell_type": "code",
   "execution_count": null,
   "id": "soviet-milan",
   "metadata": {},
   "outputs": [],
   "source": [
    "folder_path = \"database\"\n",
    "os.mkdir(folder_path)"
   ]
  },
  {
   "cell_type": "code",
   "execution_count": 57,
   "id": "incredible-hacker",
   "metadata": {},
   "outputs": [],
   "source": [
    "folder_path = \"images\\\\machine_learning\"\n",
    "os.mkdir(folder_path)"
   ]
  },
  {
   "cell_type": "code",
   "execution_count": 58,
   "id": "crucial-picture",
   "metadata": {},
   "outputs": [],
   "source": [
    "folder_path = \"images\\\\machine_learning\\\\linear_regression\"\n",
    "os.mkdir(folder_path)"
   ]
  },
  {
   "cell_type": "code",
   "execution_count": 62,
   "id": "polyphonic-transformation",
   "metadata": {},
   "outputs": [],
   "source": [
    "folder_path = r\"D:\\RahulK\\Velocity_Aug_22\\09_15_File_Handling\\data\"\n",
    "\n",
    "os.mkdir(folder_path)\n",
    "\n",
    "file_path1 =  r\"D:\\RahulK\\Velocity_Aug_22\\09_15_File_Handling\\data1.txt\"\n",
    "file_path2 =  r\"D:\\RahulK\\Velocity_Aug_22\\09_15_File_Handling\\data2.txt\"\n",
    "\n",
    "destination_path_path1 = folder_path + \"\\\\\" + 'data1.txt'\n",
    "destination_path_path2 = folder_path + \"\\\\\" + 'data2.txt'\n",
    "\n",
    "os.rename(file_path1,destination_path_path1)\n",
    "os.rename(file_path2,destination_path_path2)"
   ]
  },
  {
   "cell_type": "code",
   "execution_count": 70,
   "id": "controlling-destination",
   "metadata": {},
   "outputs": [],
   "source": [
    "folder_path = r\"D:\\RahulK\\Velocity_Aug_22\\09_15_File_Handling\\data\"\n",
    "\n",
    "if not os.path.exists(folder_path):\n",
    "    os.mkdir(folder_path)\n",
    "\n",
    "file_path1 =  r\"D:\\RahulK\\Velocity_Aug_22\\09_15_File_Handling\\data1.txt\"\n",
    "file_path2 =  r\"D:\\RahulK\\Velocity_Aug_22\\09_15_File_Handling\\data2.txt\"\n",
    "\n",
    "destination_path_path1 = folder_path + \"\\\\\" + 'data1.txt'\n",
    "destination_path_path2 = folder_path + \"\\\\\" + 'data2.txt'\n",
    "\n",
    "os.rename(file_path1,destination_path_path1)\n",
    "os.rename(file_path2,destination_path_path2)"
   ]
  },
  {
   "cell_type": "code",
   "execution_count": 65,
   "id": "advance-advantage",
   "metadata": {},
   "outputs": [
    {
     "name": "stdout",
     "output_type": "stream",
     "text": [
      "Folder Created\n"
     ]
    }
   ],
   "source": [
    "folder_path = \"movies\"\n",
    "\n",
    "if not os.path.exists(folder_path): # not False >> True\n",
    "    os.mkdir(folder_path)\n",
    "    print(\"Folder Created\")\n",
    "    \n",
    "else:\n",
    "    print(\"Folder already exist\")"
   ]
  },
  {
   "cell_type": "code",
   "execution_count": 66,
   "id": "flying-massage",
   "metadata": {},
   "outputs": [
    {
     "name": "stdout",
     "output_type": "stream",
     "text": [
      "Folder already exist\n"
     ]
    }
   ],
   "source": [
    "folder_path = \"movies\"\n",
    "\n",
    "if not os.path.exists(folder_path): # not False >> True\n",
    "    os.mkdir(folder_path)\n",
    "    print(\"Folder Created\")\n",
    "    \n",
    "else:\n",
    "    print(\"Folder already exist\")"
   ]
  },
  {
   "cell_type": "code",
   "execution_count": 67,
   "id": "industrial-update",
   "metadata": {},
   "outputs": [],
   "source": [
    "folder_path = \"movies\"\n",
    "\n",
    "if not os.path.exists(folder_path): # not False >> True\n",
    "    os.mkdir(folder_path)"
   ]
  },
  {
   "cell_type": "code",
   "execution_count": 73,
   "id": "seeing-compilation",
   "metadata": {},
   "outputs": [],
   "source": [
    "folder_path1 = r\"data science\\machine learning\\logistic regression\"\n",
    "folder_path2 = r\"data science\\deep learning\\CNN\""
   ]
  },
  {
   "cell_type": "code",
   "execution_count": 74,
   "id": "detailed-concentrate",
   "metadata": {},
   "outputs": [
    {
     "data": {
      "text/plain": [
       "'data science\\\\machine learning\\\\logistic regression'"
      ]
     },
     "execution_count": 74,
     "metadata": {},
     "output_type": "execute_result"
    }
   ],
   "source": [
    "folder_path1"
   ]
  },
  {
   "cell_type": "markdown",
   "id": "placed-international",
   "metadata": {},
   "source": [
    "### 5. os.makedirs()"
   ]
  },
  {
   "cell_type": "code",
   "execution_count": null,
   "id": "federal-porter",
   "metadata": {},
   "outputs": [],
   "source": [
    "os.makedirs(folder_path)"
   ]
  },
  {
   "cell_type": "code",
   "execution_count": 79,
   "id": "otherwise-girlfriend",
   "metadata": {},
   "outputs": [],
   "source": [
    "folder_path1 = r\"data science\\machine learning\\logistic regression\"\n",
    "os.makedirs(folder_path1)"
   ]
  },
  {
   "cell_type": "code",
   "execution_count": 84,
   "id": "developmental-cherry",
   "metadata": {},
   "outputs": [],
   "source": [
    "folder_path2 = r\"data science\\deep learning\\CNN\"\n",
    "if not os.path.exists(folder_path2):\n",
    "    os.makedirs(folder_path2)"
   ]
  },
  {
   "cell_type": "markdown",
   "id": "commercial-mailman",
   "metadata": {},
   "source": [
    "### 6. Delete Empty Directory"
   ]
  },
  {
   "cell_type": "code",
   "execution_count": null,
   "id": "medical-invalid",
   "metadata": {},
   "outputs": [],
   "source": [
    "os.rmdir(folder_path)"
   ]
  },
  {
   "cell_type": "code",
   "execution_count": 85,
   "id": "surface-chess",
   "metadata": {},
   "outputs": [],
   "source": [
    "folder_path2 = r\"data science\\deep learning\\CNN\"\n",
    "os.rmdir(folder_path2)"
   ]
  },
  {
   "cell_type": "code",
   "execution_count": 86,
   "id": "continuing-diamond",
   "metadata": {},
   "outputs": [],
   "source": [
    "folder_path1 = r\"data science\\machine learning\\logistic regression\"\n",
    "os.rmdir(folder_path1)"
   ]
  },
  {
   "cell_type": "code",
   "execution_count": 89,
   "id": "floppy-might",
   "metadata": {},
   "outputs": [
    {
     "name": "stdout",
     "output_type": "stream",
     "text": [
      "Folder not found\n"
     ]
    }
   ],
   "source": [
    "folder_path1 = r\"data science\\machine learning\\logistic regression\"\n",
    "\n",
    "if os.path.exists(folder_path1):\n",
    "    os.rmdir(folder_path1)\n",
    "    print(\"Folder Deleted\")\n",
    "    \n",
    "else:\n",
    "    print(\"Folder not found\")"
   ]
  },
  {
   "cell_type": "code",
   "execution_count": 90,
   "id": "entitled-ferry",
   "metadata": {},
   "outputs": [
    {
     "name": "stdout",
     "output_type": "stream",
     "text": [
      "Folder Deleted\n"
     ]
    }
   ],
   "source": [
    "folder_path1 = r\"data science\\machine learning\"\n",
    "\n",
    "if os.path.exists(folder_path1): # True\n",
    "    os.rmdir(folder_path1)\n",
    "    print(\"Folder Deleted\")\n",
    "    \n",
    "else:\n",
    "    print(\"Folder not found\")"
   ]
  },
  {
   "cell_type": "code",
   "execution_count": 91,
   "id": "urban-sharing",
   "metadata": {},
   "outputs": [
    {
     "name": "stdout",
     "output_type": "stream",
     "text": [
      "Folder not found\n"
     ]
    }
   ],
   "source": [
    "folder_path1 = r\"data science\\machine learning\"\n",
    "\n",
    "if os.path.exists(folder_path1): # True\n",
    "    os.rmdir(folder_path1)\n",
    "    print(\"Folder Deleted\")\n",
    "    \n",
    "else:\n",
    "    print(\"Folder not found\")"
   ]
  },
  {
   "cell_type": "code",
   "execution_count": 93,
   "id": "collaborative-vessel",
   "metadata": {},
   "outputs": [],
   "source": [
    "folder_path2 = r\"data science\\deep learning\\CNN\\sample.txt\"\n",
    "\n",
    "os.remove(folder_path2)"
   ]
  },
  {
   "cell_type": "code",
   "execution_count": null,
   "id": "canadian-minister",
   "metadata": {},
   "outputs": [],
   "source": [
    "folder_path2 = r\"data science\\deep learning\\CNN\\sample.txt\"\n",
    "\n",
    "os.remove(folder_path2)"
   ]
  },
  {
   "cell_type": "code",
   "execution_count": 94,
   "id": "acoustic-legend",
   "metadata": {},
   "outputs": [
    {
     "ename": "OSError",
     "evalue": "[WinError 145] The directory is not empty: 'data science'",
     "output_type": "error",
     "traceback": [
      "\u001b[1;31m---------------------------------------------------------------------------\u001b[0m",
      "\u001b[1;31mOSError\u001b[0m                                   Traceback (most recent call last)",
      "\u001b[1;32m<ipython-input-94-80746ccbe222>\u001b[0m in \u001b[0;36m<module>\u001b[1;34m\u001b[0m\n\u001b[0;32m      2\u001b[0m \u001b[1;33m\u001b[0m\u001b[0m\n\u001b[0;32m      3\u001b[0m \u001b[1;32mif\u001b[0m \u001b[0mos\u001b[0m\u001b[1;33m.\u001b[0m\u001b[0mpath\u001b[0m\u001b[1;33m.\u001b[0m\u001b[0mexists\u001b[0m\u001b[1;33m(\u001b[0m\u001b[0mfolder_path1\u001b[0m\u001b[1;33m)\u001b[0m\u001b[1;33m:\u001b[0m \u001b[1;31m# True\u001b[0m\u001b[1;33m\u001b[0m\u001b[1;33m\u001b[0m\u001b[0m\n\u001b[1;32m----> 4\u001b[1;33m     \u001b[0mos\u001b[0m\u001b[1;33m.\u001b[0m\u001b[0mrmdir\u001b[0m\u001b[1;33m(\u001b[0m\u001b[0mfolder_path1\u001b[0m\u001b[1;33m)\u001b[0m\u001b[1;33m\u001b[0m\u001b[1;33m\u001b[0m\u001b[0m\n\u001b[0m\u001b[0;32m      5\u001b[0m     \u001b[0mprint\u001b[0m\u001b[1;33m(\u001b[0m\u001b[1;34m\"Folder Deleted\"\u001b[0m\u001b[1;33m)\u001b[0m\u001b[1;33m\u001b[0m\u001b[1;33m\u001b[0m\u001b[0m\n\u001b[0;32m      6\u001b[0m \u001b[1;33m\u001b[0m\u001b[0m\n",
      "\u001b[1;31mOSError\u001b[0m: [WinError 145] The directory is not empty: 'data science'"
     ]
    }
   ],
   "source": [
    "folder_path1 = r\"data science\"\n",
    "\n",
    "if os.path.exists(folder_path1): # True\n",
    "    os.rmdir(folder_path1)\n",
    "    print(\"Folder Deleted\")\n",
    "    \n",
    "else:\n",
    "    print(\"Folder not found\")"
   ]
  },
  {
   "cell_type": "markdown",
   "id": "expected-receptor",
   "metadata": {},
   "source": [
    "### 7. Delete Non Empty Directory"
   ]
  },
  {
   "cell_type": "code",
   "execution_count": 96,
   "id": "united-moses",
   "metadata": {},
   "outputs": [
    {
     "name": "stdout",
     "output_type": "stream",
     "text": [
      "Folder Deleted\n"
     ]
    }
   ],
   "source": [
    "import shutil\n",
    "\n",
    "folder_path1 = r\"data science\"\n",
    "\n",
    "if os.path.exists(folder_path1): # True\n",
    "    shutil.rmtree(folder_path1)\n",
    "    print(\"Folder Deleted\")\n",
    "    \n",
    "else:\n",
    "    print(\"Folder not found\")"
   ]
  },
  {
   "cell_type": "markdown",
   "id": "radio-arena",
   "metadata": {},
   "source": [
    "### 8. Check files\\Folders in Directory"
   ]
  },
  {
   "cell_type": "code",
   "execution_count": null,
   "id": "german-pension",
   "metadata": {},
   "outputs": [],
   "source": [
    "os.listdir(folder_path)"
   ]
  },
  {
   "cell_type": "code",
   "execution_count": 98,
   "id": "invalid-respondent",
   "metadata": {},
   "outputs": [
    {
     "data": {
      "text/plain": [
       "['1207_385_bank_statement11.pdf',\n",
       " '97_134_bank_statement21.pdf',\n",
       " 'autos_dataset.csv',\n",
       " 'Country_clusters.csv',\n",
       " 'cv006_17022.txt',\n",
       " 'cv007_4992.txt',\n",
       " 'cv008_29326.txt',\n",
       " 'images']"
      ]
     },
     "execution_count": 98,
     "metadata": {},
     "output_type": "execute_result"
    }
   ],
   "source": [
    "os.listdir('Dataset')"
   ]
  },
  {
   "cell_type": "markdown",
   "id": "conventional-exemption",
   "metadata": {},
   "source": [
    "### 9. Check Current Working Directory"
   ]
  },
  {
   "cell_type": "code",
   "execution_count": null,
   "id": "upper-forge",
   "metadata": {},
   "outputs": [],
   "source": [
    "os.getcwd()"
   ]
  },
  {
   "cell_type": "code",
   "execution_count": 100,
   "id": "polyphonic-macedonia",
   "metadata": {},
   "outputs": [
    {
     "data": {
      "text/plain": [
       "'D:\\\\RahulK\\\\Velocity_Aug_22\\\\09_16'"
      ]
     },
     "execution_count": 100,
     "metadata": {},
     "output_type": "execute_result"
    }
   ],
   "source": [
    "os.getcwd()"
   ]
  },
  {
   "cell_type": "code",
   "execution_count": 102,
   "id": "infinite-contract",
   "metadata": {},
   "outputs": [],
   "source": [
    "file_name = \"cv007_4992.txt\"\n",
    "if os.path.exists(file_name):\n",
    "    f = open(file_name, 'r')\n",
    "    text = f.read()\n",
    "    f.close()\n",
    "    print(text)"
   ]
  },
  {
   "cell_type": "code",
   "execution_count": 105,
   "id": "colonial-crown",
   "metadata": {},
   "outputs": [
    {
     "name": "stdout",
     "output_type": "stream",
     "text": [
      "movie_reviews\\cv007_4992.txt\n"
     ]
    }
   ],
   "source": [
    "text_file_name = \"cv007_4992.txt\"\n",
    "\n",
    "file_name = \"movie_reviews\" +\"\\\\\"+ text_file_name\n",
    "print(file_name)\n",
    "\n",
    "if os.path.exists(file_name):\n",
    "    f = open(file_name, 'r')\n",
    "    text = f.read()\n",
    "    f.close()\n",
    "#     print(text)"
   ]
  },
  {
   "cell_type": "code",
   "execution_count": 106,
   "id": "accessible-juice",
   "metadata": {},
   "outputs": [
    {
     "name": "stdout",
     "output_type": "stream",
     "text": [
      "movie_reviews\\cv007_4992.txt\n"
     ]
    }
   ],
   "source": [
    "text_file_name = \"cv007_4992.txt\"\n",
    "folder_path = \"movie_reviews\"\n",
    "file_name = folder_path + \"\\\\\" + text_file_name\n",
    "print(file_name)\n",
    "\n",
    "if os.path.exists(file_name):\n",
    "    f = open(file_name, 'r')\n",
    "    text = f.read()\n",
    "    f.close()\n",
    "#     print(text)"
   ]
  },
  {
   "cell_type": "markdown",
   "id": "minimal-federal",
   "metadata": {},
   "source": [
    "### 10. Join Multiple paths"
   ]
  },
  {
   "cell_type": "code",
   "execution_count": null,
   "id": "extra-algebra",
   "metadata": {},
   "outputs": [],
   "source": [
    "os.path.join(folder_path1, folder_path2)"
   ]
  },
  {
   "cell_type": "code",
   "execution_count": 107,
   "id": "regional-measure",
   "metadata": {},
   "outputs": [
    {
     "name": "stdout",
     "output_type": "stream",
     "text": [
      "movie_reviews\\cv007_4992.txt\n"
     ]
    }
   ],
   "source": [
    "text_file_name = \"cv007_4992.txt\"\n",
    "folder_path = \"movie_reviews\"\n",
    "\n",
    "new_path = os.path.join(folder_path,text_file_name)\n",
    "print(new_path)\n",
    "\n"
   ]
  },
  {
   "cell_type": "code",
   "execution_count": 109,
   "id": "muslim-monitoring",
   "metadata": {},
   "outputs": [
    {
     "name": "stdout",
     "output_type": "stream",
     "text": [
      "movie_reviews\\negative\\sample.txt\n"
     ]
    }
   ],
   "source": [
    "folder_path = \"movie_reviews\"\n",
    "\n",
    "new_path = os.path.join(folder_path,'negative','sample.txt')\n",
    "print(new_path)"
   ]
  },
  {
   "cell_type": "code",
   "execution_count": 118,
   "id": "above-breach",
   "metadata": {},
   "outputs": [
    {
     "name": "stdout",
     "output_type": "stream",
     "text": [
      "D:\\RahulK\\Velocity_Aug_22\\09_16\\movie_reviews\\cv004_11636.txt\n",
      "********************************************************************************\n",
      "D:\\RahulK\\Velocity_Aug_22\\09_16\\movie_reviews\\cv006_17022.txt\n",
      "********************************************************************************\n",
      "D:\\RahulK\\Velocity_Aug_22\\09_16\\movie_reviews\\cv007_4992.txt\n",
      "********************************************************************************\n",
      "D:\\RahulK\\Velocity_Aug_22\\09_16\\movie_reviews\\cv008_29326.txt\n",
      "********************************************************************************\n"
     ]
    }
   ],
   "source": [
    "folder_path = \"movie_reviews\"\n",
    "current_folder_path = os.getcwd()\n",
    "\n",
    "new_path = os.path.join(current_folder_path,\"movie_reviews\")\n",
    "\n",
    "files_list = os.listdir(new_path)\n",
    "\n",
    "for file_name in files_list:\n",
    "    \n",
    "    file_name = new_path + \"\\\\\" + file_name\n",
    "    print(file_name)\n",
    "    with open(file_name) as f:\n",
    "        text = f.read()\n",
    "    print(\"*\"*80)\n",
    "#     print(text)"
   ]
  },
  {
   "cell_type": "code",
   "execution_count": 6,
   "id": "binding-literacy",
   "metadata": {},
   "outputs": [
    {
     "name": "stdout",
     "output_type": "stream",
     "text": [
      "['97_134_bank_statement21.pdf', 'autos_dataset.csv', 'cv006_17022.txt', 'cv007_4992.txt', 'cv008_29326.txt', 'review1.txt']\n",
      "['cv006_17022.txt', 'cv007_4992.txt', 'cv008_29326.txt', 'review1.txt']\n",
      "D:\\RahulK\\Velocity_Aug_22\\09_16_OS_Module\\movie_reviews\\cv006_17022.txt\n",
      "********************************************************************************\n",
      "D:\\RahulK\\Velocity_Aug_22\\09_16_OS_Module\\movie_reviews\\cv007_4992.txt\n",
      "********************************************************************************\n",
      "D:\\RahulK\\Velocity_Aug_22\\09_16_OS_Module\\movie_reviews\\cv008_29326.txt\n",
      "********************************************************************************\n",
      "D:\\RahulK\\Velocity_Aug_22\\09_16_OS_Module\\movie_reviews\\review1.txt\n",
      "********************************************************************************\n"
     ]
    }
   ],
   "source": [
    "import os\n",
    "folder_path = \"movie_reviews\"\n",
    "current_folder_path = os.getcwd()\n",
    "\n",
    "new_path = os.path.join(current_folder_path,\"movie_reviews\")\n",
    "\n",
    "files_list = os.listdir(new_path)\n",
    "print(files_list)\n",
    "text_files_list = [file for file in files_list if file.endswith('.txt')]\n",
    "print(text_files_list)\n",
    "\n",
    "for file_name in text_files_list:\n",
    "    \n",
    "    file_name = os.path.join(new_path , file_name)\n",
    "    \n",
    "    print(file_name)\n",
    "    with open(file_name) as f:\n",
    "        text = f.read()\n",
    "    print(\"*\"*80)\n",
    "#     print(text)"
   ]
  },
  {
   "cell_type": "code",
   "execution_count": 9,
   "id": "wicked-schedule",
   "metadata": {},
   "outputs": [
    {
     "name": "stdout",
     "output_type": "stream",
     "text": [
      "['movie_reviews\\\\cv006_17022.txt', 'movie_reviews\\\\cv007_4992.txt', 'movie_reviews\\\\cv008_29326.txt', 'movie_reviews\\\\review1.txt']\n",
      "movie_reviews\\cv006_17022.txt\n",
      "********************************************************************************\n",
      "movie_reviews\\cv007_4992.txt\n",
      "********************************************************************************\n",
      "movie_reviews\\cv008_29326.txt\n",
      "********************************************************************************\n",
      "movie_reviews\\review1.txt\n",
      "********************************************************************************\n"
     ]
    }
   ],
   "source": [
    "import os,glob\n",
    "folder_path = \"movie_reviews\"\n",
    "current_folder_path = os.getcwd()\n",
    "\n",
    "new_path = os.path.join(current_folder_path,\"movie_reviews\")\n",
    "\n",
    "text_files_list = glob.glob('movie_reviews\\\\'+\"*.txt\")\n",
    "print(text_files_list)\n",
    "\n",
    "for file_name in text_files_list:    \n",
    "    print(file_name)\n",
    "    with open(file_name) as f:\n",
    "        text = f.read()\n",
    "    print(\"*\"*80)\n"
   ]
  },
  {
   "cell_type": "code",
   "execution_count": null,
   "id": "undefined-skiing",
   "metadata": {},
   "outputs": [],
   "source": [
    "pdf_files_path = glob.glob('Dataset\\\\'+\"*.pdf\")\n",
    "pdf_files_path"
   ]
  },
  {
   "cell_type": "markdown",
   "id": "occasional-discussion",
   "metadata": {},
   "source": [
    "### 11. copy files"
   ]
  },
  {
   "cell_type": "code",
   "execution_count": null,
   "id": "weekly-awareness",
   "metadata": {},
   "outputs": [],
   "source": [
    "shutil.copy(source_path, destination_path)"
   ]
  },
  {
   "cell_type": "code",
   "execution_count": 131,
   "id": "christian-onion",
   "metadata": {},
   "outputs": [
    {
     "name": "stdout",
     "output_type": "stream",
     "text": [
      "Overfitting.png\n",
      "Dataset\\images\n"
     ]
    },
    {
     "data": {
      "text/plain": [
       "'Dataset\\\\images\\\\Overfitting.png'"
      ]
     },
     "execution_count": 131,
     "metadata": {},
     "output_type": "execute_result"
    }
   ],
   "source": [
    "source_path = r\"Overfitting.png\"\n",
    "print(source_path)\n",
    "destination_path = \"Dataset\\\\images\"\n",
    "print(destination_path)\n",
    "\n",
    "shutil.copy(source_path, destination_path)"
   ]
  },
  {
   "cell_type": "markdown",
   "id": "generous-protocol",
   "metadata": {},
   "source": [
    "#### glob "
   ]
  },
  {
   "cell_type": "code",
   "execution_count": 133,
   "id": "lightweight-basics",
   "metadata": {},
   "outputs": [
    {
     "data": {
      "text/plain": [
       "['cv006_17022.txt', 'cv007_4992.txt', 'cv008_29326.txt', 'review1.txt']"
      ]
     },
     "execution_count": 133,
     "metadata": {},
     "output_type": "execute_result"
    }
   ],
   "source": [
    "folder_path = \"movie_reviews\"\n",
    "current_folder_path = os.getcwd()\n",
    "\n",
    "new_path = os.path.join(current_folder_path,\"movie_reviews\")\n",
    "\n",
    "files_list = os.listdir(new_path)\n",
    "files_list\n",
    "# for file_name in files_list:\n",
    "    \n",
    "#     file_name = os.path.join(new_path , file_name)\n",
    "    \n",
    "#     print(file_name)\n",
    "#     with open(file_name) as f:\n",
    "#         text = f.read()\n",
    "#     print(\"*\"*80)\n",
    "# #     print(text)"
   ]
  },
  {
   "cell_type": "code",
   "execution_count": 137,
   "id": "mobile-muslim",
   "metadata": {},
   "outputs": [
    {
     "name": "stdout",
     "output_type": "stream",
     "text": [
      "D:\\RahulK\\Velocity_Aug_22\\09_16\\movie_reviews\n"
     ]
    },
    {
     "data": {
      "text/plain": [
       "['D:\\\\RahulK\\\\Velocity_Aug_22\\\\09_16\\\\movie_reviews\\\\cv006_17022.txt',\n",
       " 'D:\\\\RahulK\\\\Velocity_Aug_22\\\\09_16\\\\movie_reviews\\\\cv007_4992.txt',\n",
       " 'D:\\\\RahulK\\\\Velocity_Aug_22\\\\09_16\\\\movie_reviews\\\\cv008_29326.txt',\n",
       " 'D:\\\\RahulK\\\\Velocity_Aug_22\\\\09_16\\\\movie_reviews\\\\review1.txt']"
      ]
     },
     "execution_count": 137,
     "metadata": {},
     "output_type": "execute_result"
    }
   ],
   "source": [
    "import glob\n",
    "folder_path = \"movie_reviews\"\n",
    "current_folder_path = os.getcwd()\n",
    "\n",
    "new_path = os.path.join(current_folder_path,\"movie_reviews\")\n",
    "print(new_path)\n",
    "\n",
    "glob.glob(new_path + \"\\\\\" + \"*.txt\")\n"
   ]
  },
  {
   "cell_type": "code",
   "execution_count": 141,
   "id": "adaptive-witch",
   "metadata": {},
   "outputs": [
    {
     "data": {
      "text/plain": [
       "[]"
      ]
     },
     "execution_count": 141,
     "metadata": {},
     "output_type": "execute_result"
    }
   ],
   "source": [
    "glob.glob('Dataset\\\\'+\"*.txt\")"
   ]
  },
  {
   "cell_type": "code",
   "execution_count": 143,
   "id": "printable-recruitment",
   "metadata": {},
   "outputs": [
    {
     "data": {
      "text/plain": [
       "['Dataset\\\\autos_dataset.csv', 'Dataset\\\\Country_clusters.csv']"
      ]
     },
     "execution_count": 143,
     "metadata": {},
     "output_type": "execute_result"
    }
   ],
   "source": [
    "csv_files_path = glob.glob('Dataset\\\\' + \"*.csv\")\n",
    "csv_files_path"
   ]
  },
  {
   "cell_type": "code",
   "execution_count": 144,
   "id": "nutritional-hormone",
   "metadata": {},
   "outputs": [
    {
     "data": {
      "text/plain": [
       "['Dataset\\\\1207_385_bank_statement11.pdf',\n",
       " 'Dataset\\\\97_134_bank_statement21.pdf']"
      ]
     },
     "execution_count": 144,
     "metadata": {},
     "output_type": "execute_result"
    }
   ],
   "source": [
    "pdf_files_path = glob.glob('Dataset\\\\'+\"*.pdf\")\n",
    "pdf_files_path"
   ]
  },
  {
   "cell_type": "code",
   "execution_count": 145,
   "id": "protective-columbus",
   "metadata": {},
   "outputs": [
    {
     "data": {
      "text/plain": [
       "['DirEntry',\n",
       " 'F_OK',\n",
       " 'MutableMapping',\n",
       " 'O_APPEND',\n",
       " 'O_BINARY',\n",
       " 'O_CREAT',\n",
       " 'O_EXCL',\n",
       " 'O_NOINHERIT',\n",
       " 'O_RANDOM',\n",
       " 'O_RDONLY',\n",
       " 'O_RDWR',\n",
       " 'O_SEQUENTIAL',\n",
       " 'O_SHORT_LIVED',\n",
       " 'O_TEMPORARY',\n",
       " 'O_TEXT',\n",
       " 'O_TRUNC',\n",
       " 'O_WRONLY',\n",
       " 'P_DETACH',\n",
       " 'P_NOWAIT',\n",
       " 'P_NOWAITO',\n",
       " 'P_OVERLAY',\n",
       " 'P_WAIT',\n",
       " 'PathLike',\n",
       " 'R_OK',\n",
       " 'SEEK_CUR',\n",
       " 'SEEK_END',\n",
       " 'SEEK_SET',\n",
       " 'TMP_MAX',\n",
       " 'W_OK',\n",
       " 'X_OK',\n",
       " '_AddedDllDirectory',\n",
       " '_Environ',\n",
       " '__all__',\n",
       " '__builtins__',\n",
       " '__cached__',\n",
       " '__doc__',\n",
       " '__file__',\n",
       " '__loader__',\n",
       " '__name__',\n",
       " '__package__',\n",
       " '__spec__',\n",
       " '_check_methods',\n",
       " '_execvpe',\n",
       " '_exists',\n",
       " '_exit',\n",
       " '_fspath',\n",
       " '_get_exports_list',\n",
       " '_putenv',\n",
       " '_unsetenv',\n",
       " '_wrap_close',\n",
       " 'abc',\n",
       " 'abort',\n",
       " 'access',\n",
       " 'add_dll_directory',\n",
       " 'altsep',\n",
       " 'chdir',\n",
       " 'chmod',\n",
       " 'close',\n",
       " 'closerange',\n",
       " 'cpu_count',\n",
       " 'curdir',\n",
       " 'defpath',\n",
       " 'device_encoding',\n",
       " 'devnull',\n",
       " 'dup',\n",
       " 'dup2',\n",
       " 'environ',\n",
       " 'error',\n",
       " 'execl',\n",
       " 'execle',\n",
       " 'execlp',\n",
       " 'execlpe',\n",
       " 'execv',\n",
       " 'execve',\n",
       " 'execvp',\n",
       " 'execvpe',\n",
       " 'extsep',\n",
       " 'fdopen',\n",
       " 'fsdecode',\n",
       " 'fsencode',\n",
       " 'fspath',\n",
       " 'fstat',\n",
       " 'fsync',\n",
       " 'ftruncate',\n",
       " 'get_exec_path',\n",
       " 'get_handle_inheritable',\n",
       " 'get_inheritable',\n",
       " 'get_terminal_size',\n",
       " 'getcwd',\n",
       " 'getcwdb',\n",
       " 'getenv',\n",
       " 'getlogin',\n",
       " 'getpid',\n",
       " 'getppid',\n",
       " 'isatty',\n",
       " 'kill',\n",
       " 'linesep',\n",
       " 'link',\n",
       " 'listdir',\n",
       " 'lseek',\n",
       " 'lstat',\n",
       " 'makedirs',\n",
       " 'mkdir',\n",
       " 'name',\n",
       " 'open',\n",
       " 'pardir',\n",
       " 'path',\n",
       " 'pathsep',\n",
       " 'pipe',\n",
       " 'popen',\n",
       " 'putenv',\n",
       " 'read',\n",
       " 'readlink',\n",
       " 'remove',\n",
       " 'removedirs',\n",
       " 'rename',\n",
       " 'renames',\n",
       " 'replace',\n",
       " 'rmdir',\n",
       " 'scandir',\n",
       " 'sep',\n",
       " 'set_handle_inheritable',\n",
       " 'set_inheritable',\n",
       " 'spawnl',\n",
       " 'spawnle',\n",
       " 'spawnv',\n",
       " 'spawnve',\n",
       " 'st',\n",
       " 'startfile',\n",
       " 'stat',\n",
       " 'stat_result',\n",
       " 'statvfs_result',\n",
       " 'strerror',\n",
       " 'supports_bytes_environ',\n",
       " 'supports_dir_fd',\n",
       " 'supports_effective_ids',\n",
       " 'supports_fd',\n",
       " 'supports_follow_symlinks',\n",
       " 'symlink',\n",
       " 'sys',\n",
       " 'system',\n",
       " 'terminal_size',\n",
       " 'times',\n",
       " 'times_result',\n",
       " 'truncate',\n",
       " 'umask',\n",
       " 'uname_result',\n",
       " 'unlink',\n",
       " 'urandom',\n",
       " 'utime',\n",
       " 'waitpid',\n",
       " 'walk',\n",
       " 'write']"
      ]
     },
     "execution_count": 145,
     "metadata": {},
     "output_type": "execute_result"
    }
   ],
   "source": [
    "dir(os)"
   ]
  }
 ],
 "metadata": {
  "kernelspec": {
   "display_name": "Python 3",
   "language": "python",
   "name": "python3"
  },
  "language_info": {
   "codemirror_mode": {
    "name": "ipython",
    "version": 3
   },
   "file_extension": ".py",
   "mimetype": "text/x-python",
   "name": "python",
   "nbconvert_exporter": "python",
   "pygments_lexer": "ipython3",
   "version": "3.8.7"
  }
 },
 "nbformat": 4,
 "nbformat_minor": 5
}
