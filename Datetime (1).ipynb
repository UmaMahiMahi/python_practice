{
 "cells": [
  {
   "cell_type": "markdown",
   "id": "amino-creation",
   "metadata": {},
   "source": [
    "# Datetime"
   ]
  },
  {
   "cell_type": "code",
   "execution_count": 1,
   "id": "contained-forty",
   "metadata": {},
   "outputs": [],
   "source": [
    "import time\n",
    "import datetime"
   ]
  },
  {
   "cell_type": "code",
   "execution_count": null,
   "id": "domestic-opportunity",
   "metadata": {},
   "outputs": [],
   "source": [
    "date1 = '19-Sep-2022'\n",
    "date2 = '10-09-2022'\n",
    "date3 = '19 Sep 2022'\n",
    "date4 = '19/09/2022'\n",
    "\n",
    "2022-09-19"
   ]
  },
  {
   "cell_type": "markdown",
   "id": "decreased-actress",
   "metadata": {},
   "source": [
    "### 1. time.time()"
   ]
  },
  {
   "cell_type": "code",
   "execution_count": 2,
   "id": "coastal-bacteria",
   "metadata": {},
   "outputs": [
    {
     "data": {
      "text/plain": [
       "1663556469.312757"
      ]
     },
     "execution_count": 2,
     "metadata": {},
     "output_type": "execute_result"
    }
   ],
   "source": [
    "start_time = time.time()"
   ]
  },
  {
   "cell_type": "code",
   "execution_count": 3,
   "id": "fluid-sport",
   "metadata": {},
   "outputs": [
    {
     "data": {
      "text/plain": [
       "1663556482.2006922"
      ]
     },
     "execution_count": 3,
     "metadata": {},
     "output_type": "execute_result"
    }
   ],
   "source": [
    "time.time()"
   ]
  },
  {
   "cell_type": "code",
   "execution_count": 4,
   "id": "incorrect-supervision",
   "metadata": {},
   "outputs": [
    {
     "data": {
      "text/plain": [
       "1663556496.6043754"
      ]
     },
     "execution_count": 4,
     "metadata": {},
     "output_type": "execute_result"
    }
   ],
   "source": [
    "time.time()"
   ]
  },
  {
   "cell_type": "code",
   "execution_count": 8,
   "id": "above-thailand",
   "metadata": {},
   "outputs": [
    {
     "name": "stdout",
     "output_type": "stream",
     "text": [
      "Total Time : 0.005000591278076172\n"
     ]
    }
   ],
   "source": [
    "start_time = time.time()\n",
    "\n",
    "for i in range(100000):\n",
    "    pass\n",
    "    \n",
    "end_time = time.time()\n",
    "\n",
    "total_time = end_time - start_time\n",
    "print(\"Total Time :\",total_time)"
   ]
  },
  {
   "cell_type": "code",
   "execution_count": 11,
   "id": "scientific-charity",
   "metadata": {},
   "outputs": [
    {
     "name": "stdout",
     "output_type": "stream",
     "text": [
      "Total Time : 1.0476181507110596\n"
     ]
    }
   ],
   "source": [
    "start_time = time.time()\n",
    "\n",
    "for i in range(20000000):\n",
    "    pass\n",
    "    \n",
    "end_time = time.time()\n",
    "\n",
    "total_time = end_time - start_time\n",
    "print(\"Total Time :\",total_time)"
   ]
  },
  {
   "cell_type": "code",
   "execution_count": 12,
   "id": "fourth-proceeding",
   "metadata": {},
   "outputs": [
    {
     "name": "stdout",
     "output_type": "stream",
     "text": [
      "Total Time : 10.608176469802856\n"
     ]
    }
   ],
   "source": [
    "start_time = time.time()\n",
    "\n",
    "for i in range(200000000):\n",
    "    pass\n",
    "    \n",
    "end_time = time.time()\n",
    "\n",
    "total_time = end_time - start_time\n",
    "print(\"Total Time :\",total_time)"
   ]
  },
  {
   "cell_type": "code",
   "execution_count": 13,
   "id": "prerequisite-thomson",
   "metadata": {},
   "outputs": [
    {
     "name": "stdout",
     "output_type": "stream",
     "text": [
      "Total Time : 0.0009992122650146484\n"
     ]
    }
   ],
   "source": [
    "start_time = time.time()\n",
    "\n",
    "def test_time():\n",
    "    for i in range(200000000):\n",
    "        pass\n",
    "    \n",
    "end_time = time.time()\n",
    "\n",
    "total_time = end_time - start_time\n",
    "print(\"Total Time :\",total_time)"
   ]
  },
  {
   "cell_type": "code",
   "execution_count": 14,
   "id": "studied-plumbing",
   "metadata": {},
   "outputs": [
    {
     "name": "stdout",
     "output_type": "stream",
     "text": [
      "Total Time : 4.845422744750977\n"
     ]
    }
   ],
   "source": [
    "start_time = time.time()\n",
    "\n",
    "def test_time():\n",
    "    for i in range(200000000):\n",
    "        pass\n",
    "    \n",
    "test_time()\n",
    "end_time = time.time()\n",
    "\n",
    "total_time = end_time - start_time\n",
    "print(\"Total Time :\",total_time)"
   ]
  },
  {
   "cell_type": "code",
   "execution_count": 16,
   "id": "introductory-jacket",
   "metadata": {},
   "outputs": [
    {
     "name": "stdout",
     "output_type": "stream",
     "text": [
      "Total Time : 5.234448432922363\n"
     ]
    }
   ],
   "source": [
    "start_time = time.time()\n",
    "\n",
    "def logistic_regression():\n",
    "    print(\"Logistic Regression\")\n",
    "    for i in range(200000000):\n",
    "        pass\n",
    "    \n",
    "test_time()\n",
    "end_time = time.time()\n",
    "\n",
    "print(\"Total Time :\",end_time - start_time)"
   ]
  },
  {
   "cell_type": "code",
   "execution_count": 17,
   "id": "dependent-insertion",
   "metadata": {},
   "outputs": [
    {
     "name": "stdout",
     "output_type": "stream",
     "text": [
      "Total Time : 5.1848061084747314\n"
     ]
    }
   ],
   "source": [
    "start_time = time.time()\n",
    "\n",
    "def logistic_regression():\n",
    "    print(\"Logistic Regression\")\n",
    "    for i in range(200000000):\n",
    "        pass\n",
    "    \n",
    "test_time()\n",
    "\n",
    "print(\"Total Time :\",time.time() - start_time)"
   ]
  },
  {
   "cell_type": "markdown",
   "id": "latter-prayer",
   "metadata": {},
   "source": [
    "### 2. time.perf_counter()"
   ]
  },
  {
   "cell_type": "code",
   "execution_count": 19,
   "id": "functional-cable",
   "metadata": {},
   "outputs": [
    {
     "name": "stdout",
     "output_type": "stream",
     "text": [
      "Total Time : 5.04129839999996\n"
     ]
    }
   ],
   "source": [
    "start_time = time.perf_counter()\n",
    "\n",
    "def logistic_regression():\n",
    "    print(\"Logistic Regression\")\n",
    "    for i in range(200000000):\n",
    "        pass\n",
    "    \n",
    "test_time()\n",
    "\n",
    "print(\"Total Time :\",time.perf_counter() - start_time)"
   ]
  },
  {
   "cell_type": "code",
   "execution_count": 21,
   "id": "composed-dispute",
   "metadata": {},
   "outputs": [
    {
     "name": "stdout",
     "output_type": "stream",
     "text": [
      "Total Time : 4.7303578000000925\n"
     ]
    }
   ],
   "source": [
    "\n",
    "def logistic_regression():\n",
    "    print(\"Logistic Regression\")\n",
    "    for i in range(200000000):\n",
    "        pass\n",
    "    \n",
    "start_time = time.perf_counter()\n",
    "\n",
    "test_time()\n",
    "\n",
    "print(\"Total Time :\",time.perf_counter() - start_time)"
   ]
  },
  {
   "cell_type": "code",
   "execution_count": 22,
   "id": "british-google",
   "metadata": {},
   "outputs": [
    {
     "name": "stdout",
     "output_type": "stream",
     "text": [
      "Total Time : 11.946278300000131\n"
     ]
    }
   ],
   "source": [
    "\n",
    "def logistic_regression():\n",
    "    print(\"Logistic Regression\")\n",
    "    for i in range(20000000):\n",
    "        pass\n",
    "    \n",
    "start_time = time.perf_counter()\n",
    "\n",
    "test_time()\n",
    "test_time()\n",
    "test_time()\n",
    "\n",
    "print(\"Total Time :\",time.perf_counter() - start_time)"
   ]
  },
  {
   "cell_type": "code",
   "execution_count": 26,
   "id": "spiritual-current",
   "metadata": {},
   "outputs": [
    {
     "name": "stdout",
     "output_type": "stream",
     "text": [
      "Logistic Regression\n",
      "Logistic Regression\n",
      "Logistic Regression\n",
      "Total Time : 1.5533159000001433\n"
     ]
    }
   ],
   "source": [
    "\n",
    "def logistic_regression():\n",
    "    print(\"Logistic Regression\")\n",
    "    for i in range(20000000):\n",
    "        pass\n",
    "    \n",
    "start_time = time.perf_counter()\n",
    "\n",
    "logistic_regression()\n",
    "logistic_regression()\n",
    "logistic_regression()\n",
    "\n",
    "print(\"Total Time :\",time.perf_counter() - start_time)"
   ]
  },
  {
   "cell_type": "markdown",
   "id": "colonial-click",
   "metadata": {},
   "source": [
    "### 3. time.sleep()"
   ]
  },
  {
   "cell_type": "code",
   "execution_count": 27,
   "id": "surrounded-school",
   "metadata": {},
   "outputs": [
    {
     "name": "stdout",
     "output_type": "stream",
     "text": [
      "Python\n",
      "Data Science\n"
     ]
    }
   ],
   "source": [
    "print(\"Python\")\n",
    "print(\"Data Science\")"
   ]
  },
  {
   "cell_type": "code",
   "execution_count": 30,
   "id": "tracked-ceramic",
   "metadata": {},
   "outputs": [
    {
     "name": "stdout",
     "output_type": "stream",
     "text": [
      "Python\n",
      "Data Science\n",
      "Deep Learning\n"
     ]
    }
   ],
   "source": [
    "print(\"Python\")\n",
    "time.sleep(3)\n",
    "print(\"Data Science\")\n",
    "time.sleep(3)\n",
    "print(\"Deep Learning\")"
   ]
  },
  {
   "cell_type": "code",
   "execution_count": 32,
   "id": "subtle-radical",
   "metadata": {},
   "outputs": [
    {
     "name": "stdout",
     "output_type": "stream",
     "text": [
      "Python\n",
      "Data Science\n",
      "Deep Learning\n",
      "Total Time >> 6.020319938659668\n"
     ]
    }
   ],
   "source": [
    "start_time = time.time()\n",
    "print(\"Python\")\n",
    "time.sleep(3)\n",
    "print(\"Data Science\")\n",
    "time.sleep(3)\n",
    "print(\"Deep Learning\")\n",
    "\n",
    "end_time = time.time()\n",
    "print(\"Total Time >>\",end_time - start_time)"
   ]
  },
  {
   "cell_type": "code",
   "execution_count": 34,
   "id": "monthly-helen",
   "metadata": {},
   "outputs": [
    {
     "name": "stdout",
     "output_type": "stream",
     "text": [
      "Python\n",
      "Data Science\n",
      "Deep Learning\n",
      "Total Time >> 9.037926197052002\n"
     ]
    }
   ],
   "source": [
    "start_time = time.time()\n",
    "print(\"Python\")\n",
    "time.sleep(3)\n",
    "print(\"Data Science\")\n",
    "time.sleep(3)\n",
    "print(\"Deep Learning\")\n",
    "time.sleep(3)\n",
    "\n",
    "end_time = time.time()\n",
    "print(\"Total Time >>\",end_time - start_time)"
   ]
  },
  {
   "cell_type": "code",
   "execution_count": null,
   "id": "historic-season",
   "metadata": {},
   "outputs": [],
   "source": []
  },
  {
   "cell_type": "code",
   "execution_count": 36,
   "id": "induced-prior",
   "metadata": {},
   "outputs": [
    {
     "name": "stdout",
     "output_type": "stream",
     "text": [
      "Pune\n",
      "Mumbai\n",
      "Delhi\n",
      "Hyderabad\n",
      "Chennai\n"
     ]
    }
   ],
   "source": [
    "city_names = ['Pune','Mumbai','Delhi','Hyderabad','Chennai']\n",
    "for i in city_names:\n",
    "    print(i)"
   ]
  },
  {
   "cell_type": "code",
   "execution_count": 38,
   "id": "collect-blank",
   "metadata": {},
   "outputs": [
    {
     "name": "stdout",
     "output_type": "stream",
     "text": [
      "City Name : Pune\n",
      "City Name : Mumbai\n",
      "City Name : Delhi\n",
      "City Name : Hyderabad\n",
      "City Name : Chennai\n"
     ]
    }
   ],
   "source": [
    "city_names = ['Pune','Mumbai','Delhi','Hyderabad','Chennai']\n",
    "for city in city_names:\n",
    "    print(\"City Name :\",city)\n",
    "    time.sleep(2)"
   ]
  },
  {
   "cell_type": "markdown",
   "id": "spoken-pavilion",
   "metadata": {},
   "source": [
    "### Datetime"
   ]
  },
  {
   "cell_type": "code",
   "execution_count": 140,
   "id": "korean-honduras",
   "metadata": {},
   "outputs": [],
   "source": [
    "import datetime"
   ]
  },
  {
   "cell_type": "markdown",
   "id": "norman-paris",
   "metadata": {},
   "source": [
    "### datetime.datetime()"
   ]
  },
  {
   "cell_type": "code",
   "execution_count": null,
   "id": "electoral-insight",
   "metadata": {},
   "outputs": [],
   "source": [
    "datetime(year, month, day[, hour[, minute[, second[, microsecond[,tzinfo]]]]])\n"
   ]
  },
  {
   "cell_type": "markdown",
   "id": "bottom-revision",
   "metadata": {},
   "source": [
    "### 1. Current Datetime "
   ]
  },
  {
   "cell_type": "markdown",
   "id": "refined-shopping",
   "metadata": {},
   "source": [
    "#### now()"
   ]
  },
  {
   "cell_type": "code",
   "execution_count": 40,
   "id": "seven-chrome",
   "metadata": {},
   "outputs": [
    {
     "data": {
      "text/plain": [
       "datetime.datetime(2022, 9, 19, 8, 52, 2, 862313)"
      ]
     },
     "execution_count": 40,
     "metadata": {},
     "output_type": "execute_result"
    }
   ],
   "source": [
    "datetime.datetime.now()"
   ]
  },
  {
   "cell_type": "code",
   "execution_count": 42,
   "id": "derived-annotation",
   "metadata": {},
   "outputs": [
    {
     "name": "stdout",
     "output_type": "stream",
     "text": [
      "2022-09-19 08:52:24.002755\n"
     ]
    }
   ],
   "source": [
    "print(datetime.datetime.now())"
   ]
  },
  {
   "cell_type": "code",
   "execution_count": 44,
   "id": "innovative-capitol",
   "metadata": {},
   "outputs": [
    {
     "name": "stdout",
     "output_type": "stream",
     "text": [
      "2022-09-19 08:53:16.313800\n"
     ]
    }
   ],
   "source": [
    "current_datetime = datetime.datetime.now()\n",
    "print(current_datetime)"
   ]
  },
  {
   "cell_type": "code",
   "execution_count": 45,
   "id": "fundamental-hardware",
   "metadata": {},
   "outputs": [
    {
     "name": "stdout",
     "output_type": "stream",
     "text": [
      "2022-09-19 08:53:23.574369\n"
     ]
    }
   ],
   "source": [
    "current_datetime = datetime.datetime.now()\n",
    "print(current_datetime)"
   ]
  },
  {
   "cell_type": "markdown",
   "id": "reflected-episode",
   "metadata": {},
   "source": [
    "#### today()"
   ]
  },
  {
   "cell_type": "code",
   "execution_count": 48,
   "id": "federal-district",
   "metadata": {},
   "outputs": [
    {
     "name": "stdout",
     "output_type": "stream",
     "text": [
      "current_datetime : 2022-09-19 08:54:08.696877\n"
     ]
    }
   ],
   "source": [
    "current_datetime = datetime.datetime.today()\n",
    "print(\"current_datetime :\",current_datetime)"
   ]
  },
  {
   "cell_type": "code",
   "execution_count": null,
   "id": "stuffed-stuart",
   "metadata": {},
   "outputs": [],
   "source": []
  },
  {
   "cell_type": "code",
   "execution_count": 51,
   "id": "coral-voluntary",
   "metadata": {},
   "outputs": [
    {
     "name": "stdout",
     "output_type": "stream",
     "text": [
      "current_datetime : 2022-09-19 08:54:40.383656\n"
     ]
    }
   ],
   "source": [
    "current_datetime = datetime.datetime.today()\n",
    "print(\"current_datetime :\",current_datetime)\n"
   ]
  },
  {
   "cell_type": "code",
   "execution_count": 54,
   "id": "corporate-titanium",
   "metadata": {},
   "outputs": [
    {
     "name": "stdout",
     "output_type": "stream",
     "text": [
      "current_datetime : 2022-09-19 08:54:59.278883\n"
     ]
    }
   ],
   "source": [
    "current_datetime = datetime.datetime.now()\n",
    "print(\"current_datetime :\",current_datetime)"
   ]
  },
  {
   "cell_type": "code",
   "execution_count": 55,
   "id": "hungarian-windows",
   "metadata": {},
   "outputs": [
    {
     "data": {
      "text/plain": [
       "datetime.datetime"
      ]
     },
     "execution_count": 55,
     "metadata": {},
     "output_type": "execute_result"
    }
   ],
   "source": [
    "type(current_datetime)"
   ]
  },
  {
   "cell_type": "markdown",
   "id": "brilliant-wheel",
   "metadata": {},
   "source": [
    "#### Current Date"
   ]
  },
  {
   "cell_type": "code",
   "execution_count": 180,
   "id": "amateur-insight",
   "metadata": {},
   "outputs": [
    {
     "name": "stdout",
     "output_type": "stream",
     "text": [
      "current_date : 2022-09-19\n"
     ]
    }
   ],
   "source": [
    "current_date = datetime.date.today()\n",
    "print('current_date :',current_date)"
   ]
  },
  {
   "cell_type": "code",
   "execution_count": 181,
   "id": "pacific-theater",
   "metadata": {},
   "outputs": [
    {
     "name": "stdout",
     "output_type": "stream",
     "text": [
      "current_date : 2022-09-19\n"
     ]
    }
   ],
   "source": [
    "current_date = datetime.datetime.now().date()\n",
    "print('current_date :',current_date)"
   ]
  },
  {
   "cell_type": "code",
   "execution_count": 59,
   "id": "least-shirt",
   "metadata": {},
   "outputs": [
    {
     "name": "stdout",
     "output_type": "stream",
     "text": [
      "current_date : 2022-09-19\n"
     ]
    }
   ],
   "source": [
    "current_date = datetime.datetime.now().date()\n",
    "print('current_date :',current_date)"
   ]
  },
  {
   "cell_type": "code",
   "execution_count": 60,
   "id": "unlikely-newark",
   "metadata": {},
   "outputs": [
    {
     "name": "stdout",
     "output_type": "stream",
     "text": [
      "current_date : 2022-09-19\n"
     ]
    }
   ],
   "source": [
    "current_date = datetime.datetime.today().date()\n",
    "print('current_date :',current_date)"
   ]
  },
  {
   "cell_type": "markdown",
   "id": "portuguese-draft",
   "metadata": {},
   "source": [
    "#### Current Time"
   ]
  },
  {
   "cell_type": "code",
   "execution_count": 62,
   "id": "incorporated-spank",
   "metadata": {},
   "outputs": [
    {
     "name": "stdout",
     "output_type": "stream",
     "text": [
      "current_time : 08:56:58.967596\n"
     ]
    }
   ],
   "source": [
    "current_time = datetime.datetime.today().time()\n",
    "print('current_time :',current_time)"
   ]
  },
  {
   "cell_type": "code",
   "execution_count": 63,
   "id": "nominated-bunch",
   "metadata": {},
   "outputs": [
    {
     "name": "stdout",
     "output_type": "stream",
     "text": [
      "current_time : 08:57:28.989620\n"
     ]
    }
   ],
   "source": [
    "current_time = datetime.datetime.now().time()\n",
    "print('current_time :',current_time)"
   ]
  },
  {
   "cell_type": "code",
   "execution_count": 64,
   "id": "lesbian-agreement",
   "metadata": {},
   "outputs": [
    {
     "name": "stdout",
     "output_type": "stream",
     "text": [
      "current_datetime : 2022-09-19 08:57:52.708757\n"
     ]
    }
   ],
   "source": [
    "current_datetime = datetime.datetime.now()\n",
    "print('current_datetime :',current_datetime)"
   ]
  },
  {
   "cell_type": "code",
   "execution_count": 73,
   "id": "whole-vertical",
   "metadata": {},
   "outputs": [
    {
     "name": "stdout",
     "output_type": "stream",
     "text": [
      "08:57:52.708757\n"
     ]
    }
   ],
   "source": [
    "print(current_datetime.time())"
   ]
  },
  {
   "cell_type": "code",
   "execution_count": 67,
   "id": "elder-canada",
   "metadata": {},
   "outputs": [
    {
     "name": "stdout",
     "output_type": "stream",
     "text": [
      "2022-09-19\n"
     ]
    }
   ],
   "source": [
    "print(current_datetime.date())"
   ]
  },
  {
   "cell_type": "code",
   "execution_count": 75,
   "id": "about-carpet",
   "metadata": {},
   "outputs": [
    {
     "data": {
      "text/plain": [
       "2022"
      ]
     },
     "execution_count": 75,
     "metadata": {},
     "output_type": "execute_result"
    }
   ],
   "source": [
    "current_datetime.year"
   ]
  },
  {
   "cell_type": "code",
   "execution_count": 79,
   "id": "christian-january",
   "metadata": {},
   "outputs": [
    {
     "data": {
      "text/plain": [
       "9"
      ]
     },
     "execution_count": 79,
     "metadata": {},
     "output_type": "execute_result"
    }
   ],
   "source": [
    "current_datetime.month"
   ]
  },
  {
   "cell_type": "code",
   "execution_count": 81,
   "id": "prospective-fisher",
   "metadata": {},
   "outputs": [
    {
     "data": {
      "text/plain": [
       "19"
      ]
     },
     "execution_count": 81,
     "metadata": {},
     "output_type": "execute_result"
    }
   ],
   "source": [
    "current_datetime.day"
   ]
  },
  {
   "cell_type": "code",
   "execution_count": 83,
   "id": "imposed-drama",
   "metadata": {},
   "outputs": [
    {
     "data": {
      "text/plain": [
       "8"
      ]
     },
     "execution_count": 83,
     "metadata": {},
     "output_type": "execute_result"
    }
   ],
   "source": [
    "current_datetime.hour"
   ]
  },
  {
   "cell_type": "code",
   "execution_count": 85,
   "id": "israeli-semester",
   "metadata": {},
   "outputs": [
    {
     "data": {
      "text/plain": [
       "57"
      ]
     },
     "execution_count": 85,
     "metadata": {},
     "output_type": "execute_result"
    }
   ],
   "source": [
    "current_datetime.minute"
   ]
  },
  {
   "cell_type": "code",
   "execution_count": 86,
   "id": "closing-stomach",
   "metadata": {},
   "outputs": [
    {
     "data": {
      "text/plain": [
       "708757"
      ]
     },
     "execution_count": 86,
     "metadata": {},
     "output_type": "execute_result"
    }
   ],
   "source": [
    "current_datetime.microsecond"
   ]
  },
  {
   "cell_type": "markdown",
   "id": "balanced-nature",
   "metadata": {},
   "source": [
    "### time Delta"
   ]
  },
  {
   "cell_type": "code",
   "execution_count": null,
   "id": "developed-invasion",
   "metadata": {},
   "outputs": [],
   "source": [
    "timedelta(days=0, seconds=0, microseconds=0, milliseconds=0, minutes=0, hours=0, weeks=0)\n"
   ]
  },
  {
   "cell_type": "code",
   "execution_count": 87,
   "id": "novel-walnut",
   "metadata": {},
   "outputs": [
    {
     "name": "stdout",
     "output_type": "stream",
     "text": [
      "current_datetime : 2022-09-19 09:01:46.025704\n"
     ]
    }
   ],
   "source": [
    "current_datetime = datetime.datetime.now()\n",
    "print(\"current_datetime :\",current_datetime)"
   ]
  },
  {
   "cell_type": "code",
   "execution_count": 91,
   "id": "restricted-logging",
   "metadata": {},
   "outputs": [
    {
     "name": "stdout",
     "output_type": "stream",
     "text": [
      "new_date : 2022-09-20 09:01:46.025704\n"
     ]
    }
   ],
   "source": [
    "new_date = current_datetime + datetime.timedelta(days = 1)\n",
    "print(\"new_date :\",new_date)"
   ]
  },
  {
   "cell_type": "code",
   "execution_count": 94,
   "id": "loved-imaging",
   "metadata": {},
   "outputs": [
    {
     "name": "stdout",
     "output_type": "stream",
     "text": [
      "new_date : 2022-09-29\n"
     ]
    }
   ],
   "source": [
    "new_date = current_datetime + datetime.timedelta(days = 10)\n",
    "print(\"new_date :\",new_date.date())"
   ]
  },
  {
   "cell_type": "code",
   "execution_count": 96,
   "id": "tired-separation",
   "metadata": {},
   "outputs": [
    {
     "name": "stdout",
     "output_type": "stream",
     "text": [
      "new_date : 2022-09-26\n"
     ]
    }
   ],
   "source": [
    "new_date = current_datetime + datetime.timedelta(weeks = 1)\n",
    "print(\"new_date :\",new_date.date())"
   ]
  },
  {
   "cell_type": "code",
   "execution_count": 97,
   "id": "romantic-lexington",
   "metadata": {},
   "outputs": [
    {
     "name": "stdout",
     "output_type": "stream",
     "text": [
      "new_date : 2022-10-03\n"
     ]
    }
   ],
   "source": [
    "new_date = current_datetime + datetime.timedelta(weeks = 2)\n",
    "print(\"new_date :\",new_date.date())"
   ]
  },
  {
   "cell_type": "code",
   "execution_count": 99,
   "id": "polish-exchange",
   "metadata": {},
   "outputs": [
    {
     "name": "stdout",
     "output_type": "stream",
     "text": [
      "new_date : 2022-09-05\n"
     ]
    }
   ],
   "source": [
    "new_date = current_datetime + datetime.timedelta(weeks = -2)\n",
    "print(\"new_date :\",new_date.date())"
   ]
  },
  {
   "cell_type": "code",
   "execution_count": 101,
   "id": "several-outdoors",
   "metadata": {},
   "outputs": [
    {
     "name": "stdout",
     "output_type": "stream",
     "text": [
      "new_date : 2022-08-29\n"
     ]
    }
   ],
   "source": [
    "new_date = current_datetime + datetime.timedelta(weeks = -3)\n",
    "print(\"new_date :\",new_date.date())"
   ]
  },
  {
   "cell_type": "code",
   "execution_count": 106,
   "id": "european-painting",
   "metadata": {},
   "outputs": [
    {
     "name": "stdout",
     "output_type": "stream",
     "text": [
      "new_date : 2022-09-20 00:01:46.025704\n"
     ]
    }
   ],
   "source": [
    "new_date = current_datetime + datetime.timedelta(hours = 15)\n",
    "print(\"new_date :\",new_date)"
   ]
  },
  {
   "cell_type": "code",
   "execution_count": 109,
   "id": "junior-collapse",
   "metadata": {},
   "outputs": [
    {
     "name": "stdout",
     "output_type": "stream",
     "text": [
      "new_date : 2022-09-14\n",
      "new_date : 2022-09-15\n",
      "new_date : 2022-09-16\n",
      "new_date : 2022-09-17\n",
      "new_date : 2022-09-18\n",
      "new_date : 2022-09-19\n",
      "new_date : 2022-09-20\n",
      "new_date : 2022-09-21\n",
      "new_date : 2022-09-22\n",
      "new_date : 2022-09-23\n",
      "new_date : 2022-09-24\n"
     ]
    }
   ],
   "source": [
    "for i in range(-5,6):\n",
    "    new_date = current_datetime + datetime.timedelta(days = i)\n",
    "    print(\"new_date :\",new_date.date())"
   ]
  },
  {
   "cell_type": "markdown",
   "id": "micro-yellow",
   "metadata": {},
   "source": [
    "### strftime"
   ]
  },
  {
   "cell_type": "code",
   "execution_count": null,
   "id": "smart-yugoslavia",
   "metadata": {},
   "outputs": [],
   "source": [
    "strftime >> String from time object"
   ]
  },
  {
   "cell_type": "code",
   "execution_count": null,
   "id": "inappropriate-luther",
   "metadata": {},
   "outputs": [],
   "source": [
    "2022-09-15 >> \"15-09-2022\"\n",
    "2022-09-15 >> \"15/09/2022\"\n",
    "2022-09-15 >> \"15 September 2022\"\n",
    "2022-09-15 >> \"15 Sep 2022\"\n",
    "2022-09-15 >> \"2022-09-19\"\n",
    "2022-09-15 >> \"15-09-22\"\n"
   ]
  },
  {
   "cell_type": "code",
   "execution_count": 111,
   "id": "yellow-yield",
   "metadata": {},
   "outputs": [
    {
     "name": "stdout",
     "output_type": "stream",
     "text": [
      "Current Datetime : 2022-09-19 09:11:49.538815\n"
     ]
    }
   ],
   "source": [
    "current_datetime = datetime.datetime.today()\n",
    "print(\"Current Datetime :\",current_datetime)"
   ]
  },
  {
   "cell_type": "code",
   "execution_count": 124,
   "id": "floating-transcript",
   "metadata": {},
   "outputs": [
    {
     "name": "stdout",
     "output_type": "stream",
     "text": [
      "Current Datetime : 2022-09-19 09:20:47.018014\n"
     ]
    },
    {
     "data": {
      "text/plain": [
       "'AM'"
      ]
     },
     "execution_count": 124,
     "metadata": {},
     "output_type": "execute_result"
    }
   ],
   "source": [
    "current_datetime = datetime.datetime.today()\n",
    "print(\"Current Datetime :\",current_datetime)\n",
    "\n",
    "# Year\n",
    "current_datetime.strftime(\"%Y\") # Year 2022\n",
    "current_datetime.strftime(\"%y\") # Year 22\n",
    "\n",
    "# Month\n",
    "current_datetime.strftime(\"%m\") # Month 09 \n",
    "current_datetime.strftime(\"%B\") # Full Month Name : September, August, July, December \n",
    "current_datetime.strftime(\"%b\") # Abbiviated Month Name : Sep, Aug, Jul, Dec\n",
    "\n",
    "# Date\n",
    "current_datetime.strftime(\"%d\") # Day 19\n",
    "\n",
    "# Weekdays\n",
    "current_datetime.strftime(\"%A\") # Full Name of Weekday >> Monday, Saturday\n",
    "current_datetime.strftime(\"%a\") # Abbiviated Name of Weekday >> Mon, Sat\n",
    "current_datetime.strftime(\"%w\") # Weekday Number Sun = 0, Mon = 1, Tue = 2.. Sat = 6\n",
    "\n",
    "# Day Number\n",
    "current_datetime.strftime(\"%j\") # Day Number from year\n",
    "\n",
    "# Weekday Number\n",
    "current_datetime.strftime(\"%U\") # Week Number from year\n",
    "\n",
    "# AM/PM\n",
    "current_datetime.strftime(\"%p\") # AM/PM"
   ]
  },
  {
   "cell_type": "code",
   "execution_count": 126,
   "id": "aware-innocent",
   "metadata": {},
   "outputs": [
    {
     "name": "stdout",
     "output_type": "stream",
     "text": [
      "Current Datetime : 2020-05-10 00:00:00\n"
     ]
    }
   ],
   "source": [
    "current_datetime = datetime.datetime(2020,5,10)\n",
    "print(\"Current Datetime :\",current_datetime)\n"
   ]
  },
  {
   "cell_type": "code",
   "execution_count": 139,
   "id": "suburban-scholarship",
   "metadata": {},
   "outputs": [
    {
     "name": "stdout",
     "output_type": "stream",
     "text": [
      "Current Datetime : 1947-08-15 00:00:00\n"
     ]
    },
    {
     "data": {
      "text/plain": [
       "'AM'"
      ]
     },
     "execution_count": 139,
     "metadata": {},
     "output_type": "execute_result"
    }
   ],
   "source": [
    "current_datetime = datetime.datetime(1947,8,15)\n",
    "print(\"Current Datetime :\",current_datetime)\n",
    "\n",
    "# Year\n",
    "current_datetime.strftime(\"%Y\") # Year 2022\n",
    "current_datetime.strftime(\"%y\") # Year 22\n",
    "\n",
    "# # Month\n",
    "current_datetime.strftime(\"%m\") # Month 09 \n",
    "current_datetime.strftime(\"%B\") # Full Month Name : September, August, July, December \n",
    "current_datetime.strftime(\"%b\") # Abbiviated Month Name : Sep, Aug, Jul, Dec\n",
    "\n",
    "# # Date\n",
    "current_datetime.strftime(\"%d\") # Day 19\n",
    "\n",
    "# # Weekdays\n",
    "current_datetime.strftime(\"%A\") # Full Name of Weekday >> Monday, Saturday\n",
    "current_datetime.strftime(\"%a\") # Abbiviated Name of Weekday >> Mon, Sat\n",
    "current_datetime.strftime(\"%w\") # Weekday Number Sun = 0, Mon = 1, Tue = 2.. Sat = 6\n",
    "\n",
    "# # Day Number\n",
    "current_datetime.strftime(\"%j\") # Day Number from year\n",
    "\n",
    "# # Weekday Number\n",
    "current_datetime.strftime(\"%U\") # Week Number from year\n",
    "\n",
    "# # AM/PM\n",
    "current_datetime.strftime(\"%p\") # AM/PM"
   ]
  },
  {
   "cell_type": "code",
   "execution_count": null,
   "id": "fluid-thought",
   "metadata": {},
   "outputs": [],
   "source": [
    "2022-09-15 >> \"15-09-2022\"\n",
    "2022-09-15 >> \"15/09/2022\"\n",
    "2022-09-15 >> \"15 September 2022\"\n",
    "2022-09-15 >> \"15 Sep 2022\"\n",
    "2022-09-15 >> \"2022-09-19\"\n",
    "2022-09-15 >> \"15-09-22\"\n"
   ]
  },
  {
   "cell_type": "code",
   "execution_count": 150,
   "id": "great-hometown",
   "metadata": {},
   "outputs": [
    {
     "name": "stdout",
     "output_type": "stream",
     "text": [
      "2022-09-19\n"
     ]
    },
    {
     "data": {
      "text/plain": [
       "'19-09-2022'"
      ]
     },
     "execution_count": 150,
     "metadata": {},
     "output_type": "execute_result"
    }
   ],
   "source": [
    "current_date = datetime.datetime.now().date()\n",
    "print(current_date)\n",
    "current_date.strftime(\"%d-%m-%Y\")"
   ]
  },
  {
   "cell_type": "code",
   "execution_count": 151,
   "id": "wrapped-lounge",
   "metadata": {},
   "outputs": [
    {
     "data": {
      "text/plain": [
       "'19/09/2022'"
      ]
     },
     "execution_count": 151,
     "metadata": {},
     "output_type": "execute_result"
    }
   ],
   "source": [
    "current_date.strftime(\"%d/%m/%Y\")"
   ]
  },
  {
   "cell_type": "markdown",
   "id": "smart-training",
   "metadata": {},
   "source": [
    "##### \"15 September 2022\""
   ]
  },
  {
   "cell_type": "code",
   "execution_count": 153,
   "id": "continental-protest",
   "metadata": {},
   "outputs": [
    {
     "data": {
      "text/plain": [
       "'19 September 2022'"
      ]
     },
     "execution_count": 153,
     "metadata": {},
     "output_type": "execute_result"
    }
   ],
   "source": [
    "current_date.strftime(\"%d %B %Y\")"
   ]
  },
  {
   "cell_type": "markdown",
   "id": "southeast-disposition",
   "metadata": {},
   "source": [
    "##### \"15 Sep 2022\""
   ]
  },
  {
   "cell_type": "code",
   "execution_count": 155,
   "id": "ignored-seller",
   "metadata": {},
   "outputs": [
    {
     "data": {
      "text/plain": [
       "'19 Sep 2022'"
      ]
     },
     "execution_count": 155,
     "metadata": {},
     "output_type": "execute_result"
    }
   ],
   "source": [
    "current_date.strftime(\"%d %b %Y\")"
   ]
  },
  {
   "cell_type": "markdown",
   "id": "resident-establishment",
   "metadata": {},
   "source": [
    "##### \"2022-09-19\""
   ]
  },
  {
   "cell_type": "code",
   "execution_count": 157,
   "id": "scientific-dakota",
   "metadata": {},
   "outputs": [
    {
     "data": {
      "text/plain": [
       "'2022-09-19'"
      ]
     },
     "execution_count": 157,
     "metadata": {},
     "output_type": "execute_result"
    }
   ],
   "source": [
    "current_date.strftime(\"%Y-%m-%d\")"
   ]
  },
  {
   "cell_type": "markdown",
   "id": "loaded-zimbabwe",
   "metadata": {},
   "source": [
    "##### \"15-09-22\""
   ]
  },
  {
   "cell_type": "code",
   "execution_count": 158,
   "id": "growing-regulation",
   "metadata": {},
   "outputs": [
    {
     "data": {
      "text/plain": [
       "'19-09-22'"
      ]
     },
     "execution_count": 158,
     "metadata": {},
     "output_type": "execute_result"
    }
   ],
   "source": [
    "current_date.strftime(\"%d-%m-%y\")"
   ]
  },
  {
   "cell_type": "markdown",
   "id": "russian-stupid",
   "metadata": {},
   "source": [
    "#### strptime()"
   ]
  },
  {
   "cell_type": "code",
   "execution_count": null,
   "id": "heard-bulgarian",
   "metadata": {},
   "outputs": [],
   "source": [
    "strptime() >> string points to time\n",
    "\n",
    "datetime.datetime.strptime(date_string , date_format)"
   ]
  },
  {
   "cell_type": "code",
   "execution_count": null,
   "id": "egyptian-personal",
   "metadata": {},
   "outputs": [],
   "source": [
    "date1 =  \"15-09-2022\"\n",
    "2022-09-15 >> \"15/09/2022\"\n",
    "2022-09-15 >> \"15 September 2022\"\n",
    "2022-09-15 >> \"15 Sep 2022\"\n",
    "2022-09-15 >> \"2022-09-15\"\n",
    "2022-09-15 >> \"15-09-22\"\n"
   ]
  },
  {
   "cell_type": "code",
   "execution_count": 161,
   "id": "express-personal",
   "metadata": {},
   "outputs": [
    {
     "name": "stdout",
     "output_type": "stream",
     "text": [
      "2022-09-15\n"
     ]
    }
   ],
   "source": [
    "new_date = datetime.datetime.strptime(\"15-09-2022\",\"%d-%m-%Y\").date()\n",
    "print(new_date)"
   ]
  },
  {
   "cell_type": "code",
   "execution_count": 163,
   "id": "empty-talent",
   "metadata": {},
   "outputs": [
    {
     "name": "stdout",
     "output_type": "stream",
     "text": [
      "2022-09-15\n"
     ]
    }
   ],
   "source": [
    "new_date = datetime.datetime.strptime(\"15 September 2022\",\"%d %B %Y\").date()\n",
    "print(new_date)"
   ]
  },
  {
   "cell_type": "code",
   "execution_count": 165,
   "id": "martial-karma",
   "metadata": {},
   "outputs": [
    {
     "name": "stdout",
     "output_type": "stream",
     "text": [
      "2022-09-15\n"
     ]
    }
   ],
   "source": [
    "new_date = datetime.datetime.strptime(\"15 Sep 2022\",\"%d %b %Y\").date()\n",
    "print(new_date)"
   ]
  },
  {
   "cell_type": "code",
   "execution_count": 169,
   "id": "sacred-enclosure",
   "metadata": {},
   "outputs": [
    {
     "name": "stdout",
     "output_type": "stream",
     "text": [
      "2022-09-15\n"
     ]
    }
   ],
   "source": [
    "new_date = datetime.datetime.strptime(\"15 Sep 2022\",\"%d %b %Y\").date()\n",
    "print(new_date)\n",
    "\n",
    "# time data '15 Sep 2022' does not match format '%d %B %Y'\n"
   ]
  },
  {
   "cell_type": "code",
   "execution_count": 173,
   "id": "together-potential",
   "metadata": {},
   "outputs": [
    {
     "name": "stdout",
     "output_type": "stream",
     "text": [
      "2022-09-15\n"
     ]
    }
   ],
   "source": [
    "new_date = datetime.datetime.strptime(\"2022-09-15\",\"%Y-%m-%d\").date()\n",
    "print(new_date)"
   ]
  },
  {
   "cell_type": "code",
   "execution_count": 174,
   "id": "pressing-emerald",
   "metadata": {},
   "outputs": [
    {
     "name": "stdout",
     "output_type": "stream",
     "text": [
      "2022-09-15\n"
     ]
    }
   ],
   "source": [
    "new_date = datetime.datetime.strptime(\"22-09-15\",\"%y-%m-%d\").date()\n",
    "print(new_date)"
   ]
  },
  {
   "cell_type": "code",
   "execution_count": null,
   "id": "above-african",
   "metadata": {},
   "outputs": [],
   "source": []
  },
  {
   "cell_type": "code",
   "execution_count": 178,
   "id": "spare-factory",
   "metadata": {},
   "outputs": [
    {
     "name": "stdout",
     "output_type": "stream",
     "text": [
      "2022-09-19\n"
     ]
    }
   ],
   "source": [
    "print(datetime.date.today())"
   ]
  }
 ],
 "metadata": {
  "kernelspec": {
   "display_name": "Python 3",
   "language": "python",
   "name": "python3"
  },
  "language_info": {
   "codemirror_mode": {
    "name": "ipython",
    "version": 3
   },
   "file_extension": ".py",
   "mimetype": "text/x-python",
   "name": "python",
   "nbconvert_exporter": "python",
   "pygments_lexer": "ipython3",
   "version": "3.8.7"
  }
 },
 "nbformat": 4,
 "nbformat_minor": 5
}
