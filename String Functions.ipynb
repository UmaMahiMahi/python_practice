{
 "cells": [
  {
   "cell_type": "markdown",
   "id": "minute-greenhouse",
   "metadata": {},
   "source": [
    "# String Functions"
   ]
  },
  {
   "cell_type": "code",
   "execution_count": null,
   "id": "mediterranean-bleeding",
   "metadata": {},
   "outputs": [],
   "source": [
    "Strings are Immutable\n",
    "immutable >> We can not modify string"
   ]
  },
  {
   "cell_type": "code",
   "execution_count": 3,
   "id": "demonstrated-insider",
   "metadata": {},
   "outputs": [
    {
     "name": "stdout",
     "output_type": "stream",
     "text": [
      "tho\n",
      "Python\n"
     ]
    }
   ],
   "source": [
    "s1 = 'Python'\n",
    "print(s1[2:5]) # tho\n",
    "print(s1) # python"
   ]
  },
  {
   "cell_type": "code",
   "execution_count": 6,
   "id": "polished-trunk",
   "metadata": {},
   "outputs": [
    {
     "name": "stdout",
     "output_type": "stream",
     "text": [
      "tho\n",
      "Python\n"
     ]
    }
   ],
   "source": [
    "s1 = 'Python'\n",
    "\n",
    "s2 = s1[2:5] # tho\n",
    "print(s2)\n",
    "print(s1)"
   ]
  },
  {
   "cell_type": "code",
   "execution_count": 8,
   "id": "meaningful-hacker",
   "metadata": {},
   "outputs": [
    {
     "name": "stdout",
     "output_type": "stream",
     "text": [
      "tho\n"
     ]
    }
   ],
   "source": [
    "s1 = 'Python'\n",
    "\n",
    "s1 = s1[2:5] # tho\n",
    "print(s1)"
   ]
  },
  {
   "cell_type": "code",
   "execution_count": 10,
   "id": "given-peace",
   "metadata": {},
   "outputs": [
    {
     "name": "stdout",
     "output_type": "stream",
     "text": [
      "10\n",
      "15\n"
     ]
    }
   ],
   "source": [
    "a = 10\n",
    "b = a + 5\n",
    "print(a) # 10\n",
    "print(b) # 15z"
   ]
  },
  {
   "cell_type": "code",
   "execution_count": 13,
   "id": "chronic-owner",
   "metadata": {},
   "outputs": [
    {
     "name": "stdout",
     "output_type": "stream",
     "text": [
      "10\n",
      "15\n"
     ]
    }
   ],
   "source": [
    "a = 10\n",
    "print(a)\n",
    "\n",
    "a = a + 5\n",
    "print(a) # 15"
   ]
  },
  {
   "cell_type": "markdown",
   "id": "parental-hanging",
   "metadata": {},
   "source": [
    "# 1. capitalize()"
   ]
  },
  {
   "cell_type": "code",
   "execution_count": null,
   "id": "steady-financing",
   "metadata": {},
   "outputs": [],
   "source": [
    "It will capitalize only first char of string, and all remaining chars will in lower case\n",
    "First char >> Zero index item"
   ]
  },
  {
   "cell_type": "code",
   "execution_count": 15,
   "id": "limiting-renewal",
   "metadata": {},
   "outputs": [
    {
     "data": {
      "text/plain": [
       "'Data science'"
      ]
     },
     "execution_count": 15,
     "metadata": {},
     "output_type": "execute_result"
    }
   ],
   "source": [
    "string = 'data science'\n",
    "string.capitalize()"
   ]
  },
  {
   "cell_type": "code",
   "execution_count": 16,
   "id": "surprised-setting",
   "metadata": {},
   "outputs": [
    {
     "data": {
      "text/plain": [
       "'Data science'"
      ]
     },
     "execution_count": 16,
     "metadata": {},
     "output_type": "execute_result"
    }
   ],
   "source": [
    "string = 'DATA SCIENCE'\n",
    "string.capitalize()"
   ]
  },
  {
   "cell_type": "code",
   "execution_count": 18,
   "id": "piano-myrtle",
   "metadata": {},
   "outputs": [
    {
     "data": {
      "text/plain": [
       "'Data science'"
      ]
     },
     "execution_count": 18,
     "metadata": {},
     "output_type": "execute_result"
    }
   ],
   "source": [
    "string = 'Data Science'\n",
    "string.capitalize()"
   ]
  },
  {
   "cell_type": "code",
   "execution_count": 41,
   "id": "illegal-finland",
   "metadata": {},
   "outputs": [
    {
     "data": {
      "text/plain": [
       "' data science'"
      ]
     },
     "execution_count": 41,
     "metadata": {},
     "output_type": "execute_result"
    }
   ],
   "source": [
    "string = ' data science'\n",
    "string.capitalize()"
   ]
  },
  {
   "cell_type": "code",
   "execution_count": 19,
   "id": "included-campbell",
   "metadata": {},
   "outputs": [
    {
     "data": {
      "text/plain": [
       "'Data science'"
      ]
     },
     "execution_count": 19,
     "metadata": {},
     "output_type": "execute_result"
    }
   ],
   "source": [
    "string = 'data Science'\n",
    "string.capitalize()"
   ]
  },
  {
   "cell_type": "code",
   "execution_count": 23,
   "id": "biological-concert",
   "metadata": {},
   "outputs": [
    {
     "name": "stdout",
     "output_type": "stream",
     "text": [
      "Data science\n",
      "DATA SCIENCE\n"
     ]
    }
   ],
   "source": [
    "string = 'DATA SCIENCE'\n",
    "print(string.capitalize())\n",
    "\n",
    "print(string)"
   ]
  },
  {
   "cell_type": "code",
   "execution_count": 25,
   "id": "prostate-still",
   "metadata": {},
   "outputs": [
    {
     "name": "stdout",
     "output_type": "stream",
     "text": [
      "DATA SCIENCE\n",
      "Data science\n"
     ]
    }
   ],
   "source": [
    "string = 'DATA SCIENCE'\n",
    "s2 = string.capitalize()\n",
    "\n",
    "print(string)\n",
    "print(s2) # Data science"
   ]
  },
  {
   "cell_type": "code",
   "execution_count": 26,
   "id": "creative-stations",
   "metadata": {},
   "outputs": [
    {
     "name": "stdout",
     "output_type": "stream",
     "text": [
      "Data science\n"
     ]
    }
   ],
   "source": [
    "string = 'DATA SCIENCE'\n",
    "string = string.capitalize()\n",
    "\n",
    "print(string)"
   ]
  },
  {
   "cell_type": "markdown",
   "id": "liberal-lighting",
   "metadata": {},
   "source": [
    "# 2. upper()"
   ]
  },
  {
   "cell_type": "code",
   "execution_count": null,
   "id": "iraqi-assist",
   "metadata": {},
   "outputs": [],
   "source": [
    "It will convert all characters into the upper case"
   ]
  },
  {
   "cell_type": "code",
   "execution_count": 27,
   "id": "chemical-spyware",
   "metadata": {},
   "outputs": [
    {
     "data": {
      "text/plain": [
       "'DATA SCIENCE'"
      ]
     },
     "execution_count": 27,
     "metadata": {},
     "output_type": "execute_result"
    }
   ],
   "source": [
    "string = 'data Science'\n",
    "string.upper()"
   ]
  },
  {
   "cell_type": "code",
   "execution_count": 29,
   "id": "friendly-juice",
   "metadata": {},
   "outputs": [
    {
     "data": {
      "text/plain": [
       "'DATA SCIENCE'"
      ]
     },
     "execution_count": 29,
     "metadata": {},
     "output_type": "execute_result"
    }
   ],
   "source": [
    "string = 'DATA SCIENCE'\n",
    "string.upper()"
   ]
  },
  {
   "cell_type": "code",
   "execution_count": 31,
   "id": "another-pickup",
   "metadata": {},
   "outputs": [
    {
     "data": {
      "text/plain": [
       "'DATA SCIENCE'"
      ]
     },
     "execution_count": 31,
     "metadata": {},
     "output_type": "execute_result"
    }
   ],
   "source": [
    "string = 'Data Science'\n",
    "string.upper()"
   ]
  },
  {
   "cell_type": "code",
   "execution_count": 32,
   "id": "composed-elevation",
   "metadata": {},
   "outputs": [
    {
     "data": {
      "text/plain": [
       "'DATA SCIENCE'"
      ]
     },
     "execution_count": 32,
     "metadata": {},
     "output_type": "execute_result"
    }
   ],
   "source": [
    "string = 'Data SCIENCE'\n",
    "string.upper()"
   ]
  },
  {
   "cell_type": "markdown",
   "id": "aggressive-ordinance",
   "metadata": {},
   "source": [
    "# 3. lower ()"
   ]
  },
  {
   "cell_type": "code",
   "execution_count": null,
   "id": "instrumental-limit",
   "metadata": {},
   "outputs": [],
   "source": [
    "It will convert all characters into the lower case"
   ]
  },
  {
   "cell_type": "code",
   "execution_count": 34,
   "id": "foreign-theology",
   "metadata": {},
   "outputs": [
    {
     "data": {
      "text/plain": [
       "'data science'"
      ]
     },
     "execution_count": 34,
     "metadata": {},
     "output_type": "execute_result"
    }
   ],
   "source": [
    "string = 'Data SCIENCE'\n",
    "string.lower()"
   ]
  },
  {
   "cell_type": "code",
   "execution_count": 35,
   "id": "numeric-violence",
   "metadata": {},
   "outputs": [
    {
     "data": {
      "text/plain": [
       "'data science'"
      ]
     },
     "execution_count": 35,
     "metadata": {},
     "output_type": "execute_result"
    }
   ],
   "source": [
    "string = 'Data science'\n",
    "string.lower()"
   ]
  },
  {
   "cell_type": "code",
   "execution_count": 37,
   "id": "civilian-sword",
   "metadata": {},
   "outputs": [
    {
     "data": {
      "text/plain": [
       "'data science'"
      ]
     },
     "execution_count": 37,
     "metadata": {},
     "output_type": "execute_result"
    }
   ],
   "source": [
    "string = 'Data Science'\n",
    "string.lower()"
   ]
  },
  {
   "cell_type": "code",
   "execution_count": 39,
   "id": "desperate-death",
   "metadata": {},
   "outputs": [
    {
     "data": {
      "text/plain": [
       "'machine learning'"
      ]
     },
     "execution_count": 39,
     "metadata": {},
     "output_type": "execute_result"
    }
   ],
   "source": [
    "string = 'Machine Learning'\n",
    "string.lower()"
   ]
  },
  {
   "cell_type": "code",
   "execution_count": 40,
   "id": "cathedral-domestic",
   "metadata": {},
   "outputs": [
    {
     "data": {
      "text/plain": [
       "'python'"
      ]
     },
     "execution_count": 40,
     "metadata": {},
     "output_type": "execute_result"
    }
   ],
   "source": [
    "string = 'Python'\n",
    "string.lower()"
   ]
  },
  {
   "cell_type": "markdown",
   "id": "collect-migration",
   "metadata": {},
   "source": [
    "# 4. title"
   ]
  },
  {
   "cell_type": "code",
   "execution_count": null,
   "id": "intimate-short",
   "metadata": {},
   "outputs": [],
   "source": [
    "It will convert string into title case\n"
   ]
  },
  {
   "cell_type": "code",
   "execution_count": 43,
   "id": "indian-geneva",
   "metadata": {},
   "outputs": [
    {
     "data": {
      "text/plain": [
       "'Data Science'"
      ]
     },
     "execution_count": 43,
     "metadata": {},
     "output_type": "execute_result"
    }
   ],
   "source": [
    "string = 'Data science'\n",
    "string.title()"
   ]
  },
  {
   "cell_type": "code",
   "execution_count": 45,
   "id": "multiple-cycle",
   "metadata": {},
   "outputs": [
    {
     "data": {
      "text/plain": [
       "'Virat Kohli'"
      ]
     },
     "execution_count": 45,
     "metadata": {},
     "output_type": "execute_result"
    }
   ],
   "source": [
    "name = 'virat kohli'\n",
    "name.title()"
   ]
  },
  {
   "cell_type": "code",
   "execution_count": 47,
   "id": "black-finland",
   "metadata": {},
   "outputs": [
    {
     "data": {
      "text/plain": [
       "'  Virat Kohli'"
      ]
     },
     "execution_count": 47,
     "metadata": {},
     "output_type": "execute_result"
    }
   ],
   "source": [
    "name =  '  virat kohli'\n",
    "name.title()"
   ]
  },
  {
   "cell_type": "code",
   "execution_count": 49,
   "id": "declared-welding",
   "metadata": {},
   "outputs": [
    {
     "data": {
      "text/plain": [
       "'United State Of America'"
      ]
     },
     "execution_count": 49,
     "metadata": {},
     "output_type": "execute_result"
    }
   ],
   "source": [
    "country_name =  'united state of america'\n",
    "country_name.title() # United State Of America"
   ]
  },
  {
   "cell_type": "code",
   "execution_count": 50,
   "id": "complex-extraction",
   "metadata": {},
   "outputs": [
    {
     "data": {
      "text/plain": [
       "'United State            Of        America'"
      ]
     },
     "execution_count": 50,
     "metadata": {},
     "output_type": "execute_result"
    }
   ],
   "source": [
    "country_name =  'united state            of        america'\n",
    "country_name.title() # United State Of America"
   ]
  },
  {
   "cell_type": "code",
   "execution_count": 51,
   "id": "turned-wagner",
   "metadata": {},
   "outputs": [
    {
     "data": {
      "text/plain": [
       "'   united  state of america  '"
      ]
     },
     "execution_count": 51,
     "metadata": {},
     "output_type": "execute_result"
    }
   ],
   "source": [
    "country_name =  '   United  state of america  '\n",
    "country_name.lower() # United State Of America"
   ]
  },
  {
   "cell_type": "code",
   "execution_count": 52,
   "id": "favorite-liberty",
   "metadata": {},
   "outputs": [],
   "source": [
    "aadhar_name = 'virat kohli'\n",
    "pan_name = 'VIRAT KOHLI'"
   ]
  },
  {
   "cell_type": "code",
   "execution_count": 54,
   "id": "intellectual-compound",
   "metadata": {},
   "outputs": [
    {
     "data": {
      "text/plain": [
       "True"
      ]
     },
     "execution_count": 54,
     "metadata": {},
     "output_type": "execute_result"
    }
   ],
   "source": [
    "str1 = 'python'\n",
    "str2 = 'python'\n",
    "str1 == str2  "
   ]
  },
  {
   "cell_type": "code",
   "execution_count": 56,
   "id": "looking-irish",
   "metadata": {},
   "outputs": [
    {
     "data": {
      "text/plain": [
       "False"
      ]
     },
     "execution_count": 56,
     "metadata": {},
     "output_type": "execute_result"
    }
   ],
   "source": [
    "str1 = 'python'\n",
    "str2 = 'Python'\n",
    "str1 == str2  "
   ]
  },
  {
   "cell_type": "code",
   "execution_count": 58,
   "id": "scenic-wages",
   "metadata": {},
   "outputs": [
    {
     "data": {
      "text/plain": [
       "False"
      ]
     },
     "execution_count": 58,
     "metadata": {},
     "output_type": "execute_result"
    }
   ],
   "source": [
    "str1 = \"python\"\n",
    "str2 = \"Python\"\n",
    "str1 == str2  "
   ]
  },
  {
   "cell_type": "code",
   "execution_count": 60,
   "id": "involved-compilation",
   "metadata": {},
   "outputs": [
    {
     "data": {
      "text/plain": [
       "True"
      ]
     },
     "execution_count": 60,
     "metadata": {},
     "output_type": "execute_result"
    }
   ],
   "source": [
    "str1 = \"Python\"\n",
    "str2 = \"Python\"\n",
    "str1 == str2   "
   ]
  },
  {
   "cell_type": "code",
   "execution_count": 62,
   "id": "synthetic-cylinder",
   "metadata": {},
   "outputs": [
    {
     "data": {
      "text/plain": [
       "False"
      ]
     },
     "execution_count": 62,
     "metadata": {},
     "output_type": "execute_result"
    }
   ],
   "source": [
    "str1 = \" Python\"\n",
    "str2 = \"Python\"\n",
    "str1 == str2   "
   ]
  },
  {
   "cell_type": "code",
   "execution_count": 63,
   "id": "drawn-oriental",
   "metadata": {},
   "outputs": [
    {
     "data": {
      "text/plain": [
       "False"
      ]
     },
     "execution_count": 63,
     "metadata": {},
     "output_type": "execute_result"
    }
   ],
   "source": [
    "str1 = \"Python\"\n",
    "str2 = \"Python \"\n",
    "str1 == str2   "
   ]
  },
  {
   "cell_type": "code",
   "execution_count": 71,
   "id": "ahead-transparency",
   "metadata": {},
   "outputs": [],
   "source": [
    "str1 = \"Python\"\n",
    "str2 = \"Python \"\n",
    "str1 == str2   \n",
    "\n",
    "\n",
    "if str1 == str2: # if False\n",
    "    print(\"Two strings are same\")\n",
    "    print(\"We are in if block\")"
   ]
  },
  {
   "cell_type": "code",
   "execution_count": 72,
   "id": "fabulous-rebel",
   "metadata": {},
   "outputs": [
    {
     "name": "stdout",
     "output_type": "stream",
     "text": [
      "Two strings are equal\n",
      "We are in if block\n"
     ]
    }
   ],
   "source": [
    "str1 = \"Python\"\n",
    "str2 = \"Python\"\n",
    "\n",
    "if str1 == str2: # if True\n",
    "    print(\"Two strings are equal\")\n",
    "    print(\"We are in if block\")"
   ]
  },
  {
   "cell_type": "code",
   "execution_count": 74,
   "id": "competent-minute",
   "metadata": {},
   "outputs": [
    {
     "data": {
      "text/plain": [
       "False"
      ]
     },
     "execution_count": 74,
     "metadata": {},
     "output_type": "execute_result"
    }
   ],
   "source": [
    "aadhar_name = 'virat kohli'\n",
    "pan_name = 'VIRAT KOHLI'\n",
    "\n",
    "\n",
    "aadhar_name == pan_name"
   ]
  },
  {
   "cell_type": "code",
   "execution_count": 77,
   "id": "swiss-annex",
   "metadata": {},
   "outputs": [
    {
     "name": "stdout",
     "output_type": "stream",
     "text": [
      "Both Documents are of different person\n"
     ]
    }
   ],
   "source": [
    "aadhar_name = 'virat kohli'\n",
    "pan_name = 'VIRAT KOHLI'\n",
    "\n",
    "if aadhar_name == pan_name:\n",
    "    print(\"Both Documents are of same person\")\n",
    "    \n",
    "else:\n",
    "    print(\"Both Documents are of different person\")\n"
   ]
  },
  {
   "cell_type": "code",
   "execution_count": 79,
   "id": "solved-bandwidth",
   "metadata": {},
   "outputs": [
    {
     "name": "stdout",
     "output_type": "stream",
     "text": [
      "Both Documents are of same person\n"
     ]
    }
   ],
   "source": [
    "aadhar_name = 'virat kohli'\n",
    "pan_name = 'VIRAT KOHLI'\n",
    "\n",
    "aadhar_name = aadhar_name.upper() # VIRAT KOHLI\n",
    "pan_name = pan_name.upper()       # VIRAT KOHLI\n",
    "\n",
    "if aadhar_name == pan_name: # True\n",
    "    print(\"Both Documents are of same person\")\n",
    "    \n",
    "else:\n",
    "    print(\"Both Documents are of different person\")\n"
   ]
  },
  {
   "cell_type": "code",
   "execution_count": 81,
   "id": "precious-handle",
   "metadata": {},
   "outputs": [
    {
     "name": "stdout",
     "output_type": "stream",
     "text": [
      "Both Documents are of same person\n"
     ]
    }
   ],
   "source": [
    "aadhar_name = 'virat kohli'\n",
    "pan_name = 'VIRAT KOHLI'\n",
    "\n",
    "aadhar_name = aadhar_name.upper() # VIRAT KOHLI\n",
    "pan_name = pan_name.upper()       # VIRAT KOHLI\n",
    "\n",
    "if aadhar_name == pan_name: # True\n",
    "    print(\"Both Documents are of same person\")\n",
    "    \n",
    "else:\n",
    "    print(\"Both Documents are of different person\")\n"
   ]
  },
  {
   "cell_type": "code",
   "execution_count": 83,
   "id": "earlier-heavy",
   "metadata": {},
   "outputs": [
    {
     "name": "stdout",
     "output_type": "stream",
     "text": [
      "Both Documents are of same person\n"
     ]
    }
   ],
   "source": [
    "aadhar_name = 'virat kohli'\n",
    "pan_name = 'VIRAT KOHLI'\n",
    "\n",
    "aadhar_name = aadhar_name.lower() # VIRAT KOHLI\n",
    "pan_name = pan_name.lower()       # VIRAT KOHLI\n",
    "\n",
    "if aadhar_name == pan_name: # 'virat kohli' == 'virat kohli'\n",
    "    print(\"Both Documents are of same person\")\n",
    "    \n",
    "else:\n",
    "    print(\"Both Documents are of different person\")\n"
   ]
  },
  {
   "cell_type": "code",
   "execution_count": 85,
   "id": "concrete-article",
   "metadata": {},
   "outputs": [
    {
     "name": "stdout",
     "output_type": "stream",
     "text": [
      "Both Documents are of same person\n"
     ]
    }
   ],
   "source": [
    "aadhar_name = 'virat kohli'\n",
    "pan_name = 'VIRAT KOHLI'\n",
    "\n",
    "aadhar_name = aadhar_name.title() # Virat Kohli\n",
    "pan_name = pan_name.title()       # Virat Kohli\n",
    "\n",
    "if aadhar_name == pan_name: # 'Virat Kohli' == 'Virat Kohli'\n",
    "    print(\"Both Documents are of same person\")\n",
    "    \n",
    "else:\n",
    "    print(\"Both Documents are of different person\")\n"
   ]
  },
  {
   "cell_type": "code",
   "execution_count": 87,
   "id": "civil-custom",
   "metadata": {},
   "outputs": [
    {
     "name": "stdout",
     "output_type": "stream",
     "text": [
      "Both Documents are of different person\n"
     ]
    }
   ],
   "source": [
    "aadhar_name = 'virat kohli'\n",
    "pan_name = 'VIRAT KOHLI'\n",
    "\n",
    "aadhar_name = aadhar_name.title() # Virat Kohli\n",
    "pan_name = pan_name.upper()       # Virat Kohli\n",
    "\n",
    "if aadhar_name == pan_name: # 'Virat Kohli' == 'Virat Kohli'\n",
    "    print(\"Both Documents are of same person\")\n",
    "    \n",
    "else:\n",
    "    print(\"Both Documents are of different person\")\n"
   ]
  },
  {
   "cell_type": "code",
   "execution_count": 92,
   "id": "complicated-tomorrow",
   "metadata": {},
   "outputs": [
    {
     "name": "stdout",
     "output_type": "stream",
     "text": [
      "We are testing string functions\n"
     ]
    }
   ],
   "source": [
    "aadhar_name = 'virat kohli'\n",
    "pan_name = 'VIRAT KOHLI'\n",
    "\n",
    "aadhar_name = aadhar_name.upper() # Virat Kohli\n",
    "pan_name = pan_name.title()       # Virat Kohli\n",
    "\n",
    "if aadhar_name == pan_name: # 'Virat Kohli' == 'Virat Kohli'\n",
    "    print(\"Both Documents are of same person\")\n",
    "    print(\"Hello\")\n",
    "    \n",
    "print(\"We are testing string functions\")"
   ]
  },
  {
   "cell_type": "markdown",
   "id": "enhanced-spine",
   "metadata": {},
   "source": [
    "# 5. swapcase"
   ]
  },
  {
   "cell_type": "raw",
   "id": "hired-loading",
   "metadata": {},
   "source": [
    "It inverts the case of characters(Alphabets)\n",
    "upper case >> lower \n",
    "lower >> upper"
   ]
  },
  {
   "cell_type": "code",
   "execution_count": 95,
   "id": "partial-registration",
   "metadata": {},
   "outputs": [
    {
     "data": {
      "text/plain": [
       "'VIRAT KOHLI'"
      ]
     },
     "execution_count": 95,
     "metadata": {},
     "output_type": "execute_result"
    }
   ],
   "source": [
    "aadhar_name = 'virat kohli'\n",
    "aadhar_name.swapcase()"
   ]
  },
  {
   "cell_type": "code",
   "execution_count": 102,
   "id": "administrative-spanish",
   "metadata": {},
   "outputs": [
    {
     "name": "stdout",
     "output_type": "stream",
     "text": [
      "Machine Learning\n",
      "mACHINE lEARNING\n"
     ]
    }
   ],
   "source": [
    "string = 'Machine Learning'\n",
    "str2 = string.swapcase()\n",
    "print(string)\n",
    "print(str2)"
   ]
  },
  {
   "cell_type": "code",
   "execution_count": 103,
   "id": "expired-frame",
   "metadata": {},
   "outputs": [
    {
     "name": "stdout",
     "output_type": "stream",
     "text": [
      "mACHINE lEARNING\n"
     ]
    }
   ],
   "source": [
    "string = 'Machine Learning'\n",
    "string = string.swapcase()\n",
    "print(string)"
   ]
  },
  {
   "cell_type": "markdown",
   "id": "portuguese-memorial",
   "metadata": {},
   "source": [
    "# 6. lstrip"
   ]
  },
  {
   "cell_type": "code",
   "execution_count": null,
   "id": "agricultural-rescue",
   "metadata": {},
   "outputs": [],
   "source": [
    "It remove all leading white spaces"
   ]
  },
  {
   "cell_type": "code",
   "execution_count": 105,
   "id": "unauthorized-solomon",
   "metadata": {},
   "outputs": [
    {
     "data": {
      "text/plain": [
       "7"
      ]
     },
     "execution_count": 105,
     "metadata": {},
     "output_type": "execute_result"
    }
   ],
   "source": [
    "str1 = ' Python'\n",
    "len(str1)"
   ]
  },
  {
   "cell_type": "code",
   "execution_count": 107,
   "id": "institutional-straight",
   "metadata": {},
   "outputs": [
    {
     "data": {
      "text/plain": [
       "6"
      ]
     },
     "execution_count": 107,
     "metadata": {},
     "output_type": "execute_result"
    }
   ],
   "source": [
    "str1 = 'Python'\n",
    "len(str1)"
   ]
  },
  {
   "cell_type": "code",
   "execution_count": 109,
   "id": "thrown-klein",
   "metadata": {},
   "outputs": [
    {
     "data": {
      "text/plain": [
       "29"
      ]
     },
     "execution_count": 109,
     "metadata": {},
     "output_type": "execute_result"
    }
   ],
   "source": [
    "str1 = '                       Python'\n",
    "len(str1)"
   ]
  },
  {
   "cell_type": "code",
   "execution_count": 113,
   "id": "cooperative-context",
   "metadata": {},
   "outputs": [
    {
     "data": {
      "text/plain": [
       "'Python'"
      ]
     },
     "execution_count": 113,
     "metadata": {},
     "output_type": "execute_result"
    }
   ],
   "source": [
    "str1 = '                       Python'\n",
    "str1 = str1.lstrip()\n",
    "str1"
   ]
  },
  {
   "cell_type": "markdown",
   "id": "focused-fashion",
   "metadata": {},
   "source": [
    "# 7. rstrip()"
   ]
  },
  {
   "cell_type": "code",
   "execution_count": null,
   "id": "color-weather",
   "metadata": {},
   "outputs": [],
   "source": [
    "It remove all Trailing white spaces"
   ]
  },
  {
   "cell_type": "code",
   "execution_count": 114,
   "id": "possible-interference",
   "metadata": {},
   "outputs": [
    {
     "data": {
      "text/plain": [
       "'machine learning'"
      ]
     },
     "execution_count": 114,
     "metadata": {},
     "output_type": "execute_result"
    }
   ],
   "source": [
    "string = 'machine learning'\n",
    "string.rstrip()"
   ]
  },
  {
   "cell_type": "code",
   "execution_count": 116,
   "id": "congressional-condition",
   "metadata": {},
   "outputs": [
    {
     "data": {
      "text/plain": [
       "'machine learning'"
      ]
     },
     "execution_count": 116,
     "metadata": {},
     "output_type": "execute_result"
    }
   ],
   "source": [
    "string = 'machine learning                           '\n",
    "string.rstrip()"
   ]
  },
  {
   "cell_type": "code",
   "execution_count": 121,
   "id": "verbal-independence",
   "metadata": {},
   "outputs": [
    {
     "data": {
      "text/plain": [
       "'machine learning'"
      ]
     },
     "execution_count": 121,
     "metadata": {},
     "output_type": "execute_result"
    }
   ],
   "source": [
    "string = '               machine learning                           '\n",
    "string = string.lstrip()\n",
    "string = string.rstrip()\n",
    "string"
   ]
  },
  {
   "cell_type": "code",
   "execution_count": 124,
   "id": "afraid-split",
   "metadata": {},
   "outputs": [
    {
     "data": {
      "text/plain": [
       "'machine learning'"
      ]
     },
     "execution_count": 124,
     "metadata": {},
     "output_type": "execute_result"
    }
   ],
   "source": [
    "string = '               machine learning                           '\n",
    "string = string.lstrip().rstrip()\n",
    "string"
   ]
  },
  {
   "cell_type": "code",
   "execution_count": 126,
   "id": "daily-madrid",
   "metadata": {},
   "outputs": [
    {
     "data": {
      "text/plain": [
       "'MACHINE LEARNING'"
      ]
     },
     "execution_count": 126,
     "metadata": {},
     "output_type": "execute_result"
    }
   ],
   "source": [
    "string = '               machine learning                           '\n",
    "string = string.lstrip().rstrip().upper()\n",
    "string"
   ]
  },
  {
   "cell_type": "markdown",
   "id": "congressional-importance",
   "metadata": {},
   "source": [
    "# 8. strip"
   ]
  },
  {
   "cell_type": "code",
   "execution_count": null,
   "id": "pharmaceutical-programming",
   "metadata": {},
   "outputs": [],
   "source": [
    "strip = lstrip + rstrip"
   ]
  },
  {
   "cell_type": "code",
   "execution_count": 128,
   "id": "human-conversion",
   "metadata": {},
   "outputs": [
    {
     "data": {
      "text/plain": [
       "'machine learning'"
      ]
     },
     "execution_count": 128,
     "metadata": {},
     "output_type": "execute_result"
    }
   ],
   "source": [
    "string = '               machine learning                           '\n",
    "string.strip()"
   ]
  },
  {
   "cell_type": "code",
   "execution_count": 130,
   "id": "prerequisite-politics",
   "metadata": {},
   "outputs": [
    {
     "data": {
      "text/plain": [
       "'machine learning'"
      ]
     },
     "execution_count": 130,
     "metadata": {},
     "output_type": "execute_result"
    }
   ],
   "source": [
    "string = '               machine learning'\n",
    "string.strip()"
   ]
  },
  {
   "cell_type": "code",
   "execution_count": 132,
   "id": "promotional-acceptance",
   "metadata": {},
   "outputs": [
    {
     "data": {
      "text/plain": [
       "'machine learning'"
      ]
     },
     "execution_count": 132,
     "metadata": {},
     "output_type": "execute_result"
    }
   ],
   "source": [
    "string = 'machine learning              '\n",
    "string.strip()"
   ]
  },
  {
   "cell_type": "code",
   "execution_count": 134,
   "id": "spare-pointer",
   "metadata": {},
   "outputs": [
    {
     "data": {
      "text/plain": [
       "'machine                      learning'"
      ]
     },
     "execution_count": 134,
     "metadata": {},
     "output_type": "execute_result"
    }
   ],
   "source": [
    "string = 'machine                      learning'\n",
    "string.strip()"
   ]
  },
  {
   "cell_type": "markdown",
   "id": "aerial-chapel",
   "metadata": {},
   "source": [
    "# 9. casefold"
   ]
  },
  {
   "cell_type": "code",
   "execution_count": 136,
   "id": "experienced-triangle",
   "metadata": {},
   "outputs": [
    {
     "data": {
      "text/plain": [
       "'data science'"
      ]
     },
     "execution_count": 136,
     "metadata": {},
     "output_type": "execute_result"
    }
   ],
   "source": [
    "string = 'Data Science'\n",
    "string.lower()"
   ]
  },
  {
   "cell_type": "code",
   "execution_count": 138,
   "id": "radio-nudist",
   "metadata": {},
   "outputs": [
    {
     "data": {
      "text/plain": [
       "'data science'"
      ]
     },
     "execution_count": 138,
     "metadata": {},
     "output_type": "execute_result"
    }
   ],
   "source": [
    "string = 'Data Science'\n",
    "string.casefold()"
   ]
  },
  {
   "cell_type": "code",
   "execution_count": null,
   "id": "alive-liberty",
   "metadata": {},
   "outputs": [],
   "source": [
    "string = 'Data Science'\n",
    "string.casefold()"
   ]
  },
  {
   "cell_type": "code",
   "execution_count": 140,
   "id": "smoking-duplicate",
   "metadata": {},
   "outputs": [
    {
     "data": {
      "text/plain": [
       "'haustürschlüssel'"
      ]
     },
     "execution_count": 140,
     "metadata": {},
     "output_type": "execute_result"
    }
   ],
   "source": [
    "str1 = 'Haustürschlüssel'\n",
    "str1.lower()"
   ]
  },
  {
   "cell_type": "code",
   "execution_count": 144,
   "id": "activated-democracy",
   "metadata": {},
   "outputs": [
    {
     "data": {
      "text/plain": [
       "'scheisse'"
      ]
     },
     "execution_count": 144,
     "metadata": {},
     "output_type": "execute_result"
    }
   ],
   "source": [
    "str1 = 'Scheiße'\n",
    "str1.casefold()"
   ]
  },
  {
   "cell_type": "markdown",
   "id": "functional-sculpture",
   "metadata": {},
   "source": [
    "# 10. replace"
   ]
  },
  {
   "cell_type": "code",
   "execution_count": null,
   "id": "swedish-image",
   "metadata": {},
   "outputs": [],
   "source": [
    "string.replace(old_substring,new_substring, [count])\n",
    "substring >> single char, word, whole string"
   ]
  },
  {
   "cell_type": "code",
   "execution_count": 146,
   "id": "challenging-sarah",
   "metadata": {},
   "outputs": [
    {
     "data": {
      "text/plain": [
       "'JAVA and Data Science'"
      ]
     },
     "execution_count": 146,
     "metadata": {},
     "output_type": "execute_result"
    }
   ],
   "source": [
    "string = 'Python and Data Science'\n",
    "string.replace('Python',\"JAVA\")"
   ]
  },
  {
   "cell_type": "code",
   "execution_count": 185,
   "id": "literary-netscape",
   "metadata": {},
   "outputs": [
    {
     "data": {
      "text/plain": [
       "'JAVA and Data Science'"
      ]
     },
     "execution_count": 185,
     "metadata": {},
     "output_type": "execute_result"
    }
   ],
   "source": [
    "string = 'Python and Data Science'\n",
    "string.replace('Python',\"JAVA\")"
   ]
  },
  {
   "cell_type": "code",
   "execution_count": 186,
   "id": "annual-degree",
   "metadata": {},
   "outputs": [
    {
     "ename": "TypeError",
     "evalue": "replace expected at least 2 arguments, got 1",
     "output_type": "error",
     "traceback": [
      "\u001b[1;31m---------------------------------------------------------------------------\u001b[0m",
      "\u001b[1;31mTypeError\u001b[0m                                 Traceback (most recent call last)",
      "\u001b[1;32m<ipython-input-186-ab5827ee2965>\u001b[0m in \u001b[0;36m<module>\u001b[1;34m\u001b[0m\n\u001b[0;32m      1\u001b[0m \u001b[0mstring\u001b[0m \u001b[1;33m=\u001b[0m \u001b[1;34m'Python and Data Science'\u001b[0m\u001b[1;33m\u001b[0m\u001b[1;33m\u001b[0m\u001b[0m\n\u001b[1;32m----> 2\u001b[1;33m \u001b[0mstring\u001b[0m\u001b[1;33m.\u001b[0m\u001b[0mreplace\u001b[0m\u001b[1;33m(\u001b[0m\u001b[1;34m'Python'\u001b[0m\u001b[1;33m)\u001b[0m\u001b[1;33m\u001b[0m\u001b[1;33m\u001b[0m\u001b[0m\n\u001b[0m",
      "\u001b[1;31mTypeError\u001b[0m: replace expected at least 2 arguments, got 1"
     ]
    }
   ],
   "source": [
    "string = 'Python and Data Science'\n",
    "string.replace('Python')"
   ]
  },
  {
   "cell_type": "code",
   "execution_count": 149,
   "id": "expensive-worth",
   "metadata": {},
   "outputs": [
    {
     "data": {
      "text/plain": [
       "'Python And DAtA Science'"
      ]
     },
     "execution_count": 149,
     "metadata": {},
     "output_type": "execute_result"
    }
   ],
   "source": [
    "string = 'Python and Data Science'\n",
    "string.replace('a',\"A\")"
   ]
  },
  {
   "cell_type": "code",
   "execution_count": 153,
   "id": "secret-shipping",
   "metadata": {},
   "outputs": [
    {
     "data": {
      "text/plain": [
       "'Python and Data Science'"
      ]
     },
     "execution_count": 153,
     "metadata": {},
     "output_type": "execute_result"
    }
   ],
   "source": [
    "string = 'Python and Data Science'\n",
    "string.replace('python',\"PYTHON\")"
   ]
  },
  {
   "cell_type": "markdown",
   "id": "extraordinary-mentor",
   "metadata": {},
   "source": [
    "# remove all vowels from given string"
   ]
  },
  {
   "cell_type": "code",
   "execution_count": 156,
   "id": "vocal-watershed",
   "metadata": {},
   "outputs": [
    {
     "data": {
      "text/plain": [
       "'Python *nd D*t* Science'"
      ]
     },
     "execution_count": 156,
     "metadata": {},
     "output_type": "execute_result"
    }
   ],
   "source": [
    "string = 'Python and Data Science'\n",
    "string.replace('a',\"*\")"
   ]
  },
  {
   "cell_type": "code",
   "execution_count": 158,
   "id": "advance-technique",
   "metadata": {},
   "outputs": [
    {
     "data": {
      "text/plain": [
       "'Python and Data Science'"
      ]
     },
     "execution_count": 158,
     "metadata": {},
     "output_type": "execute_result"
    }
   ],
   "source": [
    "string = 'Python and Data Science'\n",
    "string.replace(' ',' ')"
   ]
  },
  {
   "cell_type": "code",
   "execution_count": 160,
   "id": "permanent-contemporary",
   "metadata": {},
   "outputs": [
    {
     "data": {
      "text/plain": [
       "'Python+and+Data+Science'"
      ]
     },
     "execution_count": 160,
     "metadata": {},
     "output_type": "execute_result"
    }
   ],
   "source": [
    "string = 'Python and Data Science'\n",
    "string.replace(' ','+')"
   ]
  },
  {
   "cell_type": "code",
   "execution_count": 162,
   "id": "destroyed-demographic",
   "metadata": {},
   "outputs": [
    {
     "data": {
      "text/plain": [
       "'Python+++and+++Data+++Science'"
      ]
     },
     "execution_count": 162,
     "metadata": {},
     "output_type": "execute_result"
    }
   ],
   "source": [
    "string = 'Python and Data Science'\n",
    "string.replace(' ','+++')"
   ]
  },
  {
   "cell_type": "code",
   "execution_count": 165,
   "id": "viral-biodiversity",
   "metadata": {},
   "outputs": [
    {
     "data": {
      "text/plain": [
       "'Pyth*n *nd D*t* Sc**nc*'"
      ]
     },
     "execution_count": 165,
     "metadata": {},
     "output_type": "execute_result"
    }
   ],
   "source": [
    "string = 'Python and Data Science'\n",
    "string.replace('a','*').replace('e','*').replace('i','*').replace('o','*').replace('u','*')"
   ]
  },
  {
   "cell_type": "code",
   "execution_count": 166,
   "id": "inappropriate-password",
   "metadata": {},
   "outputs": [
    {
     "data": {
      "text/plain": [
       "'Pythn nd Dt Scnc'"
      ]
     },
     "execution_count": 166,
     "metadata": {},
     "output_type": "execute_result"
    }
   ],
   "source": [
    "string = 'Python and Data Science'\n",
    "string.replace('a','').replace('e','').replace('i','').replace('o','').replace('u','')"
   ]
  },
  {
   "cell_type": "code",
   "execution_count": 170,
   "id": "organized-adult",
   "metadata": {},
   "outputs": [
    {
     "name": "stdout",
     "output_type": "stream",
     "text": [
      "Datascienceisaninterdisciplinaryfieldthatusesscientificmethods,\n",
      "processes,algorithmsandsystemstoextractknowledgeandinsightsfromnoisy,\n",
      "structuredandunstructureddata,andapplyknowledgefromdataacrossabroadrange\n",
      "ofapplicationdomains\n"
     ]
    }
   ],
   "source": [
    "string = \"\"\"Data science is an interdisciplinary field that uses scientific methods,\n",
    "processes, algorithms and systems to extract knowledge and insights from noisy, \n",
    "structured and unstructured data, and apply knowledge from data across a broad range \n",
    "of application domains\"\"\"\n",
    "\n",
    "print(string.replace(' ',''))"
   ]
  },
  {
   "cell_type": "code",
   "execution_count": 173,
   "id": "unusual-vacuum",
   "metadata": {},
   "outputs": [
    {
     "name": "stdout",
     "output_type": "stream",
     "text": [
      "D*t* sc**nc* *s *n *nt*rd*sc*pl*n*ry f**ld th*t *s*s sc**nt*f*c m*th*ds,\n",
      "pr*c*ss*s, *lg*r*thms *nd syst*ms t* *xtr*ct kn*wl*dg* *nd *ns*ghts fr*m n**sy, \n",
      "str*ct*r*d *nd *nstr*ct*r*d d*t*, *nd *pply kn*wl*dg* fr*m d*t* *cr*ss * br**d r*ng* \n",
      "*f *ppl*c*t**n d*m**ns\n"
     ]
    }
   ],
   "source": [
    "string = \"\"\"Data science is an interdisciplinary field that uses scientific methods,\n",
    "processes, algorithms and systems to extract knowledge and insights from noisy, \n",
    "structured and unstructured data, and apply knowledge from data across a broad range \n",
    "of application domains\"\"\"\n",
    "\n",
    "x = string.replace('a','*').replace('e','*').replace('i','*').replace('o','*').replace('u','*')\n",
    "print(x)"
   ]
  },
  {
   "cell_type": "code",
   "execution_count": 175,
   "id": "fossil-paradise",
   "metadata": {},
   "outputs": [
    {
     "name": "stdout",
     "output_type": "stream",
     "text": [
      "Dt scnc s n ntrdscplnry fld tht ss scntfc mthds,\n",
      "prcsss, lgrthms nd systms t xtrct knwldg nd nsghts frm nsy, \n",
      "strctrd nd nstrctrd dt, nd pply knwldg frm dt crss  brd rng \n",
      "f pplctn dmns\n"
     ]
    }
   ],
   "source": [
    "string = \"\"\"Data science is an interdisciplinary field that uses scientific methods,\n",
    "processes, algorithms and systems to extract knowledge and insights from noisy, \n",
    "structured and unstructured data, and apply knowledge from data across a broad range \n",
    "of application domains\"\"\"\n",
    "\n",
    "x = string.replace('a','').replace('e','').replace('i','').replace('o','').replace('u','')\n",
    "print(x)"
   ]
  },
  {
   "cell_type": "code",
   "execution_count": 179,
   "id": "beneficial-response",
   "metadata": {},
   "outputs": [
    {
     "name": "stdout",
     "output_type": "stream",
     "text": [
      "PYTHON and Data Science, PYTHON is used for machine learning,\n",
      "PYTHON is used for NLP and Depp Learning\n"
     ]
    }
   ],
   "source": [
    "string = '''Python and Data Science, Python is used for machine learning,\n",
    "Python is used for NLP and Depp Learning'''\n",
    "print(string.replace('Python','PYTHON'))"
   ]
  },
  {
   "cell_type": "code",
   "execution_count": 181,
   "id": "italian-adapter",
   "metadata": {},
   "outputs": [
    {
     "name": "stdout",
     "output_type": "stream",
     "text": [
      "PYTHON and Data Science, Python is used for machine learning,\n",
      "Python is used for NLP and Depp Learning\n"
     ]
    }
   ],
   "source": [
    "string = '''Python and Data Science, Python is used for machine learning,\n",
    "Python is used for NLP and Depp Learning'''\n",
    "print(string.replace('Python','PYTHON',1))"
   ]
  },
  {
   "cell_type": "code",
   "execution_count": 183,
   "id": "exceptional-ethnic",
   "metadata": {},
   "outputs": [
    {
     "name": "stdout",
     "output_type": "stream",
     "text": [
      "PYTHON and Data Science, PYTHON is used for machine learning,\n",
      "Python is used for NLP and Depp Learning\n"
     ]
    }
   ],
   "source": [
    "string = '''Python and Data Science, Python is used for machine learning,\n",
    "Python is used for NLP and Depp Learning'''\n",
    "print(string.replace('Python','PYTHON',2))"
   ]
  },
  {
   "cell_type": "code",
   "execution_count": 184,
   "id": "packed-virtue",
   "metadata": {},
   "outputs": [
    {
     "name": "stdout",
     "output_type": "stream",
     "text": [
      "Python and Data Science, Python is used for machine learning,\n",
      "Python is used for NLP and Depp Learning\n"
     ]
    }
   ],
   "source": [
    "string = '''Python and Data Science, Python is used for machine learning,\n",
    "Python is used for NLP and Depp Learning'''\n",
    "print(string.replace('python','PYTHON',2))"
   ]
  },
  {
   "cell_type": "code",
   "execution_count": 188,
   "id": "stuffed-generator",
   "metadata": {},
   "outputs": [
    {
     "data": {
      "text/plain": [
       "'23456789999 and Data Science'"
      ]
     },
     "execution_count": 188,
     "metadata": {},
     "output_type": "execute_result"
    }
   ],
   "source": [
    "string = 'Python and Data Science'\n",
    "string.replace('Python','23456789999')"
   ]
  },
  {
   "cell_type": "code",
   "execution_count": 190,
   "id": "nearby-processing",
   "metadata": {},
   "outputs": [
    {
     "data": {
      "text/plain": [
       "'234567 and Data Science'"
      ]
     },
     "execution_count": 190,
     "metadata": {},
     "output_type": "execute_result"
    }
   ],
   "source": [
    "string = 'Python and Data Science'\n",
    "string.replace('Python','234567')"
   ]
  },
  {
   "cell_type": "code",
   "execution_count": null,
   "id": "fifteen-vegetation",
   "metadata": {},
   "outputs": [],
   "source": [
    "string = 234567' and Data Science'\n",
    "string.replace('Python','234567')"
   ]
  },
  {
   "cell_type": "code",
   "execution_count": 191,
   "id": "balanced-mainstream",
   "metadata": {},
   "outputs": [
    {
     "data": {
      "text/plain": [
       "str"
      ]
     },
     "execution_count": 191,
     "metadata": {},
     "output_type": "execute_result"
    }
   ],
   "source": [
    "s1 = '' # NULL String\n",
    "type(s1)"
   ]
  },
  {
   "cell_type": "code",
   "execution_count": 194,
   "id": "interim-disease",
   "metadata": {},
   "outputs": [
    {
     "name": "stdout",
     "output_type": "stream",
     "text": [
      "1000\n"
     ]
    }
   ],
   "source": [
    "string = 'Python'\n",
    "string = 1000\n",
    "print(string)"
   ]
  },
  {
   "cell_type": "code",
   "execution_count": 195,
   "id": "short-square",
   "metadata": {},
   "outputs": [
    {
     "name": "stdout",
     "output_type": "stream",
     "text": [
      "PYTHON\n"
     ]
    }
   ],
   "source": [
    "string = 10000\n",
    "string = 'PYTHON'\n",
    "print(string)"
   ]
  },
  {
   "cell_type": "code",
   "execution_count": null,
   "id": "considered-vault",
   "metadata": {},
   "outputs": [],
   "source": [
    "a = 10000\n",
    "a = 4 + 5j"
   ]
  },
  {
   "cell_type": "code",
   "execution_count": 196,
   "id": "alternate-terrorist",
   "metadata": {},
   "outputs": [
    {
     "data": {
      "text/plain": [
       "6"
      ]
     },
     "execution_count": 196,
     "metadata": {},
     "output_type": "execute_result"
    }
   ],
   "source": [
    "len(string)"
   ]
  },
  {
   "cell_type": "code",
   "execution_count": 197,
   "id": "superb-reproduction",
   "metadata": {},
   "outputs": [
    {
     "data": {
      "text/plain": [
       "True"
      ]
     },
     "execution_count": 197,
     "metadata": {},
     "output_type": "execute_result"
    }
   ],
   "source": [
    "6 == 6"
   ]
  },
  {
   "cell_type": "code",
   "execution_count": 198,
   "id": "inappropriate-sleep",
   "metadata": {},
   "outputs": [
    {
     "data": {
      "text/plain": [
       "[4, 5, 6, 7, 1000]"
      ]
     },
     "execution_count": 198,
     "metadata": {},
     "output_type": "execute_result"
    }
   ],
   "source": [
    "list1 = [4,5,6,7]\n",
    "list1.append(1000)\n",
    "list1"
   ]
  }
 ],
 "metadata": {
  "kernelspec": {
   "display_name": "Python 3 (ipykernel)",
   "language": "python",
   "name": "python3"
  },
  "language_info": {
   "codemirror_mode": {
    "name": "ipython",
    "version": 3
   },
   "file_extension": ".py",
   "mimetype": "text/x-python",
   "name": "python",
   "nbconvert_exporter": "python",
   "pygments_lexer": "ipython3",
   "version": "3.9.12"
  }
 },
 "nbformat": 4,
 "nbformat_minor": 5
}
