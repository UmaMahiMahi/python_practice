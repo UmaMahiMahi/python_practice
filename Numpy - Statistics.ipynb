{
 "cells": [
  {
   "cell_type": "markdown",
   "id": "minimal-prefix",
   "metadata": {},
   "source": [
    "## Numpy - Statistics"
   ]
  },
  {
   "cell_type": "code",
   "execution_count": null,
   "id": "conditional-oxygen",
   "metadata": {},
   "outputs": [],
   "source": [
    "1. Mean\n",
    "2. Median\n",
    "3. Mode\n",
    "4. Variance\n",
    "5. Standard Devaitation\n"
   ]
  },
  {
   "cell_type": "code",
   "execution_count": null,
   "id": "overall-opportunity",
   "metadata": {},
   "outputs": [],
   "source": [
    "1. np.mean()\n",
    "2. np.median()\n",
    "3. np.std()\n",
    "4. np.var()\n",
    "5. np.sum()\n",
    "6. np.max()\n",
    "7. np.min()\n",
    "8. scipy.stats.mode()"
   ]
  },
  {
   "cell_type": "code",
   "execution_count": 2,
   "id": "excellent-request",
   "metadata": {},
   "outputs": [],
   "source": [
    "import numpy as np"
   ]
  },
  {
   "cell_type": "markdown",
   "id": "catholic-century",
   "metadata": {},
   "source": [
    "## 1. Mean()"
   ]
  },
  {
   "cell_type": "code",
   "execution_count": null,
   "id": "ruled-switzerland",
   "metadata": {},
   "outputs": [],
   "source": [
    "mean  = np.sum(array)/len_array"
   ]
  },
  {
   "cell_type": "code",
   "execution_count": 4,
   "id": "compound-multimedia",
   "metadata": {},
   "outputs": [
    {
     "data": {
      "text/plain": [
       "4.2"
      ]
     },
     "execution_count": 4,
     "metadata": {},
     "output_type": "execute_result"
    }
   ],
   "source": [
    "array1 = np.array([2,5,1,6,7])\n",
    "mean = np.mean(array1)\n",
    "mean"
   ]
  },
  {
   "cell_type": "markdown",
   "id": "korean-accommodation",
   "metadata": {},
   "source": [
    "### np.sum()"
   ]
  },
  {
   "cell_type": "code",
   "execution_count": 6,
   "id": "sensitive-purple",
   "metadata": {},
   "outputs": [
    {
     "data": {
      "text/plain": [
       "21"
      ]
     },
     "execution_count": 6,
     "metadata": {},
     "output_type": "execute_result"
    }
   ],
   "source": [
    "array1 = np.array([2,5,1,6,7])\n",
    "np.sum(array1)"
   ]
  },
  {
   "cell_type": "code",
   "execution_count": 9,
   "id": "graduate-tragedy",
   "metadata": {},
   "outputs": [
    {
     "data": {
      "text/plain": [
       "5"
      ]
     },
     "execution_count": 9,
     "metadata": {},
     "output_type": "execute_result"
    }
   ],
   "source": [
    "array1.shape[0]"
   ]
  },
  {
   "cell_type": "code",
   "execution_count": 11,
   "id": "sexual-emission",
   "metadata": {},
   "outputs": [
    {
     "data": {
      "text/plain": [
       "4.2"
      ]
     },
     "execution_count": 11,
     "metadata": {},
     "output_type": "execute_result"
    }
   ],
   "source": [
    "np.sum(array1)/array1.shape[0]"
   ]
  },
  {
   "cell_type": "code",
   "execution_count": 13,
   "id": "educational-guarantee",
   "metadata": {},
   "outputs": [
    {
     "name": "stdout",
     "output_type": "stream",
     "text": [
      "[15 15 17 13 15 14 19 19 14 14 12 16 10 11 18 14 17 17 15 15]\n"
     ]
    },
    {
     "data": {
      "text/plain": [
       "15.0"
      ]
     },
     "execution_count": 13,
     "metadata": {},
     "output_type": "execute_result"
    }
   ],
   "source": [
    "array1 = np.random.randint(10,20,size = 20)\n",
    "print(array1)\n",
    "mean = np.mean(array1)\n",
    "mean"
   ]
  },
  {
   "cell_type": "code",
   "execution_count": 15,
   "id": "dependent-peoples",
   "metadata": {},
   "outputs": [
    {
     "data": {
      "text/plain": [
       "15.0"
      ]
     },
     "execution_count": 15,
     "metadata": {},
     "output_type": "execute_result"
    }
   ],
   "source": [
    "array1 = np.array([14,16])\n",
    "np.mean(array1)"
   ]
  },
  {
   "cell_type": "markdown",
   "id": "expanded-bangkok",
   "metadata": {},
   "source": [
    "## 2.Median"
   ]
  },
  {
   "cell_type": "code",
   "execution_count": null,
   "id": "behavioral-appraisal",
   "metadata": {},
   "outputs": [],
   "source": [
    "array1 = np.array([4,2,6,1,8,9,3])\n",
    "array1\n",
    "\n",
    "1, 2, 3, 4, 6, 8, 9  # Odd\n",
    "median >> 4"
   ]
  },
  {
   "cell_type": "code",
   "execution_count": null,
   "id": "correct-scroll",
   "metadata": {},
   "outputs": [],
   "source": [
    "array1 = np.array([4,2,10,6,1,8,9,3])\n",
    "array1\n",
    "\n",
    "1, 2, 3, 4, 6, 8, 9, 10  # Even Count\n",
    "(4+6)/2\n",
    "\n",
    "Median >> 5.0"
   ]
  },
  {
   "cell_type": "code",
   "execution_count": 18,
   "id": "false-occasions",
   "metadata": {},
   "outputs": [
    {
     "name": "stdout",
     "output_type": "stream",
     "text": [
      "Median of an array is: 4.0\n"
     ]
    }
   ],
   "source": [
    "array1 = np.array([4,2,6,1,8,9,3])\n",
    "median = np.median(array1)\n",
    "print(\"Median of an array is:\",median)"
   ]
  },
  {
   "cell_type": "code",
   "execution_count": 20,
   "id": "digital-white",
   "metadata": {},
   "outputs": [
    {
     "name": "stdout",
     "output_type": "stream",
     "text": [
      "Median of an array is: 5.0\n"
     ]
    }
   ],
   "source": [
    "array1 = np.array([4,2,6,1,8,9,3,10])\n",
    "median = np.median(array1)\n",
    "print(\"Median of an array is:\",median)"
   ]
  },
  {
   "cell_type": "code",
   "execution_count": 36,
   "id": "expensive-apple",
   "metadata": {},
   "outputs": [
    {
     "name": "stdout",
     "output_type": "stream",
     "text": [
      "[11 16 15 19 16 10 12 18 18 10 13 11 18 18 19 12 10 10 15 12]\n",
      "Median of an array is: 14.0\n"
     ]
    }
   ],
   "source": [
    "array1 = np.random.randint(10,20,size = 20)\n",
    "print(array1)\n",
    "median = np.median(array1)\n",
    "print(\"Median of an array is:\",median)"
   ]
  },
  {
   "cell_type": "code",
   "execution_count": 40,
   "id": "civic-effect",
   "metadata": {},
   "outputs": [
    {
     "data": {
      "text/plain": [
       "array([ 1,  2,  3,  4,  6,  8,  9, 10])"
      ]
     },
     "execution_count": 40,
     "metadata": {},
     "output_type": "execute_result"
    }
   ],
   "source": [
    "array1 = np.array([4,2,6,1,8,9,3,10])\n",
    "array2 = np.sort(array1)\n",
    "array2"
   ]
  },
  {
   "cell_type": "code",
   "execution_count": 49,
   "id": "boxed-truck",
   "metadata": {},
   "outputs": [
    {
     "data": {
      "text/plain": [
       "4"
      ]
     },
     "execution_count": 49,
     "metadata": {},
     "output_type": "execute_result"
    }
   ],
   "source": [
    "x = int(array2.shape[0]/2)\n",
    "x"
   ]
  },
  {
   "cell_type": "code",
   "execution_count": 57,
   "id": "dressed-judge",
   "metadata": {},
   "outputs": [
    {
     "data": {
      "text/plain": [
       "5.0"
      ]
     },
     "execution_count": 57,
     "metadata": {},
     "output_type": "execute_result"
    }
   ],
   "source": [
    "(array2[x] + array2[x-1])/2"
   ]
  },
  {
   "cell_type": "code",
   "execution_count": 59,
   "id": "intended-chosen",
   "metadata": {},
   "outputs": [
    {
     "data": {
      "text/plain": [
       "5.375"
      ]
     },
     "execution_count": 59,
     "metadata": {},
     "output_type": "execute_result"
    }
   ],
   "source": [
    "array1 = np.array([4,2,6,1,8,9,3,10])\n",
    "np.mean(array1)"
   ]
  },
  {
   "cell_type": "code",
   "execution_count": 60,
   "id": "convinced-richards",
   "metadata": {},
   "outputs": [
    {
     "data": {
      "text/plain": [
       "5.0"
      ]
     },
     "execution_count": 60,
     "metadata": {},
     "output_type": "execute_result"
    }
   ],
   "source": [
    "array1 = np.array([4,2,6,1,8,9,3,10])\n",
    "np.median(array1)"
   ]
  },
  {
   "cell_type": "code",
   "execution_count": 55,
   "id": "complimentary-ecology",
   "metadata": {},
   "outputs": [
    {
     "data": {
      "text/plain": [
       "14.375"
      ]
     },
     "execution_count": 55,
     "metadata": {},
     "output_type": "execute_result"
    }
   ],
   "source": [
    "array1 = np.array([4,2,6,1,80,9,3,10])\n",
    "np.mean(array1)"
   ]
  },
  {
   "cell_type": "code",
   "execution_count": 62,
   "id": "nonprofit-phrase",
   "metadata": {},
   "outputs": [
    {
     "data": {
      "text/plain": [
       "5.0"
      ]
     },
     "execution_count": 62,
     "metadata": {},
     "output_type": "execute_result"
    }
   ],
   "source": [
    "array1 = np.array([4,2,6,1,80,9,3,10])\n",
    "np.median(array1)"
   ]
  },
  {
   "cell_type": "code",
   "execution_count": 64,
   "id": "radio-genre",
   "metadata": {},
   "outputs": [
    {
     "data": {
      "text/plain": [
       "array([ 1,  2,  3,  4,  6,  9, 10, 80])"
      ]
     },
     "execution_count": 64,
     "metadata": {},
     "output_type": "execute_result"
    }
   ],
   "source": [
    "np.sort(array1)"
   ]
  },
  {
   "cell_type": "markdown",
   "id": "analyzed-spanking",
   "metadata": {},
   "source": [
    "### 3. std"
   ]
  },
  {
   "cell_type": "code",
   "execution_count": 67,
   "id": "polyphonic-lingerie",
   "metadata": {},
   "outputs": [
    {
     "name": "stdout",
     "output_type": "stream",
     "text": [
      "[14 12 18 12 12 10 16 18 16 18 10 14 12 14 10 16 18 18 19 18]\n",
      "Mean : 14.75\n",
      "Standard Deviation of an array is: 3.0475399915341552\n"
     ]
    }
   ],
   "source": [
    "array1 = np.random.randint(10,20,size = 20)\n",
    "print(array1)\n",
    "mean = np.mean(array1)\n",
    "std = np.std(array1)\n",
    "print('Mean :',mean)\n",
    "print(\"Standard Deviation of an array is:\",std)"
   ]
  },
  {
   "cell_type": "code",
   "execution_count": null,
   "id": "sunset-volume",
   "metadata": {},
   "outputs": [],
   "source": [
    "array1 = np.random.randint(10,20,size = 20)\n",
    "print(array1)\n",
    "mean = np.mean(array1)\n",
    "std = np.std(array1)\n",
    "print('Mean :',mean)\n",
    "print(\"Standard Deviation of an array is:\",std)"
   ]
  },
  {
   "cell_type": "code",
   "execution_count": 69,
   "id": "alpha-occupation",
   "metadata": {},
   "outputs": [
    {
     "data": {
      "text/plain": [
       "5.75"
      ]
     },
     "execution_count": 69,
     "metadata": {},
     "output_type": "execute_result"
    }
   ],
   "source": [
    "14.75 -3*3"
   ]
  },
  {
   "cell_type": "code",
   "execution_count": 71,
   "id": "revised-armor",
   "metadata": {},
   "outputs": [
    {
     "data": {
      "text/plain": [
       "23.75"
      ]
     },
     "execution_count": 71,
     "metadata": {},
     "output_type": "execute_result"
    }
   ],
   "source": [
    "14.75 + 3*3"
   ]
  },
  {
   "cell_type": "code",
   "execution_count": 73,
   "id": "terminal-medline",
   "metadata": {},
   "outputs": [
    {
     "data": {
      "text/plain": [
       "array([17, 19, 14, 14, 15, 14, 18, 10, 18, 15, 18, 13, 16, 13, 13, 17, 19,\n",
       "       12, 15, 17])"
      ]
     },
     "execution_count": 73,
     "metadata": {},
     "output_type": "execute_result"
    }
   ],
   "source": [
    "array1 = np.random.randint(10,20,size = 20)\n",
    "array1"
   ]
  },
  {
   "cell_type": "code",
   "execution_count": 74,
   "id": "authorized-rehabilitation",
   "metadata": {},
   "outputs": [],
   "source": [
    "array2 = np.array([17, 219, 14, 14, 15, 14, 18, 10, 18, 15, 18, 13, 16, 13, 13, 17, 19,\n",
    "       12, 15, 17])"
   ]
  },
  {
   "cell_type": "code",
   "execution_count": 76,
   "id": "latter-promotion",
   "metadata": {},
   "outputs": [
    {
     "data": {
      "text/plain": [
       "25.35"
      ]
     },
     "execution_count": 76,
     "metadata": {},
     "output_type": "execute_result"
    }
   ],
   "source": [
    "np.mean(array2)"
   ]
  },
  {
   "cell_type": "code",
   "execution_count": 78,
   "id": "intermediate-anthony",
   "metadata": {},
   "outputs": [
    {
     "data": {
      "text/plain": [
       "44.48513796764039"
      ]
     },
     "execution_count": 78,
     "metadata": {},
     "output_type": "execute_result"
    }
   ],
   "source": [
    "np.std(array2)"
   ]
  },
  {
   "cell_type": "code",
   "execution_count": 80,
   "id": "resident-pharmacy",
   "metadata": {},
   "outputs": [
    {
     "data": {
      "text/plain": [
       "158.79"
      ]
     },
     "execution_count": 80,
     "metadata": {},
     "output_type": "execute_result"
    }
   ],
   "source": [
    "25.35 + 3*44.48"
   ]
  },
  {
   "cell_type": "code",
   "execution_count": 82,
   "id": "composite-template",
   "metadata": {},
   "outputs": [
    {
     "data": {
      "text/plain": [
       "5.2"
      ]
     },
     "execution_count": 82,
     "metadata": {},
     "output_type": "execute_result"
    }
   ],
   "source": [
    "array2 = np.array([3,5,4,6,8])\n",
    "np.mean(array2)"
   ]
  },
  {
   "cell_type": "code",
   "execution_count": 84,
   "id": "motivated-wiring",
   "metadata": {},
   "outputs": [
    {
     "data": {
      "text/plain": [
       "5.0"
      ]
     },
     "execution_count": 84,
     "metadata": {},
     "output_type": "execute_result"
    }
   ],
   "source": [
    "array2 = np.array([3,5,4,6,8])\n",
    "np.median(array2)"
   ]
  },
  {
   "cell_type": "code",
   "execution_count": 86,
   "id": "recorded-aurora",
   "metadata": {},
   "outputs": [
    {
     "data": {
      "text/plain": [
       "1.7204650534085253"
      ]
     },
     "execution_count": 86,
     "metadata": {},
     "output_type": "execute_result"
    }
   ],
   "source": [
    "array2 = np.array([3,5,4,6,8])\n",
    "np.std(array2)"
   ]
  },
  {
   "cell_type": "markdown",
   "id": "based-parking",
   "metadata": {},
   "source": [
    "### 4. Variance"
   ]
  },
  {
   "cell_type": "code",
   "execution_count": 88,
   "id": "later-emergency",
   "metadata": {},
   "outputs": [
    {
     "data": {
      "text/plain": [
       "2.96"
      ]
     },
     "execution_count": 88,
     "metadata": {},
     "output_type": "execute_result"
    }
   ],
   "source": [
    "array2 = np.array([3,5,4,6,8])\n",
    "np.var(array2)"
   ]
  },
  {
   "cell_type": "code",
   "execution_count": 91,
   "id": "south-johnson",
   "metadata": {},
   "outputs": [
    {
     "data": {
      "text/plain": [
       "2.43464576478797"
      ]
     },
     "execution_count": 91,
     "metadata": {},
     "output_type": "execute_result"
    }
   ],
   "source": [
    "array2 = np.array([17, 19, 14, 14, 15, 14, 18, 10, 18, 15, 18, 13, 16, 13, 13, 17, 19,\n",
    "       12, 15, 17])\n",
    "\n",
    "np.std(array2)"
   ]
  },
  {
   "cell_type": "code",
   "execution_count": 93,
   "id": "miniature-conditions",
   "metadata": {},
   "outputs": [
    {
     "data": {
      "text/plain": [
       "5.9275"
      ]
     },
     "execution_count": 93,
     "metadata": {},
     "output_type": "execute_result"
    }
   ],
   "source": [
    "array2 = np.array([17, 19, 14, 14, 15, 14, 18, 10, 18, 15, 18, 13, 16, 13, 13, 17, 19,\n",
    "       12, 15, 17])\n",
    "\n",
    "np.var(array2)"
   ]
  },
  {
   "cell_type": "code",
   "execution_count": 96,
   "id": "healthy-convert",
   "metadata": {},
   "outputs": [
    {
     "data": {
      "text/plain": [
       "5.354126134736337"
      ]
     },
     "execution_count": 96,
     "metadata": {},
     "output_type": "execute_result"
    }
   ],
   "source": [
    "array2 = np.array([27, 19, 14,])\n",
    "\n",
    "np.std(array2)"
   ]
  },
  {
   "cell_type": "code",
   "execution_count": 97,
   "id": "civil-vault",
   "metadata": {},
   "outputs": [
    {
     "data": {
      "text/plain": [
       "28.666666666666668"
      ]
     },
     "execution_count": 97,
     "metadata": {},
     "output_type": "execute_result"
    }
   ],
   "source": [
    "array2 = np.array([27, 19, 14,])\n",
    "\n",
    "np.var(array2)"
   ]
  },
  {
   "cell_type": "code",
   "execution_count": 100,
   "id": "furnished-ancient",
   "metadata": {},
   "outputs": [
    {
     "name": "stdout",
     "output_type": "stream",
     "text": [
      "Mean : 27.0\n",
      "median : 27.0\n",
      "std : 0.0\n",
      "var : 0.0\n"
     ]
    }
   ],
   "source": [
    "array2 = np.array([27, 27, 27,27,27])\n",
    "mean = np.mean(array2)\n",
    "print(\"Mean :\",mean)\n",
    "\n",
    "median = np.median(array2)\n",
    "print(\"median :\",median)\n",
    "\n",
    "std = np.std(array2)\n",
    "print(\"std :\",std)\n",
    "\n",
    "var = np.var(array2)\n",
    "print(\"var :\",var)\n"
   ]
  },
  {
   "cell_type": "code",
   "execution_count": null,
   "id": "single-hormone",
   "metadata": {},
   "outputs": [],
   "source": [
    "array2 = np.array([27, 27, 27,27,27])\n",
    "mean = np.mean(array2)\n",
    "print(\"Mean :\",mean)\n",
    "\n",
    "median = np.median(array2)\n",
    "print(\"median :\",median)\n",
    "\n",
    "std = np.std(array2)\n",
    "print(\"std :\",std)\n",
    "\n",
    "var = np.var(array2)\n",
    "print(\"var :\",var)\n"
   ]
  },
  {
   "cell_type": "code",
   "execution_count": 104,
   "id": "cooperative-logging",
   "metadata": {},
   "outputs": [
    {
     "name": "stdout",
     "output_type": "stream",
     "text": [
      "Mean : 25.4\n",
      "median : 27.0\n",
      "std : 4.2708313008125245\n",
      "var : 18.24\n"
     ]
    }
   ],
   "source": [
    "array2 = np.array([17, 27, 27,29,27])\n",
    "mean = np.mean(array2)\n",
    "print(\"Mean :\",mean)\n",
    "\n",
    "median = np.median(array2)\n",
    "print(\"median :\",median)\n",
    "\n",
    "std = np.std(array2)\n",
    "print(\"std :\",std)\n",
    "\n",
    "var = np.var(array2)\n",
    "print(\"var :\",var)\n"
   ]
  },
  {
   "cell_type": "markdown",
   "id": "continuous-quality",
   "metadata": {},
   "source": [
    "#### 5. mode"
   ]
  },
  {
   "cell_type": "code",
   "execution_count": null,
   "id": "governing-apartment",
   "metadata": {},
   "outputs": [],
   "source": [
    "Most Frequent value of an array"
   ]
  },
  {
   "cell_type": "code",
   "execution_count": 106,
   "id": "pleased-chrome",
   "metadata": {},
   "outputs": [],
   "source": [
    "from scipy.stats import mode"
   ]
  },
  {
   "cell_type": "code",
   "execution_count": 112,
   "id": "musical-battle",
   "metadata": {},
   "outputs": [
    {
     "name": "stdout",
     "output_type": "stream",
     "text": [
      "Mode is : ModeResult(mode=array([27]), count=array([3]))\n"
     ]
    },
    {
     "data": {
      "text/plain": [
       "27"
      ]
     },
     "execution_count": 112,
     "metadata": {},
     "output_type": "execute_result"
    }
   ],
   "source": [
    "array2 = np.array([17, 27, 27,29,27])\n",
    "Mode = mode(array2)\n",
    "print(\"Mode is :\",Mode)\n",
    "Mode[0][0]"
   ]
  },
  {
   "cell_type": "code",
   "execution_count": 115,
   "id": "excessive-guitar",
   "metadata": {},
   "outputs": [
    {
     "name": "stdout",
     "output_type": "stream",
     "text": [
      "Mode is : 2\n"
     ]
    },
    {
     "data": {
      "text/plain": [
       "2"
      ]
     },
     "execution_count": 115,
     "metadata": {},
     "output_type": "execute_result"
    }
   ],
   "source": [
    "array2 = np.array([2,3,4,55,5,6,7])\n",
    "Mode = mode(array2)\n",
    "print(\"Mode is :\",Mode[0][0])\n",
    "Mode[0][0]"
   ]
  },
  {
   "cell_type": "code",
   "execution_count": 117,
   "id": "adolescent-forty",
   "metadata": {},
   "outputs": [
    {
     "name": "stdout",
     "output_type": "stream",
     "text": [
      "Mode is : 6\n"
     ]
    },
    {
     "data": {
      "text/plain": [
       "6"
      ]
     },
     "execution_count": 117,
     "metadata": {},
     "output_type": "execute_result"
    }
   ],
   "source": [
    "array2 = np.array([2,3,4,55,5,6,6,7,7])\n",
    "Mode = mode(array2)\n",
    "print(\"Mode is :\",Mode[0][0])\n",
    "Mode[0][0]"
   ]
  },
  {
   "cell_type": "code",
   "execution_count": 119,
   "id": "published-butterfly",
   "metadata": {},
   "outputs": [
    {
     "name": "stdout",
     "output_type": "stream",
     "text": [
      "Mode is : 0\n"
     ]
    },
    {
     "data": {
      "text/plain": [
       "0"
      ]
     },
     "execution_count": 119,
     "metadata": {},
     "output_type": "execute_result"
    }
   ],
   "source": [
    "array2 = np.array([0,0,0,0,1,1,1,1,0])\n",
    "Mode = mode(array2)\n",
    "print(\"Mode is :\",Mode[0][0])\n",
    "Mode[0][0]"
   ]
  },
  {
   "cell_type": "code",
   "execution_count": 121,
   "id": "connected-armenia",
   "metadata": {},
   "outputs": [
    {
     "name": "stdout",
     "output_type": "stream",
     "text": [
      "Mode is : 0\n"
     ]
    },
    {
     "data": {
      "text/plain": [
       "0"
      ]
     },
     "execution_count": 121,
     "metadata": {},
     "output_type": "execute_result"
    }
   ],
   "source": [
    "array2 = np.array([0,0,0,0,1,1,1,1,1,0])\n",
    "Mode = mode(array2)\n",
    "print(\"Mode is :\",Mode[0][0])\n",
    "Mode[0][0]"
   ]
  },
  {
   "cell_type": "code",
   "execution_count": 123,
   "id": "corresponding-disposition",
   "metadata": {},
   "outputs": [
    {
     "name": "stdout",
     "output_type": "stream",
     "text": [
      "Mode is : 1\n"
     ]
    },
    {
     "data": {
      "text/plain": [
       "1"
      ]
     },
     "execution_count": 123,
     "metadata": {},
     "output_type": "execute_result"
    }
   ],
   "source": [
    "array2 = np.array([0,0,0,0,1,1,1,1,1,1,0])\n",
    "Mode = mode(array2)\n",
    "print(\"Mode is :\",Mode[0][0])\n",
    "Mode[0][0]"
   ]
  },
  {
   "cell_type": "code",
   "execution_count": 126,
   "id": "growing-boating",
   "metadata": {},
   "outputs": [
    {
     "name": "stdout",
     "output_type": "stream",
     "text": [
      "[23 20 26 10 13 22 24 27 19 29]\n"
     ]
    },
    {
     "data": {
      "text/plain": [
       "10"
      ]
     },
     "execution_count": 126,
     "metadata": {},
     "output_type": "execute_result"
    }
   ],
   "source": [
    "arr1 = np.random.randint(10,30, size = 10)\n",
    "print(arr1)\n",
    "mode(arr1)[0][0]"
   ]
  },
  {
   "cell_type": "code",
   "execution_count": 127,
   "id": "brown-aluminum",
   "metadata": {},
   "outputs": [
    {
     "name": "stdout",
     "output_type": "stream",
     "text": [
      "[21 10 16 25 25 26 29 27 13 21]\n"
     ]
    },
    {
     "data": {
      "text/plain": [
       "21"
      ]
     },
     "execution_count": 127,
     "metadata": {},
     "output_type": "execute_result"
    }
   ],
   "source": [
    "arr1 = np.random.randint(10,30, size = 10)\n",
    "print(arr1)\n",
    "mode(arr1)[0][0]"
   ]
  },
  {
   "cell_type": "code",
   "execution_count": 132,
   "id": "cathedral-secret",
   "metadata": {},
   "outputs": [
    {
     "name": "stdout",
     "output_type": "stream",
     "text": [
      "[[13 14 14 10]\n",
      " [11 13 10 14]\n",
      " [13 13 12 14]]\n"
     ]
    },
    {
     "data": {
      "text/plain": [
       "array([[13, 13, 10, 14]])"
      ]
     },
     "execution_count": 132,
     "metadata": {},
     "output_type": "execute_result"
    }
   ],
   "source": [
    "arr1 = np.random.randint(10,15, size = (3,4))\n",
    "print(arr1)\n",
    "mode(arr1)[0]"
   ]
  },
  {
   "cell_type": "code",
   "execution_count": 137,
   "id": "every-volume",
   "metadata": {},
   "outputs": [
    {
     "name": "stdout",
     "output_type": "stream",
     "text": [
      "[18 26 14 26 29]\n"
     ]
    }
   ],
   "source": [
    "arr1 = np.random.randint(10,30, size = 5)\n",
    "print(arr1)"
   ]
  },
  {
   "cell_type": "code",
   "execution_count": 139,
   "id": "fundamental-judgment",
   "metadata": {},
   "outputs": [
    {
     "name": "stdout",
     "output_type": "stream",
     "text": [
      "[12 22 23 14 24]\n"
     ]
    },
    {
     "data": {
      "text/plain": [
       "95"
      ]
     },
     "execution_count": 139,
     "metadata": {},
     "output_type": "execute_result"
    }
   ],
   "source": [
    "arr1 = np.random.randint(10,30, size = 5)\n",
    "print(arr1)\n",
    "np.sum(arr1)"
   ]
  },
  {
   "cell_type": "code",
   "execution_count": 141,
   "id": "distinguished-intention",
   "metadata": {},
   "outputs": [
    {
     "data": {
      "text/plain": [
       "24"
      ]
     },
     "execution_count": 141,
     "metadata": {},
     "output_type": "execute_result"
    }
   ],
   "source": [
    "np.max(arr1)"
   ]
  },
  {
   "cell_type": "code",
   "execution_count": 142,
   "id": "monthly-victory",
   "metadata": {},
   "outputs": [
    {
     "data": {
      "text/plain": [
       "12"
      ]
     },
     "execution_count": 142,
     "metadata": {},
     "output_type": "execute_result"
    }
   ],
   "source": [
    "np.min(arr1)"
   ]
  }
 ],
 "metadata": {
  "kernelspec": {
   "display_name": "Python 3 (ipykernel)",
   "language": "python",
   "name": "python3"
  },
  "language_info": {
   "codemirror_mode": {
    "name": "ipython",
    "version": 3
   },
   "file_extension": ".py",
   "mimetype": "text/x-python",
   "name": "python",
   "nbconvert_exporter": "python",
   "pygments_lexer": "ipython3",
   "version": "3.9.12"
  }
 },
 "nbformat": 4,
 "nbformat_minor": 5
}
