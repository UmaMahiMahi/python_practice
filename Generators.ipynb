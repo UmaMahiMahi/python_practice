{
 "cells": [
  {
   "cell_type": "markdown",
   "id": "contemporary-sport",
   "metadata": {},
   "source": [
    "## Generators"
   ]
  },
  {
   "cell_type": "code",
   "execution_count": null,
   "id": "painful-filter",
   "metadata": {},
   "outputs": [],
   "source": []
  },
  {
   "cell_type": "code",
   "execution_count": 2,
   "id": "earlier-brake",
   "metadata": {},
   "outputs": [
    {
     "name": "stdout",
     "output_type": "stream",
     "text": [
      "My Function\n"
     ]
    },
    {
     "data": {
      "text/plain": [
       "100"
      ]
     },
     "execution_count": 2,
     "metadata": {},
     "output_type": "execute_result"
    }
   ],
   "source": [
    "def my_fun():\n",
    "    print(\"My Function\")\n",
    "    return 100\n",
    "\n",
    "my_fun()"
   ]
  },
  {
   "cell_type": "code",
   "execution_count": 12,
   "id": "phantom-basis",
   "metadata": {},
   "outputs": [
    {
     "name": "stdout",
     "output_type": "stream",
     "text": [
      "18\n",
      "Average : 4.5\n"
     ]
    }
   ],
   "source": [
    "list1 = [3,4,5,6]\n",
    "def get_sum(iterable):\n",
    "    sum1 = 0\n",
    "    for i in iterable:\n",
    "        sum1 += i\n",
    "    print(sum1)\n",
    "    return sum1\n",
    "\n",
    "avg = get_sum(list1)/len(list1)\n",
    "print(\"Average :\",avg)"
   ]
  },
  {
   "cell_type": "code",
   "execution_count": 17,
   "id": "pregnant-discrimination",
   "metadata": {},
   "outputs": [
    {
     "name": "stdout",
     "output_type": "stream",
     "text": [
      "18\n",
      "360\n"
     ]
    },
    {
     "data": {
      "text/plain": [
       "(18, 360)"
      ]
     },
     "execution_count": 17,
     "metadata": {},
     "output_type": "execute_result"
    }
   ],
   "source": [
    "list1 = [3,4,5,6]\n",
    "def get_calculation(iterable):\n",
    "    sum1 = 0\n",
    "    mul = 1\n",
    "    for i in iterable:\n",
    "        sum1 += i\n",
    "        mul *= i\n",
    "    print(sum1)\n",
    "    print(mul)\n",
    "    \n",
    "    \n",
    "    \n",
    "    return sum1,mul\n",
    "\n",
    "get_calculation(list1)\n",
    "# avg = get_sum(list1)/len(list1)\n",
    "# print(\"Average :\",avg)"
   ]
  },
  {
   "cell_type": "code",
   "execution_count": 29,
   "id": "essential-refund",
   "metadata": {},
   "outputs": [
    {
     "data": {
      "text/plain": [
       "18"
      ]
     },
     "execution_count": 29,
     "metadata": {},
     "output_type": "execute_result"
    }
   ],
   "source": [
    "list1 = [3,4,5,6]\n",
    "def get_calculation(iterable):\n",
    "    sum1 = 0\n",
    "    mul = 1\n",
    "    for i in iterable:\n",
    "        sum1 += i\n",
    "        mul *= i\n",
    "#     print(sum1)\n",
    "    \n",
    "    yield sum1\n",
    "#     print(mul)\n",
    "    yield mul\n",
    "\n",
    "# Obj = get_calculation(list1)\n",
    "x = iter(get_calculation(list1))\n",
    "next(x)\n"
   ]
  },
  {
   "cell_type": "code",
   "execution_count": 33,
   "id": "revised-appearance",
   "metadata": {},
   "outputs": [
    {
     "name": "stdout",
     "output_type": "stream",
     "text": [
      "0\n",
      "1\n",
      "1\n",
      "2\n",
      "3\n",
      "5\n",
      "8\n",
      "13\n"
     ]
    }
   ],
   "source": [
    "def fibonacci(num):\n",
    "    first, second = 0,1\n",
    "    yield first \n",
    "    for i in range(num-1):\n",
    "        first , second  = second , first + second\n",
    "        yield first\n",
    "        \n",
    "for i in fibonacci(8):\n",
    "    print(i)"
   ]
  },
  {
   "cell_type": "code",
   "execution_count": 36,
   "id": "satisfied-month",
   "metadata": {},
   "outputs": [
    {
     "name": "stdout",
     "output_type": "stream",
     "text": [
      "Fibonacci Series : 0 1 1 2 3 5 8 13 "
     ]
    }
   ],
   "source": [
    "def fibonacci(num):\n",
    "    first, second = 0,1\n",
    "    yield first \n",
    "    for i in range(num-1):\n",
    "        first , second  = second , first + second\n",
    "        yield first\n",
    "        \n",
    "print(\"Fibonacci Series :\",end = ' ')\n",
    "for i in fibonacci(8):\n",
    "    print(i,end = ' ')"
   ]
  },
  {
   "cell_type": "code",
   "execution_count": 37,
   "id": "nasty-complement",
   "metadata": {},
   "outputs": [
    {
     "name": "stdout",
     "output_type": "stream",
     "text": [
      "Fibonacci Series : 0 1 1 2 3 5 8 13 21 34 "
     ]
    }
   ],
   "source": [
    "def fibonacci(num):\n",
    "    first, second = 0,1\n",
    "    yield first \n",
    "    for i in range(num-1):\n",
    "        first , second  = second , first + second\n",
    "        yield first\n",
    "        \n",
    "print(\"Fibonacci Series :\",end = ' ')\n",
    "for i in fibonacci(10):\n",
    "    print(i,end = ' ')"
   ]
  },
  {
   "cell_type": "code",
   "execution_count": null,
   "id": "respective-establishment",
   "metadata": {},
   "outputs": [],
   "source": []
  }
 ],
 "metadata": {
  "kernelspec": {
   "display_name": "Python 3 (ipykernel)",
   "language": "python",
   "name": "python3"
  },
  "language_info": {
   "codemirror_mode": {
    "name": "ipython",
    "version": 3
   },
   "file_extension": ".py",
   "mimetype": "text/x-python",
   "name": "python",
   "nbconvert_exporter": "python",
   "pygments_lexer": "ipython3",
   "version": "3.9.12"
  }
 },
 "nbformat": 4,
 "nbformat_minor": 5
}
