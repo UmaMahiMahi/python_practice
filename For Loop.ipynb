{
 "cells": [
  {
   "cell_type": "markdown",
   "id": "intellectual-eleven",
   "metadata": {},
   "source": [
    "# Loops in Python"
   ]
  },
  {
   "cell_type": "code",
   "execution_count": null,
   "id": "popular-rental",
   "metadata": {},
   "outputs": [],
   "source": [
    "1. For Loop\n",
    "2. While Loop\n",
    "\n",
    "Same functionality with different syntax"
   ]
  },
  {
   "cell_type": "markdown",
   "id": "honest-russia",
   "metadata": {},
   "source": [
    "# For Loop"
   ]
  },
  {
   "cell_type": "code",
   "execution_count": null,
   "id": "communist-deadline",
   "metadata": {},
   "outputs": [],
   "source": [
    "For Loop works like an iterator\n",
    "Iterables(sequence) : string, tuple, list, range, set, dict, numpy array, df, series, etc\n"
   ]
  },
  {
   "cell_type": "markdown",
   "id": "cardiac-signal",
   "metadata": {},
   "source": [
    "### Syntax:"
   ]
  },
  {
   "cell_type": "code",
   "execution_count": null,
   "id": "colonial-dividend",
   "metadata": {},
   "outputs": [],
   "source": [
    "for variable_name in sequence:\n",
    "    statement1\n",
    "    statement2\n",
    "    statement3\n",
    "    \n",
    "for char in sequence:\n",
    "    statement1\n",
    "    statement2\n",
    "    statement3\n",
    "    \n",
    "for value in sequence:\n",
    "    statement1\n",
    "    statement2\n",
    "    statement3\n",
    "    \n",
    "for i in sequence:\n",
    "    statement1\n",
    "    statement2\n",
    "    statement3\n",
    "    \n",
    "for j in sequence:\n",
    "    statement1\n",
    "    statement2\n",
    "    statement3"
   ]
  },
  {
   "cell_type": "code",
   "execution_count": null,
   "id": "falling-volunteer",
   "metadata": {},
   "outputs": [],
   "source": [
    "for index, value in enumerate(sequence,start=0):\n",
    "    print(index, value)\n",
    "    statement1 \n",
    "    statement2\n",
    "    \n",
    "for i, v in enumerate(sequence):\n",
    "    print(index, value)\n",
    "    statement1 \n",
    "    statement2\n",
    "    \n",
    "for ind, val in enumerate(sequence):\n",
    "    print(index, value)\n",
    "    statement1 \n",
    "    statement2"
   ]
  },
  {
   "cell_type": "code",
   "execution_count": 3,
   "id": "failing-writer",
   "metadata": {},
   "outputs": [
    {
     "name": "stdout",
     "output_type": "stream",
     "text": [
      "We are learning Python and Data Science\n",
      "We are learning Python and Data Science\n",
      "We are learning Python and Data Science\n",
      "We are learning Python and Data Science\n",
      "We are learning Python and Data Science\n"
     ]
    }
   ],
   "source": [
    "print(\"We are learning Python and Data Science\")\n",
    "print(\"We are learning Python and Data Science\")\n",
    "print(\"We are learning Python and Data Science\")\n",
    "print(\"We are learning Python and Data Science\")\n",
    "print(\"We are learning Python and Data Science\")"
   ]
  },
  {
   "cell_type": "code",
   "execution_count": 4,
   "id": "brilliant-rescue",
   "metadata": {},
   "outputs": [
    {
     "name": "stdout",
     "output_type": "stream",
     "text": [
      "We are learning Python and Data Science\n",
      "We are learning Python and Data Science\n",
      "We are learning Python and Data Science\n",
      "We are learning Python and Data Science\n",
      "We are learning Python and Data Science\n",
      "We are learning Python and Data Science\n",
      "We are learning Python and Data Science\n",
      "We are learning Python and Data Science\n",
      "We are learning Python and Data Science\n",
      "We are learning Python and Data Science\n"
     ]
    }
   ],
   "source": [
    "print(\"We are learning Python and Data Science\")\n",
    "print(\"We are learning Python and Data Science\")\n",
    "print(\"We are learning Python and Data Science\")\n",
    "print(\"We are learning Python and Data Science\")\n",
    "print(\"We are learning Python and Data Science\")\n",
    "print(\"We are learning Python and Data Science\")\n",
    "print(\"We are learning Python and Data Science\")\n",
    "print(\"We are learning Python and Data Science\")\n",
    "print(\"We are learning Python and Data Science\")\n",
    "print(\"We are learning Python and Data Science\")"
   ]
  },
  {
   "cell_type": "markdown",
   "id": "tight-violence",
   "metadata": {},
   "source": [
    "## 1. range"
   ]
  },
  {
   "cell_type": "code",
   "execution_count": 9,
   "id": "alpha-competition",
   "metadata": {},
   "outputs": [
    {
     "name": "stdout",
     "output_type": "stream",
     "text": [
      "We are learning Python and Data Science\n",
      "We are learning Python and Data Science\n",
      "We are learning Python and Data Science\n",
      "We are learning Python and Data Science\n",
      "We are learning Python and Data Science\n",
      "We are learning Python and Data Science\n",
      "We are learning Python and Data Science\n",
      "We are learning Python and Data Science\n",
      "We are learning Python and Data Science\n",
      "We are learning Python and Data Science\n"
     ]
    }
   ],
   "source": [
    "for i in range(10): # i = 9\n",
    "    print(\"We are learning Python and Data Science\")"
   ]
  },
  {
   "cell_type": "code",
   "execution_count": 14,
   "id": "peripheral-target",
   "metadata": {},
   "outputs": [
    {
     "name": "stdout",
     "output_type": "stream",
     "text": [
      "**********************************************************************\n",
      "We are learning Python and Data Science\n",
      "**********************************************************************\n",
      "\n",
      "**********************************************************************\n",
      "We are learning Python and Data Science\n",
      "**********************************************************************\n",
      "\n",
      "**********************************************************************\n",
      "We are learning Python and Data Science\n",
      "**********************************************************************\n",
      "\n",
      "**********************************************************************\n",
      "We are learning Python and Data Science\n",
      "**********************************************************************\n",
      "\n",
      "**********************************************************************\n",
      "We are learning Python and Data Science\n",
      "**********************************************************************\n",
      "\n"
     ]
    }
   ],
   "source": [
    "for i in range(5): # i = 1\n",
    "    print(\"*\"*70)\n",
    "    print(\"We are learning Python and Data Science\")\n",
    "    print(\"*\"*70)\n",
    "    print()"
   ]
  },
  {
   "cell_type": "markdown",
   "id": "handled-laser",
   "metadata": {},
   "source": [
    "### 2. string"
   ]
  },
  {
   "cell_type": "code",
   "execution_count": 16,
   "id": "drawn-selling",
   "metadata": {},
   "outputs": [
    {
     "name": "stdout",
     "output_type": "stream",
     "text": [
      "p\n",
      "y\n",
      "t\n",
      "h\n",
      "o\n",
      "n\n"
     ]
    }
   ],
   "source": [
    "string = 'python'\n",
    "for char in string:\n",
    "    print(char)"
   ]
  },
  {
   "cell_type": "code",
   "execution_count": 22,
   "id": "finite-reviewer",
   "metadata": {},
   "outputs": [
    {
     "name": "stdout",
     "output_type": "stream",
     "text": [
      "p\n",
      "y\n",
      "t\n",
      "h\n",
      "o\n",
      "n\n"
     ]
    }
   ],
   "source": [
    "string = 'python'\n",
    "for i in string:\n",
    "    print(i)"
   ]
  },
  {
   "cell_type": "code",
   "execution_count": 25,
   "id": "light-settle",
   "metadata": {},
   "outputs": [
    {
     "name": "stdout",
     "output_type": "stream",
     "text": [
      "p\n",
      "y\n",
      "t\n",
      "h\n",
      "o\n",
      "n\n"
     ]
    }
   ],
   "source": [
    "string = 'python'\n",
    "for i,char in enumerate(string):\n",
    "    print(char)"
   ]
  },
  {
   "cell_type": "code",
   "execution_count": 27,
   "id": "original-greek",
   "metadata": {},
   "outputs": [
    {
     "name": "stdout",
     "output_type": "stream",
     "text": [
      "0 p\n",
      "1 y\n",
      "2 t\n",
      "3 h\n",
      "4 o\n",
      "5 n\n"
     ]
    }
   ],
   "source": [
    "string = 'python'\n",
    "for i,char in enumerate(string):\n",
    "    print(i,char)"
   ]
  },
  {
   "cell_type": "code",
   "execution_count": 30,
   "id": "educational-detector",
   "metadata": {},
   "outputs": [
    {
     "name": "stdout",
     "output_type": "stream",
     "text": [
      "10 p\n",
      "11 y\n",
      "12 t\n",
      "13 h\n",
      "14 o\n",
      "15 n\n"
     ]
    }
   ],
   "source": [
    "string = 'python'\n",
    "for i,char in enumerate(string,start=10):\n",
    "    print(i,char)"
   ]
  },
  {
   "cell_type": "code",
   "execution_count": 34,
   "id": "canadian-movement",
   "metadata": {},
   "outputs": [
    {
     "name": "stdout",
     "output_type": "stream",
     "text": [
      "Char at index 0 is p\n",
      "Char at index 1 is y\n",
      "Char at index 2 is t\n",
      "Char at index 3 is h\n",
      "Char at index 4 is o\n",
      "Char at index 5 is n\n"
     ]
    }
   ],
   "source": [
    "string = 'python'\n",
    "for i,char in enumerate(string):\n",
    "    print(f\"Char at index {i} is {char}\")"
   ]
  },
  {
   "cell_type": "code",
   "execution_count": 36,
   "id": "integral-warrant",
   "metadata": {},
   "outputs": [
    {
     "name": "stdout",
     "output_type": "stream",
     "text": [
      "Char at index 0 is p\n",
      "Char at index 1 is y\n",
      "Char at index 2 is t\n",
      "Char at index 3 is h\n",
      "Char at index 4 is o\n",
      "Char at index 5 is n\n"
     ]
    }
   ],
   "source": [
    "string = 'python'\n",
    "for i,char in enumerate(string):\n",
    "    print(\"Char at index {} is {}\".format(i,char))"
   ]
  },
  {
   "cell_type": "markdown",
   "id": "innovative-directory",
   "metadata": {},
   "source": [
    "### 3. list"
   ]
  },
  {
   "cell_type": "code",
   "execution_count": 38,
   "id": "sweet-engagement",
   "metadata": {},
   "outputs": [
    {
     "name": "stdout",
     "output_type": "stream",
     "text": [
      "3\n",
      "4\n",
      "6\n",
      "7\n",
      "10\n",
      "20\n"
     ]
    }
   ],
   "source": [
    "list1 = [3,4,6,7,10,20]\n",
    "\n",
    "for i in list1:\n",
    "    print(i)"
   ]
  },
  {
   "cell_type": "code",
   "execution_count": 40,
   "id": "pleased-cutting",
   "metadata": {},
   "outputs": [
    {
     "name": "stdout",
     "output_type": "stream",
     "text": [
      "3\n",
      "4\n",
      "6\n",
      "7\n",
      "10\n",
      "20\n"
     ]
    }
   ],
   "source": [
    "list1 = [3,4,6,7,10,20]\n",
    "\n",
    "for item in list1:\n",
    "    print(item)"
   ]
  },
  {
   "cell_type": "code",
   "execution_count": 44,
   "id": "devoted-yellow",
   "metadata": {},
   "outputs": [
    {
     "name": "stdout",
     "output_type": "stream",
     "text": [
      "13\n",
      "14\n",
      "16\n",
      "17\n",
      "20\n",
      "30\n"
     ]
    }
   ],
   "source": [
    "list1 = [3,4,6,7,10,20]\n",
    "\n",
    "for val in list1:\n",
    "    print(val + 10)"
   ]
  },
  {
   "cell_type": "code",
   "execution_count": 48,
   "id": "written-horizontal",
   "metadata": {},
   "outputs": [
    {
     "name": "stdout",
     "output_type": "stream",
     "text": [
      "PHY\n",
      "CHE\n",
      "MATH\n",
      "BIO\n",
      "ENG\n"
     ]
    }
   ],
   "source": [
    "list1 = ['Phy',\"Che\", \"Math\", \"bio\", \"Eng\"]\n",
    "\n",
    "for val in list1:\n",
    "    print(val.upper())"
   ]
  },
  {
   "cell_type": "markdown",
   "id": "inner-overview",
   "metadata": {},
   "source": [
    "# Loop Control Statements"
   ]
  },
  {
   "cell_type": "code",
   "execution_count": null,
   "id": "alive-trailer",
   "metadata": {},
   "outputs": [],
   "source": [
    "Used to control the flow of loop execution on specified condition"
   ]
  },
  {
   "cell_type": "code",
   "execution_count": null,
   "id": "foreign-token",
   "metadata": {},
   "outputs": [],
   "source": [
    "1. break\n",
    "2. continue\n",
    "3. pass"
   ]
  },
  {
   "cell_type": "markdown",
   "id": "sustainable-hammer",
   "metadata": {},
   "source": [
    "### 1. Break Statement"
   ]
  },
  {
   "cell_type": "code",
   "execution_count": null,
   "id": "affected-smith",
   "metadata": {},
   "outputs": [],
   "source": [
    "Used to Termintae Execution of Loop\n",
    "\n"
   ]
  },
  {
   "cell_type": "code",
   "execution_count": 50,
   "id": "fleet-admission",
   "metadata": {},
   "outputs": [
    {
     "name": "stdout",
     "output_type": "stream",
     "text": [
      "5\n",
      "6\n",
      "7\n",
      "8\n",
      "9\n"
     ]
    }
   ],
   "source": [
    "for i in range(5,10):\n",
    "    print(i)"
   ]
  },
  {
   "cell_type": "code",
   "execution_count": 53,
   "id": "elegant-valuable",
   "metadata": {},
   "outputs": [
    {
     "name": "stdout",
     "output_type": "stream",
     "text": [
      "5 >> 25\n",
      "6 >> 36\n",
      "7 >> 49\n",
      "8 >> 64\n",
      "9 >> 81\n"
     ]
    }
   ],
   "source": [
    "for i in range(5,10):\n",
    "    sqr = i ** 2\n",
    "    print(i, '>>',sqr)"
   ]
  },
  {
   "cell_type": "code",
   "execution_count": 57,
   "id": "portable-hamburg",
   "metadata": {},
   "outputs": [
    {
     "name": "stdout",
     "output_type": "stream",
     "text": [
      "5 >> 25\n",
      "6 >> 36\n",
      "7 >> 49\n",
      "Found required Number\n",
      "8 >> 64\n",
      "9 >> 81\n"
     ]
    }
   ],
   "source": [
    "for i in range(5,10):\n",
    "    if i == 8:\n",
    "        print('Found required Number')\n",
    "    sqr = i ** 2\n",
    "    print(i, '>>',sqr)\n",
    "    "
   ]
  },
  {
   "cell_type": "code",
   "execution_count": 59,
   "id": "nasty-sleeping",
   "metadata": {},
   "outputs": [
    {
     "name": "stdout",
     "output_type": "stream",
     "text": [
      "5 >> 25\n",
      "6 >> 36\n",
      "7 >> 49\n",
      "Found required Number\n"
     ]
    }
   ],
   "source": [
    "for i in range(5,10): # i = 8\n",
    "    if i == 8: # True\n",
    "        print('Found required Number')\n",
    "        break\n",
    "        \n",
    "    sqr = i ** 2\n",
    "    print(i, '>>',sqr)\n",
    "    "
   ]
  },
  {
   "cell_type": "code",
   "execution_count": 61,
   "id": "joined-navigation",
   "metadata": {},
   "outputs": [
    {
     "name": "stdout",
     "output_type": "stream",
     "text": [
      "5 >> 25\n",
      "6 >> 36\n",
      "7 >> 49\n"
     ]
    }
   ],
   "source": [
    "for i in range(5,10): # i = 8\n",
    "    if i == 8: # True\n",
    "        break\n",
    "        print('Found required Number')\n",
    "        \n",
    "    sqr = i ** 2\n",
    "    print(i, '>>',sqr)\n",
    "    "
   ]
  },
  {
   "cell_type": "code",
   "execution_count": 65,
   "id": "occupied-nepal",
   "metadata": {},
   "outputs": [
    {
     "name": "stdout",
     "output_type": "stream",
     "text": [
      "i == 10\n",
      "i == 11\n",
      "i == 12\n",
      "i == 13\n",
      "i == 14\n",
      "i == 15\n",
      "Hello\n"
     ]
    }
   ],
   "source": [
    "for i in range(10,20): # i = 15\n",
    "    print(f'i == {i}') \n",
    "    if i == 15: # True\n",
    "        break\n",
    "        \n",
    "print(\"Hello\")"
   ]
  },
  {
   "cell_type": "code",
   "execution_count": 67,
   "id": "future-writer",
   "metadata": {},
   "outputs": [
    {
     "name": "stdout",
     "output_type": "stream",
     "text": [
      "i == 10\n",
      "i == 11\n",
      "i == 12\n",
      "i == 13\n",
      "i == 14\n",
      "i == 15\n",
      "Python\n",
      "Machine Learning\n"
     ]
    }
   ],
   "source": [
    "for i in range(10,20): # i = 15\n",
    "    print(f'i == {i}') \n",
    "    if i == 15:\n",
    "        print(\"Python\")\n",
    "        print(\"Machine Learning\")\n",
    "        break\n",
    "        \n",
    "        \n"
   ]
  },
  {
   "cell_type": "code",
   "execution_count": 69,
   "id": "handmade-ending",
   "metadata": {},
   "outputs": [
    {
     "name": "stdout",
     "output_type": "stream",
     "text": [
      "i == 10\n",
      "i == 11\n",
      "i == 12\n",
      "i == 13\n",
      "i == 14\n",
      "i == 15\n",
      "Python\n",
      "Machine Learning\n",
      "i == 16\n",
      "i == 17\n",
      "i == 18\n",
      "i == 19\n"
     ]
    }
   ],
   "source": [
    "for i in range(10,20): # i = 15\n",
    "    print(f'i == {i}') \n",
    "    if i == 15:\n",
    "        print(\"Python\")\n",
    "        print(\"Machine Learning\")"
   ]
  },
  {
   "cell_type": "code",
   "execution_count": 71,
   "id": "accepting-doctor",
   "metadata": {},
   "outputs": [
    {
     "name": "stdout",
     "output_type": "stream",
     "text": [
      "i == 10\n",
      "i == 11\n",
      "i == 12\n",
      "i == 13\n",
      "i == 14\n",
      "i == 15\n",
      "Python\n"
     ]
    }
   ],
   "source": [
    "for i in range(10,20): # i = 15\n",
    "    print(f'i == {i}') \n",
    "    if i == 15:\n",
    "        print(\"Python\")\n",
    "        break\n",
    "        print(\"Machine Learning\")"
   ]
  },
  {
   "cell_type": "code",
   "execution_count": 73,
   "id": "aquatic-joyce",
   "metadata": {},
   "outputs": [
    {
     "name": "stdout",
     "output_type": "stream",
     "text": [
      "i == 10\n",
      "i == 11\n",
      "i == 12\n",
      "i == 13\n",
      "i == 14\n",
      "i == 15\n"
     ]
    }
   ],
   "source": [
    "for i in range(10,20): # i = 15\n",
    "    print(f'i == {i}') \n",
    "    if i == 15:\n",
    "        break\n",
    "        print(\"Python\")\n",
    "        break\n",
    "        print(\"Machine Learning\")"
   ]
  },
  {
   "cell_type": "code",
   "execution_count": 77,
   "id": "similar-programmer",
   "metadata": {},
   "outputs": [
    {
     "name": "stdout",
     "output_type": "stream",
     "text": [
      "i == 0\n",
      "Python\n",
      "Machine Learning\n",
      "\n",
      "i == 1\n",
      "Python\n",
      "Machine Learning\n",
      "\n",
      "i == 2\n",
      "Python\n",
      "Machine Learning\n",
      "\n",
      "i == 3\n",
      "Python\n",
      "Machine Learning\n",
      "\n",
      "i == 4\n",
      "Python\n",
      "Machine Learning\n",
      "\n"
     ]
    }
   ],
   "source": [
    "for i in range(0,5):\n",
    "    print(f'i == {i}') \n",
    "    print(\"Python\")\n",
    "    print(\"Machine Learning\")\n",
    "    print()"
   ]
  },
  {
   "cell_type": "code",
   "execution_count": 78,
   "id": "systematic-filename",
   "metadata": {},
   "outputs": [
    {
     "name": "stdout",
     "output_type": "stream",
     "text": [
      "i == 0\n",
      "Python\n"
     ]
    }
   ],
   "source": [
    "for i in range(0,5):\n",
    "    print(f'i == {i}') \n",
    "    print(\"Python\")\n",
    "    break\n",
    "    print(\"Machine Learning\")\n",
    "    print()"
   ]
  },
  {
   "cell_type": "markdown",
   "id": "natural-flour",
   "metadata": {},
   "source": [
    "### 2. continue Statement"
   ]
  },
  {
   "cell_type": "code",
   "execution_count": null,
   "id": "empty-pantyhose",
   "metadata": {},
   "outputs": [],
   "source": [
    "Used to stop current iteration and continue with next iteration"
   ]
  },
  {
   "cell_type": "code",
   "execution_count": 82,
   "id": "round-museum",
   "metadata": {},
   "outputs": [
    {
     "name": "stdout",
     "output_type": "stream",
     "text": [
      "i == 0\n",
      "Data Science\n",
      "Deep Learning\n",
      "\n",
      "i == 1\n",
      "Data Science\n",
      "Deep Learning\n",
      "\n",
      "i == 2\n",
      "Python\n",
      "Machine Learning\n",
      "Data Science\n",
      "Deep Learning\n",
      "\n",
      "i == 3\n",
      "Data Science\n",
      "Deep Learning\n",
      "\n",
      "i == 4\n",
      "Data Science\n",
      "Deep Learning\n",
      "\n"
     ]
    }
   ],
   "source": [
    "for i in range(0,5):  # i = 2\n",
    "    print(f'i == {i}') \n",
    "    if i == 2: # True\n",
    "        print(\"Python\")\n",
    "        print(\"Machine Learning\")\n",
    "        \n",
    "    print(\"Data Science\")\n",
    "    print('Deep Learning')\n",
    "    print()"
   ]
  },
  {
   "cell_type": "code",
   "execution_count": 85,
   "id": "varied-people",
   "metadata": {},
   "outputs": [
    {
     "name": "stdout",
     "output_type": "stream",
     "text": [
      "i == 0\n",
      "Data Science\n",
      "Deep Learning\n",
      "\n",
      "i == 1\n",
      "Data Science\n",
      "Deep Learning\n",
      "\n",
      "i == 2\n",
      "Python\n",
      "Machine Learning\n",
      "i == 3\n",
      "Data Science\n",
      "Deep Learning\n",
      "\n",
      "i == 4\n",
      "Data Science\n",
      "Deep Learning\n",
      "\n"
     ]
    }
   ],
   "source": [
    "for i in range(0,5):  # i = 3\n",
    "    print(f'i == {i}') \n",
    "    if i == 2: # True\n",
    "        print(\"Python\")\n",
    "        print(\"Machine Learning\")\n",
    "        continue ## Stop current iteration\n",
    "        \n",
    "    print(\"Data Science\")\n",
    "    print('Deep Learning')\n",
    "    print()"
   ]
  },
  {
   "cell_type": "markdown",
   "id": "developing-independence",
   "metadata": {},
   "source": [
    "### 3. pass statement"
   ]
  },
  {
   "cell_type": "code",
   "execution_count": null,
   "id": "valuable-dryer",
   "metadata": {},
   "outputs": [],
   "source": [
    "Used to avoid an errors \n",
    "Block >> if, for, while, try, except, fun, class"
   ]
  },
  {
   "cell_type": "code",
   "execution_count": 89,
   "id": "standing-independence",
   "metadata": {},
   "outputs": [
    {
     "name": "stdout",
     "output_type": "stream",
     "text": [
      "i == 0\n",
      "Data Science\n",
      "Deep Learning\n",
      "\n",
      "i == 1\n",
      "Data Science\n",
      "Deep Learning\n",
      "\n",
      "i == 2\n",
      "Python\n",
      "Machine Learning\n",
      "Data Science\n",
      "Deep Learning\n",
      "\n",
      "i == 3\n",
      "Data Science\n",
      "Deep Learning\n",
      "\n",
      "i == 4\n",
      "Data Science\n",
      "Deep Learning\n",
      "\n"
     ]
    }
   ],
   "source": [
    "for i in range(0,5):  # i = 3\n",
    "    print(f'i == {i}') \n",
    "    if i == 2: # True\n",
    "        print(\"Python\")\n",
    "        print(\"Machine Learning\")\n",
    "        pass\n",
    "        \n",
    "    print(\"Data Science\")\n",
    "    print('Deep Learning')\n",
    "    print()"
   ]
  },
  {
   "cell_type": "code",
   "execution_count": 92,
   "id": "cross-caution",
   "metadata": {},
   "outputs": [
    {
     "name": "stdout",
     "output_type": "stream",
     "text": [
      "i == 0\n",
      "Data Science\n",
      "Deep Learning\n",
      "\n",
      "i == 1\n",
      "Data Science\n",
      "Deep Learning\n",
      "\n",
      "i == 2\n",
      "Data Science\n",
      "Deep Learning\n",
      "\n",
      "i == 3\n",
      "Data Science\n",
      "Deep Learning\n",
      "\n",
      "i == 4\n",
      "Data Science\n",
      "Deep Learning\n",
      "\n"
     ]
    }
   ],
   "source": [
    "for i in range(0,5):  # i = 3\n",
    "    print(f'i == {i}') \n",
    "    if i == 2: \n",
    "        pass\n",
    "#         print(\"Python\")\n",
    "#         print(\"Machine Learning\")\n",
    "        \n",
    "    print(\"Data Science\")\n",
    "    print('Deep Learning')\n",
    "    print()"
   ]
  },
  {
   "cell_type": "code",
   "execution_count": 96,
   "id": "differential-probability",
   "metadata": {},
   "outputs": [
    {
     "name": "stdout",
     "output_type": "stream",
     "text": [
      "0\n",
      "1\n",
      "2\n",
      "3\n",
      "4\n",
      "5\n",
      "6\n",
      "7\n",
      "8\n",
      "9\n"
     ]
    }
   ],
   "source": [
    "for i in range(10):\n",
    "    pass\n",
    "    print(i)"
   ]
  },
  {
   "cell_type": "code",
   "execution_count": 100,
   "id": "filled-webster",
   "metadata": {},
   "outputs": [
    {
     "data": {
      "text/plain": [
       "[2, 6, 4.56, 9, 'python', 100, 'Machine Learning', 1.23, 8.9, 45]"
      ]
     },
     "execution_count": 100,
     "metadata": {},
     "output_type": "execute_result"
    }
   ],
   "source": [
    "list1 = [2,6,4.56,9,'python', 100, 'Machine Learning', 1.23,8.9 ,45]\n",
    "list1"
   ]
  },
  {
   "cell_type": "code",
   "execution_count": 114,
   "id": "heavy-league",
   "metadata": {},
   "outputs": [
    {
     "name": "stdout",
     "output_type": "stream",
     "text": [
      "Int List    : [2, 6, 9, 100, 45] 5\n",
      "Float List  : [4.56, 1.23, 8.9] 3\n",
      "String List : ['python', 'Machine Learning'] 2\n"
     ]
    }
   ],
   "source": [
    "list1 = [2,6,4.56,9,'python', 100, 'Machine Learning', 1.23,8.9 ,45]\n",
    "int_list = []\n",
    "float_list = list()\n",
    "str_list = []\n",
    "\n",
    "for val in list1:\n",
    "    if type(val) == int:\n",
    "        int_list.append(val)\n",
    "        \n",
    "    elif type(val)== float:\n",
    "        float_list.append(val)\n",
    "        \n",
    "    else:\n",
    "        str_list.append(val)\n",
    "        \n",
    "print(\"Int List    :\",int_list,len(int_list))\n",
    "print(\"Float List  :\",float_list,len(float_list))\n",
    "print(\"String List :\", str_list,len(str_list))"
   ]
  },
  {
   "cell_type": "code",
   "execution_count": 163,
   "id": "pressed-edgar",
   "metadata": {},
   "outputs": [
    {
     "name": "stdout",
     "output_type": "stream",
     "text": [
      "Int List    : [2, 6] 2\n",
      "Float List  : [4.56] 1\n",
      "String List : [] 0\n"
     ]
    }
   ],
   "source": [
    "list1 = [2, 6 ,4.56,9,'python', 100, 'Machine Learning', 1.23,8.9 ,45]\n",
    "int_list = []\n",
    "float_list = list()\n",
    "str_list = []\n",
    "\n",
    "for val in list1:\n",
    "    if type(val) == int:\n",
    "        int_list.append(val)\n",
    "        continue\n",
    "        \n",
    "    elif type(val)== float:\n",
    "        float_list.append(val)\n",
    "        break\n",
    "        \n",
    "    else:\n",
    "        str_list.append(val)\n",
    "        \n",
    "        \n",
    "print(\"Int List    :\",int_list,len(int_list))\n",
    "print(\"Float List  :\",float_list,len(float_list))\n",
    "print(\"String List :\", str_list,len(str_list))"
   ]
  },
  {
   "cell_type": "code",
   "execution_count": 124,
   "id": "anonymous-reform",
   "metadata": {},
   "outputs": [
    {
     "name": "stdout",
     "output_type": "stream",
     "text": [
      "Int List    : [2, 6, 9, 100, 45] 5\n",
      "Float List  : [4.56, 1.23, 8.9] 3\n",
      "String List : ['python', 'Machine Learning'] 2\n"
     ]
    }
   ],
   "source": [
    "list1 = [2, 6 ,4.56,9,'python', 100, 'Machine Learning', 1.23,8.9 ,45]\n",
    "int_list = []\n",
    "float_list = []\n",
    "str_list = []\n",
    "\n",
    "for val in list1:\n",
    "    if type(val) == int:\n",
    "        int_list.append(val)\n",
    "        \n",
    "    elif type(val)== float:\n",
    "        float_list.append(val)\n",
    "        \n",
    "    else:\n",
    "        str_list.append(val)\n",
    "        \n",
    "        \n",
    "print(\"Int List    :\",int_list,len(int_list))\n",
    "print(\"Float List  :\",float_list,len(float_list))\n",
    "print(\"String List :\", str_list,len(str_list))"
   ]
  },
  {
   "cell_type": "code",
   "execution_count": 125,
   "id": "global-lending",
   "metadata": {},
   "outputs": [
    {
     "name": "stdout",
     "output_type": "stream",
     "text": [
      "Int List    : [2, 6, 9, 100, 45] 5\n",
      "Float List  : [4.56, 1.23, 8.9] 3\n",
      "String List : ['python', 'Machine Learning'] 2\n"
     ]
    }
   ],
   "source": [
    "list1 = [2, 6 ,4.56,9,'python', 100, 'Machine Learning', 1.23,8.9 ,45]\n",
    "int_list =   [val for val in list1  if type(val) == int ]\n",
    "float_list = [val for val in list1  if type(val) == float ]\n",
    "str_list =   [val for val in list1  if type(val) == str ]\n",
    "        \n",
    "print(\"Int List    :\",int_list,len(int_list))\n",
    "print(\"Float List  :\",float_list,len(float_list))\n",
    "print(\"String List :\", str_list,len(str_list))"
   ]
  },
  {
   "cell_type": "markdown",
   "id": "radical-indie",
   "metadata": {},
   "source": [
    "# For-Else"
   ]
  },
  {
   "cell_type": "code",
   "execution_count": null,
   "id": "third-panic",
   "metadata": {},
   "outputs": [],
   "source": [
    "Else Block will execute only when the for loop completes its all iterations"
   ]
  },
  {
   "cell_type": "code",
   "execution_count": 129,
   "id": "female-extra",
   "metadata": {},
   "outputs": [
    {
     "name": "stdout",
     "output_type": "stream",
     "text": [
      "0\n",
      "1\n",
      "2\n",
      "3\n",
      "4\n",
      "Loop Completed\n"
     ]
    }
   ],
   "source": [
    "for i in range(5): # 5\n",
    "    print(i)\n",
    "    \n",
    "else:\n",
    "    print(\"Loop Completed\")"
   ]
  },
  {
   "cell_type": "code",
   "execution_count": 131,
   "id": "suited-classroom",
   "metadata": {},
   "outputs": [
    {
     "name": "stdout",
     "output_type": "stream",
     "text": [
      "i == 0\n",
      "i == 1\n",
      "i == 2\n",
      "i == 3\n",
      "i == 4\n",
      "Loop Completed\n"
     ]
    }
   ],
   "source": [
    "for i in range(5): # 5\n",
    "    print(f\"i == {i}\")\n",
    "    \n",
    "    \n",
    "else:\n",
    "    print(\"Loop Completed\")"
   ]
  },
  {
   "cell_type": "code",
   "execution_count": 133,
   "id": "funky-paper",
   "metadata": {},
   "outputs": [
    {
     "name": "stdout",
     "output_type": "stream",
     "text": [
      "i == 0\n",
      "i == 1\n",
      "i == 2\n",
      "i == 3\n"
     ]
    }
   ],
   "source": [
    "for i in range(5): # 5\n",
    "    print(f\"i == {i}\")\n",
    "    if i == 3:\n",
    "        break\n",
    "    \n",
    "else:\n",
    "    print(\"Loop Completed\")"
   ]
  },
  {
   "cell_type": "code",
   "execution_count": 136,
   "id": "possible-upper",
   "metadata": {},
   "outputs": [
    {
     "name": "stdout",
     "output_type": "stream",
     "text": [
      "i == 0\n",
      "Hello\n",
      "i == 1\n",
      "Hello\n",
      "i == 2\n",
      "Hello\n",
      "i == 3\n",
      "Python\n",
      "i == 4\n",
      "Hello\n",
      "Loop Completed\n"
     ]
    }
   ],
   "source": [
    "for i in range(5): # 5\n",
    "    print(f\"i == {i}\")\n",
    "    if i == 3:\n",
    "        print(\"Python\")\n",
    "        continue\n",
    "        \n",
    "    print(\"Hello\")\n",
    "    \n",
    "else:\n",
    "    print(\"Loop Completed\")"
   ]
  },
  {
   "cell_type": "code",
   "execution_count": 138,
   "id": "better-professor",
   "metadata": {},
   "outputs": [
    {
     "name": "stdout",
     "output_type": "stream",
     "text": [
      "i == 0\n",
      "Hello\n",
      "i == 1\n",
      "Hello\n",
      "i == 2\n",
      "Hello\n",
      "i == 3\n",
      "Python\n"
     ]
    }
   ],
   "source": [
    "for i in range(5): # 5\n",
    "    print(f\"i == {i}\")\n",
    "    if i == 3:\n",
    "        print(\"Python\")\n",
    "        break\n",
    "        \n",
    "    print(\"Hello\")\n",
    "    \n",
    "else:\n",
    "    print(\"Loop Completed\")"
   ]
  },
  {
   "cell_type": "code",
   "execution_count": 139,
   "id": "large-express",
   "metadata": {},
   "outputs": [
    {
     "name": "stdout",
     "output_type": "stream",
     "text": [
      "i == 0\n",
      "Hello\n",
      "i == 1\n",
      "Hello\n",
      "i == 2\n",
      "Hello\n",
      "i == 3\n",
      "Hello\n",
      "i == 4\n",
      "Hello\n",
      "Loop Completed\n"
     ]
    }
   ],
   "source": [
    "for i in range(5): # 5\n",
    "    print(f\"i == {i}\")\n",
    "    if i == 30:\n",
    "        print(\"Python\")\n",
    "        break\n",
    "        \n",
    "    print(\"Hello\")\n",
    "    \n",
    "else:\n",
    "    print(\"Loop Completed\")"
   ]
  },
  {
   "cell_type": "markdown",
   "id": "square-preparation",
   "metadata": {},
   "source": [
    "# Factorial"
   ]
  },
  {
   "cell_type": "code",
   "execution_count": null,
   "id": "catholic-tuning",
   "metadata": {},
   "outputs": [],
   "source": [
    "5!  >> 5 * 4 * 3 * 2 * 1\n",
    "4!  >> 4 * 3 * 2 * 1\n",
    "3!  >> 3 * 2 * 1\n",
    "2!  >> 2 * 1\n",
    "1!  >> 1\n",
    "0!  >> 1"
   ]
  },
  {
   "cell_type": "code",
   "execution_count": 145,
   "id": "formed-character",
   "metadata": {},
   "outputs": [
    {
     "name": "stdout",
     "output_type": "stream",
     "text": [
      "120\n"
     ]
    }
   ],
   "source": [
    "n = 5 \n",
    "fact = 1\n",
    "for i in range(1,n+1): # i = 3\n",
    "    fact = fact * i # 2 * 3\n",
    "print(fact)"
   ]
  },
  {
   "cell_type": "code",
   "execution_count": 148,
   "id": "bizarre-address",
   "metadata": {},
   "outputs": [
    {
     "name": "stdout",
     "output_type": "stream",
     "text": [
      "Factorial of 5 is 120\n"
     ]
    }
   ],
   "source": [
    "n = 5 \n",
    "fact = 1\n",
    "for i in range(1,n+1):\n",
    "    fact = fact * i\n",
    "\n",
    "print(f\"Factorial of {n} is {fact}\")"
   ]
  },
  {
   "cell_type": "code",
   "execution_count": 151,
   "id": "moderate-protest",
   "metadata": {},
   "outputs": [
    {
     "name": "stdout",
     "output_type": "stream",
     "text": [
      "Enter the value of n : 8\n",
      "Factorial of 8 is 40320\n"
     ]
    }
   ],
   "source": [
    "n = int(input(\"Enter the value of n : \"))\n",
    "fact = 1\n",
    "for i in range(1,n+1):\n",
    "    fact = fact * i\n",
    "\n",
    "print(f\"Factorial of {n} is {fact}\")"
   ]
  },
  {
   "cell_type": "code",
   "execution_count": 152,
   "id": "northern-detail",
   "metadata": {},
   "outputs": [
    {
     "name": "stdout",
     "output_type": "stream",
     "text": [
      "Enter the value of n : 0\n",
      "Factorial of 0 is 1\n"
     ]
    }
   ],
   "source": [
    "n = int(input(\"Enter the value of n : \"))\n",
    "fact = 1\n",
    "for i in range(1,n+1):\n",
    "    fact = fact * i\n",
    "\n",
    "print(f\"Factorial of {n} is {fact}\")"
   ]
  },
  {
   "cell_type": "code",
   "execution_count": 156,
   "id": "jewish-timber",
   "metadata": {},
   "outputs": [
    {
     "name": "stdout",
     "output_type": "stream",
     "text": [
      "Enter the value of n : -7\n",
      "Factorial does not exist\n"
     ]
    }
   ],
   "source": [
    "n = int(input(\"Enter the value of n : \"))\n",
    "fact = 1\n",
    "if n > 0:\n",
    "    for i in range(1,n+1):\n",
    "        fact = fact * i\n",
    "    print(f\"Factorial of {n} is {fact}\")\n",
    "    \n",
    "else:\n",
    "    print(\"Factorial does not exist\")"
   ]
  },
  {
   "cell_type": "code",
   "execution_count": 161,
   "id": "sitting-award",
   "metadata": {},
   "outputs": [
    {
     "name": "stdout",
     "output_type": "stream",
     "text": [
      "120\n"
     ]
    }
   ],
   "source": [
    "n = 5 \n",
    "fact = 1\n",
    "for i in range(5,0,-1):\n",
    "    fact *= i\n",
    "print(fact)"
   ]
  },
  {
   "cell_type": "code",
   "execution_count": null,
   "id": "japanese-magnitude",
   "metadata": {},
   "outputs": [],
   "source": []
  }
 ],
 "metadata": {
  "kernelspec": {
   "display_name": "Python 3 (ipykernel)",
   "language": "python",
   "name": "python3"
  },
  "language_info": {
   "codemirror_mode": {
    "name": "ipython",
    "version": 3
   },
   "file_extension": ".py",
   "mimetype": "text/x-python",
   "name": "python",
   "nbconvert_exporter": "python",
   "pygments_lexer": "ipython3",
   "version": "3.9.12"
  }
 },
 "nbformat": 4,
 "nbformat_minor": 5
}
