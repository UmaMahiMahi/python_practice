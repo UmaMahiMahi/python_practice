{
 "cells": [
  {
   "cell_type": "markdown",
   "id": "severe-nightmare",
   "metadata": {},
   "source": [
    "### File Handling"
   ]
  },
  {
   "cell_type": "code",
   "execution_count": null,
   "id": "regulation-maldives",
   "metadata": {},
   "outputs": [],
   "source": []
  },
  {
   "cell_type": "code",
   "execution_count": null,
   "id": "bound-yorkshire",
   "metadata": {},
   "outputs": [],
   "source": [
    "Text\n",
    "JSON\n",
    "ML Model (.pkl, .pickle)\n",
    "HL(.h5)\n",
    "Objects(One Hot Encoding, Scaling)"
   ]
  },
  {
   "cell_type": "markdown",
   "id": "legal-factor",
   "metadata": {},
   "source": [
    "### File Operations"
   ]
  },
  {
   "cell_type": "code",
   "execution_count": null,
   "id": "regional-dublin",
   "metadata": {},
   "outputs": [],
   "source": [
    "1. read\n",
    "2. write\n",
    "3. append"
   ]
  },
  {
   "cell_type": "markdown",
   "id": "improving-marketplace",
   "metadata": {},
   "source": [
    "### Open Function"
   ]
  },
  {
   "cell_type": "code",
   "execution_count": null,
   "id": "precise-feedback",
   "metadata": {},
   "outputs": [],
   "source": [
    "open(file_name, mode)\n",
    "\n",
    "mode:\n",
    "    1. read mode  >> 'r'\n",
    "    2. write mode >> 'w'\n",
    "    3. write mode >> 'x'\n",
    "    4. append mode >> 'a'\n",
    "    5. read bytes  >> 'rb'\n",
    "    6. write bytes >> 'wb'"
   ]
  },
  {
   "cell_type": "markdown",
   "id": "roman-tribe",
   "metadata": {},
   "source": [
    "### 1. Write Mode"
   ]
  },
  {
   "cell_type": "code",
   "execution_count": null,
   "id": "hazardous-trouble",
   "metadata": {},
   "outputs": [],
   "source": [
    "open('file_name.txt', 'w')\n",
    "write mode >> 'w'\n",
    "It will create a new file >> If file does not exist\n",
    "It will overwrite existing file >> If file alreay exist at given path"
   ]
  },
  {
   "cell_type": "code",
   "execution_count": 2,
   "id": "timely-triangle",
   "metadata": {},
   "outputs": [],
   "source": [
    "f = open('data.txt','w')\n",
    "f.write('We are learning file handling')\n",
    "f.close()"
   ]
  },
  {
   "cell_type": "code",
   "execution_count": 3,
   "id": "vocal-editing",
   "metadata": {},
   "outputs": [],
   "source": [
    "deep_learning = \"\"\"Deep learning is part of a broader family of machine learning methods based \n",
    "on artificial neural networks with representation learning. Learning can be supervised, \n",
    "semi-supervised or unsupervised.\"\"\"\n",
    "\n",
    "f = open('deep_learning.txt','w')\n",
    "f.write(deep_learning)\n",
    "f.close()"
   ]
  },
  {
   "cell_type": "code",
   "execution_count": 4,
   "id": "friendly-purpose",
   "metadata": {},
   "outputs": [],
   "source": [
    "deep_learning = \"\"\"Deep learning is part of a broader family of machine learning methods based on artificial neural networks with representation learning. Learning can be supervised, semi-supervised or unsupervised.\"\"\"\n",
    "\n",
    "f = open('deep_learning2.txt','w')\n",
    "f.write(deep_learning)\n",
    "f.close()"
   ]
  },
  {
   "cell_type": "code",
   "execution_count": 7,
   "id": "activated-algeria",
   "metadata": {},
   "outputs": [],
   "source": [
    "f = open('data.txt','w')\n",
    "f.write('We are learning file handling')\n",
    "f.write('\\nWe are learning file handling')\n",
    "f.write('\\nWe are learning file handling')\n",
    "f.close()"
   ]
  },
  {
   "cell_type": "code",
   "execution_count": 8,
   "id": "directed-possession",
   "metadata": {},
   "outputs": [],
   "source": [
    "f = open('data.txt','w')\n",
    "f.write('We are learning file handling1')\n",
    "f.write('\\nWe are learning file handling2')\n",
    "f.write('\\nWe are learning file handling3')\n",
    "f.close()"
   ]
  },
  {
   "cell_type": "markdown",
   "id": "painted-means",
   "metadata": {},
   "source": [
    "#### 2. Create file using 'x' mode"
   ]
  },
  {
   "cell_type": "code",
   "execution_count": 9,
   "id": "careful-brush",
   "metadata": {},
   "outputs": [],
   "source": [
    "f = open('data2.txt','w')\n",
    "f.write('Machine Learning')\n",
    "\n",
    "f.close()"
   ]
  },
  {
   "cell_type": "code",
   "execution_count": 10,
   "id": "whole-methodology",
   "metadata": {},
   "outputs": [
    {
     "ename": "FileExistsError",
     "evalue": "[Errno 17] File exists: 'data2.txt'",
     "output_type": "error",
     "traceback": [
      "\u001b[1;31m---------------------------------------------------------------------------\u001b[0m",
      "\u001b[1;31mFileExistsError\u001b[0m                           Traceback (most recent call last)",
      "\u001b[1;32m<ipython-input-10-67edf8596a1f>\u001b[0m in \u001b[0;36m<module>\u001b[1;34m\u001b[0m\n\u001b[1;32m----> 1\u001b[1;33m \u001b[0mf\u001b[0m \u001b[1;33m=\u001b[0m \u001b[0mopen\u001b[0m\u001b[1;33m(\u001b[0m\u001b[1;34m'data2.txt'\u001b[0m\u001b[1;33m,\u001b[0m\u001b[1;34m'x'\u001b[0m\u001b[1;33m)\u001b[0m\u001b[1;33m\u001b[0m\u001b[1;33m\u001b[0m\u001b[0m\n\u001b[0m\u001b[0;32m      2\u001b[0m \u001b[0mf\u001b[0m\u001b[1;33m.\u001b[0m\u001b[0mwrite\u001b[0m\u001b[1;33m(\u001b[0m\u001b[1;34m'Deep Learning'\u001b[0m\u001b[1;33m)\u001b[0m\u001b[1;33m\u001b[0m\u001b[1;33m\u001b[0m\u001b[0m\n\u001b[0;32m      3\u001b[0m \u001b[0mf\u001b[0m\u001b[1;33m.\u001b[0m\u001b[0mclose\u001b[0m\u001b[1;33m(\u001b[0m\u001b[1;33m)\u001b[0m\u001b[1;33m\u001b[0m\u001b[1;33m\u001b[0m\u001b[0m\n",
      "\u001b[1;31mFileExistsError\u001b[0m: [Errno 17] File exists: 'data2.txt'"
     ]
    }
   ],
   "source": [
    "f = open('data2.txt','x')\n",
    "f.write('Deep Learning')\n",
    "f.close()"
   ]
  },
  {
   "cell_type": "markdown",
   "id": "transparent-patrick",
   "metadata": {},
   "source": [
    "### 3. append Mode"
   ]
  },
  {
   "cell_type": "code",
   "execution_count": null,
   "id": "catholic-quick",
   "metadata": {},
   "outputs": [],
   "source": [
    "append >> 'a'\n",
    "file not exist>> Create a new file ( same as write mode)\n",
    "\n",
    "File Exist >> It will add text in existing text file\n",
    "\n",
    "\n",
    "f = open(file_name, 'a')"
   ]
  },
  {
   "cell_type": "code",
   "execution_count": 11,
   "id": "necessary-moral",
   "metadata": {},
   "outputs": [],
   "source": [
    "file_name = \"deeplearning.txt\"\n",
    "text = \"\"\"Deep learning is a subset of machine learning, \n",
    "which is essentially a neural network with three or more layers\"\"\"\n",
    "\n",
    "f = open(file_name, 'a')\n",
    "f.write(text)\n",
    "f.close()"
   ]
  },
  {
   "cell_type": "code",
   "execution_count": 18,
   "id": "proud-insertion",
   "metadata": {},
   "outputs": [],
   "source": [
    "file_name = \"deeplearning.txt\"\n",
    "text = \"\"\"Deep learning is a subset of machine learning, \n",
    "which is essentially a neural network with three or more layers\"\"\"\n",
    "\n",
    "f = open(file_name, 'w')\n",
    "f.write(text)\n",
    "f.close()"
   ]
  },
  {
   "cell_type": "code",
   "execution_count": 26,
   "id": "gross-examination",
   "metadata": {},
   "outputs": [],
   "source": [
    "f = open('sample.txt','w')\n",
    "f.write(\"Data Science\")\n",
    "f.close()"
   ]
  },
  {
   "cell_type": "code",
   "execution_count": 27,
   "id": "bright-judge",
   "metadata": {},
   "outputs": [],
   "source": [
    "f = open('sample.txt','a')\n",
    "f.write(\"\\nMachine Learning\")\n",
    "f.close()"
   ]
  },
  {
   "cell_type": "code",
   "execution_count": 28,
   "id": "earned-trainer",
   "metadata": {},
   "outputs": [],
   "source": [
    "f = open('sample.txt','a')\n",
    "f.write(\"\\nDeep Learning\")\n",
    "f.close()"
   ]
  },
  {
   "cell_type": "code",
   "execution_count": 29,
   "id": "adjustable-recall",
   "metadata": {},
   "outputs": [],
   "source": [
    "f = open('sample.txt','a')\n",
    "f.write(\"\\nDeep Learning\")\n",
    "f.close()"
   ]
  },
  {
   "cell_type": "code",
   "execution_count": 30,
   "id": "hundred-silicon",
   "metadata": {},
   "outputs": [
    {
     "data": {
      "text/plain": [
       "'D:\\\\RahulK\\\\Velocity_Aug_22\\\\09_15_Anaconda\\\\data_science.txt'"
      ]
     },
     "execution_count": 30,
     "metadata": {},
     "output_type": "execute_result"
    }
   ],
   "source": [
    "file_path = r\"D:\\RahulK\\Velocity_Aug_22\\09_15_Anaconda\\data_science.txt\"\n",
    "file_path"
   ]
  },
  {
   "cell_type": "code",
   "execution_count": 31,
   "id": "progressive-disorder",
   "metadata": {},
   "outputs": [],
   "source": [
    "f = open(file_path,'w')\n",
    "text = \"Machine learning algorithms leverage structured, labeled data to make predictions—meaning that specific features are defined from the input data for the model and organized into tables. This doesn’t necessarily mean that it doesn’t use unstructured data; it just means that if it does, it generally goes through some pre-processing to organize it into a structured format.\"\n",
    "f.write(text)\n",
    "f.close()"
   ]
  },
  {
   "cell_type": "markdown",
   "id": "useful-popularity",
   "metadata": {},
   "source": [
    "### 4. read mode"
   ]
  },
  {
   "cell_type": "code",
   "execution_count": null,
   "id": "unknown-amplifier",
   "metadata": {},
   "outputs": [],
   "source": [
    "default mode\n",
    "\n",
    "f = open(file_name, 'r')"
   ]
  },
  {
   "cell_type": "markdown",
   "id": "transsexual-manner",
   "metadata": {},
   "source": [
    "#### 4.1 read()"
   ]
  },
  {
   "cell_type": "code",
   "execution_count": 34,
   "id": "gentle-province",
   "metadata": {},
   "outputs": [],
   "source": [
    "deep_learning = \"\"\"Deep learning is part of a broader family of machine learning methods based \n",
    "on artificial neural networks with representation learning. Learning can be supervised, \n",
    "semi-supervised or unsupervised.\"\"\"\n",
    "\n",
    "f = open('deep_learning.txt','w')\n",
    "f.write(deep_learning)\n",
    "f.close()"
   ]
  },
  {
   "cell_type": "code",
   "execution_count": 35,
   "id": "initial-vacuum",
   "metadata": {},
   "outputs": [
    {
     "name": "stdout",
     "output_type": "stream",
     "text": [
      "Deep learning is part of a broader family of machine learning methods based \n",
      "on artificial neural networks with representation learning. Learning can be supervised, \n",
      "semi-supervised or unsupervised.\n"
     ]
    }
   ],
   "source": [
    "f = open('deep_learning.txt','r')\n",
    "text = f.read()\n",
    "print(text)\n",
    "f.close()"
   ]
  },
  {
   "cell_type": "code",
   "execution_count": 36,
   "id": "growing-collector",
   "metadata": {},
   "outputs": [
    {
     "name": "stdout",
     "output_type": "stream",
     "text": [
      "We are learning file handling1\n",
      "We are learning file handling2\n",
      "We are learning file handling3\n"
     ]
    }
   ],
   "source": [
    "f = open('data.txt','r')\n",
    "text = f.read()\n",
    "print(text)\n",
    "f.close()"
   ]
  },
  {
   "cell_type": "code",
   "execution_count": 38,
   "id": "polish-postcard",
   "metadata": {},
   "outputs": [
    {
     "name": "stdout",
     "output_type": "stream",
     "text": [
      "one of my colleagues was surprised when i told her i was willing to see betsy's wedding . \n",
      "and she was shocked to hear that i actually liked it . \n",
      "her reaction was understandable when you consider that the film revolves around molly ringwald , who hasn't made a worthwhile film since 1986 . \n",
      "but the fact is , betsy's wedding is also an alan alda film . \n",
      "and while ringwald has been making duds for the last four years , alda has been involved with several noteworthy projects , including crimes and misdemeanors and a new life . \n",
      "written and directed by alda , betsy's wedding is a vibrant slice-of-life , mixing a few dramatic moments into a big bowl of whimsical humor . \n",
      "alda's comic elixir is smooth and refreshing--and a welcome change of pace from the usual summer fare . \n",
      "as bride and groom , molly ringwald and dylan walsh are the pivotal characters in the film , but they are by far the least interesting . \n",
      "walsh is a nonentity , with all the screen presence of a door knob . \n",
      "ringwald is simply unbearable and is easily the weakest link in the chain . \n",
      "she looks hideous with her short-cropped orange hair , red lip-stick and grotesque outfits . \n",
      "she's supposed to be a dress designer , but she looks more like a clown . \n",
      "and to make matters worse , ringwald's performance matches her appearance . \n",
      "thankfully , alda keeps ringwald's screen time to a minimum ; he is far more interested in the colorful periphery characters . \n",
      "the wedding is just a device to bring together the bride's working-class , italian family and the groom's rich , gentile family . \n",
      "ringwald's folks are homey and down-to-earth , with alda as her free-spirited father , madeline kahn as her practical mother , and ally sheedy as her lonely sister . \n",
      "walsh's clan , on the other hand , is prim , proper and ostentatious . \n",
      "when the two families meet and mingle , the movie becomes a story of culture clash , or as one character puts it , \" money versus values . \" \n",
      "ally sheedy , in a wonderfully understated performance , is one of the film's most pleasant surprises . \n",
      "sheedy expresses more with just her eyes than ringwald does with her entire body . \n",
      "it's anthony lapaglia , however , who seizes the spotlight . \n",
      "lapaglia plays stevie dee , a suave , overly polite mafioso who is formally courting sheedy with old-fashioned chivalry . \n",
      "lapaglia's sincere but dim-witted character is a riot . \n",
      "and what's uncanny is that lapaglia is a dead ringer for robert de niro , with a little bit of alec baldwin thrown in for good measure . \n",
      "lapaglia seems to have attended the de niro school of gangster acting , and his inspired performance is partly a tribute to his role-model and partly a rip-off . \n",
      "i don't know whether to say a star is born or a star is re-born , but i do know that lapaglia's over-the-top performance should not be missed . \n",
      "the scrumptious comic acting , however , extends well beyond sheedy and lapaglia . \n",
      "joe pesci , in particular , sinks his teeth into his role as alda's unscrupulous brother-in-law , a slum lord with mob ties , who is cheating on his wife ( catherine o'hara ) . \n",
      "alda , faced with challenge of both directing and acting , somehow finds just the right comic touch as the bride's financially-strapped father , a carpenter whose dreams are bigger than his wallet . \n",
      "the film adopts alda's psychological point of view as he tries to one : plan the wedding , and two : pay for it . \n",
      "as a filmmaker , alda's style of humor is remarkably restrained and tasteful . \n",
      "and while he doesn't have the comic genius of a woody allen , alda does possess the inspiration to make movies which are ten times more entertaining than the slop which usually passes for comedy . \n",
      "\n"
     ]
    }
   ],
   "source": [
    "f = open('cv007_4968.txt','r')\n",
    "text = f.read()\n",
    "print(text)\n",
    "f.close()\n"
   ]
  },
  {
   "cell_type": "code",
   "execution_count": 40,
   "id": "useful-migration",
   "metadata": {},
   "outputs": [],
   "source": [
    "f = open('cv007_4968.txt','r')\n",
    "text = f.read()\n",
    "# print(text)\n",
    "f.close()\n",
    "\n",
    "f = open('cv007_4968.txt','w')\n",
    "f.write(text.title())\n",
    "f.close()"
   ]
  },
  {
   "cell_type": "code",
   "execution_count": 43,
   "id": "optical-palestine",
   "metadata": {},
   "outputs": [
    {
     "name": "stdout",
     "output_type": "stream",
     "text": [
      "plot : a young french boy sees his parents killed before his eyes by tim roth , oops . . . i \n",
      "mean , an evil man . \n",
      "he vows revenge on that man and is taught the ways of the musketeer by some old dude who used to be one himself ? \n",
      "anyway , fourteen years go by and . . . arrgh , well , you know the rest . . . swish-swish-zzzzzzz ! \n",
      "critique : this is a pretty bad movie . \n",
      "let's see , where should i start ? \n",
      "okay , first of all , the story is just plain boring . \n",
      "it's not original , is entirely predictable and lacks energy . \n",
      "okay , what's next ? \n",
      "acting , you say . \n",
      "hmmmm , well , the main actor , justin chambers , is basically an uncharismatic version of chris o'donnell but with less range ( think about that ! ) , and mena suvari , is just plain off . \n",
      "not as bad as thora birch was in dungeons & dragons , but entirely miscast , with bad deliveries , awful sequences and a piss-poor accent that comes and goes . \n",
      "now i'm not sure if this was ms . suvari's fault or the director's , but i've definitely seen her at a much higher level than in this film . \n",
      "the only semi-saving grace actor-wise is tim roth as the irrepressible \" bad guy \" , but once again , it's not something that we haven't seen before . . . a \n",
      "thousand times . . . by the same guy ! ! \n",
      "tim , please . . . for the love of god , beg your agent to ask the marketplace for some modern day \" american roles \" for you as a \" nice guy \" in a romantic comedy or something . \n",
      "stretch , dude . . . stretch ! ! \n",
      "we all know that you can do much better than this gunk . \n",
      "alright , what else was bad in this film ? \n",
      "oh yeah , the score ! \n",
      "yikes , how's about taking it down a few notches there , fellas ? \n",
      "this thing blares in your ear whenever it feels the need to accentuate a certain scene , but actually does little more than annoy . \n",
      "i think it's important for the man behind the music to recognize that this film isn't a \" real epic \" by any stretch of the imagination . \n",
      "it's a fluffy rehashed cake-walk created by some \" shrewd \" studio heads who decided to take advantage of the whole \" kung-fu \" phenomenon in films , and test it out on an old classic . \n",
      "dudes . . . you \n",
      "failed all around ! \n",
      " ( keep reading ) \n",
      "the editing is also pretty shoddy in this movie , the dialogue banal and stilted and the plot problems . . . plentiful ! \n",
      " ( why does the guy on top of the horse carriage just stand there when his opponent takes forever scampering his way back to the top ? \n",
      "why don't they just cut the mouseketeer's rope at the top of the tower , instead of jumping down on their own chords and fighting him while hanging ? \n",
      "why doesn't anybody look a day older , when the sequence says \" 14 years later \" ? \n",
      " ( at least . . . change \n",
      "your shirt , man ! ) \n",
      "keep in mind that i have never strayed away from championing certain movies that are created simply for the sake of a \" fun time \" , but this flick just didn't cut it for me . \n",
      "it was boring for stretches , the acting was atrocious at times ( the \" romantic \" scene between suvari and chambers next to the lake reminded me of plays in high school which made you cringe ) , there was little reason to care for anyone and since when were the musketeers fat ? \n",
      "i will give the movie this much , and that is that its main reason for being ( its \" raison-d'etre \" , as the french would say ) , its fight sequences , do come through despite the lack of their numbers in the film . \n",
      "i was hoping that the movie would be packed with cool stuntwork as promoted in its trailer , but what you see there , are essentially the snippets from the two major ( and cool ) swashbuckling sequences from the film . \n",
      "the first comes right at the beginning of the movie , while the other essentially finishes the film off , hanging from the tower and juggling off ladders . \n",
      "the ladder sequence itself is a definite keeper but unfortunately the rest of the movie is just regurgitated crap . \n",
      "and can anyone please tell me how catherine deneuve got her name placed at the top of this film's credits ? \n",
      "hullo ? \n",
      "the film is called the musketeer and stars a dude name justin chambers . \n",
      "deneuve is barely in this movie ! \n",
      "ugh , just another small thing that annoyed me about this trash . \n",
      "now say it together , gang : \" all for one , and one for all . . . we \n",
      "vow to stay away from it all ! ! \" \n",
      "thank me later . \n",
      "where's joblo coming from ? \n",
      "a knight's tale ( 7/10 ) - american outlaws ( 5/10 ) - crouching tiger , hidden dragon ( 7/10 ) - the matrix ( 8/10 ) - the replacement killers ( 6/10 ) - romeo must die ( 3/10 ) - shanghai noon ( 6/10 ) \n",
      "\n"
     ]
    }
   ],
   "source": [
    "movie_review_path = r\"D:\\Dataset\\movie_reviews\\neg\\cv009_29417.txt\"\n",
    "f = open(movie_review_path,'r')\n",
    "text = f.read()\n",
    "print(text)\n",
    "f.close()"
   ]
  },
  {
   "cell_type": "markdown",
   "id": "coupled-there",
   "metadata": {},
   "source": [
    "#### 4.2 readlines"
   ]
  },
  {
   "cell_type": "code",
   "execution_count": 45,
   "id": "severe-authentication",
   "metadata": {},
   "outputs": [
    {
     "name": "stdout",
     "output_type": "stream",
     "text": [
      "Deep learning is part of a broader family of machine learning methods based \n",
      "on artificial neural networks with representation learning. Learning can be supervised, \n",
      "semi-supervised or unsupervised.\n"
     ]
    },
    {
     "data": {
      "text/plain": [
       "['Deep learning is part of a broader family of machine learning methods based ',\n",
       " 'on artificial neural networks with representation learning. Learning can be supervised, ',\n",
       " 'semi-supervised or unsupervised.']"
      ]
     },
     "execution_count": 45,
     "metadata": {},
     "output_type": "execute_result"
    }
   ],
   "source": [
    "f = open('deep_learning.txt','r')\n",
    "text = f.read()\n",
    "print(text)\n",
    "f.close()\n",
    "\n",
    "text.split('\\n')"
   ]
  },
  {
   "cell_type": "code",
   "execution_count": 52,
   "id": "premier-liabilities",
   "metadata": {},
   "outputs": [
    {
     "name": "stdout",
     "output_type": "stream",
     "text": [
      "['Deep learning is part of a broader family of machine learning methods based \\n', 'on artificial neural networks with representation learning. Learning can be supervised, \\n', 'semi-supervised or unsupervised.'] 3\n"
     ]
    }
   ],
   "source": [
    "f = open('deep_learning.txt','r')\n",
    "text_list = f.readlines()\n",
    "print(text_list,len(text_list))\n",
    "f.close()\n"
   ]
  },
  {
   "cell_type": "code",
   "execution_count": 62,
   "id": "opponent-characteristic",
   "metadata": {},
   "outputs": [
    {
     "name": "stdout",
     "output_type": "stream",
     "text": [
      "on artificial neural networks with representation learning. Learning can be supervised, \n",
      "\n"
     ]
    }
   ],
   "source": [
    "f = open('deep_learning.txt','r')\n",
    "text_list = f.readlines()\n",
    "f.close()\n",
    "print(text_list[1])"
   ]
  },
  {
   "cell_type": "code",
   "execution_count": 63,
   "id": "handled-remedy",
   "metadata": {},
   "outputs": [
    {
     "name": "stdout",
     "output_type": "stream",
     "text": [
      "semi-supervised or unsupervised.\n"
     ]
    }
   ],
   "source": [
    "f = open('deep_learning.txt','r')\n",
    "text_list = f.readlines()\n",
    "f.close()\n",
    "print(text_list[2])"
   ]
  },
  {
   "cell_type": "markdown",
   "id": "engaging-broadcasting",
   "metadata": {},
   "source": [
    "#### 4.3 readline"
   ]
  },
  {
   "cell_type": "code",
   "execution_count": 55,
   "id": "arctic-wagon",
   "metadata": {},
   "outputs": [
    {
     "name": "stdout",
     "output_type": "stream",
     "text": [
      "Deep learning is part of a broader family of machine learning methods based \n",
      "\n"
     ]
    }
   ],
   "source": [
    "f = open('deep_learning.txt','r')\n",
    "text = f.readline()\n",
    "print(text)\n",
    "f.close()\n"
   ]
  },
  {
   "cell_type": "code",
   "execution_count": 57,
   "id": "cordless-variety",
   "metadata": {},
   "outputs": [
    {
     "name": "stdout",
     "output_type": "stream",
     "text": [
      "Deep learning is part of a broader family of machine learning methods based \n",
      "\n",
      "on artificial neural networks with representation learning. Learning can be supervised, \n",
      "\n",
      "semi-supervised or unsupervised.\n"
     ]
    }
   ],
   "source": [
    "f = open('deep_learning.txt','r')\n",
    "text1 = f.readline() # 1st line\n",
    "text2 = f.readline() # 2nd line\n",
    "text3 = f.readline() # 3rd line\n",
    "\n",
    "print(text1)\n",
    "print(text2)\n",
    "print(text3)\n",
    "\n",
    "f.close()\n"
   ]
  },
  {
   "cell_type": "code",
   "execution_count": 61,
   "id": "medieval-illinois",
   "metadata": {},
   "outputs": [
    {
     "name": "stdout",
     "output_type": "stream",
     "text": [
      "Deep learning is part of a broader family of machine learning methods based \n",
      "\n"
     ]
    }
   ],
   "source": [
    "f = open('deep_learning.txt','r')\n",
    "text1 = f.readline()\n",
    "print(text1)\n",
    "f.close()\n"
   ]
  },
  {
   "cell_type": "markdown",
   "id": "pressed-backup",
   "metadata": {},
   "source": [
    "# with"
   ]
  },
  {
   "cell_type": "code",
   "execution_count": null,
   "id": "nominated-ottawa",
   "metadata": {},
   "outputs": [],
   "source": [
    "With statement will close all file operations\n",
    "No need to use close statement"
   ]
  },
  {
   "cell_type": "code",
   "execution_count": 64,
   "id": "taken-richardson",
   "metadata": {},
   "outputs": [],
   "source": [
    "f = open('ds.txt','w')\n",
    "f.write(\"Data Science\")\n",
    "f.close()"
   ]
  },
  {
   "cell_type": "code",
   "execution_count": 65,
   "id": "assumed-subject",
   "metadata": {},
   "outputs": [],
   "source": [
    "with open('ds1.txt','w') as f:\n",
    "    f.write(\"Data Science\")"
   ]
  },
  {
   "cell_type": "code",
   "execution_count": 69,
   "id": "utility-efficiency",
   "metadata": {},
   "outputs": [],
   "source": [
    "with open('ds1.txt','a') as f:\n",
    "    f.write(\"Machine Learning\")"
   ]
  },
  {
   "cell_type": "code",
   "execution_count": 67,
   "id": "unexpected-generation",
   "metadata": {},
   "outputs": [
    {
     "name": "stdout",
     "output_type": "stream",
     "text": [
      "Data Science\n"
     ]
    }
   ],
   "source": [
    "with open('ds1.txt','r') as f:\n",
    "    ds1 = f.read()\n",
    "print(ds1)"
   ]
  },
  {
   "cell_type": "code",
   "execution_count": null,
   "id": "minor-syracuse",
   "metadata": {},
   "outputs": [],
   "source": []
  },
  {
   "cell_type": "markdown",
   "id": "australian-tucson",
   "metadata": {},
   "source": [
    "### JSON Files"
   ]
  },
  {
   "cell_type": "code",
   "execution_count": 72,
   "id": "heated-porter",
   "metadata": {},
   "outputs": [
    {
     "data": {
      "text/plain": [
       "{'Emp Name': 'Suraj',\n",
       " 'Salary': 60000,\n",
       " 'Designation': 'Python Developer',\n",
       " 'Location': 'Pune'}"
      ]
     },
     "execution_count": 72,
     "metadata": {},
     "output_type": "execute_result"
    }
   ],
   "source": [
    "employee_data = {\"Emp Name\":\"Suraj\",\n",
    "                \"Salary\": 60000,\n",
    "                \"Designation\":\"Python Developer\",\n",
    "                \"Location\":\"Pune\"}\n",
    "\n",
    "employee_data"
   ]
  },
  {
   "cell_type": "markdown",
   "id": "brazilian-austria",
   "metadata": {},
   "source": [
    "#### Create JSON file"
   ]
  },
  {
   "cell_type": "code",
   "execution_count": 74,
   "id": "photographic-machinery",
   "metadata": {},
   "outputs": [],
   "source": [
    "import json\n",
    "\n",
    "with open('employee.json','w') as f:\n",
    "    json.dump(employee_data,f)"
   ]
  },
  {
   "cell_type": "code",
   "execution_count": null,
   "id": "considered-directory",
   "metadata": {},
   "outputs": [],
   "source": [
    "VS Code Extension to read JSON files >> Prettify JSON\n"
   ]
  },
  {
   "cell_type": "markdown",
   "id": "residential-command",
   "metadata": {},
   "source": [
    "#### Read JSON Files"
   ]
  },
  {
   "cell_type": "code",
   "execution_count": 75,
   "id": "multiple-service",
   "metadata": {},
   "outputs": [
    {
     "name": "stdout",
     "output_type": "stream",
     "text": [
      "{'Emp Name': 'Suraj', 'Salary': 60000, 'Designation': 'Python Developer', 'Location': 'Pune'}\n"
     ]
    }
   ],
   "source": [
    "with open('employee.json') as f:\n",
    "    data = json.load(f)\n",
    "print(data)"
   ]
  },
  {
   "cell_type": "markdown",
   "id": "alive-swedish",
   "metadata": {},
   "source": [
    "## Machine Learning Model"
   ]
  },
  {
   "cell_type": "code",
   "execution_count": 78,
   "id": "chronic-battlefield",
   "metadata": {},
   "outputs": [
    {
     "data": {
      "text/plain": [
       "DecisionTreeClassifier()"
      ]
     },
     "execution_count": 78,
     "metadata": {},
     "output_type": "execute_result"
    }
   ],
   "source": [
    "import pickle\n",
    "from sklearn.tree import DecisionTreeClassifier\n",
    "\n",
    "dt_model = DecisionTreeClassifier()\n"
   ]
  },
  {
   "cell_type": "markdown",
   "id": "serial-drove",
   "metadata": {},
   "source": [
    "#### create model file"
   ]
  },
  {
   "cell_type": "code",
   "execution_count": 80,
   "id": "quality-acrylic",
   "metadata": {},
   "outputs": [],
   "source": [
    "with open('decision_tree.pkl','wb') as f:\n",
    "    pickle.dump(dt_model, f)"
   ]
  },
  {
   "cell_type": "markdown",
   "id": "tribal-savings",
   "metadata": {},
   "source": [
    "#### Load model "
   ]
  },
  {
   "cell_type": "code",
   "execution_count": 81,
   "id": "graduate-competition",
   "metadata": {},
   "outputs": [
    {
     "data": {
      "text/plain": [
       "DecisionTreeClassifier()"
      ]
     },
     "execution_count": 81,
     "metadata": {},
     "output_type": "execute_result"
    }
   ],
   "source": [
    "with open('decision_tree.pkl','rb') as f:\n",
    "    model = pickle.load(f)\n",
    "    \n",
    "model"
   ]
  },
  {
   "cell_type": "code",
   "execution_count": 85,
   "id": "thermal-andrew",
   "metadata": {},
   "outputs": [
    {
     "data": {
      "text/plain": [
       "True"
      ]
     },
     "execution_count": 85,
     "metadata": {},
     "output_type": "execute_result"
    }
   ],
   "source": [
    "line = \"\"\n",
    "line.isspace() or len(line) == 0"
   ]
  }
 ],
 "metadata": {
  "kernelspec": {
   "display_name": "Python 3 (ipykernel)",
   "language": "python",
   "name": "python3"
  },
  "language_info": {
   "codemirror_mode": {
    "name": "ipython",
    "version": 3
   },
   "file_extension": ".py",
   "mimetype": "text/x-python",
   "name": "python",
   "nbconvert_exporter": "python",
   "pygments_lexer": "ipython3",
   "version": "3.9.12"
  }
 },
 "nbformat": 4,
 "nbformat_minor": 5
}
