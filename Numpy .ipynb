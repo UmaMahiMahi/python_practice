{
 "cells": [
  {
   "cell_type": "markdown",
   "id": "surprising-washer",
   "metadata": {},
   "source": [
    "## Numpy "
   ]
  },
  {
   "cell_type": "code",
   "execution_count": null,
   "id": "adequate-score",
   "metadata": {},
   "outputs": [],
   "source": [
    "Numpy >> Numerical Python"
   ]
  },
  {
   "cell_type": "code",
   "execution_count": 4,
   "id": "filled-flight",
   "metadata": {},
   "outputs": [],
   "source": [
    "import numpy as np\n",
    "import pandas as pd"
   ]
  },
  {
   "cell_type": "markdown",
   "id": "million-tactics",
   "metadata": {},
   "source": [
    "#### Application"
   ]
  },
  {
   "cell_type": "code",
   "execution_count": null,
   "id": "proud-municipality",
   "metadata": {},
   "outputs": [],
   "source": [
    "1. Linear Algebra\n",
    "2. Statistics\n",
    "3. Trigonometry\n",
    "4. Matrix Operations\n",
    "5. IMage Processing\n",
    "6. Logarithmic \n"
   ]
  },
  {
   "cell_type": "markdown",
   "id": "regulation-facing",
   "metadata": {},
   "source": [
    "### Properties"
   ]
  },
  {
   "cell_type": "code",
   "execution_count": null,
   "id": "deluxe-resistance",
   "metadata": {},
   "outputs": [],
   "source": [
    "1. It is a collection homogeneous datatypes\n",
    "2. Numpy is faster than List\n",
    "3. Numpy is written in C and C++ Language (Partially in Python)\n",
    "4. C Language is Faster than Python\n",
    "\n",
    "numpy.ndarray >> n-Dimensional Array\n",
    "\n",
    "int >> float >> complex >> str"
   ]
  },
  {
   "cell_type": "code",
   "execution_count": null,
   "id": "royal-hospital",
   "metadata": {},
   "outputs": [],
   "source": []
  },
  {
   "cell_type": "code",
   "execution_count": 2,
   "id": "raising-poverty",
   "metadata": {},
   "outputs": [],
   "source": [
    "list1 = [1,3,5,7.8,3.14, 'python', 'data science']"
   ]
  },
  {
   "cell_type": "markdown",
   "id": "written-opposition",
   "metadata": {},
   "source": [
    "## Numpy Functions"
   ]
  },
  {
   "cell_type": "code",
   "execution_count": null,
   "id": "polar-serve",
   "metadata": {},
   "outputs": [],
   "source": [
    "1. np.array()\n",
    "2. array.ndim\n",
    "3. array.shape\n",
    "4. array.tolist() >> N-Dimensioanl Numpy array tolist"
   ]
  },
  {
   "cell_type": "markdown",
   "id": "suburban-rubber",
   "metadata": {},
   "source": [
    "### 1. np.array"
   ]
  },
  {
   "cell_type": "code",
   "execution_count": 21,
   "id": "maritime-person",
   "metadata": {},
   "outputs": [
    {
     "data": {
      "text/plain": [
       "array([3, 4, 6, 7, 8])"
      ]
     },
     "execution_count": 21,
     "metadata": {},
     "output_type": "execute_result"
    }
   ],
   "source": [
    "array1 = np.array([3,4,6,7,8])\n",
    "array1"
   ]
  },
  {
   "cell_type": "code",
   "execution_count": null,
   "id": "opened-titanium",
   "metadata": {},
   "outputs": [],
   "source": []
  },
  {
   "cell_type": "code",
   "execution_count": 23,
   "id": "hollywood-novel",
   "metadata": {},
   "outputs": [
    {
     "data": {
      "text/plain": [
       "array([3, 4, 6, 7, 8])"
      ]
     },
     "execution_count": 23,
     "metadata": {},
     "output_type": "execute_result"
    }
   ],
   "source": [
    "array1 = np.array((3,4,6,7,8))\n",
    "array1"
   ]
  },
  {
   "cell_type": "code",
   "execution_count": 28,
   "id": "later-calcium",
   "metadata": {},
   "outputs": [
    {
     "data": {
      "text/plain": [
       "array([3, 4, 5, 6, 7, 8])"
      ]
     },
     "execution_count": 28,
     "metadata": {},
     "output_type": "execute_result"
    }
   ],
   "source": [
    "list1 = [3,4,5,6,7,8]\n",
    "array1 = np.array(list1)\n",
    "array1"
   ]
  },
  {
   "cell_type": "code",
   "execution_count": 30,
   "id": "damaged-herald",
   "metadata": {},
   "outputs": [
    {
     "data": {
      "text/plain": [
       "array(100)"
      ]
     },
     "execution_count": 30,
     "metadata": {},
     "output_type": "execute_result"
    }
   ],
   "source": [
    "array1 = np.array(100)\n",
    "array1"
   ]
  },
  {
   "cell_type": "code",
   "execution_count": 31,
   "id": "happy-spencer",
   "metadata": {},
   "outputs": [
    {
     "data": {
      "text/plain": [
       "array([3, 4, 5, 6, 7, 8])"
      ]
     },
     "execution_count": 31,
     "metadata": {},
     "output_type": "execute_result"
    }
   ],
   "source": [
    "set1 = {3,4,5,6,7,8}\n",
    "array1 = np.array(list(set1))\n",
    "array1"
   ]
  },
  {
   "cell_type": "code",
   "execution_count": 15,
   "id": "referenced-mount",
   "metadata": {},
   "outputs": [
    {
     "data": {
      "text/plain": [
       "array([2, 3, 5, 6, 7, 8])"
      ]
     },
     "execution_count": 15,
     "metadata": {},
     "output_type": "execute_result"
    }
   ],
   "source": [
    "array1 = np.array([2,3,5,6,7,8])\n",
    "array1"
   ]
  },
  {
   "cell_type": "code",
   "execution_count": 16,
   "id": "isolated-coordination",
   "metadata": {},
   "outputs": [
    {
     "data": {
      "text/plain": [
       "numpy.ndarray"
      ]
     },
     "execution_count": 16,
     "metadata": {},
     "output_type": "execute_result"
    }
   ],
   "source": [
    "type(array1)"
   ]
  },
  {
   "cell_type": "code",
   "execution_count": 9,
   "id": "voluntary-closing",
   "metadata": {},
   "outputs": [
    {
     "name": "stdout",
     "output_type": "stream",
     "text": [
      "[2 3 5 6 7 8]\n"
     ]
    }
   ],
   "source": [
    "print(array1)"
   ]
  },
  {
   "cell_type": "code",
   "execution_count": 11,
   "id": "nasty-venice",
   "metadata": {},
   "outputs": [
    {
     "data": {
      "text/plain": [
       "array([2. , 3. , 5. , 6.9, 7. , 8. ])"
      ]
     },
     "execution_count": 11,
     "metadata": {},
     "output_type": "execute_result"
    }
   ],
   "source": [
    "array1 = np.array([2,3,5,6.9,7,8])\n",
    "array1"
   ]
  },
  {
   "cell_type": "code",
   "execution_count": 19,
   "id": "light-theme",
   "metadata": {},
   "outputs": [
    {
     "data": {
      "text/plain": [
       "array([2. +0.j, 3. +0.j, 5. +0.j, 6.9+0.j, 7. +0.j, 8. +0.j, 4. +5.j])"
      ]
     },
     "execution_count": 19,
     "metadata": {},
     "output_type": "execute_result"
    }
   ],
   "source": [
    "array1 = np.array([2,3,5,6.9,7,8,4+5j])\n",
    "array1"
   ]
  },
  {
   "cell_type": "markdown",
   "id": "sexual-marsh",
   "metadata": {},
   "source": [
    "### Type Casting in Numpy Array"
   ]
  },
  {
   "cell_type": "code",
   "execution_count": null,
   "id": "forced-reading",
   "metadata": {},
   "outputs": [],
   "source": [
    "int >> float\n",
    "int >> complex\n",
    "int >> str/object"
   ]
  },
  {
   "cell_type": "code",
   "execution_count": 33,
   "id": "excessive-cambodia",
   "metadata": {},
   "outputs": [
    {
     "data": {
      "text/plain": [
       "array([3, 4, 5, 6, 7])"
      ]
     },
     "execution_count": 33,
     "metadata": {},
     "output_type": "execute_result"
    }
   ],
   "source": [
    "array1 = np.array([3,4,5,6,7])\n",
    "array1"
   ]
  },
  {
   "cell_type": "code",
   "execution_count": 35,
   "id": "indie-improvement",
   "metadata": {},
   "outputs": [
    {
     "data": {
      "text/plain": [
       "array([3, 4, 5, 6, 7])"
      ]
     },
     "execution_count": 35,
     "metadata": {},
     "output_type": "execute_result"
    }
   ],
   "source": [
    "array1 = np.array([3,4,5,6,7],dtype = int)\n",
    "array1"
   ]
  },
  {
   "cell_type": "code",
   "execution_count": 37,
   "id": "thrown-petite",
   "metadata": {},
   "outputs": [
    {
     "data": {
      "text/plain": [
       "array([3, 4, 5, 6, 7])"
      ]
     },
     "execution_count": 37,
     "metadata": {},
     "output_type": "execute_result"
    }
   ],
   "source": [
    "array1 = np.array([3,4,5,6,7],dtype = 'int')\n",
    "array1"
   ]
  },
  {
   "cell_type": "code",
   "execution_count": 39,
   "id": "floating-final",
   "metadata": {},
   "outputs": [
    {
     "data": {
      "text/plain": [
       "array([3, 4, 5, 6, 7], dtype=int32)"
      ]
     },
     "execution_count": 39,
     "metadata": {},
     "output_type": "execute_result"
    }
   ],
   "source": [
    "array1 = np.array([3,4,5,6,7],dtype = 'i')\n",
    "array1"
   ]
  },
  {
   "cell_type": "code",
   "execution_count": 41,
   "id": "proud-tobacco",
   "metadata": {},
   "outputs": [
    {
     "data": {
      "text/plain": [
       "array([3., 4., 5., 6., 7.])"
      ]
     },
     "execution_count": 41,
     "metadata": {},
     "output_type": "execute_result"
    }
   ],
   "source": [
    "array1 = np.array([3,4,5,6,7],dtype = float)\n",
    "array1"
   ]
  },
  {
   "cell_type": "code",
   "execution_count": 43,
   "id": "exempt-reconstruction",
   "metadata": {},
   "outputs": [
    {
     "data": {
      "text/plain": [
       "array([3., 4., 5., 6., 7.])"
      ]
     },
     "execution_count": 43,
     "metadata": {},
     "output_type": "execute_result"
    }
   ],
   "source": [
    "array1 = np.array([3,4,5,6,7],dtype = 'float')\n",
    "array1"
   ]
  },
  {
   "cell_type": "code",
   "execution_count": 45,
   "id": "intermediate-graduation",
   "metadata": {},
   "outputs": [
    {
     "data": {
      "text/plain": [
       "array([3., 4., 5., 6., 7.], dtype=float32)"
      ]
     },
     "execution_count": 45,
     "metadata": {},
     "output_type": "execute_result"
    }
   ],
   "source": [
    "array1 = np.array([3,4,5,6,7],dtype = 'f')\n",
    "array1"
   ]
  },
  {
   "cell_type": "code",
   "execution_count": 47,
   "id": "narrow-eating",
   "metadata": {},
   "outputs": [
    {
     "data": {
      "text/plain": [
       "array([3.+0.j, 4.+0.j, 5.+0.j, 6.+0.j, 7.+0.j])"
      ]
     },
     "execution_count": 47,
     "metadata": {},
     "output_type": "execute_result"
    }
   ],
   "source": [
    "array1 = np.array([3,4,5,6,7],dtype = complex)\n",
    "array1"
   ]
  },
  {
   "cell_type": "code",
   "execution_count": 51,
   "id": "varied-desperate",
   "metadata": {},
   "outputs": [
    {
     "data": {
      "text/plain": [
       "array([3.+0.j, 4.+0.j, 5.+0.j, 6.+0.j, 7.+0.j])"
      ]
     },
     "execution_count": 51,
     "metadata": {},
     "output_type": "execute_result"
    }
   ],
   "source": [
    "array1 = np.array([3,4,5,6,7],dtype = 'complex')\n",
    "array1"
   ]
  },
  {
   "cell_type": "code",
   "execution_count": 53,
   "id": "thirty-genesis",
   "metadata": {},
   "outputs": [
    {
     "data": {
      "text/plain": [
       "array(['3', '4', '5', '6', '7'], dtype='<U1')"
      ]
     },
     "execution_count": 53,
     "metadata": {},
     "output_type": "execute_result"
    }
   ],
   "source": [
    "array1 = np.array([3,4,5,6,7],dtype = str)\n",
    "array1"
   ]
  },
  {
   "cell_type": "code",
   "execution_count": 55,
   "id": "fleet-newspaper",
   "metadata": {},
   "outputs": [
    {
     "data": {
      "text/plain": [
       "array(['3', '4', '5', '6', '7'], dtype='<U1')"
      ]
     },
     "execution_count": 55,
     "metadata": {},
     "output_type": "execute_result"
    }
   ],
   "source": [
    "array1 = np.array([3,4,5,6,7],dtype = 'str')\n",
    "array1"
   ]
  },
  {
   "cell_type": "code",
   "execution_count": 56,
   "id": "retired-spell",
   "metadata": {},
   "outputs": [
    {
     "data": {
      "text/plain": [
       "array([3, 4, 5, 6, 7], dtype=object)"
      ]
     },
     "execution_count": 56,
     "metadata": {},
     "output_type": "execute_result"
    }
   ],
   "source": [
    "array1 = np.array([3,4,5,6,7],dtype = object)\n",
    "array1"
   ]
  },
  {
   "cell_type": "code",
   "execution_count": null,
   "id": "composed-indication",
   "metadata": {},
   "outputs": [],
   "source": [
    "str >> object"
   ]
  },
  {
   "cell_type": "markdown",
   "id": "beginning-archives",
   "metadata": {},
   "source": [
    "#### Float to other Datatypes"
   ]
  },
  {
   "cell_type": "code",
   "execution_count": 58,
   "id": "operational-penalty",
   "metadata": {},
   "outputs": [
    {
     "data": {
      "text/plain": [
       "array([3.  , 4.  , 5.45, 6.12, 6.  , 7.  ])"
      ]
     },
     "execution_count": 58,
     "metadata": {},
     "output_type": "execute_result"
    }
   ],
   "source": [
    "array1 = np.array([3,4,5.45,6.12,6,7])\n",
    "array1"
   ]
  },
  {
   "cell_type": "code",
   "execution_count": 60,
   "id": "medium-modem",
   "metadata": {},
   "outputs": [
    {
     "data": {
      "text/plain": [
       "array([3.  , 4.  , 5.45, 6.12, 6.  , 7.  ])"
      ]
     },
     "execution_count": 60,
     "metadata": {},
     "output_type": "execute_result"
    }
   ],
   "source": [
    "array1 = np.array([3,4,5.45,6.12,6,7],dtype = 'float')\n",
    "array1"
   ]
  },
  {
   "cell_type": "code",
   "execution_count": 62,
   "id": "helpful-dance",
   "metadata": {},
   "outputs": [
    {
     "data": {
      "text/plain": [
       "array([3.  , 4.  , 5.45, 6.12, 6.  , 7.  ])"
      ]
     },
     "execution_count": 62,
     "metadata": {},
     "output_type": "execute_result"
    }
   ],
   "source": [
    "array1 = np.array([3,4,5.45,6.12,6,7],dtype = float)\n",
    "array1"
   ]
  },
  {
   "cell_type": "code",
   "execution_count": 70,
   "id": "optimum-software",
   "metadata": {},
   "outputs": [
    {
     "data": {
      "text/plain": [
       "array([3, 4, 5, 6, 6, 7])"
      ]
     },
     "execution_count": 70,
     "metadata": {},
     "output_type": "execute_result"
    }
   ],
   "source": [
    "array1 = np.array([3,4,5.45,6.12,6,7],dtype = int)\n",
    "array1"
   ]
  },
  {
   "cell_type": "code",
   "execution_count": 72,
   "id": "mental-angel",
   "metadata": {},
   "outputs": [
    {
     "data": {
      "text/plain": [
       "5"
      ]
     },
     "execution_count": 72,
     "metadata": {},
     "output_type": "execute_result"
    }
   ],
   "source": [
    "int(5.78)"
   ]
  },
  {
   "cell_type": "code",
   "execution_count": 74,
   "id": "distant-diversity",
   "metadata": {},
   "outputs": [
    {
     "data": {
      "text/plain": [
       "array([3, 4, 5, 6, 8, 7])"
      ]
     },
     "execution_count": 74,
     "metadata": {},
     "output_type": "execute_result"
    }
   ],
   "source": [
    "array1 = np.array([3,4,5.45,6.90,8,7],dtype = int)\n",
    "array1"
   ]
  },
  {
   "cell_type": "code",
   "execution_count": 69,
   "id": "neural-monday",
   "metadata": {},
   "outputs": [
    {
     "data": {
      "text/plain": [
       "array([3.  +0.j, 4.  +0.j, 5.45+0.j, 6.12+0.j, 6.  +0.j, 7.  +0.j])"
      ]
     },
     "execution_count": 69,
     "metadata": {},
     "output_type": "execute_result"
    }
   ],
   "source": [
    "array1 = np.array([3,4,5.45,6.12,6,7],dtype = complex)\n",
    "array1"
   ]
  },
  {
   "cell_type": "code",
   "execution_count": null,
   "id": "representative-designer",
   "metadata": {},
   "outputs": [],
   "source": []
  },
  {
   "cell_type": "code",
   "execution_count": 68,
   "id": "rolled-marijuana",
   "metadata": {},
   "outputs": [
    {
     "data": {
      "text/plain": [
       "array(['3', '4', '5.45', '6.12', '6', '7'], dtype='<U4')"
      ]
     },
     "execution_count": 68,
     "metadata": {},
     "output_type": "execute_result"
    }
   ],
   "source": [
    "array1 = np.array([3,4,5.45,6.12,6,7],dtype = str)\n",
    "array1"
   ]
  },
  {
   "cell_type": "markdown",
   "id": "sustained-market",
   "metadata": {},
   "source": [
    "### Complex to other datatypes"
   ]
  },
  {
   "cell_type": "code",
   "execution_count": null,
   "id": "brief-farming",
   "metadata": {},
   "outputs": [],
   "source": [
    "can't convert complex to int"
   ]
  },
  {
   "cell_type": "code",
   "execution_count": 76,
   "id": "north-journal",
   "metadata": {},
   "outputs": [
    {
     "data": {
      "text/plain": [
       "array([ 4.+6.j, 10.+0.j, 20.+0.j, 30.+0.j, 40.+0.j])"
      ]
     },
     "execution_count": 76,
     "metadata": {},
     "output_type": "execute_result"
    }
   ],
   "source": [
    "array1 = np.array([4+6j, 10,20,30,40])\n",
    "array1"
   ]
  },
  {
   "cell_type": "code",
   "execution_count": 78,
   "id": "current-roots",
   "metadata": {},
   "outputs": [
    {
     "ename": "TypeError",
     "evalue": "can't convert complex to int",
     "output_type": "error",
     "traceback": [
      "\u001b[1;31m---------------------------------------------------------------------------\u001b[0m",
      "\u001b[1;31mTypeError\u001b[0m                                 Traceback (most recent call last)",
      "\u001b[1;32m<ipython-input-78-79c31315b5f5>\u001b[0m in \u001b[0;36m<module>\u001b[1;34m\u001b[0m\n\u001b[1;32m----> 1\u001b[1;33m \u001b[0marray1\u001b[0m \u001b[1;33m=\u001b[0m \u001b[0mnp\u001b[0m\u001b[1;33m.\u001b[0m\u001b[0marray\u001b[0m\u001b[1;33m(\u001b[0m\u001b[1;33m[\u001b[0m\u001b[1;36m4\u001b[0m\u001b[1;33m+\u001b[0m\u001b[1;36m6j\u001b[0m\u001b[1;33m,\u001b[0m \u001b[1;36m10\u001b[0m\u001b[1;33m,\u001b[0m\u001b[1;36m20\u001b[0m\u001b[1;33m,\u001b[0m\u001b[1;36m30\u001b[0m\u001b[1;33m,\u001b[0m\u001b[1;36m40\u001b[0m\u001b[1;33m]\u001b[0m\u001b[1;33m,\u001b[0m\u001b[0mdtype\u001b[0m \u001b[1;33m=\u001b[0m \u001b[0mint\u001b[0m\u001b[1;33m)\u001b[0m\u001b[1;33m\u001b[0m\u001b[1;33m\u001b[0m\u001b[0m\n\u001b[0m\u001b[0;32m      2\u001b[0m \u001b[0marray1\u001b[0m\u001b[1;33m\u001b[0m\u001b[1;33m\u001b[0m\u001b[0m\n",
      "\u001b[1;31mTypeError\u001b[0m: can't convert complex to int"
     ]
    }
   ],
   "source": [
    "array1 = np.array([4+6j, 10,20,30,40],dtype = int)\n",
    "array1"
   ]
  },
  {
   "cell_type": "code",
   "execution_count": 80,
   "id": "occasional-classroom",
   "metadata": {},
   "outputs": [
    {
     "ename": "TypeError",
     "evalue": "can't convert complex to float",
     "output_type": "error",
     "traceback": [
      "\u001b[1;31m---------------------------------------------------------------------------\u001b[0m",
      "\u001b[1;31mTypeError\u001b[0m                                 Traceback (most recent call last)",
      "\u001b[1;32m<ipython-input-80-47f730fdfddd>\u001b[0m in \u001b[0;36m<module>\u001b[1;34m\u001b[0m\n\u001b[1;32m----> 1\u001b[1;33m \u001b[0marray1\u001b[0m \u001b[1;33m=\u001b[0m \u001b[0mnp\u001b[0m\u001b[1;33m.\u001b[0m\u001b[0marray\u001b[0m\u001b[1;33m(\u001b[0m\u001b[1;33m[\u001b[0m\u001b[1;36m4\u001b[0m\u001b[1;33m+\u001b[0m\u001b[1;36m6j\u001b[0m\u001b[1;33m,\u001b[0m \u001b[1;36m10\u001b[0m\u001b[1;33m,\u001b[0m\u001b[1;36m20\u001b[0m\u001b[1;33m,\u001b[0m\u001b[1;36m30\u001b[0m\u001b[1;33m,\u001b[0m\u001b[1;36m40\u001b[0m\u001b[1;33m]\u001b[0m\u001b[1;33m,\u001b[0m\u001b[0mdtype\u001b[0m \u001b[1;33m=\u001b[0m \u001b[0mfloat\u001b[0m\u001b[1;33m)\u001b[0m\u001b[1;33m\u001b[0m\u001b[1;33m\u001b[0m\u001b[0m\n\u001b[0m\u001b[0;32m      2\u001b[0m \u001b[0marray1\u001b[0m\u001b[1;33m\u001b[0m\u001b[1;33m\u001b[0m\u001b[0m\n",
      "\u001b[1;31mTypeError\u001b[0m: can't convert complex to float"
     ]
    }
   ],
   "source": [
    "array1 = np.array([4+6j, 10,20,30,40],dtype = float)\n",
    "array1"
   ]
  },
  {
   "cell_type": "code",
   "execution_count": 82,
   "id": "electrical-fitness",
   "metadata": {},
   "outputs": [
    {
     "ename": "TypeError",
     "evalue": "can't convert complex to int",
     "output_type": "error",
     "traceback": [
      "\u001b[1;31m---------------------------------------------------------------------------\u001b[0m",
      "\u001b[1;31mTypeError\u001b[0m                                 Traceback (most recent call last)",
      "\u001b[1;32m<ipython-input-82-44b4f3ad51ff>\u001b[0m in \u001b[0;36m<module>\u001b[1;34m\u001b[0m\n\u001b[1;32m----> 1\u001b[1;33m \u001b[0mint\u001b[0m\u001b[1;33m(\u001b[0m\u001b[1;36m3\u001b[0m\u001b[1;33m+\u001b[0m\u001b[1;36m4j\u001b[0m\u001b[1;33m)\u001b[0m\u001b[1;33m\u001b[0m\u001b[1;33m\u001b[0m\u001b[0m\n\u001b[0m",
      "\u001b[1;31mTypeError\u001b[0m: can't convert complex to int"
     ]
    }
   ],
   "source": [
    "int(3+4j)"
   ]
  },
  {
   "cell_type": "markdown",
   "id": "independent-daisy",
   "metadata": {},
   "source": [
    "### Numeric Operation"
   ]
  },
  {
   "cell_type": "code",
   "execution_count": 84,
   "id": "surgical-driving",
   "metadata": {},
   "outputs": [
    {
     "data": {
      "text/plain": [
       "array([3, 4, 5, 6, 7])"
      ]
     },
     "execution_count": 84,
     "metadata": {},
     "output_type": "execute_result"
    }
   ],
   "source": [
    "array2 = np.array([3,4,5,6,7])\n",
    "array2"
   ]
  },
  {
   "cell_type": "code",
   "execution_count": 87,
   "id": "brief-insider",
   "metadata": {},
   "outputs": [
    {
     "data": {
      "text/plain": [
       "[27, 64, 125, 216, 343]"
      ]
     },
     "execution_count": 87,
     "metadata": {},
     "output_type": "execute_result"
    }
   ],
   "source": [
    "list1 = [3,4,5,6,7]\n",
    "cube_list = [i**3 for i in list1]\n",
    "cube_list"
   ]
  },
  {
   "cell_type": "code",
   "execution_count": 89,
   "id": "artistic-assistant",
   "metadata": {},
   "outputs": [
    {
     "data": {
      "text/plain": [
       "[30, 40, 50, 60, 70]"
      ]
     },
     "execution_count": 89,
     "metadata": {},
     "output_type": "execute_result"
    }
   ],
   "source": [
    "list1 = [3,4,5,6,7]\n",
    "result = [i*10 for i in list1]\n",
    "result"
   ]
  },
  {
   "cell_type": "code",
   "execution_count": 91,
   "id": "appointed-daughter",
   "metadata": {},
   "outputs": [
    {
     "data": {
      "text/plain": [
       "array([30, 40, 50, 60, 70])"
      ]
     },
     "execution_count": 91,
     "metadata": {},
     "output_type": "execute_result"
    }
   ],
   "source": [
    "array2 = np.array([3,4,5,6,7])\n",
    "array2 * 10"
   ]
  },
  {
   "cell_type": "code",
   "execution_count": 93,
   "id": "fifty-commercial",
   "metadata": {},
   "outputs": [
    {
     "data": {
      "text/plain": [
       "array([103, 104, 105, 106, 107])"
      ]
     },
     "execution_count": 93,
     "metadata": {},
     "output_type": "execute_result"
    }
   ],
   "source": [
    "array2 = np.array([3,4,5,6,7])\n",
    "array2 + 100"
   ]
  },
  {
   "cell_type": "code",
   "execution_count": 95,
   "id": "express-jungle",
   "metadata": {},
   "outputs": [
    {
     "data": {
      "text/plain": [
       "array([ 9, 16, 25, 36, 49], dtype=int32)"
      ]
     },
     "execution_count": 95,
     "metadata": {},
     "output_type": "execute_result"
    }
   ],
   "source": [
    "array2 = np.array([3,4,5,6,7])\n",
    "array2 ** 2"
   ]
  },
  {
   "cell_type": "code",
   "execution_count": 97,
   "id": "suspected-calibration",
   "metadata": {},
   "outputs": [
    {
     "data": {
      "text/plain": [
       "array([ 27,  64, 125, 216, 343], dtype=int32)"
      ]
     },
     "execution_count": 97,
     "metadata": {},
     "output_type": "execute_result"
    }
   ],
   "source": [
    "array2 = np.array([3,4,5,6,7])\n",
    "array2 ** 3"
   ]
  },
  {
   "cell_type": "code",
   "execution_count": 99,
   "id": "hydraulic-concept",
   "metadata": {},
   "outputs": [
    {
     "data": {
      "text/plain": [
       "array([1.5, 2. , 2.5, 3. , 3.5])"
      ]
     },
     "execution_count": 99,
     "metadata": {},
     "output_type": "execute_result"
    }
   ],
   "source": [
    "array2 = np.array([3,4,5,6,7])\n",
    "array2/2"
   ]
  },
  {
   "cell_type": "code",
   "execution_count": 100,
   "id": "phantom-lottery",
   "metadata": {},
   "outputs": [
    {
     "data": {
      "text/plain": [
       "array([1, 2, 2, 3, 3], dtype=int32)"
      ]
     },
     "execution_count": 100,
     "metadata": {},
     "output_type": "execute_result"
    }
   ],
   "source": [
    "array2 = np.array([3,4,5,6,7])\n",
    "array2//2"
   ]
  },
  {
   "cell_type": "code",
   "execution_count": 102,
   "id": "warming-collaboration",
   "metadata": {},
   "outputs": [
    {
     "data": {
      "text/plain": [
       "array([1, 0, 1, 0, 1], dtype=int32)"
      ]
     },
     "execution_count": 102,
     "metadata": {},
     "output_type": "execute_result"
    }
   ],
   "source": [
    "array2 = np.array([3,4,5,6,7])\n",
    "array2 % 2"
   ]
  },
  {
   "cell_type": "code",
   "execution_count": 104,
   "id": "nasty-corpus",
   "metadata": {},
   "outputs": [
    {
     "data": {
      "text/plain": [
       "array([0, 1, 2, 0, 1], dtype=int32)"
      ]
     },
     "execution_count": 104,
     "metadata": {},
     "output_type": "execute_result"
    }
   ],
   "source": [
    "array2 = np.array([3,4,5,6,7])\n",
    "array2 % 3"
   ]
  },
  {
   "cell_type": "code",
   "execution_count": 106,
   "id": "assumed-corpus",
   "metadata": {},
   "outputs": [
    {
     "data": {
      "text/plain": [
       "array([-2, -1,  0,  1,  2])"
      ]
     },
     "execution_count": 106,
     "metadata": {},
     "output_type": "execute_result"
    }
   ],
   "source": [
    "array2 = np.array([3,4,5,6,7])\n",
    "array2 - 5"
   ]
  },
  {
   "cell_type": "code",
   "execution_count": 108,
   "id": "exceptional-trout",
   "metadata": {},
   "outputs": [
    {
     "data": {
      "text/plain": [
       "array([ 27,  64, 125, 216, 343], dtype=int32)"
      ]
     },
     "execution_count": 108,
     "metadata": {},
     "output_type": "execute_result"
    }
   ],
   "source": [
    "list1 = [3,4,5,6,7]\n",
    "array1 = np.array(list1)\n",
    "array1 ** 3\n"
   ]
  },
  {
   "cell_type": "code",
   "execution_count": 112,
   "id": "varied-pressure",
   "metadata": {},
   "outputs": [
    {
     "data": {
      "text/plain": [
       "[27, 64, 125, 216, 343]"
      ]
     },
     "execution_count": 112,
     "metadata": {},
     "output_type": "execute_result"
    }
   ],
   "source": [
    "list1 = [3,4,5,6,7]\n",
    "cubes = np.array(list1) ** 3\n",
    "cubes.tolist()"
   ]
  },
  {
   "cell_type": "code",
   "execution_count": 115,
   "id": "threatened-wholesale",
   "metadata": {},
   "outputs": [
    {
     "data": {
      "text/plain": [
       "[27, 64, 125, 216, 343]"
      ]
     },
     "execution_count": 115,
     "metadata": {},
     "output_type": "execute_result"
    }
   ],
   "source": [
    "list1 = [3,4,5,6,7]\n",
    "cubes = np.array(list1) ** 3\n",
    "list(cubes)"
   ]
  },
  {
   "cell_type": "code",
   "execution_count": null,
   "id": "maritime-concrete",
   "metadata": {},
   "outputs": [],
   "source": [
    "list1 = [3,4,5,6,7]\n",
    "cubes = np.array(list1) ** 3\n",
    "list(cubes)"
   ]
  },
  {
   "cell_type": "code",
   "execution_count": 118,
   "id": "wound-cookbook",
   "metadata": {},
   "outputs": [
    {
     "data": {
      "text/plain": [
       "[27, 64, 125, 216, 343]"
      ]
     },
     "execution_count": 118,
     "metadata": {},
     "output_type": "execute_result"
    }
   ],
   "source": [
    "list1 = [3,4,5,6,7]\n",
    "cubes = (np.array(list1) ** 3).tolist()\n",
    "cubes"
   ]
  },
  {
   "cell_type": "markdown",
   "id": "daily-enhancement",
   "metadata": {},
   "source": [
    "### Dimensions in Numpy Array"
   ]
  },
  {
   "cell_type": "markdown",
   "id": "statistical-withdrawal",
   "metadata": {},
   "source": [
    "##### 1. Zero-Dimensional Array"
   ]
  },
  {
   "cell_type": "code",
   "execution_count": 120,
   "id": "designed-premium",
   "metadata": {},
   "outputs": [
    {
     "data": {
      "text/plain": [
       "array(50)"
      ]
     },
     "execution_count": 120,
     "metadata": {},
     "output_type": "execute_result"
    }
   ],
   "source": [
    "array0 = np.array(50)\n",
    "array0"
   ]
  },
  {
   "cell_type": "code",
   "execution_count": 123,
   "id": "infinite-cosmetic",
   "metadata": {},
   "outputs": [
    {
     "name": "stdout",
     "output_type": "stream",
     "text": [
      "Number of Dimensions are : 0\n"
     ]
    }
   ],
   "source": [
    "array0 = np.array(50)\n",
    "print(\"Number of Dimensions are :\",array0.ndim)"
   ]
  },
  {
   "cell_type": "markdown",
   "id": "acute-roots",
   "metadata": {},
   "source": [
    "#### 2. One-Dimensional Array"
   ]
  },
  {
   "cell_type": "code",
   "execution_count": null,
   "id": "fitted-notion",
   "metadata": {},
   "outputs": [],
   "source": [
    "It is collection of multiple 0-D arrays"
   ]
  },
  {
   "cell_type": "code",
   "execution_count": 126,
   "id": "mechanical-blast",
   "metadata": {},
   "outputs": [
    {
     "name": "stdout",
     "output_type": "stream",
     "text": [
      "Array is : [4 5 6 7]\n",
      "Number of Dimensions are : 1\n"
     ]
    }
   ],
   "source": [
    "array1 = np.array([4,5,6,7])\n",
    "print(\"Array is :\",array1)\n",
    "print(\"Number of Dimensions are :\",array1.ndim)"
   ]
  },
  {
   "cell_type": "code",
   "execution_count": 128,
   "id": "center-fleece",
   "metadata": {},
   "outputs": [
    {
     "name": "stdout",
     "output_type": "stream",
     "text": [
      "Array is : [  4   5   6   7 102  40  50  90]\n",
      "Number of Dimensions are : 1\n"
     ]
    }
   ],
   "source": [
    "array1 = np.array([4,5,6,7,102,40,50,90])\n",
    "print(\"Array is :\",array1)\n",
    "print(\"Number of Dimensions are :\",array1.ndim)"
   ]
  },
  {
   "cell_type": "markdown",
   "id": "cultural-exclusion",
   "metadata": {},
   "source": [
    "#### 3. Two Dimensional Array"
   ]
  },
  {
   "cell_type": "code",
   "execution_count": null,
   "id": "medieval-climb",
   "metadata": {},
   "outputs": [],
   "source": [
    "It is collection of multiple 1-D arrays"
   ]
  },
  {
   "cell_type": "code",
   "execution_count": 137,
   "id": "amino-editor",
   "metadata": {},
   "outputs": [
    {
     "name": "stdout",
     "output_type": "stream",
     "text": [
      "Array is :\n",
      " [[  4   5   6]\n",
      " [  7 102  40]\n",
      " [ 10  50  90]]\n",
      "Number of Dimensions are : 2\n"
     ]
    },
    {
     "data": {
      "text/plain": [
       "3"
      ]
     },
     "execution_count": 137,
     "metadata": {},
     "output_type": "execute_result"
    }
   ],
   "source": [
    "array2 = np.array([[4,5,6],[7,102,40],[10,50,90]])\n",
    "print(\"Array is :\\n\",array2)\n",
    "print(\"Number of Dimensions are :\",array2.ndim)\n",
    "len(array2)"
   ]
  },
  {
   "cell_type": "code",
   "execution_count": 138,
   "id": "broken-dining",
   "metadata": {},
   "outputs": [
    {
     "name": "stdout",
     "output_type": "stream",
     "text": [
      "Array is :\n",
      " [list([4, 5, 6]) list([7, 102, 40]) list([10, 50, 90, 100])]\n",
      "Number of Dimensions are : 1\n"
     ]
    },
    {
     "name": "stderr",
     "output_type": "stream",
     "text": [
      "<ipython-input-138-36dbbf980849>:1: VisibleDeprecationWarning: Creating an ndarray from ragged nested sequences (which is a list-or-tuple of lists-or-tuples-or ndarrays with different lengths or shapes) is deprecated. If you meant to do this, you must specify 'dtype=object' when creating the ndarray.\n",
      "  array2 = np.array([[4,5,6],[7,102,40],[10,50,90,100]])\n"
     ]
    },
    {
     "data": {
      "text/plain": [
       "3"
      ]
     },
     "execution_count": 138,
     "metadata": {},
     "output_type": "execute_result"
    }
   ],
   "source": [
    "array2 = np.array([[4,5,6],[7,102,40],[10,50,90,100]])\n",
    "print(\"Array is :\\n\",array2)\n",
    "print(\"Number of Dimensions are :\",array2.ndim)\n",
    "len(array2)"
   ]
  },
  {
   "cell_type": "code",
   "execution_count": 139,
   "id": "aerial-wright",
   "metadata": {},
   "outputs": [
    {
     "data": {
      "text/plain": [
       "[[4, 5, 6], [7, 102, 40], [10, 50, 90]]"
      ]
     },
     "execution_count": 139,
     "metadata": {},
     "output_type": "execute_result"
    }
   ],
   "source": [
    "list1 = [[4,5,6],[7,102,40],[10,50,90]]\n",
    "len(list1)\n",
    "list1"
   ]
  },
  {
   "cell_type": "code",
   "execution_count": null,
   "id": "intermediate-victor",
   "metadata": {},
   "outputs": [],
   "source": [
    "[4,5,6],\n",
    "[7,4,5],\n",
    "[3,6,7,9]"
   ]
  },
  {
   "cell_type": "code",
   "execution_count": 142,
   "id": "welsh-wealth",
   "metadata": {},
   "outputs": [
    {
     "data": {
      "text/plain": [
       "array([[  4,   5,   6],\n",
       "       [  7, 102,  40],\n",
       "       [ 10,  50,  90]])"
      ]
     },
     "execution_count": 142,
     "metadata": {},
     "output_type": "execute_result"
    }
   ],
   "source": [
    "array2 = np.array([[4,5,6],[7,102,40],[10,50,90]])\n",
    "array2"
   ]
  },
  {
   "cell_type": "code",
   "execution_count": 144,
   "id": "stuffed-seating",
   "metadata": {},
   "outputs": [
    {
     "data": {
      "text/plain": [
       "2"
      ]
     },
     "execution_count": 144,
     "metadata": {},
     "output_type": "execute_result"
    }
   ],
   "source": [
    "array2.ndim"
   ]
  },
  {
   "cell_type": "code",
   "execution_count": 146,
   "id": "reserved-length",
   "metadata": {},
   "outputs": [
    {
     "data": {
      "text/plain": [
       "(3, 3)"
      ]
     },
     "execution_count": 146,
     "metadata": {},
     "output_type": "execute_result"
    }
   ],
   "source": [
    "array2.shape"
   ]
  },
  {
   "cell_type": "code",
   "execution_count": 149,
   "id": "retired-depth",
   "metadata": {},
   "outputs": [
    {
     "data": {
      "text/plain": [
       "array([[  4,   5,   6],\n",
       "       [  7, 102,  40],\n",
       "       [ 10,  50,  90],\n",
       "       [  1,   2,   3]])"
      ]
     },
     "execution_count": 149,
     "metadata": {},
     "output_type": "execute_result"
    }
   ],
   "source": [
    "array2 = np.array([[4,5,6],[7,102,40],[10,50,90],[1,2,3]])\n",
    "array2"
   ]
  },
  {
   "cell_type": "code",
   "execution_count": 150,
   "id": "heated-elephant",
   "metadata": {},
   "outputs": [
    {
     "data": {
      "text/plain": [
       "2"
      ]
     },
     "execution_count": 150,
     "metadata": {},
     "output_type": "execute_result"
    }
   ],
   "source": [
    "array2.ndim"
   ]
  },
  {
   "cell_type": "code",
   "execution_count": 152,
   "id": "suitable-unemployment",
   "metadata": {},
   "outputs": [
    {
     "data": {
      "text/plain": [
       "(4, 3)"
      ]
     },
     "execution_count": 152,
     "metadata": {},
     "output_type": "execute_result"
    }
   ],
   "source": [
    "array2.shape"
   ]
  },
  {
   "cell_type": "code",
   "execution_count": 155,
   "id": "rolled-rapid",
   "metadata": {},
   "outputs": [
    {
     "name": "stdout",
     "output_type": "stream",
     "text": [
      "Number of Rows : 4\n",
      "Number of Columns : 3\n"
     ]
    }
   ],
   "source": [
    "array2 = np.array([[4,5,6],[7,102,40],[10,50,90],[1,2,3]])\n",
    "print(\"Number of Rows :\",array2.shape[0])\n",
    "print(\"Number of Columns :\",array2.shape[1])"
   ]
  },
  {
   "cell_type": "code",
   "execution_count": 158,
   "id": "congressional-indicator",
   "metadata": {},
   "outputs": [
    {
     "name": "stdout",
     "output_type": "stream",
     "text": [
      "Number of Rows : 4\n",
      "Number of Columns : 3\n"
     ]
    }
   ],
   "source": [
    "array2 = np.array([[4,5,6],[7,102,40],[10,50,90],[1,2,3]])\n",
    "rows_count = array2.shape[0]\n",
    "col_count = array2.shape[1]\n",
    "print(\"Number of Rows :\",rows_count)\n",
    "print(\"Number of Columns :\",col_count)"
   ]
  },
  {
   "cell_type": "markdown",
   "id": "expired-relevance",
   "metadata": {},
   "source": [
    "### 4. Three Dimensional Array"
   ]
  },
  {
   "cell_type": "raw",
   "id": "union-bidder",
   "metadata": {},
   "source": [
    "It is collection of multiple 2-D arrays"
   ]
  },
  {
   "cell_type": "code",
   "execution_count": 160,
   "id": "canadian-democracy",
   "metadata": {},
   "outputs": [
    {
     "data": {
      "text/plain": [
       "1"
      ]
     },
     "execution_count": 160,
     "metadata": {},
     "output_type": "execute_result"
    }
   ],
   "source": [
    "array3 = np.array([[[4,5,6],[7,102,40],[10,50,90],[1,2,3]]])\n",
    "len(array3)"
   ]
  },
  {
   "cell_type": "code",
   "execution_count": 163,
   "id": "opening-nebraska",
   "metadata": {},
   "outputs": [
    {
     "data": {
      "text/plain": [
       "array([[[  4,   5,   6],\n",
       "        [  7, 102,  40],\n",
       "        [ 10,  50,  90],\n",
       "        [  1,   2,   3]]])"
      ]
     },
     "execution_count": 163,
     "metadata": {},
     "output_type": "execute_result"
    }
   ],
   "source": [
    "array3 = np.array([[[4,5,6],[7,102,40],[10,50,90],[1,2,3]]])\n",
    "array3"
   ]
  },
  {
   "cell_type": "code",
   "execution_count": 166,
   "id": "overall-trance",
   "metadata": {},
   "outputs": [
    {
     "data": {
      "text/plain": [
       "array([[[  4,   5,   6],\n",
       "        [  7, 102,  40],\n",
       "        [ 10,  50,  90]],\n",
       "\n",
       "       [[ 40,  50,  60],\n",
       "        [ 70, 102,  40],\n",
       "        [100, 500, 900]]])"
      ]
     },
     "execution_count": 166,
     "metadata": {},
     "output_type": "execute_result"
    }
   ],
   "source": [
    "array3 = np.array([[[4,5,6],[7,102,40],[10,50,90]],[[40,50,60],[70,102,40],[100,500,900]]])\n",
    "array3"
   ]
  },
  {
   "cell_type": "code",
   "execution_count": 171,
   "id": "public-token",
   "metadata": {},
   "outputs": [
    {
     "data": {
      "text/plain": [
       "(2, 3, 3)"
      ]
     },
     "execution_count": 171,
     "metadata": {},
     "output_type": "execute_result"
    }
   ],
   "source": [
    "array3 = np.array([[[4,5,6],[7,102,40],[10,50,90]],[[40,50,60],[70,102,40],[100,500,900]]])\n",
    "array3.shape"
   ]
  },
  {
   "cell_type": "code",
   "execution_count": 176,
   "id": "intense-headset",
   "metadata": {},
   "outputs": [
    {
     "data": {
      "text/plain": [
       "array([[[  4,   5],\n",
       "        [  7,  40],\n",
       "        [ 10,  90]],\n",
       "\n",
       "       [[ 40,  60],\n",
       "        [ 70,  40],\n",
       "        [  1, 500]]])"
      ]
     },
     "execution_count": 176,
     "metadata": {},
     "output_type": "execute_result"
    }
   ],
   "source": [
    "array3 = np.array([[[4,5],[7,40],[10,90]],[[40,60],[70,40],[1,500]]])\n",
    "array3"
   ]
  },
  {
   "cell_type": "code",
   "execution_count": 178,
   "id": "short-mentor",
   "metadata": {},
   "outputs": [
    {
     "data": {
      "text/plain": [
       "(2, 3, 2)"
      ]
     },
     "execution_count": 178,
     "metadata": {},
     "output_type": "execute_result"
    }
   ],
   "source": [
    "array3 = np.array([[[4,5],[7,40],[10,90]],[[40,60],[70,40],[1,500]]])\n",
    "array3.shape"
   ]
  },
  {
   "cell_type": "code",
   "execution_count": 180,
   "id": "legal-valley",
   "metadata": {},
   "outputs": [
    {
     "data": {
      "text/plain": [
       "array([[[  4,   5],\n",
       "        [  7,  40],\n",
       "        [ 10,  90]],\n",
       "\n",
       "       [[ 40,  60],\n",
       "        [ 70,  40],\n",
       "        [  1, 500]],\n",
       "\n",
       "       [[ 40,  60],\n",
       "        [ 70,  40],\n",
       "        [  1, 500]]])"
      ]
     },
     "execution_count": 180,
     "metadata": {},
     "output_type": "execute_result"
    }
   ],
   "source": [
    "array3 = np.array([[[4,5],[7,40],[10,90]],[[40,60],[70,40],[1,500]],[[40,60],[70,40],[1,500]]])\n",
    "array3"
   ]
  },
  {
   "cell_type": "code",
   "execution_count": 181,
   "id": "medical-manor",
   "metadata": {},
   "outputs": [
    {
     "data": {
      "text/plain": [
       "(3, 3, 2)"
      ]
     },
     "execution_count": 181,
     "metadata": {},
     "output_type": "execute_result"
    }
   ],
   "source": [
    "array3 = np.array([[[4,5],[7,40],[10,90]],[[40,60],[70,40],[1,500]],[[40,60],[70,40],[1,500]]])\n",
    "array3.shape"
   ]
  },
  {
   "cell_type": "code",
   "execution_count": null,
   "id": "informational-butter",
   "metadata": {},
   "outputs": [],
   "source": [
    "3,3,2"
   ]
  },
  {
   "cell_type": "markdown",
   "id": "separated-construction",
   "metadata": {},
   "source": [
    "### Access items using indexing and slicing"
   ]
  },
  {
   "cell_type": "code",
   "execution_count": 183,
   "id": "useful-reform",
   "metadata": {},
   "outputs": [
    {
     "data": {
      "text/plain": [
       "array([4, 5, 6, 7])"
      ]
     },
     "execution_count": 183,
     "metadata": {},
     "output_type": "execute_result"
    }
   ],
   "source": [
    "array1 = np.array([4,5,6,7])\n",
    "array1"
   ]
  },
  {
   "cell_type": "code",
   "execution_count": 184,
   "id": "established-induction",
   "metadata": {},
   "outputs": [
    {
     "data": {
      "text/plain": [
       "4"
      ]
     },
     "execution_count": 184,
     "metadata": {},
     "output_type": "execute_result"
    }
   ],
   "source": [
    "array1[0]"
   ]
  },
  {
   "cell_type": "code",
   "execution_count": 186,
   "id": "billion-slope",
   "metadata": {},
   "outputs": [
    {
     "data": {
      "text/plain": [
       "6"
      ]
     },
     "execution_count": 186,
     "metadata": {},
     "output_type": "execute_result"
    }
   ],
   "source": [
    "array1[2]"
   ]
  },
  {
   "cell_type": "code",
   "execution_count": 188,
   "id": "advisory-kenya",
   "metadata": {},
   "outputs": [
    {
     "data": {
      "text/plain": [
       "7"
      ]
     },
     "execution_count": 188,
     "metadata": {},
     "output_type": "execute_result"
    }
   ],
   "source": [
    "array1[-1]"
   ]
  },
  {
   "cell_type": "code",
   "execution_count": 189,
   "id": "operational-sullivan",
   "metadata": {},
   "outputs": [
    {
     "data": {
      "text/plain": [
       "5"
      ]
     },
     "execution_count": 189,
     "metadata": {},
     "output_type": "execute_result"
    }
   ],
   "source": [
    "array1[-3]"
   ]
  },
  {
   "cell_type": "code",
   "execution_count": 192,
   "id": "dental-height",
   "metadata": {},
   "outputs": [
    {
     "data": {
      "text/plain": [
       "array([[2, 3, 4, 8],\n",
       "       [1, 6, 7, 8]])"
      ]
     },
     "execution_count": 192,
     "metadata": {},
     "output_type": "execute_result"
    }
   ],
   "source": [
    "array2 = np.array([[2,3,4,8],[1,6,7,8]])\n",
    "array2"
   ]
  },
  {
   "cell_type": "code",
   "execution_count": 194,
   "id": "located-anaheim",
   "metadata": {},
   "outputs": [
    {
     "data": {
      "text/plain": [
       "(2, 4)"
      ]
     },
     "execution_count": 194,
     "metadata": {},
     "output_type": "execute_result"
    }
   ],
   "source": [
    "array2.shape"
   ]
  },
  {
   "cell_type": "code",
   "execution_count": 197,
   "id": "legendary-membrane",
   "metadata": {},
   "outputs": [
    {
     "data": {
      "text/plain": [
       "4"
      ]
     },
     "execution_count": 197,
     "metadata": {},
     "output_type": "execute_result"
    }
   ],
   "source": [
    "array2 = np.array([[2,3,4,8],[1,6,7,8]])\n",
    "array2[0][2]"
   ]
  },
  {
   "cell_type": "code",
   "execution_count": 199,
   "id": "otherwise-tradition",
   "metadata": {},
   "outputs": [
    {
     "data": {
      "text/plain": [
       "6"
      ]
     },
     "execution_count": 199,
     "metadata": {},
     "output_type": "execute_result"
    }
   ],
   "source": [
    "array2 = np.array([[2,3,4,8],[1,6,7,8]])\n",
    "array2[1][1]"
   ]
  },
  {
   "cell_type": "code",
   "execution_count": 201,
   "id": "quarterly-allah",
   "metadata": {},
   "outputs": [
    {
     "data": {
      "text/plain": [
       "4"
      ]
     },
     "execution_count": 201,
     "metadata": {},
     "output_type": "execute_result"
    }
   ],
   "source": [
    "array2 = np.array([[2,3,4,8],[1,6,7,8]])\n",
    "array2[0,2] # array2[0][2]"
   ]
  },
  {
   "cell_type": "code",
   "execution_count": 202,
   "id": "fossil-sound",
   "metadata": {},
   "outputs": [
    {
     "data": {
      "text/plain": [
       "4"
      ]
     },
     "execution_count": 202,
     "metadata": {},
     "output_type": "execute_result"
    }
   ],
   "source": [
    "array2 = np.array([[2,3,4,8],[1,6,7,8]])\n",
    "array2[0,2] # array2[0][2]"
   ]
  },
  {
   "cell_type": "code",
   "execution_count": 205,
   "id": "greatest-vietnam",
   "metadata": {},
   "outputs": [
    {
     "data": {
      "text/plain": [
       "5"
      ]
     },
     "execution_count": 205,
     "metadata": {},
     "output_type": "execute_result"
    }
   ],
   "source": [
    "list1 =[ [4,5,6]]\n",
    "list1[0][1]"
   ]
  },
  {
   "cell_type": "code",
   "execution_count": 208,
   "id": "spread-honor",
   "metadata": {},
   "outputs": [
    {
     "data": {
      "text/plain": [
       "array([1, 6, 7, 8])"
      ]
     },
     "execution_count": 208,
     "metadata": {},
     "output_type": "execute_result"
    }
   ],
   "source": [
    "array2 = np.array([[2,3,4,8],[1,6,7,8]])\n",
    "array2[-1] "
   ]
  },
  {
   "cell_type": "code",
   "execution_count": 211,
   "id": "another-discrimination",
   "metadata": {},
   "outputs": [
    {
     "data": {
      "text/plain": [
       "6"
      ]
     },
     "execution_count": 211,
     "metadata": {},
     "output_type": "execute_result"
    }
   ],
   "source": [
    "array2 = np.array([[2,3,4,8],[1,6,7,8]])\n",
    "array2[-1,-3]"
   ]
  },
  {
   "cell_type": "code",
   "execution_count": 213,
   "id": "plain-small",
   "metadata": {},
   "outputs": [
    {
     "data": {
      "text/plain": [
       "6"
      ]
     },
     "execution_count": 213,
     "metadata": {},
     "output_type": "execute_result"
    }
   ],
   "source": [
    "array2 = np.array([[2,3,4,8],[1,6,7,8]])\n",
    "array2[1,1] "
   ]
  },
  {
   "cell_type": "code",
   "execution_count": 216,
   "id": "mature-consistency",
   "metadata": {},
   "outputs": [
    {
     "data": {
      "text/plain": [
       "6"
      ]
     },
     "execution_count": 216,
     "metadata": {},
     "output_type": "execute_result"
    }
   ],
   "source": [
    "array2 = np.array([[2,3,4,8],[1,6,7,8]])\n",
    "array2[1,-3] "
   ]
  },
  {
   "cell_type": "code",
   "execution_count": 218,
   "id": "reasonable-graphics",
   "metadata": {},
   "outputs": [
    {
     "data": {
      "text/plain": [
       "6"
      ]
     },
     "execution_count": 218,
     "metadata": {},
     "output_type": "execute_result"
    }
   ],
   "source": [
    "array2 = np.array([[2,3,4,8],[1,6,7,8]])\n",
    "array2[-1,1] "
   ]
  },
  {
   "cell_type": "code",
   "execution_count": 220,
   "id": "competent-berkeley",
   "metadata": {},
   "outputs": [
    {
     "data": {
      "text/plain": [
       "array([[ 2,  3,  4,  8],\n",
       "       [ 1,  6,  7,  8],\n",
       "       [10, 20, 30, 54]])"
      ]
     },
     "execution_count": 220,
     "metadata": {},
     "output_type": "execute_result"
    }
   ],
   "source": [
    "array2 = np.array([[2,3,4,8],[1,6,7,8],[10,20,30,54]])\n",
    "array2"
   ]
  },
  {
   "cell_type": "code",
   "execution_count": 224,
   "id": "favorite-suggestion",
   "metadata": {},
   "outputs": [
    {
     "data": {
      "text/plain": [
       "array([[2, 3, 4, 8],\n",
       "       [1, 6, 7, 8]])"
      ]
     },
     "execution_count": 224,
     "metadata": {},
     "output_type": "execute_result"
    }
   ],
   "source": [
    "array2 = np.array([[2,3,4,8],[1,6,7,8],[10,20,30,54]])\n",
    "array2[0:2]"
   ]
  },
  {
   "cell_type": "code",
   "execution_count": 226,
   "id": "excess-literacy",
   "metadata": {},
   "outputs": [
    {
     "data": {
      "text/plain": [
       "7"
      ]
     },
     "execution_count": 226,
     "metadata": {},
     "output_type": "execute_result"
    }
   ],
   "source": [
    "array2 = np.array([[2,3,4,8],[1,6,7,8],[10,20,30,54]])\n",
    "array2[1,2]"
   ]
  },
  {
   "cell_type": "code",
   "execution_count": 228,
   "id": "improved-example",
   "metadata": {},
   "outputs": [
    {
     "data": {
      "text/plain": [
       "array([ 4,  7, 30])"
      ]
     },
     "execution_count": 228,
     "metadata": {},
     "output_type": "execute_result"
    }
   ],
   "source": [
    "array2 = np.array([[2,3,4,8],[1,6,7,8],[10,20,30,54]])\n",
    "array2[:,2]"
   ]
  },
  {
   "cell_type": "code",
   "execution_count": 230,
   "id": "hungry-things",
   "metadata": {},
   "outputs": [
    {
     "data": {
      "text/plain": [
       "array([[ 2,  3,  4,  8],\n",
       "       [ 1,  6,  7,  8],\n",
       "       [10, 20, 30, 54]])"
      ]
     },
     "execution_count": 230,
     "metadata": {},
     "output_type": "execute_result"
    }
   ],
   "source": [
    "array2 = np.array([[2,3,4,8],[1,6,7,8],[10,20,30,54]])\n",
    "array2[:,:]"
   ]
  },
  {
   "cell_type": "code",
   "execution_count": 232,
   "id": "surrounded-belle",
   "metadata": {},
   "outputs": [
    {
     "data": {
      "text/plain": [
       "array([ 6, 67,  7])"
      ]
     },
     "execution_count": 232,
     "metadata": {},
     "output_type": "execute_result"
    }
   ],
   "source": [
    "array1 = np.array([3,4,5,6,67,7,8,9,10])\n",
    "array1[3:6] # 3,4,5"
   ]
  },
  {
   "cell_type": "code",
   "execution_count": 234,
   "id": "planned-solomon",
   "metadata": {},
   "outputs": [
    {
     "data": {
      "text/plain": [
       "array([3, 4, 5])"
      ]
     },
     "execution_count": 234,
     "metadata": {},
     "output_type": "execute_result"
    }
   ],
   "source": [
    "array1 = np.array([3,4,5,6,67,7,8,9,10])\n",
    "array1[:3] # 0,1,2"
   ]
  },
  {
   "cell_type": "code",
   "execution_count": 235,
   "id": "wireless-eight",
   "metadata": {},
   "outputs": [
    {
     "data": {
      "text/plain": [
       "array([ 7,  8,  9, 10])"
      ]
     },
     "execution_count": 235,
     "metadata": {},
     "output_type": "execute_result"
    }
   ],
   "source": [
    "array1 = np.array([3,4,5,6,67,7,8,9,10])\n",
    "array1[-4:] # -4,-3,-2,-1"
   ]
  },
  {
   "cell_type": "code",
   "execution_count": 237,
   "id": "unavailable-absolute",
   "metadata": {},
   "outputs": [
    {
     "data": {
      "text/plain": [
       "array([[ 2,  3,  4,  8],\n",
       "       [ 1,  6,  7,  8],\n",
       "       [10, 20, 30, 54]])"
      ]
     },
     "execution_count": 237,
     "metadata": {},
     "output_type": "execute_result"
    }
   ],
   "source": [
    "array2 = np.array([[2,3,4,8],[1,6,7,8],[10,20,30,54]])\n",
    "array2"
   ]
  },
  {
   "cell_type": "code",
   "execution_count": 240,
   "id": "social-battle",
   "metadata": {},
   "outputs": [
    {
     "data": {
      "text/plain": [
       "array([[ 1,  6,  7,  8],\n",
       "       [10, 20, 30, 54]])"
      ]
     },
     "execution_count": 240,
     "metadata": {},
     "output_type": "execute_result"
    }
   ],
   "source": [
    "array2 = np.array([[2,3,4,8],[1,6,7,8],[10,20,30,54]])\n",
    "array2[1:,:]"
   ]
  },
  {
   "cell_type": "code",
   "execution_count": 242,
   "id": "later-being",
   "metadata": {},
   "outputs": [
    {
     "data": {
      "text/plain": [
       "array([[ 7,  8],\n",
       "       [30, 54]])"
      ]
     },
     "execution_count": 242,
     "metadata": {},
     "output_type": "execute_result"
    }
   ],
   "source": [
    "array2 = np.array([[2,3,4,8],[1,6,7,8],[10,20,30,54]])\n",
    "array2[1:,2:]"
   ]
  },
  {
   "cell_type": "code",
   "execution_count": 244,
   "id": "superior-vanilla",
   "metadata": {},
   "outputs": [
    {
     "data": {
      "text/plain": [
       "array([[4, 8],\n",
       "       [7, 8]])"
      ]
     },
     "execution_count": 244,
     "metadata": {},
     "output_type": "execute_result"
    }
   ],
   "source": [
    "array2 = np.array([[2,3,4,8],[1,6,7,8],[10,20,30,54]])\n",
    "array2[:2,2:] # 0 and 1st row"
   ]
  },
  {
   "cell_type": "code",
   "execution_count": 268,
   "id": "harmful-child",
   "metadata": {},
   "outputs": [
    {
     "data": {
      "text/plain": [
       "array([[ 2,  3,  4,  8],\n",
       "       [ 1,  6,  7,  8],\n",
       "       [10, 20, 30, 54]])"
      ]
     },
     "execution_count": 268,
     "metadata": {},
     "output_type": "execute_result"
    }
   ],
   "source": [
    "array2 = np.array([[2,3,4,8],[1,6,7,8],[10,20,30,54]])\n",
    "array2"
   ]
  },
  {
   "cell_type": "code",
   "execution_count": 269,
   "id": "institutional-envelope",
   "metadata": {},
   "outputs": [
    {
     "data": {
      "text/plain": [
       "[[2, 3, 4, 8], [1, 6, 7, 8], [10, 20, 30, 54]]"
      ]
     },
     "execution_count": 269,
     "metadata": {},
     "output_type": "execute_result"
    }
   ],
   "source": [
    "array2 = np.array([[2,3,4,8],[1,6,7,8],[10,20,30,54]])\n",
    "array2.tolist()"
   ]
  },
  {
   "cell_type": "code",
   "execution_count": 250,
   "id": "guided-malpractice",
   "metadata": {},
   "outputs": [
    {
     "data": {
      "text/plain": [
       "array([[3, 4],\n",
       "       [6, 7]])"
      ]
     },
     "execution_count": 250,
     "metadata": {},
     "output_type": "execute_result"
    }
   ],
   "source": [
    "array2[:2,-3:-1] # 0 and 1st row"
   ]
  },
  {
   "cell_type": "code",
   "execution_count": 253,
   "id": "reduced-basement",
   "metadata": {},
   "outputs": [
    {
     "data": {
      "text/plain": [
       "array([[[ 2,  3,  4,  8],\n",
       "        [ 1,  6,  7,  8],\n",
       "        [ 1,  2,  3,  4]],\n",
       "\n",
       "       [[20, 30, 40, 80],\n",
       "        [10, 60, 70, 80],\n",
       "        [10, 20, 30, 54]]])"
      ]
     },
     "execution_count": 253,
     "metadata": {},
     "output_type": "execute_result"
    }
   ],
   "source": [
    "array2 = np.array([[[2,3,4,8],[1,6,7,8],[1,2,3,4]],[[20,30,40,80],[10,60,70,80],[10,20,30,54]]])\n",
    "array2"
   ]
  },
  {
   "cell_type": "code",
   "execution_count": 257,
   "id": "organizational-grace",
   "metadata": {},
   "outputs": [
    {
     "data": {
      "text/plain": [
       "30"
      ]
     },
     "execution_count": 257,
     "metadata": {},
     "output_type": "execute_result"
    }
   ],
   "source": [
    "array2[1,0,1]"
   ]
  },
  {
   "cell_type": "code",
   "execution_count": 259,
   "id": "religious-kazakhstan",
   "metadata": {},
   "outputs": [
    {
     "data": {
      "text/plain": [
       "array([ 3, 30])"
      ]
     },
     "execution_count": 259,
     "metadata": {},
     "output_type": "execute_result"
    }
   ],
   "source": [
    "array2[:,0,1]"
   ]
  },
  {
   "cell_type": "code",
   "execution_count": 261,
   "id": "motivated-midnight",
   "metadata": {},
   "outputs": [
    {
     "data": {
      "text/plain": [
       "array([[[ 2,  3,  4,  8],\n",
       "        [ 1,  6,  7,  8],\n",
       "        [ 1,  2,  3,  4]],\n",
       "\n",
       "       [[20, 30, 40, 80],\n",
       "        [10, 60, 70, 80],\n",
       "        [10, 20, 30, 54]]])"
      ]
     },
     "execution_count": 261,
     "metadata": {},
     "output_type": "execute_result"
    }
   ],
   "source": [
    "array2[:,:,:]"
   ]
  },
  {
   "cell_type": "code",
   "execution_count": 264,
   "id": "reduced-martin",
   "metadata": {},
   "outputs": [
    {
     "data": {
      "text/plain": [
       "array([[[ 4,  8],\n",
       "        [ 7,  8],\n",
       "        [ 3,  4]],\n",
       "\n",
       "       [[40, 80],\n",
       "        [70, 80],\n",
       "        [30, 54]]])"
      ]
     },
     "execution_count": 264,
     "metadata": {},
     "output_type": "execute_result"
    }
   ],
   "source": [
    "array2[:,:,2:]"
   ]
  },
  {
   "cell_type": "code",
   "execution_count": 265,
   "id": "opposed-canvas",
   "metadata": {},
   "outputs": [
    {
     "data": {
      "text/plain": [
       "array([[[ 2,  3],\n",
       "        [ 1,  6],\n",
       "        [ 1,  2]],\n",
       "\n",
       "       [[20, 30],\n",
       "        [10, 60],\n",
       "        [10, 20]]])"
      ]
     },
     "execution_count": 265,
     "metadata": {},
     "output_type": "execute_result"
    }
   ],
   "source": [
    "array2[:,:,:-2]"
   ]
  },
  {
   "cell_type": "code",
   "execution_count": 270,
   "id": "conservative-ability",
   "metadata": {},
   "outputs": [
    {
     "name": "stdout",
     "output_type": "stream",
     "text": [
      "[[[2, 3, 4, 8], [1, 6, 7, 8], [1, 2, 3, 4]], [[20, 30, 40, 80], [10, 60, 70, 80], [10, 20, 30, 54]]]\n"
     ]
    }
   ],
   "source": [
    "array2 = np.array([[[2,3,4,8],[1,6,7,8],[1,2,3,4]],[[20,30,40,80],[10,60,70,80],[10,20,30,54]]])\n",
    "print(array2.tolist())"
   ]
  },
  {
   "cell_type": "code",
   "execution_count": 272,
   "id": "ceramic-timeline",
   "metadata": {},
   "outputs": [
    {
     "data": {
      "text/plain": [
       "(5,)"
      ]
     },
     "execution_count": 272,
     "metadata": {},
     "output_type": "execute_result"
    }
   ],
   "source": [
    "array1 = np.array([3,4,6,7,8])\n",
    "array1.shape"
   ]
  },
  {
   "cell_type": "code",
   "execution_count": 273,
   "id": "numerous-legislature",
   "metadata": {},
   "outputs": [
    {
     "data": {
      "text/plain": [
       "()"
      ]
     },
     "execution_count": 273,
     "metadata": {},
     "output_type": "execute_result"
    }
   ],
   "source": [
    "array1 = np.array(100)\n",
    "array1.shape"
   ]
  }
 ],
 "metadata": {
  "kernelspec": {
   "display_name": "Python 3 (ipykernel)",
   "language": "python",
   "name": "python3"
  },
  "language_info": {
   "codemirror_mode": {
    "name": "ipython",
    "version": 3
   },
   "file_extension": ".py",
   "mimetype": "text/x-python",
   "name": "python",
   "nbconvert_exporter": "python",
   "pygments_lexer": "ipython3",
   "version": "3.9.12"
  }
 },
 "nbformat": 4,
 "nbformat_minor": 5
}
