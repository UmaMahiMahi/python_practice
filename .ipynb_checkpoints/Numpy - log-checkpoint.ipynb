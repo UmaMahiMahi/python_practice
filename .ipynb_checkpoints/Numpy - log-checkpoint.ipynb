{
 "cells": [
  {
   "cell_type": "markdown",
   "id": "accomplished-minneapolis",
   "metadata": {},
   "source": [
    "### Numpy - log"
   ]
  },
  {
   "cell_type": "code",
   "execution_count": 2,
   "id": "former-beach",
   "metadata": {},
   "outputs": [],
   "source": [
    "import numpy as np"
   ]
  },
  {
   "cell_type": "code",
   "execution_count": null,
   "id": "loaded-revision",
   "metadata": {},
   "outputs": [],
   "source": [
    "1. np.log()\n",
    "2. np.log2()\n",
    "3. np.log10()"
   ]
  },
  {
   "cell_type": "markdown",
   "id": "crude-battery",
   "metadata": {},
   "source": [
    "### 1. np.log"
   ]
  },
  {
   "cell_type": "code",
   "execution_count": null,
   "id": "internal-crash",
   "metadata": {},
   "outputs": [],
   "source": [
    "Natural Log\n",
    "\n",
    "Log Trasformation Technique"
   ]
  },
  {
   "cell_type": "code",
   "execution_count": 4,
   "id": "objective-holly",
   "metadata": {},
   "outputs": [
    {
     "data": {
      "text/plain": [
       "3.6888794541139363"
      ]
     },
     "execution_count": 4,
     "metadata": {},
     "output_type": "execute_result"
    }
   ],
   "source": [
    "np.log(40)"
   ]
  },
  {
   "cell_type": "code",
   "execution_count": 6,
   "id": "cognitive-storm",
   "metadata": {},
   "outputs": [
    {
     "data": {
      "text/plain": [
       "2.995732273553991"
      ]
     },
     "execution_count": 6,
     "metadata": {},
     "output_type": "execute_result"
    }
   ],
   "source": [
    "np.log(20)"
   ]
  },
  {
   "cell_type": "code",
   "execution_count": 8,
   "id": "european-booth",
   "metadata": {},
   "outputs": [
    {
     "data": {
      "text/plain": [
       "2.302585092994046"
      ]
     },
     "execution_count": 8,
     "metadata": {},
     "output_type": "execute_result"
    }
   ],
   "source": [
    "np.log(10)"
   ]
  },
  {
   "cell_type": "code",
   "execution_count": 10,
   "id": "forbidden-species",
   "metadata": {},
   "outputs": [
    {
     "data": {
      "text/plain": [
       "0.6931471805599453"
      ]
     },
     "execution_count": 10,
     "metadata": {},
     "output_type": "execute_result"
    }
   ],
   "source": [
    "np.log(2)"
   ]
  },
  {
   "cell_type": "code",
   "execution_count": 12,
   "id": "illegal-civilian",
   "metadata": {},
   "outputs": [
    {
     "data": {
      "text/plain": [
       "0.0"
      ]
     },
     "execution_count": 12,
     "metadata": {},
     "output_type": "execute_result"
    }
   ],
   "source": [
    "np.log(1)"
   ]
  },
  {
   "cell_type": "code",
   "execution_count": 16,
   "id": "charged-nicholas",
   "metadata": {},
   "outputs": [
    {
     "data": {
      "text/plain": [
       "1.6094379124341003"
      ]
     },
     "execution_count": 16,
     "metadata": {},
     "output_type": "execute_result"
    }
   ],
   "source": [
    "np.log(5)"
   ]
  },
  {
   "cell_type": "markdown",
   "id": "swiss-preparation",
   "metadata": {},
   "source": [
    "### log Transformation"
   ]
  },
  {
   "cell_type": "code",
   "execution_count": 18,
   "id": "universal-emerald",
   "metadata": {},
   "outputs": [
    {
     "data": {
      "text/plain": [
       "array([2.99573227, 3.21887582, 3.25809654, 3.33220451, 3.55534806,\n",
       "       3.63758616, 3.4657359 , 3.66356165])"
      ]
     },
     "execution_count": 18,
     "metadata": {},
     "output_type": "execute_result"
    }
   ],
   "source": [
    "array1 = np.array([20,25,26,28,35,38,32,39])\n",
    "np.log(array1)"
   ]
  },
  {
   "cell_type": "code",
   "execution_count": 19,
   "id": "gentle-spotlight",
   "metadata": {},
   "outputs": [
    {
     "data": {
      "text/plain": [
       "array([2.99573227, 3.21887582, 3.25809654, 5.33753808, 3.55534806,\n",
       "       3.63758616, 3.4657359 , 3.66356165])"
      ]
     },
     "execution_count": 19,
     "metadata": {},
     "output_type": "execute_result"
    }
   ],
   "source": [
    "array1 = np.array([20,25,26,208,35,38,32,39])\n",
    "np.log(array1)"
   ]
  },
  {
   "cell_type": "code",
   "execution_count": 21,
   "id": "swedish-berkeley",
   "metadata": {},
   "outputs": [
    {
     "data": {
      "text/plain": [
       "array([ 4.47213595,  5.        ,  5.09901951, 14.4222051 ,  5.91607978,\n",
       "        6.164414  ,  5.65685425,  6.244998  ])"
      ]
     },
     "execution_count": 21,
     "metadata": {},
     "output_type": "execute_result"
    }
   ],
   "source": [
    "array1 = np.array([20,25,26,208,35,38,32,39])\n",
    "np.sqrt(array1)"
   ]
  },
  {
   "cell_type": "code",
   "execution_count": 22,
   "id": "thorough-hands",
   "metadata": {},
   "outputs": [
    {
     "data": {
      "text/plain": [
       "array([2.71441762, 2.92401774, 2.96249607, 5.92499214, 3.27106631,\n",
       "       3.36197541, 3.1748021 , 3.39121144])"
      ]
     },
     "execution_count": 22,
     "metadata": {},
     "output_type": "execute_result"
    }
   ],
   "source": [
    "array1 = np.array([20,25,26,208,35,38,32,39])\n",
    "np.cbrt(array1)"
   ]
  },
  {
   "cell_type": "markdown",
   "id": "behavioral-departure",
   "metadata": {},
   "source": [
    "### 2. np.log2()"
   ]
  },
  {
   "cell_type": "code",
   "execution_count": 25,
   "id": "offshore-membrane",
   "metadata": {},
   "outputs": [
    {
     "data": {
      "text/plain": [
       "3.6888794541139363"
      ]
     },
     "execution_count": 25,
     "metadata": {},
     "output_type": "execute_result"
    }
   ],
   "source": [
    "np.log(40)"
   ]
  },
  {
   "cell_type": "code",
   "execution_count": 27,
   "id": "excellent-cambodia",
   "metadata": {},
   "outputs": [
    {
     "data": {
      "text/plain": [
       "5.321928094887363"
      ]
     },
     "execution_count": 27,
     "metadata": {},
     "output_type": "execute_result"
    }
   ],
   "source": [
    "np.log2(40)"
   ]
  },
  {
   "cell_type": "code",
   "execution_count": 28,
   "id": "infrared-telephone",
   "metadata": {},
   "outputs": [
    {
     "data": {
      "text/plain": [
       "8.643856189774725"
      ]
     },
     "execution_count": 28,
     "metadata": {},
     "output_type": "execute_result"
    }
   ],
   "source": [
    "np.log2(400)"
   ]
  },
  {
   "cell_type": "code",
   "execution_count": 30,
   "id": "expired-fireplace",
   "metadata": {},
   "outputs": [
    {
     "data": {
      "text/plain": [
       "array([2.99573227, 3.21887582, 3.25809654, 5.33753808, 3.55534806,\n",
       "       3.63758616, 3.4657359 , 3.66356165])"
      ]
     },
     "execution_count": 30,
     "metadata": {},
     "output_type": "execute_result"
    }
   ],
   "source": [
    "array1 = np.array([20,25,26,208,35,38,32,39])\n",
    "np.log(array1)"
   ]
  },
  {
   "cell_type": "code",
   "execution_count": 32,
   "id": "painful-philippines",
   "metadata": {},
   "outputs": [
    {
     "data": {
      "text/plain": [
       "array([4.32192809, 4.64385619, 4.70043972, 7.70043972, 5.12928302,\n",
       "       5.24792751, 5.        , 5.28540222])"
      ]
     },
     "execution_count": 32,
     "metadata": {},
     "output_type": "execute_result"
    }
   ],
   "source": [
    "array1 = np.array([20,25,26,208,35,38,32,39])\n",
    "np.log2(array1)"
   ]
  },
  {
   "cell_type": "markdown",
   "id": "bronze-karma",
   "metadata": {},
   "source": [
    "### 3. log10"
   ]
  },
  {
   "cell_type": "code",
   "execution_count": 34,
   "id": "considerable-baseball",
   "metadata": {},
   "outputs": [
    {
     "data": {
      "text/plain": [
       "array([1.30103   , 1.39794001, 1.41497335, 2.31806333, 1.54406804,\n",
       "       1.5797836 , 1.50514998, 1.59106461])"
      ]
     },
     "execution_count": 34,
     "metadata": {},
     "output_type": "execute_result"
    }
   ],
   "source": [
    "array1 = np.array([20,25,26,208,35,38,32,39])\n",
    "np.log10(array1)"
   ]
  },
  {
   "cell_type": "code",
   "execution_count": 36,
   "id": "patent-reach",
   "metadata": {},
   "outputs": [
    {
     "data": {
      "text/plain": [
       "3.6888794541139363"
      ]
     },
     "execution_count": 36,
     "metadata": {},
     "output_type": "execute_result"
    }
   ],
   "source": [
    "np.log(40)"
   ]
  },
  {
   "cell_type": "code",
   "execution_count": null,
   "id": "consecutive-communist",
   "metadata": {},
   "outputs": [],
   "source": []
  },
  {
   "cell_type": "code",
   "execution_count": null,
   "id": "saving-wagner",
   "metadata": {},
   "outputs": [],
   "source": []
  }
 ],
 "metadata": {
  "kernelspec": {
   "display_name": "Python 3 (ipykernel)",
   "language": "python",
   "name": "python3"
  },
  "language_info": {
   "codemirror_mode": {
    "name": "ipython",
    "version": 3
   },
   "file_extension": ".py",
   "mimetype": "text/x-python",
   "name": "python",
   "nbconvert_exporter": "python",
   "pygments_lexer": "ipython3",
   "version": "3.9.12"
  }
 },
 "nbformat": 4,
 "nbformat_minor": 5
}
