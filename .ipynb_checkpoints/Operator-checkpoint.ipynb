{
 "cells": [
  {
   "cell_type": "markdown",
   "id": "plastic-vaccine",
   "metadata": {},
   "source": [
    "# Operator"
   ]
  },
  {
   "cell_type": "markdown",
   "id": "objective-purpose",
   "metadata": {},
   "source": [
    "# 1. Comparison Operator\n"
   ]
  },
  {
   "cell_type": "code",
   "execution_count": null,
   "id": "patent-marathon",
   "metadata": {},
   "outputs": [],
   "source": [
    "==     >> Equal \n",
    "!=     >> not equal\n",
    ">      >> Greater than\n",
    "<      >> less than\n",
    ">=     >> Greater than\n",
    "<=     >> Less than"
   ]
  },
  {
   "cell_type": "markdown",
   "id": "lesser-description",
   "metadata": {},
   "source": [
    "# 2. Logical Operator"
   ]
  },
  {
   "cell_type": "code",
   "execution_count": null,
   "id": "legislative-cleaners",
   "metadata": {},
   "outputs": [],
   "source": [
    "and\n",
    "or \n",
    "not"
   ]
  },
  {
   "cell_type": "markdown",
   "id": "southeast-ending",
   "metadata": {},
   "source": [
    "# 3. Arithmatic Operator"
   ]
  },
  {
   "cell_type": "code",
   "execution_count": null,
   "id": "requested-royalty",
   "metadata": {},
   "outputs": [],
   "source": [
    "+    >> Addition Operator\n",
    "-    >> Substraction\n",
    "*    >> Multiplication\n",
    "/    >> Division\n",
    "//   >> Floor Division\n",
    "%    >> Modulus \n",
    "**   >> Exponent\n",
    "()   >> Paranthesis"
   ]
  },
  {
   "cell_type": "markdown",
   "id": "champion-israeli",
   "metadata": {},
   "source": [
    "# 4. Assignment Operators"
   ]
  },
  {
   "cell_type": "code",
   "execution_count": null,
   "id": "fatal-bradley",
   "metadata": {},
   "outputs": [],
   "source": [
    "=     >> a = 5\n",
    "+=    >> a = a + 2\n",
    "-=    >> a = a - 2\n",
    "*=    >> a = a * 2\n",
    "/=    >> a = a / 2\n",
    "//=   >> a = a // 2\n",
    "%=    >> a = a % 2\n",
    "**=   >> a = a ** 2\n",
    "\n",
    "&=   >>  a = a & 5\n",
    "|=   >>  a = a | 5\n",
    "^=   >>  a = a ^ 5\n",
    ">>   :   a = a >> 2\n",
    "<<   :   a = a << 2"
   ]
  },
  {
   "cell_type": "markdown",
   "id": "respected-minutes",
   "metadata": {},
   "source": [
    "# 5. Membership Operators"
   ]
  },
  {
   "cell_type": "code",
   "execution_count": null,
   "id": "mighty-running",
   "metadata": {},
   "outputs": [],
   "source": [
    "in \n",
    "not in"
   ]
  },
  {
   "cell_type": "markdown",
   "id": "seventh-malta",
   "metadata": {},
   "source": [
    "# 6. Identity Operators"
   ]
  },
  {
   "cell_type": "code",
   "execution_count": null,
   "id": "legal-exhaust",
   "metadata": {},
   "outputs": [],
   "source": [
    "Used to compare memory location of two variables\n",
    "is \n",
    "is not"
   ]
  },
  {
   "cell_type": "markdown",
   "id": "abstract-polish",
   "metadata": {},
   "source": [
    "# 7. bitwise operators"
   ]
  },
  {
   "cell_type": "code",
   "execution_count": null,
   "id": "royal-boost",
   "metadata": {},
   "outputs": [],
   "source": [
    "&   >> bitwise AND\n",
    "|   >> bitwise OR\n",
    "^   >> bitwise XOR\n",
    ">>  : Right Shift\n",
    "<<  : Left Shift"
   ]
  },
  {
   "cell_type": "code",
   "execution_count": null,
   "id": "piano-terry",
   "metadata": {},
   "outputs": [],
   "source": []
  },
  {
   "cell_type": "code",
   "execution_count": 147,
   "id": "eastern-government",
   "metadata": {},
   "outputs": [
    {
     "name": "stdout",
     "output_type": "stream",
     "text": [
      "5\n",
      "7\n"
     ]
    }
   ],
   "source": [
    "a = 5\n",
    "print(a)\n",
    "a = a + 2\n",
    "print(a)\n"
   ]
  },
  {
   "cell_type": "code",
   "execution_count": 148,
   "id": "herbal-plant",
   "metadata": {},
   "outputs": [
    {
     "name": "stdout",
     "output_type": "stream",
     "text": [
      "5\n",
      "7\n"
     ]
    }
   ],
   "source": [
    "a = 5\n",
    "print(a)\n",
    "a += 2  # a = a + 2\n",
    "print(a)\n"
   ]
  },
  {
   "cell_type": "code",
   "execution_count": 150,
   "id": "worth-asthma",
   "metadata": {},
   "outputs": [],
   "source": [
    "count = 10\n",
    "count = count + 1\n",
    "count += 1"
   ]
  },
  {
   "cell_type": "code",
   "execution_count": 3,
   "id": "strong-hormone",
   "metadata": {},
   "outputs": [
    {
     "data": {
      "text/plain": [
       "30"
      ]
     },
     "execution_count": 3,
     "metadata": {},
     "output_type": "execute_result"
    }
   ],
   "source": [
    "a = 10\n",
    "b = 20\n",
    "\n",
    "a  + b"
   ]
  },
  {
   "cell_type": "code",
   "execution_count": 5,
   "id": "exciting-video",
   "metadata": {},
   "outputs": [
    {
     "data": {
      "text/plain": [
       "30.57"
      ]
     },
     "execution_count": 5,
     "metadata": {},
     "output_type": "execute_result"
    }
   ],
   "source": [
    "a = 10\n",
    "b = 20.57\n",
    "\n",
    "a + b"
   ]
  },
  {
   "cell_type": "code",
   "execution_count": 7,
   "id": "charming-fever",
   "metadata": {},
   "outputs": [
    {
     "data": {
      "text/plain": [
       "24.13"
      ]
     },
     "execution_count": 7,
     "metadata": {},
     "output_type": "execute_result"
    }
   ],
   "source": [
    "a = 3.56\n",
    "b = 20.57\n",
    "\n",
    "a + b"
   ]
  },
  {
   "cell_type": "code",
   "execution_count": 13,
   "id": "outer-voluntary",
   "metadata": {},
   "outputs": [
    {
     "data": {
      "text/plain": [
       "'PYTHON CLASS'"
      ]
     },
     "execution_count": 13,
     "metadata": {},
     "output_type": "execute_result"
    }
   ],
   "source": [
    "string1 = \"PYTHON\"\n",
    "string2 = \" CLASS\"\n",
    "\n",
    "string3 = string1 + string2\n",
    "string3"
   ]
  },
  {
   "cell_type": "code",
   "execution_count": 15,
   "id": "damaged-neutral",
   "metadata": {},
   "outputs": [
    {
     "name": "stdout",
     "output_type": "stream",
     "text": [
      "PYTHON\n"
     ]
    },
    {
     "data": {
      "text/plain": [
       "'PYTHON CLASS'"
      ]
     },
     "execution_count": 15,
     "metadata": {},
     "output_type": "execute_result"
    }
   ],
   "source": [
    "string1 = \"PYTHON\"\n",
    "string2 = \" CLASS\"\n",
    "\n",
    "print(string1)\n",
    "string1 = string1 + string2\n",
    "\n",
    "string1"
   ]
  },
  {
   "cell_type": "code",
   "execution_count": 17,
   "id": "behavioral-service",
   "metadata": {},
   "outputs": [
    {
     "data": {
      "text/plain": [
       "'PYTHON CLASS'"
      ]
     },
     "execution_count": 17,
     "metadata": {},
     "output_type": "execute_result"
    }
   ],
   "source": [
    "string1 = \"PYTHON\"\n",
    "string2 = \"CLASS\"\n",
    "string1 + ' ' + string2"
   ]
  },
  {
   "cell_type": "code",
   "execution_count": 19,
   "id": "auburn-diploma",
   "metadata": {},
   "outputs": [
    {
     "ename": "TypeError",
     "evalue": "can only concatenate str (not \"int\") to str",
     "output_type": "error",
     "traceback": [
      "\u001b[1;31m---------------------------------------------------------------------------\u001b[0m",
      "\u001b[1;31mTypeError\u001b[0m                                 Traceback (most recent call last)",
      "\u001b[1;32m<ipython-input-19-060a171018aa>\u001b[0m in \u001b[0;36m<module>\u001b[1;34m\u001b[0m\n\u001b[0;32m      1\u001b[0m \u001b[0mstring1\u001b[0m \u001b[1;33m=\u001b[0m \u001b[1;34m\"PYTHON\"\u001b[0m\u001b[1;33m\u001b[0m\u001b[1;33m\u001b[0m\u001b[0m\n\u001b[0;32m      2\u001b[0m \u001b[0mstring2\u001b[0m \u001b[1;33m=\u001b[0m \u001b[1;36m100\u001b[0m\u001b[1;33m\u001b[0m\u001b[1;33m\u001b[0m\u001b[0m\n\u001b[1;32m----> 3\u001b[1;33m \u001b[0mstring1\u001b[0m \u001b[1;33m+\u001b[0m \u001b[0mstring2\u001b[0m\u001b[1;33m\u001b[0m\u001b[1;33m\u001b[0m\u001b[0m\n\u001b[0m",
      "\u001b[1;31mTypeError\u001b[0m: can only concatenate str (not \"int\") to str"
     ]
    }
   ],
   "source": [
    "string1 = \"PYTHON\"\n",
    "string2 = 100\n",
    "string1 + string2"
   ]
  },
  {
   "cell_type": "code",
   "execution_count": 21,
   "id": "tested-notice",
   "metadata": {},
   "outputs": [
    {
     "data": {
      "text/plain": [
       "'PYTHON100'"
      ]
     },
     "execution_count": 21,
     "metadata": {},
     "output_type": "execute_result"
    }
   ],
   "source": [
    "string1 = \"PYTHON\"\n",
    "string2 = \"100\"\n",
    "string1 + string2"
   ]
  },
  {
   "cell_type": "code",
   "execution_count": 22,
   "id": "purple-playback",
   "metadata": {},
   "outputs": [
    {
     "ename": "TypeError",
     "evalue": "can only concatenate str (not \"int\") to str",
     "output_type": "error",
     "traceback": [
      "\u001b[1;31m---------------------------------------------------------------------------\u001b[0m",
      "\u001b[1;31mTypeError\u001b[0m                                 Traceback (most recent call last)",
      "\u001b[1;32m<ipython-input-22-060a171018aa>\u001b[0m in \u001b[0;36m<module>\u001b[1;34m\u001b[0m\n\u001b[0;32m      1\u001b[0m \u001b[0mstring1\u001b[0m \u001b[1;33m=\u001b[0m \u001b[1;34m\"PYTHON\"\u001b[0m\u001b[1;33m\u001b[0m\u001b[1;33m\u001b[0m\u001b[0m\n\u001b[0;32m      2\u001b[0m \u001b[0mstring2\u001b[0m \u001b[1;33m=\u001b[0m \u001b[1;36m100\u001b[0m\u001b[1;33m\u001b[0m\u001b[1;33m\u001b[0m\u001b[0m\n\u001b[1;32m----> 3\u001b[1;33m \u001b[0mstring1\u001b[0m \u001b[1;33m+\u001b[0m \u001b[0mstring2\u001b[0m\u001b[1;33m\u001b[0m\u001b[1;33m\u001b[0m\u001b[0m\n\u001b[0m",
      "\u001b[1;31mTypeError\u001b[0m: can only concatenate str (not \"int\") to str"
     ]
    }
   ],
   "source": [
    "string1 = \"PYTHON\"\n",
    "string2 = 100\n",
    "string1 + string2"
   ]
  },
  {
   "cell_type": "code",
   "execution_count": 24,
   "id": "incredible-frontier",
   "metadata": {},
   "outputs": [
    {
     "data": {
      "text/plain": [
       "'1000'"
      ]
     },
     "execution_count": 24,
     "metadata": {},
     "output_type": "execute_result"
    }
   ],
   "source": [
    "str(1000)"
   ]
  },
  {
   "cell_type": "code",
   "execution_count": 26,
   "id": "extraordinary-korean",
   "metadata": {},
   "outputs": [
    {
     "data": {
      "text/plain": [
       "4567"
      ]
     },
     "execution_count": 26,
     "metadata": {},
     "output_type": "execute_result"
    }
   ],
   "source": [
    "str2 = '4567'\n",
    "int(str2)"
   ]
  },
  {
   "cell_type": "code",
   "execution_count": 27,
   "id": "cross-shoot",
   "metadata": {},
   "outputs": [
    {
     "data": {
      "text/plain": [
       "'390'"
      ]
     },
     "execution_count": 27,
     "metadata": {},
     "output_type": "execute_result"
    }
   ],
   "source": [
    "x = 390\n",
    "str(x)"
   ]
  },
  {
   "cell_type": "code",
   "execution_count": 28,
   "id": "fifth-photography",
   "metadata": {},
   "outputs": [
    {
     "data": {
      "text/plain": [
       "'PYTHON100'"
      ]
     },
     "execution_count": 28,
     "metadata": {},
     "output_type": "execute_result"
    }
   ],
   "source": [
    "var1 = \"PYTHON\"\n",
    "var2 = 100 # '100'\n",
    "str(var1) + str(var2)"
   ]
  },
  {
   "cell_type": "markdown",
   "id": "formal-limitation",
   "metadata": {},
   "source": [
    "##### substraction"
   ]
  },
  {
   "cell_type": "code",
   "execution_count": 30,
   "id": "respective-angle",
   "metadata": {},
   "outputs": [
    {
     "data": {
      "text/plain": [
       "50"
      ]
     },
     "execution_count": 30,
     "metadata": {},
     "output_type": "execute_result"
    }
   ],
   "source": [
    "a = 100\n",
    "b = 50\n",
    "a-b"
   ]
  },
  {
   "cell_type": "code",
   "execution_count": 32,
   "id": "entitled-canyon",
   "metadata": {},
   "outputs": [
    {
     "data": {
      "text/plain": [
       "50"
      ]
     },
     "execution_count": 32,
     "metadata": {},
     "output_type": "execute_result"
    }
   ],
   "source": [
    "c = a - b\n",
    "c"
   ]
  },
  {
   "cell_type": "code",
   "execution_count": 34,
   "id": "correct-scheduling",
   "metadata": {},
   "outputs": [
    {
     "data": {
      "text/plain": [
       "-3"
      ]
     },
     "execution_count": 34,
     "metadata": {},
     "output_type": "execute_result"
    }
   ],
   "source": [
    "a = 10\n",
    "b = 8\n",
    "c = 5\n",
    "a - b -c"
   ]
  },
  {
   "cell_type": "code",
   "execution_count": 35,
   "id": "individual-liberty",
   "metadata": {},
   "outputs": [
    {
     "data": {
      "text/plain": [
       "-3.5"
      ]
     },
     "execution_count": 35,
     "metadata": {},
     "output_type": "execute_result"
    }
   ],
   "source": [
    "a = 10\n",
    "b = 8.5\n",
    "c = 5\n",
    "a - b - c"
   ]
  },
  {
   "cell_type": "markdown",
   "id": "likely-child",
   "metadata": {},
   "source": [
    "##### Multiplication"
   ]
  },
  {
   "cell_type": "code",
   "execution_count": 37,
   "id": "bacterial-horizon",
   "metadata": {},
   "outputs": [
    {
     "data": {
      "text/plain": [
       "30"
      ]
     },
     "execution_count": 37,
     "metadata": {},
     "output_type": "execute_result"
    }
   ],
   "source": [
    "a = 5\n",
    "b = 6\n",
    "a * b"
   ]
  },
  {
   "cell_type": "code",
   "execution_count": 40,
   "id": "incorporated-swedish",
   "metadata": {},
   "outputs": [
    {
     "data": {
      "text/plain": [
       "33.599999999999994"
      ]
     },
     "execution_count": 40,
     "metadata": {},
     "output_type": "execute_result"
    }
   ],
   "source": [
    "a = 5.6\n",
    "b = 6\n",
    "a * b"
   ]
  },
  {
   "cell_type": "code",
   "execution_count": 42,
   "id": "stone-insight",
   "metadata": {},
   "outputs": [
    {
     "ename": "TypeError",
     "evalue": "can't multiply sequence by non-int of type 'str'",
     "output_type": "error",
     "traceback": [
      "\u001b[1;31m---------------------------------------------------------------------------\u001b[0m",
      "\u001b[1;31mTypeError\u001b[0m                                 Traceback (most recent call last)",
      "\u001b[1;32m<ipython-input-42-876a8084f36f>\u001b[0m in \u001b[0;36m<module>\u001b[1;34m\u001b[0m\n\u001b[0;32m      1\u001b[0m \u001b[0ms1\u001b[0m \u001b[1;33m=\u001b[0m \u001b[1;34m\"python\"\u001b[0m\u001b[1;33m\u001b[0m\u001b[1;33m\u001b[0m\u001b[0m\n\u001b[0;32m      2\u001b[0m \u001b[0ms2\u001b[0m \u001b[1;33m=\u001b[0m \u001b[1;34m'class'\u001b[0m\u001b[1;33m\u001b[0m\u001b[1;33m\u001b[0m\u001b[0m\n\u001b[1;32m----> 3\u001b[1;33m \u001b[0ms1\u001b[0m \u001b[1;33m*\u001b[0m \u001b[0ms2\u001b[0m\u001b[1;33m\u001b[0m\u001b[1;33m\u001b[0m\u001b[0m\n\u001b[0m",
      "\u001b[1;31mTypeError\u001b[0m: can't multiply sequence by non-int of type 'str'"
     ]
    }
   ],
   "source": [
    "s1 = \"python\"\n",
    "s2 = 'class'\n",
    "s1 * s2"
   ]
  },
  {
   "cell_type": "code",
   "execution_count": 45,
   "id": "handmade-bracelet",
   "metadata": {},
   "outputs": [
    {
     "data": {
      "text/plain": [
       "'python python python python python python python python python python '"
      ]
     },
     "execution_count": 45,
     "metadata": {},
     "output_type": "execute_result"
    }
   ],
   "source": [
    "s1 = \"python \"\n",
    "\n",
    "s1 * 10"
   ]
  },
  {
   "cell_type": "code",
   "execution_count": 50,
   "id": "retired-south",
   "metadata": {},
   "outputs": [
    {
     "data": {
      "text/plain": [
       "'python python python python python python python python python python python python python python python python python python python python python python python python python python python python python python python python python python python python python python python python python python python python python python python python python python python python python python python python python python python python python python python python python python python python python python python python python python python python python python python python python python python python python python python python python python python python python python python python python python python python '"
      ]
     },
     "execution_count": 50,
     "metadata": {},
     "output_type": "execute_result"
    }
   ],
   "source": [
    "s1 = \"python \"\n",
    "\n",
    "s1 * 100"
   ]
  },
  {
   "cell_type": "code",
   "execution_count": 54,
   "id": "experienced-madness",
   "metadata": {},
   "outputs": [
    {
     "name": "stdout",
     "output_type": "stream",
     "text": [
      "*****************************************\n",
      "We are learning Python and Data Science\n",
      "+++++++++++++++++++++++++++++++++++++++++\n"
     ]
    }
   ],
   "source": [
    "print('*****************************************')\n",
    "print(\"We are learning Python and Data Science\")\n",
    "print('+++++++++++++++++++++++++++++++++++++++++')"
   ]
  },
  {
   "cell_type": "code",
   "execution_count": 56,
   "id": "removable-sherman",
   "metadata": {},
   "outputs": [
    {
     "name": "stdout",
     "output_type": "stream",
     "text": [
      "**************************************************\n",
      "We are learning Python and Data Science\n",
      "++++++++++++++++++++++++++++++++++++++++++++++++++\n"
     ]
    }
   ],
   "source": [
    "print('*' * 50)\n",
    "print(\"We are learning Python and Data Science\")\n",
    "print('+'* 50)"
   ]
  },
  {
   "cell_type": "code",
   "execution_count": 63,
   "id": "organizational-softball",
   "metadata": {},
   "outputs": [
    {
     "name": "stdout",
     "output_type": "stream",
     "text": [
      "**************************************************\n",
      "Hello\n"
     ]
    }
   ],
   "source": [
    "print('*' * 50)\n",
    "print(\"Hello\")"
   ]
  },
  {
   "cell_type": "markdown",
   "id": "abandoned-canvas",
   "metadata": {},
   "source": [
    "##### Division"
   ]
  },
  {
   "cell_type": "code",
   "execution_count": 64,
   "id": "removed-defense",
   "metadata": {},
   "outputs": [
    {
     "data": {
      "text/plain": [
       "5.0"
      ]
     },
     "execution_count": 64,
     "metadata": {},
     "output_type": "execute_result"
    }
   ],
   "source": [
    "a = 100\n",
    "b = 20\n",
    "a/b"
   ]
  },
  {
   "cell_type": "code",
   "execution_count": 66,
   "id": "first-ladder",
   "metadata": {},
   "outputs": [
    {
     "data": {
      "text/plain": [
       "12.5"
      ]
     },
     "execution_count": 66,
     "metadata": {},
     "output_type": "execute_result"
    }
   ],
   "source": [
    "a = 100\n",
    "b = 8\n",
    "a/b"
   ]
  },
  {
   "cell_type": "code",
   "execution_count": 68,
   "id": "institutional-questionnaire",
   "metadata": {},
   "outputs": [
    {
     "data": {
      "text/plain": [
       "11.627906976744187"
      ]
     },
     "execution_count": 68,
     "metadata": {},
     "output_type": "execute_result"
    }
   ],
   "source": [
    "a = 100\n",
    "b = 8.6\n",
    "a/b"
   ]
  },
  {
   "cell_type": "code",
   "execution_count": 70,
   "id": "southeast-wayne",
   "metadata": {},
   "outputs": [
    {
     "data": {
      "text/plain": [
       "1.3625"
      ]
     },
     "execution_count": 70,
     "metadata": {},
     "output_type": "execute_result"
    }
   ],
   "source": [
    "a = 10.90\n",
    "b = 8\n",
    "a/b"
   ]
  },
  {
   "cell_type": "markdown",
   "id": "awful-philosophy",
   "metadata": {},
   "source": [
    "##### Floor Division"
   ]
  },
  {
   "cell_type": "code",
   "execution_count": 76,
   "id": "complete-authentication",
   "metadata": {},
   "outputs": [
    {
     "data": {
      "text/plain": [
       "1"
      ]
     },
     "execution_count": 76,
     "metadata": {},
     "output_type": "execute_result"
    }
   ],
   "source": [
    "a = 10.90\n",
    "b = 8\n",
    "int(a/b) # int(1.3625)"
   ]
  },
  {
   "cell_type": "code",
   "execution_count": 75,
   "id": "technological-bubble",
   "metadata": {},
   "outputs": [
    {
     "data": {
      "text/plain": [
       "2"
      ]
     },
     "execution_count": 75,
     "metadata": {},
     "output_type": "execute_result"
    }
   ],
   "source": [
    "a = 10\n",
    "b = 4\n",
    "int(a/b) # int(2.5)"
   ]
  },
  {
   "cell_type": "code",
   "execution_count": 78,
   "id": "equal-lexington",
   "metadata": {},
   "outputs": [
    {
     "data": {
      "text/plain": [
       "2"
      ]
     },
     "execution_count": 78,
     "metadata": {},
     "output_type": "execute_result"
    }
   ],
   "source": [
    "a = 10\n",
    "b = 4\n",
    "a//b"
   ]
  },
  {
   "cell_type": "code",
   "execution_count": 80,
   "id": "divided-cover",
   "metadata": {},
   "outputs": [
    {
     "data": {
      "text/plain": [
       "1.0"
      ]
     },
     "execution_count": 80,
     "metadata": {},
     "output_type": "execute_result"
    }
   ],
   "source": [
    "a = 10.90\n",
    "b = 8\n",
    "a//b"
   ]
  },
  {
   "cell_type": "code",
   "execution_count": 82,
   "id": "continuing-roulette",
   "metadata": {},
   "outputs": [
    {
     "data": {
      "text/plain": [
       "5"
      ]
     },
     "execution_count": 82,
     "metadata": {},
     "output_type": "execute_result"
    }
   ],
   "source": [
    "a = 20\n",
    "b = 4\n",
    "a//b"
   ]
  },
  {
   "cell_type": "code",
   "execution_count": 84,
   "id": "typical-career",
   "metadata": {},
   "outputs": [
    {
     "data": {
      "text/plain": [
       "5.0"
      ]
     },
     "execution_count": 84,
     "metadata": {},
     "output_type": "execute_result"
    }
   ],
   "source": [
    "a = 20\n",
    "b = 4\n",
    "a/b"
   ]
  },
  {
   "cell_type": "markdown",
   "id": "satisfied-channels",
   "metadata": {},
   "source": [
    "##### Modulus"
   ]
  },
  {
   "cell_type": "code",
   "execution_count": 86,
   "id": "enhanced-weather",
   "metadata": {},
   "outputs": [
    {
     "data": {
      "text/plain": [
       "0"
      ]
     },
     "execution_count": 86,
     "metadata": {},
     "output_type": "execute_result"
    }
   ],
   "source": [
    "a = 20\n",
    "b = 4\n",
    "a%b"
   ]
  },
  {
   "cell_type": "code",
   "execution_count": 87,
   "id": "satisfactory-generation",
   "metadata": {},
   "outputs": [
    {
     "data": {
      "text/plain": [
       "2"
      ]
     },
     "execution_count": 87,
     "metadata": {},
     "output_type": "execute_result"
    }
   ],
   "source": [
    "a = 20\n",
    "b = 6\n",
    "a%b"
   ]
  },
  {
   "cell_type": "code",
   "execution_count": 90,
   "id": "earlier-niagara",
   "metadata": {},
   "outputs": [
    {
     "data": {
      "text/plain": [
       "1"
      ]
     },
     "execution_count": 90,
     "metadata": {},
     "output_type": "execute_result"
    }
   ],
   "source": [
    "11 % 2 "
   ]
  },
  {
   "cell_type": "code",
   "execution_count": 94,
   "id": "brief-saturday",
   "metadata": {},
   "outputs": [
    {
     "data": {
      "text/plain": [
       "True"
      ]
     },
     "execution_count": 94,
     "metadata": {},
     "output_type": "execute_result"
    }
   ],
   "source": [
    "10 % 2 == 0 # True"
   ]
  },
  {
   "cell_type": "code",
   "execution_count": 96,
   "id": "explicit-valley",
   "metadata": {},
   "outputs": [
    {
     "data": {
      "text/plain": [
       "False"
      ]
     },
     "execution_count": 96,
     "metadata": {},
     "output_type": "execute_result"
    }
   ],
   "source": [
    "11 % 2 == 0 # False"
   ]
  },
  {
   "cell_type": "code",
   "execution_count": 98,
   "id": "consistent-italy",
   "metadata": {},
   "outputs": [
    {
     "name": "stdout",
     "output_type": "stream",
     "text": [
      "14 is even Number\n"
     ]
    }
   ],
   "source": [
    "a = 14\n",
    "if a % 2 == 0: # 0 == 0\n",
    "    print(f\"{a} is even Number\")"
   ]
  },
  {
   "cell_type": "code",
   "execution_count": 102,
   "id": "choice-friday",
   "metadata": {},
   "outputs": [
    {
     "name": "stdout",
     "output_type": "stream",
     "text": [
      "17 is odd number\n"
     ]
    }
   ],
   "source": [
    "a = 17\n",
    "if a % 2 == 0: # 0 == 0\n",
    "    print(f\"{a} is even Number\")\n",
    "    \n",
    "else:\n",
    "    print(f\"{a} is odd number\")"
   ]
  },
  {
   "cell_type": "code",
   "execution_count": 104,
   "id": "sunset-enforcement",
   "metadata": {},
   "outputs": [
    {
     "name": "stdout",
     "output_type": "stream",
     "text": [
      "17 is odd Number\n"
     ]
    }
   ],
   "source": [
    "a = 17\n",
    "if a % 2 == 1: \n",
    "    print(f\"{a} is odd Number\")\n",
    "    \n",
    "else:\n",
    "    print(f\"{a} is even number\")"
   ]
  },
  {
   "cell_type": "code",
   "execution_count": 105,
   "id": "modified-republican",
   "metadata": {},
   "outputs": [
    {
     "name": "stdout",
     "output_type": "stream",
     "text": [
      "17 is odd Number\n"
     ]
    }
   ],
   "source": [
    "a = 17\n",
    "if a % 2 != 0: \n",
    "    print(f\"{a} is odd Number\")\n",
    "    \n",
    "else:\n",
    "    print(f\"{a} is even number\")"
   ]
  },
  {
   "cell_type": "markdown",
   "id": "confused-least",
   "metadata": {},
   "source": [
    "##### Exponent"
   ]
  },
  {
   "cell_type": "code",
   "execution_count": 106,
   "id": "opening-albuquerque",
   "metadata": {},
   "outputs": [
    {
     "data": {
      "text/plain": [
       "512"
      ]
     },
     "execution_count": 106,
     "metadata": {},
     "output_type": "execute_result"
    }
   ],
   "source": [
    "8 ** 3"
   ]
  },
  {
   "cell_type": "code",
   "execution_count": 108,
   "id": "north-attitude",
   "metadata": {},
   "outputs": [
    {
     "data": {
      "text/plain": [
       "216"
      ]
     },
     "execution_count": 108,
     "metadata": {},
     "output_type": "execute_result"
    }
   ],
   "source": [
    "6 ** 3"
   ]
  },
  {
   "cell_type": "code",
   "execution_count": 109,
   "id": "settled-liability",
   "metadata": {},
   "outputs": [
    {
     "data": {
      "text/plain": [
       "225"
      ]
     },
     "execution_count": 109,
     "metadata": {},
     "output_type": "execute_result"
    }
   ],
   "source": [
    "15 ** 2"
   ]
  },
  {
   "cell_type": "code",
   "execution_count": 111,
   "id": "previous-preservation",
   "metadata": {},
   "outputs": [
    {
     "data": {
      "text/plain": [
       "841"
      ]
     },
     "execution_count": 111,
     "metadata": {},
     "output_type": "execute_result"
    }
   ],
   "source": [
    "29** 2"
   ]
  },
  {
   "cell_type": "code",
   "execution_count": 113,
   "id": "precious-jersey",
   "metadata": {},
   "outputs": [
    {
     "data": {
      "text/plain": [
       "32"
      ]
     },
     "execution_count": 113,
     "metadata": {},
     "output_type": "execute_result"
    }
   ],
   "source": [
    "2 ** 5"
   ]
  },
  {
   "cell_type": "code",
   "execution_count": 115,
   "id": "differential-amazon",
   "metadata": {},
   "outputs": [
    {
     "data": {
      "text/plain": [
       "1024"
      ]
     },
     "execution_count": 115,
     "metadata": {},
     "output_type": "execute_result"
    }
   ],
   "source": [
    "2 ** 10"
   ]
  },
  {
   "cell_type": "code",
   "execution_count": 117,
   "id": "hidden-horizon",
   "metadata": {},
   "outputs": [
    {
     "data": {
      "text/plain": [
       "1125899906842624"
      ]
     },
     "execution_count": 117,
     "metadata": {},
     "output_type": "execute_result"
    }
   ],
   "source": [
    "2 ** 50"
   ]
  },
  {
   "cell_type": "code",
   "execution_count": 118,
   "id": "minus-harvest",
   "metadata": {},
   "outputs": [
    {
     "data": {
      "text/plain": [
       "759375"
      ]
     },
     "execution_count": 118,
     "metadata": {},
     "output_type": "execute_result"
    }
   ],
   "source": [
    "15 ** 5"
   ]
  },
  {
   "cell_type": "raw",
   "id": "piano-midwest",
   "metadata": {},
   "source": [
    "f(x) = 4x^3 + 3x^2 - 8x + 5\n",
    "x = 5\n",
    "x = 6\n",
    "x = 7"
   ]
  },
  {
   "cell_type": "code",
   "execution_count": 119,
   "id": "numerical-workstation",
   "metadata": {},
   "outputs": [
    {
     "data": {
      "text/plain": [
       "540"
      ]
     },
     "execution_count": 119,
     "metadata": {},
     "output_type": "execute_result"
    }
   ],
   "source": [
    "4 * 125 + 3 * 25 - 8 *5 + 5"
   ]
  },
  {
   "cell_type": "code",
   "execution_count": 124,
   "id": "paperback-medline",
   "metadata": {},
   "outputs": [
    {
     "data": {
      "text/plain": [
       "540"
      ]
     },
     "execution_count": 124,
     "metadata": {},
     "output_type": "execute_result"
    }
   ],
   "source": [
    "x = 5\n",
    "y = 4 * x ** 3 + 3 * x ** 2 - 8*x + 5\n",
    "y"
   ]
  },
  {
   "cell_type": "code",
   "execution_count": 127,
   "id": "ranging-coating",
   "metadata": {},
   "outputs": [
    {
     "name": "stdout",
     "output_type": "stream",
     "text": [
      "Enter the value of x : 7\n"
     ]
    },
    {
     "data": {
      "text/plain": [
       "1468"
      ]
     },
     "execution_count": 127,
     "metadata": {},
     "output_type": "execute_result"
    }
   ],
   "source": [
    "x = int(input(\"Enter the value of x : \"))\n",
    "y = 4 * x ** 3 + 3 * x ** 2 - 8*x + 5\n",
    "y"
   ]
  },
  {
   "cell_type": "code",
   "execution_count": null,
   "id": "sought-premium",
   "metadata": {},
   "outputs": [],
   "source": [
    "x = int(input(\"Enter the value of x : \"))\n",
    "y = 4 * (x ** 3) + 3 * x ** 2 - 8*x + 5\n",
    "y"
   ]
  },
  {
   "cell_type": "code",
   "execution_count": 130,
   "id": "illegal-contrast",
   "metadata": {},
   "outputs": [
    {
     "data": {
      "text/plain": [
       "20.0"
      ]
     },
     "execution_count": 130,
     "metadata": {},
     "output_type": "execute_result"
    }
   ],
   "source": [
    "10/2*4"
   ]
  },
  {
   "cell_type": "code",
   "execution_count": 132,
   "id": "macro-phrase",
   "metadata": {},
   "outputs": [
    {
     "data": {
      "text/plain": [
       "20.0"
      ]
     },
     "execution_count": 132,
     "metadata": {},
     "output_type": "execute_result"
    }
   ],
   "source": [
    "10*(6/3)"
   ]
  },
  {
   "cell_type": "code",
   "execution_count": 133,
   "id": "finished-slovak",
   "metadata": {},
   "outputs": [
    {
     "data": {
      "text/plain": [
       "'python and data science'"
      ]
     },
     "execution_count": 133,
     "metadata": {},
     "output_type": "execute_result"
    }
   ],
   "source": [
    "\"python and data science\""
   ]
  },
  {
   "cell_type": "code",
   "execution_count": 134,
   "id": "simplified-beverage",
   "metadata": {},
   "outputs": [
    {
     "data": {
      "text/plain": [
       "'python and data science'"
      ]
     },
     "execution_count": 134,
     "metadata": {},
     "output_type": "execute_result"
    }
   ],
   "source": [
    "'python and data science'"
   ]
  },
  {
   "cell_type": "code",
   "execution_count": null,
   "id": "swedish-arabic",
   "metadata": {},
   "outputs": [],
   "source": [
    "python and \"data\" science"
   ]
  },
  {
   "cell_type": "code",
   "execution_count": 135,
   "id": "circular-tsunami",
   "metadata": {},
   "outputs": [
    {
     "ename": "SyntaxError",
     "evalue": "invalid syntax (<ipython-input-135-429fddfb3a0a>, line 1)",
     "output_type": "error",
     "traceback": [
      "\u001b[1;36m  File \u001b[1;32m\"<ipython-input-135-429fddfb3a0a>\"\u001b[1;36m, line \u001b[1;32m1\u001b[0m\n\u001b[1;33m    {python and \"data\" science}\u001b[0m\n\u001b[1;37m                       ^\u001b[0m\n\u001b[1;31mSyntaxError\u001b[0m\u001b[1;31m:\u001b[0m invalid syntax\n"
     ]
    }
   ],
   "source": [
    "{python and \"data\" science}"
   ]
  },
  {
   "cell_type": "code",
   "execution_count": null,
   "id": "exotic-focus",
   "metadata": {},
   "outputs": [],
   "source": [
    "[3,4,5,6,7]"
   ]
  },
  {
   "cell_type": "code",
   "execution_count": 141,
   "id": "incoming-pepper",
   "metadata": {},
   "outputs": [
    {
     "name": "stdout",
     "output_type": "stream",
     "text": [
      "2 is even number\n",
      "4 is even number\n"
     ]
    }
   ],
   "source": [
    "string = \"12345\"\n",
    "\n",
    "for x in string:\n",
    "    x = int(x)\n",
    "    if x%2==0:\n",
    "        print(f'{x} is even number')"
   ]
  },
  {
   "cell_type": "code",
   "execution_count": 152,
   "id": "cloudy-implement",
   "metadata": {},
   "outputs": [
    {
     "name": "stdout",
     "output_type": "stream",
     "text": [
      "10\n",
      "8\n"
     ]
    }
   ],
   "source": [
    "a = 10\n",
    "print(a)\n",
    "a -= 2\n",
    "print(a)"
   ]
  },
  {
   "cell_type": "code",
   "execution_count": 154,
   "id": "fossil-stand",
   "metadata": {},
   "outputs": [
    {
     "name": "stdout",
     "output_type": "stream",
     "text": [
      "10\n",
      "12\n"
     ]
    }
   ],
   "source": [
    "a = 10\n",
    "print(a)\n",
    "a += 2\n",
    "print(a)"
   ]
  },
  {
   "cell_type": "code",
   "execution_count": 156,
   "id": "european-variable",
   "metadata": {},
   "outputs": [
    {
     "name": "stdout",
     "output_type": "stream",
     "text": [
      "10\n",
      "20\n"
     ]
    }
   ],
   "source": [
    "a = 10\n",
    "print(a)\n",
    "a *= 2\n",
    "print(a)"
   ]
  },
  {
   "cell_type": "code",
   "execution_count": 158,
   "id": "graphic-citizen",
   "metadata": {},
   "outputs": [
    {
     "name": "stdout",
     "output_type": "stream",
     "text": [
      "10\n",
      "5.0\n"
     ]
    }
   ],
   "source": [
    "a = 10\n",
    "print(a)\n",
    "a /= 2\n",
    "print(a)"
   ]
  },
  {
   "cell_type": "code",
   "execution_count": 160,
   "id": "perfect-eating",
   "metadata": {},
   "outputs": [
    {
     "name": "stdout",
     "output_type": "stream",
     "text": [
      "10\n",
      "5\n"
     ]
    }
   ],
   "source": [
    "a = 10\n",
    "print(a)\n",
    "a //= 2\n",
    "print(a)"
   ]
  },
  {
   "cell_type": "code",
   "execution_count": 162,
   "id": "portuguese-tours",
   "metadata": {},
   "outputs": [
    {
     "name": "stdout",
     "output_type": "stream",
     "text": [
      "10\n",
      "0\n"
     ]
    }
   ],
   "source": [
    "a = 10\n",
    "print(a)\n",
    "a %= 2\n",
    "print(a)"
   ]
  },
  {
   "cell_type": "code",
   "execution_count": 163,
   "id": "sunrise-contribution",
   "metadata": {},
   "outputs": [
    {
     "name": "stdout",
     "output_type": "stream",
     "text": [
      "10\n",
      "100\n"
     ]
    }
   ],
   "source": [
    "a = 10\n",
    "print(a)\n",
    "a **= 2 # a = a ** 2\n",
    "print(a)"
   ]
  },
  {
   "cell_type": "markdown",
   "id": "chemical-dairy",
   "metadata": {},
   "source": [
    "##### in"
   ]
  },
  {
   "cell_type": "code",
   "execution_count": 165,
   "id": "assumed-miller",
   "metadata": {},
   "outputs": [
    {
     "data": {
      "text/plain": [
       "True"
      ]
     },
     "execution_count": 165,
     "metadata": {},
     "output_type": "execute_result"
    }
   ],
   "source": [
    "string = 'data science'\n",
    "'data' in string # True"
   ]
  },
  {
   "cell_type": "code",
   "execution_count": 168,
   "id": "authorized-seller",
   "metadata": {},
   "outputs": [
    {
     "data": {
      "text/plain": [
       "False"
      ]
     },
     "execution_count": 168,
     "metadata": {},
     "output_type": "execute_result"
    }
   ],
   "source": [
    "string = 'data science'\n",
    "'Data' in string # False"
   ]
  },
  {
   "cell_type": "code",
   "execution_count": 171,
   "id": "major-cannon",
   "metadata": {},
   "outputs": [
    {
     "data": {
      "text/plain": [
       "False"
      ]
     },
     "execution_count": 171,
     "metadata": {},
     "output_type": "execute_result"
    }
   ],
   "source": [
    "string = 'data science'\n",
    "'data' not in string # True"
   ]
  },
  {
   "cell_type": "code",
   "execution_count": 173,
   "id": "dedicated-boating",
   "metadata": {},
   "outputs": [
    {
     "data": {
      "text/plain": [
       "True"
      ]
     },
     "execution_count": 173,
     "metadata": {},
     "output_type": "execute_result"
    }
   ],
   "source": [
    "string = 'data science'\n",
    "'DATA' not in string # True"
   ]
  },
  {
   "cell_type": "markdown",
   "id": "educational-skating",
   "metadata": {},
   "source": [
    "##### identity operators`"
   ]
  },
  {
   "cell_type": "code",
   "execution_count": 175,
   "id": "trained-fetish",
   "metadata": {},
   "outputs": [
    {
     "data": {
      "text/plain": [
       "140725994785680"
      ]
     },
     "execution_count": 175,
     "metadata": {},
     "output_type": "execute_result"
    }
   ],
   "source": [
    "a = 40\n",
    "b = 50\n",
    "\n",
    "id(a)"
   ]
  },
  {
   "cell_type": "code",
   "execution_count": 177,
   "id": "contained-raleigh",
   "metadata": {},
   "outputs": [
    {
     "data": {
      "text/plain": [
       "140725994786000"
      ]
     },
     "execution_count": 177,
     "metadata": {},
     "output_type": "execute_result"
    }
   ],
   "source": [
    "id(b)"
   ]
  },
  {
   "cell_type": "code",
   "execution_count": 178,
   "id": "valued-dylan",
   "metadata": {},
   "outputs": [
    {
     "data": {
      "text/plain": [
       "False"
      ]
     },
     "execution_count": 178,
     "metadata": {},
     "output_type": "execute_result"
    }
   ],
   "source": [
    "id(a) == id(b)"
   ]
  },
  {
   "cell_type": "code",
   "execution_count": 179,
   "id": "imported-rendering",
   "metadata": {},
   "outputs": [
    {
     "data": {
      "text/plain": [
       "False"
      ]
     },
     "execution_count": 179,
     "metadata": {},
     "output_type": "execute_result"
    }
   ],
   "source": [
    "a is b  # id(a) == id(b)"
   ]
  },
  {
   "cell_type": "code",
   "execution_count": 182,
   "id": "satellite-techno",
   "metadata": {},
   "outputs": [
    {
     "name": "stdout",
     "output_type": "stream",
     "text": [
      "140725994784560\n",
      "140725994784592\n"
     ]
    },
    {
     "data": {
      "text/plain": [
       "False"
      ]
     },
     "execution_count": 182,
     "metadata": {},
     "output_type": "execute_result"
    }
   ],
   "source": [
    "a = 5\n",
    "b = 6\n",
    "print(id(a))\n",
    "print(id(b))\n",
    "a is b"
   ]
  },
  {
   "cell_type": "code",
   "execution_count": 184,
   "id": "deadly-penguin",
   "metadata": {},
   "outputs": [
    {
     "name": "stdout",
     "output_type": "stream",
     "text": [
      "140725994784560\n",
      "140725994784560\n"
     ]
    },
    {
     "data": {
      "text/plain": [
       "True"
      ]
     },
     "execution_count": 184,
     "metadata": {},
     "output_type": "execute_result"
    }
   ],
   "source": [
    "a = 5\n",
    "b = 5\n",
    "print(id(a))\n",
    "print(id(b))\n",
    "a is b"
   ]
  },
  {
   "cell_type": "code",
   "execution_count": 186,
   "id": "clinical-karma",
   "metadata": {},
   "outputs": [
    {
     "name": "stdout",
     "output_type": "stream",
     "text": [
      "140725994787600\n",
      "140725994787600\n"
     ]
    },
    {
     "data": {
      "text/plain": [
       "True"
      ]
     },
     "execution_count": 186,
     "metadata": {},
     "output_type": "execute_result"
    }
   ],
   "source": [
    "a = 100\n",
    "b = 100\n",
    "print(id(a))\n",
    "print(id(b))\n",
    "a is b"
   ]
  },
  {
   "cell_type": "code",
   "execution_count": 188,
   "id": "filled-uganda",
   "metadata": {},
   "outputs": [
    {
     "name": "stdout",
     "output_type": "stream",
     "text": [
      "140725994787600\n",
      "140725994787632\n"
     ]
    },
    {
     "data": {
      "text/plain": [
       "False"
      ]
     },
     "execution_count": 188,
     "metadata": {},
     "output_type": "execute_result"
    }
   ],
   "source": [
    "a = 100\n",
    "b = 101\n",
    "print(id(a))\n",
    "print(id(b))\n",
    "a is b"
   ]
  },
  {
   "cell_type": "code",
   "execution_count": 191,
   "id": "mysterious-iceland",
   "metadata": {},
   "outputs": [
    {
     "name": "stdout",
     "output_type": "stream",
     "text": [
      "140725994784400\n",
      "140725994784400\n"
     ]
    },
    {
     "data": {
      "text/plain": [
       "True"
      ]
     },
     "execution_count": 191,
     "metadata": {},
     "output_type": "execute_result"
    }
   ],
   "source": [
    "a = 0\n",
    "b = 0\n",
    "print(id(a))\n",
    "print(id(b))\n",
    "a is b"
   ]
  },
  {
   "cell_type": "code",
   "execution_count": 193,
   "id": "technical-being",
   "metadata": {},
   "outputs": [
    {
     "name": "stdout",
     "output_type": "stream",
     "text": [
      "140725994792560\n",
      "140725994792560\n"
     ]
    },
    {
     "data": {
      "text/plain": [
       "True"
      ]
     },
     "execution_count": 193,
     "metadata": {},
     "output_type": "execute_result"
    }
   ],
   "source": [
    "a = 255\n",
    "b = 255\n",
    "print(id(a))\n",
    "print(id(b))\n",
    "a is b"
   ]
  },
  {
   "cell_type": "code",
   "execution_count": 195,
   "id": "miniature-employer",
   "metadata": {},
   "outputs": [
    {
     "name": "stdout",
     "output_type": "stream",
     "text": [
      "140725994792592\n",
      "140725994792592\n"
     ]
    },
    {
     "data": {
      "text/plain": [
       "True"
      ]
     },
     "execution_count": 195,
     "metadata": {},
     "output_type": "execute_result"
    }
   ],
   "source": [
    "a = 256\n",
    "b = 256\n",
    "print(id(a))\n",
    "print(id(b))\n",
    "a is b"
   ]
  },
  {
   "cell_type": "code",
   "execution_count": 197,
   "id": "banned-alias",
   "metadata": {},
   "outputs": [
    {
     "name": "stdout",
     "output_type": "stream",
     "text": [
      "2278101988144\n",
      "2278101987984\n"
     ]
    },
    {
     "data": {
      "text/plain": [
       "False"
      ]
     },
     "execution_count": 197,
     "metadata": {},
     "output_type": "execute_result"
    }
   ],
   "source": [
    "a = 257\n",
    "b = 257\n",
    "print(id(a))\n",
    "print(id(b))\n",
    "a is b"
   ]
  },
  {
   "cell_type": "code",
   "execution_count": 199,
   "id": "baking-significance",
   "metadata": {},
   "outputs": [
    {
     "name": "stdout",
     "output_type": "stream",
     "text": [
      "2278101988208\n",
      "2278101988304\n"
     ]
    },
    {
     "data": {
      "text/plain": [
       "False"
      ]
     },
     "execution_count": 199,
     "metadata": {},
     "output_type": "execute_result"
    }
   ],
   "source": [
    "a = -10\n",
    "b = -10\n",
    "print(id(a))\n",
    "print(id(b))\n",
    "a is b"
   ]
  },
  {
   "cell_type": "code",
   "execution_count": 201,
   "id": "satisfactory-complaint",
   "metadata": {},
   "outputs": [
    {
     "name": "stdout",
     "output_type": "stream",
     "text": [
      "140725994784240\n",
      "140725994784240\n"
     ]
    },
    {
     "data": {
      "text/plain": [
       "True"
      ]
     },
     "execution_count": 201,
     "metadata": {},
     "output_type": "execute_result"
    }
   ],
   "source": [
    "a = -5\n",
    "b = -5\n",
    "print(id(a))\n",
    "print(id(b))\n",
    "a is b"
   ]
  },
  {
   "cell_type": "code",
   "execution_count": 202,
   "id": "residential-azerbaijan",
   "metadata": {},
   "outputs": [
    {
     "name": "stdout",
     "output_type": "stream",
     "text": [
      "2278101988464\n",
      "2278101988304\n"
     ]
    },
    {
     "data": {
      "text/plain": [
       "False"
      ]
     },
     "execution_count": 202,
     "metadata": {},
     "output_type": "execute_result"
    }
   ],
   "source": [
    "a = -6\n",
    "b = -6\n",
    "print(id(a))\n",
    "print(id(b))\n",
    "a is b"
   ]
  },
  {
   "cell_type": "code",
   "execution_count": 204,
   "id": "british-providence",
   "metadata": {},
   "outputs": [
    {
     "name": "stdout",
     "output_type": "stream",
     "text": [
      "2278068963376\n",
      "2278068963376\n"
     ]
    },
    {
     "data": {
      "text/plain": [
       "True"
      ]
     },
     "execution_count": 204,
     "metadata": {},
     "output_type": "execute_result"
    }
   ],
   "source": [
    "str1 = 'python'\n",
    "str2 = 'python'\n",
    "print(id(str1))\n",
    "print(id(str2))\n",
    "str1 is str2"
   ]
  },
  {
   "cell_type": "code",
   "execution_count": 206,
   "id": "suspended-georgia",
   "metadata": {},
   "outputs": [
    {
     "name": "stdout",
     "output_type": "stream",
     "text": [
      "2278068963376\n",
      "2278028237616\n"
     ]
    },
    {
     "data": {
      "text/plain": [
       "False"
      ]
     },
     "execution_count": 206,
     "metadata": {},
     "output_type": "execute_result"
    }
   ],
   "source": [
    "str1 = 'python'\n",
    "str2 = 'Python'\n",
    "print(id(str1))\n",
    "print(id(str2))\n",
    "str1 is str2"
   ]
  },
  {
   "cell_type": "code",
   "execution_count": 213,
   "id": "identified-reset",
   "metadata": {},
   "outputs": [
    {
     "name": "stdout",
     "output_type": "stream",
     "text": [
      "2278027699824\n",
      "2278027699824\n"
     ]
    },
    {
     "data": {
      "text/plain": [
       "True"
      ]
     },
     "execution_count": 213,
     "metadata": {},
     "output_type": "execute_result"
    }
   ],
   "source": [
    "str1 = 'data'\n",
    "str2 = 'data'\n",
    "print(id(str1))\n",
    "print(id(str2))\n",
    "str1 is str2"
   ]
  },
  {
   "cell_type": "code",
   "execution_count": 214,
   "id": "piano-modeling",
   "metadata": {},
   "outputs": [
    {
     "name": "stdout",
     "output_type": "stream",
     "text": [
      "2278027699824\n",
      "2278027699824\n"
     ]
    },
    {
     "data": {
      "text/plain": [
       "False"
      ]
     },
     "execution_count": 214,
     "metadata": {},
     "output_type": "execute_result"
    }
   ],
   "source": [
    "str1 = 'data'\n",
    "str2 = 'data'\n",
    "print(id(str1))\n",
    "print(id(str2))\n",
    "str1 is not str2"
   ]
  },
  {
   "cell_type": "code",
   "execution_count": 212,
   "id": "independent-concert",
   "metadata": {},
   "outputs": [
    {
     "name": "stdout",
     "output_type": "stream",
     "text": [
      "2278102004400\n",
      "2278102004592\n"
     ]
    },
    {
     "data": {
      "text/plain": [
       "False"
      ]
     },
     "execution_count": 212,
     "metadata": {},
     "output_type": "execute_result"
    }
   ],
   "source": [
    "str1 = 'data science'\n",
    "str2 = 'data science'\n",
    "print(id(str1))\n",
    "print(id(str2))\n",
    "str1 is str2"
   ]
  },
  {
   "cell_type": "code",
   "execution_count": null,
   "id": "comparative-fusion",
   "metadata": {},
   "outputs": [],
   "source": []
  },
  {
   "cell_type": "code",
   "execution_count": 211,
   "id": "romance-appreciation",
   "metadata": {},
   "outputs": [
    {
     "name": "stdout",
     "output_type": "stream",
     "text": [
      "2278101982192\n",
      "2278101982000\n"
     ]
    },
    {
     "data": {
      "text/plain": [
       "True"
      ]
     },
     "execution_count": 211,
     "metadata": {},
     "output_type": "execute_result"
    }
   ],
   "source": [
    "str1 = 'data science'\n",
    "str2 = 'data science'\n",
    "print(id(str1))\n",
    "print(id(str2))\n",
    "str1 is not str2"
   ]
  },
  {
   "cell_type": "code",
   "execution_count": 209,
   "id": "desperate-concept",
   "metadata": {},
   "outputs": [
    {
     "data": {
      "text/plain": [
       "True"
      ]
     },
     "execution_count": 209,
     "metadata": {},
     "output_type": "execute_result"
    }
   ],
   "source": [
    "str1 = 'data science'\n",
    "str2 = 'data science'\n",
    "str1 == str2"
   ]
  },
  {
   "cell_type": "code",
   "execution_count": null,
   "id": "foster-mortgage",
   "metadata": {},
   "outputs": [],
   "source": []
  },
  {
   "cell_type": "markdown",
   "id": "sunset-calculation",
   "metadata": {},
   "source": [
    "# bitwise operators"
   ]
  },
  {
   "cell_type": "code",
   "execution_count": 216,
   "id": "ethical-plumbing",
   "metadata": {},
   "outputs": [
    {
     "data": {
      "text/plain": [
       "'0b1010'"
      ]
     },
     "execution_count": 216,
     "metadata": {},
     "output_type": "execute_result"
    }
   ],
   "source": [
    "x = 10\n",
    "bin(10)"
   ]
  },
  {
   "cell_type": "code",
   "execution_count": 219,
   "id": "enclosed-fashion",
   "metadata": {},
   "outputs": [
    {
     "data": {
      "text/plain": [
       "'0b1011'"
      ]
     },
     "execution_count": 219,
     "metadata": {},
     "output_type": "execute_result"
    }
   ],
   "source": [
    "x = 11\n",
    "bin(x)"
   ]
  },
  {
   "cell_type": "code",
   "execution_count": 221,
   "id": "favorite-subscription",
   "metadata": {},
   "outputs": [
    {
     "data": {
      "text/plain": [
       "'0b1111'"
      ]
     },
     "execution_count": 221,
     "metadata": {},
     "output_type": "execute_result"
    }
   ],
   "source": [
    "x = 15\n",
    "bin(x)"
   ]
  },
  {
   "cell_type": "code",
   "execution_count": 223,
   "id": "turned-instrumentation",
   "metadata": {},
   "outputs": [
    {
     "data": {
      "text/plain": [
       "'1111'"
      ]
     },
     "execution_count": 223,
     "metadata": {},
     "output_type": "execute_result"
    }
   ],
   "source": [
    "format(15,'b')"
   ]
  },
  {
   "cell_type": "code",
   "execution_count": 226,
   "id": "computational-allen",
   "metadata": {},
   "outputs": [
    {
     "data": {
      "text/plain": [
       "'1101'"
      ]
     },
     "execution_count": 226,
     "metadata": {},
     "output_type": "execute_result"
    }
   ],
   "source": [
    "format(13,'b')"
   ]
  },
  {
   "cell_type": "markdown",
   "id": "seasonal-vault",
   "metadata": {},
   "source": [
    "##### bitwise AND"
   ]
  },
  {
   "cell_type": "code",
   "execution_count": null,
   "id": "democratic-perth",
   "metadata": {},
   "outputs": [],
   "source": [
    "0 & 0  >> 0\n",
    "0 & 1  >> 0\n",
    "1 & 0  >> 0\n",
    "1 & 1  >> 1  "
   ]
  },
  {
   "cell_type": "code",
   "execution_count": null,
   "id": "allied-pharmacy",
   "metadata": {},
   "outputs": [],
   "source": [
    "10 & 13"
   ]
  },
  {
   "cell_type": "code",
   "execution_count": null,
   "id": "worldwide-cylinder",
   "metadata": {},
   "outputs": [],
   "source": [
    "1 0 1 0  ## 10\n",
    "1 1 0 1  ## 13\n",
    "  \n",
    "1 0 0 0  # 8"
   ]
  },
  {
   "cell_type": "code",
   "execution_count": 228,
   "id": "psychological-sally",
   "metadata": {},
   "outputs": [
    {
     "data": {
      "text/plain": [
       "8"
      ]
     },
     "execution_count": 228,
     "metadata": {},
     "output_type": "execute_result"
    }
   ],
   "source": [
    "10 & 13"
   ]
  },
  {
   "cell_type": "code",
   "execution_count": 230,
   "id": "unsigned-folks",
   "metadata": {},
   "outputs": [
    {
     "data": {
      "text/plain": [
       "16"
      ]
     },
     "execution_count": 230,
     "metadata": {},
     "output_type": "execute_result"
    }
   ],
   "source": [
    "20 & 18"
   ]
  },
  {
   "cell_type": "markdown",
   "id": "popular-schedule",
   "metadata": {},
   "source": [
    "##### Bitwise or "
   ]
  },
  {
   "cell_type": "code",
   "execution_count": null,
   "id": "enclosed-farming",
   "metadata": {},
   "outputs": [],
   "source": [
    "0 | 0  >> 0\n",
    "0 | 1  >> 1\n",
    "1 | 0  >> 1\n",
    "1 | 1  >> 1  "
   ]
  },
  {
   "cell_type": "code",
   "execution_count": null,
   "id": "stopped-prior",
   "metadata": {},
   "outputs": [],
   "source": [
    "1 0 1 0  ## 10\n",
    "1 1 0 1  ## 13\n",
    "  \n",
    "1 1 1 1  #15"
   ]
  },
  {
   "cell_type": "code",
   "execution_count": 231,
   "id": "resistant-picture",
   "metadata": {},
   "outputs": [
    {
     "data": {
      "text/plain": [
       "15"
      ]
     },
     "execution_count": 231,
     "metadata": {},
     "output_type": "execute_result"
    }
   ],
   "source": [
    "10 | 13"
   ]
  },
  {
   "cell_type": "markdown",
   "id": "physical-accreditation",
   "metadata": {},
   "source": [
    "##### Bitwise XOR"
   ]
  },
  {
   "cell_type": "code",
   "execution_count": null,
   "id": "residential-flash",
   "metadata": {},
   "outputs": [],
   "source": [
    "0 ^ 0  >> 0\n",
    "0 ^ 1  >> 1\n",
    "1 ^ 0  >> 1\n",
    "1 ^ 1  >> 0"
   ]
  },
  {
   "cell_type": "code",
   "execution_count": null,
   "id": "moved-ocean",
   "metadata": {},
   "outputs": [],
   "source": [
    "1 0 1 0  ## 10\n",
    "1 1 0 1  ## 13\n",
    "  \n",
    "0 1 1 1 # 7"
   ]
  },
  {
   "cell_type": "code",
   "execution_count": 232,
   "id": "intermediate-atmosphere",
   "metadata": {},
   "outputs": [
    {
     "data": {
      "text/plain": [
       "7"
      ]
     },
     "execution_count": 232,
     "metadata": {},
     "output_type": "execute_result"
    }
   ],
   "source": [
    "10 ^ 13"
   ]
  },
  {
   "cell_type": "markdown",
   "id": "corporate-payment",
   "metadata": {},
   "source": [
    "##### Right Shift"
   ]
  },
  {
   "cell_type": "code",
   "execution_count": 234,
   "id": "silver-vampire",
   "metadata": {},
   "outputs": [
    {
     "data": {
      "text/plain": [
       "5"
      ]
     },
     "execution_count": 234,
     "metadata": {},
     "output_type": "execute_result"
    }
   ],
   "source": [
    "10 >> 1"
   ]
  },
  {
   "cell_type": "code",
   "execution_count": null,
   "id": "front-memphis",
   "metadata": {},
   "outputs": [],
   "source": [
    "1 0 1 0  >> 1\n",
    "0 1 0 1  # 5\n"
   ]
  },
  {
   "cell_type": "code",
   "execution_count": 236,
   "id": "quantitative-memorial",
   "metadata": {},
   "outputs": [
    {
     "data": {
      "text/plain": [
       "6"
      ]
     },
     "execution_count": 236,
     "metadata": {},
     "output_type": "execute_result"
    }
   ],
   "source": [
    "25 >> 2"
   ]
  },
  {
   "cell_type": "code",
   "execution_count": 237,
   "id": "supposed-highland",
   "metadata": {},
   "outputs": [
    {
     "data": {
      "text/plain": [
       "'0b11001'"
      ]
     },
     "execution_count": 237,
     "metadata": {},
     "output_type": "execute_result"
    }
   ],
   "source": [
    "bin(25)"
   ]
  },
  {
   "cell_type": "markdown",
   "id": "loved-pride",
   "metadata": {},
   "source": [
    "##### Left Shift"
   ]
  },
  {
   "cell_type": "code",
   "execution_count": 239,
   "id": "impaired-swimming",
   "metadata": {},
   "outputs": [
    {
     "data": {
      "text/plain": [
       "'0b1101'"
      ]
     },
     "execution_count": 239,
     "metadata": {},
     "output_type": "execute_result"
    }
   ],
   "source": [
    "bin(13)"
   ]
  },
  {
   "cell_type": "code",
   "execution_count": 241,
   "id": "coated-behavior",
   "metadata": {},
   "outputs": [
    {
     "data": {
      "text/plain": [
       "26"
      ]
     },
     "execution_count": 241,
     "metadata": {},
     "output_type": "execute_result"
    }
   ],
   "source": [
    "13 << 1"
   ]
  },
  {
   "cell_type": "code",
   "execution_count": 243,
   "id": "whole-french",
   "metadata": {},
   "outputs": [
    {
     "data": {
      "text/plain": [
       "30"
      ]
     },
     "execution_count": 243,
     "metadata": {},
     "output_type": "execute_result"
    }
   ],
   "source": [
    "15 << 1"
   ]
  },
  {
   "cell_type": "code",
   "execution_count": null,
   "id": "explicit-westminster",
   "metadata": {},
   "outputs": [],
   "source": [
    "&=   >>  a = a & 5"
   ]
  },
  {
   "cell_type": "code",
   "execution_count": 246,
   "id": "sensitive-record",
   "metadata": {},
   "outputs": [
    {
     "name": "stdout",
     "output_type": "stream",
     "text": [
      "13\n",
      "8\n"
     ]
    }
   ],
   "source": [
    "a = 13\n",
    "print(a) \n",
    "\n",
    "a =  a & 10 # 13 & 10\n",
    "print(a)"
   ]
  },
  {
   "cell_type": "code",
   "execution_count": 247,
   "id": "proprietary-louisville",
   "metadata": {},
   "outputs": [
    {
     "name": "stdout",
     "output_type": "stream",
     "text": [
      "13\n",
      "8\n"
     ]
    }
   ],
   "source": [
    "a = 13\n",
    "print(a) \n",
    "\n",
    "a &=  10 # 13 & 10\n",
    "print(a)"
   ]
  },
  {
   "cell_type": "code",
   "execution_count": null,
   "id": "american-evaluation",
   "metadata": {},
   "outputs": [],
   "source": []
  }
 ],
 "metadata": {
  "kernelspec": {
   "display_name": "Python 3 (ipykernel)",
   "language": "python",
   "name": "python3"
  },
  "language_info": {
   "codemirror_mode": {
    "name": "ipython",
    "version": 3
   },
   "file_extension": ".py",
   "mimetype": "text/x-python",
   "name": "python",
   "nbconvert_exporter": "python",
   "pygments_lexer": "ipython3",
   "version": "3.9.12"
  }
 },
 "nbformat": 4,
 "nbformat_minor": 5
}
