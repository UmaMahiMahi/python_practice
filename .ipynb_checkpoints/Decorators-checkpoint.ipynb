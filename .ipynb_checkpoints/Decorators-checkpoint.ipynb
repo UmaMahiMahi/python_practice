{
 "cells": [
  {
   "cell_type": "markdown",
   "id": "grateful-andorra",
   "metadata": {},
   "source": [
    "## Decorators"
   ]
  },
  {
   "cell_type": "code",
   "execution_count": null,
   "id": "tender-bahamas",
   "metadata": {},
   "outputs": [],
   "source": []
  },
  {
   "cell_type": "code",
   "execution_count": null,
   "id": "worthy-paraguay",
   "metadata": {},
   "outputs": [],
   "source": [
    "\n",
    "Higher Order Function:\n",
    "    map(function_name, iterable)\n",
    "    filter (function_name, iterable)\n",
    "    apply(function_name)"
   ]
  },
  {
   "cell_type": "code",
   "execution_count": 7,
   "id": "willing-palestine",
   "metadata": {},
   "outputs": [
    {
     "name": "stdout",
     "output_type": "stream",
     "text": [
      "We are in Outer Function\n"
     ]
    }
   ],
   "source": [
    "def outer_function():\n",
    "    print(\"We are in Outer Function\")\n",
    "    \n",
    "outer_function()"
   ]
  },
  {
   "cell_type": "code",
   "execution_count": 11,
   "id": "directed-patch",
   "metadata": {},
   "outputs": [
    {
     "name": "stdout",
     "output_type": "stream",
     "text": [
      "We are in Outer Function\n",
      "End of Outer Function\n"
     ]
    }
   ],
   "source": [
    "def outer_function():\n",
    "    print(\"We are in Outer Function\")\n",
    "    \n",
    "    def inner_function():\n",
    "        print(\"we are in Inner Function\")\n",
    "        \n",
    "        \n",
    "    print(\"End of Outer Function\")\n",
    "    \n",
    "outer_function()"
   ]
  },
  {
   "cell_type": "code",
   "execution_count": 13,
   "id": "recovered-underground",
   "metadata": {},
   "outputs": [
    {
     "name": "stdout",
     "output_type": "stream",
     "text": [
      "We are in Outer Function\n",
      "we are in Inner Function\n",
      "End of Outer Function\n"
     ]
    }
   ],
   "source": [
    "def outer_function():\n",
    "    print(\"We are in Outer Function\")\n",
    "    \n",
    "    def inner_function():\n",
    "        print(\"we are in Inner Function\")\n",
    "        \n",
    "    inner_function()\n",
    "    print(\"End of Outer Function\")\n",
    "    \n",
    "outer_function()"
   ]
  },
  {
   "cell_type": "code",
   "execution_count": 15,
   "id": "suspected-pioneer",
   "metadata": {},
   "outputs": [
    {
     "name": "stdout",
     "output_type": "stream",
     "text": [
      "We are in Outer Function\n",
      "we are in Inner Function\n",
      "End of Outer Function\n"
     ]
    },
    {
     "data": {
      "text/plain": [
       "1000"
      ]
     },
     "execution_count": 15,
     "metadata": {},
     "output_type": "execute_result"
    }
   ],
   "source": [
    "def outer_function():\n",
    "    print(\"We are in Outer Function\")\n",
    "    \n",
    "    def inner_function():\n",
    "        print(\"we are in Inner Function\")\n",
    "        \n",
    "    inner_function()\n",
    "    print(\"End of Outer Function\")\n",
    "    return 1000\n",
    "\n",
    "outer_function()"
   ]
  },
  {
   "cell_type": "code",
   "execution_count": 20,
   "id": "important-bristol",
   "metadata": {},
   "outputs": [
    {
     "name": "stdout",
     "output_type": "stream",
     "text": [
      "We are in Outer Function\n",
      "we are in Inner Function\n"
     ]
    }
   ],
   "source": [
    "def outer_function():\n",
    "    print(\"We are in Outer Function\")\n",
    "    \n",
    "    def inner_function():\n",
    "        print(\"we are in Inner Function\")\n",
    "        \n",
    "    inner_function()\n",
    "    \n",
    "    return \n",
    "\n",
    "x = outer_function()\n"
   ]
  },
  {
   "cell_type": "code",
   "execution_count": 25,
   "id": "sacred-divorce",
   "metadata": {},
   "outputs": [
    {
     "name": "stdout",
     "output_type": "stream",
     "text": [
      "We are in Outer Function\n",
      "we are in Inner Function\n"
     ]
    },
    {
     "data": {
      "text/plain": [
       "200"
      ]
     },
     "execution_count": 25,
     "metadata": {},
     "output_type": "execute_result"
    }
   ],
   "source": [
    "def outer_function():\n",
    "    print(\"We are in Outer Function\")\n",
    "    \n",
    "    def inner_function(): # Local Function\n",
    "        print(\"we are in Inner Function\")\n",
    "        return 200\n",
    "    \n",
    "    return inner_function\n",
    "\n",
    "x = outer_function()\n",
    "x()"
   ]
  },
  {
   "cell_type": "code",
   "execution_count": 27,
   "id": "higher-chest",
   "metadata": {},
   "outputs": [
    {
     "name": "stdout",
     "output_type": "stream",
     "text": [
      "We are in Outer Function\n",
      "we are in Inner Function\n"
     ]
    },
    {
     "data": {
      "text/plain": [
       "200"
      ]
     },
     "execution_count": 27,
     "metadata": {},
     "output_type": "execute_result"
    }
   ],
   "source": [
    "def outer_function():\n",
    "    print(\"We are in Outer Function\")\n",
    "    \n",
    "    def inner_function(): # Local Function\n",
    "        print(\"we are in Inner Function\")\n",
    "        return 200\n",
    "    \n",
    "    return inner_function\n",
    "\n",
    "x = outer_function()()\n",
    "x"
   ]
  },
  {
   "cell_type": "code",
   "execution_count": 43,
   "id": "valuable-maple",
   "metadata": {},
   "outputs": [
    {
     "name": "stdout",
     "output_type": "stream",
     "text": [
      "We are in Outer Function\n",
      "a == 10\n",
      "******************************\n",
      "we are in Inner Function\n",
      "b == 30\n"
     ]
    },
    {
     "data": {
      "text/plain": [
       "200"
      ]
     },
     "execution_count": 43,
     "metadata": {},
     "output_type": "execute_result"
    }
   ],
   "source": [
    "def outer_function(a=10):\n",
    "    print(\"We are in Outer Function\")\n",
    "    print(f\"a == {a}\")\n",
    "    \n",
    "    def inner_function(b): # Local Function\n",
    "        print(\"we are in Inner Function\")\n",
    "        print(f\"b == {b}\")\n",
    "        return 200\n",
    "    \n",
    "    return inner_function\n",
    "\n",
    "x = outer_function()\n",
    "print(\"*\"*30)\n",
    "x(30)"
   ]
  },
  {
   "cell_type": "code",
   "execution_count": null,
   "id": "pleasant-village",
   "metadata": {},
   "outputs": [],
   "source": [
    "def outer_function(a=10):\n",
    "    print(\"We are in Outer Function\")\n",
    "    print(f\"a == {a}\")\n",
    "    \n",
    "    def inner_function(b): # Local Function\n",
    "        print(\"we are in Inner Function\")\n",
    "        print(f\"b == {b}\")\n",
    "        return 200\n",
    "    \n",
    "    return inner_function\n",
    "\n",
    "x = outer_function()\n",
    "print(\"*\"*30)\n",
    "x(30)"
   ]
  },
  {
   "cell_type": "code",
   "execution_count": null,
   "id": "invalid-export",
   "metadata": {},
   "outputs": [],
   "source": [
    "5 models\n"
   ]
  },
  {
   "cell_type": "code",
   "execution_count": 46,
   "id": "functional-complexity",
   "metadata": {},
   "outputs": [
    {
     "name": "stdout",
     "output_type": "stream",
     "text": [
      "Factorial Function\n",
      "Total Time : 0.026006698608398438\n"
     ]
    }
   ],
   "source": [
    "import time\n",
    "def factorial():\n",
    "    start_time = time.time()\n",
    "    \n",
    "    print(\"Factorial Function\")\n",
    "    for i in range(1000000):\n",
    "        pass\n",
    "    \n",
    "    total_time = time.time() - start_time\n",
    "    print(\"Total Time :\",total_time)\n",
    "    \n",
    "factorial()"
   ]
  },
  {
   "cell_type": "code",
   "execution_count": 53,
   "id": "varying-parking",
   "metadata": {},
   "outputs": [
    {
     "name": "stdout",
     "output_type": "stream",
     "text": [
      "Fibonacci Function\n",
      "Total Time : 0.12002873420715332\n"
     ]
    }
   ],
   "source": [
    "import time\n",
    "def fibonacci():\n",
    "    start_time = time.time()\n",
    "    \n",
    "    print(\"Fibonacci Function\")\n",
    "    for i in range(5000000):\n",
    "        pass\n",
    "    \n",
    "    total_time = time.time() - start_time\n",
    "    print(\"Total Time :\",total_time)\n",
    "    \n",
    "fibonacci()"
   ]
  },
  {
   "cell_type": "code",
   "execution_count": 59,
   "id": "crude-visitor",
   "metadata": {},
   "outputs": [
    {
     "name": "stdout",
     "output_type": "stream",
     "text": [
      "We are in My Function\n",
      "We are in Outer Function\n"
     ]
    },
    {
     "data": {
      "text/plain": [
       "<function __main__.outer_function.<locals>.inner_function(b)>"
      ]
     },
     "execution_count": 59,
     "metadata": {},
     "output_type": "execute_result"
    }
   ],
   "source": [
    "def outer_function(a=10):\n",
    "    print(\"We are in Outer Function\")\n",
    "    \n",
    "    def inner_function(b): # Local Function\n",
    "        print(\"we are in Inner Function\")\n",
    "        print(f\"b == {b}\")\n",
    "        return 200\n",
    "    \n",
    "    return inner_function\n",
    "\n",
    "\n",
    "def my_fun():\n",
    "    print(\"We are in My Function\")\n",
    "    \n",
    "my_fun()\n",
    "outer_function()"
   ]
  },
  {
   "cell_type": "code",
   "execution_count": 63,
   "id": "selected-delay",
   "metadata": {},
   "outputs": [
    {
     "name": "stdout",
     "output_type": "stream",
     "text": [
      "We are in Outer Function\n"
     ]
    },
    {
     "data": {
      "text/plain": [
       "<function __main__.outer_function.<locals>.inner_function(b)>"
      ]
     },
     "execution_count": 63,
     "metadata": {},
     "output_type": "execute_result"
    }
   ],
   "source": [
    "def outer_function(fun): # Higher order function\n",
    "    print(\"We are in Outer Function\")\n",
    "    \n",
    "    def inner_function(b): # Local Function\n",
    "        print(\"we are in Inner Function\")\n",
    "        print(f\"b == {b}\")\n",
    "        fun\n",
    "        return 200\n",
    "    \n",
    "    return inner_function\n",
    "\n",
    "\n",
    "def my_fun():\n",
    "    print(\"We are in My Function\")\n",
    "    \n",
    "outer_function(my_fun)"
   ]
  },
  {
   "cell_type": "code",
   "execution_count": 67,
   "id": "constitutional-validity",
   "metadata": {},
   "outputs": [
    {
     "name": "stdout",
     "output_type": "stream",
     "text": [
      "We are in Outer Function\n",
      "we are in Inner Function\n",
      "b == 3\n"
     ]
    },
    {
     "data": {
      "text/plain": [
       "200"
      ]
     },
     "execution_count": 67,
     "metadata": {},
     "output_type": "execute_result"
    }
   ],
   "source": [
    "def outer_function(fun): # Higher order function\n",
    "    print(\"We are in Outer Function\")\n",
    "    \n",
    "    def inner_function(b): # Local Function\n",
    "        print(\"we are in Inner Function\")\n",
    "        print(f\"b == {b}\")\n",
    "        fun\n",
    "        return 200\n",
    "    \n",
    "    return inner_function\n",
    "\n",
    "\n",
    "def my_fun():\n",
    "    print(\"We are in My Function\")\n",
    "    \n",
    "x = outer_function(my_fun)\n",
    "x(3) # inner_function(3)"
   ]
  },
  {
   "cell_type": "code",
   "execution_count": 89,
   "id": "furnished-easter",
   "metadata": {},
   "outputs": [
    {
     "name": "stdout",
     "output_type": "stream",
     "text": [
      "We are in Outer Function\n",
      "we are in Inner Function\n",
      "We are in My Function\n"
     ]
    }
   ],
   "source": [
    "def outer_function(fun): # Higher order function\n",
    "    print(\"We are in Outer Function\")\n",
    "    \n",
    "    def inner_function(): # Local Function\n",
    "        print(\"we are in Inner Function\")\n",
    "        fun()\n",
    "    \n",
    "    return inner_function\n",
    "\n",
    "\n",
    "def my_fun():\n",
    "    print(\"We are in My Function\")\n",
    "    \n",
    "x = outer_function(my_fun)\n",
    "x() # inner_function()"
   ]
  },
  {
   "cell_type": "code",
   "execution_count": 93,
   "id": "imposed-louisville",
   "metadata": {},
   "outputs": [
    {
     "name": "stdout",
     "output_type": "stream",
     "text": [
      "We are in Outer Function\n",
      "we are in Inner Function\n",
      "We are in My Function\n"
     ]
    }
   ],
   "source": [
    "def hello_decorator(fun): # Higher order function\n",
    "    print(\"We are in Outer Function\")\n",
    "    \n",
    "    def inner_function(): # Local Function\n",
    "        print(\"we are in Inner Function\")\n",
    "        fun()\n",
    "    \n",
    "    return inner_function\n",
    "\n",
    "\n",
    "def my_fun():\n",
    "    print(\"We are in My Function\")\n",
    "    \n",
    "x = hello_decorator(my_fun)\n",
    "x() # inner_function()"
   ]
  },
  {
   "cell_type": "code",
   "execution_count": 98,
   "id": "interested-equipment",
   "metadata": {},
   "outputs": [
    {
     "name": "stdout",
     "output_type": "stream",
     "text": [
      "****************************************\n",
      "$$$$$$$$$$$$$$$$$$$$$$$$$$$$$$$$$$$$$$$$\n",
      "We are in My Function\n",
      "$$$$$$$$$$$$$$$$$$$$$$$$$$$$$$$$$$$$$$$$\n"
     ]
    }
   ],
   "source": [
    "def hello_decorator(fun): # Higher order function\n",
    "    print(\"*\"*40)\n",
    "    \n",
    "    def inner_function(): # Local Function\n",
    "        print(\"$\"*40)\n",
    "        fun()\n",
    "        print(\"$\"*40)\n",
    "        \n",
    "    return inner_function\n",
    "\n",
    "@hello_decorator # hello_decorator(my_fun)\n",
    "def my_fun():\n",
    "    print(\"We are in My Function\")\n",
    "    \n",
    "my_fun()\n"
   ]
  },
  {
   "cell_type": "code",
   "execution_count": 102,
   "id": "italic-casino",
   "metadata": {},
   "outputs": [
    {
     "name": "stdout",
     "output_type": "stream",
     "text": [
      "****************************************\n",
      "$$$$$$$$$$$$$$$$$$$$$$$$$$$$$$$$$$$$$$$$\n",
      "We are in My Function\n",
      "$$$$$$$$$$$$$$$$$$$$$$$$$$$$$$$$$$$$$$$$\n"
     ]
    }
   ],
   "source": [
    "def hello_decorator(fun):                     # Higher order function\n",
    "    print(\"*\"*40)\n",
    "    \n",
    "    def inner_function(x):                    # Local Function\n",
    "        print(\"$\"*40)\n",
    "        fun(x)                                 # my_fun(x)\n",
    "        print(\"$\"*40)\n",
    "        \n",
    "    return inner_function\n",
    "\n",
    "@hello_decorator # hello_decorator(my_fun)\n",
    "def my_fun(a):\n",
    "    print(\"We are in My Function\")\n",
    "    \n",
    "my_fun(50)\n"
   ]
  },
  {
   "cell_type": "code",
   "execution_count": 106,
   "id": "joined-sleeping",
   "metadata": {},
   "outputs": [
    {
     "name": "stdout",
     "output_type": "stream",
     "text": [
      "****************************************\n",
      "$$$$$$$$$$$$$$$$$$$$$$$$$$$$$$$$$$$$$$$$\n",
      "a == 10, b == 20, c == 40\n",
      "We are in My Function\n",
      "$$$$$$$$$$$$$$$$$$$$$$$$$$$$$$$$$$$$$$$$\n"
     ]
    }
   ],
   "source": [
    "def hello_decorator(fun):                     # Higher order function\n",
    "    print(\"*\"*40)\n",
    "    \n",
    "    def inner_function():                    # Local Function\n",
    "        print(\"$\"*40)\n",
    "        fun()                                 # my_fun(x)\n",
    "        print(\"$\"*40)\n",
    "        \n",
    "    return inner_function\n",
    "\n",
    "@hello_decorator # hello_decorator(my_fun)\n",
    "def my_fun(a = 10, b = 20, c = 40):\n",
    "    print(f'a == {a}, b == {b}, c == {c}')\n",
    "    print(\"We are in My Function\")\n",
    "    \n",
    "my_fun()\n"
   ]
  },
  {
   "cell_type": "markdown",
   "id": "distinguished-tissue",
   "metadata": {},
   "source": [
    "### Time Complexity of multiple functions"
   ]
  },
  {
   "cell_type": "code",
   "execution_count": 116,
   "id": "offshore-mailman",
   "metadata": {},
   "outputs": [
    {
     "name": "stdout",
     "output_type": "stream",
     "text": [
      "****************************************\n",
      "Factorial of 5 is : 120\n",
      "Total time taken by function is : 1.3208227157592773\n",
      "*********************************************\n"
     ]
    }
   ],
   "source": [
    "def calculate_time(fun):\n",
    "    def inner_function(n):\n",
    "        print(\"*\"*40)\n",
    "        start_time = time.time()\n",
    "        fun(n)\n",
    "        total_time = time.time() - start_time\n",
    "        print(\"Total time taken by function is :\",total_time)\n",
    "        print(\"*\"*45)\n",
    "        \n",
    "    return inner_function\n",
    "\n",
    "@calculate_time\n",
    "def factorial(num):\n",
    "    \n",
    "    for i in range(50000000):\n",
    "        pass\n",
    "    \n",
    "    fact = 1\n",
    "    for i in range(1,num+1):\n",
    "        fact *= i\n",
    "    \n",
    "    print(f\"Factorial of {num} is :\", fact)\n",
    "    \n",
    "factorial(5)"
   ]
  },
  {
   "cell_type": "code",
   "execution_count": 118,
   "id": "intimate-knight",
   "metadata": {},
   "outputs": [
    {
     "name": "stdout",
     "output_type": "stream",
     "text": [
      "****************************************\n",
      "Fibonacci Series is : 0 1 1 2 3 5 8\n",
      "Total time taken by function is : 1.5189528465270996\n",
      "*********************************************\n"
     ]
    }
   ],
   "source": [
    "def calculate_time(fun):\n",
    "    def inner_function(n):\n",
    "        print(\"*\"*40)\n",
    "        start_time = time.time()\n",
    "        fun(n)\n",
    "        total_time = time.time() - start_time\n",
    "        print(\"Total time taken by function is :\",total_time)\n",
    "        print(\"*\"*45)\n",
    "        \n",
    "    return inner_function\n",
    "\n",
    "@calculate_time\n",
    "def fibonacci(num):\n",
    "    \n",
    "    for i in range(60000000):\n",
    "        pass\n",
    "    \n",
    "    print(f\"Fibonacci Series is : 0 1 1 2 3 5 8\")\n",
    "    \n",
    "fibonacci(8)"
   ]
  },
  {
   "cell_type": "code",
   "execution_count": 121,
   "id": "literary-conversation",
   "metadata": {},
   "outputs": [
    {
     "name": "stdout",
     "output_type": "stream",
     "text": [
      "****************************************\n",
      "Factorial of 5 is : 120\n",
      "Total time taken by function is : 1.233560562133789\n",
      "*********************************************\n",
      "****************************************\n",
      "Factorial of 6 is : 720\n",
      "Total time taken by function is : 1.171354055404663\n",
      "*********************************************\n",
      "****************************************\n",
      "Fibonacci Series is : 0 1 1 2 3 5 8\n",
      "Total time taken by function is : 1.4222321510314941\n",
      "*********************************************\n",
      "****************************************\n",
      "Fibonacci Series is : 0 1 1 2 3 5 8\n",
      "Total time taken by function is : 1.4095168113708496\n",
      "*********************************************\n"
     ]
    }
   ],
   "source": [
    "def calculate_time(fun):\n",
    "    def inner_function(n):\n",
    "        print(\"*\"*40)\n",
    "        start_time = time.time()\n",
    "        fun(n)\n",
    "        total_time = time.time() - start_time\n",
    "        print(\"Total time taken by function is :\",total_time)\n",
    "        print(\"*\"*45)\n",
    "        \n",
    "    return inner_function\n",
    "\n",
    "@calculate_time\n",
    "def factorial(num):\n",
    "    \n",
    "    for i in range(50000000):\n",
    "        pass\n",
    "    \n",
    "    fact = 1\n",
    "    for i in range(1,num+1):\n",
    "        fact *= i\n",
    "    \n",
    "    print(f\"Factorial of {num} is :\", fact)\n",
    "    \n",
    "@calculate_time\n",
    "def fibonacci(num):\n",
    "    for i in range(60000000):\n",
    "        pass\n",
    "    \n",
    "    print(f\"Fibonacci Series is : 0 1 1 2 3 5 8\")\n",
    "    \n",
    "    \n",
    "factorial(5)\n",
    "factorial(6)\n",
    "fibonacci(8)\n",
    "fibonacci(8)"
   ]
  },
  {
   "cell_type": "code",
   "execution_count": 128,
   "id": "technical-lesson",
   "metadata": {},
   "outputs": [
    {
     "name": "stdout",
     "output_type": "stream",
     "text": [
      "****************************************\n",
      "KNN CLassification\n",
      "Total time taken by function is : 0.0\n",
      "*********************************************\n"
     ]
    },
    {
     "ename": "TypeError",
     "evalue": "inner_function() missing 1 required positional argument: 'n'",
     "output_type": "error",
     "traceback": [
      "\u001b[1;31m---------------------------------------------------------------------------\u001b[0m",
      "\u001b[1;31mTypeError\u001b[0m                                 Traceback (most recent call last)",
      "\u001b[1;32m<ipython-input-128-af9aae15851e>\u001b[0m in \u001b[0;36m<module>\u001b[1;34m\u001b[0m\n\u001b[0;32m     34\u001b[0m \u001b[0mknn_classification\u001b[0m\u001b[1;33m(\u001b[0m\u001b[1;36m4\u001b[0m\u001b[1;33m)\u001b[0m\u001b[1;33m\u001b[0m\u001b[1;33m\u001b[0m\u001b[0m\n\u001b[0;32m     35\u001b[0m \u001b[1;33m\u001b[0m\u001b[0m\n\u001b[1;32m---> 36\u001b[1;33m \u001b[0mrandom_forest\u001b[0m\u001b[1;33m(\u001b[0m\u001b[1;33m)\u001b[0m\u001b[1;33m\u001b[0m\u001b[1;33m\u001b[0m\u001b[0m\n\u001b[0m",
      "\u001b[1;31mTypeError\u001b[0m: inner_function() missing 1 required positional argument: 'n'"
     ]
    }
   ],
   "source": [
    "def calculate_time(fun):\n",
    "    def inner_function(n):\n",
    "        print(\"*\"*40)\n",
    "        start_time = time.time()\n",
    "        fun(n)\n",
    "        total_time = time.time() - start_time\n",
    "        print(\"Total time taken by function is :\",total_time)\n",
    "        print(\"*\"*45)\n",
    "        \n",
    "    return inner_function\n",
    "\n",
    "@calculate_time\n",
    "def logistic_regression(num):\n",
    "    print(\"Logistic Regression\")\n",
    "    for i in range(50000000):\n",
    "        pass\n",
    "    \n",
    "@calculate_time\n",
    "def knn_classification(num):\n",
    "    print(\"KNN CLassification\")\n",
    "\n",
    "@calculate_time\n",
    "def decision_tree():\n",
    "    print(\"Decision Tree\")\n",
    "\n",
    "@calculate_time\n",
    "def random_forest():\n",
    "    print(\"Random Forest\")\n",
    "    \n",
    "@calculate_time\n",
    "def adaboost():\n",
    "    print(\"Adaboost\")\n",
    "    \n",
    "knn_classification(4)\n",
    "\n",
    "random_forest()"
   ]
  },
  {
   "cell_type": "code",
   "execution_count": 131,
   "id": "opposed-landing",
   "metadata": {},
   "outputs": [
    {
     "name": "stdout",
     "output_type": "stream",
     "text": [
      "****************************************\n",
      "KNN CLassification\n",
      "Total time taken by function is : 0.0\n",
      "*********************************************\n",
      "****************************************\n",
      "Random Forest\n",
      "Total time taken by function is : 0.0\n",
      "*********************************************\n",
      "****************************************\n",
      "Adaboost\n",
      "Total time taken by function is : 0.0\n",
      "*********************************************\n"
     ]
    }
   ],
   "source": [
    "def calculate_time(fun):\n",
    "    def inner_function(*args):\n",
    "        print(\"*\"*40)\n",
    "        start_time = time.time()\n",
    "        fun(*args)\n",
    "        total_time = time.time() - start_time\n",
    "        print(\"Total time taken by function is :\",total_time)\n",
    "        print(\"*\"*45)\n",
    "        \n",
    "    return inner_function\n",
    "\n",
    "@calculate_time\n",
    "def logistic_regression(num):\n",
    "    print(\"Logistic Regression\")\n",
    "    for i in range(50000000):\n",
    "        pass\n",
    "    \n",
    "@calculate_time\n",
    "def knn_classification(num):\n",
    "    print(\"KNN CLassification\")\n",
    "\n",
    "@calculate_time\n",
    "def decision_tree():\n",
    "    print(\"Decision Tree\")\n",
    "\n",
    "@calculate_time\n",
    "def random_forest():\n",
    "    print(\"Random Forest\")\n",
    "    \n",
    "@calculate_time\n",
    "def adaboost(x,y,z):\n",
    "    print(\"Adaboost\")\n",
    "    \n",
    "knn_classification(4)\n",
    "\n",
    "random_forest()\n",
    "\n",
    "adaboost(3,4,6)"
   ]
  },
  {
   "cell_type": "code",
   "execution_count": 133,
   "id": "phantom-stopping",
   "metadata": {},
   "outputs": [
    {
     "name": "stdout",
     "output_type": "stream",
     "text": [
      "****************************************\n",
      "addition of 4 and 5 is 9\n",
      "Total time taken by function is : 0.0\n",
      "*********************************************\n"
     ]
    }
   ],
   "source": [
    "def calculate_time(fun):\n",
    "    def inner_function(*args):\n",
    "        print(\"*\"*40)\n",
    "        start_time = time.time()\n",
    "        fun(*args)\n",
    "        total_time = time.time() - start_time\n",
    "        print(\"Total time taken by function is :\",total_time)\n",
    "        print(\"*\"*45)\n",
    "        \n",
    "    return inner_function\n",
    "\n",
    "@calculate_time\n",
    "def addition(x,y):\n",
    "    add = x + y\n",
    "    print(f\"addition of {x} and {y} is {add}\")\n",
    "    \n",
    "addition(4,5)"
   ]
  },
  {
   "cell_type": "code",
   "execution_count": 135,
   "id": "commercial-saint",
   "metadata": {},
   "outputs": [
    {
     "name": "stdout",
     "output_type": "stream",
     "text": [
      "****************************************\n",
      "addition of 4 and 5 is 9\n",
      "Total time taken by function is : 0.0\n",
      "*********************************************\n",
      "****************************************\n",
      "Cube of 5 is 125\n",
      "Total time taken by function is : 0.0\n",
      "*********************************************\n"
     ]
    }
   ],
   "source": [
    "def calculate_time(fun):\n",
    "    def inner_function(*args):\n",
    "        print(\"*\"*40)\n",
    "        start_time = time.time()\n",
    "        fun(*args)\n",
    "        total_time = time.time() - start_time\n",
    "        print(\"Total time taken by function is :\",total_time)\n",
    "        print(\"*\"*45)\n",
    "        \n",
    "    return inner_function\n",
    "\n",
    "@calculate_time\n",
    "def addition(x,y):\n",
    "    add = x + y\n",
    "    print(f\"addition of {x} and {y} is {add}\")\n",
    "    \n",
    "    \n",
    "@calculate_time\n",
    "def cube(n):\n",
    "    print(f\"Cube of {n} is {n**3}\")\n",
    "    \n",
    "addition(4,5)\n",
    "cube(5)"
   ]
  },
  {
   "cell_type": "code",
   "execution_count": 137,
   "id": "numerous-marker",
   "metadata": {},
   "outputs": [
    {
     "name": "stdout",
     "output_type": "stream",
     "text": [
      "****************************************\n",
      "addition of 4 and 5 is 9\n",
      "Total time taken by function is : 0.0\n",
      "*********************************************\n",
      "****************************************\n",
      "Cube of 5 is 125\n",
      "Total time taken by function is : 0.0\n",
      "*********************************************\n"
     ]
    }
   ],
   "source": [
    "def calculate_time(func):\n",
    "    def inner_function(*args):\n",
    "        print(\"*\"*40)\n",
    "        start_time = time.time()\n",
    "        func(*args)\n",
    "        total_time = time.time() - start_time\n",
    "        print(\"Total time taken by function is :\",total_time)\n",
    "        print(\"*\"*45)\n",
    "        \n",
    "    return inner_function\n",
    "\n",
    "@calculate_time\n",
    "def addition(x,y):\n",
    "    add = x + y\n",
    "    print(f\"addition of {x} and {y} is {add}\")\n",
    "    \n",
    "    \n",
    "@calculate_time\n",
    "def cube(n):\n",
    "    print(f\"Cube of {n} is {n**3}\")\n",
    "    \n",
    "addition(4,5)\n",
    "cube(5)"
   ]
  },
  {
   "cell_type": "code",
   "execution_count": 140,
   "id": "british-brick",
   "metadata": {},
   "outputs": [
    {
     "name": "stdout",
     "output_type": "stream",
     "text": [
      "****************************************\n",
      "addition of 4 and 5 is 9\n",
      "Total time taken by function is : 0.0\n",
      "*********************************************\n",
      "****************************************\n",
      "Cube of 5 is 125\n",
      "Total time taken by function is : 0.0\n",
      "*********************************************\n"
     ]
    }
   ],
   "source": [
    "def calculate_time(function):\n",
    "    def inner_function(*args):\n",
    "        print(\"*\"*40)\n",
    "        start_time = time.time()\n",
    "        function(*args)\n",
    "        total_time = time.time() - start_time\n",
    "        print(\"Total time taken by function is :\",total_time)\n",
    "        print(\"*\"*45)\n",
    "        \n",
    "    return inner_function\n",
    "\n",
    "@calculate_time\n",
    "def addition(x,y):\n",
    "    add = x + y\n",
    "    print(f\"addition of {x} and {y} is {add}\")\n",
    "    \n",
    "    \n",
    "@calculate_time\n",
    "def cube(n):\n",
    "    print(f\"Cube of {n} is {n**3}\")\n",
    "    \n",
    "addition(4,5)\n",
    "cube(5)"
   ]
  },
  {
   "cell_type": "code",
   "execution_count": 141,
   "id": "portable-forwarding",
   "metadata": {},
   "outputs": [
    {
     "name": "stdout",
     "output_type": "stream",
     "text": [
      "****************************************\n",
      "addition of 4 and 5 is 9\n",
      "Total time taken by function is : 0.0\n",
      "*********************************************\n",
      "****************************************\n",
      "Cube of 5 is 125\n",
      "Total time taken by function is : 0.0010001659393310547\n",
      "*********************************************\n"
     ]
    }
   ],
   "source": [
    "def calculate_time(my_function):\n",
    "    def inner_function(*args):\n",
    "        print(\"*\"*40)\n",
    "        start_time = time.time()\n",
    "        my_function(*args)\n",
    "        total_time = time.time() - start_time\n",
    "        print(\"Total time taken by function is :\",total_time)\n",
    "        print(\"*\"*45)\n",
    "        \n",
    "    return inner_function\n",
    "\n",
    "@calculate_time # calculate_time(addition)\n",
    "def addition(x,y):\n",
    "    add = x + y\n",
    "    print(f\"addition of {x} and {y} is {add}\")\n",
    "    \n",
    "@calculate_time\n",
    "def cube(n):\n",
    "    print(f\"Cube of {n} is {n**3}\")\n",
    "    \n",
    "addition(4,5)\n",
    "cube(5)"
   ]
  },
  {
   "cell_type": "code",
   "execution_count": null,
   "id": "korean-earthquake",
   "metadata": {},
   "outputs": [],
   "source": []
  }
 ],
 "metadata": {
  "kernelspec": {
   "display_name": "Python 3 (ipykernel)",
   "language": "python",
   "name": "python3"
  },
  "language_info": {
   "codemirror_mode": {
    "name": "ipython",
    "version": 3
   },
   "file_extension": ".py",
   "mimetype": "text/x-python",
   "name": "python",
   "nbconvert_exporter": "python",
   "pygments_lexer": "ipython3",
   "version": "3.9.12"
  }
 },
 "nbformat": 4,
 "nbformat_minor": 5
}
