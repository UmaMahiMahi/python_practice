{
 "cells": [
  {
   "cell_type": "code",
   "execution_count": 2,
   "id": "64cb872e",
   "metadata": {},
   "outputs": [],
   "source": [
    "a=3\n",
    "b=10\n",
    "sum=a+b"
   ]
  },
  {
   "cell_type": "code",
   "execution_count": 3,
   "id": "c53955d1",
   "metadata": {},
   "outputs": [
    {
     "name": "stdout",
     "output_type": "stream",
     "text": [
      "sum of 3 and 10 is 13\n"
     ]
    }
   ],
   "source": [
    "print(\"sum of {} and {} is {}\".format(a,b,sum))"
   ]
  },
  {
   "cell_type": "code",
   "execution_count": 4,
   "id": "fc9d6d39",
   "metadata": {},
   "outputs": [
    {
     "name": "stdout",
     "output_type": "stream",
     "text": [
      "sum of 3 and 10 is 13\n"
     ]
    }
   ],
   "source": [
    "print(f\"sum of {a} and {b} is {sum}\")"
   ]
  },
  {
   "cell_type": "code",
   "execution_count": 6,
   "id": "dbc2f443",
   "metadata": {},
   "outputs": [
    {
     "name": "stdout",
     "output_type": "stream",
     "text": [
      "sum of 3 and 10 is 13\n"
     ]
    }
   ],
   "source": [
    "print(\"sum of %d and %d is %d\" %(a,b,sum))"
   ]
  },
  {
   "cell_type": "code",
   "execution_count": 7,
   "id": "490cd215",
   "metadata": {},
   "outputs": [
    {
     "name": "stdout",
     "output_type": "stream",
     "text": [
      "3\n"
     ]
    }
   ],
   "source": [
    "string=\"uma\"\n",
    "print(len(string))"
   ]
  },
  {
   "cell_type": "code",
   "execution_count": null,
   "id": "094991dc",
   "metadata": {},
   "outputs": [],
   "source": []
  }
 ],
 "metadata": {
  "kernelspec": {
   "display_name": "Python 3 (ipykernel)",
   "language": "python",
   "name": "python3"
  },
  "language_info": {
   "codemirror_mode": {
    "name": "ipython",
    "version": 3
   },
   "file_extension": ".py",
   "mimetype": "text/x-python",
   "name": "python",
   "nbconvert_exporter": "python",
   "pygments_lexer": "ipython3",
   "version": "3.9.12"
  }
 },
 "nbformat": 4,
 "nbformat_minor": 5
}
