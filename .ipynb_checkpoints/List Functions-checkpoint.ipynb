{
 "cells": [
  {
   "cell_type": "markdown",
   "id": "personalized-light",
   "metadata": {},
   "source": [
    "# List Functions"
   ]
  },
  {
   "cell_type": "code",
   "execution_count": null,
   "id": "human-familiar",
   "metadata": {},
   "outputs": [],
   "source": [
    "1. append\n",
    "2. extend\n",
    "3. insert\n",
    "4. remove\n",
    "5. pop\n",
    "6. clear\n",
    "7. index  >> int\n",
    "8. count  >> int\n",
    "9. copy\n",
    "10. sort\n",
    "11. reverse"
   ]
  }
 ],
 "metadata": {
  "kernelspec": {
   "display_name": "Python 3 (ipykernel)",
   "language": "python",
   "name": "python3"
  },
  "language_info": {
   "codemirror_mode": {
    "name": "ipython",
    "version": 3
   },
   "file_extension": ".py",
   "mimetype": "text/x-python",
   "name": "python",
   "nbconvert_exporter": "python",
   "pygments_lexer": "ipython3",
   "version": "3.9.12"
  }
 },
 "nbformat": 4,
 "nbformat_minor": 5
}
