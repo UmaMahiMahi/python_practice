{
 "cells": [
  {
   "cell_type": "markdown",
   "id": "controlling-hamilton",
   "metadata": {},
   "source": [
    "# String Functions"
   ]
  },
  {
   "cell_type": "code",
   "execution_count": null,
   "id": "encouraging-brick",
   "metadata": {},
   "outputs": [],
   "source": [
    "1. capitalize\n",
    "2. upper()\n",
    "3. lower()\n",
    "4. title()\n",
    "5. swapcase()\n",
    "6. casefold()\n",
    "7. lstrip()\n",
    "8. rstrip()\n",
    "9. strip()\n",
    "10. replace()\n",
    "11. count()\n",
    "12. index()\n",
    "13. find()\n",
    "14. split()\n",
    "15. join()\n",
    "16. endswith()\n",
    "17. startswith()"
   ]
  },
  {
   "cell_type": "markdown",
   "id": "changing-treasurer",
   "metadata": {},
   "source": [
    "# 11. count()"
   ]
  },
  {
   "cell_type": "code",
   "execution_count": null,
   "id": "peaceful-accessory",
   "metadata": {},
   "outputs": [],
   "source": [
    "string.count(substring,[start_index], [end_index])"
   ]
  },
  {
   "cell_type": "code",
   "execution_count": 2,
   "id": "enormous-basement",
   "metadata": {},
   "outputs": [
    {
     "data": {
      "text/plain": [
       "1"
      ]
     },
     "execution_count": 2,
     "metadata": {},
     "output_type": "execute_result"
    }
   ],
   "source": [
    "string = 'python and data science'\n",
    "string.count('p')"
   ]
  },
  {
   "cell_type": "code",
   "execution_count": 4,
   "id": "remarkable-biology",
   "metadata": {},
   "outputs": [
    {
     "data": {
      "text/plain": [
       "3"
      ]
     },
     "execution_count": 4,
     "metadata": {},
     "output_type": "execute_result"
    }
   ],
   "source": [
    "string = 'python and data science'\n",
    "string.count('a')"
   ]
  },
  {
   "cell_type": "code",
   "execution_count": 7,
   "id": "verified-sentence",
   "metadata": {},
   "outputs": [
    {
     "data": {
      "text/plain": [
       "1"
      ]
     },
     "execution_count": 7,
     "metadata": {},
     "output_type": "execute_result"
    }
   ],
   "source": [
    "string = 'python and data science'\n",
    "string.count('python')"
   ]
  },
  {
   "cell_type": "code",
   "execution_count": 8,
   "id": "female-poetry",
   "metadata": {},
   "outputs": [
    {
     "data": {
      "text/plain": [
       "0"
      ]
     },
     "execution_count": 8,
     "metadata": {},
     "output_type": "execute_result"
    }
   ],
   "source": [
    "string = 'python and data science'\n",
    "string.count('Python')"
   ]
  },
  {
   "cell_type": "code",
   "execution_count": 10,
   "id": "technical-relationship",
   "metadata": {},
   "outputs": [
    {
     "data": {
      "text/plain": [
       "1"
      ]
     },
     "execution_count": 10,
     "metadata": {},
     "output_type": "execute_result"
    }
   ],
   "source": [
    "string = 'python and data science'\n",
    "string.count('data')"
   ]
  },
  {
   "cell_type": "code",
   "execution_count": 12,
   "id": "collaborative-shareware",
   "metadata": {},
   "outputs": [
    {
     "data": {
      "text/plain": [
       "0"
      ]
     },
     "execution_count": 12,
     "metadata": {},
     "output_type": "execute_result"
    }
   ],
   "source": [
    "string = 'python and data science'\n",
    "string.count('DATA')"
   ]
  },
  {
   "cell_type": "code",
   "execution_count": 14,
   "id": "middle-singing",
   "metadata": {},
   "outputs": [
    {
     "data": {
      "text/plain": [
       "2"
      ]
     },
     "execution_count": 14,
     "metadata": {},
     "output_type": "execute_result"
    }
   ],
   "source": [
    "string = 'Python and data science, Python is programming language.'\n",
    "string.count('Python')"
   ]
  },
  {
   "cell_type": "code",
   "execution_count": 16,
   "id": "intellectual-roads",
   "metadata": {},
   "outputs": [
    {
     "data": {
      "text/plain": [
       "7"
      ]
     },
     "execution_count": 16,
     "metadata": {},
     "output_type": "execute_result"
    }
   ],
   "source": [
    "string = 'Python and data science, Python is programming language.'\n",
    "string.count(' ')"
   ]
  },
  {
   "cell_type": "code",
   "execution_count": 18,
   "id": "changed-budget",
   "metadata": {},
   "outputs": [
    {
     "data": {
      "text/plain": [
       "6"
      ]
     },
     "execution_count": 18,
     "metadata": {},
     "output_type": "execute_result"
    }
   ],
   "source": [
    "string = 'Python and data science, Python is programming language.'\n",
    "string.count('a')"
   ]
  },
  {
   "cell_type": "code",
   "execution_count": 20,
   "id": "opposite-template",
   "metadata": {},
   "outputs": [
    {
     "data": {
      "text/plain": [
       "1"
      ]
     },
     "execution_count": 20,
     "metadata": {},
     "output_type": "execute_result"
    }
   ],
   "source": [
    "string = 'Python and data science, Python is programming language.'\n",
    "string.count('programming')"
   ]
  },
  {
   "cell_type": "code",
   "execution_count": 22,
   "id": "rubber-agreement",
   "metadata": {},
   "outputs": [
    {
     "data": {
      "text/plain": [
       "0"
      ]
     },
     "execution_count": 22,
     "metadata": {},
     "output_type": "execute_result"
    }
   ],
   "source": [
    "string = 'Python and data science, Python is programming language.'\n",
    "string.count('Programming')"
   ]
  },
  {
   "cell_type": "code",
   "execution_count": 24,
   "id": "assumed-smoke",
   "metadata": {},
   "outputs": [
    {
     "data": {
      "text/plain": [
       "0"
      ]
     },
     "execution_count": 24,
     "metadata": {},
     "output_type": "execute_result"
    }
   ],
   "source": [
    "string = 'Python and data science, Python is programming language.'\n",
    "substring = 'python'\n",
    "string.count(substring)"
   ]
  },
  {
   "cell_type": "code",
   "execution_count": 26,
   "id": "mechanical-bleeding",
   "metadata": {},
   "outputs": [
    {
     "data": {
      "text/plain": [
       "1"
      ]
     },
     "execution_count": 26,
     "metadata": {},
     "output_type": "execute_result"
    }
   ],
   "source": [
    "string = 'Python and data science, python is programming language.'\n",
    "substring = 'python'\n",
    "string.count(substring)"
   ]
  },
  {
   "cell_type": "code",
   "execution_count": 28,
   "id": "modern-angle",
   "metadata": {},
   "outputs": [
    {
     "data": {
      "text/plain": [
       "1"
      ]
     },
     "execution_count": 28,
     "metadata": {},
     "output_type": "execute_result"
    }
   ],
   "source": [
    "string = 'Python and data science, python is programming language.'\n",
    "substring = 'Python'\n",
    "string.count(substring)"
   ]
  },
  {
   "cell_type": "code",
   "execution_count": 30,
   "id": "lyric-thumb",
   "metadata": {},
   "outputs": [
    {
     "data": {
      "text/plain": [
       "2"
      ]
     },
     "execution_count": 30,
     "metadata": {},
     "output_type": "execute_result"
    }
   ],
   "source": [
    "string = 'Python and data science, python is programming language.'\n",
    "substring = 'python'\n",
    "string2 = string.lower()\n",
    "string2.count(substring)"
   ]
  },
  {
   "cell_type": "code",
   "execution_count": 34,
   "id": "naval-treaty",
   "metadata": {},
   "outputs": [
    {
     "data": {
      "text/plain": [
       "2"
      ]
     },
     "execution_count": 34,
     "metadata": {},
     "output_type": "execute_result"
    }
   ],
   "source": [
    "string = 'Python and data science, python is programming language.'\n",
    "substring = 'python'\n",
    "count = string.lower().count(substring)\n",
    "count"
   ]
  },
  {
   "cell_type": "code",
   "execution_count": 36,
   "id": "final-benefit",
   "metadata": {},
   "outputs": [
    {
     "ename": "AttributeError",
     "evalue": "'int' object has no attribute 'upper'",
     "output_type": "error",
     "traceback": [
      "\u001b[1;31m---------------------------------------------------------------------------\u001b[0m",
      "\u001b[1;31mAttributeError\u001b[0m                            Traceback (most recent call last)",
      "\u001b[1;32m<ipython-input-36-f994fa7b5de7>\u001b[0m in \u001b[0;36m<module>\u001b[1;34m\u001b[0m\n\u001b[0;32m      1\u001b[0m \u001b[0mstring\u001b[0m \u001b[1;33m=\u001b[0m \u001b[1;34m'Python and data science, python is programming language.'\u001b[0m\u001b[1;33m\u001b[0m\u001b[1;33m\u001b[0m\u001b[0m\n\u001b[1;32m----> 2\u001b[1;33m \u001b[0mstring\u001b[0m\u001b[1;33m.\u001b[0m\u001b[0mcount\u001b[0m\u001b[1;33m(\u001b[0m\u001b[0msubstring\u001b[0m\u001b[1;33m)\u001b[0m\u001b[1;33m.\u001b[0m\u001b[0mupper\u001b[0m\u001b[1;33m(\u001b[0m\u001b[1;33m)\u001b[0m\u001b[1;33m\u001b[0m\u001b[1;33m\u001b[0m\u001b[0m\n\u001b[0m",
      "\u001b[1;31mAttributeError\u001b[0m: 'int' object has no attribute 'upper'"
     ]
    }
   ],
   "source": [
    "string = 'Python and data science, python is programming language.'\n",
    "string.count(substring).upper()"
   ]
  },
  {
   "cell_type": "code",
   "execution_count": 41,
   "id": "delayed-layer",
   "metadata": {},
   "outputs": [
    {
     "data": {
      "text/plain": [
       "2"
      ]
     },
     "execution_count": 41,
     "metadata": {},
     "output_type": "execute_result"
    }
   ],
   "source": [
    "string = '  Python and data science, python is programming language.  '\n",
    "string.lstrip().rstrip().lower().replace('P','p').count('python')"
   ]
  },
  {
   "cell_type": "code",
   "execution_count": 45,
   "id": "healthy-northeast",
   "metadata": {},
   "outputs": [
    {
     "data": {
      "text/plain": [
       "2"
      ]
     },
     "execution_count": 45,
     "metadata": {},
     "output_type": "execute_result"
    }
   ],
   "source": [
    "string = 'Python and data science, Python is programming language'\n",
    "string.count('P')"
   ]
  },
  {
   "cell_type": "code",
   "execution_count": 47,
   "id": "veterinary-thesis",
   "metadata": {},
   "outputs": [
    {
     "data": {
      "text/plain": [
       "1"
      ]
     },
     "execution_count": 47,
     "metadata": {},
     "output_type": "execute_result"
    }
   ],
   "source": [
    "string = 'Python and data science, Python is programming language'\n",
    "string.count('P',0,15)"
   ]
  },
  {
   "cell_type": "code",
   "execution_count": 49,
   "id": "bottom-grenada",
   "metadata": {},
   "outputs": [
    {
     "data": {
      "text/plain": [
       "1"
      ]
     },
     "execution_count": 49,
     "metadata": {},
     "output_type": "execute_result"
    }
   ],
   "source": [
    "string = 'Python and data science, Python is programming language'\n",
    "string.count('P',15,30)"
   ]
  },
  {
   "cell_type": "code",
   "execution_count": 52,
   "id": "honey-garden",
   "metadata": {},
   "outputs": [
    {
     "data": {
      "text/plain": [
       "1"
      ]
     },
     "execution_count": 52,
     "metadata": {},
     "output_type": "execute_result"
    }
   ],
   "source": [
    "string = 'Python and data science, Python is programming language'\n",
    "string[15:30]\n",
    "string.count('P',15,30)"
   ]
  },
  {
   "cell_type": "code",
   "execution_count": 61,
   "id": "neutral-therapist",
   "metadata": {},
   "outputs": [
    {
     "data": {
      "text/plain": [
       "0"
      ]
     },
     "execution_count": 61,
     "metadata": {},
     "output_type": "execute_result"
    }
   ],
   "source": [
    "string = 'Python and data science, Python is Programming language'\n",
    "string[30:]\n",
    "string.count('p',1)"
   ]
  },
  {
   "cell_type": "code",
   "execution_count": 63,
   "id": "varying-immunology",
   "metadata": {},
   "outputs": [
    {
     "data": {
      "text/plain": [
       "2"
      ]
     },
     "execution_count": 63,
     "metadata": {},
     "output_type": "execute_result"
    }
   ],
   "source": [
    "string = 'Python and data science, Python is Programming language'\n",
    "string[30:]\n",
    "string.count('P',1)"
   ]
  },
  {
   "cell_type": "code",
   "execution_count": 64,
   "id": "separate-inventory",
   "metadata": {},
   "outputs": [
    {
     "data": {
      "text/plain": [
       "3"
      ]
     },
     "execution_count": 64,
     "metadata": {},
     "output_type": "execute_result"
    }
   ],
   "source": [
    "string = 'Python and data science, Python is Programming language'\n",
    "string[30:]\n",
    "string.count('P',0)"
   ]
  },
  {
   "cell_type": "markdown",
   "id": "cross-jacket",
   "metadata": {},
   "source": [
    "# 12. index()"
   ]
  },
  {
   "cell_type": "raw",
   "id": "smart-preserve",
   "metadata": {},
   "source": [
    "string.index(substring, [start_index],[end_index])"
   ]
  },
  {
   "cell_type": "code",
   "execution_count": 68,
   "id": "abstract-reviewer",
   "metadata": {},
   "outputs": [
    {
     "data": {
      "text/plain": [
       "0"
      ]
     },
     "execution_count": 68,
     "metadata": {},
     "output_type": "execute_result"
    }
   ],
   "source": [
    "string = 'Machine Learning and Deep Learning'\n",
    "string.index('M')"
   ]
  },
  {
   "cell_type": "code",
   "execution_count": 70,
   "id": "arranged-analyst",
   "metadata": {},
   "outputs": [
    {
     "data": {
      "text/plain": [
       "8"
      ]
     },
     "execution_count": 70,
     "metadata": {},
     "output_type": "execute_result"
    }
   ],
   "source": [
    "string = 'Machine Learning and Deep Learning'\n",
    "string.index('Learning')"
   ]
  },
  {
   "cell_type": "code",
   "execution_count": 75,
   "id": "rocky-religion",
   "metadata": {},
   "outputs": [
    {
     "data": {
      "text/plain": [
       "6"
      ]
     },
     "execution_count": 75,
     "metadata": {},
     "output_type": "execute_result"
    }
   ],
   "source": [
    "string = 'Machine Learning and Deep Learning'\n",
    "string.index('e')"
   ]
  },
  {
   "cell_type": "code",
   "execution_count": 77,
   "id": "likely-copper",
   "metadata": {},
   "outputs": [
    {
     "data": {
      "text/plain": [
       "21"
      ]
     },
     "execution_count": 77,
     "metadata": {},
     "output_type": "execute_result"
    }
   ],
   "source": [
    "string = 'Machine Learning and Deep Learning'\n",
    "string.index('Deep')"
   ]
  },
  {
   "cell_type": "code",
   "execution_count": 78,
   "id": "differential-walnut",
   "metadata": {},
   "outputs": [
    {
     "ename": "ValueError",
     "evalue": "substring not found",
     "output_type": "error",
     "traceback": [
      "\u001b[1;31m---------------------------------------------------------------------------\u001b[0m",
      "\u001b[1;31mValueError\u001b[0m                                Traceback (most recent call last)",
      "\u001b[1;32m<ipython-input-78-8f3897f4cea6>\u001b[0m in \u001b[0;36m<module>\u001b[1;34m\u001b[0m\n\u001b[0;32m      1\u001b[0m \u001b[0mstring\u001b[0m \u001b[1;33m=\u001b[0m \u001b[1;34m'Machine Learning and Deep Learning'\u001b[0m\u001b[1;33m\u001b[0m\u001b[1;33m\u001b[0m\u001b[0m\n\u001b[1;32m----> 2\u001b[1;33m \u001b[0mstring\u001b[0m\u001b[1;33m.\u001b[0m\u001b[0mindex\u001b[0m\u001b[1;33m(\u001b[0m\u001b[1;34m'deep'\u001b[0m\u001b[1;33m)\u001b[0m\u001b[1;33m\u001b[0m\u001b[1;33m\u001b[0m\u001b[0m\n\u001b[0m",
      "\u001b[1;31mValueError\u001b[0m: substring not found"
     ]
    }
   ],
   "source": [
    "string = 'Machine Learning and Deep Learning'\n",
    "string.index('deep')"
   ]
  },
  {
   "cell_type": "code",
   "execution_count": null,
   "id": "possible-archive",
   "metadata": {},
   "outputs": [],
   "source": [
    "string = 'Machine Learning and Deep Learning'\n",
    "subtring in string # True or False"
   ]
  },
  {
   "cell_type": "code",
   "execution_count": 80,
   "id": "urban-trouble",
   "metadata": {},
   "outputs": [
    {
     "data": {
      "text/plain": [
       "True"
      ]
     },
     "execution_count": 80,
     "metadata": {},
     "output_type": "execute_result"
    }
   ],
   "source": [
    "string = 'Machine Learning and Deep Learning'\n",
    "substring = 'Deep'\n",
    "substring in string # True"
   ]
  },
  {
   "cell_type": "code",
   "execution_count": 82,
   "id": "natural-forest",
   "metadata": {},
   "outputs": [
    {
     "data": {
      "text/plain": [
       "False"
      ]
     },
     "execution_count": 82,
     "metadata": {},
     "output_type": "execute_result"
    }
   ],
   "source": [
    "string = 'Machine Learning and Deep Learning'\n",
    "substring = 'deep'\n",
    "substring in string # False"
   ]
  },
  {
   "cell_type": "code",
   "execution_count": 86,
   "id": "exposed-tolerance",
   "metadata": {},
   "outputs": [
    {
     "name": "stdout",
     "output_type": "stream",
     "text": [
      "Substring is present in given string\n"
     ]
    }
   ],
   "source": [
    "string = 'Machine Learning and Deep Learning'\n",
    "substring = 'Machine'\n",
    "\n",
    "if substring in string: # True\n",
    "    print(\"Substring is present in given string\")\n",
    "    \n",
    "else:\n",
    "    print(\"Substring is not present in given string\")"
   ]
  },
  {
   "cell_type": "code",
   "execution_count": 88,
   "id": "angry-welcome",
   "metadata": {},
   "outputs": [
    {
     "name": "stdout",
     "output_type": "stream",
     "text": [
      "Substring is not present in given string\n"
     ]
    }
   ],
   "source": [
    "string = 'Machine Learning and Deep Learning'\n",
    "substring = 'Python'\n",
    "\n",
    "if substring in string: # False\n",
    "    print(\"Substring is present in given string\")\n",
    "    \n",
    "else:\n",
    "    print(\"Substring is not present in given string\")"
   ]
  },
  {
   "cell_type": "code",
   "execution_count": 89,
   "id": "revolutionary-rescue",
   "metadata": {},
   "outputs": [
    {
     "name": "stdout",
     "output_type": "stream",
     "text": [
      "Substring is not present in given string\n"
     ]
    }
   ],
   "source": [
    "string = 'Machine Learning and Deep Learning'\n",
    "\n",
    "if 'Python' in string: # False\n",
    "    print(\"Substring is present in given string\")\n",
    "    \n",
    "else:\n",
    "    print(\"Substring is not present in given string\")"
   ]
  },
  {
   "cell_type": "code",
   "execution_count": 92,
   "id": "indian-phoenix",
   "metadata": {},
   "outputs": [
    {
     "name": "stdout",
     "output_type": "stream",
     "text": [
      "Python is not present in given string\n"
     ]
    }
   ],
   "source": [
    "string = 'Machine Learning and Deep Learning'\n",
    "substring = 'Python'\n",
    "\n",
    "if substring in string: # False\n",
    "    print(f\"{substring} is present in given string\")\n",
    "    \n",
    "else:\n",
    "    print(f\"{substring} is not present in given string\")"
   ]
  },
  {
   "cell_type": "code",
   "execution_count": 95,
   "id": "fuzzy-polls",
   "metadata": {},
   "outputs": [
    {
     "name": "stdout",
     "output_type": "stream",
     "text": [
      "Machine is present in given string\n"
     ]
    }
   ],
   "source": [
    "string = 'Machine Learning and Deep Learning'\n",
    "substring = 'Machine'\n",
    "\n",
    "if substring in string: # True\n",
    "    print(f\"{substring} is present in given string\")\n",
    "    \n",
    "else:\n",
    "    print(f\"{substring} is not present in given string\")"
   ]
  },
  {
   "cell_type": "code",
   "execution_count": 99,
   "id": "demonstrated-effectiveness",
   "metadata": {},
   "outputs": [
    {
     "name": "stdout",
     "output_type": "stream",
     "text": [
      "Machine is present at index 0\n"
     ]
    }
   ],
   "source": [
    "string = 'Machine Learning and Deep Learning'\n",
    "substring = 'Machine'\n",
    "\n",
    "if substring in string: # True\n",
    "    index = string.index(substring)\n",
    "    print(f\"{substring} is present at index {index}\")\n",
    "\n",
    "    \n",
    "else:\n",
    "    print(f\"{substring} is not present in given string\")"
   ]
  },
  {
   "cell_type": "code",
   "execution_count": 100,
   "id": "least-brazil",
   "metadata": {},
   "outputs": [
    {
     "name": "stdout",
     "output_type": "stream",
     "text": [
      "Deep is present at index 21\n"
     ]
    }
   ],
   "source": [
    "string = 'Machine Learning and Deep Learning'\n",
    "substring = 'Deep'\n",
    "\n",
    "if substring in string: # True\n",
    "    index = string.index(substring)\n",
    "    print(f\"{substring} is present at index {index}\")\n",
    "\n",
    "else:\n",
    "    print(f\"{substring} is not present in given string\")"
   ]
  },
  {
   "cell_type": "code",
   "execution_count": 103,
   "id": "narrative-intensity",
   "metadata": {},
   "outputs": [
    {
     "data": {
      "text/plain": [
       "21"
      ]
     },
     "execution_count": 103,
     "metadata": {},
     "output_type": "execute_result"
    }
   ],
   "source": [
    "string = 'Machine Learning and Deep Learning'\n",
    "string.index('Deep',10)"
   ]
  },
  {
   "cell_type": "code",
   "execution_count": 105,
   "id": "featured-opportunity",
   "metadata": {},
   "outputs": [
    {
     "data": {
      "text/plain": [
       "6"
      ]
     },
     "execution_count": 105,
     "metadata": {},
     "output_type": "execute_result"
    }
   ],
   "source": [
    "string = 'Machine Learning and Deep Learning'\n",
    "string.index('e',1,10)"
   ]
  },
  {
   "cell_type": "code",
   "execution_count": 106,
   "id": "seasonal-intellectual",
   "metadata": {},
   "outputs": [
    {
     "data": {
      "text/plain": [
       "9"
      ]
     },
     "execution_count": 106,
     "metadata": {},
     "output_type": "execute_result"
    }
   ],
   "source": [
    "string = 'Machine Learning and Deep Learning'\n",
    "string.index('e',7,20)"
   ]
  },
  {
   "cell_type": "code",
   "execution_count": 108,
   "id": "optional-proportion",
   "metadata": {},
   "outputs": [
    {
     "data": {
      "text/plain": [
       "' Learning and'"
      ]
     },
     "execution_count": 108,
     "metadata": {},
     "output_type": "execute_result"
    }
   ],
   "source": [
    "string[7:20]"
   ]
  },
  {
   "cell_type": "code",
   "execution_count": 110,
   "id": "prospective-worst",
   "metadata": {},
   "outputs": [],
   "source": [
    "string = 'Machine Learning and Deep Learning'\n",
    "# string.index('E',7,20)"
   ]
  },
  {
   "cell_type": "markdown",
   "id": "appreciated-strain",
   "metadata": {},
   "source": [
    "# 13. Find"
   ]
  },
  {
   "cell_type": "code",
   "execution_count": null,
   "id": "suitable-royalty",
   "metadata": {},
   "outputs": [],
   "source": [
    "string.find(substring,[start_index],[end_index])"
   ]
  },
  {
   "cell_type": "code",
   "execution_count": 112,
   "id": "functional-toyota",
   "metadata": {},
   "outputs": [
    {
     "data": {
      "text/plain": [
       "0"
      ]
     },
     "execution_count": 112,
     "metadata": {},
     "output_type": "execute_result"
    }
   ],
   "source": [
    "string = 'Machine Learning and Deep Learning'\n",
    "string.find('Machine')"
   ]
  },
  {
   "cell_type": "code",
   "execution_count": 114,
   "id": "thick-supplement",
   "metadata": {},
   "outputs": [
    {
     "data": {
      "text/plain": [
       "6"
      ]
     },
     "execution_count": 114,
     "metadata": {},
     "output_type": "execute_result"
    }
   ],
   "source": [
    "string = 'Machine Learning and Deep Learning'\n",
    "string.find('e')"
   ]
  },
  {
   "cell_type": "code",
   "execution_count": 116,
   "id": "introductory-daughter",
   "metadata": {},
   "outputs": [
    {
     "data": {
      "text/plain": [
       "6"
      ]
     },
     "execution_count": 116,
     "metadata": {},
     "output_type": "execute_result"
    }
   ],
   "source": [
    "string = 'Machine Learning and Deep Learning'\n",
    "string.index('e')"
   ]
  },
  {
   "cell_type": "code",
   "execution_count": 118,
   "id": "modular-tribune",
   "metadata": {},
   "outputs": [
    {
     "data": {
      "text/plain": [
       "21"
      ]
     },
     "execution_count": 118,
     "metadata": {},
     "output_type": "execute_result"
    }
   ],
   "source": [
    "string = 'Machine Learning and Deep Learning'\n",
    "string.index('Deep')"
   ]
  },
  {
   "cell_type": "code",
   "execution_count": 122,
   "id": "distributed-withdrawal",
   "metadata": {},
   "outputs": [
    {
     "data": {
      "text/plain": [
       "21"
      ]
     },
     "execution_count": 122,
     "metadata": {},
     "output_type": "execute_result"
    }
   ],
   "source": [
    "string = 'Machine Learning and Deep Learning'\n",
    "string.find('Deep',10,len(string))"
   ]
  },
  {
   "cell_type": "code",
   "execution_count": 124,
   "id": "vietnamese-birth",
   "metadata": {},
   "outputs": [
    {
     "data": {
      "text/plain": [
       "-1"
      ]
     },
     "execution_count": 124,
     "metadata": {},
     "output_type": "execute_result"
    }
   ],
   "source": [
    "string = 'Machine Learning and Deep Learning'\n",
    "string.find('deep')"
   ]
  },
  {
   "cell_type": "code",
   "execution_count": 126,
   "id": "dominican-clearance",
   "metadata": {},
   "outputs": [
    {
     "data": {
      "text/plain": [
       "8"
      ]
     },
     "execution_count": 126,
     "metadata": {},
     "output_type": "execute_result"
    }
   ],
   "source": [
    "string = 'Machine Learning and Deep Learning'\n",
    "string.find('Learning')"
   ]
  },
  {
   "cell_type": "code",
   "execution_count": 129,
   "id": "italic-beatles",
   "metadata": {},
   "outputs": [
    {
     "data": {
      "text/plain": [
       "-1"
      ]
     },
     "execution_count": 129,
     "metadata": {},
     "output_type": "execute_result"
    }
   ],
   "source": [
    "string = 'Machine Learning and Deep Learning'\n",
    "index = string.find('Python')\n",
    "index\n"
   ]
  },
  {
   "cell_type": "code",
   "execution_count": 131,
   "id": "light-coating",
   "metadata": {},
   "outputs": [
    {
     "data": {
      "text/plain": [
       "True"
      ]
     },
     "execution_count": 131,
     "metadata": {},
     "output_type": "execute_result"
    }
   ],
   "source": [
    "'python' == 'python'"
   ]
  },
  {
   "cell_type": "code",
   "execution_count": 133,
   "id": "dominant-lafayette",
   "metadata": {},
   "outputs": [
    {
     "data": {
      "text/plain": [
       "True"
      ]
     },
     "execution_count": 133,
     "metadata": {},
     "output_type": "execute_result"
    }
   ],
   "source": [
    "10 == 10"
   ]
  },
  {
   "cell_type": "code",
   "execution_count": 135,
   "id": "instrumental-namibia",
   "metadata": {},
   "outputs": [
    {
     "data": {
      "text/plain": [
       "True"
      ]
     },
     "execution_count": 135,
     "metadata": {},
     "output_type": "execute_result"
    }
   ],
   "source": [
    "-1 == -1"
   ]
  },
  {
   "cell_type": "code",
   "execution_count": 137,
   "id": "acute-genealogy",
   "metadata": {},
   "outputs": [
    {
     "data": {
      "text/plain": [
       "False"
      ]
     },
     "execution_count": 137,
     "metadata": {},
     "output_type": "execute_result"
    }
   ],
   "source": [
    "4 == -1"
   ]
  },
  {
   "cell_type": "code",
   "execution_count": 140,
   "id": "premium-interview",
   "metadata": {},
   "outputs": [
    {
     "name": "stdout",
     "output_type": "stream",
     "text": [
      "substring is present \n"
     ]
    }
   ],
   "source": [
    "string = 'Machine Learning and Deep Learning'\n",
    "index = string.find('Deep')\n",
    "index\n",
    "if index == -1:\n",
    "    print(\"Substring is not present\")\n",
    "    \n",
    "else:\n",
    "    print(\"substring is present \")"
   ]
  },
  {
   "cell_type": "code",
   "execution_count": 143,
   "id": "forward-intake",
   "metadata": {},
   "outputs": [
    {
     "name": "stdout",
     "output_type": "stream",
     "text": [
      "Deep is not present\n"
     ]
    }
   ],
   "source": [
    "string = 'Machine Learning and Deep Learning'\n",
    "index = string.find('Python')\n",
    "\n",
    "if index == -1: # -1 == -1 >> True\n",
    "    print(f\"{substring} is not present\")\n",
    "    \n",
    "else:\n",
    "    print(f\"{substring} is present \")"
   ]
  },
  {
   "cell_type": "code",
   "execution_count": 146,
   "id": "norwegian-vegetation",
   "metadata": {},
   "outputs": [
    {
     "name": "stdout",
     "output_type": "stream",
     "text": [
      "Learning is present \n"
     ]
    }
   ],
   "source": [
    "string = 'Machine Learning and Deep Learning'\n",
    "substring = 'Learning'\n",
    "index = string.find(substring)\n",
    "\n",
    "if index == -1: # -1 == -1 >> True\n",
    "    print(f\"{substring} is not present\")\n",
    "    \n",
    "else:\n",
    "    print(f\"{substring} is present \")"
   ]
  },
  {
   "cell_type": "code",
   "execution_count": 148,
   "id": "casual-japanese",
   "metadata": {},
   "outputs": [
    {
     "name": "stdout",
     "output_type": "stream",
     "text": [
      "Machine is present \n"
     ]
    }
   ],
   "source": [
    "string = 'Machine Learning and Deep Learning'\n",
    "substring = 'Machine'\n",
    "index = string.find(substring)\n",
    "\n",
    "if index == -1: # -1 == -1 >> True\n",
    "    print(f\"{substring} is not present\")\n",
    "    \n",
    "else:\n",
    "    print(f\"{substring} is present \")"
   ]
  },
  {
   "cell_type": "markdown",
   "id": "paperback-vintage",
   "metadata": {},
   "source": [
    "# 14. split()"
   ]
  },
  {
   "cell_type": "code",
   "execution_count": null,
   "id": "optical-genealogy",
   "metadata": {},
   "outputs": [],
   "source": [
    "used to convert string to list dataType"
   ]
  },
  {
   "cell_type": "code",
   "execution_count": 151,
   "id": "dense-floor",
   "metadata": {},
   "outputs": [
    {
     "data": {
      "text/plain": [
       "['Machine', 'Learning', 'and', 'Deep', 'Learning']"
      ]
     },
     "execution_count": 151,
     "metadata": {},
     "output_type": "execute_result"
    }
   ],
   "source": [
    "string = 'Machine Learning and Deep Learning'\n",
    "string.split()"
   ]
  },
  {
   "cell_type": "code",
   "execution_count": 158,
   "id": "central-composition",
   "metadata": {},
   "outputs": [
    {
     "name": "stdout",
     "output_type": "stream",
     "text": [
      "['Machine', 'learning', 'is', 'a', 'field', 'of', 'inquiry', 'devoted', 'to', 'understanding', 'and', 'building', 'methods', 'that', \"'learn',\", 'that', 'is,', 'methods', 'that', 'leverage', 'data', 'to', 'improve', 'performance', 'on', 'some', 'set', 'of', 'tasks.', 'It', 'is', 'seen', 'as', 'a', 'part', 'of', 'artificial', 'intelligence']\n"
     ]
    }
   ],
   "source": [
    "string = \"\"\"Machine learning is a field of inquiry devoted to understanding and building \n",
    "methods that 'learn', that is, methods that leverage data to improve performance on \n",
    "some set of tasks. It is seen as a part of artificial intelligence\"\"\"\n",
    "list1 = string.split()\n",
    "len(list1)\n",
    "print(list1)"
   ]
  },
  {
   "cell_type": "code",
   "execution_count": 161,
   "id": "living-puppy",
   "metadata": {},
   "outputs": [
    {
     "data": {
      "text/plain": [
       "['Machine', 'Learning', 'and', 'Deep', 'Learning']"
      ]
     },
     "execution_count": 161,
     "metadata": {},
     "output_type": "execute_result"
    }
   ],
   "source": [
    "string = 'Machine Learning and Deep Learning'\n",
    "string.split()"
   ]
  },
  {
   "cell_type": "code",
   "execution_count": null,
   "id": "white-belfast",
   "metadata": {},
   "outputs": [],
   "source": []
  },
  {
   "cell_type": "code",
   "execution_count": 162,
   "id": "missing-violation",
   "metadata": {},
   "outputs": [
    {
     "data": {
      "text/plain": [
       "['Machine', 'Learning', 'and', 'Deep', 'Learning']"
      ]
     },
     "execution_count": 162,
     "metadata": {},
     "output_type": "execute_result"
    }
   ],
   "source": [
    "string = 'Machine Learning and Deep Learning'\n",
    "string.split()"
   ]
  },
  {
   "cell_type": "code",
   "execution_count": 167,
   "id": "ceramic-night",
   "metadata": {},
   "outputs": [
    {
     "name": "stdout",
     "output_type": "stream",
     "text": [
      "[\"Machine learning (ML) is a field of inquiry devoted to understanding and building\\nmethods that 'learn', that is, methods that leverage data to improve performance on some set\\nof tasks\", '[1] It is seen as a part of artificial intelligence', ' Machine learning algorithms \\nbuild a model based on sample data, known as training data, in order to make predictions or \\ndecisions without being explicitly programmed to do so', '[2] Machine learning algorithms are \\nused in a wide variety of applications, such as in medicine, email filtering, speech \\nrecognition, and computer vision, where it is difficult or unfeasible to develop conventional\\nalgorithms to perform the needed tasks', '[3]\\n\\nA subset of machine learning is closely related to computational statistics, which focuses on\\nmaking predictions using computers, but not all machine learning is statistical learning', ' \\nThe study of mathematical optimization delivers methods, theory and application domains to \\nthe field of machine learning', ' Data mining is a related field of study, focusing on \\nexploratory data analysis through unsupervised learning', '[5][6] Some implementations of \\nmachine learning use data and neural networks in a way that mimics the working of a \\nbiological brain', '[7][8] In its application across business problems, machine learning is \\nalso referred to as predictive analytics', '\\n']\n"
     ]
    }
   ],
   "source": [
    "string = \"\"\"Machine learning (ML) is a field of inquiry devoted to understanding and building\n",
    "methods that 'learn', that is, methods that leverage data to improve performance on some set\n",
    "of tasks.[1] It is seen as a part of artificial intelligence. Machine learning algorithms \n",
    "build a model based on sample data, known as training data, in order to make predictions or \n",
    "decisions without being explicitly programmed to do so.[2] Machine learning algorithms are \n",
    "used in a wide variety of applications, such as in medicine, email filtering, speech \n",
    "recognition, and computer vision, where it is difficult or unfeasible to develop conventional\n",
    "algorithms to perform the needed tasks.[3]\n",
    "\n",
    "A subset of machine learning is closely related to computational statistics, which focuses on\n",
    "making predictions using computers, but not all machine learning is statistical learning. \n",
    "The study of mathematical optimization delivers methods, theory and application domains to \n",
    "the field of machine learning. Data mining is a related field of study, focusing on \n",
    "exploratory data analysis through unsupervised learning.[5][6] Some implementations of \n",
    "machine learning use data and neural networks in a way that mimics the working of a \n",
    "biological brain.[7][8] In its application across business problems, machine learning is \n",
    "also referred to as predictive analytics.\n",
    "\"\"\"\n",
    "\n",
    "print(string.split('.'))"
   ]
  },
  {
   "cell_type": "code",
   "execution_count": 173,
   "id": "sixth-equation",
   "metadata": {},
   "outputs": [
    {
     "name": "stdout",
     "output_type": "stream",
     "text": [
      " Machine learning algorithms \n",
      "build a model based on sample data, known as training data, in order to make predictions or \n",
      "decisions without being explicitly programmed to do so\n"
     ]
    }
   ],
   "source": [
    "string = \"\"\"Machine learning (ML) is a field of inquiry devoted to understanding and building\n",
    "methods that 'learn', that is, methods that leverage data to improve performance on some set\n",
    "of tasks.[1] It is seen as a part of artificial intelligence. Machine learning algorithms \n",
    "build a model based on sample data, known as training data, in order to make predictions or \n",
    "decisions without being explicitly programmed to do so.[2] Machine learning algorithms are \n",
    "used in a wide variety of applications, such as in medicine, email filtering, speech \n",
    "recognition, and computer vision, where it is difficult or unfeasible to develop conventional\n",
    "algorithms to perform the needed tasks.[3]\n",
    "\n",
    "A subset of machine learning is closely related to computational statistics, which focuses on\n",
    "making predictions using computers, but not all machine learning is statistical learning. \n",
    "The study of mathematical optimization delivers methods, theory and application domains to \n",
    "the field of machine learning. Data mining is a related field of study, focusing on \n",
    "exploratory data analysis through unsupervised learning.[5][6] Some implementations of \n",
    "machine learning use data and neural networks in a way that mimics the working of a \n",
    "biological brain.[7][8] In its application across business problems, machine learning is \n",
    "also referred to as predictive analytics.\n",
    "\"\"\"\n",
    "\n",
    "list2 = string.split('.')\n",
    "print(list2[2])"
   ]
  },
  {
   "cell_type": "code",
   "execution_count": 175,
   "id": "clear-philippines",
   "metadata": {},
   "outputs": [
    {
     "data": {
      "text/plain": [
       "['D:\\\\RahulK\\\\Velocity_Aug_22\\\\08_15']"
      ]
     },
     "execution_count": 175,
     "metadata": {},
     "output_type": "execute_result"
    }
   ],
   "source": [
    "folder_path = r\"D:\\RahulK\\Velocity_Aug_22\\08_15\"\n",
    "folder_path.split()"
   ]
  },
  {
   "cell_type": "code",
   "execution_count": 178,
   "id": "protective-allowance",
   "metadata": {},
   "outputs": [
    {
     "data": {
      "text/plain": [
       "'08_15'"
      ]
     },
     "execution_count": 178,
     "metadata": {},
     "output_type": "execute_result"
    }
   ],
   "source": [
    "folder_path = r\"D:\\RahulK\\Velocity_Aug_22\\08_15\"\n",
    "folder_path.split('\\\\')[-1]"
   ]
  },
  {
   "cell_type": "code",
   "execution_count": 183,
   "id": "remarkable-boutique",
   "metadata": {},
   "outputs": [
    {
     "data": {
      "text/plain": [
       "'Gradient_Descent_Img'"
      ]
     },
     "execution_count": 183,
     "metadata": {},
     "output_type": "execute_result"
    }
   ],
   "source": [
    "image_file_path= r\"D:\\RahulK\\Velocity_Aug_22\\08_15\\Gradient_Descent_Img.png\"\n",
    "image_file_path.split('\\\\')[-1].split('.')[0]"
   ]
  },
  {
   "cell_type": "code",
   "execution_count": 190,
   "id": "offshore-buffer",
   "metadata": {},
   "outputs": [
    {
     "data": {
      "text/plain": [
       "'Gradient_Descent_Img'"
      ]
     },
     "execution_count": 190,
     "metadata": {},
     "output_type": "execute_result"
    }
   ],
   "source": [
    "image_file_path= r\"D:\\RahulK\\Velocity_Aug_22\\08_15\\Gradient_Descent_Img.png\"\n",
    "image_file_path.split('\\\\')[-1].split('.')[0]"
   ]
  },
  {
   "cell_type": "code",
   "execution_count": 194,
   "id": "strange-perth",
   "metadata": {},
   "outputs": [
    {
     "data": {
      "text/plain": [
       "['A subset of machine learning is closely related to computational statistics, ',\n",
       " 'which focuses on',\n",
       " 'making predictions using computers, but not all machine learning is statistical learning. ',\n",
       " 'The study of mathematical optimization delivers methods, theory and application domains to ',\n",
       " 'the field of machine learning. Data mining is a related field of study, focusing on ',\n",
       " 'exploratory data analysis through unsupervised learning.[5][6] Some implementations of ',\n",
       " 'machine learning use data and neural networks in a way that mimics the working of a ',\n",
       " 'biological brain.[7][8] In its application across business problems, machine learning is ',\n",
       " 'also referred to as predictive analytics.']"
      ]
     },
     "execution_count": 194,
     "metadata": {},
     "output_type": "execute_result"
    }
   ],
   "source": [
    "text = \"\"\"A subset of machine learning is closely related to computational statistics, \n",
    "which focuses on\n",
    "making predictions using computers, but not all machine learning is statistical learning. \n",
    "The study of mathematical optimization delivers methods, theory and application domains to \n",
    "the field of machine learning. Data mining is a related field of study, focusing on \n",
    "exploratory data analysis through unsupervised learning.[5][6] Some implementations of \n",
    "machine learning use data and neural networks in a way that mimics the working of a \n",
    "biological brain.[7][8] In its application across business problems, machine learning is \n",
    "also referred to as predictive analytics.\"\"\"\n",
    "\n",
    "text.split('\\n')"
   ]
  },
  {
   "cell_type": "code",
   "execution_count": 199,
   "id": "massive-necklace",
   "metadata": {},
   "outputs": [
    {
     "data": {
      "text/plain": [
       "7"
      ]
     },
     "execution_count": 199,
     "metadata": {},
     "output_type": "execute_result"
    }
   ],
   "source": [
    "text = \"\"\"A subset of machine learning is closely related to computational statistics, \n",
    "which focuses on\n",
    "making predictions using computers, but not all machine learning is statistical learning. \n",
    "The study of mathematical optimization delivers methods, theory and application domains to \n",
    "the field of machine learning. Data mining is a related field of study, focusing on \n",
    "exploratory data analysis through unsupervised learning.[5][6] Some implementations of \n",
    "machine learning use data and neural networks in a way that mimics the working of a \"\"\"\n",
    "\n",
    "len(text.split('\\n'))"
   ]
  },
  {
   "cell_type": "code",
   "execution_count": 203,
   "id": "hydraulic-visitor",
   "metadata": {},
   "outputs": [
    {
     "data": {
      "text/plain": [
       "['A subset of machine learning',\n",
       " 'is closely related to computational statistics']"
      ]
     },
     "execution_count": 203,
     "metadata": {},
     "output_type": "execute_result"
    }
   ],
   "source": [
    "text = \"\"\"A subset of machine learning  is closely related to computational statistics\"\"\" \n",
    "text.split('  ')"
   ]
  },
  {
   "cell_type": "code",
   "execution_count": 205,
   "id": "assisted-willow",
   "metadata": {},
   "outputs": [
    {
     "data": {
      "text/plain": [
       "['A subset ',\n",
       " ' machine learning is closely related to computational statistics']"
      ]
     },
     "execution_count": 205,
     "metadata": {},
     "output_type": "execute_result"
    }
   ],
   "source": [
    "text = \"\"\"A subset of machine learning is closely related to computational statistics\"\"\" \n",
    "text.split('of')"
   ]
  },
  {
   "cell_type": "code",
   "execution_count": 206,
   "id": "apart-forty",
   "metadata": {},
   "outputs": [
    {
     "data": {
      "text/plain": [
       "['A subset ',\n",
       " ' machine learning is closely related ',\n",
       " ' computational statistics']"
      ]
     },
     "execution_count": 206,
     "metadata": {},
     "output_type": "execute_result"
    }
   ],
   "source": [
    "text = \"\"\"A subset of machine learning is closely related of computational statistics\"\"\" \n",
    "text.split('of')"
   ]
  },
  {
   "cell_type": "markdown",
   "id": "skilled-feedback",
   "metadata": {},
   "source": [
    "# 15. join()"
   ]
  },
  {
   "cell_type": "code",
   "execution_count": null,
   "id": "further-letters",
   "metadata": {},
   "outputs": [],
   "source": [
    "'substring'.join(list)\n",
    "\n",
    "list to string"
   ]
  },
  {
   "cell_type": "code",
   "execution_count": 209,
   "id": "architectural-alexander",
   "metadata": {},
   "outputs": [
    {
     "data": {
      "text/plain": [
       "'Machine Learning and Deep Learning'"
      ]
     },
     "execution_count": 209,
     "metadata": {},
     "output_type": "execute_result"
    }
   ],
   "source": [
    "list1 = ['Machine', 'Learning', 'and', 'Deep', 'Learning']\n",
    "' '.join(list1)"
   ]
  },
  {
   "cell_type": "code",
   "execution_count": 211,
   "id": "chubby-newton",
   "metadata": {},
   "outputs": [
    {
     "data": {
      "text/plain": [
       "'Machine  Learning  and  Deep  Learning'"
      ]
     },
     "execution_count": 211,
     "metadata": {},
     "output_type": "execute_result"
    }
   ],
   "source": [
    "list1 = ['Machine', 'Learning', 'and', 'Deep', 'Learning']\n",
    "'  '.join(list1)"
   ]
  },
  {
   "cell_type": "code",
   "execution_count": 214,
   "id": "logical-input",
   "metadata": {},
   "outputs": [
    {
     "name": "stdout",
     "output_type": "stream",
     "text": [
      "Machine\n",
      "Learning\n",
      "and\n",
      "Deep\n",
      "Learning\n"
     ]
    }
   ],
   "source": [
    "list1 = ['Machine', 'Learning', 'and', 'Deep', 'Learning']\n",
    "x = '\\n'.join(list1)\n",
    "print(x)"
   ]
  },
  {
   "cell_type": "code",
   "execution_count": 216,
   "id": "known-eligibility",
   "metadata": {},
   "outputs": [
    {
     "data": {
      "text/plain": [
       "'Machine***Learning***and***Deep***Learning'"
      ]
     },
     "execution_count": 216,
     "metadata": {},
     "output_type": "execute_result"
    }
   ],
   "source": [
    "list1 = ['Machine', 'Learning', 'and', 'Deep', 'Learning']\n",
    "'***'.join(list1)\n"
   ]
  },
  {
   "cell_type": "code",
   "execution_count": 218,
   "id": "focused-politics",
   "metadata": {},
   "outputs": [
    {
     "data": {
      "text/plain": [
       "'Machine * Learning * and * Deep * Learning'"
      ]
     },
     "execution_count": 218,
     "metadata": {},
     "output_type": "execute_result"
    }
   ],
   "source": [
    "list1 = ['Machine', 'Learning', 'and', 'Deep', 'Learning']\n",
    "' * '.join(list1)\n"
   ]
  },
  {
   "cell_type": "code",
   "execution_count": 220,
   "id": "handed-document",
   "metadata": {},
   "outputs": [
    {
     "data": {
      "text/plain": [
       "'Machine PYTHON Learning PYTHON and PYTHON Deep PYTHON Learning'"
      ]
     },
     "execution_count": 220,
     "metadata": {},
     "output_type": "execute_result"
    }
   ],
   "source": [
    "list1 = ['Machine', 'Learning', 'and', 'Deep', 'Learning']\n",
    "' PYTHON '.join(list1)\n"
   ]
  },
  {
   "cell_type": "code",
   "execution_count": 222,
   "id": "varied-alcohol",
   "metadata": {},
   "outputs": [
    {
     "data": {
      "text/plain": [
       "'Machine-Learning-and-Deep-Learning'"
      ]
     },
     "execution_count": 222,
     "metadata": {},
     "output_type": "execute_result"
    }
   ],
   "source": [
    "list1 = ['Machine', 'Learning', 'and', 'Deep', 'Learning']\n",
    "'-'.join(list1)\n"
   ]
  },
  {
   "cell_type": "code",
   "execution_count": 224,
   "id": "brief-employment",
   "metadata": {},
   "outputs": [
    {
     "data": {
      "text/plain": [
       "'Machine\\nLearning\\nand\\nDeep\\nLearning'"
      ]
     },
     "execution_count": 224,
     "metadata": {},
     "output_type": "execute_result"
    }
   ],
   "source": [
    "list1 = ['Machine', 'Learning', 'and', 'Deep', 'Learning']\n",
    "'\\n'.join(list1)\n"
   ]
  },
  {
   "cell_type": "code",
   "execution_count": 226,
   "id": "listed-strand",
   "metadata": {},
   "outputs": [
    {
     "data": {
      "text/plain": [
       "['p', 'y', 't', 'h', 'o', 'n']"
      ]
     },
     "execution_count": 226,
     "metadata": {},
     "output_type": "execute_result"
    }
   ],
   "source": [
    "string = 'python'\n",
    "list(string)"
   ]
  },
  {
   "cell_type": "code",
   "execution_count": null,
   "id": "devoted-detail",
   "metadata": {},
   "outputs": [],
   "source": [
    "string = \"python\"\n",
    "# result = \"p-y-t-h-o-n\"\n"
   ]
  },
  {
   "cell_type": "code",
   "execution_count": 231,
   "id": "fresh-grass",
   "metadata": {},
   "outputs": [
    {
     "data": {
      "text/plain": [
       "'p-y-t-h-o-n'"
      ]
     },
     "execution_count": 231,
     "metadata": {},
     "output_type": "execute_result"
    }
   ],
   "source": [
    "string = \"python\"\n",
    "list2 = list(string)\n",
    "'-'.join(list2)"
   ]
  },
  {
   "cell_type": "code",
   "execution_count": 233,
   "id": "cooked-rental",
   "metadata": {},
   "outputs": [
    {
     "data": {
      "text/plain": [
       "'p-y-t-h-o-n'"
      ]
     },
     "execution_count": 233,
     "metadata": {},
     "output_type": "execute_result"
    }
   ],
   "source": [
    "string = \"python\"\n",
    "'-'.join(list(string))"
   ]
  },
  {
   "cell_type": "markdown",
   "id": "knowing-ensemble",
   "metadata": {},
   "source": [
    "# 16. endswith()"
   ]
  },
  {
   "cell_type": "code",
   "execution_count": null,
   "id": "hawaiian-wiring",
   "metadata": {},
   "outputs": [],
   "source": [
    "Endswith Function result in True/False\n",
    "type(True)\n",
    "string.endswith('substring')"
   ]
  },
  {
   "cell_type": "code",
   "execution_count": 238,
   "id": "devoted-structure",
   "metadata": {},
   "outputs": [
    {
     "data": {
      "text/plain": [
       "True"
      ]
     },
     "execution_count": 238,
     "metadata": {},
     "output_type": "execute_result"
    }
   ],
   "source": [
    "string = 'python'\n",
    "string.endswith('n')"
   ]
  },
  {
   "cell_type": "code",
   "execution_count": 240,
   "id": "personalized-generation",
   "metadata": {},
   "outputs": [
    {
     "data": {
      "text/plain": [
       "False"
      ]
     },
     "execution_count": 240,
     "metadata": {},
     "output_type": "execute_result"
    }
   ],
   "source": [
    "string = 'python'\n",
    "string.endswith('N')"
   ]
  },
  {
   "cell_type": "code",
   "execution_count": 242,
   "id": "civil-tribune",
   "metadata": {},
   "outputs": [
    {
     "data": {
      "text/plain": [
       "True"
      ]
     },
     "execution_count": 242,
     "metadata": {},
     "output_type": "execute_result"
    }
   ],
   "source": [
    "string = 'python and data science'\n",
    "string.endswith('e')"
   ]
  },
  {
   "cell_type": "code",
   "execution_count": 244,
   "id": "logical-softball",
   "metadata": {},
   "outputs": [
    {
     "data": {
      "text/plain": [
       "False"
      ]
     },
     "execution_count": 244,
     "metadata": {},
     "output_type": "execute_result"
    }
   ],
   "source": [
    "string = 'python and data science '\n",
    "string.endswith('e')"
   ]
  },
  {
   "cell_type": "code",
   "execution_count": 246,
   "id": "incorporated-champion",
   "metadata": {},
   "outputs": [
    {
     "data": {
      "text/plain": [
       "True"
      ]
     },
     "execution_count": 246,
     "metadata": {},
     "output_type": "execute_result"
    }
   ],
   "source": [
    "string = 'python and data science '\n",
    "string.endswith(' ')"
   ]
  },
  {
   "cell_type": "code",
   "execution_count": 248,
   "id": "ceramic-fever",
   "metadata": {},
   "outputs": [
    {
     "data": {
      "text/plain": [
       "True"
      ]
     },
     "execution_count": 248,
     "metadata": {},
     "output_type": "execute_result"
    }
   ],
   "source": [
    "string = 'python and data science'\n",
    "string.endswith('science')"
   ]
  },
  {
   "cell_type": "code",
   "execution_count": 250,
   "id": "neither-shooting",
   "metadata": {},
   "outputs": [
    {
     "data": {
      "text/plain": [
       "False"
      ]
     },
     "execution_count": 250,
     "metadata": {},
     "output_type": "execute_result"
    }
   ],
   "source": [
    "string = 'python and data science'\n",
    "string.endswith('data')"
   ]
  },
  {
   "cell_type": "code",
   "execution_count": 252,
   "id": "increased-hobby",
   "metadata": {},
   "outputs": [
    {
     "data": {
      "text/plain": [
       "True"
      ]
     },
     "execution_count": 252,
     "metadata": {},
     "output_type": "execute_result"
    }
   ],
   "source": [
    "image_file_path= r\"D:\\RahulK\\Velocity_Aug_22\\08_15\\Gradient_Descent_Img.png\"\n",
    "image_file_path.endswith('.png')"
   ]
  },
  {
   "cell_type": "code",
   "execution_count": 254,
   "id": "south-mustang",
   "metadata": {},
   "outputs": [
    {
     "data": {
      "text/plain": [
       "False"
      ]
     },
     "execution_count": 254,
     "metadata": {},
     "output_type": "execute_result"
    }
   ],
   "source": [
    "image_file_path= r\"D:\\RahulK\\Velocity_Aug_22\\08_15\\Gradient_Descent_Img.png\"\n",
    "image_file_path.endswith('.PNG')"
   ]
  },
  {
   "cell_type": "code",
   "execution_count": 257,
   "id": "corrected-oriental",
   "metadata": {},
   "outputs": [
    {
     "data": {
      "text/plain": [
       "True"
      ]
     },
     "execution_count": 257,
     "metadata": {},
     "output_type": "execute_result"
    }
   ],
   "source": [
    "image_file_path= r\"D:\\RahulK\\Velocity_Aug_22\\08_15\\Gradient_Descent_Img.jpg\"\n",
    "image_file_path.endswith('.jpg')"
   ]
  },
  {
   "cell_type": "code",
   "execution_count": 258,
   "id": "equipped-bloom",
   "metadata": {},
   "outputs": [
    {
     "data": {
      "text/plain": [
       "True"
      ]
     },
     "execution_count": 258,
     "metadata": {},
     "output_type": "execute_result"
    }
   ],
   "source": [
    "image_file_path= r\"D:\\RahulK\\Velocity_Aug_22\\08_15\\Gradient_Descent.pdf\"\n",
    "image_file_path.endswith('.pdf')"
   ]
  },
  {
   "cell_type": "code",
   "execution_count": 261,
   "id": "radical-albuquerque",
   "metadata": {},
   "outputs": [
    {
     "data": {
      "text/plain": [
       "13"
      ]
     },
     "execution_count": 261,
     "metadata": {},
     "output_type": "execute_result"
    }
   ],
   "source": []
  },
  {
   "cell_type": "code",
   "execution_count": 265,
   "id": "oriented-steps",
   "metadata": {},
   "outputs": [],
   "source": [
    "string = 'science'"
   ]
  },
  {
   "cell_type": "code",
   "execution_count": null,
   "id": "verbal-singles",
   "metadata": {},
   "outputs": [],
   "source": [
    "sequence >> str, list, set, tuple, frozenset, array,dataframe, dict, etc"
   ]
  },
  {
   "cell_type": "code",
   "execution_count": 266,
   "id": "million-guess",
   "metadata": {},
   "outputs": [
    {
     "name": "stdout",
     "output_type": "stream",
     "text": [
      "p\n",
      "y\n",
      "t\n",
      "h\n",
      "o\n",
      "n\n"
     ]
    }
   ],
   "source": [
    "string = 'python'\n",
    "\n",
    "for var_name in string: # Loop will iterate for 6 times\n",
    "    print(var_name)"
   ]
  },
  {
   "cell_type": "code",
   "execution_count": 269,
   "id": "inner-missouri",
   "metadata": {},
   "outputs": [
    {
     "name": "stdout",
     "output_type": "stream",
     "text": [
      "p\n",
      "Hello\n",
      "*********************\n",
      "y\n",
      "Hello\n",
      "*********************\n",
      "t\n",
      "Hello\n",
      "*********************\n",
      "h\n",
      "Hello\n",
      "*********************\n",
      "o\n",
      "Hello\n",
      "*********************\n",
      "n\n",
      "Hello\n",
      "*********************\n"
     ]
    }
   ],
   "source": [
    "string = 'python'\n",
    "\n",
    "for var_name in string: # var_name = 'y'\n",
    "    print(var_name)  # 'y'\n",
    "    print(\"Hello\")\n",
    "    print(\"*********************\")"
   ]
  },
  {
   "cell_type": "code",
   "execution_count": 271,
   "id": "failing-johnson",
   "metadata": {},
   "outputs": [
    {
     "name": "stdout",
     "output_type": "stream",
     "text": [
      "p\n",
      "Hello\n",
      "*********************\n",
      "y\n",
      "Hello\n",
      "*********************\n",
      "t\n",
      "Hello\n",
      "*********************\n",
      "h\n",
      "Hello\n",
      "*********************\n",
      "o\n",
      "Hello\n",
      "*********************\n",
      "n\n",
      "Hello\n",
      "*********************\n"
     ]
    }
   ],
   "source": [
    "string = 'python'\n",
    "\n",
    "for char in string: # char = 'y'\n",
    "    print(char)  # 'y'\n",
    "    print(\"Hello\")\n",
    "    print(\"*********************\")"
   ]
  },
  {
   "cell_type": "code",
   "execution_count": 273,
   "id": "shaped-forth",
   "metadata": {},
   "outputs": [
    {
     "name": "stdout",
     "output_type": "stream",
     "text": [
      "p\n",
      "*********************\n",
      "y\n",
      "*********************\n",
      "t\n",
      "*********************\n",
      "h\n",
      "*********************\n",
      "o\n",
      "*********************\n",
      "n\n",
      "*********************\n"
     ]
    }
   ],
   "source": [
    "string = 'python'\n",
    "\n",
    "for char in string: # char = 'y'\n",
    "    print(char)  # 'y'\n",
    "    print(\"*********************\")"
   ]
  },
  {
   "cell_type": "code",
   "execution_count": 276,
   "id": "sunset-black",
   "metadata": {},
   "outputs": [
    {
     "name": "stdout",
     "output_type": "stream",
     "text": [
      "Character is : p\n",
      "*********************\n",
      "Character is : y\n",
      "*********************\n",
      "Character is : t\n",
      "*********************\n",
      "Character is : h\n",
      "*********************\n",
      "Character is : o\n",
      "*********************\n",
      "Character is : n\n",
      "*********************\n"
     ]
    }
   ],
   "source": [
    "string = 'python'\n",
    "\n",
    "for char in string: # char = 'y'\n",
    "    print(\"Character is :\",char) \n",
    "    print(\"*********************\")"
   ]
  },
  {
   "cell_type": "code",
   "execution_count": 279,
   "id": "serial-senior",
   "metadata": {},
   "outputs": [
    {
     "name": "stdout",
     "output_type": "stream",
     "text": [
      "Character is : p\n",
      "1\n",
      "*********************\n",
      "Character is : y\n",
      "2\n",
      "*********************\n",
      "Character is : t\n",
      "3\n",
      "*********************\n",
      "Character is : h\n",
      "4\n",
      "*********************\n",
      "Character is : o\n",
      "5\n",
      "*********************\n",
      "Character is : n\n",
      "6\n",
      "*********************\n"
     ]
    }
   ],
   "source": [
    "string = 'python'\n",
    "\n",
    "count = 0\n",
    "for char in string: # char = 'y'\n",
    "    print(\"Character is :\",char)\n",
    "    count = count + 1 # 1 + 1\n",
    "    print(count)   # 1\n",
    "    print(\"*********************\")"
   ]
  },
  {
   "cell_type": "code",
   "execution_count": 283,
   "id": "earlier-willow",
   "metadata": {},
   "outputs": [
    {
     "name": "stdout",
     "output_type": "stream",
     "text": [
      "Character is : 0 p\n",
      "*********************\n",
      "Character is : 1 y\n",
      "*********************\n",
      "Character is : 2 t\n",
      "*********************\n",
      "Character is : 3 h\n",
      "*********************\n",
      "Character is : 4 o\n",
      "*********************\n",
      "Character is : 5 n\n",
      "*********************\n"
     ]
    }
   ],
   "source": [
    "string = 'python'\n",
    "\n",
    "count = 0\n",
    "for char in string: \n",
    "    print(\"Character is :\",count, char)\n",
    "    count = count + 1 \n",
    "    print(\"*********************\")"
   ]
  },
  {
   "cell_type": "code",
   "execution_count": 285,
   "id": "dressed-tunisia",
   "metadata": {},
   "outputs": [
    {
     "name": "stdout",
     "output_type": "stream",
     "text": [
      "Character at index 0 is p\n",
      "*********************\n",
      "Character at index 1 is y\n",
      "*********************\n",
      "Character at index 2 is t\n",
      "*********************\n",
      "Character at index 3 is h\n",
      "*********************\n",
      "Character at index 4 is o\n",
      "*********************\n",
      "Character at index 5 is n\n",
      "*********************\n"
     ]
    }
   ],
   "source": [
    "string = 'python'\n",
    "\n",
    "count = 0\n",
    "for char in string: \n",
    "    print(f\"Character at index {count} is {char}\")\n",
    "    count = count + 1 \n",
    "    print(\"*********************\")"
   ]
  },
  {
   "cell_type": "code",
   "execution_count": 287,
   "id": "relative-partner",
   "metadata": {},
   "outputs": [
    {
     "name": "stdout",
     "output_type": "stream",
     "text": [
      "Character at index 0 is p\n",
      "Character at index 1 is y\n",
      "Character at index 2 is t\n",
      "Character at index 3 is h\n",
      "Character at index 4 is o\n",
      "Character at index 5 is n\n"
     ]
    }
   ],
   "source": [
    "string = 'python'\n",
    "\n",
    "count = 0\n",
    "for char in string: \n",
    "    print(f\"Character at index {count} is {char}\")\n",
    "    count = count + 1 "
   ]
  },
  {
   "cell_type": "code",
   "execution_count": null,
   "id": "sustainable-reading",
   "metadata": {},
   "outputs": [],
   "source": []
  },
  {
   "cell_type": "code",
   "execution_count": 289,
   "id": "addressed-prescription",
   "metadata": {},
   "outputs": [
    {
     "name": "stdout",
     "output_type": "stream",
     "text": [
      "Character at index 0 is p\n",
      "Character at index 1 is y\n",
      "Character at index 2 is t\n",
      "Character at index 3 is h\n",
      "Character at index 4 is o\n",
      "Character at index 5 is n\n"
     ]
    }
   ],
   "source": [
    "string = 'python'\n",
    "\n",
    "index = 0\n",
    "for char in string: \n",
    "    print(f\"Character at index {index} is {char}\")\n",
    "    index = index + 1 "
   ]
  },
  {
   "cell_type": "code",
   "execution_count": 291,
   "id": "restricted-server",
   "metadata": {},
   "outputs": [
    {
     "name": "stdout",
     "output_type": "stream",
     "text": [
      "0 p\n",
      "1 y\n",
      "2 t\n",
      "3 h\n",
      "4 o\n",
      "5 n\n"
     ]
    }
   ],
   "source": [
    "for ind,val in enumerate(string):\n",
    "    print(ind,val)"
   ]
  },
  {
   "cell_type": "code",
   "execution_count": 294,
   "id": "dirty-insulation",
   "metadata": {},
   "outputs": [
    {
     "name": "stdout",
     "output_type": "stream",
     "text": [
      "0 p\n",
      "1 y\n",
      "2 t\n",
      "3 h\n",
      "4 o\n",
      "5 n\n"
     ]
    }
   ],
   "source": [
    "for index,value in enumerate(string):\n",
    "    print(index,value)"
   ]
  },
  {
   "cell_type": "code",
   "execution_count": 297,
   "id": "french-citizenship",
   "metadata": {},
   "outputs": [
    {
     "name": "stdout",
     "output_type": "stream",
     "text": [
      "Character at index 0 is p\n",
      "Character at index 1 is y\n",
      "Character at index 2 is t\n",
      "Character at index 3 is h\n",
      "Character at index 4 is o\n",
      "Character at index 5 is n\n"
     ]
    }
   ],
   "source": [
    "for index,value in enumerate(string):\n",
    "    print(f\"Character at index {index} is {value}\")"
   ]
  },
  {
   "cell_type": "code",
   "execution_count": 298,
   "id": "pacific-protest",
   "metadata": {},
   "outputs": [
    {
     "name": "stdout",
     "output_type": "stream",
     "text": [
      "Character at index 0 is p\n",
      "Character at index 1 is y\n",
      "Character at index 2 is t\n",
      "Character at index 3 is h\n",
      "Character at index 4 is o\n",
      "Character at index 5 is n\n"
     ]
    }
   ],
   "source": [
    "for index,char in enumerate(string):\n",
    "    print(f\"Character at index {index} is {char}a\")"
   ]
  },
  {
   "cell_type": "code",
   "execution_count": 324,
   "id": "light-laser",
   "metadata": {},
   "outputs": [
    {
     "name": "stdout",
     "output_type": "stream",
     "text": [
      "3\n",
      "4\n",
      "20\n",
      "40\n",
      "60\n"
     ]
    }
   ],
   "source": [
    "list1 = [3,4,20,40,60]\n",
    "for item in list1:\n",
    "    print(item)"
   ]
  },
  {
   "cell_type": "code",
   "execution_count": null,
   "id": "nominated-blackberry",
   "metadata": {},
   "outputs": [],
   "source": []
  },
  {
   "cell_type": "code",
   "execution_count": 310,
   "id": "worst-prairie",
   "metadata": {},
   "outputs": [
    {
     "name": "stdout",
     "output_type": "stream",
     "text": [
      "Text File Name : cv010_29198.txt\n",
      "Text File Name : cv011_12166.txt\n",
      "Text File Name : cv012_29576.txt\n",
      "Text File Name : cv013_10159.txt\n"
     ]
    }
   ],
   "source": [
    "import os\n",
    "files = os.listdir('data')\n",
    "for file_name in files:\n",
    "    if file_name.endswith('.txt'):\n",
    "        print(\"Text File Name :\",file_name)\n"
   ]
  },
  {
   "cell_type": "code",
   "execution_count": 311,
   "id": "underlying-trailer",
   "metadata": {},
   "outputs": [
    {
     "name": "stdout",
     "output_type": "stream",
     "text": [
      "PDF file Name is : 1207_385_bank_statement11.pdf\n",
      "PDF file Name is : 97_134_bank_statement21.pdf\n",
      "Text File Name : cv010_29198.txt\n",
      "Text File Name : cv011_12166.txt\n",
      "Text File Name : cv012_29576.txt\n",
      "Text File Name : cv013_10159.txt\n"
     ]
    }
   ],
   "source": [
    "import os\n",
    "files = os.listdir('data')\n",
    "for file_name in files:\n",
    "    if file_name.endswith('.txt'):\n",
    "        print(\"Text File Name :\",file_name)\n",
    "\n",
    "    elif file_name.endswith('.pdf'):\n",
    "        print(\"PDF file Name is :\",file_name)"
   ]
  },
  {
   "cell_type": "markdown",
   "id": "married-thriller",
   "metadata": {},
   "source": [
    "# 17. startwith"
   ]
  },
  {
   "cell_type": "code",
   "execution_count": null,
   "id": "outside-airport",
   "metadata": {},
   "outputs": [],
   "source": []
  },
  {
   "cell_type": "code",
   "execution_count": 314,
   "id": "filled-cover",
   "metadata": {},
   "outputs": [
    {
     "data": {
      "text/plain": [
       "True"
      ]
     },
     "execution_count": 314,
     "metadata": {},
     "output_type": "execute_result"
    }
   ],
   "source": [
    "string = 'python'\n",
    "string.startswith('p')"
   ]
  },
  {
   "cell_type": "code",
   "execution_count": 316,
   "id": "nervous-sunglasses",
   "metadata": {},
   "outputs": [
    {
     "data": {
      "text/plain": [
       "False"
      ]
     },
     "execution_count": 316,
     "metadata": {},
     "output_type": "execute_result"
    }
   ],
   "source": [
    "string = 'python'\n",
    "string.startswith('P')"
   ]
  },
  {
   "cell_type": "code",
   "execution_count": 318,
   "id": "pretty-aggregate",
   "metadata": {},
   "outputs": [
    {
     "data": {
      "text/plain": [
       "True"
      ]
     },
     "execution_count": 318,
     "metadata": {},
     "output_type": "execute_result"
    }
   ],
   "source": [
    "string = 'Python'\n",
    "string.startswith('P')"
   ]
  },
  {
   "cell_type": "code",
   "execution_count": 320,
   "id": "stunning-harassment",
   "metadata": {},
   "outputs": [
    {
     "data": {
      "text/plain": [
       "True"
      ]
     },
     "execution_count": 320,
     "metadata": {},
     "output_type": "execute_result"
    }
   ],
   "source": [
    "string = 'Python and data science'\n",
    "string.startswith('Python')"
   ]
  },
  {
   "cell_type": "code",
   "execution_count": 322,
   "id": "continuing-plate",
   "metadata": {},
   "outputs": [
    {
     "data": {
      "text/plain": [
       "False"
      ]
     },
     "execution_count": 322,
     "metadata": {},
     "output_type": "execute_result"
    }
   ],
   "source": [
    "string = ' Python and data science'\n",
    "string.startswith('Python')"
   ]
  },
  {
   "cell_type": "code",
   "execution_count": 323,
   "id": "stable-mission",
   "metadata": {},
   "outputs": [
    {
     "data": {
      "text/plain": [
       "True"
      ]
     },
     "execution_count": 323,
     "metadata": {},
     "output_type": "execute_result"
    }
   ],
   "source": [
    "string = '  Python and data science'\n",
    "string.strip().startswith('Python')"
   ]
  }
 ],
 "metadata": {
  "kernelspec": {
   "display_name": "Python 3 (ipykernel)",
   "language": "python",
   "name": "python3"
  },
  "language_info": {
   "codemirror_mode": {
    "name": "ipython",
    "version": 3
   },
   "file_extension": ".py",
   "mimetype": "text/x-python",
   "name": "python",
   "nbconvert_exporter": "python",
   "pygments_lexer": "ipython3",
   "version": "3.9.12"
  }
 },
 "nbformat": 4,
 "nbformat_minor": 5
}
