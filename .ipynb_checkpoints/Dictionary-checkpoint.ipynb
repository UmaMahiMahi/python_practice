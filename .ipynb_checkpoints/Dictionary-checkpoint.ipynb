{
 "cells": [
  {
   "cell_type": "markdown",
   "id": "royal-typing",
   "metadata": {},
   "source": [
    "## DataTypes"
   ]
  },
  {
   "cell_type": "code",
   "execution_count": null,
   "id": "vertical-vector",
   "metadata": {},
   "outputs": [],
   "source": [
    "string    : Immutable, Ordered, Duplicate items are allowed, '', \" \", '''char''', \"\"\"char\"\"\"\n",
    "List      : Mutable,   Ordered, Duplicate items are allowed, [], list()\n",
    "Tuple     : Immutable, Ordered, Duplicate items are allowed, (), tuple(), (2,)\n",
    "set       : Mutable,   Unordered, Duplicate items are not allowed, {2,4}, set()\n",
    "Frozenset : Immutable, Unordered, Duplicate items are not allowed, frozenset({2,4}), frozenset()\n",
    "Dict      :"
   ]
  },
  {
   "cell_type": "markdown",
   "id": "terminal-laptop",
   "metadata": {},
   "source": [
    "# Dictionary"
   ]
  },
  {
   "cell_type": "code",
   "execution_count": null,
   "id": "least-communist",
   "metadata": {},
   "outputs": [],
   "source": [
    "It is a collection of key and value pairs\n",
    "\n",
    "1. Mutable \n",
    "2. Ordered/Unordered\n",
    "3. Indexing is not allowed\n",
    "4. Keys can not be duplicate\n",
    "5. Values can be duplicate\n",
    "6. Dictionary are enclosed by {}, \n",
    "7. We can initialize dictionary by using {} or dict()\n",
    "\n",
    "Key >> Immutable (int, float, str, tuple, frozenset, complex)\n",
    "Values >> Any DataType(mutable or immutable):\n",
    "    (int, float, str, tuple, frozenset, complex,list, set, dict)\n",
    "\n",
    "Ordered   : Python version >= 3.7\n",
    "Unordered : Python version < 3.7  (Python2.7, Python 3.5, python 3.6)\n",
    "    \n",
    "Syntax :\n",
    "    d1 = {key : Value}"
   ]
  },
  {
   "cell_type": "markdown",
   "id": "invisible-jesus",
   "metadata": {},
   "source": [
    "## Dictionary Functions"
   ]
  },
  {
   "cell_type": "code",
   "execution_count": null,
   "id": "general-round",
   "metadata": {},
   "outputs": [],
   "source": [
    "To access key and values:\n",
    "1. get()\n",
    "2. keys()\n",
    "3. values()\n",
    "4. items()\n",
    "\n",
    "To update Dictionary:\n",
    "5. update()\n",
    "\n",
    "Delete items:\n",
    "6. pop()\n",
    "7. popitem()\n",
    "8. clear()\n",
    "\n",
    "del keyword"
   ]
  },
  {
   "cell_type": "code",
   "execution_count": 5,
   "id": "burning-portfolio",
   "metadata": {},
   "outputs": [
    {
     "data": {
      "text/plain": [
       "{1, 3, 4, 5, 8}"
      ]
     },
     "execution_count": 5,
     "metadata": {},
     "output_type": "execute_result"
    }
   ],
   "source": [
    "s1 = {3,5,5,5,1,8,4}\n",
    "s1"
   ]
  },
  {
   "cell_type": "code",
   "execution_count": null,
   "id": "logical-inflation",
   "metadata": {},
   "outputs": [],
   "source": [
    "d1 = {key1 : Value1, Key2: Value2, Key3:Value3}"
   ]
  },
  {
   "cell_type": "code",
   "execution_count": 4,
   "id": "sixth-elite",
   "metadata": {},
   "outputs": [
    {
     "data": {
      "text/plain": [
       "1"
      ]
     },
     "execution_count": 4,
     "metadata": {},
     "output_type": "execute_result"
    }
   ],
   "source": [
    "dict1 = {'a':97}\n",
    "len(dict1)"
   ]
  },
  {
   "cell_type": "code",
   "execution_count": 8,
   "id": "expected-laser",
   "metadata": {},
   "outputs": [
    {
     "data": {
      "text/plain": [
       "{'a': 100}"
      ]
     },
     "execution_count": 8,
     "metadata": {},
     "output_type": "execute_result"
    }
   ],
   "source": [
    "dict1 = {'a':97, 'a':100}\n",
    "len(dict1)\n",
    "dict1"
   ]
  },
  {
   "cell_type": "code",
   "execution_count": 10,
   "id": "cordless-bermuda",
   "metadata": {},
   "outputs": [
    {
     "data": {
      "text/plain": [
       "{'a': 100, 'b': 98, 'c': 99}"
      ]
     },
     "execution_count": 10,
     "metadata": {},
     "output_type": "execute_result"
    }
   ],
   "source": [
    "dict1 = {'a':97,'b':98,'c':99, 'a':100}\n",
    "len(dict1)\n",
    "dict1"
   ]
  },
  {
   "cell_type": "code",
   "execution_count": 16,
   "id": "color-census",
   "metadata": {},
   "outputs": [
    {
     "name": "stdout",
     "output_type": "stream",
     "text": [
      "{'a': 100, 'b': 200, 'c': 99}\n"
     ]
    },
    {
     "data": {
      "text/plain": [
       "99"
      ]
     },
     "execution_count": 16,
     "metadata": {},
     "output_type": "execute_result"
    }
   ],
   "source": [
    "dict1 = {'a':97,'b':98,'c':99, 'a':100,'b':200}\n",
    "print(dict1)\n",
    "dict1['c']"
   ]
  },
  {
   "cell_type": "code",
   "execution_count": 17,
   "id": "alone-industry",
   "metadata": {},
   "outputs": [
    {
     "data": {
      "text/plain": [
       "{'a': 100, 'b': 100, 'c': 99, 'd': 100}"
      ]
     },
     "execution_count": 17,
     "metadata": {},
     "output_type": "execute_result"
    }
   ],
   "source": [
    "dict1 = {'a':100,'b':100,'c':99, 'd':100}\n",
    "dict1"
   ]
  },
  {
   "cell_type": "code",
   "execution_count": 19,
   "id": "metropolitan-synthesis",
   "metadata": {},
   "outputs": [
    {
     "data": {
      "text/plain": [
       "{1: 1, 2: 8, 3: 27, 4: 64, 5: 125, 6: 216}"
      ]
     },
     "execution_count": 19,
     "metadata": {},
     "output_type": "execute_result"
    }
   ],
   "source": [
    "dict2 = {1:1, 2:8, 3 : 27, 4 : 64, 5: 125, 6:216}\n",
    "dict2"
   ]
  },
  {
   "cell_type": "code",
   "execution_count": 22,
   "id": "center-spine",
   "metadata": {},
   "outputs": [
    {
     "data": {
      "text/plain": [
       "{1: 1, 2: 8, 3: 27, 4: 64, 5: 125, 6.4: 216, 'a': 100}"
      ]
     },
     "execution_count": 22,
     "metadata": {},
     "output_type": "execute_result"
    }
   ],
   "source": [
    "dict2 = {1:1, 2:8, 3 : 27, 4 : 64, 5: 125, 6.4:216,'a':100}\n",
    "dict2"
   ]
  },
  {
   "cell_type": "code",
   "execution_count": 24,
   "id": "different-guatemala",
   "metadata": {},
   "outputs": [
    {
     "ename": "TypeError",
     "evalue": "unhashable type: 'list'",
     "output_type": "error",
     "traceback": [
      "\u001b[1;31m---------------------------------------------------------------------------\u001b[0m",
      "\u001b[1;31mTypeError\u001b[0m                                 Traceback (most recent call last)",
      "\u001b[1;32m<ipython-input-24-8d29d3aef91c>\u001b[0m in \u001b[0;36m<module>\u001b[1;34m\u001b[0m\n\u001b[1;32m----> 1\u001b[1;33m \u001b[0mdict2\u001b[0m \u001b[1;33m=\u001b[0m \u001b[1;33m{\u001b[0m\u001b[1;33m[\u001b[0m\u001b[1;36m1\u001b[0m\u001b[1;33m,\u001b[0m\u001b[1;36m2\u001b[0m\u001b[1;33m,\u001b[0m\u001b[1;36m3\u001b[0m\u001b[1;33m,\u001b[0m\u001b[1;36m4\u001b[0m\u001b[1;33m]\u001b[0m\u001b[1;33m:\u001b[0m\u001b[1;33m[\u001b[0m\u001b[1;36m1\u001b[0m\u001b[1;33m,\u001b[0m\u001b[1;36m4\u001b[0m\u001b[1;33m,\u001b[0m\u001b[1;36m9\u001b[0m\u001b[1;33m,\u001b[0m\u001b[1;36m16\u001b[0m\u001b[1;33m]\u001b[0m\u001b[1;33m}\u001b[0m\u001b[1;33m\u001b[0m\u001b[1;33m\u001b[0m\u001b[0m\n\u001b[0m\u001b[0;32m      2\u001b[0m \u001b[0mdict2\u001b[0m\u001b[1;33m\u001b[0m\u001b[1;33m\u001b[0m\u001b[0m\n",
      "\u001b[1;31mTypeError\u001b[0m: unhashable type: 'list'"
     ]
    }
   ],
   "source": [
    "dict2 = {[1,2,3,4]:[1,4,9,16]}\n",
    "dict2"
   ]
  },
  {
   "cell_type": "code",
   "execution_count": 26,
   "id": "filled-taylor",
   "metadata": {},
   "outputs": [
    {
     "data": {
      "text/plain": [
       "{(1, 2, 3, 4): [1, 4, 9, 16]}"
      ]
     },
     "execution_count": 26,
     "metadata": {},
     "output_type": "execute_result"
    }
   ],
   "source": [
    "dict2 = {(1,2,3,4):[1,4,9,16]}\n",
    "dict2"
   ]
  },
  {
   "cell_type": "code",
   "execution_count": 28,
   "id": "usual-letters",
   "metadata": {},
   "outputs": [
    {
     "ename": "TypeError",
     "evalue": "unhashable type: 'set'",
     "output_type": "error",
     "traceback": [
      "\u001b[1;31m---------------------------------------------------------------------------\u001b[0m",
      "\u001b[1;31mTypeError\u001b[0m                                 Traceback (most recent call last)",
      "\u001b[1;32m<ipython-input-28-f3b632f3d1df>\u001b[0m in \u001b[0;36m<module>\u001b[1;34m\u001b[0m\n\u001b[1;32m----> 1\u001b[1;33m \u001b[0mdict2\u001b[0m \u001b[1;33m=\u001b[0m \u001b[1;33m{\u001b[0m\u001b[1;33m{\u001b[0m\u001b[1;36m1\u001b[0m\u001b[1;33m,\u001b[0m\u001b[1;36m2\u001b[0m\u001b[1;33m,\u001b[0m\u001b[1;36m3\u001b[0m\u001b[1;33m,\u001b[0m\u001b[1;36m4\u001b[0m\u001b[1;33m}\u001b[0m\u001b[1;33m:\u001b[0m\u001b[1;33m[\u001b[0m\u001b[1;36m1\u001b[0m\u001b[1;33m,\u001b[0m\u001b[1;36m4\u001b[0m\u001b[1;33m,\u001b[0m\u001b[1;36m9\u001b[0m\u001b[1;33m,\u001b[0m\u001b[1;36m16\u001b[0m\u001b[1;33m]\u001b[0m\u001b[1;33m}\u001b[0m\u001b[1;33m\u001b[0m\u001b[1;33m\u001b[0m\u001b[0m\n\u001b[0m\u001b[0;32m      2\u001b[0m \u001b[0mdict2\u001b[0m\u001b[1;33m\u001b[0m\u001b[1;33m\u001b[0m\u001b[0m\n",
      "\u001b[1;31mTypeError\u001b[0m: unhashable type: 'set'"
     ]
    }
   ],
   "source": [
    "dict2 = {{1,2,3,4}:[1,4,9,16]}\n",
    "dict2"
   ]
  },
  {
   "cell_type": "code",
   "execution_count": 29,
   "id": "monetary-interstate",
   "metadata": {},
   "outputs": [
    {
     "data": {
      "text/plain": [
       "{frozenset({1, 2, 3, 4}): [1, 4, 9, 16]}"
      ]
     },
     "execution_count": 29,
     "metadata": {},
     "output_type": "execute_result"
    }
   ],
   "source": [
    "dict2 = {frozenset({1,2,3,4}):[1,4,9,16]}\n",
    "dict2"
   ]
  },
  {
   "cell_type": "markdown",
   "id": "fundamental-senator",
   "metadata": {},
   "source": [
    "## dictionary Functions"
   ]
  },
  {
   "cell_type": "code",
   "execution_count": 34,
   "id": "grave-semester",
   "metadata": {},
   "outputs": [
    {
     "data": {
      "text/plain": [
       "100"
      ]
     },
     "execution_count": 34,
     "metadata": {},
     "output_type": "execute_result"
    }
   ],
   "source": [
    "dict1 = {'A':100, \"B\": 200, \"C\":300,\"D\":400, \"E\":500}\n",
    "dict1['A']"
   ]
  },
  {
   "cell_type": "code",
   "execution_count": 35,
   "id": "flying-galaxy",
   "metadata": {},
   "outputs": [
    {
     "data": {
      "text/plain": [
       "400"
      ]
     },
     "execution_count": 35,
     "metadata": {},
     "output_type": "execute_result"
    }
   ],
   "source": [
    "dict1 = {'A':100, \"B\": 200, \"C\":300,\"D\":400, \"E\":500}\n",
    "dict1['D']"
   ]
  },
  {
   "cell_type": "code",
   "execution_count": 36,
   "id": "following-malaysia",
   "metadata": {},
   "outputs": [
    {
     "data": {
      "text/plain": [
       "2000"
      ]
     },
     "execution_count": 36,
     "metadata": {},
     "output_type": "execute_result"
    }
   ],
   "source": [
    "dict1 = {'A':100, \"B\": 200, \"C\":300,\"D\":400, \"E\":500,2:4,2:2000}\n",
    "dict1[2]"
   ]
  },
  {
   "cell_type": "code",
   "execution_count": null,
   "id": "proper-geometry",
   "metadata": {},
   "outputs": [],
   "source": [
    "dict1 = {'A':100, \"B\": 200, \"C\":300,\"D\":400, \"E\":500}\n",
    "dict1['D']"
   ]
  },
  {
   "cell_type": "markdown",
   "id": "twelve-contractor",
   "metadata": {},
   "source": [
    "### 1. get()"
   ]
  },
  {
   "cell_type": "code",
   "execution_count": null,
   "id": "practical-blond",
   "metadata": {},
   "outputs": [],
   "source": [
    "dict.get('Key')\n",
    "\n",
    "Return None : If key is not present "
   ]
  },
  {
   "cell_type": "code",
   "execution_count": 38,
   "id": "prerequisite-richardson",
   "metadata": {},
   "outputs": [
    {
     "data": {
      "text/plain": [
       "100"
      ]
     },
     "execution_count": 38,
     "metadata": {},
     "output_type": "execute_result"
    }
   ],
   "source": [
    "dict1 = {'A':100, \"B\": 200, \"C\":300,\"D\":400, \"E\":500}\n",
    "dict1.get(\"A\")"
   ]
  },
  {
   "cell_type": "code",
   "execution_count": 40,
   "id": "difficult-creek",
   "metadata": {},
   "outputs": [
    {
     "data": {
      "text/plain": [
       "100"
      ]
     },
     "execution_count": 40,
     "metadata": {},
     "output_type": "execute_result"
    }
   ],
   "source": [
    "dict1 = {'A':100, \"B\": 200, \"C\":300,\"D\":400, \"E\":500}\n",
    "dict1[\"A\"]"
   ]
  },
  {
   "cell_type": "code",
   "execution_count": 42,
   "id": "confused-valuation",
   "metadata": {},
   "outputs": [
    {
     "data": {
      "text/plain": [
       "200"
      ]
     },
     "execution_count": 42,
     "metadata": {},
     "output_type": "execute_result"
    }
   ],
   "source": [
    "dict1 = {'A':100, \"B\": 200, \"C\":300,\"D\":400, \"E\":500}\n",
    "dict1.get(\"B\")"
   ]
  },
  {
   "cell_type": "code",
   "execution_count": 44,
   "id": "spiritual-scientist",
   "metadata": {},
   "outputs": [
    {
     "data": {
      "text/plain": [
       "200"
      ]
     },
     "execution_count": 44,
     "metadata": {},
     "output_type": "execute_result"
    }
   ],
   "source": [
    "dict1 = {'A':100, \"B\": 200, \"C\":300,\"D\":400, \"E\":500}\n",
    "dict1[\"B\"]"
   ]
  },
  {
   "cell_type": "code",
   "execution_count": 46,
   "id": "backed-bronze",
   "metadata": {},
   "outputs": [],
   "source": [
    "dict1 = {'A':100, \"B\": 200, \"C\":300,\"D\":400, \"E\":500}\n",
    "dict1.get(\"b\")"
   ]
  },
  {
   "cell_type": "code",
   "execution_count": 48,
   "id": "fiscal-tolerance",
   "metadata": {},
   "outputs": [
    {
     "ename": "KeyError",
     "evalue": "'b'",
     "output_type": "error",
     "traceback": [
      "\u001b[1;31m---------------------------------------------------------------------------\u001b[0m",
      "\u001b[1;31mKeyError\u001b[0m                                  Traceback (most recent call last)",
      "\u001b[1;32m<ipython-input-48-444b39cfd61e>\u001b[0m in \u001b[0;36m<module>\u001b[1;34m\u001b[0m\n\u001b[0;32m      1\u001b[0m \u001b[0mdict1\u001b[0m \u001b[1;33m=\u001b[0m \u001b[1;33m{\u001b[0m\u001b[1;34m'A'\u001b[0m\u001b[1;33m:\u001b[0m\u001b[1;36m100\u001b[0m\u001b[1;33m,\u001b[0m \u001b[1;34m\"B\"\u001b[0m\u001b[1;33m:\u001b[0m \u001b[1;36m200\u001b[0m\u001b[1;33m,\u001b[0m \u001b[1;34m\"C\"\u001b[0m\u001b[1;33m:\u001b[0m\u001b[1;36m300\u001b[0m\u001b[1;33m,\u001b[0m\u001b[1;34m\"D\"\u001b[0m\u001b[1;33m:\u001b[0m\u001b[1;36m400\u001b[0m\u001b[1;33m,\u001b[0m \u001b[1;34m\"E\"\u001b[0m\u001b[1;33m:\u001b[0m\u001b[1;36m500\u001b[0m\u001b[1;33m}\u001b[0m\u001b[1;33m\u001b[0m\u001b[1;33m\u001b[0m\u001b[0m\n\u001b[1;32m----> 2\u001b[1;33m \u001b[0mdict1\u001b[0m\u001b[1;33m[\u001b[0m\u001b[1;34m\"b\"\u001b[0m\u001b[1;33m]\u001b[0m\u001b[1;33m\u001b[0m\u001b[1;33m\u001b[0m\u001b[0m\n\u001b[0m",
      "\u001b[1;31mKeyError\u001b[0m: 'b'"
     ]
    }
   ],
   "source": [
    "dict1 = {'A':100, \"B\": 200, \"C\":300,\"D\":400, \"E\":500}\n",
    "dict1[\"b\"]"
   ]
  },
  {
   "cell_type": "code",
   "execution_count": 52,
   "id": "naval-geography",
   "metadata": {},
   "outputs": [
    {
     "name": "stdout",
     "output_type": "stream",
     "text": [
      "100\n"
     ]
    }
   ],
   "source": [
    "dict1 = {'A':100, \"B\": 200, \"C\":300,\"D\":400, \"E\":500}\n",
    "\n",
    "key1 = \"A\"\n",
    "if key1 in dict1:\n",
    "    print(dict1[key1])"
   ]
  },
  {
   "cell_type": "code",
   "execution_count": 55,
   "id": "parliamentary-audio",
   "metadata": {},
   "outputs": [
    {
     "name": "stdout",
     "output_type": "stream",
     "text": [
      "Key is not present\n"
     ]
    }
   ],
   "source": [
    "dict1 = {'A':100, \"B\": 200, \"C\":300,\"D\":400, \"E\":500}\n",
    "\n",
    "key1 = \"a\"\n",
    "if key1 in dict1: # False\n",
    "    print(dict1[key1])\n",
    "    \n",
    "else:\n",
    "    print(\"Key is not present\")"
   ]
  },
  {
   "cell_type": "code",
   "execution_count": 58,
   "id": "solid-funeral",
   "metadata": {},
   "outputs": [
    {
     "name": "stdout",
     "output_type": "stream",
     "text": [
      "Key is not present\n"
     ]
    }
   ],
   "source": [
    "dict1 = {'A':100, \"B\": 200, \"C\":300,\"D\":400, \"E\":500}\n",
    "\n",
    "key1 = \"a\"\n",
    "print(dict1[key1]) if key1 in dict1 else print(\"Key is not present\")\n"
   ]
  },
  {
   "cell_type": "code",
   "execution_count": 60,
   "id": "limiting-checklist",
   "metadata": {},
   "outputs": [
    {
     "name": "stdout",
     "output_type": "stream",
     "text": [
      "200\n"
     ]
    }
   ],
   "source": [
    "dict1 = {'A':100, \"B\": 200, \"C\":300,\"D\":400, \"E\":500}\n",
    "\n",
    "key1 = \"B\"\n",
    "print(dict1[key1]) if key1 in dict1 else print(\"Key is not present\")\n"
   ]
  },
  {
   "cell_type": "code",
   "execution_count": 62,
   "id": "injured-constant",
   "metadata": {},
   "outputs": [
    {
     "name": "stdout",
     "output_type": "stream",
     "text": [
      "None\n"
     ]
    }
   ],
   "source": [
    "dict1 = {'A':100, \"B\": 200, \"C\":300,\"D\":400, \"E\":500}\n",
    "print(dict1.get('a'))"
   ]
  },
  {
   "cell_type": "markdown",
   "id": "appropriate-domain",
   "metadata": {},
   "source": [
    "### 2. Keys()"
   ]
  },
  {
   "cell_type": "code",
   "execution_count": null,
   "id": "international-briefing",
   "metadata": {},
   "outputs": [],
   "source": [
    "dict.keys()"
   ]
  },
  {
   "cell_type": "code",
   "execution_count": 66,
   "id": "ethical-disaster",
   "metadata": {},
   "outputs": [
    {
     "data": {
      "text/plain": [
       "dict_keys(['A', 'B', 'C', 'D', 'E'])"
      ]
     },
     "execution_count": 66,
     "metadata": {},
     "output_type": "execute_result"
    }
   ],
   "source": [
    "dict1 = {'A':100, \"B\": 200, \"C\":300,\"D\":400, \"E\":500}\n",
    "dict1.keys()"
   ]
  },
  {
   "cell_type": "code",
   "execution_count": 68,
   "id": "marked-water",
   "metadata": {},
   "outputs": [
    {
     "data": {
      "text/plain": [
       "['A', 'B', 'C', 'D', 'E']"
      ]
     },
     "execution_count": 68,
     "metadata": {},
     "output_type": "execute_result"
    }
   ],
   "source": [
    "dict1 = {'A':100, \"B\": 200, \"C\":300,\"D\":400, \"E\":500}\n",
    "list(dict1.keys())"
   ]
  },
  {
   "cell_type": "code",
   "execution_count": 73,
   "id": "rational-guarantee",
   "metadata": {},
   "outputs": [
    {
     "name": "stdout",
     "output_type": "stream",
     "text": [
      "['A', 'B', 'C', 'D', 'E']\n",
      "Key is : A\n",
      "Key is : B\n",
      "Key is : C\n",
      "Key is : D\n",
      "Key is : E\n"
     ]
    }
   ],
   "source": [
    "dict1 = {'A':100, \"B\": 200, \"C\":300,\"D\":400, \"E\":500}\n",
    "x = list(dict1.keys())\n",
    "print(x)\n",
    "for key in x: \n",
    "    print(\"Key is :\",key)"
   ]
  },
  {
   "cell_type": "code",
   "execution_count": 75,
   "id": "breathing-acrylic",
   "metadata": {},
   "outputs": [
    {
     "data": {
      "text/plain": [
       "dict_keys(['Name', 'Age', 'Designation', 'Salary'])"
      ]
     },
     "execution_count": 75,
     "metadata": {},
     "output_type": "execute_result"
    }
   ],
   "source": [
    "employee_details = {\"Name\":\"Suraj\",\n",
    "                   \"Age\":28,\n",
    "                   \"Designation\": \"Data Scientist\",\n",
    "                   \"Salary\" : 80000}\n",
    "\n",
    "employee_details.keys()"
   ]
  },
  {
   "cell_type": "markdown",
   "id": "charitable-state",
   "metadata": {},
   "source": [
    "### 3. Values"
   ]
  },
  {
   "cell_type": "code",
   "execution_count": null,
   "id": "driving-objective",
   "metadata": {},
   "outputs": [],
   "source": [
    "dict.values()"
   ]
  },
  {
   "cell_type": "code",
   "execution_count": 77,
   "id": "unique-major",
   "metadata": {},
   "outputs": [
    {
     "data": {
      "text/plain": [
       "dict_values(['Suraj', 28, 'Data Scientist', 80000])"
      ]
     },
     "execution_count": 77,
     "metadata": {},
     "output_type": "execute_result"
    }
   ],
   "source": [
    "employee_details = {\"Name\":\"Suraj\",\n",
    "                   \"Age\":28,\n",
    "                   \"Designation\": \"Data Scientist\",\n",
    "                   \"Salary\" : 80000}\n",
    "\n",
    "employee_details.values()"
   ]
  },
  {
   "cell_type": "code",
   "execution_count": 79,
   "id": "material-account",
   "metadata": {},
   "outputs": [
    {
     "name": "stdout",
     "output_type": "stream",
     "text": [
      "Value is : Suraj\n",
      "Value is : 28\n",
      "Value is : Data Scientist\n",
      "Value is : 80000\n"
     ]
    }
   ],
   "source": [
    "for val in employee_details.values():\n",
    "    print(\"Value is :\",val)"
   ]
  },
  {
   "cell_type": "code",
   "execution_count": 82,
   "id": "filled-recruitment",
   "metadata": {},
   "outputs": [
    {
     "name": "stdout",
     "output_type": "stream",
     "text": [
      "['Suraj', 28, 'Data Scientist', 80000]\n",
      "Value is : Suraj\n",
      "Value is : 28\n",
      "Value is : Data Scientist\n",
      "Value is : 80000\n"
     ]
    }
   ],
   "source": [
    "list1 = list(employee_details.values())\n",
    "print(list1)\n",
    "for val in list1:\n",
    "    print(\"Value is :\",val)"
   ]
  },
  {
   "cell_type": "markdown",
   "id": "focused-macedonia",
   "metadata": {},
   "source": [
    "### 4. items()"
   ]
  },
  {
   "cell_type": "code",
   "execution_count": null,
   "id": "cooperative-thing",
   "metadata": {},
   "outputs": [],
   "source": [
    "dict.items()\n",
    "\n",
    "Return key and values of dictionary"
   ]
  },
  {
   "cell_type": "code",
   "execution_count": 120,
   "id": "intended-frost",
   "metadata": {},
   "outputs": [
    {
     "data": {
      "text/plain": [
       "dict_items([('Name', 'Suraj'), ('Age', 28), ('Designation', 'Data Scientist'), ('Salary', 80000)])"
      ]
     },
     "execution_count": 120,
     "metadata": {},
     "output_type": "execute_result"
    }
   ],
   "source": [
    "employee_details = {\"Name\":\"Suraj\",\n",
    "                   \"Age\":28,\n",
    "                   \"Designation\": \"Data Scientist\",\n",
    "                   \"Salary\" : 80000}\n",
    "\n",
    "employee_details.items()"
   ]
  },
  {
   "cell_type": "code",
   "execution_count": 122,
   "id": "expected-recognition",
   "metadata": {},
   "outputs": [
    {
     "name": "stdout",
     "output_type": "stream",
     "text": [
      "Name Suraj\n",
      "Age 28\n",
      "Designation Data Scientist\n",
      "Salary 80000\n"
     ]
    }
   ],
   "source": [
    "for key, value in employee_details.items():\n",
    "    print(key, value)"
   ]
  },
  {
   "cell_type": "code",
   "execution_count": 86,
   "id": "distributed-virus",
   "metadata": {},
   "outputs": [],
   "source": [
    "# list2 = [('Name', 'Suraj'), ('Age', 28), ('Designation', 'Data Scientist'), ('Salary', 80000)]"
   ]
  },
  {
   "cell_type": "code",
   "execution_count": 90,
   "id": "academic-north",
   "metadata": {},
   "outputs": [
    {
     "name": "stdout",
     "output_type": "stream",
     "text": [
      "10\n",
      "20\n",
      "30\n",
      "40\n",
      "50\n"
     ]
    }
   ],
   "source": [
    "list1 = [10,20,30,40,50]\n",
    "\n",
    "for i,item in enumerate(list1):\n",
    "    print(item)"
   ]
  },
  {
   "cell_type": "code",
   "execution_count": 113,
   "id": "connected-facing",
   "metadata": {},
   "outputs": [
    {
     "name": "stdout",
     "output_type": "stream",
     "text": [
      "value : (0, 10)\n",
      "value : (1, 20)\n",
      "value : (2, 30)\n",
      "value : (3, 40)\n",
      "value : (4, 50)\n"
     ]
    }
   ],
   "source": [
    "for value in list(enumerate(list1)):\n",
    "    print(\"value :\",value)"
   ]
  },
  {
   "cell_type": "code",
   "execution_count": 114,
   "id": "labeled-defendant",
   "metadata": {},
   "outputs": [
    {
     "data": {
      "text/plain": [
       "0"
      ]
     },
     "execution_count": 114,
     "metadata": {},
     "output_type": "execute_result"
    }
   ],
   "source": [
    "x, y = (0, 10)\n",
    "x"
   ]
  },
  {
   "cell_type": "code",
   "execution_count": 117,
   "id": "competitive-separation",
   "metadata": {},
   "outputs": [
    {
     "name": "stdout",
     "output_type": "stream",
     "text": [
      "x == 0, y == 10\n",
      "x == 1, y == 20\n",
      "x == 2, y == 30\n",
      "x == 3, y == 40\n",
      "x == 4, y == 50\n"
     ]
    }
   ],
   "source": [
    "for x,y in list(enumerate(list1)):\n",
    "    print(f\"x == {x}, y == {y}\")"
   ]
  },
  {
   "cell_type": "code",
   "execution_count": 119,
   "id": "adaptive-clinic",
   "metadata": {},
   "outputs": [
    {
     "name": "stdout",
     "output_type": "stream",
     "text": [
      "index == 10, value == 10\n",
      "index == 11, value == 20\n",
      "index == 12, value == 30\n",
      "index == 13, value == 40\n",
      "index == 14, value == 50\n"
     ]
    }
   ],
   "source": [
    "for index, value in list(enumerate(list1, start=10)):\n",
    "    print(f\"index == {index}, value == {value}\")"
   ]
  },
  {
   "cell_type": "code",
   "execution_count": 102,
   "id": "floral-guidance",
   "metadata": {},
   "outputs": [
    {
     "data": {
      "text/plain": [
       "10"
      ]
     },
     "execution_count": 102,
     "metadata": {},
     "output_type": "execute_result"
    }
   ],
   "source": [
    "x = (0, 10)\n",
    "x[0]\n",
    "x[1]"
   ]
  },
  {
   "cell_type": "code",
   "execution_count": 105,
   "id": "empty-reflection",
   "metadata": {},
   "outputs": [
    {
     "data": {
      "text/plain": [
       "10"
      ]
     },
     "execution_count": 105,
     "metadata": {},
     "output_type": "execute_result"
    }
   ],
   "source": [
    "x = 0, 10\n",
    "x[0]\n",
    "x[1]"
   ]
  },
  {
   "cell_type": "code",
   "execution_count": 111,
   "id": "outer-agreement",
   "metadata": {},
   "outputs": [
    {
     "data": {
      "text/plain": [
       "10"
      ]
     },
     "execution_count": 111,
     "metadata": {},
     "output_type": "execute_result"
    }
   ],
   "source": [
    "x = [0, 10]\n",
    "x[1]"
   ]
  },
  {
   "cell_type": "code",
   "execution_count": null,
   "id": "organic-obligation",
   "metadata": {},
   "outputs": [],
   "source": []
  },
  {
   "cell_type": "code",
   "execution_count": 96,
   "id": "damaged-console",
   "metadata": {},
   "outputs": [
    {
     "name": "stdout",
     "output_type": "stream",
     "text": [
      "(0, 10)\n",
      "1000\n",
      "(1, 20)\n",
      "(2, 30)\n",
      "3000\n",
      "(3, 40)\n",
      "(4, 50)\n"
     ]
    }
   ],
   "source": [
    "list3 = [(0, 10),1000, (1, 20), (2, 30), 3000,(3, 40), (4, 50)]\n",
    "\n",
    "for x in list3:\n",
    "    print(x)"
   ]
  },
  {
   "cell_type": "code",
   "execution_count": 127,
   "id": "intended-departure",
   "metadata": {},
   "outputs": [
    {
     "name": "stdout",
     "output_type": "stream",
     "text": [
      "key == Name, value == Suraj\n",
      "key == Age, value == 28\n",
      "key == Designation, value == Data Scientist\n",
      "key == Salary, value == 80000\n"
     ]
    }
   ],
   "source": [
    "for key, value in employee_details.items():\n",
    "    print(f\"key == {key}, value == {value}\")"
   ]
  },
  {
   "cell_type": "code",
   "execution_count": null,
   "id": "solid-sterling",
   "metadata": {},
   "outputs": [],
   "source": []
  },
  {
   "cell_type": "code",
   "execution_count": 132,
   "id": "smart-challenge",
   "metadata": {},
   "outputs": [
    {
     "name": "stdout",
     "output_type": "stream",
     "text": [
      "dict_keys(['Name', 'Age', 'Designation', 'Salary'])\n",
      "dict_values(['Suraj', 28, 'Data Scientist', 80000])\n",
      "dict_items([('Name', 'Suraj'), ('Age', 28), ('Designation', 'Data Scientist'), ('Salary', 80000)])\n"
     ]
    }
   ],
   "source": [
    "employee_details = {'Name': 'Suraj', 'Age': 28, \n",
    "                    'Designation': 'Data Scientist', 'Salary': 80000}\n",
    "\n",
    "print(employee_details.keys())\n",
    "print(employee_details.values())\n",
    "print(employee_details.items())"
   ]
  },
  {
   "cell_type": "code",
   "execution_count": 136,
   "id": "cutting-buffer",
   "metadata": {},
   "outputs": [
    {
     "data": {
      "text/plain": [
       "{'Name': 'Suraj', 'Age': 28, 'Designation': 'Data Scientist'}"
      ]
     },
     "execution_count": 136,
     "metadata": {},
     "output_type": "execute_result"
    }
   ],
   "source": [
    "x = [('Name', 'Suraj'), ('Age', 28), ('Designation', 'Data Scientist')]\n",
    "dict(x)"
   ]
  },
  {
   "cell_type": "code",
   "execution_count": 141,
   "id": "narrative-renaissance",
   "metadata": {},
   "outputs": [
    {
     "data": {
      "text/plain": [
       "'Suraj'"
      ]
     },
     "execution_count": 141,
     "metadata": {},
     "output_type": "execute_result"
    }
   ],
   "source": [
    "employee_details = {'Name': 'Suraj', 'Age': 28, \n",
    "                    'Designation': 'Data Scientist', 'Salary': 80000}\n",
    "\n",
    "employee_details['Name']"
   ]
  },
  {
   "cell_type": "code",
   "execution_count": 142,
   "id": "public-armstrong",
   "metadata": {},
   "outputs": [
    {
     "name": "stdout",
     "output_type": "stream",
     "text": [
      "Name Suraj\n",
      "Age 28\n",
      "Designation Data Scientist\n",
      "Salary 80000\n"
     ]
    }
   ],
   "source": [
    "for key in employee_details:\n",
    "    print(key, employee_details[key])"
   ]
  },
  {
   "cell_type": "code",
   "execution_count": 143,
   "id": "indian-inspiration",
   "metadata": {},
   "outputs": [
    {
     "name": "stdout",
     "output_type": "stream",
     "text": [
      "Name Suraj\n",
      "Age 28\n",
      "Designation Data Scientist\n",
      "Salary 80000\n"
     ]
    }
   ],
   "source": [
    "\n",
    "for key in employee_details.keys():\n",
    "    print(key, employee_details[key])"
   ]
  },
  {
   "cell_type": "markdown",
   "id": "appreciated-mileage",
   "metadata": {},
   "source": [
    "### 5. update()"
   ]
  },
  {
   "cell_type": "code",
   "execution_count": null,
   "id": "stable-accountability",
   "metadata": {},
   "outputs": [],
   "source": [
    "dict.update({key:value})\n",
    "\n",
    "Used to add two dictionaries"
   ]
  },
  {
   "cell_type": "code",
   "execution_count": 146,
   "id": "explicit-subject",
   "metadata": {},
   "outputs": [
    {
     "data": {
      "text/plain": [
       "'Suraj'"
      ]
     },
     "execution_count": 146,
     "metadata": {},
     "output_type": "execute_result"
    }
   ],
   "source": [
    "employee_details = {'Name': 'Suraj', 'Age': 28, \n",
    "                    'Designation': 'Data Scientist', 'Salary': 80000}\n",
    "\n",
    "employee_details[\"Name\"]"
   ]
  },
  {
   "cell_type": "code",
   "execution_count": 148,
   "id": "based-crest",
   "metadata": {},
   "outputs": [
    {
     "data": {
      "text/plain": [
       "{'Name': 'Rohit', 'Age': 28, 'Designation': 'Data Scientist', 'Salary': 80000}"
      ]
     },
     "execution_count": 148,
     "metadata": {},
     "output_type": "execute_result"
    }
   ],
   "source": [
    "employee_details = {'Name': 'Suraj', 'Age': 28, \n",
    "                    'Designation': 'Data Scientist', 'Salary': 80000}\n",
    "\n",
    "employee_details[\"Name\"] = \"Rohit\"\n",
    "employee_details"
   ]
  },
  {
   "cell_type": "code",
   "execution_count": 152,
   "id": "vanilla-anchor",
   "metadata": {},
   "outputs": [
    {
     "data": {
      "text/plain": [
       "{'Name': 'Suraj',\n",
       " 'Age': 28,\n",
       " 'Designation': 'Data Scientist',\n",
       " 'Salary': 80000,\n",
       " 'Emp_name': 'Rohit'}"
      ]
     },
     "execution_count": 152,
     "metadata": {},
     "output_type": "execute_result"
    }
   ],
   "source": [
    "employee_details = {'Name': 'Suraj', 'Age': 28, \n",
    "                    'Designation': 'Data Scientist', 'Salary': 80000}\n",
    "\n",
    "employee_details[\"Emp_name\"] = \"Rohit\"\n",
    "employee_details"
   ]
  },
  {
   "cell_type": "code",
   "execution_count": 154,
   "id": "scientific-barbados",
   "metadata": {},
   "outputs": [
    {
     "data": {
      "text/plain": [
       "{'Name': 'Suraj', 'Age': 28, 'Designation': 'Data Scientist', 'Salary': 90000}"
      ]
     },
     "execution_count": 154,
     "metadata": {},
     "output_type": "execute_result"
    }
   ],
   "source": [
    "employee_details = {'Name': 'Suraj', 'Age': 28, \n",
    "                    'Designation': 'Data Scientist', 'Salary': 80000}\n",
    "\n",
    "employee_details[\"Salary\"] = 90000\n",
    "employee_details"
   ]
  },
  {
   "cell_type": "code",
   "execution_count": 155,
   "id": "equal-editing",
   "metadata": {},
   "outputs": [
    {
     "data": {
      "text/plain": [
       "{'Name': 'Suraj',\n",
       " 'Age': 28,\n",
       " 'Designation': 'Data Scientist',\n",
       " 'Salary': 80000,\n",
       " 'salary': 90000}"
      ]
     },
     "execution_count": 155,
     "metadata": {},
     "output_type": "execute_result"
    }
   ],
   "source": [
    "employee_details = {'Name': 'Suraj', 'Age': 28, \n",
    "                    'Designation': 'Data Scientist', 'Salary': 80000}\n",
    "\n",
    "employee_details[\"salary\"] = 90000\n",
    "employee_details"
   ]
  },
  {
   "cell_type": "code",
   "execution_count": 158,
   "id": "utility-astronomy",
   "metadata": {},
   "outputs": [
    {
     "data": {
      "text/plain": [
       "{'Designation': 'Data Scientist', 'Salary': 80000}"
      ]
     },
     "execution_count": 158,
     "metadata": {},
     "output_type": "execute_result"
    }
   ],
   "source": [
    "employee_details1 = {'Name': 'Suraj', 'Age': 28}\n",
    "employee_details2 = {'Designation': 'Data Scientist', 'Salary': 80000}\n",
    "employee_details1\n",
    "employee_details2"
   ]
  },
  {
   "cell_type": "code",
   "execution_count": 159,
   "id": "everyday-wayne",
   "metadata": {},
   "outputs": [
    {
     "data": {
      "text/plain": [
       "{'Name': 'Suraj', 'Age': 28, 'Designation': 'Data Scientist', 'Salary': 80000}"
      ]
     },
     "execution_count": 159,
     "metadata": {},
     "output_type": "execute_result"
    }
   ],
   "source": [
    "employee_details1.update(employee_details2)\n",
    "\n",
    "employee_details1"
   ]
  },
  {
   "cell_type": "code",
   "execution_count": 162,
   "id": "accurate-commodity",
   "metadata": {},
   "outputs": [
    {
     "data": {
      "text/plain": [
       "{'Designation': 'Data Scientist', 'Salary': 80000, 'Name': 'Suraj', 'Age': 28}"
      ]
     },
     "execution_count": 162,
     "metadata": {},
     "output_type": "execute_result"
    }
   ],
   "source": [
    "employee_details1 = {'Name': 'Suraj', 'Age': 28}\n",
    "employee_details2 = {'Designation': 'Data Scientist', 'Salary': 80000}\n",
    "\n",
    "employee_details2.update(employee_details1)\n",
    "\n",
    "employee_details2"
   ]
  },
  {
   "cell_type": "code",
   "execution_count": 164,
   "id": "blessed-plain",
   "metadata": {},
   "outputs": [
    {
     "data": {
      "text/plain": [
       "{'Name': 'Suraj', 'Age': 28, 'Designation': 'Data Scientist'}"
      ]
     },
     "execution_count": 164,
     "metadata": {},
     "output_type": "execute_result"
    }
   ],
   "source": [
    "employee_details1 = {'Name': 'Suraj', 'Age': 28}\n",
    "\n",
    "employee_details1.update({'Designation': 'Data Scientist'})\n",
    "\n",
    "employee_details1"
   ]
  },
  {
   "cell_type": "code",
   "execution_count": 166,
   "id": "blind-mongolia",
   "metadata": {},
   "outputs": [
    {
     "data": {
      "text/plain": [
       "{'Name': 'Suraj', 'Age': 30}"
      ]
     },
     "execution_count": 166,
     "metadata": {},
     "output_type": "execute_result"
    }
   ],
   "source": [
    "employee_details1 = {'Name': 'Suraj', 'Age': 28}\n",
    "\n",
    "employee_details1.update({'Age': 30})\n",
    "\n",
    "employee_details1"
   ]
  },
  {
   "cell_type": "code",
   "execution_count": 168,
   "id": "empirical-insurance",
   "metadata": {},
   "outputs": [
    {
     "data": {
      "text/plain": [
       "{'Name': 'Suraj', 'Age': 28}"
      ]
     },
     "execution_count": 168,
     "metadata": {},
     "output_type": "execute_result"
    }
   ],
   "source": [
    "employee_details1 = {'Name': 'Suraj', 'Age': 28}\n",
    "employee_details1.update(employee_details1)\n",
    "employee_details1"
   ]
  },
  {
   "cell_type": "code",
   "execution_count": 171,
   "id": "educational-hartford",
   "metadata": {},
   "outputs": [
    {
     "data": {
      "text/plain": [
       "{'Name': 'Suraj', 'Age': 28, 'age': 30}"
      ]
     },
     "execution_count": 171,
     "metadata": {},
     "output_type": "execute_result"
    }
   ],
   "source": [
    "employee_details1 = {'Name': 'Suraj', 'Age': 28}\n",
    "\n",
    "employee_details1.update({'age': 30})\n",
    "\n",
    "employee_details1"
   ]
  },
  {
   "cell_type": "code",
   "execution_count": 178,
   "id": "promotional-daisy",
   "metadata": {},
   "outputs": [
    {
     "name": "stdout",
     "output_type": "stream",
     "text": [
      "{3: 9}\n",
      "{3: 9, 1: 1}\n",
      "{3: 9, 1: 1, 6: 36}\n",
      "{3: 9, 1: 1, 6: 36, 7: 49}\n",
      "{3: 9, 1: 1, 6: 36, 7: 49, 9: 81}\n",
      "{3: 9, 1: 1, 6: 36, 7: 49, 9: 81, 10: 100}\n"
     ]
    }
   ],
   "source": [
    "list1 = [3,1,6,7,9,10]\n",
    "\n",
    "sqr = {}\n",
    "for i in list1:\n",
    "    sqr.update({i : i**2})\n",
    "    print(sqr)"
   ]
  },
  {
   "cell_type": "code",
   "execution_count": 179,
   "id": "combined-backing",
   "metadata": {},
   "outputs": [
    {
     "name": "stdout",
     "output_type": "stream",
     "text": [
      "{}\n",
      "{'Name': 'Rohit'}\n",
      "{'Name': 'Rohit', 'age': 30}\n"
     ]
    }
   ],
   "source": [
    "x = {}\n",
    "print(x)\n",
    "x.update({'Name' : 'Rohit'})\n",
    "print(x)\n",
    "\n",
    "x.update({\"age\":30})\n",
    "print(x)\n"
   ]
  },
  {
   "cell_type": "code",
   "execution_count": 181,
   "id": "imported-funeral",
   "metadata": {},
   "outputs": [
    {
     "name": "stdout",
     "output_type": "stream",
     "text": [
      "{3: 9, 1: 1, 6: 36, 7: 49, 9: 81, 10: 100}\n"
     ]
    }
   ],
   "source": [
    "list1 = [3,1,6,7,9,10]\n",
    "sqr = {}\n",
    "for i in list1:\n",
    "    sqr.update({i : i**2})\n",
    "print(sqr)"
   ]
  },
  {
   "cell_type": "code",
   "execution_count": 183,
   "id": "unavailable-sociology",
   "metadata": {},
   "outputs": [
    {
     "name": "stdout",
     "output_type": "stream",
     "text": [
      "{}\n"
     ]
    },
    {
     "data": {
      "text/plain": [
       "{'Name': 'Rohit'}"
      ]
     },
     "execution_count": 183,
     "metadata": {},
     "output_type": "execute_result"
    }
   ],
   "source": [
    "d1 = {}\n",
    "print(d1)\n",
    "d1['Name'] = 'Rohit'\n",
    "d1"
   ]
  },
  {
   "cell_type": "code",
   "execution_count": 186,
   "id": "extensive-reverse",
   "metadata": {},
   "outputs": [
    {
     "name": "stdout",
     "output_type": "stream",
     "text": [
      "{3: 100}\n",
      "{3: 100, 2: 100}\n",
      "{3: 100, 2: 100, 6: 100}\n",
      "{3: 100, 2: 100, 6: 100, 7: 100}\n",
      "{3: 100, 2: 100, 6: 100, 7: 100, 9: 100}\n",
      "{3: 100, 2: 100, 6: 100, 7: 100, 9: 100, 10: 100}\n"
     ]
    }
   ],
   "source": [
    "list1 = [3,2,6,7,9,10]\n",
    "sqr = {}\n",
    "for i in list1:\n",
    "    sqr[i] = 100\n",
    "    print(sqr)"
   ]
  },
  {
   "cell_type": "code",
   "execution_count": 187,
   "id": "seeing-latin",
   "metadata": {},
   "outputs": [
    {
     "name": "stdout",
     "output_type": "stream",
     "text": [
      "{3: 9}\n",
      "{3: 9, 2: 4}\n",
      "{3: 9, 2: 4, 6: 36}\n",
      "{3: 9, 2: 4, 6: 36, 7: 49}\n",
      "{3: 9, 2: 4, 6: 36, 7: 49, 9: 81}\n",
      "{3: 9, 2: 4, 6: 36, 7: 49, 9: 81, 10: 100}\n"
     ]
    }
   ],
   "source": [
    "list1 = [3,2,6,7,9,10]\n",
    "sqr = {}\n",
    "for i in list1:\n",
    "    sqr[i] = i**2\n",
    "    print(sqr)"
   ]
  },
  {
   "cell_type": "code",
   "execution_count": 192,
   "id": "declared-nitrogen",
   "metadata": {},
   "outputs": [
    {
     "name": "stdout",
     "output_type": "stream",
     "text": [
      "phy\n",
      "che\n",
      "math\n",
      "eng\n",
      "bio\n"
     ]
    }
   ],
   "source": [
    "subject_names = ['phy','che','math','eng','bio']\n",
    "marks = [92,94,91,92,95]\n",
    "# sub_marks = {'phy' :92, 'che':94}\n",
    "sub_marks = {}\n",
    "\n",
    "for i,subject in enumerate(subject_names):\n",
    "    print(subject)"
   ]
  },
  {
   "cell_type": "code",
   "execution_count": 194,
   "id": "italic-kidney",
   "metadata": {},
   "outputs": [
    {
     "name": "stdout",
     "output_type": "stream",
     "text": [
      "0\n",
      "1\n",
      "2\n",
      "3\n",
      "4\n"
     ]
    }
   ],
   "source": [
    "subject_names = ['phy','che','math','eng','bio']\n",
    "marks = [92,94,91,92,95]\n",
    "# sub_marks = {'phy' :92, 'che':94}\n",
    "sub_marks = {}\n",
    "\n",
    "for i,subject in enumerate(subject_names):\n",
    "    print(i)"
   ]
  },
  {
   "cell_type": "code",
   "execution_count": 196,
   "id": "linear-pacific",
   "metadata": {},
   "outputs": [
    {
     "name": "stdout",
     "output_type": "stream",
     "text": [
      "0 92\n",
      "1 94\n",
      "2 91\n",
      "3 92\n",
      "4 95\n"
     ]
    }
   ],
   "source": [
    "subject_names = ['phy','che','math','eng','bio']\n",
    "marks = [92,94,91,92,95]\n",
    "# sub_marks = {'phy' :92, 'che':94}\n",
    "sub_marks = {}\n",
    "\n",
    "for i,subject in enumerate(subject_names):\n",
    "    print(i,marks[i])"
   ]
  },
  {
   "cell_type": "code",
   "execution_count": 200,
   "id": "early-logging",
   "metadata": {},
   "outputs": [
    {
     "name": "stdout",
     "output_type": "stream",
     "text": [
      "0 phy 92\n",
      "******************************\n",
      "1 che 94\n",
      "******************************\n",
      "2 math 91\n",
      "******************************\n",
      "3 eng 92\n",
      "******************************\n",
      "4 bio 95\n",
      "******************************\n"
     ]
    }
   ],
   "source": [
    "subject_names = ['phy','che','math','eng','bio']\n",
    "marks = [92,94,91,92,95]\n",
    "# sub_marks = {'phy' :92, 'che':94}\n",
    "sub_marks = {}\n",
    "\n",
    "for i,subject in enumerate(subject_names):\n",
    "    print(i,subject,marks[i])\n",
    "    print(\"*\"*30)"
   ]
  },
  {
   "cell_type": "code",
   "execution_count": 202,
   "id": "danish-rabbit",
   "metadata": {},
   "outputs": [
    {
     "name": "stdout",
     "output_type": "stream",
     "text": [
      "{'phy': 92}\n",
      "******************************\n",
      "{'phy': 92, 'che': 94}\n",
      "******************************\n",
      "{'phy': 92, 'che': 94, 'math': 91}\n",
      "******************************\n",
      "{'phy': 92, 'che': 94, 'math': 91, 'eng': 92}\n",
      "******************************\n",
      "{'phy': 92, 'che': 94, 'math': 91, 'eng': 92, 'bio': 95}\n",
      "******************************\n"
     ]
    }
   ],
   "source": [
    "subject_names = ['phy','che','math','eng','bio']\n",
    "marks = [92,94,91,92,95]\n",
    "# sub_marks = {'phy' :92, 'che':94}\n",
    "sub_marks = {}\n",
    "\n",
    "for i,subject in enumerate(subject_names):\n",
    "    sub_marks.update({subject : marks[i]})\n",
    "    print(sub_marks)\n",
    "\n",
    "    print(\"*\"*30)"
   ]
  },
  {
   "cell_type": "code",
   "execution_count": 204,
   "id": "mexican-antigua",
   "metadata": {},
   "outputs": [
    {
     "name": "stdout",
     "output_type": "stream",
     "text": [
      "{'phy': 92}\n",
      "{'phy': 92, 'che': 94}\n",
      "{'phy': 92, 'che': 94, 'math': 91}\n",
      "{'phy': 92, 'che': 94, 'math': 91, 'eng': 92}\n",
      "{'phy': 92, 'che': 94, 'math': 91, 'eng': 92, 'bio': 95}\n"
     ]
    }
   ],
   "source": [
    "subject_names = ['phy','che','math','eng','bio']\n",
    "marks = [92,94,91,92,95]\n",
    "sub_marks = {}\n",
    "\n",
    "for i,subject in enumerate(subject_names):\n",
    "    sub_marks.update({subject : marks[i]})\n",
    "    print(sub_marks)"
   ]
  },
  {
   "cell_type": "code",
   "execution_count": 206,
   "id": "crucial-surveillance",
   "metadata": {},
   "outputs": [
    {
     "name": "stdout",
     "output_type": "stream",
     "text": [
      "{'phy': 92, 'che': 94, 'math': 91, 'eng': 92, 'bio': 95}\n"
     ]
    }
   ],
   "source": [
    "subject_names = ['phy','che','math','eng','bio']\n",
    "marks = [92,94,91,92,95]\n",
    "sub_marks = {}\n",
    "\n",
    "for i,subject in enumerate(subject_names):\n",
    "    sub_marks.update({subject : marks[i]})\n",
    "print(sub_marks)"
   ]
  },
  {
   "cell_type": "code",
   "execution_count": 209,
   "id": "framed-python",
   "metadata": {},
   "outputs": [
    {
     "name": "stdout",
     "output_type": "stream",
     "text": [
      "{'phy': 92}\n",
      "{'phy': 92, 'che': 94}\n",
      "{'phy': 92, 'che': 94, 'math': 91}\n",
      "{'phy': 92, 'che': 94, 'math': 91, 'eng': 92}\n",
      "{'phy': 92, 'che': 94, 'math': 91, 'eng': 92, 'bio': 95}\n"
     ]
    }
   ],
   "source": [
    "subject_names = ['phy','che','math','eng','bio']\n",
    "marks = [92,94,91,92,95]\n",
    "sub_marks = {}\n",
    "\n",
    "for i,subject in enumerate(subject_names):    \n",
    "    sub_marks[subject] = marks[i]\n",
    "    print(sub_marks)"
   ]
  },
  {
   "cell_type": "code",
   "execution_count": 210,
   "id": "sharp-attention",
   "metadata": {},
   "outputs": [
    {
     "name": "stdout",
     "output_type": "stream",
     "text": [
      "{'phy': 92, 'che': 94, 'math': 91, 'eng': 92, 'bio': 95}\n"
     ]
    }
   ],
   "source": [
    "subject_names = ['phy','che','math','eng','bio']\n",
    "marks = [92,94,91,92,95]\n",
    "sub_marks = {}\n",
    "\n",
    "for i,subject in enumerate(subject_names):    \n",
    "    sub_marks[subject] = marks[i]\n",
    "print(sub_marks)"
   ]
  },
  {
   "cell_type": "markdown",
   "id": "billion-perception",
   "metadata": {},
   "source": [
    "# Delete items from dictionary"
   ]
  },
  {
   "cell_type": "code",
   "execution_count": null,
   "id": "olympic-samuel",
   "metadata": {},
   "outputs": [],
   "source": [
    "1. pop()\n",
    "2. popitem()\n",
    "3. clear()"
   ]
  },
  {
   "cell_type": "code",
   "execution_count": 212,
   "id": "confused-nightmare",
   "metadata": {},
   "outputs": [
    {
     "data": {
      "text/plain": [
       "{'phy': 92, 'che': 94, 'math': 91, 'eng': 92, 'bio': 95}"
      ]
     },
     "execution_count": 212,
     "metadata": {},
     "output_type": "execute_result"
    }
   ],
   "source": [
    "result = {'phy': 92, 'che': 94, 'math': 91, 'eng': 92, 'bio': 95}\n",
    "result"
   ]
  },
  {
   "cell_type": "markdown",
   "id": "respected-gibson",
   "metadata": {},
   "source": [
    "### 1. pop"
   ]
  },
  {
   "cell_type": "code",
   "execution_count": null,
   "id": "developing-thread",
   "metadata": {},
   "outputs": [],
   "source": [
    "dict.pop(key)"
   ]
  },
  {
   "cell_type": "code",
   "execution_count": 214,
   "id": "naval-exclusion",
   "metadata": {},
   "outputs": [
    {
     "name": "stdout",
     "output_type": "stream",
     "text": [
      "{'phy': 92, 'che': 94, 'eng': 92, 'bio': 95}\n"
     ]
    }
   ],
   "source": [
    "result = {'phy': 92, 'che': 94, 'math': 91, 'eng': 92, 'bio': 95}\n",
    "result.pop('math')\n",
    "print(result)"
   ]
  },
  {
   "cell_type": "code",
   "execution_count": 215,
   "id": "behind-secondary",
   "metadata": {},
   "outputs": [
    {
     "name": "stdout",
     "output_type": "stream",
     "text": [
      "{'phy': 92, 'math': 91, 'eng': 92, 'bio': 95}\n"
     ]
    }
   ],
   "source": [
    "result = {'phy': 92, 'che': 94, 'math': 91, 'eng': 92, 'bio': 95}\n",
    "result.pop('che')\n",
    "print(result)"
   ]
  },
  {
   "cell_type": "code",
   "execution_count": 217,
   "id": "indian-muslim",
   "metadata": {},
   "outputs": [
    {
     "ename": "KeyError",
     "evalue": "'MATH'",
     "output_type": "error",
     "traceback": [
      "\u001b[1;31m---------------------------------------------------------------------------\u001b[0m",
      "\u001b[1;31mKeyError\u001b[0m                                  Traceback (most recent call last)",
      "\u001b[1;32m<ipython-input-217-19de5fc50b28>\u001b[0m in \u001b[0;36m<module>\u001b[1;34m\u001b[0m\n\u001b[0;32m      1\u001b[0m \u001b[0mresult\u001b[0m \u001b[1;33m=\u001b[0m \u001b[1;33m{\u001b[0m\u001b[1;34m'phy'\u001b[0m\u001b[1;33m:\u001b[0m \u001b[1;36m92\u001b[0m\u001b[1;33m,\u001b[0m \u001b[1;34m'che'\u001b[0m\u001b[1;33m:\u001b[0m \u001b[1;36m94\u001b[0m\u001b[1;33m,\u001b[0m \u001b[1;34m'math'\u001b[0m\u001b[1;33m:\u001b[0m \u001b[1;36m91\u001b[0m\u001b[1;33m,\u001b[0m \u001b[1;34m'eng'\u001b[0m\u001b[1;33m:\u001b[0m \u001b[1;36m92\u001b[0m\u001b[1;33m,\u001b[0m \u001b[1;34m'bio'\u001b[0m\u001b[1;33m:\u001b[0m \u001b[1;36m95\u001b[0m\u001b[1;33m}\u001b[0m\u001b[1;33m\u001b[0m\u001b[1;33m\u001b[0m\u001b[0m\n\u001b[1;32m----> 2\u001b[1;33m \u001b[0mresult\u001b[0m\u001b[1;33m.\u001b[0m\u001b[0mpop\u001b[0m\u001b[1;33m(\u001b[0m\u001b[1;34m'MATH'\u001b[0m\u001b[1;33m)\u001b[0m\u001b[1;33m\u001b[0m\u001b[1;33m\u001b[0m\u001b[0m\n\u001b[0m\u001b[0;32m      3\u001b[0m \u001b[0mprint\u001b[0m\u001b[1;33m(\u001b[0m\u001b[0mresult\u001b[0m\u001b[1;33m)\u001b[0m\u001b[1;33m\u001b[0m\u001b[1;33m\u001b[0m\u001b[0m\n",
      "\u001b[1;31mKeyError\u001b[0m: 'MATH'"
     ]
    }
   ],
   "source": [
    "result = {'phy': 92, 'che': 94, 'math': 91, 'eng': 92, 'bio': 95}\n",
    "result.pop('MATH')\n",
    "print(result)"
   ]
  },
  {
   "cell_type": "markdown",
   "id": "controlled-bearing",
   "metadata": {},
   "source": [
    "## 2. popitem()"
   ]
  },
  {
   "cell_type": "code",
   "execution_count": null,
   "id": "specialized-updating",
   "metadata": {},
   "outputs": [],
   "source": [
    "dict.popitem()\n",
    "\n",
    "It will delete last inserted item "
   ]
  },
  {
   "cell_type": "code",
   "execution_count": 220,
   "id": "indie-arrangement",
   "metadata": {},
   "outputs": [
    {
     "name": "stdout",
     "output_type": "stream",
     "text": [
      "{'phy': 92, 'che': 94, 'math': 91, 'eng': 92}\n"
     ]
    }
   ],
   "source": [
    "result = {'phy': 92, 'che': 94, 'math': 91, 'eng': 92, 'bio': 95}\n",
    "result.popitem()\n",
    "print(result)"
   ]
  },
  {
   "cell_type": "code",
   "execution_count": 223,
   "id": "suburban-circle",
   "metadata": {},
   "outputs": [
    {
     "name": "stdout",
     "output_type": "stream",
     "text": [
      "{'phy': 92, 'che': 94, 'math': 91, 'eng': 92, 'bio': 95, 'Python': 100}\n",
      "{'phy': 92, 'che': 94, 'math': 91, 'eng': 92, 'bio': 95}\n"
     ]
    }
   ],
   "source": [
    "result = {'phy': 92, 'che': 94, 'math': 91, 'eng': 92, 'bio': 95}\n",
    "result.update({\"Python\":100})\n",
    "print(result)\n",
    "result.popitem()\n",
    "print(result)"
   ]
  },
  {
   "cell_type": "markdown",
   "id": "sufficient-execution",
   "metadata": {},
   "source": [
    "### 3. clear()"
   ]
  },
  {
   "cell_type": "code",
   "execution_count": null,
   "id": "copyrighted-letters",
   "metadata": {},
   "outputs": [],
   "source": [
    "dict.clear()\n",
    "Delete all items from dictionary"
   ]
  },
  {
   "cell_type": "code",
   "execution_count": 224,
   "id": "asian-chapter",
   "metadata": {},
   "outputs": [
    {
     "name": "stdout",
     "output_type": "stream",
     "text": [
      "{}\n"
     ]
    }
   ],
   "source": [
    "result = {'phy': 92, 'che': 94, 'math': 91, 'eng': 92, 'bio': 95}\n",
    "result.clear()\n",
    "print(result)"
   ]
  },
  {
   "cell_type": "markdown",
   "id": "english-hypothesis",
   "metadata": {},
   "source": [
    "#### 4. del keyword"
   ]
  },
  {
   "cell_type": "code",
   "execution_count": 226,
   "id": "bronze-alignment",
   "metadata": {},
   "outputs": [
    {
     "data": {
      "text/plain": [
       "92"
      ]
     },
     "execution_count": 226,
     "metadata": {},
     "output_type": "execute_result"
    }
   ],
   "source": [
    "result = {'phy': 92, 'che': 94, 'math': 91, 'eng': 92, 'bio': 95}\n",
    "result['phy']"
   ]
  },
  {
   "cell_type": "code",
   "execution_count": 229,
   "id": "sufficient-patch",
   "metadata": {},
   "outputs": [
    {
     "name": "stdout",
     "output_type": "stream",
     "text": [
      "{'che': 94, 'math': 91, 'eng': 92, 'bio': 95}\n"
     ]
    }
   ],
   "source": [
    "result = {'phy': 92, 'che': 94, 'math': 91, 'eng': 92, 'bio': 95}\n",
    "del result['phy']\n",
    "\n",
    "print(result)"
   ]
  },
  {
   "cell_type": "code",
   "execution_count": 231,
   "id": "stainless-pocket",
   "metadata": {},
   "outputs": [
    {
     "data": {
      "text/plain": [
       "20"
      ]
     },
     "execution_count": 231,
     "metadata": {},
     "output_type": "execute_result"
    }
   ],
   "source": [
    "list2 = [10,20,30,40]\n",
    "list2[1]"
   ]
  },
  {
   "cell_type": "code",
   "execution_count": null,
   "id": "pointed-means",
   "metadata": {},
   "outputs": [],
   "source": []
  },
  {
   "cell_type": "code",
   "execution_count": 232,
   "id": "clear-preparation",
   "metadata": {},
   "outputs": [
    {
     "name": "stdout",
     "output_type": "stream",
     "text": [
      "[10, 30, 40]\n"
     ]
    }
   ],
   "source": [
    "list2 = [10,20,30,40]\n",
    "del list2[1]\n",
    "print(list2)"
   ]
  }
 ],
 "metadata": {
  "kernelspec": {
   "display_name": "Python 3 (ipykernel)",
   "language": "python",
   "name": "python3"
  },
  "language_info": {
   "codemirror_mode": {
    "name": "ipython",
    "version": 3
   },
   "file_extension": ".py",
   "mimetype": "text/x-python",
   "name": "python",
   "nbconvert_exporter": "python",
   "pygments_lexer": "ipython3",
   "version": "3.9.12"
  }
 },
 "nbformat": 4,
 "nbformat_minor": 5
}
