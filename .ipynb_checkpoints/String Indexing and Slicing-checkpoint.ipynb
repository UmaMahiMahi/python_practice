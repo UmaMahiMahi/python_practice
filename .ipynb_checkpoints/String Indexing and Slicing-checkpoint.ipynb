{
 "cells": [
  {
   "cell_type": "markdown",
   "id": "weighted-martin",
   "metadata": {},
   "source": [
    "# String Indexing and Slicing"
   ]
  },
  {
   "cell_type": "code",
   "execution_count": null,
   "id": "historical-sitting",
   "metadata": {},
   "outputs": [],
   "source": [
    "Indexing will always starts from zero"
   ]
  },
  {
   "cell_type": "code",
   "execution_count": 2,
   "id": "aware-reputation",
   "metadata": {},
   "outputs": [
    {
     "data": {
      "text/plain": [
       "6"
      ]
     },
     "execution_count": 2,
     "metadata": {},
     "output_type": "execute_result"
    }
   ],
   "source": [
    "string = \"python\"\n",
    "len(string)"
   ]
  },
  {
   "cell_type": "code",
   "execution_count": 11,
   "id": "written-condition",
   "metadata": {},
   "outputs": [
    {
     "data": {
      "text/plain": [
       "'n'"
      ]
     },
     "execution_count": 11,
     "metadata": {},
     "output_type": "execute_result"
    }
   ],
   "source": [
    "string = \"python\"\n",
    "\n",
    "string[0]\n",
    "string[1]\n",
    "string[2]\n",
    "string[3]\n",
    "string[4]\n",
    "string[5]\n"
   ]
  },
  {
   "cell_type": "code",
   "execution_count": 19,
   "id": "thousand-needle",
   "metadata": {},
   "outputs": [
    {
     "name": "stdout",
     "output_type": "stream",
     "text": [
      "Length of string is : 16\n"
     ]
    },
    {
     "data": {
      "text/plain": [
       "'g'"
      ]
     },
     "execution_count": 19,
     "metadata": {},
     "output_type": "execute_result"
    }
   ],
   "source": [
    "string = \"machine learning\"\n",
    "length = len(string)\n",
    "print(\"Length of string is :\",length)\n",
    "string[0]\n",
    "string[1]\n",
    "string[2]\n",
    "string[3]\n",
    "string[4]\n",
    "string[5]\n",
    "string[6]\n",
    "string[7]\n",
    "string[8]\n",
    "string[15]\n",
    "\n",
    "string[length - 1] # string[16-1] >> string[15]\n"
   ]
  },
  {
   "cell_type": "code",
   "execution_count": null,
   "id": "multiple-removal",
   "metadata": {},
   "outputs": [],
   "source": [
    "string       =    p    y    t    h    o    n\n",
    "pos indexing =    0    1    2    3    4    5\n"
   ]
  },
  {
   "cell_type": "markdown",
   "id": "tight-norman",
   "metadata": {},
   "source": [
    "# Negative Indexing"
   ]
  },
  {
   "cell_type": "code",
   "execution_count": 26,
   "id": "vulnerable-harvey",
   "metadata": {},
   "outputs": [
    {
     "data": {
      "text/plain": [
       "'P'"
      ]
     },
     "execution_count": 26,
     "metadata": {},
     "output_type": "execute_result"
    }
   ],
   "source": [
    "string = \"Python\"\n",
    "string[-1] # n\n",
    "string[-2] # o\n",
    "string[-3] # h\n",
    "string[-4] # t\n",
    "string[-5] # y\n",
    "string[-6] # P"
   ]
  },
  {
   "cell_type": "code",
   "execution_count": null,
   "id": "specialized-maryland",
   "metadata": {},
   "outputs": [],
   "source": [
    "string       =    p    y    t    h    o    n\n",
    "pos indexing =    0    1    2    3    4    5\n",
    "Neg Indexing =   -6   -5   -4   -3   -2   -1"
   ]
  },
  {
   "cell_type": "code",
   "execution_count": 30,
   "id": "vietnamese-dependence",
   "metadata": {},
   "outputs": [
    {
     "name": "stdout",
     "output_type": "stream",
     "text": [
      "y\n",
      "y\n"
     ]
    }
   ],
   "source": [
    "string = 'python'\n",
    "print(string[1])\n",
    "print(string[-5])"
   ]
  },
  {
   "cell_type": "code",
   "execution_count": 32,
   "id": "respiratory-canada",
   "metadata": {},
   "outputs": [
    {
     "name": "stdout",
     "output_type": "stream",
     "text": [
      "o\n",
      "o\n"
     ]
    }
   ],
   "source": [
    "string = 'python'\n",
    "print(string[4])\n",
    "print(string[-2])"
   ]
  },
  {
   "cell_type": "code",
   "execution_count": 66,
   "id": "through-repair",
   "metadata": {},
   "outputs": [
    {
     "name": "stdout",
     "output_type": "stream",
     "text": [
      "n\n",
      "n\n",
      "n\n"
     ]
    }
   ],
   "source": [
    "string = 'python'\n",
    "print(string[5])\n",
    "print(string[len(string)-1])\n",
    "print(string[-1])"
   ]
  },
  {
   "cell_type": "markdown",
   "id": "funky-carolina",
   "metadata": {},
   "source": [
    "# String Slicing "
   ]
  },
  {
   "cell_type": "code",
   "execution_count": null,
   "id": "terminal-wisconsin",
   "metadata": {},
   "outputs": [],
   "source": [
    "string = [start_index : end_index]\n",
    "start_index >> Include\n",
    "end_index >> Exclude\n",
    "\n",
    "Default start_index >> 0\n",
    "Default End Index >> len(string)"
   ]
  },
  {
   "cell_type": "code",
   "execution_count": 35,
   "id": "theoretical-fortune",
   "metadata": {},
   "outputs": [
    {
     "data": {
      "text/plain": [
       "'yth'"
      ]
     },
     "execution_count": 35,
     "metadata": {},
     "output_type": "execute_result"
    }
   ],
   "source": [
    "string = \"python\"\n",
    "string[1:4]  # 4-1 >> 3 char in output >> 1,2,3"
   ]
  },
  {
   "cell_type": "code",
   "execution_count": 36,
   "id": "intermediate-thanksgiving",
   "metadata": {},
   "outputs": [
    {
     "data": {
      "text/plain": [
       "'tho'"
      ]
     },
     "execution_count": 36,
     "metadata": {},
     "output_type": "execute_result"
    }
   ],
   "source": [
    "string = \"python\"\n",
    "string[2:5] # 2,3,4"
   ]
  },
  {
   "cell_type": "code",
   "execution_count": 39,
   "id": "ultimate-ozone",
   "metadata": {},
   "outputs": [
    {
     "data": {
      "text/plain": [
       "'arning is '"
      ]
     },
     "execution_count": 39,
     "metadata": {},
     "output_type": "execute_result"
    }
   ],
   "source": [
    "text = \"Machine learning is a field of inquiry devoted to understanding and building methods that 'learn', that is, methods that leverage data to improve performance on some set of tasks. It is seen as a part of artificial intelligence\"\n",
    "len(text)\n",
    "text[10:20] # 10,11,....,19"
   ]
  },
  {
   "cell_type": "code",
   "execution_count": 41,
   "id": "pregnant-bosnia",
   "metadata": {},
   "outputs": [
    {
     "data": {
      "text/plain": [
       "100"
      ]
     },
     "execution_count": 41,
     "metadata": {},
     "output_type": "execute_result"
    }
   ],
   "source": [
    "text = \"Machine learning is a field of inquiry devoted to understanding and building methods that 'learn', that is, methods that leverage data to improve performance on some set of tasks. It is seen as a part of artificial intelligence\"\n",
    "len(text)\n",
    "len(text[100:200]) # 10,11,....,19"
   ]
  },
  {
   "cell_type": "code",
   "execution_count": 44,
   "id": "national-significance",
   "metadata": {},
   "outputs": [
    {
     "data": {
      "text/plain": [
       "'Machine'"
      ]
     },
     "execution_count": 44,
     "metadata": {},
     "output_type": "execute_result"
    }
   ],
   "source": [
    "text = \"Machine\"\n",
    "text[0:7] # 7 char"
   ]
  },
  {
   "cell_type": "code",
   "execution_count": 47,
   "id": "quiet-sleep",
   "metadata": {},
   "outputs": [
    {
     "data": {
      "text/plain": [
       "'Machine'"
      ]
     },
     "execution_count": 47,
     "metadata": {},
     "output_type": "execute_result"
    }
   ],
   "source": [
    "text = \"Machine\"\n",
    "text[0:len(text)] # text[0:7]"
   ]
  },
  {
   "cell_type": "code",
   "execution_count": 49,
   "id": "protected-mortgage",
   "metadata": {},
   "outputs": [
    {
     "data": {
      "text/plain": [
       "'Machine'"
      ]
     },
     "execution_count": 49,
     "metadata": {},
     "output_type": "execute_result"
    }
   ],
   "source": [
    "text = \"Machine\"\n",
    "text[0:] "
   ]
  },
  {
   "cell_type": "code",
   "execution_count": 51,
   "id": "filled-ottawa",
   "metadata": {},
   "outputs": [
    {
     "data": {
      "text/plain": [
       "'Machine'"
      ]
     },
     "execution_count": 51,
     "metadata": {},
     "output_type": "execute_result"
    }
   ],
   "source": [
    "text = \"Machine\"\n",
    "text[:] "
   ]
  },
  {
   "cell_type": "code",
   "execution_count": 53,
   "id": "beneficial-sally",
   "metadata": {},
   "outputs": [
    {
     "data": {
      "text/plain": [
       "'hine'"
      ]
     },
     "execution_count": 53,
     "metadata": {},
     "output_type": "execute_result"
    }
   ],
   "source": [
    "text = \"Machine\"\n",
    "text[3:] "
   ]
  },
  {
   "cell_type": "code",
   "execution_count": 55,
   "id": "educated-jones",
   "metadata": {},
   "outputs": [
    {
     "data": {
      "text/plain": [
       "\"arning is a field of inquiry devoted to understanding and building methods that 'learn', that is, methods that leverage data to improve performance on some set of tasks. It is seen as a part of artificial intelligence\""
      ]
     },
     "execution_count": 55,
     "metadata": {},
     "output_type": "execute_result"
    }
   ],
   "source": [
    "text = \"Machine learning is a field of inquiry devoted to understanding and building methods that 'learn', that is, methods that leverage data to improve performance on some set of tasks. It is seen as a part of artificial intelligence\"\n",
    "text[10:]"
   ]
  },
  {
   "cell_type": "code",
   "execution_count": 57,
   "id": "alike-novel",
   "metadata": {},
   "outputs": [
    {
     "data": {
      "text/plain": [
       "'Mac'"
      ]
     },
     "execution_count": 57,
     "metadata": {},
     "output_type": "execute_result"
    }
   ],
   "source": [
    "text = \"Machine\"\n",
    "text[0:3]  # 0,1,2"
   ]
  },
  {
   "cell_type": "code",
   "execution_count": 58,
   "id": "female-alaska",
   "metadata": {},
   "outputs": [
    {
     "data": {
      "text/plain": [
       "'Mac'"
      ]
     },
     "execution_count": 58,
     "metadata": {},
     "output_type": "execute_result"
    }
   ],
   "source": [
    "text = \"Machine\"\n",
    "text[:3]  # 0,1,2"
   ]
  },
  {
   "cell_type": "code",
   "execution_count": 60,
   "id": "suited-flush",
   "metadata": {},
   "outputs": [
    {
     "data": {
      "text/plain": [
       "'Mac'"
      ]
     },
     "execution_count": 60,
     "metadata": {},
     "output_type": "execute_result"
    }
   ],
   "source": [
    "text = \"Machine\"\n",
    "text[0:3]  # 0,1,2"
   ]
  },
  {
   "cell_type": "code",
   "execution_count": 62,
   "id": "floating-indonesian",
   "metadata": {},
   "outputs": [
    {
     "data": {
      "text/plain": [
       "'h'"
      ]
     },
     "execution_count": 62,
     "metadata": {},
     "output_type": "execute_result"
    }
   ],
   "source": [
    "text = \"Machine\"\n",
    "text[3:4]  # 3rd index char"
   ]
  },
  {
   "cell_type": "code",
   "execution_count": 64,
   "id": "musical-theory",
   "metadata": {},
   "outputs": [
    {
     "data": {
      "text/plain": [
       "''"
      ]
     },
     "execution_count": 64,
     "metadata": {},
     "output_type": "execute_result"
    }
   ],
   "source": [
    "text = \"Machine\"\n",
    "text[3:3]  # 3rd index char"
   ]
  },
  {
   "cell_type": "code",
   "execution_count": 70,
   "id": "comprehensive-fifteen",
   "metadata": {},
   "outputs": [
    {
     "data": {
      "text/plain": [
       "''"
      ]
     },
     "execution_count": 70,
     "metadata": {},
     "output_type": "execute_result"
    }
   ],
   "source": [
    "text = \"Machine\"\n",
    "text[4:3]  # 3rd index char"
   ]
  },
  {
   "cell_type": "code",
   "execution_count": null,
   "id": "sound-disease",
   "metadata": {},
   "outputs": [],
   "source": []
  }
 ],
 "metadata": {
  "kernelspec": {
   "display_name": "Python 3 (ipykernel)",
   "language": "python",
   "name": "python3"
  },
  "language_info": {
   "codemirror_mode": {
    "name": "ipython",
    "version": 3
   },
   "file_extension": ".py",
   "mimetype": "text/x-python",
   "name": "python",
   "nbconvert_exporter": "python",
   "pygments_lexer": "ipython3",
   "version": "3.9.12"
  }
 },
 "nbformat": 4,
 "nbformat_minor": 5
}
