{
 "cells": [
  {
   "cell_type": "markdown",
   "id": "heavy-fossil",
   "metadata": {},
   "source": [
    "# Numpy Functions"
   ]
  },
  {
   "cell_type": "code",
   "execution_count": null,
   "id": "parental-indiana",
   "metadata": {},
   "outputs": [],
   "source": [
    "1. np.append()\n",
    "2. np.concatenate()\n",
    "3. np.sort()\n",
    "4. np.add()\n",
    "5. np.multiply()\n",
    "6. np.dot()\n",
    "7. np.floor()\n",
    "8. np.ceil()\n",
    "9. np.sqrt()\n",
    "10. np.cbrt()\n",
    "11. np.where()"
   ]
  },
  {
   "cell_type": "code",
   "execution_count": null,
   "id": "detected-accident",
   "metadata": {},
   "outputs": [],
   "source": [
    "axis = 0 >> Rows\n",
    "axis = 1 >> Columns"
   ]
  },
  {
   "cell_type": "code",
   "execution_count": 1,
   "id": "smooth-venue",
   "metadata": {},
   "outputs": [],
   "source": [
    "import numpy as np"
   ]
  },
  {
   "cell_type": "code",
   "execution_count": 3,
   "id": "german-township",
   "metadata": {},
   "outputs": [
    {
     "data": {
      "text/plain": [
       "array([36, 35, 30, 18, 31, 21, 27, 24, 27, 17])"
      ]
     },
     "execution_count": 3,
     "metadata": {},
     "output_type": "execute_result"
    }
   ],
   "source": [
    "array1 = np.random.randint(10,40, size = 10)\n",
    "array1"
   ]
  },
  {
   "cell_type": "code",
   "execution_count": 5,
   "id": "compact-mexico",
   "metadata": {},
   "outputs": [
    {
     "data": {
      "text/plain": [
       "array([[23, 12, 21],\n",
       "       [20, 10, 21],\n",
       "       [20, 30, 24],\n",
       "       [22, 12, 24]])"
      ]
     },
     "execution_count": 5,
     "metadata": {},
     "output_type": "execute_result"
    }
   ],
   "source": [
    "array1 = np.random.randint(10,40, size = (4,3))\n",
    "array1"
   ]
  },
  {
   "cell_type": "code",
   "execution_count": 8,
   "id": "continuing-disposition",
   "metadata": {},
   "outputs": [
    {
     "data": {
      "text/plain": [
       "array([[[24, 29],\n",
       "        [14, 35],\n",
       "        [10, 35]],\n",
       "\n",
       "       [[19, 10],\n",
       "        [21, 24],\n",
       "        [21, 15]],\n",
       "\n",
       "       [[39, 31],\n",
       "        [10, 25],\n",
       "        [15, 31]],\n",
       "\n",
       "       [[24, 24],\n",
       "        [20, 22],\n",
       "        [18, 20]]])"
      ]
     },
     "execution_count": 8,
     "metadata": {},
     "output_type": "execute_result"
    }
   ],
   "source": [
    "array1 = np.random.randint(10,40, size = (4,3,2))\n",
    "array1"
   ]
  },
  {
   "cell_type": "code",
   "execution_count": null,
   "id": "printable-matrix",
   "metadata": {},
   "outputs": [],
   "source": [
    "[[39, 31],\n",
    "[10, 25],\n",
    "[15, 31]]"
   ]
  },
  {
   "cell_type": "code",
   "execution_count": 9,
   "id": "disabled-timothy",
   "metadata": {},
   "outputs": [
    {
     "data": {
      "text/plain": [
       "array([36, 35, 30, 18, 31, 21, 27, 24, 27, 17])"
      ]
     },
     "execution_count": 9,
     "metadata": {},
     "output_type": "execute_result"
    }
   ],
   "source": [
    "array1 = np.array([36, 35, 30, 18, 31, 21, 27, 24, 27, 17])\n",
    "array1"
   ]
  },
  {
   "cell_type": "code",
   "execution_count": 12,
   "id": "figured-complement",
   "metadata": {},
   "outputs": [
    {
     "data": {
      "text/plain": [
       "array([ 36,  35, 300,  18,  31,  21,  27,  24,  27,  17])"
      ]
     },
     "execution_count": 12,
     "metadata": {},
     "output_type": "execute_result"
    }
   ],
   "source": [
    "array1[2] = 300\n",
    "array1"
   ]
  },
  {
   "cell_type": "code",
   "execution_count": 14,
   "id": "cordless-conducting",
   "metadata": {},
   "outputs": [
    {
     "data": {
      "text/plain": [
       "array([ 36,  35, 300, 300, 300,  21,  27,  24,  27,  17])"
      ]
     },
     "execution_count": 14,
     "metadata": {},
     "output_type": "execute_result"
    }
   ],
   "source": [
    "array1[2 : 5] = 300\n",
    "array1"
   ]
  },
  {
   "cell_type": "markdown",
   "id": "forced-ballot",
   "metadata": {},
   "source": [
    "## 1. append()"
   ]
  },
  {
   "cell_type": "code",
   "execution_count": null,
   "id": "warming-sport",
   "metadata": {},
   "outputs": [],
   "source": [
    "new_array = np.append(array1, value,axis = None)\n",
    "value >> n-D array\n",
    "\n",
    "axis = 0 >> Rows\n",
    "axis = 1 >> Columns"
   ]
  },
  {
   "cell_type": "code",
   "execution_count": 17,
   "id": "deadly-mediterranean",
   "metadata": {},
   "outputs": [
    {
     "data": {
      "text/plain": [
       "numpy.ndarray"
      ]
     },
     "execution_count": 17,
     "metadata": {},
     "output_type": "execute_result"
    }
   ],
   "source": [
    "x = np.array(45)\n",
    "type(x)"
   ]
  },
  {
   "cell_type": "code",
   "execution_count": 19,
   "id": "valid-broadcast",
   "metadata": {},
   "outputs": [
    {
     "data": {
      "text/plain": [
       "array([ 36,  35,  30,  18,  31,  21,  27,  24,  27,  17, 555])"
      ]
     },
     "execution_count": 19,
     "metadata": {},
     "output_type": "execute_result"
    }
   ],
   "source": [
    "array1 = np.array([36, 35, 30, 18, 31, 21, 27, 24, 27, 17])\n",
    "\n",
    "new_array = np.append(array1, 555)\n",
    "new_array\n"
   ]
  },
  {
   "cell_type": "code",
   "execution_count": 21,
   "id": "aggregate-capability",
   "metadata": {},
   "outputs": [
    {
     "data": {
      "text/plain": [
       "array([ 36,  35,  30,  18,  31,  21,  27,  24,  27,  17, 444])"
      ]
     },
     "execution_count": 21,
     "metadata": {},
     "output_type": "execute_result"
    }
   ],
   "source": [
    "array1 = np.array([36, 35, 30, 18, 31, 21, 27, 24, 27, 17])\n",
    "\n",
    "array0 = np.array(444)\n",
    "\n",
    "new_array = np.append(array1, array0)\n",
    "new_array\n"
   ]
  },
  {
   "cell_type": "code",
   "execution_count": 24,
   "id": "judicial-cause",
   "metadata": {},
   "outputs": [
    {
     "data": {
      "text/plain": [
       "array([36, 35, 30, 18, 27, 17, 10, 20, 30, 40])"
      ]
     },
     "execution_count": 24,
     "metadata": {},
     "output_type": "execute_result"
    }
   ],
   "source": [
    "array1 = np.array([36, 35, 30, 18, 27, 17])\n",
    "\n",
    "array0 = np.array([10,20,30,40])\n",
    "\n",
    "new_array = np.append(array1, array0)\n",
    "new_array\n"
   ]
  },
  {
   "cell_type": "code",
   "execution_count": 26,
   "id": "classical-produce",
   "metadata": {},
   "outputs": [
    {
     "data": {
      "text/plain": [
       "array([36, 35, 30, 18, 27, 17, 10, 20, 30, 40])"
      ]
     },
     "execution_count": 26,
     "metadata": {},
     "output_type": "execute_result"
    }
   ],
   "source": [
    "array1 = np.array([36, 35, 30, 18, 27, 17])\n",
    "\n",
    "array0 = np.array([[10,20],[30,40]])\n",
    "\n",
    "new_array = np.append(array1, array0)\n",
    "new_array\n"
   ]
  },
  {
   "cell_type": "code",
   "execution_count": 27,
   "id": "occasional-acquisition",
   "metadata": {},
   "outputs": [
    {
     "name": "stdout",
     "output_type": "stream",
     "text": [
      "Array1 :\n",
      " [[36 35]\n",
      " [30 18]]\n",
      "Array2 :\n",
      " [[10 20]\n",
      " [30 40]]\n"
     ]
    }
   ],
   "source": [
    "array1 = np.array([[36, 35], [30, 18]])\n",
    "\n",
    "array2 = np.array([[10,20],[30,40]])\n",
    "\n",
    "\n",
    "print(\"Array1 :\\n\",array1)\n",
    "print(\"Array2 :\\n\",array2)\n",
    "\n"
   ]
  },
  {
   "cell_type": "code",
   "execution_count": null,
   "id": "preliminary-genius",
   "metadata": {},
   "outputs": [],
   "source": [
    "[[36 35]\n",
    " [30 18]\n",
    " [10 20]\n",
    " [30 40]]"
   ]
  },
  {
   "cell_type": "code",
   "execution_count": null,
   "id": "mineral-baking",
   "metadata": {},
   "outputs": [],
   "source": [
    "[[36 35 10 20]\n",
    " [30 18 30 40]]"
   ]
  },
  {
   "cell_type": "code",
   "execution_count": 29,
   "id": "insured-stranger",
   "metadata": {},
   "outputs": [
    {
     "name": "stdout",
     "output_type": "stream",
     "text": [
      "Array1 :\n",
      " [[36 35]\n",
      " [30 18]]\n",
      "Array2 :\n",
      " [[10 20]\n",
      " [30 40]]\n",
      "New Array \n",
      " [36 35 30 18 10 20 30 40]\n"
     ]
    }
   ],
   "source": [
    "array1 = np.array([[36, 35], [30, 18]])\n",
    "\n",
    "array2 = np.array([[10,20],[30,40]])\n",
    "\n",
    "\n",
    "print(\"Array1 :\\n\",array1)\n",
    "print(\"Array2 :\\n\",array2)\n",
    "\n",
    "new_array = np.append(array1,array2) # Return 1 D array\n",
    "print(\"New Array \\n\",new_array)"
   ]
  },
  {
   "cell_type": "code",
   "execution_count": null,
   "id": "reduced-sugar",
   "metadata": {},
   "outputs": [],
   "source": [
    "axis = 0 >> Rows\n",
    "axis = 1 >> Columns"
   ]
  },
  {
   "cell_type": "code",
   "execution_count": 33,
   "id": "republican-minneapolis",
   "metadata": {},
   "outputs": [
    {
     "name": "stdout",
     "output_type": "stream",
     "text": [
      "Array1 :\n",
      " [[36 35]\n",
      " [30 18]]\n",
      "Array2 :\n",
      " [[10 20]\n",
      " [30 40]]\n",
      "New Array \n",
      " [[36 35]\n",
      " [30 18]\n",
      " [10 20]\n",
      " [30 40]]\n",
      "(4, 2)\n"
     ]
    }
   ],
   "source": [
    "array1 = np.array([[36, 35], [30, 18]])\n",
    "\n",
    "array2 = np.array([[10,20],[30,40]])\n",
    "\n",
    "\n",
    "print(\"Array1 :\\n\",array1)\n",
    "print(\"Array2 :\\n\",array2)\n",
    "\n",
    "new_array = np.append(array1,array2,axis = 0) # Rows\n",
    "print(\"New Array \\n\",new_array)\n",
    "print(new_array.shape)"
   ]
  },
  {
   "cell_type": "code",
   "execution_count": 35,
   "id": "chinese-district",
   "metadata": {},
   "outputs": [
    {
     "name": "stdout",
     "output_type": "stream",
     "text": [
      "Array1 :\n",
      " [[36 35]\n",
      " [30 18]]\n",
      "Array2 :\n",
      " [[10 20]\n",
      " [30 40]]\n",
      "New Array \n",
      " [[36 35 10 20]\n",
      " [30 18 30 40]]\n",
      "(2, 4)\n"
     ]
    }
   ],
   "source": [
    "array1 = np.array([[36, 35], [30, 18]])\n",
    "\n",
    "array2 = np.array([[10,20],[30,40]])\n",
    "\n",
    "\n",
    "print(\"Array1 :\\n\",array1)\n",
    "print(\"Array2 :\\n\",array2)\n",
    "\n",
    "new_array = np.append(array1,array2,axis = 1) # Columns\n",
    "print(\"New Array \\n\",new_array)\n",
    "print(new_array.shape)"
   ]
  },
  {
   "cell_type": "markdown",
   "id": "virtual-mayor",
   "metadata": {},
   "source": [
    "### 2. concatenate"
   ]
  },
  {
   "cell_type": "code",
   "execution_count": null,
   "id": "according-currency",
   "metadata": {},
   "outputs": [],
   "source": [
    "np.concatenate([array1, array2, ...,arrayN],axis = 0)\n",
    "\n",
    "axis = 0 >> Rows\n",
    "axis = 1 >> COlumns"
   ]
  },
  {
   "cell_type": "code",
   "execution_count": 40,
   "id": "acknowledged-margin",
   "metadata": {},
   "outputs": [
    {
     "name": "stdout",
     "output_type": "stream",
     "text": [
      "Array1 :\n",
      " [[7 3]\n",
      " [3 8]]\n",
      "Array2 :\n",
      " [[14 15]\n",
      " [13 11]]\n",
      "Array3 :\n",
      " [[21 22]\n",
      " [26 21]]\n"
     ]
    }
   ],
   "source": [
    "array1 = np.random.randint(0,10, size= (2,2))\n",
    "array2 = np.random.randint(10,20, size= (2,2))\n",
    "array3 = np.random.randint(20,30, size= (2,2))\n",
    "\n",
    "print(\"Array1 :\\n\",array1)\n",
    "print(\"Array2 :\\n\",array2)\n",
    "print(\"Array3 :\\n\",array3)"
   ]
  },
  {
   "cell_type": "code",
   "execution_count": 41,
   "id": "premium-clear",
   "metadata": {},
   "outputs": [
    {
     "data": {
      "text/plain": [
       "array([[ 7,  3],\n",
       "       [ 3,  8],\n",
       "       [14, 15],\n",
       "       [13, 11]])"
      ]
     },
     "execution_count": 41,
     "metadata": {},
     "output_type": "execute_result"
    }
   ],
   "source": [
    "new_array = np.concatenate([array1, array2])\n",
    "new_array"
   ]
  },
  {
   "cell_type": "code",
   "execution_count": 43,
   "id": "brazilian-rider",
   "metadata": {},
   "outputs": [
    {
     "data": {
      "text/plain": [
       "array([[ 7,  3],\n",
       "       [ 3,  8],\n",
       "       [14, 15],\n",
       "       [13, 11],\n",
       "       [21, 22],\n",
       "       [26, 21]])"
      ]
     },
     "execution_count": 43,
     "metadata": {},
     "output_type": "execute_result"
    }
   ],
   "source": [
    "new_array = np.concatenate([array1, array2,array3])\n",
    "new_array"
   ]
  },
  {
   "cell_type": "code",
   "execution_count": 45,
   "id": "after-referral",
   "metadata": {},
   "outputs": [
    {
     "data": {
      "text/plain": [
       "array([[ 7,  3],\n",
       "       [ 3,  8],\n",
       "       [14, 15],\n",
       "       [13, 11],\n",
       "       [21, 22],\n",
       "       [26, 21]])"
      ]
     },
     "execution_count": 45,
     "metadata": {},
     "output_type": "execute_result"
    }
   ],
   "source": [
    "new_array = np.concatenate([array1, array2,array3],axis = 0)\n",
    "new_array"
   ]
  },
  {
   "cell_type": "code",
   "execution_count": 47,
   "id": "neither-norway",
   "metadata": {},
   "outputs": [
    {
     "data": {
      "text/plain": [
       "array([[ 7,  3, 14, 15],\n",
       "       [ 3,  8, 13, 11]])"
      ]
     },
     "execution_count": 47,
     "metadata": {},
     "output_type": "execute_result"
    }
   ],
   "source": [
    "new_array = np.concatenate([array1, array2],axis = 1)\n",
    "new_array"
   ]
  },
  {
   "cell_type": "code",
   "execution_count": 49,
   "id": "coral-richardson",
   "metadata": {},
   "outputs": [
    {
     "data": {
      "text/plain": [
       "array([[ 7,  3, 21, 22],\n",
       "       [ 3,  8, 26, 21]])"
      ]
     },
     "execution_count": 49,
     "metadata": {},
     "output_type": "execute_result"
    }
   ],
   "source": [
    "new_array = np.concatenate([array1, array3],axis = 1)\n",
    "new_array"
   ]
  },
  {
   "cell_type": "code",
   "execution_count": 51,
   "id": "outdoor-gregory",
   "metadata": {},
   "outputs": [
    {
     "data": {
      "text/plain": [
       "array([[ 7,  3, 14, 15, 21, 22],\n",
       "       [ 3,  8, 13, 11, 26, 21]])"
      ]
     },
     "execution_count": 51,
     "metadata": {},
     "output_type": "execute_result"
    }
   ],
   "source": [
    "new_array = np.concatenate([array1, array2, array3],axis = 1)\n",
    "new_array"
   ]
  },
  {
   "cell_type": "code",
   "execution_count": 54,
   "id": "naval-concept",
   "metadata": {},
   "outputs": [
    {
     "name": "stdout",
     "output_type": "stream",
     "text": [
      "Array1 :\n",
      " [[9 8]\n",
      " [7 3]]\n",
      "Array2 :\n",
      " [[11 13]\n",
      " [15 11]\n",
      " [13 17]\n",
      " [13 19]]\n",
      "Array3 :\n",
      " [[26 20]\n",
      " [20 20]]\n"
     ]
    }
   ],
   "source": [
    "array1 = np.random.randint(0,10, size= (2,2))\n",
    "array2 = np.random.randint(10,20, size= (4,2))\n",
    "array3 = np.random.randint(20,30, size= (2,2))\n",
    "\n",
    "print(\"Array1 :\\n\",array1)\n",
    "print(\"Array2 :\\n\",array2)\n",
    "print(\"Array3 :\\n\",array3)"
   ]
  },
  {
   "cell_type": "code",
   "execution_count": 58,
   "id": "opposed-maple",
   "metadata": {},
   "outputs": [
    {
     "data": {
      "text/plain": [
       "array([[ 9,  8],\n",
       "       [ 7,  3],\n",
       "       [11, 13],\n",
       "       [15, 11],\n",
       "       [13, 17],\n",
       "       [13, 19]])"
      ]
     },
     "execution_count": 58,
     "metadata": {},
     "output_type": "execute_result"
    }
   ],
   "source": [
    "new_array = np.concatenate([array1, array2],axis = 0)\n",
    "new_array"
   ]
  },
  {
   "cell_type": "code",
   "execution_count": 59,
   "id": "median-timber",
   "metadata": {},
   "outputs": [
    {
     "name": "stdout",
     "output_type": "stream",
     "text": [
      "Array1 :\n",
      " [[8 4]\n",
      " [4 8]]\n",
      "Array2 :\n",
      " [[10 16 10]\n",
      " [12 19 13]]\n",
      "Array3 :\n",
      " [[27 24]\n",
      " [25 23]]\n"
     ]
    }
   ],
   "source": [
    "array1 = np.random.randint(0,10, size= (2,2))\n",
    "array2 = np.random.randint(10,20, size= (2,3))\n",
    "array3 = np.random.randint(20,30, size= (2,2))\n",
    "\n",
    "print(\"Array1 :\\n\",array1)\n",
    "print(\"Array2 :\\n\",array2)\n",
    "print(\"Array3 :\\n\",array3)"
   ]
  },
  {
   "cell_type": "code",
   "execution_count": 61,
   "id": "large-peace",
   "metadata": {},
   "outputs": [
    {
     "data": {
      "text/plain": [
       "array([[ 8,  4, 10, 16, 10],\n",
       "       [ 4,  8, 12, 19, 13]])"
      ]
     },
     "execution_count": 61,
     "metadata": {},
     "output_type": "execute_result"
    }
   ],
   "source": [
    "new_array = np.concatenate([array1, array2],axis = 1)\n",
    "new_array"
   ]
  },
  {
   "cell_type": "code",
   "execution_count": 62,
   "id": "electrical-questionnaire",
   "metadata": {},
   "outputs": [],
   "source": [
    "import pandas as pd"
   ]
  },
  {
   "cell_type": "code",
   "execution_count": 63,
   "id": "protective-election",
   "metadata": {},
   "outputs": [
    {
     "data": {
      "text/html": [
       "<div>\n",
       "<style scoped>\n",
       "    .dataframe tbody tr th:only-of-type {\n",
       "        vertical-align: middle;\n",
       "    }\n",
       "\n",
       "    .dataframe tbody tr th {\n",
       "        vertical-align: top;\n",
       "    }\n",
       "\n",
       "    .dataframe thead th {\n",
       "        text-align: right;\n",
       "    }\n",
       "</style>\n",
       "<table border=\"1\" class=\"dataframe\">\n",
       "  <thead>\n",
       "    <tr style=\"text-align: right;\">\n",
       "      <th></th>\n",
       "      <th>0</th>\n",
       "      <th>1</th>\n",
       "      <th>2</th>\n",
       "      <th>3</th>\n",
       "      <th>4</th>\n",
       "    </tr>\n",
       "  </thead>\n",
       "  <tbody>\n",
       "    <tr>\n",
       "      <th>0</th>\n",
       "      <td>8</td>\n",
       "      <td>4</td>\n",
       "      <td>10</td>\n",
       "      <td>16</td>\n",
       "      <td>10</td>\n",
       "    </tr>\n",
       "    <tr>\n",
       "      <th>1</th>\n",
       "      <td>4</td>\n",
       "      <td>8</td>\n",
       "      <td>12</td>\n",
       "      <td>19</td>\n",
       "      <td>13</td>\n",
       "    </tr>\n",
       "  </tbody>\n",
       "</table>\n",
       "</div>"
      ],
      "text/plain": [
       "   0  1   2   3   4\n",
       "0  8  4  10  16  10\n",
       "1  4  8  12  19  13"
      ]
     },
     "execution_count": 63,
     "metadata": {},
     "output_type": "execute_result"
    }
   ],
   "source": [
    "pd.DataFrame(new_array)"
   ]
  },
  {
   "cell_type": "markdown",
   "id": "existing-kelly",
   "metadata": {},
   "source": [
    "### 3. sort"
   ]
  },
  {
   "cell_type": "code",
   "execution_count": null,
   "id": "isolated-plaintiff",
   "metadata": {},
   "outputs": [],
   "source": [
    "sorted_array = np.sort(array)"
   ]
  },
  {
   "cell_type": "code",
   "execution_count": 64,
   "id": "ruled-soldier",
   "metadata": {},
   "outputs": [
    {
     "data": {
      "text/plain": [
       "array([34, 45, 30, 38, 23, 42])"
      ]
     },
     "execution_count": 64,
     "metadata": {},
     "output_type": "execute_result"
    }
   ],
   "source": [
    "array1 = np.random.randint(20,50,size = 6)\n",
    "array1"
   ]
  },
  {
   "cell_type": "code",
   "execution_count": 66,
   "id": "false-plumbing",
   "metadata": {},
   "outputs": [
    {
     "data": {
      "text/plain": [
       "array([23, 30, 34, 38, 42, 45])"
      ]
     },
     "execution_count": 66,
     "metadata": {},
     "output_type": "execute_result"
    }
   ],
   "source": [
    "sorted_array = np.sort(array1)\n",
    "sorted_array"
   ]
  },
  {
   "cell_type": "code",
   "execution_count": 67,
   "id": "unsigned-bloom",
   "metadata": {},
   "outputs": [
    {
     "data": {
      "text/plain": [
       "array([34, 45, 30, 38, 23, 42])"
      ]
     },
     "execution_count": 67,
     "metadata": {},
     "output_type": "execute_result"
    }
   ],
   "source": [
    "array1"
   ]
  },
  {
   "cell_type": "code",
   "execution_count": 70,
   "id": "searching-button",
   "metadata": {},
   "outputs": [
    {
     "data": {
      "text/plain": [
       "array([[46, 49, 26, 34],\n",
       "       [29, 39, 46, 40],\n",
       "       [47, 27, 27, 45]])"
      ]
     },
     "execution_count": 70,
     "metadata": {},
     "output_type": "execute_result"
    }
   ],
   "source": [
    "array1 = np.random.randint(20,50,size = (3,4))\n",
    "array1"
   ]
  },
  {
   "cell_type": "code",
   "execution_count": 72,
   "id": "available-qatar",
   "metadata": {},
   "outputs": [
    {
     "data": {
      "text/plain": [
       "array([[26, 34, 46, 49],\n",
       "       [29, 39, 40, 46],\n",
       "       [27, 27, 45, 47]])"
      ]
     },
     "execution_count": 72,
     "metadata": {},
     "output_type": "execute_result"
    }
   ],
   "source": [
    "sorted_array = np.sort(array1)\n",
    "sorted_array"
   ]
  },
  {
   "cell_type": "code",
   "execution_count": 75,
   "id": "advised-provincial",
   "metadata": {},
   "outputs": [
    {
     "data": {
      "text/plain": [
       "array([26, 27, 27, 29, 34, 39, 40, 45, 46, 46, 47, 49])"
      ]
     },
     "execution_count": 75,
     "metadata": {},
     "output_type": "execute_result"
    }
   ],
   "source": [
    "sorted_array = np.sort(array1,axis = None)\n",
    "sorted_array"
   ]
  },
  {
   "cell_type": "code",
   "execution_count": null,
   "id": "central-reset",
   "metadata": {},
   "outputs": [],
   "source": []
  },
  {
   "cell_type": "markdown",
   "id": "automated-possibility",
   "metadata": {},
   "source": [
    "### 4.Matrix Addition"
   ]
  },
  {
   "cell_type": "code",
   "execution_count": 78,
   "id": "simplified-diana",
   "metadata": {},
   "outputs": [
    {
     "name": "stdout",
     "output_type": "stream",
     "text": [
      "matrix1 :\n",
      " [[12 16]\n",
      " [12 14]]\n",
      "matrix2 :\n",
      " [[31 25]\n",
      " [32 24]]\n"
     ]
    }
   ],
   "source": [
    "matrix1 = np.random.randint(10,20,size = (2,2))\n",
    "matrix2 = np.random.randint(20,40,size = (2,2))\n",
    "\n",
    "print(\"matrix1 :\\n\",matrix1)\n",
    "print(\"matrix2 :\\n\",matrix2)"
   ]
  },
  {
   "cell_type": "code",
   "execution_count": 81,
   "id": "subsequent-radical",
   "metadata": {},
   "outputs": [
    {
     "data": {
      "text/plain": [
       "array([[43, 41],\n",
       "       [44, 38]])"
      ]
     },
     "execution_count": 81,
     "metadata": {},
     "output_type": "execute_result"
    }
   ],
   "source": [
    "new_matrix = np.add(matrix1,matrix2)\n",
    "new_matrix"
   ]
  },
  {
   "cell_type": "code",
   "execution_count": 84,
   "id": "shaped-blair",
   "metadata": {},
   "outputs": [
    {
     "name": "stdout",
     "output_type": "stream",
     "text": [
      "array1 :\n",
      " [16 18 16 13 18]\n",
      "array2 :\n",
      " [30 26 23 34 22]\n"
     ]
    }
   ],
   "source": [
    "array1 = np.random.randint(10,20,size = 5)\n",
    "array2 = np.random.randint(20,40,size = 5)\n",
    "\n",
    "print(\"array1 :\\n\",array1)\n",
    "print(\"array2 :\\n\",array2)"
   ]
  },
  {
   "cell_type": "code",
   "execution_count": 88,
   "id": "freelance-lighting",
   "metadata": {},
   "outputs": [
    {
     "name": "stdout",
     "output_type": "stream",
     "text": [
      "array1 :\n",
      " [10 18 18 12 16 14]\n",
      "array2 :\n",
      " [38 32 33 23 34]\n"
     ]
    },
    {
     "ename": "ValueError",
     "evalue": "operands could not be broadcast together with shapes (6,) (5,) ",
     "output_type": "error",
     "traceback": [
      "\u001b[1;31m---------------------------------------------------------------------------\u001b[0m",
      "\u001b[1;31mValueError\u001b[0m                                Traceback (most recent call last)",
      "\u001b[1;32m<ipython-input-88-a2fa81fa72b7>\u001b[0m in \u001b[0;36m<module>\u001b[1;34m\u001b[0m\n\u001b[0;32m      5\u001b[0m \u001b[0mprint\u001b[0m\u001b[1;33m(\u001b[0m\u001b[1;34m\"array2 :\\n\"\u001b[0m\u001b[1;33m,\u001b[0m\u001b[0marray2\u001b[0m\u001b[1;33m)\u001b[0m\u001b[1;33m\u001b[0m\u001b[1;33m\u001b[0m\u001b[0m\n\u001b[0;32m      6\u001b[0m \u001b[1;33m\u001b[0m\u001b[0m\n\u001b[1;32m----> 7\u001b[1;33m \u001b[0mnp\u001b[0m\u001b[1;33m.\u001b[0m\u001b[0madd\u001b[0m\u001b[1;33m(\u001b[0m\u001b[0marray1\u001b[0m\u001b[1;33m,\u001b[0m\u001b[0marray2\u001b[0m\u001b[1;33m)\u001b[0m\u001b[1;33m\u001b[0m\u001b[1;33m\u001b[0m\u001b[0m\n\u001b[0m",
      "\u001b[1;31mValueError\u001b[0m: operands could not be broadcast together with shapes (6,) (5,) "
     ]
    }
   ],
   "source": [
    "array1 = np.random.randint(10,20,size = 6)\n",
    "array2 = np.random.randint(20,40,size = 5)\n",
    "\n",
    "print(\"array1 :\\n\",array1)\n",
    "print(\"array2 :\\n\",array2)\n",
    "\n",
    "np.add(array1,array2)"
   ]
  },
  {
   "cell_type": "code",
   "execution_count": null,
   "id": "stylish-friendly",
   "metadata": {},
   "outputs": [],
   "source": []
  },
  {
   "cell_type": "code",
   "execution_count": 90,
   "id": "confused-credit",
   "metadata": {},
   "outputs": [
    {
     "name": "stdout",
     "output_type": "stream",
     "text": [
      "matrix1 :\n",
      " [[11 16]\n",
      " [13 15]]\n",
      "matrix2 :\n",
      " [[38 24]\n",
      " [32 39]\n",
      " [39 28]]\n"
     ]
    },
    {
     "ename": "ValueError",
     "evalue": "operands could not be broadcast together with shapes (2,2) (3,2) ",
     "output_type": "error",
     "traceback": [
      "\u001b[1;31m---------------------------------------------------------------------------\u001b[0m",
      "\u001b[1;31mValueError\u001b[0m                                Traceback (most recent call last)",
      "\u001b[1;32m<ipython-input-90-ff8a33966118>\u001b[0m in \u001b[0;36m<module>\u001b[1;34m\u001b[0m\n\u001b[0;32m      4\u001b[0m \u001b[0mprint\u001b[0m\u001b[1;33m(\u001b[0m\u001b[1;34m\"matrix1 :\\n\"\u001b[0m\u001b[1;33m,\u001b[0m\u001b[0mmatrix1\u001b[0m\u001b[1;33m)\u001b[0m\u001b[1;33m\u001b[0m\u001b[1;33m\u001b[0m\u001b[0m\n\u001b[0;32m      5\u001b[0m \u001b[0mprint\u001b[0m\u001b[1;33m(\u001b[0m\u001b[1;34m\"matrix2 :\\n\"\u001b[0m\u001b[1;33m,\u001b[0m\u001b[0mmatrix2\u001b[0m\u001b[1;33m)\u001b[0m\u001b[1;33m\u001b[0m\u001b[1;33m\u001b[0m\u001b[0m\n\u001b[1;32m----> 6\u001b[1;33m \u001b[0mnp\u001b[0m\u001b[1;33m.\u001b[0m\u001b[0madd\u001b[0m\u001b[1;33m(\u001b[0m\u001b[0mmatrix1\u001b[0m\u001b[1;33m,\u001b[0m \u001b[0mmatrix2\u001b[0m\u001b[1;33m)\u001b[0m\u001b[1;33m\u001b[0m\u001b[1;33m\u001b[0m\u001b[0m\n\u001b[0m",
      "\u001b[1;31mValueError\u001b[0m: operands could not be broadcast together with shapes (2,2) (3,2) "
     ]
    }
   ],
   "source": [
    "matrix1 = np.random.randint(10,20,size = (2,2))\n",
    "matrix2 = np.random.randint(20,40,size = (3,2))\n",
    "\n",
    "print(\"matrix1 :\\n\",matrix1)\n",
    "print(\"matrix2 :\\n\",matrix2)\n",
    "np.add(matrix1, matrix2)"
   ]
  },
  {
   "cell_type": "markdown",
   "id": "super-innocent",
   "metadata": {},
   "source": [
    "### 2. Multiplication"
   ]
  },
  {
   "cell_type": "code",
   "execution_count": 93,
   "id": "composite-basis",
   "metadata": {},
   "outputs": [
    {
     "name": "stdout",
     "output_type": "stream",
     "text": [
      "matrix1 :\n",
      " [[4 7]\n",
      " [5 9]]\n",
      "matrix2 :\n",
      " [[10 19]\n",
      " [19 15]]\n"
     ]
    },
    {
     "data": {
      "text/plain": [
       "array([[ 40, 133],\n",
       "       [ 95, 135]])"
      ]
     },
     "execution_count": 93,
     "metadata": {},
     "output_type": "execute_result"
    }
   ],
   "source": [
    "matrix1 = np.random.randint(1,10,size = (2,2))\n",
    "matrix2 = np.random.randint(10,20,size = (2,2))\n",
    "\n",
    "print(\"matrix1 :\\n\",matrix1)\n",
    "print(\"matrix2 :\\n\",matrix2)\n",
    "np.multiply(matrix1, matrix2)"
   ]
  },
  {
   "cell_type": "code",
   "execution_count": 96,
   "id": "systematic-snapshot",
   "metadata": {},
   "outputs": [
    {
     "name": "stdout",
     "output_type": "stream",
     "text": [
      "array1 :\n",
      " [19 14 19 14 15]\n",
      "array2 :\n",
      " [2 8 3 6 8]\n"
     ]
    },
    {
     "data": {
      "text/plain": [
       "array([ 38, 112,  57,  84, 120])"
      ]
     },
     "execution_count": 96,
     "metadata": {},
     "output_type": "execute_result"
    }
   ],
   "source": [
    "array1 = np.random.randint(10,20,size = 5)\n",
    "array2 = np.random.randint(1,10,size = 5)\n",
    "\n",
    "print(\"array1 :\\n\",array1)\n",
    "print(\"array2 :\\n\",array2)\n",
    "\n",
    "np.multiply(array1,array2)"
   ]
  },
  {
   "cell_type": "code",
   "execution_count": 98,
   "id": "oriented-detroit",
   "metadata": {},
   "outputs": [
    {
     "data": {
      "text/plain": [
       "30"
      ]
     },
     "execution_count": 98,
     "metadata": {},
     "output_type": "execute_result"
    }
   ],
   "source": [
    "np.add(10,20)"
   ]
  },
  {
   "cell_type": "code",
   "execution_count": 100,
   "id": "tracked-infrared",
   "metadata": {},
   "outputs": [
    {
     "data": {
      "text/plain": [
       "200"
      ]
     },
     "execution_count": 100,
     "metadata": {},
     "output_type": "execute_result"
    }
   ],
   "source": [
    "np.multiply(10,20)"
   ]
  },
  {
   "cell_type": "markdown",
   "id": "broadband-nashville",
   "metadata": {},
   "source": [
    "### 3. DotProduct"
   ]
  },
  {
   "cell_type": "code",
   "execution_count": 104,
   "id": "graphic-freeze",
   "metadata": {},
   "outputs": [
    {
     "name": "stdout",
     "output_type": "stream",
     "text": [
      "matrix1 :\n",
      " [[3 8]\n",
      " [5 7]]\n",
      "matrix2 :\n",
      " [[13 16]\n",
      " [16 19]]\n"
     ]
    }
   ],
   "source": [
    "matrix1 = np.random.randint(1,10,size = (2,2))\n",
    "matrix2 = np.random.randint(10,20,size = (2,2))\n",
    "\n",
    "print(\"matrix1 :\\n\",matrix1)\n",
    "print(\"matrix2 :\\n\",matrix2)\n"
   ]
  },
  {
   "cell_type": "code",
   "execution_count": null,
   "id": "loved-episode",
   "metadata": {},
   "outputs": [],
   "source": [
    "(2 * 2) . (2 * 3)\n",
    "\n",
    "2 * 3"
   ]
  },
  {
   "cell_type": "code",
   "execution_count": null,
   "id": "suburban-rider",
   "metadata": {},
   "outputs": [],
   "source": [
    "3 8     4 6\n",
    "5 7     5 8 \n",
    "\n",
    "[3*4 + 8*5      3*6 + 8*8]\n",
    "[5*4 + 7*5      5*6 + 7*8]\n"
   ]
  },
  {
   "cell_type": "code",
   "execution_count": 107,
   "id": "electoral-orchestra",
   "metadata": {},
   "outputs": [],
   "source": [
    "array1 = np.array([[3,8],[5,7]])\n",
    "array2 = np.array([[4,6],[5,8]])"
   ]
  },
  {
   "cell_type": "code",
   "execution_count": 108,
   "id": "smaller-harassment",
   "metadata": {},
   "outputs": [
    {
     "data": {
      "text/plain": [
       "array([[52, 82],\n",
       "       [55, 86]])"
      ]
     },
     "execution_count": 108,
     "metadata": {},
     "output_type": "execute_result"
    }
   ],
   "source": [
    "np.dot(array1,array2)"
   ]
  },
  {
   "cell_type": "code",
   "execution_count": null,
   "id": "looking-chocolate",
   "metadata": {},
   "outputs": [],
   "source": [
    "2*3  3*2\n",
    "\n",
    "3 8 7    4 6\n",
    "5 7 1    5 8\n",
    "         2 3\n",
    "    \n",
    "2 * 2"
   ]
  },
  {
   "cell_type": "code",
   "execution_count": 112,
   "id": "covered-alfred",
   "metadata": {},
   "outputs": [
    {
     "name": "stdout",
     "output_type": "stream",
     "text": [
      "matrix1 :\n",
      " [[4 7]\n",
      " [8 6]]\n",
      "matrix2 :\n",
      " [[10 11]\n",
      " [17 16]]\n"
     ]
    },
    {
     "data": {
      "text/plain": [
       "array([[159, 156],\n",
       "       [182, 184]])"
      ]
     },
     "execution_count": 112,
     "metadata": {},
     "output_type": "execute_result"
    }
   ],
   "source": [
    "matrix1 = np.random.randint(1,10,size = (2,2))\n",
    "matrix2 = np.random.randint(10,20,size = (2,2))\n",
    "\n",
    "print(\"matrix1 :\\n\",matrix1)\n",
    "print(\"matrix2 :\\n\",matrix2)\n",
    "\n",
    "new_array = np.dot(matrix1, matrix2)\n",
    "new_array"
   ]
  },
  {
   "cell_type": "code",
   "execution_count": 114,
   "id": "adapted-isaac",
   "metadata": {},
   "outputs": [
    {
     "name": "stdout",
     "output_type": "stream",
     "text": [
      "matrix1 :\n",
      " [[9 5 9]\n",
      " [5 9 6]]\n",
      "matrix2 :\n",
      " [[14 13]\n",
      " [19 13]]\n"
     ]
    },
    {
     "ename": "ValueError",
     "evalue": "shapes (2,3) and (2,2) not aligned: 3 (dim 1) != 2 (dim 0)",
     "output_type": "error",
     "traceback": [
      "\u001b[1;31m---------------------------------------------------------------------------\u001b[0m",
      "\u001b[1;31mValueError\u001b[0m                                Traceback (most recent call last)",
      "\u001b[1;32m<ipython-input-114-4d7bd5856ea6>\u001b[0m in \u001b[0;36m<module>\u001b[1;34m\u001b[0m\n\u001b[0;32m      5\u001b[0m \u001b[0mprint\u001b[0m\u001b[1;33m(\u001b[0m\u001b[1;34m\"matrix2 :\\n\"\u001b[0m\u001b[1;33m,\u001b[0m\u001b[0mmatrix2\u001b[0m\u001b[1;33m)\u001b[0m\u001b[1;33m\u001b[0m\u001b[1;33m\u001b[0m\u001b[0m\n\u001b[0;32m      6\u001b[0m \u001b[1;33m\u001b[0m\u001b[0m\n\u001b[1;32m----> 7\u001b[1;33m \u001b[0mnew_array\u001b[0m \u001b[1;33m=\u001b[0m \u001b[0mnp\u001b[0m\u001b[1;33m.\u001b[0m\u001b[0mdot\u001b[0m\u001b[1;33m(\u001b[0m\u001b[0mmatrix1\u001b[0m\u001b[1;33m,\u001b[0m \u001b[0mmatrix2\u001b[0m\u001b[1;33m)\u001b[0m\u001b[1;33m\u001b[0m\u001b[1;33m\u001b[0m\u001b[0m\n\u001b[0m\u001b[0;32m      8\u001b[0m \u001b[0mnew_array\u001b[0m\u001b[1;33m\u001b[0m\u001b[1;33m\u001b[0m\u001b[0m\n",
      "\u001b[1;32m<__array_function__ internals>\u001b[0m in \u001b[0;36mdot\u001b[1;34m(*args, **kwargs)\u001b[0m\n",
      "\u001b[1;31mValueError\u001b[0m: shapes (2,3) and (2,2) not aligned: 3 (dim 1) != 2 (dim 0)"
     ]
    }
   ],
   "source": [
    "matrix1 = np.random.randint(1,10,size = (2,3))\n",
    "matrix2 = np.random.randint(10,20,size = (2,2))\n",
    "\n",
    "print(\"matrix1 :\\n\",matrix1)\n",
    "print(\"matrix2 :\\n\",matrix2)\n",
    "\n",
    "new_array = np.dot(matrix1, matrix2)\n",
    "new_array"
   ]
  },
  {
   "cell_type": "code",
   "execution_count": 116,
   "id": "nasty-calcium",
   "metadata": {},
   "outputs": [
    {
     "name": "stdout",
     "output_type": "stream",
     "text": [
      "matrix1 :\n",
      " [[4 1 6]\n",
      " [1 3 2]]\n",
      "matrix2 :\n",
      " [[10 13]\n",
      " [17 14]\n",
      " [10 14]]\n"
     ]
    },
    {
     "data": {
      "text/plain": [
       "array([[117, 150],\n",
       "       [ 81,  83]])"
      ]
     },
     "execution_count": 116,
     "metadata": {},
     "output_type": "execute_result"
    }
   ],
   "source": [
    "matrix1 = np.random.randint(1,10,size = (2,3))\n",
    "matrix2 = np.random.randint(10,20,size = (3,2))\n",
    "\n",
    "print(\"matrix1 :\\n\",matrix1)\n",
    "print(\"matrix2 :\\n\",matrix2)\n",
    "\n",
    "new_array = np.dot(matrix1, matrix2)\n",
    "new_array"
   ]
  },
  {
   "cell_type": "code",
   "execution_count": 118,
   "id": "chubby-colon",
   "metadata": {},
   "outputs": [
    {
     "name": "stdout",
     "output_type": "stream",
     "text": [
      "matrix1 :\n",
      " [[7 6 2 4 3 1 2 1 9 6]\n",
      " [7 6 4 8 9 2 4 6 9 8]]\n",
      "matrix2 :\n",
      " [[10 13]\n",
      " [15 16]\n",
      " [12 10]\n",
      " [10 18]\n",
      " [11 14]\n",
      " [10 17]\n",
      " [16 16]\n",
      " [18 18]\n",
      " [19 11]\n",
      " [13 12]]\n"
     ]
    },
    {
     "data": {
      "text/plain": [
       "array([[566, 559],\n",
       "       [854, 898]])"
      ]
     },
     "execution_count": 118,
     "metadata": {},
     "output_type": "execute_result"
    }
   ],
   "source": [
    "matrix1 = np.random.randint(1,10,size = (2,10))\n",
    "matrix2 = np.random.randint(10,20,size = (10,2))\n",
    "\n",
    "print(\"matrix1 :\\n\",matrix1)\n",
    "print(\"matrix2 :\\n\",matrix2)\n",
    "\n",
    "new_array = np.dot(matrix1, matrix2)\n",
    "new_array"
   ]
  },
  {
   "cell_type": "code",
   "execution_count": 120,
   "id": "modular-howard",
   "metadata": {},
   "outputs": [
    {
     "name": "stdout",
     "output_type": "stream",
     "text": [
      "matrix1 :\n",
      " [[2 2 3 7 7 6 1 5 1 7]\n",
      " [8 1 3 2 6 4 6 5 5 5]]\n",
      "matrix2 :\n",
      " [[12 15 17]\n",
      " [14 19 19]\n",
      " [11 14 12]\n",
      " [11 14 10]\n",
      " [15 19 16]\n",
      " [13 13 16]\n",
      " [15 17 11]\n",
      " [13 14 12]\n",
      " [19 17 16]\n",
      " [15 12 18]]\n"
     ]
    },
    {
     "data": {
      "text/plain": [
       "array([[549, 607, 599],\n",
       "       [632, 692, 667]])"
      ]
     },
     "execution_count": 120,
     "metadata": {},
     "output_type": "execute_result"
    }
   ],
   "source": [
    "matrix1 = np.random.randint(1,10,size = (2,10))\n",
    "matrix2 = np.random.randint(10,20,size = (10,3))\n",
    "\n",
    "print(\"matrix1 :\\n\",matrix1)\n",
    "print(\"matrix2 :\\n\",matrix2)\n",
    "\n",
    "new_array = np.dot(matrix1, matrix2)\n",
    "new_array"
   ]
  },
  {
   "cell_type": "markdown",
   "id": "outer-player",
   "metadata": {},
   "source": [
    "### Mathematical Operations"
   ]
  },
  {
   "cell_type": "code",
   "execution_count": 121,
   "id": "hydraulic-transsexual",
   "metadata": {},
   "outputs": [],
   "source": [
    "array1 = np.array([2,5,7,3,8])\n"
   ]
  },
  {
   "cell_type": "code",
   "execution_count": 123,
   "id": "changed-finance",
   "metadata": {},
   "outputs": [
    {
     "data": {
      "text/plain": [
       "array([12, 15, 17, 13, 18])"
      ]
     },
     "execution_count": 123,
     "metadata": {},
     "output_type": "execute_result"
    }
   ],
   "source": [
    "array1 + 10"
   ]
  },
  {
   "cell_type": "code",
   "execution_count": 125,
   "id": "functioning-assignment",
   "metadata": {},
   "outputs": [
    {
     "data": {
      "text/plain": [
       "array([1, 4, 6, 2, 7])"
      ]
     },
     "execution_count": 125,
     "metadata": {},
     "output_type": "execute_result"
    }
   ],
   "source": [
    "array1 - 1"
   ]
  },
  {
   "cell_type": "code",
   "execution_count": 127,
   "id": "disciplinary-wyoming",
   "metadata": {},
   "outputs": [
    {
     "data": {
      "text/plain": [
       "array([20, 50, 70, 30, 80])"
      ]
     },
     "execution_count": 127,
     "metadata": {},
     "output_type": "execute_result"
    }
   ],
   "source": [
    "array1 * 10"
   ]
  },
  {
   "cell_type": "code",
   "execution_count": 129,
   "id": "center-schema",
   "metadata": {},
   "outputs": [
    {
     "data": {
      "text/plain": [
       "array([0.2, 0.5, 0.7, 0.3, 0.8])"
      ]
     },
     "execution_count": 129,
     "metadata": {},
     "output_type": "execute_result"
    }
   ],
   "source": [
    "array1 / 10"
   ]
  },
  {
   "cell_type": "code",
   "execution_count": 131,
   "id": "atlantic-creek",
   "metadata": {},
   "outputs": [
    {
     "data": {
      "text/plain": [
       "array([4.        , 1.66666667, 2.33333333, 1.        , 2.66666667])"
      ]
     },
     "execution_count": 131,
     "metadata": {},
     "output_type": "execute_result"
    }
   ],
   "source": [
    "array1 = np.array([12,5,7,3,8])\n",
    "\n",
    "array1/3"
   ]
  },
  {
   "cell_type": "code",
   "execution_count": 133,
   "id": "natural-stress",
   "metadata": {},
   "outputs": [
    {
     "data": {
      "text/plain": [
       "array([3.  , 1.25, 1.75, 0.75, 2.  ])"
      ]
     },
     "execution_count": 133,
     "metadata": {},
     "output_type": "execute_result"
    }
   ],
   "source": [
    "array1 = np.array([12,5,7,3,8])\n",
    "\n",
    "array1/4"
   ]
  },
  {
   "cell_type": "code",
   "execution_count": 135,
   "id": "retained-fifty",
   "metadata": {},
   "outputs": [
    {
     "data": {
      "text/plain": [
       "array([3, 1, 1, 0, 2], dtype=int32)"
      ]
     },
     "execution_count": 135,
     "metadata": {},
     "output_type": "execute_result"
    }
   ],
   "source": [
    "array1 = np.array([12,5,7,3,8])\n",
    "\n",
    "array1//4"
   ]
  },
  {
   "cell_type": "code",
   "execution_count": 137,
   "id": "integrated-heather",
   "metadata": {},
   "outputs": [
    {
     "data": {
      "text/plain": [
       "array([0, 1, 3, 3, 0], dtype=int32)"
      ]
     },
     "execution_count": 137,
     "metadata": {},
     "output_type": "execute_result"
    }
   ],
   "source": [
    "array1 = np.array([12,5,7,3,8])\n",
    "\n",
    "array1 % 4"
   ]
  },
  {
   "cell_type": "code",
   "execution_count": 139,
   "id": "existing-portfolio",
   "metadata": {},
   "outputs": [
    {
     "data": {
      "text/plain": [
       "array([144,  25,  49,   9,  64], dtype=int32)"
      ]
     },
     "execution_count": 139,
     "metadata": {},
     "output_type": "execute_result"
    }
   ],
   "source": [
    "array1 = np.array([12,5,7,3,8])\n",
    "\n",
    "array1 ** 2"
   ]
  },
  {
   "cell_type": "code",
   "execution_count": 141,
   "id": "recorded-example",
   "metadata": {},
   "outputs": [
    {
     "data": {
      "text/plain": [
       "array([1728,  125,  343,   27,  512], dtype=int32)"
      ]
     },
     "execution_count": 141,
     "metadata": {},
     "output_type": "execute_result"
    }
   ],
   "source": [
    "array1 = np.array([12,5,7,3,8])\n",
    "\n",
    "array1 ** 3"
   ]
  },
  {
   "cell_type": "markdown",
   "id": "clear-blackjack",
   "metadata": {},
   "source": [
    "### np.floor"
   ]
  },
  {
   "cell_type": "code",
   "execution_count": 143,
   "id": "ideal-trick",
   "metadata": {},
   "outputs": [
    {
     "data": {
      "text/plain": [
       "array([ 4.,  9.,  1., 10.,  5.])"
      ]
     },
     "execution_count": 143,
     "metadata": {},
     "output_type": "execute_result"
    }
   ],
   "source": [
    "np.floor([4.23, 9.12, 1.3456, 10.67, 5.78])"
   ]
  },
  {
   "cell_type": "code",
   "execution_count": 145,
   "id": "removed-canada",
   "metadata": {},
   "outputs": [
    {
     "data": {
      "text/plain": [
       "array([[ 4.,  9.],\n",
       "       [ 1., 10.]])"
      ]
     },
     "execution_count": 145,
     "metadata": {},
     "output_type": "execute_result"
    }
   ],
   "source": [
    "np.floor([[4.23, 9.12], [1.3456, 10.67]])"
   ]
  },
  {
   "cell_type": "code",
   "execution_count": 147,
   "id": "secure-cliff",
   "metadata": {},
   "outputs": [
    {
     "data": {
      "text/plain": [
       "5.0"
      ]
     },
     "execution_count": 147,
     "metadata": {},
     "output_type": "execute_result"
    }
   ],
   "source": [
    "np.floor(5.7891)"
   ]
  },
  {
   "cell_type": "markdown",
   "id": "architectural-waters",
   "metadata": {},
   "source": [
    "### np.ceil"
   ]
  },
  {
   "cell_type": "code",
   "execution_count": 150,
   "id": "thick-alfred",
   "metadata": {},
   "outputs": [
    {
     "data": {
      "text/plain": [
       "6.0"
      ]
     },
     "execution_count": 150,
     "metadata": {},
     "output_type": "execute_result"
    }
   ],
   "source": [
    "np.floor(5.7891) + 1"
   ]
  },
  {
   "cell_type": "code",
   "execution_count": 153,
   "id": "front-original",
   "metadata": {},
   "outputs": [
    {
     "data": {
      "text/plain": [
       "array([ 4.,  9.,  1., 10.,  5.])"
      ]
     },
     "execution_count": 153,
     "metadata": {},
     "output_type": "execute_result"
    }
   ],
   "source": [
    "array1 = np.array([4.23, 9.12, 1.3456, 10.67, 5.78])\n",
    "result = np.floor(array1) \n",
    "result"
   ]
  },
  {
   "cell_type": "code",
   "execution_count": 155,
   "id": "adverse-parallel",
   "metadata": {},
   "outputs": [
    {
     "data": {
      "text/plain": [
       "array([ 5., 10.,  2., 11.,  6.])"
      ]
     },
     "execution_count": 155,
     "metadata": {},
     "output_type": "execute_result"
    }
   ],
   "source": [
    "array1 = np.array([4.23, 9.12, 1.3456, 10.67, 5.78])\n",
    "result = np.floor(array1)  + 1\n",
    "result"
   ]
  },
  {
   "cell_type": "code",
   "execution_count": 157,
   "id": "presidential-ethics",
   "metadata": {},
   "outputs": [
    {
     "data": {
      "text/plain": [
       "array([ 5., 10.,  2., 11.,  6.])"
      ]
     },
     "execution_count": 157,
     "metadata": {},
     "output_type": "execute_result"
    }
   ],
   "source": [
    "array1 = np.array([4.23, 9.12, 1.3456, 10.67, 5.78])\n",
    "result = np.ceil(array1)\n",
    "result"
   ]
  },
  {
   "cell_type": "code",
   "execution_count": 160,
   "id": "tested-commitment",
   "metadata": {},
   "outputs": [
    {
     "data": {
      "text/plain": [
       "array([ 5., 10.,  2., 11.,  6.])"
      ]
     },
     "execution_count": 160,
     "metadata": {},
     "output_type": "execute_result"
    }
   ],
   "source": [
    "array1 = np.array([4.23, 9.01, 1.3456, 10.67, 5.78])\n",
    "result = np.ceil(array1)\n",
    "result"
   ]
  },
  {
   "cell_type": "code",
   "execution_count": 162,
   "id": "arranged-temple",
   "metadata": {},
   "outputs": [
    {
     "data": {
      "text/plain": [
       "array([[ 5., 10.],\n",
       "       [ 2., 11.]])"
      ]
     },
     "execution_count": 162,
     "metadata": {},
     "output_type": "execute_result"
    }
   ],
   "source": [
    "array1 = np.array([[4.23, 9.01], [1.3456, 10.67]])\n",
    "result = np.ceil(array1)\n",
    "result"
   ]
  },
  {
   "cell_type": "markdown",
   "id": "thick-spider",
   "metadata": {},
   "source": [
    "### np.sqrt"
   ]
  },
  {
   "cell_type": "code",
   "execution_count": 163,
   "id": "strategic-europe",
   "metadata": {},
   "outputs": [],
   "source": [
    "array1 = np.array([64,169,324, 400, 625])"
   ]
  },
  {
   "cell_type": "code",
   "execution_count": 165,
   "id": "enhanced-blues",
   "metadata": {},
   "outputs": [
    {
     "data": {
      "text/plain": [
       "array([ 8., 13., 18., 20., 25.])"
      ]
     },
     "execution_count": 165,
     "metadata": {},
     "output_type": "execute_result"
    }
   ],
   "source": [
    "array1 ** 0.5"
   ]
  },
  {
   "cell_type": "code",
   "execution_count": 167,
   "id": "later-original",
   "metadata": {},
   "outputs": [
    {
     "data": {
      "text/plain": [
       "22.0"
      ]
     },
     "execution_count": 167,
     "metadata": {},
     "output_type": "execute_result"
    }
   ],
   "source": [
    "np.sqrt(484)"
   ]
  },
  {
   "cell_type": "code",
   "execution_count": 171,
   "id": "green-driving",
   "metadata": {},
   "outputs": [
    {
     "data": {
      "text/plain": [
       "array([ 8., 13., 18., 20., 25.])"
      ]
     },
     "execution_count": 171,
     "metadata": {},
     "output_type": "execute_result"
    }
   ],
   "source": [
    "sqr_root = np.sqrt(array1)\n",
    "sqr_root"
   ]
  },
  {
   "cell_type": "code",
   "execution_count": 173,
   "id": "pregnant-blocking",
   "metadata": {},
   "outputs": [
    {
     "data": {
      "text/plain": [
       "4.57"
      ]
     },
     "execution_count": 173,
     "metadata": {},
     "output_type": "execute_result"
    }
   ],
   "source": [
    "round(4.5677,2)"
   ]
  },
  {
   "cell_type": "code",
   "execution_count": 175,
   "id": "searching-parent",
   "metadata": {},
   "outputs": [
    {
     "data": {
      "text/plain": [
       "4.57"
      ]
     },
     "execution_count": 175,
     "metadata": {},
     "output_type": "execute_result"
    }
   ],
   "source": [
    "np.around(4.5677,2)"
   ]
  },
  {
   "cell_type": "code",
   "execution_count": 180,
   "id": "accredited-shell",
   "metadata": {},
   "outputs": [
    {
     "data": {
      "text/plain": [
       "[4.57, 4.67]"
      ]
     },
     "execution_count": 180,
     "metadata": {},
     "output_type": "execute_result"
    }
   ],
   "source": [
    "np.around([4.5677,4.67],2).tolist()"
   ]
  },
  {
   "cell_type": "code",
   "execution_count": 184,
   "id": "celtic-handling",
   "metadata": {},
   "outputs": [
    {
     "name": "stdout",
     "output_type": "stream",
     "text": [
      "array1 : [156 184  95 190 129]\n"
     ]
    },
    {
     "data": {
      "text/plain": [
       "array([12.489996  , 13.56465997,  9.74679434, 13.78404875, 11.35781669])"
      ]
     },
     "execution_count": 184,
     "metadata": {},
     "output_type": "execute_result"
    }
   ],
   "source": [
    "arr1 = np.random.randint(1,200,size = 5)\n",
    "print(\"array1 :\",arr1)\n",
    "np.sqrt(arr1)"
   ]
  },
  {
   "cell_type": "markdown",
   "id": "japanese-track",
   "metadata": {},
   "source": [
    "### np.cbrt"
   ]
  },
  {
   "cell_type": "code",
   "execution_count": 186,
   "id": "touched-terrain",
   "metadata": {},
   "outputs": [
    {
     "data": {
      "text/plain": [
       "array([ 4.,  5.,  6.,  7.,  8.,  9., 10.])"
      ]
     },
     "execution_count": 186,
     "metadata": {},
     "output_type": "execute_result"
    }
   ],
   "source": [
    "array1 = np.array([64,125, 216, 343,512,729,1000])\n",
    "np.cbrt(array1)"
   ]
  },
  {
   "cell_type": "code",
   "execution_count": 233,
   "id": "private-fever",
   "metadata": {},
   "outputs": [
    {
     "data": {
      "text/plain": [
       "array([[4., 5., 6.],\n",
       "       [7., 8., 9.]])"
      ]
     },
     "execution_count": 233,
     "metadata": {},
     "output_type": "execute_result"
    }
   ],
   "source": [
    "array1 = np.array([[64,125, 216] ,[343,512,729]])\n",
    "np.cbrt(array1)"
   ]
  },
  {
   "cell_type": "code",
   "execution_count": null,
   "id": "blocked-slovakia",
   "metadata": {},
   "outputs": [],
   "source": [
    "array1 = np.array([64,125, 216, 343,512,729,1000])\n",
    "np.cbrt(array1)"
   ]
  },
  {
   "cell_type": "code",
   "execution_count": 187,
   "id": "resident-tsunami",
   "metadata": {},
   "outputs": [
    {
     "data": {
      "text/plain": [
       "array([4.87699896, 5.56129777, 3.27106631, 5.47370367, 5.67741137])"
      ]
     },
     "execution_count": 187,
     "metadata": {},
     "output_type": "execute_result"
    }
   ],
   "source": [
    "arr1 = np.random.randint(1,200,size = 5)\n",
    "np.cbrt(arr1)"
   ]
  },
  {
   "cell_type": "code",
   "execution_count": null,
   "id": "minimal-benjamin",
   "metadata": {},
   "outputs": [],
   "source": []
  },
  {
   "cell_type": "code",
   "execution_count": 190,
   "id": "capital-lighter",
   "metadata": {},
   "outputs": [
    {
     "data": {
      "text/plain": [
       "2"
      ]
     },
     "execution_count": 190,
     "metadata": {},
     "output_type": "execute_result"
    }
   ],
   "source": [
    "list1 = [3,4,5,3,6,7,8,5,5,1,10]\n",
    "list1.index(5)"
   ]
  },
  {
   "cell_type": "code",
   "execution_count": 191,
   "id": "anonymous-practice",
   "metadata": {},
   "outputs": [
    {
     "data": {
      "text/plain": [
       "[2, 7, 8]"
      ]
     },
     "execution_count": 191,
     "metadata": {},
     "output_type": "execute_result"
    }
   ],
   "source": [
    "index_list = [i for i,val in enumerate(list1) if val == 5]\n",
    "index_list"
   ]
  },
  {
   "cell_type": "code",
   "execution_count": 193,
   "id": "changing-venture",
   "metadata": {},
   "outputs": [
    {
     "data": {
      "text/plain": [
       "[0, 3]"
      ]
     },
     "execution_count": 193,
     "metadata": {},
     "output_type": "execute_result"
    }
   ],
   "source": [
    "list1 = [3,4,5,3,6,7,8,5,5,1,10]\n",
    "num = 3\n",
    "index_list = [i for i,val in enumerate(list1) if val == num]\n",
    "index_list"
   ]
  },
  {
   "cell_type": "code",
   "execution_count": 195,
   "id": "divine-advisory",
   "metadata": {},
   "outputs": [
    {
     "data": {
      "text/plain": [
       "[4]"
      ]
     },
     "execution_count": 195,
     "metadata": {},
     "output_type": "execute_result"
    }
   ],
   "source": [
    "list1 = [3,4,5,3,6,7,8,5,5,1,10]\n",
    "num = 6\n",
    "index_list = [i for i,val in enumerate(list1) if val == num]\n",
    "index_list"
   ]
  },
  {
   "cell_type": "code",
   "execution_count": 197,
   "id": "worse-surfing",
   "metadata": {},
   "outputs": [
    {
     "data": {
      "text/plain": [
       "[2, 7, 8]"
      ]
     },
     "execution_count": 197,
     "metadata": {},
     "output_type": "execute_result"
    }
   ],
   "source": [
    "list1 = [3,4,5,3,6,7,8,5,5,1,10]\n",
    "num = 5\n",
    "index_list = [i for i,val in enumerate(list1) if val == num]\n",
    "index_list"
   ]
  },
  {
   "cell_type": "markdown",
   "id": "impossible-profit",
   "metadata": {},
   "source": [
    "### np.where"
   ]
  },
  {
   "cell_type": "code",
   "execution_count": null,
   "id": "sensitive-binding",
   "metadata": {},
   "outputs": [],
   "source": [
    "index = np.where(Condition)"
   ]
  },
  {
   "cell_type": "code",
   "execution_count": 199,
   "id": "romance-antigua",
   "metadata": {},
   "outputs": [
    {
     "data": {
      "text/plain": [
       "(array([2, 7, 8], dtype=int64),)"
      ]
     },
     "execution_count": 199,
     "metadata": {},
     "output_type": "execute_result"
    }
   ],
   "source": [
    "list1 = [3,4,5,3,6,7,8,5,5,1,10]\n",
    "array1 = np.array(list1)\n",
    "np.where(array1 == 5)"
   ]
  },
  {
   "cell_type": "code",
   "execution_count": 202,
   "id": "going-grocery",
   "metadata": {},
   "outputs": [
    {
     "data": {
      "text/plain": [
       "(array([ 4,  5,  6, 10], dtype=int64),)"
      ]
     },
     "execution_count": 202,
     "metadata": {},
     "output_type": "execute_result"
    }
   ],
   "source": [
    "array1 = np.array([3,4,5,3,6,7,8,5,5,1,10])\n",
    "\n",
    "index_list = np.where(array1 > 5)\n",
    "index_list"
   ]
  },
  {
   "cell_type": "code",
   "execution_count": 207,
   "id": "hairy-equation",
   "metadata": {},
   "outputs": [
    {
     "data": {
      "text/plain": [
       "tuple"
      ]
     },
     "execution_count": 207,
     "metadata": {},
     "output_type": "execute_result"
    }
   ],
   "source": [
    "array1 = np.array([3,4,5,3,6,7,8,5,5,1,10])\n",
    "\n",
    "index_list = np.where(array1 == 5)\n",
    "type(index_list)"
   ]
  },
  {
   "cell_type": "code",
   "execution_count": 208,
   "id": "occasional-signature",
   "metadata": {},
   "outputs": [
    {
     "data": {
      "text/plain": [
       "array([2, 7, 8], dtype=int64)"
      ]
     },
     "execution_count": 208,
     "metadata": {},
     "output_type": "execute_result"
    }
   ],
   "source": [
    "array1 = np.array([3,4,5,3,6,7,8,5,5,1,10])\n",
    "\n",
    "index_list = np.where(array1 == 5)\n",
    "index_list[0]"
   ]
  },
  {
   "cell_type": "code",
   "execution_count": 212,
   "id": "applied-forth",
   "metadata": {},
   "outputs": [
    {
     "data": {
      "text/plain": [
       "5"
      ]
     },
     "execution_count": 212,
     "metadata": {},
     "output_type": "execute_result"
    }
   ],
   "source": [
    "array1 = np.array([3,4,5,3,6,7,8,5,5,1,10])\n",
    "array1[2]"
   ]
  },
  {
   "cell_type": "code",
   "execution_count": 214,
   "id": "actual-texas",
   "metadata": {},
   "outputs": [
    {
     "data": {
      "text/plain": [
       "array([5, 6])"
      ]
     },
     "execution_count": 214,
     "metadata": {},
     "output_type": "execute_result"
    }
   ],
   "source": [
    "array1 = np.array([3,4,5,3,6,7,8,5,5,1,10])\n",
    "array1[[2,4]]"
   ]
  },
  {
   "cell_type": "code",
   "execution_count": 218,
   "id": "anonymous-litigation",
   "metadata": {},
   "outputs": [
    {
     "data": {
      "text/plain": [
       "array([2, 7, 8], dtype=int64)"
      ]
     },
     "execution_count": 218,
     "metadata": {},
     "output_type": "execute_result"
    }
   ],
   "source": [
    "array1 = np.array([3,4,5,3,6,7,8,5,5,1,10])\n",
    "\n",
    "index_list = np.where(array1 == 5)\n",
    "x = index_list[0]\n",
    "x"
   ]
  },
  {
   "cell_type": "code",
   "execution_count": 219,
   "id": "advised-transparency",
   "metadata": {},
   "outputs": [
    {
     "data": {
      "text/plain": [
       "array([5, 5, 5])"
      ]
     },
     "execution_count": 219,
     "metadata": {},
     "output_type": "execute_result"
    }
   ],
   "source": [
    "array1[x]"
   ]
  },
  {
   "cell_type": "code",
   "execution_count": 222,
   "id": "missing-finland",
   "metadata": {},
   "outputs": [
    {
     "data": {
      "text/plain": [
       "array([0, 5, 7], dtype=int64)"
      ]
     },
     "execution_count": 222,
     "metadata": {},
     "output_type": "execute_result"
    }
   ],
   "source": [
    "array1 = np.array([10,20,30,40,50,10,20,10,30])\n",
    "\n",
    "index_list = np.where(array1 == 10)\n",
    "x = index_list[0]\n",
    "x"
   ]
  },
  {
   "cell_type": "code",
   "execution_count": 224,
   "id": "chronic-intensity",
   "metadata": {},
   "outputs": [
    {
     "data": {
      "text/plain": [
       "array([2, 3, 4, 8], dtype=int64)"
      ]
     },
     "execution_count": 224,
     "metadata": {},
     "output_type": "execute_result"
    }
   ],
   "source": [
    "array1 = np.array([10,20,30,40,50,10,20,10,30])\n",
    "\n",
    "index_list = np.where(array1 >= 30)\n",
    "x = index_list[0]\n",
    "x"
   ]
  },
  {
   "cell_type": "code",
   "execution_count": 226,
   "id": "everyday-luxury",
   "metadata": {},
   "outputs": [
    {
     "data": {
      "text/plain": [
       "array([0, 1, 2, 3, 4, 5, 6, 7, 8], dtype=int64)"
      ]
     },
     "execution_count": 226,
     "metadata": {},
     "output_type": "execute_result"
    }
   ],
   "source": [
    "array1 = np.array([10,20,30,40,50,10,20,10,30])\n",
    "\n",
    "index_list = np.where(array1)\n",
    "x = index_list[0]\n",
    "x"
   ]
  },
  {
   "cell_type": "code",
   "execution_count": 227,
   "id": "handed-motorcycle",
   "metadata": {},
   "outputs": [
    {
     "data": {
      "text/plain": [
       "array([0, 1, 5, 6, 7], dtype=int64)"
      ]
     },
     "execution_count": 227,
     "metadata": {},
     "output_type": "execute_result"
    }
   ],
   "source": [
    "array1 = np.array([10,20,30,40,50,10,20,10,30])\n",
    "\n",
    "index_list = np.where(array1 <= 20 )\n",
    "x = index_list[0]\n",
    "x"
   ]
  },
  {
   "cell_type": "code",
   "execution_count": 228,
   "id": "meaning-daily",
   "metadata": {},
   "outputs": [
    {
     "data": {
      "text/plain": [
       "30"
      ]
     },
     "execution_count": 228,
     "metadata": {},
     "output_type": "execute_result"
    }
   ],
   "source": [
    "array1 = np.array([10,20,30,40,50,10,20,10,30])\n",
    "array1[2]"
   ]
  },
  {
   "cell_type": "code",
   "execution_count": 232,
   "id": "clear-japan",
   "metadata": {},
   "outputs": [
    {
     "data": {
      "text/plain": [
       "array([30, 10, 40])"
      ]
     },
     "execution_count": 232,
     "metadata": {},
     "output_type": "execute_result"
    }
   ],
   "source": [
    "array1 = np.array([10,20,30,40,50,10,20,10,30])\n",
    "array1[[2,5,3]] # [30,10,40]"
   ]
  },
  {
   "cell_type": "code",
   "execution_count": null,
   "id": "preceding-brook",
   "metadata": {},
   "outputs": [],
   "source": []
  }
 ],
 "metadata": {
  "kernelspec": {
   "display_name": "Python 3 (ipykernel)",
   "language": "python",
   "name": "python3"
  },
  "language_info": {
   "codemirror_mode": {
    "name": "ipython",
    "version": 3
   },
   "file_extension": ".py",
   "mimetype": "text/x-python",
   "name": "python",
   "nbconvert_exporter": "python",
   "pygments_lexer": "ipython3",
   "version": "3.9.12"
  }
 },
 "nbformat": 4,
 "nbformat_minor": 5
}
