{
 "cells": [
  {
   "cell_type": "markdown",
   "id": "stable-ozone",
   "metadata": {},
   "source": [
    "# List "
   ]
  },
  {
   "cell_type": "code",
   "execution_count": null,
   "id": "indoor-pakistan",
   "metadata": {},
   "outputs": [],
   "source": [
    "1. Mutable (Changable)\n",
    "2. Ordered Type\n",
    "3. Duplicate Items are allowed"
   ]
  },
  {
   "cell_type": "code",
   "execution_count": 4,
   "id": "knowing-doctrine",
   "metadata": {},
   "outputs": [
    {
     "data": {
      "text/plain": [
       "1"
      ]
     },
     "execution_count": 4,
     "metadata": {},
     "output_type": "execute_result"
    }
   ],
   "source": [
    "list1 = [4,5,6,7,8,4.5,'pyhton',[1,2,3]]\n",
    "list1[-1][0]"
   ]
  },
  {
   "cell_type": "code",
   "execution_count": 6,
   "id": "vocational-south",
   "metadata": {},
   "outputs": [
    {
     "data": {
      "text/plain": [
       "4"
      ]
     },
     "execution_count": 6,
     "metadata": {},
     "output_type": "execute_result"
    }
   ],
   "source": [
    "list2 = [[1,2,3],[10,20,30],[40,50,60],[9,8,7]]\n",
    "len(list2)"
   ]
  },
  {
   "cell_type": "code",
   "execution_count": null,
   "id": "previous-medication",
   "metadata": {},
   "outputs": [],
   "source": [
    "list2 = [[1,2,3],[10,20,30],[40,50,60],[9,8,7]]\n",
    "# new_list = [1,2,3,10,20,30,40,50,60,9,8,7]\n"
   ]
  },
  {
   "cell_type": "code",
   "execution_count": 8,
   "id": "suited-attention",
   "metadata": {},
   "outputs": [
    {
     "name": "stdout",
     "output_type": "stream",
     "text": [
      "[1, 2, 3]\n",
      "[10, 20, 30]\n",
      "[40, 50, 60]\n",
      "[9, 8, 7]\n"
     ]
    }
   ],
   "source": [
    "for i in list2: # 4 times\n",
    "    print(i)"
   ]
  },
  {
   "cell_type": "code",
   "execution_count": 11,
   "id": "limiting-politics",
   "metadata": {},
   "outputs": [
    {
     "data": {
      "text/plain": [
       "[1, 2, 3, 10, 20, 30, 40, 50, 60, 9, 8, 7]"
      ]
     },
     "execution_count": 11,
     "metadata": {},
     "output_type": "execute_result"
    }
   ],
   "source": [
    "new_list = [] # list initialization\n",
    "for i in list2: # 4 times\n",
    "    for j in i:\n",
    "        new_list.append(j)\n",
    "        \n",
    "new_list"
   ]
  },
  {
   "cell_type": "markdown",
   "id": "uniform-terrain",
   "metadata": {},
   "source": [
    "# List Comprehension"
   ]
  },
  {
   "cell_type": "code",
   "execution_count": null,
   "id": "deadly-strategy",
   "metadata": {},
   "outputs": [],
   "source": [
    "Syntax :\n",
    "    \n",
    "new_list = [expressions for var in sequence]\n",
    "new_list = [expressions for var in sequence if condition == True]\n",
    "new_list = [short-hand if-else expression for var in sequence]\n",
    "new_list = [[for var2 in sequence2] for var1 in sequence1]"
   ]
  },
  {
   "cell_type": "code",
   "execution_count": null,
   "id": "normal-estimate",
   "metadata": {},
   "outputs": [],
   "source": []
  },
  {
   "cell_type": "code",
   "execution_count": 15,
   "id": "naughty-undergraduate",
   "metadata": {},
   "outputs": [
    {
     "name": "stdout",
     "output_type": "stream",
     "text": [
      "[27]\n",
      "[27, 64]\n",
      "[27, 64, 125]\n",
      "[27, 64, 125, 216]\n",
      "[27, 64, 125, 216, 343]\n",
      "[27, 64, 125, 216, 343, 512]\n"
     ]
    }
   ],
   "source": [
    "list1 = [3,4,5,6,7,8]\n",
    "cube_list = []\n",
    "for i in list1:\n",
    "    cube = i ** 3\n",
    "    cube_list.append(cube)\n",
    "    print(cube_list)"
   ]
  },
  {
   "cell_type": "code",
   "execution_count": 17,
   "id": "employed-colombia",
   "metadata": {},
   "outputs": [
    {
     "name": "stdout",
     "output_type": "stream",
     "text": [
      "[27, 64, 125, 216, 343, 512]\n"
     ]
    }
   ],
   "source": [
    "list1 = [3,4,5,6,7,8]\n",
    "cube_list = []\n",
    "for i in list1:\n",
    "    cube = i ** 3\n",
    "    cube_list.append(cube)\n",
    "print(cube_list)"
   ]
  },
  {
   "cell_type": "code",
   "execution_count": 19,
   "id": "indonesian-broadcasting",
   "metadata": {},
   "outputs": [
    {
     "name": "stdout",
     "output_type": "stream",
     "text": [
      "[27, 64, 125, 216, 343, 512]\n"
     ]
    }
   ],
   "source": [
    "list1 = [3,4,5,6,7,8]\n",
    "cube_list = []\n",
    "for i in list1:\n",
    "    cube_list.append(i ** 3)\n",
    "print(cube_list)"
   ]
  },
  {
   "cell_type": "code",
   "execution_count": 24,
   "id": "sacred-payday",
   "metadata": {},
   "outputs": [
    {
     "data": {
      "text/plain": [
       "[4, 6, 8, 10, 22]"
      ]
     },
     "execution_count": 24,
     "metadata": {},
     "output_type": "execute_result"
    }
   ],
   "source": [
    "list2 = [3,4,1,6,7,8,10,45,67,22,65]\n",
    "even_list = []\n",
    "for i in list2:\n",
    "    if i %2 == 0:\n",
    "        even_list.append(i)\n",
    "even_list"
   ]
  },
  {
   "cell_type": "code",
   "execution_count": 25,
   "id": "raised-responsibility",
   "metadata": {},
   "outputs": [
    {
     "data": {
      "text/plain": [
       "[3, 1, 7, 45, 67, 65]"
      ]
     },
     "execution_count": 25,
     "metadata": {},
     "output_type": "execute_result"
    }
   ],
   "source": [
    "list2 = [3,4,1,6,7,8,10,45,67,22,65]\n",
    "odd_list = []\n",
    "for i in list2:\n",
    "    if i %2 != 0:\n",
    "        odd_list.append(i)\n",
    "odd_list"
   ]
  },
  {
   "cell_type": "code",
   "execution_count": 28,
   "id": "freelance-repeat",
   "metadata": {},
   "outputs": [
    {
     "data": {
      "text/plain": [
       "[121, 144, 169, 196, 225, 256, 289, 324, 361, 400]"
      ]
     },
     "execution_count": 28,
     "metadata": {},
     "output_type": "execute_result"
    }
   ],
   "source": [
    "squares = []\n",
    "\n",
    "for i in range(11,21):\n",
    "#     print(i)\n",
    "    squares.append(i**2)\n",
    "squares"
   ]
  },
  {
   "cell_type": "code",
   "execution_count": 31,
   "id": "alternative-astronomy",
   "metadata": {},
   "outputs": [
    {
     "data": {
      "text/plain": [
       "['Phy', 'Che', 'Math', 'Bio', 'Eng']"
      ]
     },
     "execution_count": 31,
     "metadata": {},
     "output_type": "execute_result"
    }
   ],
   "source": [
    "sub_names = [\"phy\",'Che','MATH','Bio','ENg']\n",
    "new_list = []\n",
    "for sub in sub_names:\n",
    "    new_list.append(sub.title())\n",
    "new_list"
   ]
  },
  {
   "cell_type": "code",
   "execution_count": 32,
   "id": "meaning-haven",
   "metadata": {},
   "outputs": [
    {
     "name": "stdout",
     "output_type": "stream",
     "text": [
      "[27, 64, 125, 216, 343, 512]\n"
     ]
    }
   ],
   "source": [
    "list1 = [3,4,5,6,7,8]\n",
    "cube_list = []\n",
    "for i in list1:\n",
    "    cube_list.append(i ** 3)\n",
    "print(cube_list)"
   ]
  },
  {
   "cell_type": "code",
   "execution_count": 34,
   "id": "quiet-origin",
   "metadata": {},
   "outputs": [
    {
     "data": {
      "text/plain": [
       "[27, 64, 125, 216, 343, 512]"
      ]
     },
     "execution_count": 34,
     "metadata": {},
     "output_type": "execute_result"
    }
   ],
   "source": [
    "list1 = [3,4,5,6,7,8]\n",
    "cube_list = [i ** 3 for i in list1]\n",
    "cube_list"
   ]
  },
  {
   "cell_type": "code",
   "execution_count": 36,
   "id": "handmade-interstate",
   "metadata": {},
   "outputs": [
    {
     "data": {
      "text/plain": [
       "[1000, 1000, 1000, 1000, 1000, 1000]"
      ]
     },
     "execution_count": 36,
     "metadata": {},
     "output_type": "execute_result"
    }
   ],
   "source": [
    "list1 = [3,4,5,6,7,8]\n",
    "cube_list = [1000 for i in list1]\n",
    "cube_list"
   ]
  },
  {
   "cell_type": "code",
   "execution_count": 38,
   "id": "configured-publicity",
   "metadata": {},
   "outputs": [
    {
     "data": {
      "text/plain": [
       "['Python', 'Python', 'Python', 'Python']"
      ]
     },
     "execution_count": 38,
     "metadata": {},
     "output_type": "execute_result"
    }
   ],
   "source": [
    "list1 = [3,4,5,8]\n",
    "cube_list = ['Python' for i in list1]\n",
    "cube_list"
   ]
  },
  {
   "cell_type": "code",
   "execution_count": 42,
   "id": "revised-myrtle",
   "metadata": {},
   "outputs": [
    {
     "data": {
      "text/plain": [
       "[4, 6, 8, 10, 22]"
      ]
     },
     "execution_count": 42,
     "metadata": {},
     "output_type": "execute_result"
    }
   ],
   "source": [
    "list2 = [3,4,1,6,7,8,10,45,67,22,65]\n",
    "even_list = []\n",
    "for i in list2:\n",
    "    if i %2 == 0:\n",
    "        even_list.append(i)\n",
    "even_list"
   ]
  },
  {
   "cell_type": "code",
   "execution_count": 43,
   "id": "numeric-department",
   "metadata": {},
   "outputs": [
    {
     "data": {
      "text/plain": [
       "[4, 6, 8, 10, 22]"
      ]
     },
     "execution_count": 43,
     "metadata": {},
     "output_type": "execute_result"
    }
   ],
   "source": [
    "list2 = [3,4,1,6,7,8,10,45,67,22,65]\n",
    "even_list = [i for i in list2 if i %2 == 0]\n",
    "even_list"
   ]
  },
  {
   "cell_type": "code",
   "execution_count": 44,
   "id": "sound-billy",
   "metadata": {},
   "outputs": [
    {
     "data": {
      "text/plain": [
       "[100, 100, 100, 100, 100]"
      ]
     },
     "execution_count": 44,
     "metadata": {},
     "output_type": "execute_result"
    }
   ],
   "source": [
    "list2 = [3,4,1,6,7,8,10,45,67,22,65]\n",
    "even_list = [100 for i in list2 if i %2 == 0]\n",
    "even_list"
   ]
  },
  {
   "cell_type": "code",
   "execution_count": 45,
   "id": "prescription-space",
   "metadata": {},
   "outputs": [
    {
     "data": {
      "text/plain": [
       "[3, 1, 7, 45, 67, 65]"
      ]
     },
     "execution_count": 45,
     "metadata": {},
     "output_type": "execute_result"
    }
   ],
   "source": [
    "list2 = [3,4,1,6,7,8,10,45,67,22,65]\n",
    "odd_list = []\n",
    "for i in list2:\n",
    "    if i %2 != 0:\n",
    "        odd_list.append(i)\n",
    "odd_list"
   ]
  },
  {
   "cell_type": "code",
   "execution_count": 47,
   "id": "virgin-solomon",
   "metadata": {},
   "outputs": [
    {
     "data": {
      "text/plain": [
       "[3, 1, 7, 45, 67, 65]"
      ]
     },
     "execution_count": 47,
     "metadata": {},
     "output_type": "execute_result"
    }
   ],
   "source": [
    "list2 = [3,4,1,6,7,8,10,45,67,22,65]\n",
    "odd_list = [i for i in list2 if i%2==1]\n",
    "odd_list"
   ]
  },
  {
   "cell_type": "code",
   "execution_count": 48,
   "id": "confident-monthly",
   "metadata": {},
   "outputs": [
    {
     "data": {
      "text/plain": [
       "['Phy', 'Che', 'Math', 'Bio', 'Eng']"
      ]
     },
     "execution_count": 48,
     "metadata": {},
     "output_type": "execute_result"
    }
   ],
   "source": [
    "sub_names = [\"phy\",'Che','MATH','Bio','ENg']\n",
    "new_list = []\n",
    "for sub in sub_names:\n",
    "    new_list.append(sub.title())\n",
    "new_list"
   ]
  },
  {
   "cell_type": "code",
   "execution_count": 51,
   "id": "obvious-location",
   "metadata": {},
   "outputs": [
    {
     "data": {
      "text/plain": [
       "['Phy', 'Che', 'Math', 'Bio', 'Eng']"
      ]
     },
     "execution_count": 51,
     "metadata": {},
     "output_type": "execute_result"
    }
   ],
   "source": [
    "sub_names = [\"phy\",'Che','MATH','Bio','ENg']\n",
    "new_list = [sub.title() for sub in sub_names]\n",
    "new_list"
   ]
  },
  {
   "cell_type": "code",
   "execution_count": 53,
   "id": "educational-privilege",
   "metadata": {},
   "outputs": [
    {
     "data": {
      "text/plain": [
       "['P', 'y', 't', 'h', 'o', 'n']"
      ]
     },
     "execution_count": 53,
     "metadata": {},
     "output_type": "execute_result"
    }
   ],
   "source": [
    "string = 'Python'\n",
    "list(string)"
   ]
  },
  {
   "cell_type": "code",
   "execution_count": 58,
   "id": "planned-iraqi",
   "metadata": {},
   "outputs": [
    {
     "name": "stdout",
     "output_type": "stream",
     "text": [
      "['P', 'Y', 'T', 'H', 'O', 'N']\n"
     ]
    }
   ],
   "source": [
    "string = 'Python'\n",
    "# ['P', 'Y', 'T', 'H', 'O', 'N']\n",
    "new_list = []\n",
    "for char in string:\n",
    "    new_list.append(char.upper())\n",
    "print(new_list)"
   ]
  },
  {
   "cell_type": "code",
   "execution_count": 61,
   "id": "pointed-enemy",
   "metadata": {},
   "outputs": [
    {
     "data": {
      "text/plain": [
       "['P', 'Y', 'T', 'H', 'O', 'N']"
      ]
     },
     "execution_count": 61,
     "metadata": {},
     "output_type": "execute_result"
    }
   ],
   "source": [
    "string = 'Python'\n",
    "new_list = [char.upper() for char in string]\n",
    "new_list"
   ]
  },
  {
   "cell_type": "code",
   "execution_count": 64,
   "id": "quarterly-israeli",
   "metadata": {},
   "outputs": [
    {
     "name": "stdout",
     "output_type": "stream",
     "text": [
      "[3, 4, 5, 6, 7]\n",
      "[10, 20, 30, 40, 50]\n",
      "[3, 4, 5, 6, 7, 10, 20, 30, 40, 50]\n"
     ]
    }
   ],
   "source": [
    "list1 = [3,4,5,6,7]\n",
    "list2 = [10,20,30,40,50]\n",
    "list3 = list1 + list2\n",
    "print(list1)\n",
    "print(list2)\n",
    "print(list3)"
   ]
  },
  {
   "cell_type": "code",
   "execution_count": 67,
   "id": "explicit-interval",
   "metadata": {},
   "outputs": [
    {
     "name": "stdout",
     "output_type": "stream",
     "text": [
      "[3, 4, 5, 6, 7, 10, 20, 30, 40, 50]\n",
      "[10, 20, 30, 40, 50]\n"
     ]
    }
   ],
   "source": [
    "list1 = [3,4,5,6,7]\n",
    "list2 = [10,20,30,40,50]\n",
    "list1 = list1 + list2 # list1.extend(list2)\n",
    "print(list1)\n",
    "print(list2)\n"
   ]
  },
  {
   "cell_type": "code",
   "execution_count": 68,
   "id": "saving-damages",
   "metadata": {},
   "outputs": [],
   "source": [
    "list1 = [3,4,5,6,7]\n",
    "list2 = [10,20,30,40,50]\n",
    "\n",
    "new_list = [13,24,35,46,57]\n"
   ]
  },
  {
   "cell_type": "code",
   "execution_count": 75,
   "id": "figured-elder",
   "metadata": {},
   "outputs": [
    {
     "name": "stdout",
     "output_type": "stream",
     "text": [
      "[13, 24, 35, 46, 57]\n"
     ]
    }
   ],
   "source": [
    "list1 = [3,4,5,6,7]\n",
    "list2 = [10,20,30,40,50]\n",
    "new_list = []\n",
    "for index,val in enumerate(list1):\n",
    "    result = val + list2[index]\n",
    "    new_list.append(result)\n",
    "print(new_list)"
   ]
  },
  {
   "cell_type": "code",
   "execution_count": 77,
   "id": "union-confidentiality",
   "metadata": {},
   "outputs": [
    {
     "data": {
      "text/plain": [
       "[13, 24, 35, 46, 57]"
      ]
     },
     "execution_count": 77,
     "metadata": {},
     "output_type": "execute_result"
    }
   ],
   "source": [
    "list1 = [3,4,5,6,7]\n",
    "list2 = [10,20,30,40,50]\n",
    "new_list = [val + list2[index] for index,val in enumerate(list1) ]\n",
    "new_list"
   ]
  },
  {
   "cell_type": "code",
   "execution_count": null,
   "id": "compound-spokesman",
   "metadata": {},
   "outputs": [],
   "source": []
  },
  {
   "cell_type": "code",
   "execution_count": 80,
   "id": "subsequent-cemetery",
   "metadata": {},
   "outputs": [
    {
     "name": "stdout",
     "output_type": "stream",
     "text": [
      "[3, 1, 7, 45, 67, 65]\n",
      "[4, 6, 8, 10, 22]\n"
     ]
    }
   ],
   "source": [
    "list2 = [3,4,1,6,7,8,10,45,67,22,65]\n",
    "odd_list = [i for i in list2 if i%2==1]\n",
    "even_list = [i for i in list2 if i%2==0]\n",
    "print(odd_list)\n",
    "print(even_list)"
   ]
  },
  {
   "cell_type": "code",
   "execution_count": null,
   "id": "fatty-penny",
   "metadata": {},
   "outputs": [],
   "source": [
    "list2 = [3,4,1,6,7,8,10,45,67,22,65]\n",
    "odd_list = [ for i in list2]\n"
   ]
  },
  {
   "cell_type": "code",
   "execution_count": 83,
   "id": "brilliant-bruce",
   "metadata": {},
   "outputs": [
    {
     "name": "stdout",
     "output_type": "stream",
     "text": [
      "Even Number\n"
     ]
    }
   ],
   "source": [
    "x = 50\n",
    "if x%2 == 0:\n",
    "    print(\"Even Number\")\n",
    "else:\n",
    "    print(\"Odd Number\")"
   ]
  },
  {
   "cell_type": "code",
   "execution_count": 85,
   "id": "legitimate-vaccine",
   "metadata": {},
   "outputs": [
    {
     "name": "stdout",
     "output_type": "stream",
     "text": [
      "Even Number\n"
     ]
    }
   ],
   "source": [
    "x = 50\n",
    "print(\"Even Number\") if x%2 == 0 else print(\"Odd Number\")"
   ]
  },
  {
   "cell_type": "code",
   "execution_count": 87,
   "id": "russian-identifier",
   "metadata": {},
   "outputs": [
    {
     "data": {
      "text/plain": [
       "'Even Number'"
      ]
     },
     "execution_count": 87,
     "metadata": {},
     "output_type": "execute_result"
    }
   ],
   "source": [
    "x = 50\n",
    "\"Even Number\" if x%2 == 0 else \"Odd Number\""
   ]
  },
  {
   "cell_type": "code",
   "execution_count": 88,
   "id": "wanted-price",
   "metadata": {},
   "outputs": [
    {
     "data": {
      "text/plain": [
       "'Odd Number'"
      ]
     },
     "execution_count": 88,
     "metadata": {},
     "output_type": "execute_result"
    }
   ],
   "source": [
    "x = 51\n",
    "\"Even Number\" if x%2 == 0 else \"Odd Number\""
   ]
  },
  {
   "cell_type": "code",
   "execution_count": 93,
   "id": "cloudy-bulgaria",
   "metadata": {},
   "outputs": [
    {
     "name": "stdout",
     "output_type": "stream",
     "text": [
      "['Odd', 'Even', 'Odd', 'Even', 'Odd', 'Even', 'Even', 'Odd', 'Odd', 'Even', 'Odd']\n"
     ]
    }
   ],
   "source": [
    "list2 = [3,4,1,6,7,8,10,45,67,22,65]\n",
    "print(odd_list)"
   ]
  },
  {
   "cell_type": "code",
   "execution_count": 99,
   "id": "motivated-masters",
   "metadata": {},
   "outputs": [
    {
     "data": {
      "text/plain": [
       "['Monday', 'Friday', 'Sunday']"
      ]
     },
     "execution_count": 99,
     "metadata": {},
     "output_type": "execute_result"
    }
   ],
   "source": [
    "days_list = ['Monday','Tuesday','Wednesday','Thursday','Friday','Saturday','Sunday']\n",
    "new_list = []\n",
    "for day in days_list:\n",
    "    if len(day) == 6:\n",
    "        new_list.append(day)\n",
    "new_list"
   ]
  },
  {
   "cell_type": "code",
   "execution_count": 101,
   "id": "afraid-communications",
   "metadata": {},
   "outputs": [
    {
     "data": {
      "text/plain": [
       "['Monday', 'Friday', 'Sunday']"
      ]
     },
     "execution_count": 101,
     "metadata": {},
     "output_type": "execute_result"
    }
   ],
   "source": [
    "days_list = ['Monday','Tuesday','Wednesday','Thursday','Friday','Saturday','Sunday']\n",
    "new_list = [day for day in days_list if len(day) == 6]\n",
    "new_list"
   ]
  },
  {
   "cell_type": "code",
   "execution_count": 109,
   "id": "imposed-plate",
   "metadata": {},
   "outputs": [
    {
     "name": "stdout",
     "output_type": "stream",
     "text": [
      "[[3, 4, 5], [3, 4, 5], [3, 4, 5], [3, 4, 5]]\n"
     ]
    }
   ],
   "source": [
    "matrix = []\n",
    "for i in range(4): # 4 times\n",
    "    list1 = []\n",
    "    for j in range(3,6): # 3 times\n",
    "        list1.append(j)\n",
    "    matrix.append(list1)\n",
    "print(matrix)"
   ]
  },
  {
   "cell_type": "code",
   "execution_count": 114,
   "id": "future-carolina",
   "metadata": {},
   "outputs": [
    {
     "data": {
      "text/plain": [
       "[[3, 4, 5], [3, 4, 5], [3, 4, 5], [3, 4, 5]]"
      ]
     },
     "execution_count": 114,
     "metadata": {},
     "output_type": "execute_result"
    }
   ],
   "source": [
    "matrix = [ [j for j in range(3,6)] for i in range(4)]\n",
    "matrix"
   ]
  },
  {
   "cell_type": "code",
   "execution_count": 115,
   "id": "smooth-sunday",
   "metadata": {},
   "outputs": [
    {
     "name": "stdout",
     "output_type": "stream",
     "text": [
      "[4, 6, 8, 10, 22]\n",
      "[3, 1, 7, 45, 67, 65]\n"
     ]
    }
   ],
   "source": [
    "list2 = [3,4,1,6,7,8,10,45,67,22,65]\n",
    "even_list = []\n",
    "odd_list = []\n",
    "for i in list2:\n",
    "    if i %2 == 0:\n",
    "        even_list.append(i)\n",
    "        \n",
    "    else:\n",
    "        odd_list.append(i)\n",
    "print(even_list)\n",
    "print(odd_list)"
   ]
  }
 ],
 "metadata": {
  "kernelspec": {
   "display_name": "Python 3 (ipykernel)",
   "language": "python",
   "name": "python3"
  },
  "language_info": {
   "codemirror_mode": {
    "name": "ipython",
    "version": 3
   },
   "file_extension": ".py",
   "mimetype": "text/x-python",
   "name": "python",
   "nbconvert_exporter": "python",
   "pygments_lexer": "ipython3",
   "version": "3.9.12"
  }
 },
 "nbformat": 4,
 "nbformat_minor": 5
}
