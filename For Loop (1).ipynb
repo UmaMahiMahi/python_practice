{
 "cells": [
  {
   "cell_type": "markdown",
   "id": "committed-piano",
   "metadata": {},
   "source": [
    "# For Loop"
   ]
  },
  {
   "cell_type": "code",
   "execution_count": null,
   "id": "fourth-quarterly",
   "metadata": {},
   "outputs": [],
   "source": []
  },
  {
   "cell_type": "markdown",
   "id": "photographic-stuff",
   "metadata": {},
   "source": [
    "#### Loop Control Statements"
   ]
  },
  {
   "cell_type": "code",
   "execution_count": null,
   "id": "requested-chancellor",
   "metadata": {},
   "outputs": [],
   "source": [
    "1. break \n",
    "2. continue\n",
    "3. pass"
   ]
  },
  {
   "cell_type": "markdown",
   "id": "detected-mexico",
   "metadata": {},
   "source": [
    "### Fibonacci Series"
   ]
  },
  {
   "cell_type": "code",
   "execution_count": null,
   "id": "dangerous-creator",
   "metadata": {},
   "outputs": [],
   "source": [
    "Fibonacci:\n",
    "    0 1 1 2 3 5 8 13 21 34 55 89\n",
    "    \n",
    "n = 8:\n",
    "    0 1   1   2  3 5 8 13\n",
    "    f s   n\n",
    "      f   s   n\n",
    "          f   s  n\n",
    "              f  s  n\n",
    "n = 5:\n",
    "    0 1 1 2 3\n",
    "    \n",
    "n = 10:\n",
    "    0 1 1 2 3 5 8 13 21 34"
   ]
  },
  {
   "cell_type": "code",
   "execution_count": 9,
   "id": "reverse-planning",
   "metadata": {},
   "outputs": [
    {
     "name": "stdout",
     "output_type": "stream",
     "text": [
      "Fibonacci Series :\n",
      "0\n",
      "1\n",
      "1\n",
      "2\n",
      "3\n",
      "5\n",
      "8\n",
      "13\n"
     ]
    }
   ],
   "source": [
    "first = 0\n",
    "second = 1\n",
    "n = 8\n",
    "\n",
    "print(\"Fibonacci Series :\")\n",
    "print(first)\n",
    "print(second)\n",
    "\n",
    "for i in range(n-2): # i = 1(3rd iteration)\n",
    "    new = first + second # 1 + 2\n",
    "    print(new)           # 2\n",
    "    first = second  # first = 1\n",
    "    second = new    # second = 2"
   ]
  },
  {
   "cell_type": "code",
   "execution_count": 12,
   "id": "sensitive-murder",
   "metadata": {},
   "outputs": [
    {
     "name": "stdout",
     "output_type": "stream",
     "text": [
      "Fibonacci Series :\n",
      "0\n",
      "1\n",
      "1\n",
      "2\n",
      "3\n",
      "5\n",
      "8\n",
      "13\n"
     ]
    }
   ],
   "source": [
    "first = 0\n",
    "second = 1\n",
    "n = 8\n",
    "\n",
    "print(\"Fibonacci Series :\")\n",
    "print(first)\n",
    "print(second)\n",
    "\n",
    "for i in range(n-2): # i = 1(3rd iteration)\n",
    "    new = first + second\n",
    "    first, second  = second , new\n",
    "    print(new)"
   ]
  },
  {
   "cell_type": "code",
   "execution_count": 15,
   "id": "looking-cricket",
   "metadata": {},
   "outputs": [
    {
     "name": "stdout",
     "output_type": "stream",
     "text": [
      "Fibonacci Series :\n",
      "0\n",
      "1\n",
      "1\n",
      "2\n",
      "3\n",
      "5\n",
      "8\n",
      "13\n"
     ]
    }
   ],
   "source": [
    "first = 0\n",
    "second = 1\n",
    "n = 8\n",
    "\n",
    "print(\"Fibonacci Series :\")\n",
    "print(first)\n",
    "print(second)\n",
    "\n",
    "for i in range(n-2): # i = 1(3rd iteration)\n",
    "    print(first + second)\n",
    "    first, second  = second , first + second"
   ]
  },
  {
   "cell_type": "code",
   "execution_count": 16,
   "id": "about-increase",
   "metadata": {},
   "outputs": [
    {
     "name": "stdout",
     "output_type": "stream",
     "text": [
      "Fibonacci Series :\n",
      "0\n",
      "1\n",
      "1\n",
      "2\n",
      "3\n",
      "5\n",
      "8\n",
      "13\n"
     ]
    }
   ],
   "source": [
    "first = 0\n",
    "second = 1\n",
    "n = 8\n",
    "\n",
    "print(\"Fibonacci Series :\")\n",
    "print(first)\n",
    "print(second)\n",
    "\n",
    "for i in range(n-2): # i = 1(3rd iteration)\n",
    "    print(first + second)\n",
    "    first, second  = second , first + second"
   ]
  },
  {
   "cell_type": "code",
   "execution_count": 18,
   "id": "parental-broad",
   "metadata": {},
   "outputs": [
    {
     "name": "stdout",
     "output_type": "stream",
     "text": [
      "Python\n",
      "Class\n"
     ]
    }
   ],
   "source": [
    "print('Python')\n",
    "print(\"Class\")"
   ]
  },
  {
   "cell_type": "code",
   "execution_count": 20,
   "id": "threatened-driving",
   "metadata": {},
   "outputs": [
    {
     "name": "stdout",
     "output_type": "stream",
     "text": [
      "Python\n",
      "Class\n",
      "Machine Learning\n"
     ]
    }
   ],
   "source": [
    "print('Python')\n",
    "print(\"Class\")\n",
    "print(\"Machine Learning\")"
   ]
  },
  {
   "cell_type": "code",
   "execution_count": 26,
   "id": "national-fraction",
   "metadata": {},
   "outputs": [
    {
     "name": "stdout",
     "output_type": "stream",
     "text": [
      "Python+++Class\n"
     ]
    }
   ],
   "source": [
    "print('Python',end='+++')\n",
    "print('Class')"
   ]
  },
  {
   "cell_type": "code",
   "execution_count": 28,
   "id": "metallic-twelve",
   "metadata": {},
   "outputs": [
    {
     "name": "stdout",
     "output_type": "stream",
     "text": [
      "Python\n",
      "Class\n"
     ]
    }
   ],
   "source": [
    "print('Python',end='\\n')\n",
    "print('Class')"
   ]
  },
  {
   "cell_type": "code",
   "execution_count": 30,
   "id": "sorted-kitchen",
   "metadata": {},
   "outputs": [
    {
     "name": "stdout",
     "output_type": "stream",
     "text": [
      "Python Class\n"
     ]
    }
   ],
   "source": [
    "print('Python',end=' ')\n",
    "print('Class')"
   ]
  },
  {
   "cell_type": "code",
   "execution_count": 34,
   "id": "fitting-woman",
   "metadata": {},
   "outputs": [
    {
     "name": "stdout",
     "output_type": "stream",
     "text": [
      "Python *** Class ++ "
     ]
    }
   ],
   "source": [
    "print('Python',end=' *** ')\n",
    "print('Class',end=' ++ ')"
   ]
  },
  {
   "cell_type": "code",
   "execution_count": 35,
   "id": "adequate-fantasy",
   "metadata": {},
   "outputs": [
    {
     "name": "stdout",
     "output_type": "stream",
     "text": [
      "Python *** Class\n"
     ]
    }
   ],
   "source": [
    "print('Python',end=' *** ')\n",
    "print('Class',end='\\n')"
   ]
  },
  {
   "cell_type": "code",
   "execution_count": 36,
   "id": "consistent-halifax",
   "metadata": {},
   "outputs": [
    {
     "name": "stdout",
     "output_type": "stream",
     "text": [
      "python\n",
      "class\n"
     ]
    }
   ],
   "source": [
    "print(\"python\\nclass\")"
   ]
  },
  {
   "cell_type": "code",
   "execution_count": 38,
   "id": "otherwise-monitoring",
   "metadata": {},
   "outputs": [
    {
     "name": "stdout",
     "output_type": "stream",
     "text": [
      "Python\n",
      "Class\n",
      "Machine Learning\n"
     ]
    }
   ],
   "source": [
    "print('Python',end = '\\n')\n",
    "print(\"Class\")\n",
    "print(\"Machine Learning\")"
   ]
  },
  {
   "cell_type": "code",
   "execution_count": 43,
   "id": "tropical-utility",
   "metadata": {},
   "outputs": [
    {
     "name": "stdout",
     "output_type": "stream",
     "text": [
      "10 20\n",
      "Data Science\n"
     ]
    }
   ],
   "source": [
    "a = 10\n",
    "b = 20\n",
    "c = 'Data Science'\n",
    "print(a,end = ' ')\n",
    "print(b)\n",
    "print(c)"
   ]
  },
  {
   "cell_type": "code",
   "execution_count": 45,
   "id": "independent-plate",
   "metadata": {},
   "outputs": [
    {
     "name": "stdout",
     "output_type": "stream",
     "text": [
      "10 20 Data Science\n"
     ]
    }
   ],
   "source": [
    "a = 10\n",
    "b = 20\n",
    "c = 'Data Science'\n",
    "print(a,end = ' ')\n",
    "print(b,end = ' ')\n",
    "print(c)"
   ]
  },
  {
   "cell_type": "code",
   "execution_count": 47,
   "id": "prostate-stone",
   "metadata": {},
   "outputs": [
    {
     "name": "stdout",
     "output_type": "stream",
     "text": [
      "10*20*Data Science\n"
     ]
    }
   ],
   "source": [
    "a = 10\n",
    "b = 20\n",
    "c = 'Data Science'\n",
    "print(a,end = '*')\n",
    "print(b,end = '*')\n",
    "print(c)"
   ]
  },
  {
   "cell_type": "code",
   "execution_count": 49,
   "id": "short-validation",
   "metadata": {},
   "outputs": [
    {
     "name": "stdout",
     "output_type": "stream",
     "text": [
      "Python Class\n",
      "Machine Learning\n"
     ]
    }
   ],
   "source": [
    "print('Python',end = ' ')\n",
    "print(\"Class\",end = '\\n')\n",
    "print(\"Machine Learning\")"
   ]
  },
  {
   "cell_type": "code",
   "execution_count": 51,
   "id": "attached-times",
   "metadata": {},
   "outputs": [
    {
     "name": "stdout",
     "output_type": "stream",
     "text": [
      "Python Class Machine Learning\n"
     ]
    }
   ],
   "source": [
    "print('Python',end = ' ')\n",
    "print(\"Class\",end = ' ')\n",
    "print(\"Machine Learning\")"
   ]
  },
  {
   "cell_type": "code",
   "execution_count": 54,
   "id": "comparative-regular",
   "metadata": {},
   "outputs": [
    {
     "name": "stdout",
     "output_type": "stream",
     "text": [
      "1\n",
      "2\n",
      "3\n",
      "4\n",
      "5\n",
      "6\n",
      "7\n",
      "8\n",
      "9\n",
      "10\n"
     ]
    }
   ],
   "source": [
    "for i in range(1,11): # i = 1\n",
    "    print(i,end = '\\n')  # i = 1"
   ]
  },
  {
   "cell_type": "code",
   "execution_count": 58,
   "id": "accepted-intermediate",
   "metadata": {},
   "outputs": [
    {
     "name": "stdout",
     "output_type": "stream",
     "text": [
      "1 2 3 4 5 6 7 8 9 10 100\n",
      "200\n"
     ]
    }
   ],
   "source": [
    "for i in range(1,11): # i = 1\n",
    "    print(i,end = ' ')  # i = 1\n",
    "print(100)\n",
    "print(200)"
   ]
  },
  {
   "cell_type": "code",
   "execution_count": 61,
   "id": "oriental-parker",
   "metadata": {},
   "outputs": [
    {
     "name": "stdout",
     "output_type": "stream",
     "text": [
      "10 20 30\n"
     ]
    }
   ],
   "source": [
    "a = 10\n",
    "b = 20\n",
    "c = 30\n",
    "print(a,b,c,sep = ' ')"
   ]
  },
  {
   "cell_type": "code",
   "execution_count": 63,
   "id": "compact-headquarters",
   "metadata": {},
   "outputs": [
    {
     "name": "stdout",
     "output_type": "stream",
     "text": [
      "10-20-30\n"
     ]
    }
   ],
   "source": [
    "a = 10\n",
    "b = 20\n",
    "c = 30\n",
    "print(a,b,c,sep = '-')"
   ]
  },
  {
   "cell_type": "code",
   "execution_count": 65,
   "id": "polar-preservation",
   "metadata": {},
   "outputs": [
    {
     "name": "stdout",
     "output_type": "stream",
     "text": [
      "value in variable a is : 100\n"
     ]
    }
   ],
   "source": [
    "a = 100\n",
    "x = \"value in variable a is :\"\n",
    "print(x,a)"
   ]
  },
  {
   "cell_type": "code",
   "execution_count": 68,
   "id": "velvet-athletics",
   "metadata": {},
   "outputs": [
    {
     "name": "stdout",
     "output_type": "stream",
     "text": [
      "value in variable a is : 100\n"
     ]
    }
   ],
   "source": [
    "a = 100\n",
    "print(\"value in variable a is :\",a,sep = ' ')"
   ]
  },
  {
   "cell_type": "code",
   "execution_count": 70,
   "id": "universal-traffic",
   "metadata": {},
   "outputs": [
    {
     "name": "stdout",
     "output_type": "stream",
     "text": [
      "value in variable a is :100\n"
     ]
    }
   ],
   "source": [
    "a = 100\n",
    "print(\"value in variable a is :\",a,sep = '')"
   ]
  },
  {
   "cell_type": "code",
   "execution_count": 80,
   "id": "musical-consumer",
   "metadata": {},
   "outputs": [
    {
     "name": "stdout",
     "output_type": "stream",
     "text": [
      "Fibonacci Series :\n",
      "0 1 1 2 3 5 8 13 21 34 "
     ]
    }
   ],
   "source": [
    "first = 0\n",
    "second = 1\n",
    "n = 10\n",
    "\n",
    "print(\"Fibonacci Series :\")\n",
    "print(first,second,end = ' ')\n",
    "\n",
    "for i in range(n-2):\n",
    "    print(first + second,end = ' ')\n",
    "    first, second  = second , first + second"
   ]
  },
  {
   "cell_type": "code",
   "execution_count": 82,
   "id": "homeless-shoot",
   "metadata": {},
   "outputs": [
    {
     "name": "stdout",
     "output_type": "stream",
     "text": [
      "Fibonacci Series : 0 1 1 2 3 5 8 13 21 34 "
     ]
    }
   ],
   "source": [
    "first,second,n = 0,1,10\n",
    "print(\"Fibonacci Series :\",first,second,end = ' ')\n",
    "for i in range(n-2):\n",
    "    print(first + second,end = ' ')\n",
    "    first, second  = second , first + second"
   ]
  },
  {
   "cell_type": "markdown",
   "id": "worth-remainder",
   "metadata": {},
   "source": [
    "## Prime Numbers"
   ]
  },
  {
   "cell_type": "code",
   "execution_count": null,
   "id": "linear-design",
   "metadata": {},
   "outputs": [],
   "source": [
    "Prime Numbers :\n",
    "    If number is divisible by 1 and itself\n",
    "    \n",
    "5 >> 2,3,4\n",
    "7 >> 2,3,4,5,6\n",
    "11 >> 2,3,4,5,6,7,8,9,10\n",
    "15 >> 2,3,4,5,6,7,8,9,10,11,12,13,14\n",
    "\n",
    "19 >> 2,3,4,5,6,7,8,9,10,11,12,13,14,15,16,17,18\n",
    "10 >> 2,..,9\n"
   ]
  },
  {
   "cell_type": "code",
   "execution_count": 90,
   "id": "passing-strike",
   "metadata": {},
   "outputs": [
    {
     "name": "stdout",
     "output_type": "stream",
     "text": [
      "18 is not a prime number\n"
     ]
    }
   ],
   "source": [
    "n = 18\n",
    "for i in range(2,n): # i = 2\n",
    "    if n%i == 0: # True\n",
    "        print(f\"{n} is not a prime number\")\n",
    "        break"
   ]
  },
  {
   "cell_type": "code",
   "execution_count": 108,
   "id": "environmental-turtle",
   "metadata": {},
   "outputs": [
    {
     "name": "stdout",
     "output_type": "stream",
     "text": [
      "15 is not a prime number\n"
     ]
    }
   ],
   "source": [
    "n = 15\n",
    "for i in range(2,n//2): \n",
    "    if n%i == 0: \n",
    "        print(f\"{n} is not a prime number\")\n",
    "        break\n",
    "    \n",
    "else:\n",
    "    print(f\"{n} is a prime number\")\n",
    "    "
   ]
  },
  {
   "cell_type": "code",
   "execution_count": 107,
   "id": "intimate-cedar",
   "metadata": {},
   "outputs": [
    {
     "name": "stdout",
     "output_type": "stream",
     "text": [
      "2\n",
      "3\n",
      "4\n",
      "5\n",
      "6\n",
      "7\n",
      "8\n"
     ]
    }
   ],
   "source": [
    "n = 17\n",
    "for i in range(2,n//2+ 1): \n",
    "    print(i)"
   ]
  },
  {
   "cell_type": "code",
   "execution_count": 104,
   "id": "suited-narrow",
   "metadata": {},
   "outputs": [
    {
     "data": {
      "text/plain": [
       "5.0"
      ]
     },
     "execution_count": 104,
     "metadata": {},
     "output_type": "execute_result"
    }
   ],
   "source": [
    "25 ** 0.5"
   ]
  },
  {
   "cell_type": "code",
   "execution_count": null,
   "id": "advance-divorce",
   "metadata": {},
   "outputs": [],
   "source": [
    "25 ** 0.5"
   ]
  },
  {
   "cell_type": "code",
   "execution_count": null,
   "id": "unnecessary-satisfaction",
   "metadata": {},
   "outputs": [],
   "source": []
  }
 ],
 "metadata": {
  "kernelspec": {
   "display_name": "Python 3 (ipykernel)",
   "language": "python",
   "name": "python3"
  },
  "language_info": {
   "codemirror_mode": {
    "name": "ipython",
    "version": 3
   },
   "file_extension": ".py",
   "mimetype": "text/x-python",
   "name": "python",
   "nbconvert_exporter": "python",
   "pygments_lexer": "ipython3",
   "version": "3.9.12"
  }
 },
 "nbformat": 4,
 "nbformat_minor": 5
}
