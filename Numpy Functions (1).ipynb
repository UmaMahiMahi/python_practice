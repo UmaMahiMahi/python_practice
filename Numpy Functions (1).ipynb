{
 "cells": [
  {
   "cell_type": "code",
   "execution_count": 20,
   "id": "tired-criticism",
   "metadata": {},
   "outputs": [],
   "source": [
    "import numpy as np"
   ]
  },
  {
   "cell_type": "markdown",
   "id": "wooden-exclusion",
   "metadata": {},
   "source": [
    "### Numpy Functions"
   ]
  },
  {
   "cell_type": "markdown",
   "id": "overhead-moment",
   "metadata": {},
   "source": [
    "### Sorting"
   ]
  },
  {
   "cell_type": "code",
   "execution_count": 3,
   "id": "bearing-crest",
   "metadata": {},
   "outputs": [
    {
     "data": {
      "text/plain": [
       "array([1, 2, 3, 4, 5, 6])"
      ]
     },
     "execution_count": 3,
     "metadata": {},
     "output_type": "execute_result"
    }
   ],
   "source": [
    "array = np.sort([3,4,5,6,1,2])\n",
    "np.sort(array)"
   ]
  },
  {
   "cell_type": "code",
   "execution_count": 5,
   "id": "beautiful-yemen",
   "metadata": {},
   "outputs": [
    {
     "data": {
      "text/plain": [
       "array([6, 5, 4, 3, 2, 1])"
      ]
     },
     "execution_count": 5,
     "metadata": {},
     "output_type": "execute_result"
    }
   ],
   "source": [
    "array = np.sort([3,4,5,6,1,2])\n",
    "-np.sort(-array)"
   ]
  },
  {
   "cell_type": "markdown",
   "id": "intense-dispatch",
   "metadata": {},
   "source": [
    "### np.sum"
   ]
  },
  {
   "cell_type": "code",
   "execution_count": 8,
   "id": "powered-perth",
   "metadata": {},
   "outputs": [
    {
     "data": {
      "text/plain": [
       "25"
      ]
     },
     "execution_count": 8,
     "metadata": {},
     "output_type": "execute_result"
    }
   ],
   "source": [
    "array1 = np.array([3,4,6,1,3,8])\n",
    "np.sum(array1)"
   ]
  },
  {
   "cell_type": "markdown",
   "id": "sharing-table",
   "metadata": {},
   "source": [
    "### Np.cumsum()"
   ]
  },
  {
   "cell_type": "code",
   "execution_count": 14,
   "id": "solved-accused",
   "metadata": {},
   "outputs": [
    {
     "data": {
      "text/plain": [
       "array([0.15, 0.2 , 0.3 , 0.25, 0.1 ])"
      ]
     },
     "execution_count": 14,
     "metadata": {},
     "output_type": "execute_result"
    }
   ],
   "source": [
    "array2 = np.array([0.15,0.20,0.30,0.25,0.1])\n",
    "array2"
   ]
  },
  {
   "cell_type": "code",
   "execution_count": 15,
   "id": "smoking-minority",
   "metadata": {},
   "outputs": [
    {
     "data": {
      "text/plain": [
       "0.9999999999999999"
      ]
     },
     "execution_count": 15,
     "metadata": {},
     "output_type": "execute_result"
    }
   ],
   "source": [
    "np.sum(array2)"
   ]
  },
  {
   "cell_type": "code",
   "execution_count": 16,
   "id": "civic-produce",
   "metadata": {},
   "outputs": [
    {
     "data": {
      "text/plain": [
       "array([0.15, 0.35, 0.65, 0.9 , 1.  ])"
      ]
     },
     "execution_count": 16,
     "metadata": {},
     "output_type": "execute_result"
    }
   ],
   "source": [
    "np.cumsum(array2)"
   ]
  },
  {
   "cell_type": "code",
   "execution_count": 19,
   "id": "terminal-transsexual",
   "metadata": {},
   "outputs": [
    {
     "name": "stdout",
     "output_type": "stream",
     "text": [
      "[0.15 0.2  0.3  0.25 0.1  0.45 0.6 ]\n"
     ]
    },
    {
     "data": {
      "text/plain": [
       "array([0.15, 0.35, 0.65, 0.9 , 1.  , 1.45, 2.05])"
      ]
     },
     "execution_count": 19,
     "metadata": {},
     "output_type": "execute_result"
    }
   ],
   "source": [
    "array2 = np.array([0.15,0.20,0.30,0.25,0.1,0.45,0.60])\n",
    "print(array2)\n",
    "np.cumsum(array2)"
   ]
  },
  {
   "cell_type": "code",
   "execution_count": null,
   "id": "curious-uniform",
   "metadata": {},
   "outputs": [],
   "source": [
    "# 100 >> columns\n",
    "# 0.60, 0.20, 0.10,0.05,0.02"
   ]
  },
  {
   "cell_type": "markdown",
   "id": "capable-shuttle",
   "metadata": {},
   "source": [
    "### Delete items from array"
   ]
  },
  {
   "cell_type": "code",
   "execution_count": 21,
   "id": "cultural-portsmouth",
   "metadata": {},
   "outputs": [
    {
     "data": {
      "text/plain": [
       "array([3, 4, 5, 6, 7, 2, 3])"
      ]
     },
     "execution_count": 21,
     "metadata": {},
     "output_type": "execute_result"
    }
   ],
   "source": [
    "array1 = np.array([3,4,5,6,7,2,3])\n",
    "array1"
   ]
  },
  {
   "cell_type": "code",
   "execution_count": 23,
   "id": "compact-national",
   "metadata": {},
   "outputs": [
    {
     "data": {
      "text/plain": [
       "array([3, 5, 6, 7, 2, 3])"
      ]
     },
     "execution_count": 23,
     "metadata": {},
     "output_type": "execute_result"
    }
   ],
   "source": [
    "np.delete(array1,1)"
   ]
  },
  {
   "cell_type": "code",
   "execution_count": null,
   "id": "heard-monitor",
   "metadata": {},
   "outputs": [],
   "source": []
  }
 ],
 "metadata": {
  "kernelspec": {
   "display_name": "Python 3",
   "language": "python",
   "name": "python3"
  },
  "language_info": {
   "codemirror_mode": {
    "name": "ipython",
    "version": 3
   },
   "file_extension": ".py",
   "mimetype": "text/x-python",
   "name": "python",
   "nbconvert_exporter": "python",
   "pygments_lexer": "ipython3",
   "version": "3.8.7"
  }
 },
 "nbformat": 4,
 "nbformat_minor": 5
}
