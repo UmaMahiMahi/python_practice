{
 "cells": [
  {
   "cell_type": "markdown",
   "id": "geological-retro",
   "metadata": {},
   "source": [
    "### Lambda Functions"
   ]
  },
  {
   "cell_type": "code",
   "execution_count": null,
   "id": "brief-glass",
   "metadata": {},
   "outputs": [],
   "source": [
    "Anonymous Function >> Function without name"
   ]
  },
  {
   "cell_type": "code",
   "execution_count": null,
   "id": "expected-brooklyn",
   "metadata": {},
   "outputs": [],
   "source": [
    "lambda functions are defined by using lambda keyword\n",
    "lambda is reserved keyword in python\n",
    "\n",
    "No need to use def keyword and return statement \n",
    "\n",
    "Higher Order Functions >> Function takes argument as another function\n",
    "\n",
    "map(function_name,iterables)\n",
    "filter(function_name,)\n"
   ]
  },
  {
   "cell_type": "markdown",
   "id": "statutory-target",
   "metadata": {},
   "source": [
    "### Syntax"
   ]
  },
  {
   "cell_type": "code",
   "execution_count": null,
   "id": "norwegian-syria",
   "metadata": {},
   "outputs": [],
   "source": [
    "lambda arguments : expression\n",
    "\n",
    "arguments >> Multiple  \n",
    "expression >> Single "
   ]
  },
  {
   "cell_type": "code",
   "execution_count": null,
   "id": "searching-liabilities",
   "metadata": {},
   "outputs": [],
   "source": [
    "def fibonacci(n):\n",
    "    print(\"Fibonacci\")\n",
    "    return series\n",
    "\n",
    "fibonacci(8)"
   ]
  },
  {
   "cell_type": "code",
   "execution_count": 2,
   "id": "engaged-consequence",
   "metadata": {},
   "outputs": [
    {
     "data": {
      "text/plain": [
       "125"
      ]
     },
     "execution_count": 2,
     "metadata": {},
     "output_type": "execute_result"
    }
   ],
   "source": [
    "def cube(n):\n",
    "    return n ** 3\n",
    "\n",
    "cube(5)"
   ]
  },
  {
   "cell_type": "code",
   "execution_count": 4,
   "id": "photographic-strand",
   "metadata": {},
   "outputs": [
    {
     "data": {
      "text/plain": [
       "512"
      ]
     },
     "execution_count": 4,
     "metadata": {},
     "output_type": "execute_result"
    }
   ],
   "source": [
    "cube(8)"
   ]
  },
  {
   "cell_type": "code",
   "execution_count": 5,
   "id": "gothic-silicon",
   "metadata": {},
   "outputs": [
    {
     "data": {
      "text/plain": [
       "729"
      ]
     },
     "execution_count": 5,
     "metadata": {},
     "output_type": "execute_result"
    }
   ],
   "source": [
    "cube(9)"
   ]
  },
  {
   "cell_type": "code",
   "execution_count": 13,
   "id": "brown-boring",
   "metadata": {},
   "outputs": [
    {
     "data": {
      "text/plain": [
       "30"
      ]
     },
     "execution_count": 13,
     "metadata": {},
     "output_type": "execute_result"
    }
   ],
   "source": [
    "def multiplication(a,b):\n",
    "    mul = a * b\n",
    "    return mul\n",
    "\n",
    "multiplication(5,6)"
   ]
  },
  {
   "cell_type": "code",
   "execution_count": 14,
   "id": "collectible-sheffield",
   "metadata": {},
   "outputs": [
    {
     "ename": "TypeError",
     "evalue": "multiplication() takes 2 positional arguments but 3 were given",
     "output_type": "error",
     "traceback": [
      "\u001b[1;31m---------------------------------------------------------------------------\u001b[0m",
      "\u001b[1;31mTypeError\u001b[0m                                 Traceback (most recent call last)",
      "\u001b[1;32m<ipython-input-14-21899dde61bb>\u001b[0m in \u001b[0;36m<module>\u001b[1;34m\u001b[0m\n\u001b[0;32m      3\u001b[0m     \u001b[1;32mreturn\u001b[0m \u001b[0mmul\u001b[0m\u001b[1;33m\u001b[0m\u001b[1;33m\u001b[0m\u001b[0m\n\u001b[0;32m      4\u001b[0m \u001b[1;33m\u001b[0m\u001b[0m\n\u001b[1;32m----> 5\u001b[1;33m \u001b[0mmultiplication\u001b[0m\u001b[1;33m(\u001b[0m\u001b[1;36m5\u001b[0m\u001b[1;33m,\u001b[0m\u001b[1;36m6\u001b[0m\u001b[1;33m,\u001b[0m\u001b[1;36m7\u001b[0m\u001b[1;33m)\u001b[0m\u001b[1;33m\u001b[0m\u001b[1;33m\u001b[0m\u001b[0m\n\u001b[0m",
      "\u001b[1;31mTypeError\u001b[0m: multiplication() takes 2 positional arguments but 3 were given"
     ]
    }
   ],
   "source": [
    "def multiplication(a,b):\n",
    "    mul = a * b\n",
    "    return mul\n",
    "\n",
    "multiplication(5,6,7)"
   ]
  },
  {
   "cell_type": "code",
   "execution_count": 9,
   "id": "light-confirmation",
   "metadata": {},
   "outputs": [
    {
     "data": {
      "text/plain": [
       "15"
      ]
     },
     "execution_count": 9,
     "metadata": {},
     "output_type": "execute_result"
    }
   ],
   "source": [
    "(lambda a,b : a * b)(3,5)"
   ]
  },
  {
   "cell_type": "code",
   "execution_count": 11,
   "id": "worth-flour",
   "metadata": {},
   "outputs": [
    {
     "data": {
      "text/plain": [
       "200"
      ]
     },
     "execution_count": 11,
     "metadata": {},
     "output_type": "execute_result"
    }
   ],
   "source": [
    "(lambda a,b : a * b)(10,20)"
   ]
  },
  {
   "cell_type": "code",
   "execution_count": 15,
   "id": "fundamental-express",
   "metadata": {},
   "outputs": [
    {
     "ename": "TypeError",
     "evalue": "<lambda>() takes 2 positional arguments but 3 were given",
     "output_type": "error",
     "traceback": [
      "\u001b[1;31m---------------------------------------------------------------------------\u001b[0m",
      "\u001b[1;31mTypeError\u001b[0m                                 Traceback (most recent call last)",
      "\u001b[1;32m<ipython-input-15-a3cfd46f01ef>\u001b[0m in \u001b[0;36m<module>\u001b[1;34m\u001b[0m\n\u001b[1;32m----> 1\u001b[1;33m \u001b[1;33m(\u001b[0m\u001b[1;32mlambda\u001b[0m \u001b[0ma\u001b[0m\u001b[1;33m,\u001b[0m\u001b[0mb\u001b[0m \u001b[1;33m:\u001b[0m \u001b[0ma\u001b[0m \u001b[1;33m*\u001b[0m \u001b[0mb\u001b[0m\u001b[1;33m)\u001b[0m\u001b[1;33m(\u001b[0m\u001b[1;36m10\u001b[0m\u001b[1;33m,\u001b[0m\u001b[1;36m20\u001b[0m\u001b[1;33m,\u001b[0m\u001b[1;36m30\u001b[0m\u001b[1;33m)\u001b[0m\u001b[1;33m\u001b[0m\u001b[1;33m\u001b[0m\u001b[0m\n\u001b[0m",
      "\u001b[1;31mTypeError\u001b[0m: <lambda>() takes 2 positional arguments but 3 were given"
     ]
    }
   ],
   "source": [
    "(lambda a,b : a * b)(10,20,30)"
   ]
  },
  {
   "cell_type": "code",
   "execution_count": 17,
   "id": "quarterly-relief",
   "metadata": {},
   "outputs": [
    {
     "ename": "TypeError",
     "evalue": "<lambda>() missing 1 required positional argument: 'b'",
     "output_type": "error",
     "traceback": [
      "\u001b[1;31m---------------------------------------------------------------------------\u001b[0m",
      "\u001b[1;31mTypeError\u001b[0m                                 Traceback (most recent call last)",
      "\u001b[1;32m<ipython-input-17-5649b50616ef>\u001b[0m in \u001b[0;36m<module>\u001b[1;34m\u001b[0m\n\u001b[1;32m----> 1\u001b[1;33m \u001b[1;33m(\u001b[0m\u001b[1;32mlambda\u001b[0m \u001b[0ma\u001b[0m\u001b[1;33m,\u001b[0m\u001b[0mb\u001b[0m \u001b[1;33m:\u001b[0m \u001b[0ma\u001b[0m \u001b[1;33m*\u001b[0m \u001b[0mb\u001b[0m\u001b[1;33m)\u001b[0m\u001b[1;33m(\u001b[0m\u001b[1;36m10\u001b[0m\u001b[1;33m)\u001b[0m\u001b[1;33m\u001b[0m\u001b[1;33m\u001b[0m\u001b[0m\n\u001b[0m",
      "\u001b[1;31mTypeError\u001b[0m: <lambda>() missing 1 required positional argument: 'b'"
     ]
    }
   ],
   "source": [
    "(lambda a,b : a * b)(10)"
   ]
  },
  {
   "cell_type": "code",
   "execution_count": 19,
   "id": "disturbed-greece",
   "metadata": {},
   "outputs": [
    {
     "data": {
      "text/plain": [
       "50"
      ]
     },
     "execution_count": 19,
     "metadata": {},
     "output_type": "execute_result"
    }
   ],
   "source": [
    "(lambda a,b = 5 : a * b)(10)"
   ]
  },
  {
   "cell_type": "code",
   "execution_count": 21,
   "id": "pending-exception",
   "metadata": {},
   "outputs": [
    {
     "data": {
      "text/plain": [
       "50"
      ]
     },
     "execution_count": 21,
     "metadata": {},
     "output_type": "execute_result"
    }
   ],
   "source": [
    "mul = lambda a,b = 5 : a * b\n",
    "mul(10)"
   ]
  },
  {
   "cell_type": "code",
   "execution_count": 23,
   "id": "powered-suite",
   "metadata": {},
   "outputs": [
    {
     "data": {
      "text/plain": [
       "50"
      ]
     },
     "execution_count": 23,
     "metadata": {},
     "output_type": "execute_result"
    }
   ],
   "source": [
    "mul = lambda a,b = 5 : a * b\n",
    "\n",
    "(lambda a,b = 5 : a * b)(10)"
   ]
  },
  {
   "cell_type": "code",
   "execution_count": 25,
   "id": "enhanced-roads",
   "metadata": {},
   "outputs": [
    {
     "ename": "TypeError",
     "evalue": "<lambda>() takes from 1 to 2 positional arguments but 3 were given",
     "output_type": "error",
     "traceback": [
      "\u001b[1;31m---------------------------------------------------------------------------\u001b[0m",
      "\u001b[1;31mTypeError\u001b[0m                                 Traceback (most recent call last)",
      "\u001b[1;32m<ipython-input-25-262c25a0af98>\u001b[0m in \u001b[0;36m<module>\u001b[1;34m\u001b[0m\n\u001b[0;32m      1\u001b[0m \u001b[0mmul\u001b[0m \u001b[1;33m=\u001b[0m \u001b[1;32mlambda\u001b[0m \u001b[0ma\u001b[0m\u001b[1;33m,\u001b[0m\u001b[0mb\u001b[0m \u001b[1;33m=\u001b[0m \u001b[1;36m5\u001b[0m \u001b[1;33m:\u001b[0m \u001b[0ma\u001b[0m \u001b[1;33m*\u001b[0m \u001b[0mb\u001b[0m\u001b[1;33m\u001b[0m\u001b[1;33m\u001b[0m\u001b[0m\n\u001b[1;32m----> 2\u001b[1;33m \u001b[0mmul\u001b[0m\u001b[1;33m(\u001b[0m\u001b[1;36m10\u001b[0m\u001b[1;33m,\u001b[0m\u001b[1;36m30\u001b[0m\u001b[1;33m,\u001b[0m\u001b[1;36m40\u001b[0m\u001b[1;33m)\u001b[0m\u001b[1;33m\u001b[0m\u001b[1;33m\u001b[0m\u001b[0m\n\u001b[0m",
      "\u001b[1;31mTypeError\u001b[0m: <lambda>() takes from 1 to 2 positional arguments but 3 were given"
     ]
    }
   ],
   "source": [
    "mul = lambda a,b = 5 : a * b\n",
    "mul(10,30,40)"
   ]
  },
  {
   "cell_type": "code",
   "execution_count": 29,
   "id": "signed-cedar",
   "metadata": {},
   "outputs": [
    {
     "name": "stdout",
     "output_type": "stream",
     "text": [
      "6\n",
      "30\n",
      "12\n",
      "56\n"
     ]
    }
   ],
   "source": [
    "mul = lambda a,b = 5 : a * b\n",
    "\n",
    "print(mul(2,3))\n",
    "print(mul(6,5))\n",
    "print(mul(4,3))\n",
    "print(mul(7,8))"
   ]
  },
  {
   "cell_type": "code",
   "execution_count": 32,
   "id": "important-reservoir",
   "metadata": {},
   "outputs": [
    {
     "name": "stdout",
     "output_type": "stream",
     "text": [
      "100\n",
      "100\n",
      "100\n",
      "100\n"
     ]
    }
   ],
   "source": [
    "x = lambda a : 100\n",
    "\n",
    "print(x(2))\n",
    "print(x(6))\n",
    "print(x(4))\n",
    "print(x(7))"
   ]
  },
  {
   "cell_type": "code",
   "execution_count": 34,
   "id": "ruled-elements",
   "metadata": {},
   "outputs": [
    {
     "name": "stdout",
     "output_type": "stream",
     "text": [
      "PYTHON\n",
      "PYTHON\n",
      "PYTHON\n",
      "PYTHON\n"
     ]
    }
   ],
   "source": [
    "x = lambda a : \"PYTHON\"\n",
    "\n",
    "print(x(2))\n",
    "print(x(6))\n",
    "print(x(4))\n",
    "print(x(7))"
   ]
  },
  {
   "cell_type": "code",
   "execution_count": 36,
   "id": "improved-jefferson",
   "metadata": {},
   "outputs": [
    {
     "name": "stdout",
     "output_type": "stream",
     "text": [
      "20\n",
      "60\n",
      "40\n",
      "70\n"
     ]
    }
   ],
   "source": [
    "x = lambda a : a * 10\n",
    "\n",
    "print(x(2))\n",
    "print(x(6))\n",
    "print(x(4))\n",
    "print(x(7))"
   ]
  },
  {
   "cell_type": "code",
   "execution_count": 38,
   "id": "strong-carter",
   "metadata": {},
   "outputs": [
    {
     "name": "stdout",
     "output_type": "stream",
     "text": [
      "4\n",
      "12\n",
      "8\n",
      "14\n"
     ]
    }
   ],
   "source": [
    "x = lambda a : a * 2\n",
    "\n",
    "print(x(2))\n",
    "print(x(6))\n",
    "print(x(4))\n",
    "print(x(7))"
   ]
  },
  {
   "cell_type": "code",
   "execution_count": 40,
   "id": "interstate-carpet",
   "metadata": {},
   "outputs": [
    {
     "name": "stdout",
     "output_type": "stream",
     "text": [
      "102\n",
      "106\n",
      "104\n",
      "107\n"
     ]
    }
   ],
   "source": [
    "x = lambda a : a +100 \n",
    "\n",
    "print(x(2))\n",
    "print(x(6))\n",
    "print(x(4))\n",
    "print(x(7))"
   ]
  },
  {
   "cell_type": "code",
   "execution_count": 42,
   "id": "qualified-lawrence",
   "metadata": {},
   "outputs": [
    {
     "name": "stdout",
     "output_type": "stream",
     "text": [
      "8\n",
      "216\n",
      "64\n",
      "343\n"
     ]
    }
   ],
   "source": [
    "x = lambda a : a ** 3\n",
    "\n",
    "print(x(2))\n",
    "print(x(6))\n",
    "print(x(4))\n",
    "print(x(7))"
   ]
  },
  {
   "cell_type": "code",
   "execution_count": 44,
   "id": "joined-leave",
   "metadata": {},
   "outputs": [
    {
     "name": "stdout",
     "output_type": "stream",
     "text": [
      "8\n",
      "216\n",
      "64\n",
      "343\n"
     ]
    }
   ],
   "source": [
    "cube = lambda a : a ** 3\n",
    "\n",
    "print(cube(2))\n",
    "print(cube(6))\n",
    "print(cube(4))\n",
    "print(cube(7))"
   ]
  },
  {
   "cell_type": "code",
   "execution_count": 47,
   "id": "unique-computer",
   "metadata": {},
   "outputs": [
    {
     "name": "stdout",
     "output_type": "stream",
     "text": [
      "4\n",
      "36\n",
      "16\n",
      "49\n"
     ]
    }
   ],
   "source": [
    "sqr = lambda a : a ** 2\n",
    "\n",
    "print(sqr(2))\n",
    "print(sqr(6))\n",
    "print(sqr(4))\n",
    "print(sqr(7))"
   ]
  },
  {
   "cell_type": "code",
   "execution_count": 50,
   "id": "dressed-justice",
   "metadata": {},
   "outputs": [
    {
     "name": "stdout",
     "output_type": "stream",
     "text": [
      "a == 3, b == 4, c == 5\n"
     ]
    },
    {
     "data": {
      "text/plain": [
       "4.0"
      ]
     },
     "execution_count": 50,
     "metadata": {},
     "output_type": "execute_result"
    }
   ],
   "source": [
    "def average(a,b,c):\n",
    "    print(f\"a == {a}, b == {b}, c == {c}\")\n",
    "    avg = (a+b+c)/3\n",
    "    return avg\n",
    "\n",
    "average(3,4,5)"
   ]
  },
  {
   "cell_type": "code",
   "execution_count": 52,
   "id": "animated-accounting",
   "metadata": {},
   "outputs": [
    {
     "data": {
      "text/plain": [
       "5.0"
      ]
     },
     "execution_count": 52,
     "metadata": {},
     "output_type": "execute_result"
    }
   ],
   "source": [
    "(lambda a,b,c : (a+b+c)/3)(4,5,6)"
   ]
  },
  {
   "cell_type": "code",
   "execution_count": 53,
   "id": "sticky-citizen",
   "metadata": {},
   "outputs": [
    {
     "data": {
      "text/plain": [
       "4.0"
      ]
     },
     "execution_count": 53,
     "metadata": {},
     "output_type": "execute_result"
    }
   ],
   "source": [
    "(lambda a,b,c : (a+b+c)/3)(3,4,5)"
   ]
  },
  {
   "cell_type": "code",
   "execution_count": 55,
   "id": "metallic-pledge",
   "metadata": {},
   "outputs": [
    {
     "data": {
      "text/plain": [
       "4.0"
      ]
     },
     "execution_count": 55,
     "metadata": {},
     "output_type": "execute_result"
    }
   ],
   "source": [
    "avg = lambda a,b,c : (a+b+c)/3\n",
    "avg(3,4,5)"
   ]
  },
  {
   "cell_type": "code",
   "execution_count": 57,
   "id": "closing-wound",
   "metadata": {},
   "outputs": [
    {
     "data": {
      "text/plain": [
       "20.0"
      ]
     },
     "execution_count": 57,
     "metadata": {},
     "output_type": "execute_result"
    }
   ],
   "source": [
    "avg(10,20,30)"
   ]
  },
  {
   "cell_type": "code",
   "execution_count": 60,
   "id": "inappropriate-prediction",
   "metadata": {},
   "outputs": [
    {
     "data": {
      "text/plain": [
       "26.666666666666668"
      ]
     },
     "execution_count": 60,
     "metadata": {},
     "output_type": "execute_result"
    }
   ],
   "source": [
    "avg = lambda a,b,c : (a+b+c)/3\n",
    "avg(a=10,b=30,c =40)"
   ]
  },
  {
   "cell_type": "code",
   "execution_count": 61,
   "id": "increased-encounter",
   "metadata": {},
   "outputs": [
    {
     "data": {
      "text/plain": [
       "20.0"
      ]
     },
     "execution_count": 61,
     "metadata": {},
     "output_type": "execute_result"
    }
   ],
   "source": [
    "avg = lambda a,b,c : (a+b+c)/3\n",
    "avg(c = 10, a = 20, b = 30)"
   ]
  },
  {
   "cell_type": "code",
   "execution_count": 63,
   "id": "innovative-modification",
   "metadata": {},
   "outputs": [
    {
     "ename": "TypeError",
     "evalue": "<lambda>() got multiple values for argument 'a'",
     "output_type": "error",
     "traceback": [
      "\u001b[1;31m---------------------------------------------------------------------------\u001b[0m",
      "\u001b[1;31mTypeError\u001b[0m                                 Traceback (most recent call last)",
      "\u001b[1;32m<ipython-input-63-af91be4ee347>\u001b[0m in \u001b[0;36m<module>\u001b[1;34m\u001b[0m\n\u001b[0;32m      1\u001b[0m \u001b[0mavg\u001b[0m \u001b[1;33m=\u001b[0m \u001b[1;32mlambda\u001b[0m \u001b[0ma\u001b[0m\u001b[1;33m,\u001b[0m\u001b[0mb\u001b[0m\u001b[1;33m,\u001b[0m\u001b[0mc\u001b[0m \u001b[1;33m:\u001b[0m \u001b[1;33m(\u001b[0m\u001b[0ma\u001b[0m\u001b[1;33m+\u001b[0m\u001b[0mb\u001b[0m\u001b[1;33m+\u001b[0m\u001b[0mc\u001b[0m\u001b[1;33m)\u001b[0m\u001b[1;33m/\u001b[0m\u001b[1;36m3\u001b[0m\u001b[1;33m\u001b[0m\u001b[1;33m\u001b[0m\u001b[0m\n\u001b[1;32m----> 2\u001b[1;33m \u001b[0mavg\u001b[0m\u001b[1;33m(\u001b[0m\u001b[1;36m100\u001b[0m\u001b[1;33m,\u001b[0m \u001b[0ma\u001b[0m \u001b[1;33m=\u001b[0m \u001b[1;36m20\u001b[0m\u001b[1;33m,\u001b[0m \u001b[0mb\u001b[0m \u001b[1;33m=\u001b[0m \u001b[1;36m30\u001b[0m\u001b[1;33m)\u001b[0m\u001b[1;33m\u001b[0m\u001b[1;33m\u001b[0m\u001b[0m\n\u001b[0m",
      "\u001b[1;31mTypeError\u001b[0m: <lambda>() got multiple values for argument 'a'"
     ]
    }
   ],
   "source": [
    "avg = lambda a,b,c : (a+b+c)/3\n",
    "avg(100, a = 20, b = 30)"
   ]
  },
  {
   "cell_type": "code",
   "execution_count": 65,
   "id": "egyptian-rwanda",
   "metadata": {},
   "outputs": [
    {
     "data": {
      "text/plain": [
       "50.0"
      ]
     },
     "execution_count": 65,
     "metadata": {},
     "output_type": "execute_result"
    }
   ],
   "source": [
    "avg = lambda a,b,c : (a+b+c)/3\n",
    "avg(100, c = 20, b = 30)"
   ]
  },
  {
   "cell_type": "code",
   "execution_count": 67,
   "id": "worth-laundry",
   "metadata": {},
   "outputs": [
    {
     "data": {
      "text/plain": [
       "20.0"
      ]
     },
     "execution_count": 67,
     "metadata": {},
     "output_type": "execute_result"
    }
   ],
   "source": [
    "avg = lambda a,b,c : (a+b+c)/3\n",
    "avg(10,20,30)"
   ]
  },
  {
   "cell_type": "code",
   "execution_count": 70,
   "id": "identified-keyboard",
   "metadata": {},
   "outputs": [
    {
     "data": {
      "text/plain": [
       "26.666666666666668"
      ]
     },
     "execution_count": 70,
     "metadata": {},
     "output_type": "execute_result"
    }
   ],
   "source": [
    "avg = lambda a,b,c=50 : (a+b+c)/3\n",
    "avg(10,20)"
   ]
  },
  {
   "cell_type": "code",
   "execution_count": 72,
   "id": "contained-positive",
   "metadata": {},
   "outputs": [
    {
     "data": {
      "text/plain": [
       "20.0"
      ]
     },
     "execution_count": 72,
     "metadata": {},
     "output_type": "execute_result"
    }
   ],
   "source": [
    "avg = lambda a,b,c = 50 : (a+b+c)/3\n",
    "avg(10,20,c = 30)"
   ]
  },
  {
   "cell_type": "code",
   "execution_count": 75,
   "id": "equal-accident",
   "metadata": {},
   "outputs": [
    {
     "data": {
      "text/plain": [
       "20.0"
      ]
     },
     "execution_count": 75,
     "metadata": {},
     "output_type": "execute_result"
    }
   ],
   "source": [
    "avg = lambda a,b = 20,c = 50 : (a+b+c)/3\n",
    "avg(10,c = 30)"
   ]
  },
  {
   "cell_type": "code",
   "execution_count": 77,
   "id": "entitled-private",
   "metadata": {},
   "outputs": [
    {
     "data": {
      "text/plain": [
       "16.666666666666668"
      ]
     },
     "execution_count": 77,
     "metadata": {},
     "output_type": "execute_result"
    }
   ],
   "source": [
    "avg = lambda a,b = 20,c = 50 : (a+b+c)/3\n",
    "avg(10,b = 10,c = 30)"
   ]
  },
  {
   "cell_type": "code",
   "execution_count": 79,
   "id": "velvet-nickname",
   "metadata": {},
   "outputs": [
    {
     "ename": "SyntaxError",
     "evalue": "positional argument follows keyword argument (<ipython-input-79-65f31b0c6397>, line 2)",
     "output_type": "error",
     "traceback": [
      "\u001b[1;36m  File \u001b[1;32m\"<ipython-input-79-65f31b0c6397>\"\u001b[1;36m, line \u001b[1;32m2\u001b[0m\n\u001b[1;33m    avg(10,b = 10,40)\u001b[0m\n\u001b[1;37m                  ^\u001b[0m\n\u001b[1;31mSyntaxError\u001b[0m\u001b[1;31m:\u001b[0m positional argument follows keyword argument\n"
     ]
    }
   ],
   "source": [
    "avg = lambda a,b = 20,c = 50 : (a+b+c)/3\n",
    "avg(10,b = 10,40)"
   ]
  },
  {
   "cell_type": "code",
   "execution_count": 81,
   "id": "prostate-premises",
   "metadata": {},
   "outputs": [
    {
     "data": {
      "text/plain": [
       "<function sum(iterable, /, start=0)>"
      ]
     },
     "execution_count": 81,
     "metadata": {},
     "output_type": "execute_result"
    }
   ],
   "source": [
    "sum"
   ]
  },
  {
   "cell_type": "code",
   "execution_count": 86,
   "id": "handmade-louisiana",
   "metadata": {},
   "outputs": [
    {
     "data": {
      "text/plain": [
       "3.0"
      ]
     },
     "execution_count": 86,
     "metadata": {},
     "output_type": "execute_result"
    }
   ],
   "source": [
    "avg = lambda n1,n2,n3,n4,n5 : sum([n1,n2,n3,n4,n5])/5\n",
    "avg(1,2,3,4,5)"
   ]
  },
  {
   "cell_type": "code",
   "execution_count": 91,
   "id": "independent-crazy",
   "metadata": {},
   "outputs": [
    {
     "data": {
      "text/plain": [
       "2.75"
      ]
     },
     "execution_count": 91,
     "metadata": {},
     "output_type": "execute_result"
    }
   ],
   "source": [
    "avg = lambda n1,n2,n3,n5 : sum([n1,n2,n3,n5])/4\n",
    "avg(1,2,3,5)"
   ]
  },
  {
   "cell_type": "code",
   "execution_count": 90,
   "id": "iraqi-consensus",
   "metadata": {},
   "outputs": [
    {
     "data": {
      "text/plain": [
       "2.75"
      ]
     },
     "execution_count": 90,
     "metadata": {},
     "output_type": "execute_result"
    }
   ],
   "source": [
    "avg = lambda *args : sum(args)/len(args)\n",
    "avg(1,2,3,5)"
   ]
  },
  {
   "cell_type": "code",
   "execution_count": 93,
   "id": "narrative-response",
   "metadata": {},
   "outputs": [
    {
     "data": {
      "text/plain": [
       "3.4"
      ]
     },
     "execution_count": 93,
     "metadata": {},
     "output_type": "execute_result"
    }
   ],
   "source": [
    "avg = lambda *args : sum(args)/len(args)\n",
    "avg(1,2,3,5,6)"
   ]
  },
  {
   "cell_type": "code",
   "execution_count": 95,
   "id": "initial-submission",
   "metadata": {},
   "outputs": [
    {
     "data": {
      "text/plain": [
       "5.666666666666667"
      ]
     },
     "execution_count": 95,
     "metadata": {},
     "output_type": "execute_result"
    }
   ],
   "source": [
    "avg(1,2,3,5,6,7,8,9,10)"
   ]
  },
  {
   "cell_type": "code",
   "execution_count": 98,
   "id": "frequent-midnight",
   "metadata": {},
   "outputs": [
    {
     "data": {
      "text/plain": [
       "4.666666666666667"
      ]
     },
     "execution_count": 98,
     "metadata": {},
     "output_type": "execute_result"
    }
   ],
   "source": [
    "avg = lambda a,b,*args : sum(args)/len(args)\n",
    "avg(1,2,3,5,6)"
   ]
  },
  {
   "cell_type": "code",
   "execution_count": 100,
   "id": "plastic-husband",
   "metadata": {},
   "outputs": [
    {
     "data": {
      "text/plain": [
       "4.666666666666667"
      ]
     },
     "execution_count": 100,
     "metadata": {},
     "output_type": "execute_result"
    }
   ],
   "source": [
    "avg = lambda a,b,*x : sum(x)/len(x)\n",
    "avg(1,2,3,5,6)"
   ]
  },
  {
   "cell_type": "code",
   "execution_count": 103,
   "id": "floppy-suspect",
   "metadata": {},
   "outputs": [
    {
     "data": {
      "text/plain": [
       "5.25"
      ]
     },
     "execution_count": 103,
     "metadata": {},
     "output_type": "execute_result"
    }
   ],
   "source": [
    "avg = lambda a,b,*args : sum(args)/len(args)\n",
    "avg(1,2,3,5,6,7)"
   ]
  },
  {
   "cell_type": "code",
   "execution_count": 104,
   "id": "norman-mexican",
   "metadata": {},
   "outputs": [
    {
     "data": {
      "text/plain": [
       "6.0"
      ]
     },
     "execution_count": 104,
     "metadata": {},
     "output_type": "execute_result"
    }
   ],
   "source": [
    "avg = lambda a,b,c,*args : sum(args)/len(args)\n",
    "avg(1,2,3,5,6,7)"
   ]
  },
  {
   "cell_type": "code",
   "execution_count": 106,
   "id": "relative-cassette",
   "metadata": {},
   "outputs": [
    {
     "data": {
      "text/plain": [
       "20.0"
      ]
     },
     "execution_count": 106,
     "metadata": {},
     "output_type": "execute_result"
    }
   ],
   "source": [
    "avg = lambda **kwargs : sum(kwargs.values())/len(kwargs)\n",
    "avg(x = 10,y = 20, z = 30)"
   ]
  },
  {
   "cell_type": "code",
   "execution_count": 107,
   "id": "enhanced-diving",
   "metadata": {},
   "outputs": [
    {
     "data": {
      "text/plain": [
       "25.0"
      ]
     },
     "execution_count": 107,
     "metadata": {},
     "output_type": "execute_result"
    }
   ],
   "source": [
    "avg = lambda **kwargs : sum(kwargs.values())/len(kwargs)\n",
    "avg(x = 10,y = 20, z = 30,s = 40)"
   ]
  },
  {
   "cell_type": "code",
   "execution_count": 108,
   "id": "bacterial-highway",
   "metadata": {},
   "outputs": [
    {
     "data": {
      "text/plain": [
       "15.0"
      ]
     },
     "execution_count": 108,
     "metadata": {},
     "output_type": "execute_result"
    }
   ],
   "source": [
    "avg = lambda **kwargs : sum(kwargs.values())/len(kwargs)\n",
    "avg(x = 10,y = 20)"
   ]
  },
  {
   "cell_type": "code",
   "execution_count": 110,
   "id": "color-memorial",
   "metadata": {},
   "outputs": [
    {
     "data": {
      "text/plain": [
       "80.0"
      ]
     },
     "execution_count": 110,
     "metadata": {},
     "output_type": "execute_result"
    }
   ],
   "source": [
    "avg = lambda **kwargs : sum(kwargs.values())/len(kwargs)\n",
    "avg(x = 10,y = 20, z = 30,s = 40,d = 300)"
   ]
  },
  {
   "cell_type": "code",
   "execution_count": 124,
   "id": "accurate-impact",
   "metadata": {},
   "outputs": [
    {
     "data": {
      "text/plain": [
       "[10, 20, (), 10, 20, {}]"
      ]
     },
     "execution_count": 124,
     "metadata": {},
     "output_type": "execute_result"
    }
   ],
   "source": [
    "test_args = lambda a,b,*args,x = 10,y = 20, **kwargs : [a,b,args,x,y,kwargs]\n",
    "test_args(10,20)"
   ]
  },
  {
   "cell_type": "code",
   "execution_count": 125,
   "id": "gentle-punishment",
   "metadata": {},
   "outputs": [
    {
     "data": {
      "text/plain": [
       "[10, 20, (30, 40, 50), 10, 20, {}]"
      ]
     },
     "execution_count": 125,
     "metadata": {},
     "output_type": "execute_result"
    }
   ],
   "source": [
    "test_args = lambda a,b,*args,x = 10,y = 20, **kwargs : [a,b,args,x,y,kwargs]\n",
    "test_args(10,20,30,40,50)"
   ]
  },
  {
   "cell_type": "code",
   "execution_count": 126,
   "id": "guilty-intake",
   "metadata": {},
   "outputs": [
    {
     "data": {
      "text/plain": [
       "[10, 20, (30, 40, 50), 'python', 'data science', {}]"
      ]
     },
     "execution_count": 126,
     "metadata": {},
     "output_type": "execute_result"
    }
   ],
   "source": [
    "test_args = lambda a,b,*args,x = 10,y = 20, **kwargs : [a,b,args,x,y,kwargs]\n",
    "test_args(10,20,30,40,50,x = 'python',y = 'data science')"
   ]
  },
  {
   "cell_type": "code",
   "execution_count": 127,
   "id": "stuffed-thousand",
   "metadata": {},
   "outputs": [
    {
     "data": {
      "text/plain": [
       "[10, 20, (30, 40, 50), 'python', 'data science', {'v1': 3, 'v2': 5, 'v3': 7}]"
      ]
     },
     "execution_count": 127,
     "metadata": {},
     "output_type": "execute_result"
    }
   ],
   "source": [
    "test_args = lambda a,b,*args,x = 10,y = 20, **kwargs : [a,b,args,x,y,kwargs]\n",
    "\n",
    "test_args(10,20,30,40,50,x = 'python',y = 'data science',v1=3,v2=5,v3=7)"
   ]
  },
  {
   "cell_type": "code",
   "execution_count": 128,
   "id": "happy-comfort",
   "metadata": {},
   "outputs": [
    {
     "data": {
      "text/plain": [
       "[10, 20, (30, 40, 50), False, None, {'v1': 3, 'v2': 5, 'v3': 7}]"
      ]
     },
     "execution_count": 128,
     "metadata": {},
     "output_type": "execute_result"
    }
   ],
   "source": [
    "test_args = lambda a,b,*args,x = True,y = None, **kwargs : [a,b,args,x,y,kwargs]\n",
    "\n",
    "test_args(10,20,30,40,50,x = False,v1=3,v2=5,v3=7)"
   ]
  },
  {
   "cell_type": "code",
   "execution_count": 129,
   "id": "clear-number",
   "metadata": {},
   "outputs": [
    {
     "data": {
      "text/plain": [
       "[10, 20, (30, 40, 50), False, 0.5, {'v1': 3, 'v2': 5, 'v3': 7}]"
      ]
     },
     "execution_count": 129,
     "metadata": {},
     "output_type": "execute_result"
    }
   ],
   "source": [
    "test_args = lambda a,b,*args,x = True,y = None, **kwargs : [a,b,args,x,y,kwargs]\n",
    "\n",
    "test_args(10,20,30,40,50,x = False,y = 0.5,v1=3,v2=5,v3=7)"
   ]
  },
  {
   "cell_type": "code",
   "execution_count": 130,
   "id": "wrong-imagination",
   "metadata": {},
   "outputs": [],
   "source": [
    "from sklearn.model_selection import train_test_split\n",
    "train_test_split()"
   ]
  },
  {
   "cell_type": "code",
   "execution_count": 132,
   "id": "quick-black",
   "metadata": {},
   "outputs": [
    {
     "data": {
      "text/plain": [
       "[9, 16, 25, 36, 49, 64]"
      ]
     },
     "execution_count": 132,
     "metadata": {},
     "output_type": "execute_result"
    }
   ],
   "source": [
    "list1 = [3,4,5,6,7,8]\n",
    "sqr = [i** 2 for i in list1]\n",
    "sqr"
   ]
  },
  {
   "cell_type": "code",
   "execution_count": 134,
   "id": "monetary-chess",
   "metadata": {},
   "outputs": [
    {
     "data": {
      "text/plain": [
       "[900, 1600, 2500, 36, 49, 64]"
      ]
     },
     "execution_count": 134,
     "metadata": {},
     "output_type": "execute_result"
    }
   ],
   "source": [
    "list2 = [30,40,50,6,7,8]\n",
    "sqr = [i** 2 for i in list2]\n",
    "sqr"
   ]
  },
  {
   "cell_type": "code",
   "execution_count": 135,
   "id": "local-enzyme",
   "metadata": {},
   "outputs": [
    {
     "data": {
      "text/plain": [
       "[100, 400, 900, 1600]"
      ]
     },
     "execution_count": 135,
     "metadata": {},
     "output_type": "execute_result"
    }
   ],
   "source": [
    "squares = lambda list2 : [i** 2 for i in list2]\n",
    "squares([10,20,30,40])"
   ]
  },
  {
   "cell_type": "code",
   "execution_count": 137,
   "id": "grateful-stock",
   "metadata": {},
   "outputs": [
    {
     "data": {
      "text/plain": [
       "[1, 25, 36, 64]"
      ]
     },
     "execution_count": 137,
     "metadata": {},
     "output_type": "execute_result"
    }
   ],
   "source": [
    "squares([1,5,6,8])"
   ]
  },
  {
   "cell_type": "code",
   "execution_count": 138,
   "id": "chicken-surname",
   "metadata": {},
   "outputs": [
    {
     "data": {
      "text/plain": [
       "[1, 25, 36, 64]"
      ]
     },
     "execution_count": 138,
     "metadata": {},
     "output_type": "execute_result"
    }
   ],
   "source": [
    "squares([1,5,6,8])"
   ]
  },
  {
   "cell_type": "code",
   "execution_count": 140,
   "id": "earlier-desktop",
   "metadata": {},
   "outputs": [
    {
     "data": {
      "text/plain": [
       "[1, 25, 36, 64, 900, 1600, 25]"
      ]
     },
     "execution_count": 140,
     "metadata": {},
     "output_type": "execute_result"
    }
   ],
   "source": [
    "squares([1,5,6,8,30,40,5])"
   ]
  },
  {
   "cell_type": "code",
   "execution_count": 143,
   "id": "hollow-clark",
   "metadata": {},
   "outputs": [
    {
     "data": {
      "text/plain": [
       "['p', 'y', 't', 'h', 'o', 'n']"
      ]
     },
     "execution_count": 143,
     "metadata": {},
     "output_type": "execute_result"
    }
   ],
   "source": [
    "x = lambda s1 : [i for i in s1]\n",
    "x('python')"
   ]
  },
  {
   "cell_type": "code",
   "execution_count": 145,
   "id": "loaded-ministry",
   "metadata": {},
   "outputs": [
    {
     "data": {
      "text/plain": [
       "'PYTHON'"
      ]
     },
     "execution_count": 145,
     "metadata": {},
     "output_type": "execute_result"
    }
   ],
   "source": [
    "y = lambda x : x.upper()\n",
    "y('python')"
   ]
  },
  {
   "cell_type": "code",
   "execution_count": 147,
   "id": "corresponding-above",
   "metadata": {},
   "outputs": [
    {
     "data": {
      "text/plain": [
       "'SCIENCE'"
      ]
     },
     "execution_count": 147,
     "metadata": {},
     "output_type": "execute_result"
    }
   ],
   "source": [
    "y('Science')"
   ]
  },
  {
   "cell_type": "code",
   "execution_count": 150,
   "id": "ongoing-warning",
   "metadata": {},
   "outputs": [
    {
     "data": {
      "text/plain": [
       "'python class'"
      ]
     },
     "execution_count": 150,
     "metadata": {},
     "output_type": "execute_result"
    }
   ],
   "source": [
    "y = lambda s1,s2 : s1 + s2\n",
    "y('python',' class')"
   ]
  },
  {
   "cell_type": "code",
   "execution_count": 154,
   "id": "typical-northeast",
   "metadata": {},
   "outputs": [
    {
     "data": {
      "text/plain": [
       "'python python python '"
      ]
     },
     "execution_count": 154,
     "metadata": {},
     "output_type": "execute_result"
    }
   ],
   "source": [
    "y = lambda s1,s2 : s1 * 3\n",
    "y('python ',' class')"
   ]
  },
  {
   "cell_type": "code",
   "execution_count": 155,
   "id": "unexpected-groove",
   "metadata": {},
   "outputs": [
    {
     "data": {
      "text/plain": [
       "'python python python '"
      ]
     },
     "execution_count": 155,
     "metadata": {},
     "output_type": "execute_result"
    }
   ],
   "source": [
    "y = lambda s1,s2 : s1 * 3\n",
    "y('python ',' class')"
   ]
  },
  {
   "cell_type": "code",
   "execution_count": null,
   "id": "bridal-energy",
   "metadata": {},
   "outputs": [],
   "source": []
  }
 ],
 "metadata": {
  "kernelspec": {
   "display_name": "Python 3",
   "language": "python",
   "name": "python3"
  },
  "language_info": {
   "codemirror_mode": {
    "name": "ipython",
    "version": 3
   },
   "file_extension": ".py",
   "mimetype": "text/x-python",
   "name": "python",
   "nbconvert_exporter": "python",
   "pygments_lexer": "ipython3",
   "version": "3.8.7"
  }
 },
 "nbformat": 4,
 "nbformat_minor": 5
}
