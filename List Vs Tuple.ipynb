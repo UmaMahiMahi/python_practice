{
 "cells": [
  {
   "cell_type": "markdown",
   "id": "rough-curve",
   "metadata": {},
   "source": [
    "# List Vs Tuple"
   ]
  },
  {
   "cell_type": "markdown",
   "id": "surface-catalog",
   "metadata": {},
   "source": [
    "## 1. List"
   ]
  },
  {
   "cell_type": "code",
   "execution_count": null,
   "id": "varying-tuesday",
   "metadata": {},
   "outputs": [],
   "source": [
    "List Properties:\n",
    "    1. Mutable >> add, delete, update, insert\n",
    "    2. Ordered\n",
    "    3. Duplicate items are allowed\n",
    "    4. Enclosed by []\n",
    "    5. More Functional (append, extend, remove, sort, reverse)\n",
    "    6. Used to store any datatype(Heterogeneous Data Types)\n",
    "        Data Types >> int, float, str, list, tuple, dict, set, array, dataframes\n",
    "        \n",
    "    7. List requires more memory\n",
    "    8. List are slower than tuple\n",
    "    9. We can not use tuples as a key in dictionary\n",
    "    \n",
    "List Functions:\n",
    "    1. append\n",
    "    2. extend\n",
    "    3. insert\n",
    "    4. remvoe\n",
    "    5. pop\n",
    "    6. clear\n",
    "    7. sort\n",
    "    8. reverse\n",
    "    9. copy\n",
    "    10. index\n",
    "    11. count"
   ]
  },
  {
   "cell_type": "markdown",
   "id": "professional-result",
   "metadata": {},
   "source": [
    "# Tuple"
   ]
  },
  {
   "cell_type": "code",
   "execution_count": null,
   "id": "going-debut",
   "metadata": {},
   "outputs": [],
   "source": [
    "Tuple Properties:\n",
    "    1. Immutable\n",
    "    2. Ordered\n",
    "    3. Duplicate items are allowed\n",
    "    4. Enclosed by ()\n",
    "    5. Less Functional \n",
    "    6. Used to store any datatype(Heterogeneous Data Types)\n",
    "        Data Types >> int, float, str, list, tuple, dict, set, array, dataframes\n",
    "    7. Tuple require less memory\n",
    "    8. Tuples are faster than list\n",
    "    9. We can use tuples as a key in dictionary\n",
    "    \n",
    "Tuple Functions:\n",
    "    1. index\n",
    "    2. count"
   ]
  },
  {
   "cell_type": "code",
   "execution_count": 8,
   "id": "welcome-location",
   "metadata": {},
   "outputs": [
    {
     "data": {
      "text/plain": [
       "[4, 5, 6, 6, 6, 6, 7, 8]"
      ]
     },
     "execution_count": 8,
     "metadata": {},
     "output_type": "execute_result"
    }
   ],
   "source": [
    "list1 = [4,5,6,6,6,6,7,8]\n",
    "list1"
   ]
  },
  {
   "cell_type": "code",
   "execution_count": 4,
   "id": "driving-apartment",
   "metadata": {},
   "outputs": [
    {
     "data": {
      "text/plain": [
       "40"
      ]
     },
     "execution_count": 4,
     "metadata": {},
     "output_type": "execute_result"
    }
   ],
   "source": [
    "tuple1 = (10,20,30,40,50,50)\n",
    "tuple1[3]"
   ]
  },
  {
   "cell_type": "code",
   "execution_count": 9,
   "id": "computational-quebec",
   "metadata": {},
   "outputs": [
    {
     "data": {
      "text/plain": [
       "{2, 3, 4, 5, 6, 7}"
      ]
     },
     "execution_count": 9,
     "metadata": {},
     "output_type": "execute_result"
    }
   ],
   "source": [
    "set1 = {2,3,3,4,5,6,7,7}\n",
    "set1"
   ]
  },
  {
   "cell_type": "code",
   "execution_count": 18,
   "id": "computational-professor",
   "metadata": {},
   "outputs": [
    {
     "data": {
      "text/plain": [
       "{'physics': 90, 'math': 95, 'python': 100}"
      ]
     },
     "execution_count": 18,
     "metadata": {},
     "output_type": "execute_result"
    }
   ],
   "source": [
    "d1 = {'physics':90, 'math':95,'python':100}\n",
    "d1"
   ]
  },
  {
   "cell_type": "code",
   "execution_count": 20,
   "id": "based-evidence",
   "metadata": {},
   "outputs": [
    {
     "data": {
      "text/plain": [
       "{1: 90, 2: 95, 3: 100}"
      ]
     },
     "execution_count": 20,
     "metadata": {},
     "output_type": "execute_result"
    }
   ],
   "source": [
    "d1 = {1:90, 2:95, 3:100}\n",
    "d1"
   ]
  },
  {
   "cell_type": "code",
   "execution_count": 22,
   "id": "reasonable-weekly",
   "metadata": {},
   "outputs": [
    {
     "ename": "TypeError",
     "evalue": "unhashable type: 'list'",
     "output_type": "error",
     "traceback": [
      "\u001b[1;31m---------------------------------------------------------------------------\u001b[0m",
      "\u001b[1;31mTypeError\u001b[0m                                 Traceback (most recent call last)",
      "\u001b[1;32m<ipython-input-22-4e2f8f0481b6>\u001b[0m in \u001b[0;36m<module>\u001b[1;34m\u001b[0m\n\u001b[1;32m----> 1\u001b[1;33m \u001b[0md1\u001b[0m \u001b[1;33m=\u001b[0m \u001b[1;33m{\u001b[0m \u001b[1;33m[\u001b[0m\u001b[1;36m10\u001b[0m\u001b[1;33m,\u001b[0m\u001b[1;36m20\u001b[0m\u001b[1;33m]\u001b[0m \u001b[1;33m:\u001b[0m \u001b[1;36m90\u001b[0m\u001b[1;33m,\u001b[0m \u001b[1;36m2\u001b[0m\u001b[1;33m:\u001b[0m\u001b[1;36m95\u001b[0m\u001b[1;33m,\u001b[0m \u001b[1;36m3\u001b[0m\u001b[1;33m:\u001b[0m\u001b[1;36m100\u001b[0m\u001b[1;33m}\u001b[0m\u001b[1;33m\u001b[0m\u001b[1;33m\u001b[0m\u001b[0m\n\u001b[0m\u001b[0;32m      2\u001b[0m \u001b[0md1\u001b[0m\u001b[1;33m\u001b[0m\u001b[1;33m\u001b[0m\u001b[0m\n",
      "\u001b[1;31mTypeError\u001b[0m: unhashable type: 'list'"
     ]
    }
   ],
   "source": [
    "d1 = { [10,20] : 90, 2:95, 3:100}\n",
    "d1"
   ]
  },
  {
   "cell_type": "code",
   "execution_count": 23,
   "id": "hybrid-cologne",
   "metadata": {},
   "outputs": [
    {
     "data": {
      "text/plain": [
       "{(10, 20): 90, 2: 95, 3: 100}"
      ]
     },
     "execution_count": 23,
     "metadata": {},
     "output_type": "execute_result"
    }
   ],
   "source": [
    "d1 = { (10,20) : 90, 2:95, 3:100}\n",
    "d1"
   ]
  },
  {
   "cell_type": "code",
   "execution_count": 14,
   "id": "driving-activation",
   "metadata": {},
   "outputs": [
    {
     "data": {
      "text/plain": [
       "(200,)"
      ]
     },
     "execution_count": 14,
     "metadata": {},
     "output_type": "execute_result"
    }
   ],
   "source": [
    "t1 = (200,)\n",
    "t1"
   ]
  },
  {
   "cell_type": "code",
   "execution_count": 15,
   "id": "promising-delight",
   "metadata": {},
   "outputs": [
    {
     "data": {
      "text/plain": [
       "[30]"
      ]
     },
     "execution_count": 15,
     "metadata": {},
     "output_type": "execute_result"
    }
   ],
   "source": [
    "list1 = [30]\n",
    "list1"
   ]
  },
  {
   "cell_type": "code",
   "execution_count": null,
   "id": "multiple-campbell",
   "metadata": {},
   "outputs": [],
   "source": [
    "list1 = [3,5,7,2,9]\n",
    "# list1 = [3,5,10,7,2,9]\n",
    "list1.append(1000)\n",
    "list1"
   ]
  },
  {
   "cell_type": "code",
   "execution_count": 25,
   "id": "inclusive-retrieval",
   "metadata": {},
   "outputs": [
    {
     "data": {
      "text/plain": [
       "(6, 5, 3, 7, 8)"
      ]
     },
     "execution_count": 25,
     "metadata": {},
     "output_type": "execute_result"
    }
   ],
   "source": [
    "tuple1 = (6,5,3,7,8)\n",
    "tuple1"
   ]
  },
  {
   "cell_type": "code",
   "execution_count": 26,
   "id": "solid-bunch",
   "metadata": {},
   "outputs": [],
   "source": [
    "list1 = [3,5,7,2,9]"
   ]
  }
 ],
 "metadata": {
  "kernelspec": {
   "display_name": "Python 3",
   "language": "python",
   "name": "python3"
  },
  "language_info": {
   "codemirror_mode": {
    "name": "ipython",
    "version": 3
   },
   "file_extension": ".py",
   "mimetype": "text/x-python",
   "name": "python",
   "nbconvert_exporter": "python",
   "pygments_lexer": "ipython3",
   "version": "3.8.7"
  }
 },
 "nbformat": 4,
 "nbformat_minor": 5
}
