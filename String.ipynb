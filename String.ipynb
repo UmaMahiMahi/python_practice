{
 "cells": [
  {
   "cell_type": "markdown",
   "id": "alternative-award",
   "metadata": {},
   "source": [
    "# String"
   ]
  },
  {
   "cell_type": "code",
   "execution_count": null,
   "id": "gothic-adobe",
   "metadata": {},
   "outputs": [],
   "source": [
    "String is a collection of characters surrounded by single quotes, double quotes and \n",
    "triple quotes(Triple single quotes or Triple double quotes)\n",
    "\n",
    "\n",
    "single quotes >> 'python'\n",
    "double quotes >> \"Python\"\n",
    "Triple single quotes >> ''' Python'''\n",
    "Triple double quotes >> \"\"\"Python\"\"\"\n",
    "\n",
    "characters >> digits(0-9), space, alphabates, Special Characters($,%,&,@,*,etc)\n",
    "\n",
    "We can not use single quotes in single quotes\n",
    "We can not use double quotes in double quotes\n",
    "We can not use triple quotes in triple quotes"
   ]
  },
  {
   "cell_type": "code",
   "execution_count": 2,
   "id": "facial-burst",
   "metadata": {},
   "outputs": [
    {
     "data": {
      "text/plain": [
       "str"
      ]
     },
     "execution_count": 2,
     "metadata": {},
     "output_type": "execute_result"
    }
   ],
   "source": [
    "str1 = \"Python and Data Science $\"\n",
    "type(str1)"
   ]
  },
  {
   "cell_type": "code",
   "execution_count": 6,
   "id": "played-lying",
   "metadata": {},
   "outputs": [
    {
     "data": {
      "text/plain": [
       "'python'"
      ]
     },
     "execution_count": 6,
     "metadata": {},
     "output_type": "execute_result"
    }
   ],
   "source": [
    "s1 = 'python'\n",
    "s2 = \"python\"\n",
    "s3 = '''python'''\n",
    "s4 = \"\"\"python\"\"\"\n",
    "\n",
    "s1"
   ]
  },
  {
   "cell_type": "code",
   "execution_count": 8,
   "id": "composite-windows",
   "metadata": {},
   "outputs": [
    {
     "data": {
      "text/plain": [
       "'python'"
      ]
     },
     "execution_count": 8,
     "metadata": {},
     "output_type": "execute_result"
    }
   ],
   "source": [
    "s2"
   ]
  },
  {
   "cell_type": "code",
   "execution_count": 10,
   "id": "italic-inquiry",
   "metadata": {},
   "outputs": [
    {
     "data": {
      "text/plain": [
       "'python'"
      ]
     },
     "execution_count": 10,
     "metadata": {},
     "output_type": "execute_result"
    }
   ],
   "source": [
    "s3"
   ]
  },
  {
   "cell_type": "code",
   "execution_count": 11,
   "id": "difficult-patient",
   "metadata": {},
   "outputs": [
    {
     "data": {
      "text/plain": [
       "'python'"
      ]
     },
     "execution_count": 11,
     "metadata": {},
     "output_type": "execute_result"
    }
   ],
   "source": [
    "s4"
   ]
  },
  {
   "cell_type": "code",
   "execution_count": 3,
   "id": "distributed-california",
   "metadata": {},
   "outputs": [
    {
     "data": {
      "text/plain": [
       "str"
      ]
     },
     "execution_count": 3,
     "metadata": {},
     "output_type": "execute_result"
    }
   ],
   "source": [
    "num = \"Python\"\n",
    "type(num)"
   ]
  },
  {
   "cell_type": "code",
   "execution_count": null,
   "id": "sudden-romantic",
   "metadata": {},
   "outputs": [],
   "source": [
    "Python and \"Data\" Science"
   ]
  },
  {
   "cell_type": "code",
   "execution_count": 19,
   "id": "subjective-cotton",
   "metadata": {},
   "outputs": [
    {
     "data": {
      "text/plain": [
       "'Python and \"Data\" Science'"
      ]
     },
     "execution_count": 19,
     "metadata": {},
     "output_type": "execute_result"
    }
   ],
   "source": [
    "string = 'Python and \"Data\" Science'\n",
    "string"
   ]
  },
  {
   "cell_type": "code",
   "execution_count": null,
   "id": "serious-consideration",
   "metadata": {},
   "outputs": [],
   "source": [
    "Python and 'Data' Science"
   ]
  },
  {
   "cell_type": "code",
   "execution_count": 21,
   "id": "handy-honor",
   "metadata": {},
   "outputs": [
    {
     "data": {
      "text/plain": [
       "\"Python and 'Data' Science\""
      ]
     },
     "execution_count": 21,
     "metadata": {},
     "output_type": "execute_result"
    }
   ],
   "source": [
    "string = \"Python and 'Data' Science\"\n",
    "string"
   ]
  },
  {
   "cell_type": "code",
   "execution_count": 23,
   "id": "foster-entrance",
   "metadata": {},
   "outputs": [],
   "source": [
    "str2 = \"Python's classs\"\n",
    "str2"
   ]
  },
  {
   "cell_type": "code",
   "execution_count": 25,
   "id": "experienced-grain",
   "metadata": {},
   "outputs": [
    {
     "data": {
      "text/plain": [
       "'Python and Data Science'"
      ]
     },
     "execution_count": 25,
     "metadata": {},
     "output_type": "execute_result"
    }
   ],
   "source": [
    "string = '''Python and Data Science'''\n",
    "string"
   ]
  },
  {
   "cell_type": "code",
   "execution_count": 28,
   "id": "legal-tissue",
   "metadata": {},
   "outputs": [
    {
     "data": {
      "text/plain": [
       "'Python and \"Data\" Science'"
      ]
     },
     "execution_count": 28,
     "metadata": {},
     "output_type": "execute_result"
    }
   ],
   "source": [
    "string = '''Python and \"Data\" Science'''\n",
    "string"
   ]
  },
  {
   "cell_type": "code",
   "execution_count": 34,
   "id": "assumed-opening",
   "metadata": {},
   "outputs": [
    {
     "name": "stdout",
     "output_type": "stream",
     "text": [
      "Python and Data Science\n",
      "Python is a programming Language\n"
     ]
    }
   ],
   "source": [
    "string = '''Python and Data Science\n",
    "Python is a programming Language'''\n",
    "\n",
    "print(string)"
   ]
  },
  {
   "cell_type": "code",
   "execution_count": 36,
   "id": "postal-mambo",
   "metadata": {},
   "outputs": [
    {
     "name": "stdout",
     "output_type": "stream",
     "text": [
      "Python and Data Science\n",
      "Python is a programming Language\n"
     ]
    }
   ],
   "source": [
    "string = \"\"\"Python and Data Science\n",
    "Python is a programming Language\"\"\"\n",
    "\n",
    "print(string)"
   ]
  },
  {
   "cell_type": "code",
   "execution_count": 39,
   "id": "coordinated-northeast",
   "metadata": {},
   "outputs": [
    {
     "name": "stdout",
     "output_type": "stream",
     "text": [
      "Machine learning is a field of inquiry devoted to understanding and building methods that 'learn', that is, methods that leverage data to improve performance on some set of tasks. It is seen as a part of artificial intelligence\n"
     ]
    }
   ],
   "source": [
    "text = \"Machine learning is a field of inquiry devoted to understanding and building methods that 'learn', that is, methods that leverage data to improve performance on some set of tasks. It is seen as a part of artificial intelligence\"\n",
    "print(text)"
   ]
  },
  {
   "cell_type": "code",
   "execution_count": 43,
   "id": "conditional-appreciation",
   "metadata": {},
   "outputs": [
    {
     "name": "stdout",
     "output_type": "stream",
     "text": [
      "Machine learning is a field of inquiry devoted to understanding and \n",
      "building methods that 'learn', that is, methods that leverage data \n",
      "to improve performance on some set of tasks. \n",
      "It is seen as a part of artificial intelligence1234567890\n"
     ]
    }
   ],
   "source": [
    "text = \"\"\"Machine learning is a field of inquiry devoted to understanding and \n",
    "building methods that 'learn', that is, methods that leverage data \n",
    "to improve performance on some set of tasks. \n",
    "It is seen as a part of artificial intelligence1234567890\"\"\"\n",
    "\n",
    "print(text)\n",
    "# text"
   ]
  },
  {
   "cell_type": "code",
   "execution_count": 46,
   "id": "animated-makeup",
   "metadata": {},
   "outputs": [
    {
     "data": {
      "text/plain": [
       "123456789"
      ]
     },
     "execution_count": 46,
     "metadata": {},
     "output_type": "execute_result"
    }
   ],
   "source": [
    "s1 = 123456789\n",
    "s1"
   ]
  },
  {
   "cell_type": "code",
   "execution_count": 52,
   "id": "novel-modeling",
   "metadata": {},
   "outputs": [
    {
     "data": {
      "text/plain": [
       "6"
      ]
     },
     "execution_count": 52,
     "metadata": {},
     "output_type": "execute_result"
    }
   ],
   "source": [
    "s1 = 'python'\n",
    "len(s1)"
   ]
  },
  {
   "cell_type": "code",
   "execution_count": 53,
   "id": "convertible-sleeve",
   "metadata": {},
   "outputs": [
    {
     "data": {
      "text/plain": [
       "7"
      ]
     },
     "execution_count": 53,
     "metadata": {},
     "output_type": "execute_result"
    }
   ],
   "source": [
    "s1 = 'python$'\n",
    "len(s1)"
   ]
  },
  {
   "cell_type": "code",
   "execution_count": 51,
   "id": "minor-infrared",
   "metadata": {},
   "outputs": [
    {
     "data": {
      "text/plain": [
       "18"
      ]
     },
     "execution_count": 51,
     "metadata": {},
     "output_type": "execute_result"
    }
   ],
   "source": [
    "s2 = ' Machine  Learning'\n",
    "len(s2)"
   ]
  },
  {
   "cell_type": "code",
   "execution_count": 55,
   "id": "educated-relay",
   "metadata": {},
   "outputs": [
    {
     "data": {
      "text/plain": [
       "8"
      ]
     },
     "execution_count": 55,
     "metadata": {},
     "output_type": "execute_result"
    }
   ],
   "source": [
    "s1 = \"Python's\"\n",
    "len(s1)\n"
   ]
  },
  {
   "cell_type": "code",
   "execution_count": 58,
   "id": "fabulous-salem",
   "metadata": {},
   "outputs": [
    {
     "name": "stdout",
     "output_type": "stream",
     "text": [
      "Python\n",
      "Machine Learning\n",
      "Data Science\n",
      "Machine learning is a field of inquiry devoted to understanding and \n",
      "building methods that 'learn', that is, methods that leverage data \n",
      "to improve performance on some set of tasks. \n",
      "It is seen as a part of artificial intelligence1234567890\n"
     ]
    }
   ],
   "source": [
    "print(\"Python\")\n",
    "print(\"Machine Learning\")\n",
    "\n",
    "x = \"\"\"Machine learning is a field of inquiry devoted to understanding and \n",
    "building methods that 'learn', that is, methods that leverage data \n",
    "to improve performance on some set of tasks. \n",
    "It is seen as a part of artificial intelligence1234567890\"\"\"\n",
    "\n",
    "print(\"Data Science\")\n",
    "print(x)"
   ]
  },
  {
   "cell_type": "code",
   "execution_count": 59,
   "id": "million-worthy",
   "metadata": {},
   "outputs": [
    {
     "data": {
      "text/plain": [
       "\"Machine learning is a field of inquiry devoted to understanding and \\nbuilding methods that 'learn', that is, methods that leverage data \\nto improve performance on some set of tasks. \\nIt is seen as a part of artificial intelligence1234567890\""
      ]
     },
     "execution_count": 59,
     "metadata": {},
     "output_type": "execute_result"
    }
   ],
   "source": [
    "\"\"\"Machine learning is a field of inquiry devoted to understanding and \n",
    "building methods that 'learn', that is, methods that leverage data \n",
    "to improve performance on some set of tasks. \n",
    "It is seen as a part of artificial intelligence1234567890\"\"\""
   ]
  },
  {
   "cell_type": "markdown",
   "id": "comparative-acrobat",
   "metadata": {},
   "source": [
    "# Escape Characters"
   ]
  },
  {
   "cell_type": "code",
   "execution_count": null,
   "id": "considerable-shirt",
   "metadata": {},
   "outputs": [],
   "source": [
    "Backslash is an escape char"
   ]
  },
  {
   "cell_type": "code",
   "execution_count": 62,
   "id": "living-doubt",
   "metadata": {},
   "outputs": [
    {
     "ename": "SyntaxError",
     "evalue": "invalid syntax (<ipython-input-62-91cc7729fdc2>, line 1)",
     "output_type": "error",
     "traceback": [
      "\u001b[1;36m  File \u001b[1;32m\"<ipython-input-62-91cc7729fdc2>\"\u001b[1;36m, line \u001b[1;32m1\u001b[0m\n\u001b[1;33m    string = \"Python and \"Data\" Science\"\u001b[0m\n\u001b[1;37m                          ^\u001b[0m\n\u001b[1;31mSyntaxError\u001b[0m\u001b[1;31m:\u001b[0m invalid syntax\n"
     ]
    }
   ],
   "source": [
    "string = \"Python and \"Data\" Science\"\n",
    "string"
   ]
  },
  {
   "cell_type": "code",
   "execution_count": 63,
   "id": "brave-surgery",
   "metadata": {},
   "outputs": [
    {
     "data": {
      "text/plain": [
       "'Python and \"Data\" Science'"
      ]
     },
     "execution_count": 63,
     "metadata": {},
     "output_type": "execute_result"
    }
   ],
   "source": [
    "string = 'Python and \"Data\" Science'\n",
    "string"
   ]
  },
  {
   "cell_type": "code",
   "execution_count": 61,
   "id": "printable-treasure",
   "metadata": {},
   "outputs": [
    {
     "data": {
      "text/plain": [
       "'Python and \"Data\" Science'"
      ]
     },
     "execution_count": 61,
     "metadata": {},
     "output_type": "execute_result"
    }
   ],
   "source": [
    "string = \"Python and \\\"Data\\\" Science\"\n",
    "string"
   ]
  },
  {
   "cell_type": "markdown",
   "id": "stainless-nylon",
   "metadata": {},
   "source": [
    "### \\n >> New Line"
   ]
  },
  {
   "cell_type": "code",
   "execution_count": 66,
   "id": "bright-sarah",
   "metadata": {},
   "outputs": [
    {
     "name": "stdout",
     "output_type": "stream",
     "text": [
      "python and \n",
      "machine learning\n"
     ]
    }
   ],
   "source": [
    "string = \"python and \\nmachine learning\"\n",
    "print(string)"
   ]
  },
  {
   "cell_type": "code",
   "execution_count": 67,
   "id": "standing-modification",
   "metadata": {},
   "outputs": [
    {
     "name": "stdout",
     "output_type": "stream",
     "text": [
      "python \n",
      "and \n",
      "machine learning\n"
     ]
    }
   ],
   "source": [
    "string = \"python \\nand \\nmachine learning\"\n",
    "print(string)"
   ]
  },
  {
   "cell_type": "code",
   "execution_count": 68,
   "id": "maritime-subscriber",
   "metadata": {},
   "outputs": [
    {
     "name": "stdout",
     "output_type": "stream",
     "text": [
      "python \n",
      "and \n",
      "machine \n",
      "learning\n"
     ]
    }
   ],
   "source": [
    "string = \"python \\nand \\nmachine \\nlearning\"\n",
    "print(string)"
   ]
  },
  {
   "cell_type": "code",
   "execution_count": 70,
   "id": "lucky-inclusion",
   "metadata": {},
   "outputs": [
    {
     "name": "stdout",
     "output_type": "stream",
     "text": [
      "D:\\RahulK\\Velocity_Aug_22\n"
     ]
    }
   ],
   "source": [
    "path = \"D:\\RahulK\\Velocity_Aug_22\"\n",
    "print(path)"
   ]
  },
  {
   "cell_type": "code",
   "execution_count": 71,
   "id": "efficient-review",
   "metadata": {},
   "outputs": [
    {
     "name": "stdout",
     "output_type": "stream",
     "text": [
      "D:\\RahulK\\Velocity_Aug_22\n"
     ]
    }
   ],
   "source": [
    "path = \"D:\\RahulK\\Velocity_Aug_22\"\n",
    "print(path)"
   ]
  },
  {
   "cell_type": "code",
   "execution_count": 73,
   "id": "representative-transition",
   "metadata": {},
   "outputs": [
    {
     "name": "stdout",
     "output_type": "stream",
     "text": [
      "D:\\RahulK\\Velocity_Aug_22\n",
      "ew_folder\n"
     ]
    }
   ],
   "source": [
    "new_folder_path = \"D:\\RahulK\\Velocity_Aug_22\\new_folder\"\n",
    "print(new_folder_path)"
   ]
  },
  {
   "cell_type": "code",
   "execution_count": 76,
   "id": "nutritional-processing",
   "metadata": {},
   "outputs": [
    {
     "name": "stdout",
     "output_type": "stream",
     "text": [
      "D:\\RahulK\\Velocity_Aug_22\\new_folder\n"
     ]
    }
   ],
   "source": [
    "new_folder_path = \"D:\\\\RahulK\\\\Velocity_Aug_22\\\\new_folder\"\n",
    "print(new_folder_path)"
   ]
  },
  {
   "cell_type": "code",
   "execution_count": 78,
   "id": "worthy-remove",
   "metadata": {},
   "outputs": [
    {
     "name": "stdout",
     "output_type": "stream",
     "text": [
      "D:\\RahulK\\Velocity_Aug_22\\new_folder\n"
     ]
    }
   ],
   "source": [
    "new_folder_path = r\"D:\\RahulK\\Velocity_Aug_22\\new_folder\"\n",
    "print(new_folder_path)"
   ]
  },
  {
   "cell_type": "markdown",
   "id": "checked-filling",
   "metadata": {},
   "source": [
    "# \\t"
   ]
  },
  {
   "cell_type": "code",
   "execution_count": 81,
   "id": "important-facial",
   "metadata": {},
   "outputs": [
    {
     "name": "stdout",
     "output_type": "stream",
     "text": [
      "py\thon and machine learning\n"
     ]
    }
   ],
   "source": [
    "string = \"python and machine learning\"\n",
    "print(string)"
   ]
  },
  {
   "cell_type": "code",
   "execution_count": 83,
   "id": "revised-corps",
   "metadata": {},
   "outputs": [
    {
     "name": "stdout",
     "output_type": "stream",
     "text": [
      "D:\\RahulK\\Velocity_Aug_22\templates\n"
     ]
    }
   ],
   "source": [
    "new_folder_path = \"D:\\RahulK\\Velocity_Aug_22\\templates\"\n",
    "print(new_folder_path)"
   ]
  },
  {
   "cell_type": "code",
   "execution_count": 85,
   "id": "hairy-respondent",
   "metadata": {},
   "outputs": [
    {
     "name": "stdout",
     "output_type": "stream",
     "text": [
      "D:\\RahulK\\Velocity_Aug_22\\templates\n"
     ]
    }
   ],
   "source": [
    "new_folder_path = r\"D:\\RahulK\\Velocity_Aug_22\\templates\"\n",
    "print(new_folder_path)"
   ]
  },
  {
   "cell_type": "code",
   "execution_count": 86,
   "id": "annoying-brother",
   "metadata": {},
   "outputs": [
    {
     "name": "stdout",
     "output_type": "stream",
     "text": [
      "D:\\RahulK\\Velocity_Aug_22\\templates\n"
     ]
    }
   ],
   "source": [
    "new_folder_path = \"D:\\\\RahulK\\\\Velocity_Aug_22\\\\templates\"\n",
    "print(new_folder_path)"
   ]
  }
 ],
 "metadata": {
  "kernelspec": {
   "display_name": "Python 3 (ipykernel)",
   "language": "python",
   "name": "python3"
  },
  "language_info": {
   "codemirror_mode": {
    "name": "ipython",
    "version": 3
   },
   "file_extension": ".py",
   "mimetype": "text/x-python",
   "name": "python",
   "nbconvert_exporter": "python",
   "pygments_lexer": "ipython3",
   "version": "3.9.12"
  }
 },
 "nbformat": 4,
 "nbformat_minor": 5
}
