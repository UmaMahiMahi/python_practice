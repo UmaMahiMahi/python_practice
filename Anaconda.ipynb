{
 "cells": [
  {
   "cell_type": "markdown",
   "id": "quarterly-morris",
   "metadata": {},
   "source": [
    "### Anaconda"
   ]
  },
  {
   "cell_type": "code",
   "execution_count": null,
   "id": "plastic-locking",
   "metadata": {},
   "outputs": [],
   "source": [
    "python2 \n",
    "python3"
   ]
  },
  {
   "cell_type": "code",
   "execution_count": 2,
   "id": "japanese-offense",
   "metadata": {},
   "outputs": [
    {
     "name": "stdout",
     "output_type": "stream",
     "text": [
      "Hello\n"
     ]
    }
   ],
   "source": [
    "print(\"Hello\") #Python3"
   ]
  },
  {
   "cell_type": "code",
   "execution_count": 3,
   "id": "ruled-mention",
   "metadata": {},
   "outputs": [
    {
     "ename": "SyntaxError",
     "evalue": "Missing parentheses in call to 'print'. Did you mean print(\"Hello\" # Python2)? (<ipython-input-3-3ba5390afca9>, line 1)",
     "output_type": "error",
     "traceback": [
      "\u001b[1;36m  File \u001b[1;32m\"<ipython-input-3-3ba5390afca9>\"\u001b[1;36m, line \u001b[1;32m1\u001b[0m\n\u001b[1;33m    print \"Hello\" # Python2\u001b[0m\n\u001b[1;37m          ^\u001b[0m\n\u001b[1;31mSyntaxError\u001b[0m\u001b[1;31m:\u001b[0m Missing parentheses in call to 'print'. Did you mean print(\"Hello\" # Python2)?\n"
     ]
    }
   ],
   "source": [
    "print \"Hello\" # Python2"
   ]
  },
  {
   "cell_type": "code",
   "execution_count": 16,
   "id": "wound-reserve",
   "metadata": {},
   "outputs": [],
   "source": [
    "import numpy\n",
    "import pandas\n",
    "import pdf2image\n",
    "import pytesseract  # image to text\n",
    "import sklearn\n",
    "import imblearn\n",
    "import scipy\n",
    "# import pdftotext\n",
    "import cv2 # image processing\n",
    "import nltk"
   ]
  },
  {
   "cell_type": "code",
   "execution_count": null,
   "id": "nuclear-endorsement",
   "metadata": {},
   "outputs": [],
   "source": [
    "pip install pandas\n",
    "pip install pdf2image\n",
    "pip install scikit-learn"
   ]
  },
  {
   "cell_type": "code",
   "execution_count": null,
   "id": "danish-concentration",
   "metadata": {},
   "outputs": [],
   "source": [
    "project1:(2022) \n",
    "    numpy\n",
    "    pandas==1.4.4 (concat)\n",
    "    pdf2image\n",
    "    pytesseract\n",
    "    sklearn\n",
    "    Conda Env File/Requirement file\n",
    "    \n",
    "Project2:(2020)\n",
    "    numpy\n",
    "    pandas==1.1.4 (append,concat)\n",
    "    re \n",
    "    nltk\n",
    "    tensorflow\n",
    "    Conda Env File/Requirement file\n",
    "    \n",
    "Team Lead"
   ]
  },
  {
   "cell_type": "code",
   "execution_count": null,
   "id": "apparent-export",
   "metadata": {},
   "outputs": [],
   "source": [
    "project3: (2017)\n",
    "    pandas\n",
    "    tensorflow==1.14\n",
    "    keras\n",
    "\n",
    "\n",
    "project4: (2022)\n",
    "    pandas==1.4.4\n",
    "    tensorflow==2.8 (keras)\n",
    "\n",
    "pip install tensorflow=2.10"
   ]
  },
  {
   "cell_type": "markdown",
   "id": "average-savings",
   "metadata": {},
   "source": [
    "### Anaconda Commands"
   ]
  },
  {
   "cell_type": "code",
   "execution_count": null,
   "id": "crazy-stamp",
   "metadata": {},
   "outputs": [],
   "source": []
  },
  {
   "cell_type": "markdown",
   "id": "pretty-morgan",
   "metadata": {},
   "source": [
    "## 1. Create Conda Environment"
   ]
  },
  {
   "cell_type": "code",
   "execution_count": null,
   "id": "moderate-theta",
   "metadata": {},
   "outputs": [],
   "source": [
    "conda create -n env_name\n",
    "\n",
    "conda create -n env_name python=3.10"
   ]
  },
  {
   "cell_type": "markdown",
   "id": "reported-contract",
   "metadata": {},
   "source": [
    "### 1.1 Create Conda env by using yml file"
   ]
  },
  {
   "cell_type": "code",
   "execution_count": null,
   "id": "personal-nursery",
   "metadata": {},
   "outputs": [],
   "source": [
    "conda env create --file env_name.yml\n",
    "\n",
    "conda env create --file car_price_pred.yml"
   ]
  },
  {
   "cell_type": "markdown",
   "id": "strategic-hamilton",
   "metadata": {},
   "source": [
    "### 2. Activate Conda Env"
   ]
  },
  {
   "cell_type": "code",
   "execution_count": null,
   "id": "finished-steel",
   "metadata": {},
   "outputs": [],
   "source": [
    "conda activate env_name\n",
    "\n",
    "conda activate medical_insurence"
   ]
  },
  {
   "cell_type": "markdown",
   "id": "pursuant-addition",
   "metadata": {},
   "source": [
    "### 3. deactivate conda env"
   ]
  },
  {
   "cell_type": "code",
   "execution_count": null,
   "id": "promotional-affiliation",
   "metadata": {},
   "outputs": [],
   "source": [
    "conda deactivate"
   ]
  },
  {
   "cell_type": "markdown",
   "id": "marked-relationship",
   "metadata": {},
   "source": [
    "#### 4. List of installed Packages"
   ]
  },
  {
   "cell_type": "code",
   "execution_count": null,
   "id": "valued-adapter",
   "metadata": {},
   "outputs": [],
   "source": [
    "conda list"
   ]
  },
  {
   "cell_type": "markdown",
   "id": "acute-chocolate",
   "metadata": {},
   "source": [
    "### 5. Install Library in Conda Env"
   ]
  },
  {
   "cell_type": "code",
   "execution_count": null,
   "id": "particular-shower",
   "metadata": {},
   "outputs": [],
   "source": [
    "conda install library_name\n",
    "\n",
    "conda install pandas\n",
    "\n",
    "conda install pandas==1.4.2\n",
    "\n",
    "conda install -c anaconda pandas\n",
    "\n",
    "conda install scikit-learn\n",
    "conda install -c anaconda scikit-learn\n",
    "\n",
    "conda install -c conda-forge pdf2image\n",
    "\n",
    "\n",
    "conda install nb_conda_kernels\n",
    "\n",
    "https://anaconda.org/anaconda/"
   ]
  },
  {
   "cell_type": "markdown",
   "id": "copyrighted-saskatchewan",
   "metadata": {},
   "source": [
    "### 6. Check Conda env list"
   ]
  },
  {
   "cell_type": "code",
   "execution_count": null,
   "id": "concerned-puppy",
   "metadata": {},
   "outputs": [],
   "source": [
    "conda env list"
   ]
  },
  {
   "cell_type": "markdown",
   "id": "lasting-philadelphia",
   "metadata": {},
   "source": [
    "### 7. Delete Conda Env"
   ]
  },
  {
   "cell_type": "code",
   "execution_count": null,
   "id": "eligible-converter",
   "metadata": {},
   "outputs": [],
   "source": [
    "conda env remove -n env_name"
   ]
  },
  {
   "cell_type": "markdown",
   "id": "under-zoning",
   "metadata": {},
   "source": [
    "#### 8. Create Conda Env File"
   ]
  },
  {
   "cell_type": "code",
   "execution_count": null,
   "id": "unknown-classic",
   "metadata": {},
   "outputs": [],
   "source": [
    "conda env export > file_name.yml\n",
    "\n",
    "conda env export > sales_prdiction.yml"
   ]
  },
  {
   "cell_type": "markdown",
   "id": "academic-lewis",
   "metadata": {},
   "source": [
    "### 9. Create Requirement file"
   ]
  },
  {
   "cell_type": "code",
   "execution_count": null,
   "id": "connected-assault",
   "metadata": {},
   "outputs": [],
   "source": [
    "conda list -e > requirements.txt"
   ]
  },
  {
   "cell_type": "markdown",
   "id": "objective-sequence",
   "metadata": {},
   "source": [
    "### 10. To check Installed Libraries "
   ]
  },
  {
   "cell_type": "code",
   "execution_count": null,
   "id": "white-professional",
   "metadata": {},
   "outputs": [],
   "source": [
    "pip freeze"
   ]
  },
  {
   "cell_type": "markdown",
   "id": "attached-cattle",
   "metadata": {},
   "source": [
    "### New Project"
   ]
  },
  {
   "cell_type": "code",
   "execution_count": null,
   "id": "under-cleanup",
   "metadata": {},
   "outputs": [],
   "source": [
    "\n",
    "Create an env using project name\n",
    "\n",
    "1 Week \n",
    "Data Gathering\n",
    "\n",
    "pandas \n",
    "numpy\n",
    "conda env export > file_name.yml\n",
    "\n",
    "\n",
    "2 week :\n",
    "    \n",
    "    seaborn \n",
    "    plotly\n",
    "    matplotlib\n",
    "    \n",
    "conda env export > file_name.yml\n",
    "   \n",
    "    \n",
    "3 week \n",
    "\n",
    "sklearn\n",
    "imblearn"
   ]
  }
 ],
 "metadata": {
  "kernelspec": {
   "display_name": "Python 3 (ipykernel)",
   "language": "python",
   "name": "python3"
  },
  "language_info": {
   "codemirror_mode": {
    "name": "ipython",
    "version": 3
   },
   "file_extension": ".py",
   "mimetype": "text/x-python",
   "name": "python",
   "nbconvert_exporter": "python",
   "pygments_lexer": "ipython3",
   "version": "3.9.12"
  }
 },
 "nbformat": 4,
 "nbformat_minor": 5
}
