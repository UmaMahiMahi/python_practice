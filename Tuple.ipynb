{
 "cells": [
  {
   "cell_type": "markdown",
   "id": "excellent-dinner",
   "metadata": {},
   "source": [
    "# Tuple"
   ]
  },
  {
   "cell_type": "code",
   "execution_count": null,
   "id": "identified-ideal",
   "metadata": {},
   "outputs": [],
   "source": [
    "1. Immutable\n",
    "2. Ordered DataType\n",
    "3. Duplicate items are allowed\n",
    "4. Tuples are enclosed by parenthesis >> ()\n",
    "5. Tuple items are comma seperated\n",
    "6. DataTypes : int, float, complex, list, tuple, str, dict, series, df,etc"
   ]
  },
  {
   "cell_type": "markdown",
   "id": "single-muscle",
   "metadata": {},
   "source": [
    "## Tuple Functions"
   ]
  },
  {
   "cell_type": "code",
   "execution_count": null,
   "id": "printable-boards",
   "metadata": {},
   "outputs": [],
   "source": [
    "1. index\n",
    "2. count"
   ]
  },
  {
   "cell_type": "code",
   "execution_count": 2,
   "id": "floating-french",
   "metadata": {},
   "outputs": [
    {
     "data": {
      "text/plain": [
       "tuple"
      ]
     },
     "execution_count": 2,
     "metadata": {},
     "output_type": "execute_result"
    }
   ],
   "source": [
    "tuple1 = (2,3,5,6)\n",
    "type(tuple1)"
   ]
  },
  {
   "cell_type": "code",
   "execution_count": 5,
   "id": "inclusive-paper",
   "metadata": {},
   "outputs": [
    {
     "name": "stdout",
     "output_type": "stream",
     "text": [
      "(2, 3, 5.45, 6.89)\n"
     ]
    }
   ],
   "source": [
    "tuple1 = (2,3,5.45,6.89)\n",
    "print(tuple1)"
   ]
  },
  {
   "cell_type": "code",
   "execution_count": 7,
   "id": "vietnamese-showcase",
   "metadata": {},
   "outputs": [
    {
     "name": "stdout",
     "output_type": "stream",
     "text": [
      "(2, 3, 5.45, 6.89, 'python')\n"
     ]
    }
   ],
   "source": [
    "tuple1 = (2,3,5.45,6.89,'python')\n",
    "print(tuple1)"
   ]
  },
  {
   "cell_type": "code",
   "execution_count": 11,
   "id": "sudden-denial",
   "metadata": {},
   "outputs": [
    {
     "name": "stdout",
     "output_type": "stream",
     "text": [
      "(2, 3, 5.45, 6.89, 'python', [10, 20, 40], (3, 4, 5))\n"
     ]
    }
   ],
   "source": [
    "tuple1 = (2,3,5.45,6.89,'python',[10,20,40],(3,4,5))\n",
    "print(tuple1)"
   ]
  },
  {
   "cell_type": "code",
   "execution_count": 14,
   "id": "perceived-immunology",
   "metadata": {},
   "outputs": [],
   "source": [
    "tuple1 = (2,3,6,7,8)\n"
   ]
  },
  {
   "cell_type": "markdown",
   "id": "human-south",
   "metadata": {},
   "source": [
    "# indexing and Slicing"
   ]
  },
  {
   "cell_type": "code",
   "execution_count": 16,
   "id": "smoking-reputation",
   "metadata": {},
   "outputs": [
    {
     "data": {
      "text/plain": [
       "7"
      ]
     },
     "execution_count": 16,
     "metadata": {},
     "output_type": "execute_result"
    }
   ],
   "source": [
    "tuple1 = (2,3,6,7,8,10)\n",
    "tuple1[0]\n",
    "tuple1[3]"
   ]
  },
  {
   "cell_type": "code",
   "execution_count": 18,
   "id": "documented-figure",
   "metadata": {},
   "outputs": [
    {
     "data": {
      "text/plain": [
       "10"
      ]
     },
     "execution_count": 18,
     "metadata": {},
     "output_type": "execute_result"
    }
   ],
   "source": [
    "tuple1 = (2,3,6,7,8,10)\n",
    "tuple1[-1]\n"
   ]
  },
  {
   "cell_type": "code",
   "execution_count": 20,
   "id": "ceramic-edition",
   "metadata": {},
   "outputs": [
    {
     "name": "stdout",
     "output_type": "stream",
     "text": [
      "6\n",
      "6\n"
     ]
    }
   ],
   "source": [
    "tuple1 = (2,3,6,7,8,10)\n",
    "print(tuple1[2])\n",
    "print(tuple1[-4])"
   ]
  },
  {
   "cell_type": "code",
   "execution_count": 26,
   "id": "precise-technician",
   "metadata": {},
   "outputs": [
    {
     "name": "stdout",
     "output_type": "stream",
     "text": [
      "(3, 6, 7)\n",
      "(3, 6, 7)\n"
     ]
    }
   ],
   "source": [
    "tuple1 = (2,3,6,7,8,10)\n",
    "print(tuple1[1:4])\n",
    "print(tuple1[-5:-2])"
   ]
  },
  {
   "cell_type": "code",
   "execution_count": 29,
   "id": "discrete-marker",
   "metadata": {},
   "outputs": [
    {
     "name": "stdout",
     "output_type": "stream",
     "text": [
      "(3, 6, 7)\n",
      "(3, 6, 7)\n",
      "(3, 6, 7)\n",
      "(3, 6, 7)\n",
      "(3, 6, 7)\n",
      "(3, 6, 7)\n",
      "(3, 6, 7)\n",
      "(3, 6, 7)\n"
     ]
    }
   ],
   "source": [
    "tuple1 = (2,3,6,7,8,10)\n",
    "print(tuple1[1:4])\n",
    "print(tuple1[-5:-2])\n",
    "print(tuple1[1:-2])\n",
    "print(tuple1[-5:4])\n",
    "print(tuple1[1:4:1])\n",
    "print(tuple1[-5:-2:1])\n",
    "print(tuple1[1:-2:1])\n",
    "print(tuple1[-5:4:1])"
   ]
  },
  {
   "cell_type": "code",
   "execution_count": 32,
   "id": "searching-medline",
   "metadata": {},
   "outputs": [
    {
     "name": "stdout",
     "output_type": "stream",
     "text": [
      "(8, 7, 6)\n"
     ]
    }
   ],
   "source": [
    "tuple1 = (2,3,6,7,8,10)\n",
    "print(tuple1[4:1:-1]) # 4,3,2\n"
   ]
  },
  {
   "cell_type": "code",
   "execution_count": 34,
   "id": "revolutionary-department",
   "metadata": {},
   "outputs": [
    {
     "name": "stdout",
     "output_type": "stream",
     "text": [
      "(8, 6)\n"
     ]
    }
   ],
   "source": [
    "tuple1 = (2,3,6,7,8,10)\n",
    "print(tuple1[4:1:-2]) # 4,3,2\n"
   ]
  },
  {
   "cell_type": "code",
   "execution_count": 37,
   "id": "proprietary-process",
   "metadata": {},
   "outputs": [
    {
     "name": "stdout",
     "output_type": "stream",
     "text": [
      "(10, 8, 7, 6, 3, 2)\n",
      "(2, 3, 6, 7, 8, 10)\n"
     ]
    }
   ],
   "source": [
    "tuple1 = (2,3,6,7,8,10)\n",
    "print(tuple1[::-1])\n",
    "print(tuple1)"
   ]
  },
  {
   "cell_type": "code",
   "execution_count": 39,
   "id": "exterior-concept",
   "metadata": {},
   "outputs": [
    {
     "name": "stdout",
     "output_type": "stream",
     "text": [
      "(10, 8, 7, 6, 3, 2)\n",
      "(2, 3, 6, 7, 8, 10)\n"
     ]
    }
   ],
   "source": [
    "tuple1 = (2,3,6,7,8,10)\n",
    "tuple2 = tuple1[::-1]\n",
    "print(tuple2)\n",
    "print(tuple1)"
   ]
  },
  {
   "cell_type": "code",
   "execution_count": null,
   "id": "instructional-subcommittee",
   "metadata": {},
   "outputs": [],
   "source": []
  },
  {
   "cell_type": "markdown",
   "id": "defensive-terrorism",
   "metadata": {},
   "source": [
    "# How to create tuple"
   ]
  },
  {
   "cell_type": "code",
   "execution_count": 41,
   "id": "korean-illustration",
   "metadata": {},
   "outputs": [],
   "source": [
    "tuple1 = (2,3,4,6)"
   ]
  },
  {
   "cell_type": "code",
   "execution_count": 44,
   "id": "ambient-newcastle",
   "metadata": {},
   "outputs": [
    {
     "name": "stdout",
     "output_type": "stream",
     "text": [
      "()\n"
     ]
    },
    {
     "data": {
      "text/plain": [
       "tuple"
      ]
     },
     "execution_count": 44,
     "metadata": {},
     "output_type": "execute_result"
    }
   ],
   "source": [
    "tuple1 = ()\n",
    "print(tuple1)\n",
    "type(tuple1)"
   ]
  },
  {
   "cell_type": "code",
   "execution_count": 46,
   "id": "behavioral-services",
   "metadata": {},
   "outputs": [
    {
     "name": "stdout",
     "output_type": "stream",
     "text": [
      "[10]\n"
     ]
    },
    {
     "data": {
      "text/plain": [
       "list"
      ]
     },
     "execution_count": 46,
     "metadata": {},
     "output_type": "execute_result"
    }
   ],
   "source": [
    "list1 = [10]\n",
    "print(list1)\n",
    "type(list1)"
   ]
  },
  {
   "cell_type": "code",
   "execution_count": 48,
   "id": "detected-heather",
   "metadata": {},
   "outputs": [
    {
     "name": "stdout",
     "output_type": "stream",
     "text": [
      "10\n"
     ]
    },
    {
     "data": {
      "text/plain": [
       "int"
      ]
     },
     "execution_count": 48,
     "metadata": {},
     "output_type": "execute_result"
    }
   ],
   "source": [
    "var1 = (10) # tuple\n",
    "print(var1)\n",
    "type(var1)"
   ]
  },
  {
   "cell_type": "code",
   "execution_count": 50,
   "id": "accessible-religion",
   "metadata": {},
   "outputs": [
    {
     "name": "stdout",
     "output_type": "stream",
     "text": [
      "(10,)\n"
     ]
    },
    {
     "data": {
      "text/plain": [
       "tuple"
      ]
     },
     "execution_count": 50,
     "metadata": {},
     "output_type": "execute_result"
    }
   ],
   "source": [
    "var1 = (10,) # tuple\n",
    "print(var1)\n",
    "type(var1)"
   ]
  },
  {
   "cell_type": "code",
   "execution_count": 51,
   "id": "foster-proportion",
   "metadata": {},
   "outputs": [
    {
     "name": "stdout",
     "output_type": "stream",
     "text": [
      "(10, 20, 40, 50)\n"
     ]
    },
    {
     "data": {
      "text/plain": [
       "tuple"
      ]
     },
     "execution_count": 51,
     "metadata": {},
     "output_type": "execute_result"
    }
   ],
   "source": [
    "var1 = (10,20,40,50) # tuple\n",
    "print(var1)\n",
    "type(var1)"
   ]
  },
  {
   "cell_type": "code",
   "execution_count": 57,
   "id": "outstanding-jerusalem",
   "metadata": {},
   "outputs": [
    {
     "data": {
      "text/plain": [
       "'python'"
      ]
     },
     "execution_count": 57,
     "metadata": {},
     "output_type": "execute_result"
    }
   ],
   "source": [
    "var2 = 'python'\n",
    "var2"
   ]
  },
  {
   "cell_type": "code",
   "execution_count": 58,
   "id": "enabling-shareware",
   "metadata": {},
   "outputs": [
    {
     "data": {
      "text/plain": [
       "('python',)"
      ]
     },
     "execution_count": 58,
     "metadata": {},
     "output_type": "execute_result"
    }
   ],
   "source": [
    "var3 = ('python',)\n",
    "var3"
   ]
  },
  {
   "cell_type": "code",
   "execution_count": 62,
   "id": "instant-geology",
   "metadata": {},
   "outputs": [
    {
     "data": {
      "text/plain": [
       "(45.989,)"
      ]
     },
     "execution_count": 62,
     "metadata": {},
     "output_type": "execute_result"
    }
   ],
   "source": [
    "var3 = (45.989,)\n",
    "var3"
   ]
  },
  {
   "cell_type": "code",
   "execution_count": 64,
   "id": "advance-parallel",
   "metadata": {},
   "outputs": [
    {
     "name": "stdout",
     "output_type": "stream",
     "text": [
      "100\n",
      "200\n",
      "300\n"
     ]
    }
   ],
   "source": [
    "a,b,c = 100,200,300\n",
    "print(a)\n",
    "print(b)\n",
    "print(c)"
   ]
  },
  {
   "cell_type": "code",
   "execution_count": 68,
   "id": "missing-printer",
   "metadata": {},
   "outputs": [
    {
     "data": {
      "text/plain": [
       "(100, 200, 300, 400)"
      ]
     },
     "execution_count": 68,
     "metadata": {},
     "output_type": "execute_result"
    }
   ],
   "source": [
    "x = 100,200,300,400\n",
    "x"
   ]
  },
  {
   "cell_type": "code",
   "execution_count": 70,
   "id": "first-admission",
   "metadata": {},
   "outputs": [
    {
     "data": {
      "text/plain": [
       "(100, 200, 300, 400)"
      ]
     },
     "execution_count": 70,
     "metadata": {},
     "output_type": "execute_result"
    }
   ],
   "source": [
    "x = (100,200,300,400)\n",
    "x"
   ]
  },
  {
   "cell_type": "code",
   "execution_count": 73,
   "id": "union-carbon",
   "metadata": {},
   "outputs": [
    {
     "data": {
      "text/plain": [
       "(100, 200)"
      ]
     },
     "execution_count": 73,
     "metadata": {},
     "output_type": "execute_result"
    }
   ],
   "source": [
    "x = 100,200\n",
    "x"
   ]
  },
  {
   "cell_type": "markdown",
   "id": "informed-prompt",
   "metadata": {},
   "source": [
    "## Access tuple itmes by using for loop"
   ]
  },
  {
   "cell_type": "code",
   "execution_count": 75,
   "id": "reflected-extension",
   "metadata": {},
   "outputs": [
    {
     "name": "stdout",
     "output_type": "stream",
     "text": [
      "100\n",
      "200\n",
      "300\n",
      "400\n"
     ]
    }
   ],
   "source": [
    "t1 = (100,200,300,400)\n",
    "\n",
    "for i in t1:\n",
    "    print(i)"
   ]
  },
  {
   "cell_type": "code",
   "execution_count": 77,
   "id": "molecular-exclusive",
   "metadata": {},
   "outputs": [
    {
     "name": "stdout",
     "output_type": "stream",
     "text": [
      "3\n",
      "4\n",
      "1\n",
      "6\n",
      "7\n",
      "8\n",
      "10\n",
      "45\n",
      "67\n",
      "22\n",
      "65\n"
     ]
    }
   ],
   "source": [
    "tuple1 = (3,4,1,6,7,8,10,45,67,22,65)\n",
    "for i in tuple1:\n",
    "    print(i)\n"
   ]
  },
  {
   "cell_type": "code",
   "execution_count": 80,
   "id": "light-danger",
   "metadata": {},
   "outputs": [
    {
     "data": {
      "text/plain": [
       "['Monday', 'Friday', 'Sunday']"
      ]
     },
     "execution_count": 80,
     "metadata": {},
     "output_type": "execute_result"
    }
   ],
   "source": [
    "days = ('Monday','Tuesday','Wednesday','Thursday','Friday','Saturday','Sunday')\n",
    "new_list = [day for day in days if len(day) == 6]\n",
    "new_list\n"
   ]
  },
  {
   "cell_type": "markdown",
   "id": "cathedral-guess",
   "metadata": {},
   "source": [
    "# Python Casting"
   ]
  },
  {
   "cell_type": "code",
   "execution_count": 81,
   "id": "small-edward",
   "metadata": {},
   "outputs": [],
   "source": [
    "tuple1 = (2,3,4,5,5,7)\n",
    "# tuple1 = (2,3,4,5,5,7,100)"
   ]
  },
  {
   "cell_type": "code",
   "execution_count": 88,
   "id": "committed-monroe",
   "metadata": {},
   "outputs": [
    {
     "name": "stdout",
     "output_type": "stream",
     "text": [
      "(2, 3, 4, 5, 5, 7, 100)\n",
      "(2, 3, 4, 5, 5, 7)\n"
     ]
    }
   ],
   "source": [
    "tuple1 = (2,3,4,5,5,7)\n",
    "\n",
    "list1 = list(tuple1)\n",
    "list1.append(100)\n",
    "tuple2 = tuple(list1)\n",
    "\n",
    "print(tuple2)\n",
    "print(tuple1)"
   ]
  },
  {
   "cell_type": "code",
   "execution_count": 89,
   "id": "obvious-italy",
   "metadata": {},
   "outputs": [
    {
     "name": "stdout",
     "output_type": "stream",
     "text": [
      "(2, 3, 4, 5, 5, 7, 100)\n"
     ]
    }
   ],
   "source": [
    "tuple1 = (2,3,4,5,5,7)\n",
    "\n",
    "list1 = list(tuple1)\n",
    "list1.append(100)\n",
    "\n",
    "tuple1 = tuple(list1)\n",
    "\n",
    "print(tuple1)"
   ]
  },
  {
   "cell_type": "code",
   "execution_count": 93,
   "id": "announced-nigeria",
   "metadata": {},
   "outputs": [
    {
     "name": "stdout",
     "output_type": "stream",
     "text": [
      "(2, 3, 4, 5, 5, 7)\n",
      "(10, 20, 30, 40)\n",
      "(2, 3, 4, 5, 5, 7, 10, 20, 30, 40)\n"
     ]
    }
   ],
   "source": [
    "tuple1 = (2,3,4,5,5,7)\n",
    "tuple2 = (10,20,30,40)\n",
    "tuple3 = tuple1 + tuple2\n",
    "print(tuple1)\n",
    "print(tuple2)\n",
    "print(tuple3)"
   ]
  },
  {
   "cell_type": "code",
   "execution_count": 95,
   "id": "aerial-homework",
   "metadata": {},
   "outputs": [
    {
     "name": "stdout",
     "output_type": "stream",
     "text": [
      "(2, 3, 4, 5, 5, 7, 10, 20, 30, 40)\n",
      "(10, 20, 30, 40)\n"
     ]
    }
   ],
   "source": [
    "tuple1 = (2,3,4,5,5,7)\n",
    "tuple2 = (10,20,30,40)\n",
    "tuple1 = tuple1 + tuple2\n",
    "print(tuple1)\n",
    "print(tuple2)\n"
   ]
  },
  {
   "cell_type": "code",
   "execution_count": 96,
   "id": "mobile-sensitivity",
   "metadata": {},
   "outputs": [
    {
     "name": "stdout",
     "output_type": "stream",
     "text": [
      "(2, 3, 4, 5, 5, 7)\n",
      "(2, 3, 4, 5, 5, 7, 10, 20, 30, 40)\n"
     ]
    }
   ],
   "source": [
    "tuple1 = (2,3,4,5,5,7)\n",
    "tuple2 = (10,20,30,40)\n",
    "tuple2 = tuple1 + tuple2\n",
    "print(tuple1)\n",
    "print(tuple2)"
   ]
  },
  {
   "cell_type": "markdown",
   "id": "solar-kennedy",
   "metadata": {},
   "source": [
    "## Index"
   ]
  },
  {
   "cell_type": "code",
   "execution_count": null,
   "id": "selective-atlantic",
   "metadata": {},
   "outputs": [],
   "source": [
    "tuple.index(val)"
   ]
  },
  {
   "cell_type": "code",
   "execution_count": 98,
   "id": "empty-conspiracy",
   "metadata": {},
   "outputs": [
    {
     "data": {
      "text/plain": [
       "2"
      ]
     },
     "execution_count": 98,
     "metadata": {},
     "output_type": "execute_result"
    }
   ],
   "source": [
    "tuple1 = (2,3,4,5,5,7)\n",
    "tuple1.index(4)"
   ]
  },
  {
   "cell_type": "code",
   "execution_count": 100,
   "id": "enabling-guard",
   "metadata": {},
   "outputs": [
    {
     "data": {
      "text/plain": [
       "3"
      ]
     },
     "execution_count": 100,
     "metadata": {},
     "output_type": "execute_result"
    }
   ],
   "source": [
    "tuple1 = (2,3,4,5,5,7)\n",
    "tuple1.index(5)"
   ]
  },
  {
   "cell_type": "code",
   "execution_count": 102,
   "id": "arabic-novel",
   "metadata": {},
   "outputs": [
    {
     "data": {
      "text/plain": [
       "3"
      ]
     },
     "execution_count": 102,
     "metadata": {},
     "output_type": "execute_result"
    }
   ],
   "source": [
    "tuple1 = (2,3,4,5,5,7,5)\n",
    "tuple1.index(5)"
   ]
  },
  {
   "cell_type": "code",
   "execution_count": 106,
   "id": "vulnerable-sleep",
   "metadata": {},
   "outputs": [
    {
     "data": {
      "text/plain": [
       "(3, 4, 6)"
      ]
     },
     "execution_count": 106,
     "metadata": {},
     "output_type": "execute_result"
    }
   ],
   "source": [
    "tuple1 = (2,3,4,5,5,7,5)\n",
    "index_list = tuple([i for i,val in enumerate(tuple1) if val == 5 ])\n",
    "index_list"
   ]
  },
  {
   "cell_type": "code",
   "execution_count": 107,
   "id": "equal-camera",
   "metadata": {},
   "outputs": [
    {
     "data": {
      "text/plain": [
       "(4, 5, 7, 8)"
      ]
     },
     "execution_count": 107,
     "metadata": {},
     "output_type": "execute_result"
    }
   ],
   "source": [
    "tuple1 = (10,20,30,40,25,25,50,25,25,60)\n",
    "index_list = tuple([i for i,val in enumerate(tuple1) if val == 25 ])\n",
    "index_list"
   ]
  },
  {
   "cell_type": "markdown",
   "id": "southwest-december",
   "metadata": {},
   "source": [
    "# count"
   ]
  },
  {
   "cell_type": "code",
   "execution_count": null,
   "id": "boolean-aside",
   "metadata": {},
   "outputs": [],
   "source": [
    "tuple.count(val)"
   ]
  },
  {
   "cell_type": "code",
   "execution_count": 109,
   "id": "seventh-conjunction",
   "metadata": {},
   "outputs": [
    {
     "data": {
      "text/plain": [
       "1"
      ]
     },
     "execution_count": 109,
     "metadata": {},
     "output_type": "execute_result"
    }
   ],
   "source": [
    "tuple1 = (10,20,30,40,25,25,50,25,25,60)\n",
    "tuple1.count(10)"
   ]
  },
  {
   "cell_type": "code",
   "execution_count": 110,
   "id": "rocky-connection",
   "metadata": {},
   "outputs": [
    {
     "data": {
      "text/plain": [
       "4"
      ]
     },
     "execution_count": 110,
     "metadata": {},
     "output_type": "execute_result"
    }
   ],
   "source": [
    "tuple1 = (10,20,30,40,25,25,50,25,25,60)\n",
    "tuple1.count(25)"
   ]
  },
  {
   "cell_type": "markdown",
   "id": "returning-framing",
   "metadata": {},
   "source": [
    "### Built in Function"
   ]
  },
  {
   "cell_type": "code",
   "execution_count": null,
   "id": "domestic-gambling",
   "metadata": {},
   "outputs": [],
   "source": [
    "1. sorted\n",
    "2. reversed\n",
    "3. min\n",
    "4. max\n",
    "5. sum"
   ]
  },
  {
   "cell_type": "code",
   "execution_count": 114,
   "id": "chinese-avatar",
   "metadata": {},
   "outputs": [
    {
     "data": {
      "text/plain": [
       "(10, 20, 25, 25, 25, 25, 30, 40, 50, 60)"
      ]
     },
     "execution_count": 114,
     "metadata": {},
     "output_type": "execute_result"
    }
   ],
   "source": [
    "tuple1 = (10,20,30,40,25,25,50,25,25,60)\n",
    "sorted_tuple = tuple(sorted(tuple1))\n",
    "sorted_tuple"
   ]
  },
  {
   "cell_type": "code",
   "execution_count": 116,
   "id": "outside-minimum",
   "metadata": {},
   "outputs": [
    {
     "data": {
      "text/plain": [
       "(10, 20, 30, 40, 25, 25, 50, 25, 25, 60)"
      ]
     },
     "execution_count": 116,
     "metadata": {},
     "output_type": "execute_result"
    }
   ],
   "source": [
    "tuple1 = (10,20,30,40,25,25,50,25,25,60)\n",
    "sorted_tuple = tuple(sorted(tuple1))\n",
    "sorted_tuple\n",
    "tuple1"
   ]
  },
  {
   "cell_type": "code",
   "execution_count": 121,
   "id": "ancient-fireplace",
   "metadata": {},
   "outputs": [
    {
     "data": {
      "text/plain": [
       "(60, 25, 25, 50, 25, 25, 40, 30, 20, 10)"
      ]
     },
     "execution_count": 121,
     "metadata": {},
     "output_type": "execute_result"
    }
   ],
   "source": [
    "tuple1 = (10,20,30,40,25,25,50,25,25,60)\n",
    "reversed_tuple = tuple(reversed(tuple1))\n",
    "reversed_tuple"
   ]
  },
  {
   "cell_type": "code",
   "execution_count": 120,
   "id": "absent-switch",
   "metadata": {},
   "outputs": [
    {
     "data": {
      "text/plain": [
       "[60, 25, 25, 50, 25, 25, 40, 30, 20, 10]"
      ]
     },
     "execution_count": 120,
     "metadata": {},
     "output_type": "execute_result"
    }
   ],
   "source": [
    "tuple1 = (10,20,30,40,25,25,50,25,25,60)\n",
    "list(reversed(tuple1))"
   ]
  },
  {
   "cell_type": "code",
   "execution_count": 123,
   "id": "creative-maple",
   "metadata": {},
   "outputs": [
    {
     "data": {
      "text/plain": [
       "10"
      ]
     },
     "execution_count": 123,
     "metadata": {},
     "output_type": "execute_result"
    }
   ],
   "source": [
    "tuple1 = (10,20,30,40,25,25,50,25,25,60)\n",
    "min(tuple1)"
   ]
  },
  {
   "cell_type": "code",
   "execution_count": 126,
   "id": "medical-garlic",
   "metadata": {},
   "outputs": [
    {
     "data": {
      "text/plain": [
       "205"
      ]
     },
     "execution_count": 126,
     "metadata": {},
     "output_type": "execute_result"
    }
   ],
   "source": [
    "tuple1 = (10,20,30,40,25,205,50,25,25,60)\n",
    "max(tuple1)"
   ]
  },
  {
   "cell_type": "code",
   "execution_count": 128,
   "id": "ultimate-tongue",
   "metadata": {},
   "outputs": [
    {
     "data": {
      "text/plain": [
       "490"
      ]
     },
     "execution_count": 128,
     "metadata": {},
     "output_type": "execute_result"
    }
   ],
   "source": [
    "tuple1 = (10,20,30,40,25,205,50,25,25,60)\n",
    "sum(tuple1)"
   ]
  },
  {
   "cell_type": "code",
   "execution_count": 132,
   "id": "naughty-baghdad",
   "metadata": {},
   "outputs": [
    {
     "name": "stdout",
     "output_type": "stream",
     "text": [
      "490\n"
     ]
    }
   ],
   "source": [
    "tuple1 = (10,20,30,40,25,205,50,25,25,60)\n",
    "sum1 = 0\n",
    "for i in tuple1: # i = 60\n",
    "    sum1 = sum1 + i # 430 + 60\n",
    "print(sum1)"
   ]
  },
  {
   "cell_type": "code",
   "execution_count": 135,
   "id": "modern-ceremony",
   "metadata": {},
   "outputs": [
    {
     "data": {
      "text/plain": [
       "4"
      ]
     },
     "execution_count": 135,
     "metadata": {},
     "output_type": "execute_result"
    }
   ],
   "source": [
    "tuple1 = (2,3,4,5,6)\n",
    "tuple1[2]"
   ]
  },
  {
   "cell_type": "code",
   "execution_count": 137,
   "id": "female-merit",
   "metadata": {},
   "outputs": [
    {
     "ename": "TypeError",
     "evalue": "'tuple' object does not support item assignment",
     "output_type": "error",
     "traceback": [
      "\u001b[1;31m---------------------------------------------------------------------------\u001b[0m",
      "\u001b[1;31mTypeError\u001b[0m                                 Traceback (most recent call last)",
      "\u001b[1;32m<ipython-input-137-1103796c8b17>\u001b[0m in \u001b[0;36m<module>\u001b[1;34m\u001b[0m\n\u001b[0;32m      1\u001b[0m \u001b[0mtuple1\u001b[0m \u001b[1;33m=\u001b[0m \u001b[1;33m(\u001b[0m\u001b[1;36m2\u001b[0m\u001b[1;33m,\u001b[0m\u001b[1;36m3\u001b[0m\u001b[1;33m,\u001b[0m\u001b[1;36m4\u001b[0m\u001b[1;33m,\u001b[0m\u001b[1;36m5\u001b[0m\u001b[1;33m,\u001b[0m\u001b[1;36m6\u001b[0m\u001b[1;33m)\u001b[0m\u001b[1;33m\u001b[0m\u001b[1;33m\u001b[0m\u001b[0m\n\u001b[1;32m----> 2\u001b[1;33m \u001b[0mtuple1\u001b[0m\u001b[1;33m[\u001b[0m\u001b[1;36m2\u001b[0m\u001b[1;33m]\u001b[0m \u001b[1;33m=\u001b[0m \u001b[1;36m100\u001b[0m\u001b[1;33m\u001b[0m\u001b[1;33m\u001b[0m\u001b[0m\n\u001b[0m",
      "\u001b[1;31mTypeError\u001b[0m: 'tuple' object does not support item assignment"
     ]
    }
   ],
   "source": [
    "tuple1 = (2,3,4,5,6)\n",
    "tuple1[2] = 100"
   ]
  },
  {
   "cell_type": "code",
   "execution_count": 139,
   "id": "coral-parent",
   "metadata": {},
   "outputs": [
    {
     "data": {
      "text/plain": [
       "[10, 20, 30, 40]"
      ]
     },
     "execution_count": 139,
     "metadata": {},
     "output_type": "execute_result"
    }
   ],
   "source": [
    "tuple1 = (2,3,4,[10,20,30,40],6)\n",
    "tuple1[3]"
   ]
  },
  {
   "cell_type": "code",
   "execution_count": 141,
   "id": "manual-fluid",
   "metadata": {},
   "outputs": [
    {
     "ename": "TypeError",
     "evalue": "'tuple' object does not support item assignment",
     "output_type": "error",
     "traceback": [
      "\u001b[1;31m---------------------------------------------------------------------------\u001b[0m",
      "\u001b[1;31mTypeError\u001b[0m                                 Traceback (most recent call last)",
      "\u001b[1;32m<ipython-input-141-ddeb590eb4b2>\u001b[0m in \u001b[0;36m<module>\u001b[1;34m\u001b[0m\n\u001b[0;32m      1\u001b[0m \u001b[0mtuple1\u001b[0m \u001b[1;33m=\u001b[0m \u001b[1;33m(\u001b[0m\u001b[1;36m2\u001b[0m\u001b[1;33m,\u001b[0m\u001b[1;36m3\u001b[0m\u001b[1;33m,\u001b[0m\u001b[1;36m4\u001b[0m\u001b[1;33m,\u001b[0m\u001b[1;33m[\u001b[0m\u001b[1;36m10\u001b[0m\u001b[1;33m,\u001b[0m\u001b[1;36m20\u001b[0m\u001b[1;33m,\u001b[0m\u001b[1;36m30\u001b[0m\u001b[1;33m,\u001b[0m\u001b[1;36m40\u001b[0m\u001b[1;33m]\u001b[0m\u001b[1;33m,\u001b[0m\u001b[1;36m6\u001b[0m\u001b[1;33m)\u001b[0m\u001b[1;33m\u001b[0m\u001b[1;33m\u001b[0m\u001b[0m\n\u001b[1;32m----> 2\u001b[1;33m \u001b[0mtuple1\u001b[0m\u001b[1;33m[\u001b[0m\u001b[1;36m3\u001b[0m\u001b[1;33m]\u001b[0m \u001b[1;33m=\u001b[0m \u001b[1;36m100\u001b[0m\u001b[1;33m\u001b[0m\u001b[1;33m\u001b[0m\u001b[0m\n\u001b[0m",
      "\u001b[1;31mTypeError\u001b[0m: 'tuple' object does not support item assignment"
     ]
    }
   ],
   "source": [
    "tuple1 = (2,3,4,[10,20,30,40],6)\n",
    "tuple1[3] = 100"
   ]
  },
  {
   "cell_type": "code",
   "execution_count": 147,
   "id": "legitimate-taylor",
   "metadata": {},
   "outputs": [
    {
     "data": {
      "text/plain": [
       "(2, 3, 4, [10, 2000, 30, 40], 6)"
      ]
     },
     "execution_count": 147,
     "metadata": {},
     "output_type": "execute_result"
    }
   ],
   "source": [
    "tuple1 = (2,3,4,[10,20,30,40],6)\n",
    "tuple1[3][1] = 2000\n",
    "tuple1"
   ]
  },
  {
   "cell_type": "code",
   "execution_count": 151,
   "id": "moving-thermal",
   "metadata": {},
   "outputs": [
    {
     "ename": "TypeError",
     "evalue": "'tuple' object does not support item assignment",
     "output_type": "error",
     "traceback": [
      "\u001b[1;31m---------------------------------------------------------------------------\u001b[0m",
      "\u001b[1;31mTypeError\u001b[0m                                 Traceback (most recent call last)",
      "\u001b[1;32m<ipython-input-151-7908c5401c71>\u001b[0m in \u001b[0;36m<module>\u001b[1;34m\u001b[0m\n\u001b[0;32m      1\u001b[0m \u001b[0mtuple1\u001b[0m \u001b[1;33m=\u001b[0m \u001b[1;33m(\u001b[0m\u001b[1;36m2\u001b[0m\u001b[1;33m,\u001b[0m\u001b[1;36m3\u001b[0m\u001b[1;33m,\u001b[0m\u001b[1;36m4\u001b[0m\u001b[1;33m,\u001b[0m\u001b[1;33m(\u001b[0m\u001b[1;36m10\u001b[0m\u001b[1;33m,\u001b[0m\u001b[1;36m20\u001b[0m\u001b[1;33m,\u001b[0m\u001b[1;36m30\u001b[0m\u001b[1;33m,\u001b[0m\u001b[1;36m40\u001b[0m\u001b[1;33m)\u001b[0m\u001b[1;33m,\u001b[0m\u001b[1;36m6\u001b[0m\u001b[1;33m)\u001b[0m\u001b[1;33m\u001b[0m\u001b[1;33m\u001b[0m\u001b[0m\n\u001b[1;32m----> 2\u001b[1;33m \u001b[0mtuple1\u001b[0m\u001b[1;33m[\u001b[0m\u001b[1;36m3\u001b[0m\u001b[1;33m]\u001b[0m\u001b[1;33m[\u001b[0m\u001b[1;36m1\u001b[0m\u001b[1;33m]\u001b[0m \u001b[1;33m=\u001b[0m \u001b[1;36m3000\u001b[0m\u001b[1;33m\u001b[0m\u001b[1;33m\u001b[0m\u001b[0m\n\u001b[0m",
      "\u001b[1;31mTypeError\u001b[0m: 'tuple' object does not support item assignment"
     ]
    }
   ],
   "source": [
    "tuple1 = (2,3,4,(10,20,30,40),6)\n",
    "tuple1[3][1] = 3000"
   ]
  },
  {
   "cell_type": "code",
   "execution_count": 155,
   "id": "psychological-phoenix",
   "metadata": {},
   "outputs": [
    {
     "name": "stdout",
     "output_type": "stream",
     "text": [
      "(2, 3, 4, [10, 20, 30, 4000], 6)\n",
      "(2, 3, 4, [10, 20, 30, 4000], 6)\n"
     ]
    }
   ],
   "source": [
    "import copy \n",
    "\n",
    "tuple1 = (2,3,4,[10,20,30,40],6)\n",
    "tuple2 = tuple1\n",
    "tuple1[3][-1] = 4000\n",
    "print(tuple1)\n",
    "print(tuple2)"
   ]
  },
  {
   "cell_type": "code",
   "execution_count": 158,
   "id": "dietary-element",
   "metadata": {},
   "outputs": [
    {
     "name": "stdout",
     "output_type": "stream",
     "text": [
      "(2, 3, 4, [10, 20, 30, 40], 6)\n",
      "(2, 3, 4, [10, 20, 30, 4000], 6)\n"
     ]
    }
   ],
   "source": [
    "import copy \n",
    "\n",
    "tuple1 = (2,3,4,[10,20,30,40],6)\n",
    "tuple2 = copy.deepcopy(tuple1)\n",
    "tuple2[3][-1] = 4000\n",
    "print(tuple1)\n",
    "print(tuple2)"
   ]
  }
 ],
 "metadata": {
  "kernelspec": {
   "display_name": "Python 3 (ipykernel)",
   "language": "python",
   "name": "python3"
  },
  "language_info": {
   "codemirror_mode": {
    "name": "ipython",
    "version": 3
   },
   "file_extension": ".py",
   "mimetype": "text/x-python",
   "name": "python",
   "nbconvert_exporter": "python",
   "pygments_lexer": "ipython3",
   "version": "3.9.12"
  }
 },
 "nbformat": 4,
 "nbformat_minor": 5
}
