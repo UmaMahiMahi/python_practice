{
 "cells": [
  {
   "cell_type": "markdown",
   "id": "absent-missile",
   "metadata": {},
   "source": [
    "# Conditional Statements"
   ]
  },
  {
   "cell_type": "code",
   "execution_count": null,
   "id": "dangerous-directory",
   "metadata": {},
   "outputs": [],
   "source": [
    "Conditional Statements >> Decision Making Statements\n",
    "\n",
    "if\n",
    "elif\n",
    "else\n",
    "\n",
    "Valid Syntax:\n",
    "if \n",
    "if - else\n",
    "if - elif\n",
    "if - elif - elif\n",
    "if - elif - else\n",
    "if - elif - elif - elif - else\n",
    "\n",
    "Invalid:\n",
    "elif\n",
    "elif - else\n",
    "elif - elif - else\n",
    "else"
   ]
  },
  {
   "cell_type": "markdown",
   "id": "sticky-situation",
   "metadata": {},
   "source": [
    "# Syntax"
   ]
  },
  {
   "cell_type": "code",
   "execution_count": null,
   "id": "exotic-hayes",
   "metadata": {},
   "outputs": [],
   "source": [
    "if condition1 : # True/False\n",
    "    statement1\n",
    "    statement2\n",
    "    statement3\n",
    "    \n",
    "elif condition2: # True/False\n",
    "    statement4\n",
    "    statement5\n",
    "    statement6\n",
    "    \n",
    "\n",
    "elif condition3: # True/False\n",
    "    statement7\n",
    "    statement8\n",
    "    statement9\n",
    "    \n",
    "else:\n",
    "    statement10\n",
    "    statement11\n",
    "    "
   ]
  },
  {
   "cell_type": "code",
   "execution_count": null,
   "id": "collect-assault",
   "metadata": {},
   "outputs": [],
   "source": [
    "if condition1 : # True/False\n",
    "    statement1\n",
    "    statement2\n",
    "    statement3\n",
    "    \n",
    "elif condition2: # True/False\n",
    "    statement4\n",
    "    statement5\n",
    "    statement6\n",
    "    \n"
   ]
  },
  {
   "cell_type": "code",
   "execution_count": null,
   "id": "burning-bullet",
   "metadata": {},
   "outputs": [],
   "source": [
    "if condition1 : # True/False\n",
    "    statement1\n",
    "    statement2\n",
    "    statement3\n",
    "\n",
    "if condition2 : # True/False\n",
    "    statement11\n",
    "    statement22\n",
    "    statement33\n",
    "\n",
    "else:\n",
    "    statement10\n",
    "    statement11\n",
    "    "
   ]
  },
  {
   "cell_type": "code",
   "execution_count": null,
   "id": "cutting-belgium",
   "metadata": {},
   "outputs": [],
   "source": [
    "if condition1 : # True/False\n",
    "    statement1\n",
    "    statement2\n",
    "    statement3\n",
    "\n",
    "else:\n",
    "    statement10\n",
    "    statement11\n",
    "    "
   ]
  },
  {
   "cell_type": "code",
   "execution_count": null,
   "id": "cardiovascular-airport",
   "metadata": {},
   "outputs": [],
   "source": [
    "elif condition1 : # True/False\n",
    "    statement1\n",
    "    statement2\n",
    "    statement3\n",
    "\n",
    "else:\n",
    "    statement10\n",
    "    statement11\n",
    "    "
   ]
  },
  {
   "cell_type": "code",
   "execution_count": 4,
   "id": "reverse-empire",
   "metadata": {},
   "outputs": [
    {
     "name": "stdout",
     "output_type": "stream",
     "text": [
      "Hello Data Science\n"
     ]
    }
   ],
   "source": [
    "string = \"PYTHON and Data Science\"\n",
    "if string.isupper(): # False\n",
    "    print(\"Hello\")\n",
    "    \n",
    "print(\"Hello Data Science\")"
   ]
  },
  {
   "cell_type": "code",
   "execution_count": 6,
   "id": "ahead-newcastle",
   "metadata": {},
   "outputs": [
    {
     "name": "stdout",
     "output_type": "stream",
     "text": [
      "Hello Data Science\n",
      "Machine Learning\n",
      "Deep Learning\n"
     ]
    }
   ],
   "source": [
    "print(\"Hello Data Science\")\n",
    "print(\"Machine Learning\")\n",
    "print(\"Deep Learning\")"
   ]
  },
  {
   "cell_type": "code",
   "execution_count": 7,
   "id": "specialized-reasoning",
   "metadata": {},
   "outputs": [
    {
     "ename": "IndentationError",
     "evalue": "unexpected indent (<ipython-input-7-575143e6bedb>, line 2)",
     "output_type": "error",
     "traceback": [
      "\u001b[1;36m  File \u001b[1;32m\"<ipython-input-7-575143e6bedb>\"\u001b[1;36m, line \u001b[1;32m2\u001b[0m\n\u001b[1;33m    print(\"Machine Learning\")\u001b[0m\n\u001b[1;37m    ^\u001b[0m\n\u001b[1;31mIndentationError\u001b[0m\u001b[1;31m:\u001b[0m unexpected indent\n"
     ]
    }
   ],
   "source": [
    "print(\"Hello Data Science\")\n",
    "  print(\"Machine Learning\")\n",
    "print(\"Deep Learning\")"
   ]
  },
  {
   "cell_type": "code",
   "execution_count": 11,
   "id": "seven-auckland",
   "metadata": {},
   "outputs": [
    {
     "name": "stdout",
     "output_type": "stream",
     "text": [
      "Hello Data Science\n",
      "Machine Learning\n",
      "Deep Learning\n"
     ]
    }
   ],
   "source": [
    "string = \"PYTHON\"\n",
    "if string.isupper(): # False\n",
    "    print(\"Hello Data Science\")\n",
    "    print(\"Machine Learning\")\n",
    "    print(\"Deep Learning\")\n",
    "    \n"
   ]
  },
  {
   "cell_type": "code",
   "execution_count": 13,
   "id": "heavy-genome",
   "metadata": {},
   "outputs": [
    {
     "ename": "IndentationError",
     "evalue": "unexpected indent (<ipython-input-13-86e5404b52b9>, line 4)",
     "output_type": "error",
     "traceback": [
      "\u001b[1;36m  File \u001b[1;32m\"<ipython-input-13-86e5404b52b9>\"\u001b[1;36m, line \u001b[1;32m4\u001b[0m\n\u001b[1;33m    print(\"Machine Learning\")\u001b[0m\n\u001b[1;37m    ^\u001b[0m\n\u001b[1;31mIndentationError\u001b[0m\u001b[1;31m:\u001b[0m unexpected indent\n"
     ]
    }
   ],
   "source": [
    "string = \"PYTHON\"\n",
    "if string.isupper(): # False\n",
    "    print(\"Hello Data Science\")\n",
    "     print(\"Machine Learning\")\n",
    "    print(\"Deep Learning\")\n",
    "    \n"
   ]
  },
  {
   "cell_type": "code",
   "execution_count": 14,
   "id": "molecular-funds",
   "metadata": {},
   "outputs": [
    {
     "name": "stdout",
     "output_type": "stream",
     "text": [
      "Hello Data Science\n",
      "Machine Learning\n",
      "Deep Learning\n"
     ]
    }
   ],
   "source": [
    "string = \"PYTHON\"\n",
    "if string.isupper(): # False\n",
    "        print(\"Hello Data Science\")\n",
    "        print(\"Machine Learning\")\n",
    "        print(\"Deep Learning\")"
   ]
  },
  {
   "cell_type": "code",
   "execution_count": 17,
   "id": "equipped-winning",
   "metadata": {},
   "outputs": [
    {
     "name": "stdout",
     "output_type": "stream",
     "text": [
      "a is less than b\n"
     ]
    }
   ],
   "source": [
    "a = 10\n",
    "b = 20\n",
    "\n",
    "if a > b: # False\n",
    "    print(\"a is greater than b\")\n",
    "    \n",
    "else:\n",
    "    print(\"a is less than b\")"
   ]
  },
  {
   "cell_type": "code",
   "execution_count": 204,
   "id": "caring-wells",
   "metadata": {},
   "outputs": [
    {
     "name": "stdout",
     "output_type": "stream",
     "text": [
      "a is equal to b\n"
     ]
    }
   ],
   "source": [
    "a = 20\n",
    "b = 20\n",
    "\n",
    "if a > b: # False\n",
    "    print(\"a is greater than b\")\n",
    "    \n",
    "elif a == b: # True\n",
    "    print(\"a is equal to b\")\n",
    "    \n",
    "else:\n",
    "    print(\"a is less than b\")"
   ]
  },
  {
   "cell_type": "code",
   "execution_count": 205,
   "id": "legendary-blogger",
   "metadata": {},
   "outputs": [
    {
     "name": "stdout",
     "output_type": "stream",
     "text": [
      "a is less than b\n"
     ]
    }
   ],
   "source": [
    "a = 20\n",
    "b = 20\n",
    "\n",
    "if a > b: # False\n",
    "    print(\"a is greater than b\")\n",
    "\n",
    "elif \n",
    "else:\n",
    "    print(\"a is less than b\")"
   ]
  },
  {
   "cell_type": "code",
   "execution_count": 23,
   "id": "considerable-devices",
   "metadata": {},
   "outputs": [
    {
     "name": "stdout",
     "output_type": "stream",
     "text": [
      "a is greater than b\n"
     ]
    }
   ],
   "source": [
    "a = 25\n",
    "b = 20\n",
    "\n",
    "if a > b: # True\n",
    "    print(\"a is greater than b\")\n",
    "    \n",
    "elif a == b: # False\n",
    "    print(\"a is equal to b\")\n",
    "    \n",
    "else:\n",
    "    print(\"a is less than b\")"
   ]
  },
  {
   "cell_type": "code",
   "execution_count": 24,
   "id": "overall-ticket",
   "metadata": {},
   "outputs": [
    {
     "name": "stdout",
     "output_type": "stream",
     "text": [
      "a is less than b\n"
     ]
    }
   ],
   "source": [
    "a = 25\n",
    "b = 30\n",
    "\n",
    "if a > b: # False\n",
    "    print(\"a is greater than b\")\n",
    "    \n",
    "elif a == b: # False\n",
    "    print(\"a is equal to b\")\n",
    "    \n",
    "else:\n",
    "    print(\"a is less than b\")"
   ]
  },
  {
   "cell_type": "markdown",
   "id": "wanted-large",
   "metadata": {},
   "source": [
    "# Operators"
   ]
  },
  {
   "cell_type": "markdown",
   "id": "satisfied-jerusalem",
   "metadata": {},
   "source": [
    "### 1. Comparison Operators"
   ]
  },
  {
   "cell_type": "code",
   "execution_count": null,
   "id": "indonesian-groove",
   "metadata": {},
   "outputs": [],
   "source": [
    "a == b # equal operator\n",
    "a != b # Not equal\n",
    "a > b  # greater than \n",
    "a < b  # less than\n",
    "a >= b # greater than or equal\n",
    "a <= b # less than or equal"
   ]
  },
  {
   "cell_type": "code",
   "execution_count": 33,
   "id": "metallic-contrast",
   "metadata": {},
   "outputs": [
    {
     "data": {
      "text/plain": [
       "True"
      ]
     },
     "execution_count": 33,
     "metadata": {},
     "output_type": "execute_result"
    }
   ],
   "source": [
    "40 > 5"
   ]
  },
  {
   "cell_type": "code",
   "execution_count": 34,
   "id": "mediterranean-involvement",
   "metadata": {},
   "outputs": [
    {
     "data": {
      "text/plain": [
       "True"
      ]
     },
     "execution_count": 34,
     "metadata": {},
     "output_type": "execute_result"
    }
   ],
   "source": [
    "5 == 5"
   ]
  },
  {
   "cell_type": "code",
   "execution_count": 30,
   "id": "protecting-thought",
   "metadata": {},
   "outputs": [
    {
     "data": {
      "text/plain": [
       "True"
      ]
     },
     "execution_count": 30,
     "metadata": {},
     "output_type": "execute_result"
    }
   ],
   "source": [
    "3.14 == 3.14"
   ]
  },
  {
   "cell_type": "code",
   "execution_count": 32,
   "id": "municipal-little",
   "metadata": {},
   "outputs": [
    {
     "data": {
      "text/plain": [
       "True"
      ]
     },
     "execution_count": 32,
     "metadata": {},
     "output_type": "execute_result"
    }
   ],
   "source": [
    "3.14 > 3.11"
   ]
  },
  {
   "cell_type": "code",
   "execution_count": 36,
   "id": "affecting-intermediate",
   "metadata": {},
   "outputs": [
    {
     "data": {
      "text/plain": [
       "True"
      ]
     },
     "execution_count": 36,
     "metadata": {},
     "output_type": "execute_result"
    }
   ],
   "source": [
    "'python' == 'python'"
   ]
  },
  {
   "cell_type": "code",
   "execution_count": 41,
   "id": "sound-impression",
   "metadata": {},
   "outputs": [
    {
     "data": {
      "text/plain": [
       "False"
      ]
     },
     "execution_count": 41,
     "metadata": {},
     "output_type": "execute_result"
    }
   ],
   "source": [
    "'python' < 'cython'"
   ]
  },
  {
   "cell_type": "code",
   "execution_count": 43,
   "id": "regulated-raise",
   "metadata": {},
   "outputs": [
    {
     "data": {
      "text/plain": [
       "True"
      ]
     },
     "execution_count": 43,
     "metadata": {},
     "output_type": "execute_result"
    }
   ],
   "source": [
    "'python' != 'Python'"
   ]
  },
  {
   "cell_type": "code",
   "execution_count": 64,
   "id": "brave-clearing",
   "metadata": {},
   "outputs": [
    {
     "data": {
      "text/plain": [
       "False"
      ]
     },
     "execution_count": 64,
     "metadata": {},
     "output_type": "execute_result"
    }
   ],
   "source": [
    "'python' != 'python'"
   ]
  },
  {
   "cell_type": "code",
   "execution_count": 65,
   "id": "happy-species",
   "metadata": {},
   "outputs": [
    {
     "data": {
      "text/plain": [
       "False"
      ]
     },
     "execution_count": 65,
     "metadata": {},
     "output_type": "execute_result"
    }
   ],
   "source": [
    "str1 = 'python'\n",
    "str2 = 'python'\n",
    "str1 != str2"
   ]
  },
  {
   "cell_type": "code",
   "execution_count": 47,
   "id": "economic-northeast",
   "metadata": {},
   "outputs": [
    {
     "data": {
      "text/plain": [
       "True"
      ]
     },
     "execution_count": 47,
     "metadata": {},
     "output_type": "execute_result"
    }
   ],
   "source": [
    "10 == 10"
   ]
  },
  {
   "cell_type": "code",
   "execution_count": 49,
   "id": "confused-shower",
   "metadata": {},
   "outputs": [
    {
     "data": {
      "text/plain": [
       "False"
      ]
     },
     "execution_count": 49,
     "metadata": {},
     "output_type": "execute_result"
    }
   ],
   "source": [
    "10 == 20"
   ]
  },
  {
   "cell_type": "code",
   "execution_count": 51,
   "id": "musical-bangkok",
   "metadata": {},
   "outputs": [
    {
     "data": {
      "text/plain": [
       "True"
      ]
     },
     "execution_count": 51,
     "metadata": {},
     "output_type": "execute_result"
    }
   ],
   "source": [
    "10 != 20"
   ]
  },
  {
   "cell_type": "code",
   "execution_count": 53,
   "id": "improving-canyon",
   "metadata": {},
   "outputs": [
    {
     "data": {
      "text/plain": [
       "False"
      ]
     },
     "execution_count": 53,
     "metadata": {},
     "output_type": "execute_result"
    }
   ],
   "source": [
    "10 > 10 "
   ]
  },
  {
   "cell_type": "code",
   "execution_count": 55,
   "id": "comic-vietnamese",
   "metadata": {},
   "outputs": [
    {
     "data": {
      "text/plain": [
       "True"
      ]
     },
     "execution_count": 55,
     "metadata": {},
     "output_type": "execute_result"
    }
   ],
   "source": [
    "10 == 10 "
   ]
  },
  {
   "cell_type": "code",
   "execution_count": 57,
   "id": "activated-benefit",
   "metadata": {},
   "outputs": [
    {
     "data": {
      "text/plain": [
       "True"
      ]
     },
     "execution_count": 57,
     "metadata": {},
     "output_type": "execute_result"
    }
   ],
   "source": [
    "10 >= 10 "
   ]
  },
  {
   "cell_type": "code",
   "execution_count": 59,
   "id": "successful-ultimate",
   "metadata": {},
   "outputs": [
    {
     "data": {
      "text/plain": [
       "True"
      ]
     },
     "execution_count": 59,
     "metadata": {},
     "output_type": "execute_result"
    }
   ],
   "source": [
    "10 <= 10 "
   ]
  },
  {
   "cell_type": "code",
   "execution_count": 61,
   "id": "hollywood-funds",
   "metadata": {},
   "outputs": [
    {
     "data": {
      "text/plain": [
       "True"
      ]
     },
     "execution_count": 61,
     "metadata": {},
     "output_type": "execute_result"
    }
   ],
   "source": [
    "5 <= 10 "
   ]
  },
  {
   "cell_type": "code",
   "execution_count": 63,
   "id": "suspended-morgan",
   "metadata": {},
   "outputs": [
    {
     "data": {
      "text/plain": [
       "False"
      ]
     },
     "execution_count": 63,
     "metadata": {},
     "output_type": "execute_result"
    }
   ],
   "source": [
    "5.5 <= 4"
   ]
  },
  {
   "cell_type": "markdown",
   "id": "reliable-suggestion",
   "metadata": {},
   "source": [
    "# 2. Logical Operators"
   ]
  },
  {
   "cell_type": "code",
   "execution_count": null,
   "id": "constant-filter",
   "metadata": {},
   "outputs": [],
   "source": [
    "1. and\n",
    "2. or\n",
    "3. not"
   ]
  },
  {
   "cell_type": "markdown",
   "id": "unable-growing",
   "metadata": {},
   "source": [
    "#### 2.1 and"
   ]
  },
  {
   "cell_type": "code",
   "execution_count": 66,
   "id": "ecological-asian",
   "metadata": {},
   "outputs": [],
   "source": [
    "True and True     >> True\n",
    "True and False    >> False\n",
    "False and True    >> False\n",
    "False and False   >> False"
   ]
  },
  {
   "cell_type": "markdown",
   "id": "entire-monthly",
   "metadata": {},
   "source": [
    "#### 2.2 or operator"
   ]
  },
  {
   "cell_type": "code",
   "execution_count": null,
   "id": "scenic-briefs",
   "metadata": {},
   "outputs": [],
   "source": [
    "True and True     >> True\n",
    "True and False    >> True\n",
    "False and True    >> True\n",
    "False and False   >> False"
   ]
  },
  {
   "cell_type": "code",
   "execution_count": 69,
   "id": "funky-medication",
   "metadata": {},
   "outputs": [
    {
     "name": "stdout",
     "output_type": "stream",
     "text": [
      "b is largest number\n"
     ]
    }
   ],
   "source": [
    "a = 10\n",
    "b = 200\n",
    "c = 30\n",
    "\n",
    "if a > b and a > c : # False and False >> False\n",
    "    print(\"a is largest number\")\n",
    "    \n",
    "elif b > a and b > c: # True and True >> True\n",
    "    print('b is largest number') \n",
    "    \n",
    "else:\n",
    "    print(\"c is largest number\")"
   ]
  },
  {
   "cell_type": "code",
   "execution_count": 206,
   "id": "political-department",
   "metadata": {},
   "outputs": [
    {
     "name": "stdout",
     "output_type": "stream",
     "text": [
      "c is largest number\n"
     ]
    }
   ],
   "source": [
    "a = 10\n",
    "b = 200\n",
    "c = 300\n",
    "\n",
    "if a > b and a > c : # False and False >> False\n",
    "    print(\"a is largest number\")\n",
    "    \n",
    "elif b > a and b > c: # True and False >> False\n",
    "    print('b is largest number') \n",
    "    \n",
    "else:\n",
    "    print(\"c is largest number\")"
   ]
  },
  {
   "cell_type": "code",
   "execution_count": 208,
   "id": "exterior-arthritis",
   "metadata": {},
   "outputs": [
    {
     "name": "stdout",
     "output_type": "stream",
     "text": [
      "a is largest number\n"
     ]
    }
   ],
   "source": [
    "a = 1000\n",
    "b = 2000\n",
    "c = 300\n",
    "d = 400\n",
    "if (a > b and a > c) or a > d: # (False and True)  or True >> True and True >> True\n",
    "    print(\"a is largest number\")\n",
    "    \n",
    "elif b > a and b > c: # True and False >> False\n",
    "    print('b is largest number') \n",
    "    \n",
    "else:\n",
    "    print(\"c is largest number\")"
   ]
  },
  {
   "cell_type": "code",
   "execution_count": 72,
   "id": "southwest-nursery",
   "metadata": {},
   "outputs": [
    {
     "name": "stdout",
     "output_type": "stream",
     "text": [
      "a is largest number\n"
     ]
    }
   ],
   "source": [
    "a = 1000\n",
    "b = 200\n",
    "c = 300\n",
    "\n",
    "if a > b and a > c :\n",
    "    print(\"a is largest number\")\n",
    "    \n",
    "elif b > a and b > c: \n",
    "    print('b is largest number') \n",
    "    \n",
    "else:\n",
    "    print(\"c is largest number\")"
   ]
  },
  {
   "cell_type": "markdown",
   "id": "accompanied-bridge",
   "metadata": {},
   "source": [
    "## User inputs"
   ]
  },
  {
   "cell_type": "code",
   "execution_count": null,
   "id": "upper-latvia",
   "metadata": {},
   "outputs": [],
   "source": [
    "We can take inputs from user by using input function\n",
    "input function always return string datatype"
   ]
  },
  {
   "cell_type": "code",
   "execution_count": 74,
   "id": "final-tanzania",
   "metadata": {},
   "outputs": [
    {
     "name": "stdout",
     "output_type": "stream",
     "text": [
      "34\n"
     ]
    },
    {
     "data": {
      "text/plain": [
       "34"
      ]
     },
     "execution_count": 74,
     "metadata": {},
     "output_type": "execute_result"
    }
   ],
   "source": [
    "a = input()\n",
    "a = int(a)\n",
    "a"
   ]
  },
  {
   "cell_type": "code",
   "execution_count": 75,
   "id": "interested-mediterranean",
   "metadata": {},
   "outputs": [
    {
     "name": "stdout",
     "output_type": "stream",
     "text": [
      "34\n"
     ]
    },
    {
     "data": {
      "text/plain": [
       "34"
      ]
     },
     "execution_count": 75,
     "metadata": {},
     "output_type": "execute_result"
    }
   ],
   "source": [
    "a = int(input())\n",
    "a"
   ]
  },
  {
   "cell_type": "code",
   "execution_count": 77,
   "id": "infrared-breakdown",
   "metadata": {},
   "outputs": [
    {
     "name": "stdout",
     "output_type": "stream",
     "text": [
      "Enter the value of a:22\n"
     ]
    },
    {
     "data": {
      "text/plain": [
       "22"
      ]
     },
     "execution_count": 77,
     "metadata": {},
     "output_type": "execute_result"
    }
   ],
   "source": [
    "a = int(input('Enter the value of a:'))\n",
    "a"
   ]
  },
  {
   "cell_type": "code",
   "execution_count": 86,
   "id": "comprehensive-record",
   "metadata": {},
   "outputs": [
    {
     "name": "stdout",
     "output_type": "stream",
     "text": [
      "Enter the value of a: 2\n",
      "Enter the value of b: 3\n",
      "Enter the value of c: 54\n"
     ]
    }
   ],
   "source": [
    "a = int(input('Enter the value of a: '))\n",
    "b = int(input('Enter the value of b: '))\n",
    "c = int(input('Enter the value of c: '))\n"
   ]
  },
  {
   "cell_type": "code",
   "execution_count": 88,
   "id": "massive-affairs",
   "metadata": {},
   "outputs": [
    {
     "name": "stdout",
     "output_type": "stream",
     "text": [
      "Enter the value of a: 5.67\n",
      "Enter the value of b: 3\n",
      "Enter the value of c: 4.5\n"
     ]
    }
   ],
   "source": [
    "a = float(input('Enter the value of a: '))\n",
    "b = float(input('Enter the value of b: '))\n",
    "c = float(input('Enter the value of c: '))\n"
   ]
  },
  {
   "cell_type": "code",
   "execution_count": 89,
   "id": "dependent-lafayette",
   "metadata": {},
   "outputs": [
    {
     "name": "stdout",
     "output_type": "stream",
     "text": [
      "Enter the value of a: 2\n",
      "Enter the value of b: 4.56\n",
      "Enter the value of c: 123\n",
      "2 <class 'int'>\n",
      "4.56 <class 'float'>\n",
      "123 <class 'int'>\n"
     ]
    }
   ],
   "source": [
    "a = eval(input('Enter the value of a: '))\n",
    "b = eval(input('Enter the value of b: '))\n",
    "c = eval(input('Enter the value of c: '))\n",
    "\n",
    "print(a,type(a))\n",
    "print(b,type(b))\n",
    "print(c,type(c))"
   ]
  },
  {
   "cell_type": "code",
   "execution_count": 91,
   "id": "saved-membrane",
   "metadata": {},
   "outputs": [
    {
     "data": {
      "text/plain": [
       "200"
      ]
     },
     "execution_count": 91,
     "metadata": {},
     "output_type": "execute_result"
    }
   ],
   "source": [
    "eval(\"200\")"
   ]
  },
  {
   "cell_type": "code",
   "execution_count": 92,
   "id": "second-berlin",
   "metadata": {},
   "outputs": [
    {
     "data": {
      "text/plain": [
       "3.23"
      ]
     },
     "execution_count": 92,
     "metadata": {},
     "output_type": "execute_result"
    }
   ],
   "source": [
    "eval('3.23')"
   ]
  },
  {
   "cell_type": "code",
   "execution_count": 93,
   "id": "conventional-virtue",
   "metadata": {},
   "outputs": [
    {
     "name": "stdout",
     "output_type": "stream",
     "text": [
      "Enter the value of a: 5\n",
      "Enter the value of b: 4\n",
      "Enter the value of c: 7\n",
      "c is largest number\n"
     ]
    }
   ],
   "source": [
    "a = int(input('Enter the value of a: '))\n",
    "b = int(input('Enter the value of b: '))\n",
    "c = int(input('Enter the value of c: '))\n",
    "\n",
    "if a > b and a > c :\n",
    "    print(\"a is largest number\")\n",
    "    \n",
    "elif b > a and b > c: \n",
    "    print('b is largest number') \n",
    "    \n",
    "else:\n",
    "    print(\"c is largest number\")"
   ]
  },
  {
   "cell_type": "code",
   "execution_count": 94,
   "id": "dietary-absolute",
   "metadata": {},
   "outputs": [
    {
     "name": "stdout",
     "output_type": "stream",
     "text": [
      "Enter the value of a: 34\n",
      "Enter the value of b: 23\n",
      "Enter the value of c: 12\n",
      "34 is largest number\n"
     ]
    }
   ],
   "source": [
    "a = int(input('Enter the value of a: '))\n",
    "b = int(input('Enter the value of b: '))\n",
    "c = int(input('Enter the value of c: '))\n",
    "\n",
    "if a > b and a > c :\n",
    "    print(f\"{a} is largest number\")\n",
    "    \n",
    "elif b > a and b > c: \n",
    "    print(f'{b} is largest number') \n",
    "    \n",
    "else:\n",
    "    print(f\"{c} is largest number\")"
   ]
  },
  {
   "cell_type": "code",
   "execution_count": 98,
   "id": "curious-problem",
   "metadata": {},
   "outputs": [
    {
     "name": "stdout",
     "output_type": "stream",
     "text": [
      "c is largest number\n"
     ]
    }
   ],
   "source": [
    "a = 10\n",
    "b = 10\n",
    "c = 20\n",
    "\n",
    "if a > b and a > c :  # False\n",
    "    print(\"a is largest number\")\n",
    "    \n",
    "elif b > a and b > c:  # False\n",
    "    print('b is largest number') \n",
    "    \n",
    "elif c > a and c > b: # True\n",
    "    print(\"c is largest number\")\n",
    "    \n",
    "else:\n",
    "    print(\"Two or more numbers are equal\")"
   ]
  },
  {
   "cell_type": "code",
   "execution_count": 200,
   "id": "ongoing-newfoundland",
   "metadata": {},
   "outputs": [
    {
     "name": "stdout",
     "output_type": "stream",
     "text": [
      "b is largest number\n"
     ]
    }
   ],
   "source": [
    "a = 10\n",
    "b = 300\n",
    "c = 20\n",
    "\n",
    "if a > b and a > c :  # False\n",
    "    print(\"a is largest number\")\n",
    "    \n",
    "elif b > a and b > c:  # False\n",
    "    print('b is largest number') \n",
    "    \n",
    "elif c > a and c > b: # True\n",
    "    print(\"c is largest number\")\n",
    "    \n",
    "else:\n",
    "    print(\"Two or more numbers are equal\")"
   ]
  },
  {
   "cell_type": "code",
   "execution_count": 201,
   "id": "bronze-ukraine",
   "metadata": {},
   "outputs": [
    {
     "name": "stdout",
     "output_type": "stream",
     "text": [
      "b is largest number\n"
     ]
    }
   ],
   "source": [
    "a,b,c = 10,300,20\n",
    "\n",
    "if a > b and a > c :  # False\n",
    "    print(\"a is largest number\")\n",
    "    \n",
    "elif b > a and b > c:  # False\n",
    "    print('b is largest number') \n",
    "    \n",
    "elif c > a and c > b: # True\n",
    "    print(\"c is largest number\")\n",
    "    \n",
    "else:\n",
    "    print(\"Two or more numbers are equal\")"
   ]
  },
  {
   "cell_type": "code",
   "execution_count": 102,
   "id": "comparable-endorsement",
   "metadata": {},
   "outputs": [
    {
     "name": "stdout",
     "output_type": "stream",
     "text": [
      "Enter the value of a: 100\n",
      "Enter the value of b: 200\n",
      "Enter the value of c: 300\n"
     ]
    },
    {
     "data": {
      "text/plain": [
       "'100200300'"
      ]
     },
     "execution_count": 102,
     "metadata": {},
     "output_type": "execute_result"
    }
   ],
   "source": [
    "a = input('Enter the value of a: ')\n",
    "b = input('Enter the value of b: ')\n",
    "c = input('Enter the value of c: ')\n",
    "\n",
    "addition = a + b + c\n",
    "addition"
   ]
  },
  {
   "cell_type": "code",
   "execution_count": 104,
   "id": "united-wagner",
   "metadata": {},
   "outputs": [
    {
     "data": {
      "text/plain": [
       "'pythonclass'"
      ]
     },
     "execution_count": 104,
     "metadata": {},
     "output_type": "execute_result"
    }
   ],
   "source": [
    "'python' + 'class'\n",
    "# 'pythonclass'"
   ]
  },
  {
   "cell_type": "code",
   "execution_count": 105,
   "id": "single-fitting",
   "metadata": {},
   "outputs": [
    {
     "data": {
      "text/plain": [
       "'100200300'"
      ]
     },
     "execution_count": 105,
     "metadata": {},
     "output_type": "execute_result"
    }
   ],
   "source": [
    "'100' + '200' + '300' # '100200300'"
   ]
  },
  {
   "cell_type": "code",
   "execution_count": 106,
   "id": "governing-indonesian",
   "metadata": {},
   "outputs": [
    {
     "data": {
      "text/plain": [
       "600"
      ]
     },
     "execution_count": 106,
     "metadata": {},
     "output_type": "execute_result"
    }
   ],
   "source": [
    "100 + 200 + 300"
   ]
  },
  {
   "cell_type": "code",
   "execution_count": 107,
   "id": "compressed-token",
   "metadata": {},
   "outputs": [
    {
     "name": "stdout",
     "output_type": "stream",
     "text": [
      "Enter the value of a: 3\n",
      "Enter the value of b: 4\n",
      "Enter the value of c: 5\n"
     ]
    },
    {
     "data": {
      "text/plain": [
       "12"
      ]
     },
     "execution_count": 107,
     "metadata": {},
     "output_type": "execute_result"
    }
   ],
   "source": [
    "a = int(input('Enter the value of a: '))\n",
    "b = int(input('Enter the value of b: '))\n",
    "c = int(input('Enter the value of c: '))\n",
    "\n",
    "add = a + b + c\n",
    "add"
   ]
  },
  {
   "cell_type": "markdown",
   "id": "phantom-luther",
   "metadata": {},
   "source": [
    "### Short Hand conditional statement"
   ]
  },
  {
   "cell_type": "code",
   "execution_count": 108,
   "id": "compressed-flooring",
   "metadata": {},
   "outputs": [
    {
     "name": "stdout",
     "output_type": "stream",
     "text": [
      "a is greater than or equal to b\n"
     ]
    }
   ],
   "source": [
    "a = 5\n",
    "b = 3\n",
    "if a >= b:\n",
    "    print(\"a is greater than or equal to b\")"
   ]
  },
  {
   "cell_type": "code",
   "execution_count": 110,
   "id": "conscious-mistake",
   "metadata": {},
   "outputs": [
    {
     "name": "stdout",
     "output_type": "stream",
     "text": [
      "a is greater than or equal to b\n"
     ]
    }
   ],
   "source": [
    "a = 5\n",
    "b = 3\n",
    "if a >= b: print(\"a is greater than or equal to b\")"
   ]
  },
  {
   "cell_type": "code",
   "execution_count": null,
   "id": "needed-province",
   "metadata": {},
   "outputs": [],
   "source": [
    "a = 5\n",
    "b = 3\n",
    "if a >= b: print(\"a is greater than or equal to b\")"
   ]
  },
  {
   "cell_type": "code",
   "execution_count": 113,
   "id": "median-constant",
   "metadata": {},
   "outputs": [
    {
     "name": "stdout",
     "output_type": "stream",
     "text": [
      "b is largest number\n"
     ]
    }
   ],
   "source": [
    "a = 10\n",
    "b = 200\n",
    "c = 20\n",
    "\n",
    "if a > b and a > c :  print(\"a is largest number\")\n",
    "elif b > a and b > c: print('b is largest number')     \n",
    "elif c > a and c > b: print(\"c is largest number\")\n",
    "else: print(\"Two or more numbers are equal\")"
   ]
  },
  {
   "cell_type": "markdown",
   "id": "piano-perfume",
   "metadata": {},
   "source": [
    "### Short hand if-else statement"
   ]
  },
  {
   "cell_type": "code",
   "execution_count": 115,
   "id": "corrected-scientist",
   "metadata": {},
   "outputs": [
    {
     "name": "stdout",
     "output_type": "stream",
     "text": [
      "b is greater than a\n"
     ]
    }
   ],
   "source": [
    "a = 10\n",
    "b = 20\n",
    "if a >= b:\n",
    "    print('a is greater than or equal to b')\n",
    "    \n",
    "else:\n",
    "    print('b is greater than a')"
   ]
  },
  {
   "cell_type": "code",
   "execution_count": 117,
   "id": "emerging-cloud",
   "metadata": {},
   "outputs": [
    {
     "name": "stdout",
     "output_type": "stream",
     "text": [
      "a is greater than or equal to b\n"
     ]
    }
   ],
   "source": [
    "a = 20\n",
    "b = 20\n",
    "if a >= b:\n",
    "    print('a is greater than or equal to b')\n",
    "    \n",
    "else:\n",
    "    print('b is greater than a')"
   ]
  },
  {
   "cell_type": "code",
   "execution_count": 119,
   "id": "overhead-tuesday",
   "metadata": {},
   "outputs": [
    {
     "name": "stdout",
     "output_type": "stream",
     "text": [
      "a is greater than or equal to b\n"
     ]
    }
   ],
   "source": [
    "a = 20\n",
    "b = 10\n",
    "if a >= b:\n",
    "    print('a is greater than or equal to b')\n",
    "    \n",
    "else:\n",
    "    print('b is greater than a')"
   ]
  },
  {
   "cell_type": "code",
   "execution_count": 123,
   "id": "coordinate-period",
   "metadata": {},
   "outputs": [
    {
     "name": "stdout",
     "output_type": "stream",
     "text": [
      "a is greater than or equal to b\n"
     ]
    }
   ],
   "source": [
    "a = 20\n",
    "b = 10\n",
    "\n",
    "print('a is greater than or equal to b') if a >= b else print('b is greater than a')"
   ]
  },
  {
   "cell_type": "code",
   "execution_count": 124,
   "id": "brave-homework",
   "metadata": {},
   "outputs": [
    {
     "name": "stdout",
     "output_type": "stream",
     "text": [
      "a is greater than or equal to b\n"
     ]
    }
   ],
   "source": [
    "a = 20\n",
    "b = 20\n",
    "if a > b or a == b: # False or True >> True\n",
    "    print('a is greater than or equal to b')\n",
    "    \n",
    "else:\n",
    "    print('b is greater than a')"
   ]
  },
  {
   "cell_type": "code",
   "execution_count": 126,
   "id": "fleet-channels",
   "metadata": {},
   "outputs": [
    {
     "name": "stdout",
     "output_type": "stream",
     "text": [
      "b is greater than a\n"
     ]
    }
   ],
   "source": [
    "a = 20\n",
    "b = 100\n",
    "\n",
    "print('a is greater than or equal to b') if a > b or a == b else print('b is greater than a')"
   ]
  },
  {
   "cell_type": "code",
   "execution_count": 127,
   "id": "instructional-currency",
   "metadata": {},
   "outputs": [
    {
     "name": "stdout",
     "output_type": "stream",
     "text": [
      "a is greater than or equal to b\n"
     ]
    }
   ],
   "source": [
    "a = 200\n",
    "b = 100\n",
    "\n",
    "print('a is greater than or equal to b') if a > b or a == b else print('b is greater than a')"
   ]
  },
  {
   "cell_type": "markdown",
   "id": "entire-cement",
   "metadata": {},
   "source": [
    "# pass statement"
   ]
  },
  {
   "cell_type": "code",
   "execution_count": null,
   "id": "surprised-release",
   "metadata": {},
   "outputs": [],
   "source": [
    "Pass statement is used to avoid an errors\n",
    "Used in empty block"
   ]
  },
  {
   "cell_type": "code",
   "execution_count": 129,
   "id": "moderate-reggae",
   "metadata": {},
   "outputs": [
    {
     "name": "stdout",
     "output_type": "stream",
     "text": [
      "String contains only spaces\n"
     ]
    }
   ],
   "source": [
    "string = '         '\n",
    "if string.isspace():\n",
    "    print(\"String contains only spaces\")\n"
   ]
  },
  {
   "cell_type": "code",
   "execution_count": 131,
   "id": "purple-baker",
   "metadata": {},
   "outputs": [],
   "source": [
    "string = '         '\n",
    "if string.isspace():\n",
    "    pass"
   ]
  },
  {
   "cell_type": "code",
   "execution_count": 135,
   "id": "armed-birthday",
   "metadata": {},
   "outputs": [
    {
     "ename": "SyntaxError",
     "evalue": "unexpected EOF while parsing (<ipython-input-135-2fe37857a217>, line 3)",
     "output_type": "error",
     "traceback": [
      "\u001b[1;36m  File \u001b[1;32m\"<ipython-input-135-2fe37857a217>\"\u001b[1;36m, line \u001b[1;32m3\u001b[0m\n\u001b[1;33m    #     print(\"String contains only spaces\")\u001b[0m\n\u001b[1;37m                                              ^\u001b[0m\n\u001b[1;31mSyntaxError\u001b[0m\u001b[1;31m:\u001b[0m unexpected EOF while parsing\n"
     ]
    }
   ],
   "source": [
    "string = '         '\n",
    "if string.isspace():\n",
    "#     print(\"String contains only spaces\")\n"
   ]
  },
  {
   "cell_type": "code",
   "execution_count": 136,
   "id": "cultural-polish",
   "metadata": {},
   "outputs": [],
   "source": [
    "string = '         '\n",
    "if string.isspace():\n",
    "#     print(\"String contains only spaces\")\n",
    "    pass\n"
   ]
  },
  {
   "cell_type": "code",
   "execution_count": 139,
   "id": "announced-setting",
   "metadata": {},
   "outputs": [],
   "source": [
    "for char in 'python':\n",
    "#     print(char)\n",
    "    pass"
   ]
  },
  {
   "cell_type": "code",
   "execution_count": 142,
   "id": "environmental-italic",
   "metadata": {},
   "outputs": [
    {
     "name": "stdout",
     "output_type": "stream",
     "text": [
      "b is largest number\n"
     ]
    }
   ],
   "source": [
    "a = 10\n",
    "b = 30\n",
    "c = 20\n",
    "\n",
    "if a > b and a > c :  # False\n",
    "    print(\"a is largest number\")\n",
    "    pass\n",
    "    \n",
    "elif b > a and b > c:  # False\n",
    "    print('b is largest number') \n",
    "    pass\n",
    "    \n",
    "elif c > a and c > b: # True\n",
    "    print(\"c is largest number\")\n",
    "    pass\n",
    "    \n",
    "else:\n",
    "    print(\"Two or more numbers are equal\")\n",
    "    pass"
   ]
  },
  {
   "cell_type": "code",
   "execution_count": 203,
   "id": "sexual-olive",
   "metadata": {},
   "outputs": [
    {
     "data": {
      "text/plain": [
       "True"
      ]
     },
     "execution_count": 203,
     "metadata": {},
     "output_type": "execute_result"
    }
   ],
   "source": [
    "a = 20\n",
    "b = 30\n",
    "not a == b"
   ]
  },
  {
   "cell_type": "code",
   "execution_count": 145,
   "id": "intense-casting",
   "metadata": {},
   "outputs": [
    {
     "name": "stdout",
     "output_type": "stream",
     "text": [
      "b is largest number\n"
     ]
    }
   ],
   "source": [
    "a = 10\n",
    "b = 30\n",
    "c = 20\n",
    "\n",
    "if a > b and a > c :  # False\n",
    "    print(\"a is largest number\")\n",
    "    pass\n",
    "    \n",
    "elif b > a and b > c:  # False\n",
    "    print('b is largest number') \n",
    "    pass\n",
    "\n",
    "elif c > a and c > b: # True\n",
    "    print(\"c is largest number\")\n",
    "    pass\n",
    "    \n",
    "else:\n",
    "    print(\"Two or more numbers are equal\")\n",
    "    pass"
   ]
  },
  {
   "cell_type": "markdown",
   "id": "incredible-balance",
   "metadata": {},
   "source": [
    "# Nested conditional Statements"
   ]
  },
  {
   "cell_type": "code",
   "execution_count": null,
   "id": "loved-covering",
   "metadata": {},
   "outputs": [],
   "source": [
    "if block inside if block"
   ]
  },
  {
   "cell_type": "code",
   "execution_count": 153,
   "id": "cross-gibraltar",
   "metadata": {},
   "outputs": [
    {
     "name": "stdout",
     "output_type": "stream",
     "text": [
      "a is greater than or equal to 50\n",
      "a is greater than or equal to 75\n"
     ]
    }
   ],
   "source": [
    "a = 100\n",
    "\n",
    "if a >= 50: # True\n",
    "    print(\"a is greater than or equal to 50\")\n",
    "    \n",
    "    if a >= 75: # True \n",
    "        print(\"a is greater than or equal to 75\")\n",
    "    else:\n",
    "        print(\"a is less than 75\")\n",
    "        \n",
    "else:\n",
    "    print(\"a is less than 50\")"
   ]
  },
  {
   "cell_type": "code",
   "execution_count": 156,
   "id": "periodic-recycling",
   "metadata": {},
   "outputs": [
    {
     "name": "stdout",
     "output_type": "stream",
     "text": [
      "a is greater than or equal to 50\n",
      "a is less than 75\n"
     ]
    }
   ],
   "source": [
    "a = 60\n",
    "\n",
    "if a >= 50: # True\n",
    "    print(\"a is greater than or equal to 50\")\n",
    "    \n",
    "    if a >= 75: # False \n",
    "        print(\"a is greater than or equal to 75\")\n",
    "    else:\n",
    "        print(\"a is less than 75\")\n",
    "        \n",
    "else:\n",
    "    print(\"a is less than 50\")"
   ]
  },
  {
   "cell_type": "code",
   "execution_count": 158,
   "id": "rental-desert",
   "metadata": {},
   "outputs": [
    {
     "name": "stdout",
     "output_type": "stream",
     "text": [
      "a is greater than or equal to 50\n",
      "a is greater than or equal to 75\n",
      "a is less than 90\n"
     ]
    }
   ],
   "source": [
    "a = 80\n",
    "\n",
    "if a >= 50: # True\n",
    "    print(\"a is greater than or equal to 50\")\n",
    "    \n",
    "    if a >= 75: # True \n",
    "        print(\"a is greater than or equal to 75\")\n",
    "        \n",
    "        if a >= 90: # False\n",
    "            print(\"a is greater than or equal to 90\")\n",
    "            \n",
    "        else:\n",
    "            print('a is less than 90')\n",
    "            \n",
    "    else:\n",
    "        print(\"a is less than 75\")\n",
    "        \n",
    "else:\n",
    "    print(\"a is less than 50\")\n",
    "    \n",
    "    \n",
    "\n",
    "# print(\"a is greater than or equal to 50\")\n",
    "# print(\"a is greater than or equal to 75\")\n",
    "# print('a is less than 90')"
   ]
  },
  {
   "cell_type": "code",
   "execution_count": 160,
   "id": "listed-manitoba",
   "metadata": {},
   "outputs": [
    {
     "name": "stdout",
     "output_type": "stream",
     "text": [
      "a is greater than or equal to 50\n",
      "a is greater than or equal to 75\n",
      "a is greater than or equal to 90\n"
     ]
    }
   ],
   "source": [
    "a = 95\n",
    "\n",
    "if a >= 50: # True\n",
    "    print(\"a is greater than or equal to 50\")\n",
    "    \n",
    "    if a >= 75: # True \n",
    "        print(\"a is greater than or equal to 75\")\n",
    "        \n",
    "        if a >= 90: # True\n",
    "            print(\"a is greater than or equal to 90\")\n",
    "            \n",
    "        else:\n",
    "            print('a is less than 90')\n",
    "            \n",
    "    else:\n",
    "        print(\"a is less than 75\")\n",
    "        \n",
    "else:\n",
    "    print(\"a is less than 50\")\n",
    "    \n",
    "    \n",
    "\n",
    "# print(\"a is greater than or equal to 50\")\n",
    "# print(\"a is greater than or equal to 75\")\n",
    "# print('a is less than 90')"
   ]
  },
  {
   "cell_type": "code",
   "execution_count": 162,
   "id": "humanitarian-alfred",
   "metadata": {},
   "outputs": [
    {
     "name": "stdout",
     "output_type": "stream",
     "text": [
      "a is less than 50\n"
     ]
    }
   ],
   "source": [
    "a = 45\n",
    "\n",
    "if a >= 50: # False\n",
    "    print(\"a is greater than or equal to 50\")\n",
    "    \n",
    "    if a >= 75: # True \n",
    "        print(\"a is greater than or equal to 75\")\n",
    "        \n",
    "        if a >= 90: # True\n",
    "            print(\"a is greater than or equal to 90\")\n",
    "            \n",
    "        else:\n",
    "            print('a is less than 90')\n",
    "            \n",
    "    else:\n",
    "        print(\"a is less than 75\")\n",
    "        \n",
    "else:\n",
    "    print(\"a is less than 50\")\n",
    "    \n",
    "    "
   ]
  },
  {
   "cell_type": "code",
   "execution_count": null,
   "id": "combined-kelly",
   "metadata": {},
   "outputs": [],
   "source": [
    "age = 30\n",
    "cibil_score = 790\n",
    "salary = 60000\n",
    "loan approve or decline?"
   ]
  },
  {
   "cell_type": "code",
   "execution_count": 168,
   "id": "minor-companion",
   "metadata": {},
   "outputs": [
    {
     "name": "stdout",
     "output_type": "stream",
     "text": [
      "Cibil score is greater than 750\n",
      "Age is greater than 25\n",
      "Salary is greater than 30000\n",
      "Loan is Aprroved\n"
     ]
    }
   ],
   "source": [
    "age = 30\n",
    "cibil_score = 790\n",
    "salary = 60000\n",
    "\n",
    "if cibil_score >= 750:\n",
    "    print(\"Cibil score is greater than 750\")\n",
    "    \n",
    "    if age >= 25:\n",
    "        print(\"Age is greater than 25\")\n",
    "        \n",
    "        if salary >= 30000:\n",
    "            print(\"Salary is greater than 30000\")\n",
    "            print(\"Loan is Aprroved\")\n",
    "            \n",
    "        else:\n",
    "            print(\"Loan is declined due to salary criteria\")\n",
    "            \n",
    "    else:\n",
    "        print(\"Loan declined due to age criteria\")    \n",
    "    \n",
    "else:\n",
    "    print(\"Loan declined due to cibil score criteria\")"
   ]
  },
  {
   "cell_type": "code",
   "execution_count": 170,
   "id": "hourly-december",
   "metadata": {},
   "outputs": [
    {
     "name": "stdout",
     "output_type": "stream",
     "text": [
      "Cibil score is greater than 750\n",
      "Loan declined due to age criteria\n"
     ]
    }
   ],
   "source": [
    "age = 23\n",
    "cibil_score = 790\n",
    "salary = 60000\n",
    "\n",
    "if cibil_score >= 750:\n",
    "    print(\"Cibil score is greater than 750\")\n",
    "    \n",
    "    if age >= 25:\n",
    "        print(\"Age is greater than 25\")\n",
    "        \n",
    "        if salary >= 30000:\n",
    "            print(\"Salary is greater than 30000\")\n",
    "            print(\"Loan is Aprroved\")\n",
    "            \n",
    "        else:\n",
    "            print(\"Loan is declined due to salary criteria\")\n",
    "            \n",
    "    else:\n",
    "        print(\"Loan declined due to age criteria\")    \n",
    "    \n",
    "else:\n",
    "    print(\"Loan declined due to cibil score criteria\")"
   ]
  },
  {
   "cell_type": "code",
   "execution_count": 172,
   "id": "spread-nudist",
   "metadata": {},
   "outputs": [
    {
     "name": "stdout",
     "output_type": "stream",
     "text": [
      "Cibil score is greater than 750\n",
      "Age is greater than 25\n",
      "Loan is declined due to salary criteria\n"
     ]
    }
   ],
   "source": [
    "age = 34\n",
    "cibil_score = 790\n",
    "salary = 10000\n",
    "\n",
    "if cibil_score >= 750:\n",
    "    print(\"Cibil score is greater than 750\")\n",
    "    \n",
    "    if age >= 25:\n",
    "        print(\"Age is greater than 25\")\n",
    "        \n",
    "        if salary >= 30000:\n",
    "            print(\"Salary is greater than 30000\")\n",
    "            print(\"Loan is Aprroved\")\n",
    "            \n",
    "        else:\n",
    "            print(\"Loan is declined due to salary criteria\")\n",
    "            \n",
    "    else:\n",
    "        print(\"Loan declined due to age criteria\")    \n",
    "    \n",
    "else:\n",
    "    print(\"Loan declined due to cibil score criteria\")"
   ]
  },
  {
   "cell_type": "code",
   "execution_count": 215,
   "id": "substantial-willow",
   "metadata": {},
   "outputs": [
    {
     "name": "stdout",
     "output_type": "stream",
     "text": [
      "Loan declined due to cibil score criteria\n"
     ]
    }
   ],
   "source": [
    "age = 34\n",
    "cibil_score = 730\n",
    "salary = 80000\n",
    "\n",
    "if cibil_score >= 750: # False\n",
    "    print(\"Cibil score is greater than 750\")\n",
    "    \n",
    "    if age >= 25:\n",
    "        print(\"Age is greater than 25\")\n",
    "        \n",
    "        if salary >= 30000:\n",
    "            print(\"Salary is greater than 30000\")\n",
    "            print(\"Loan is Aprroved\")\n",
    "            \n",
    "        else:\n",
    "            print(\"Loan is declined due to salary criteria\")\n",
    "            \n",
    "    else:\n",
    "        print(\"Loan declined due to age criteria\")    \n",
    "    \n",
    "else:\n",
    "    print(\"Loan declined due to cibil score criteria\")\n",
    "    "
   ]
  },
  {
   "cell_type": "code",
   "execution_count": 176,
   "id": "republican-logic",
   "metadata": {},
   "outputs": [],
   "source": [
    "a = 10\n",
    "b = 30"
   ]
  },
  {
   "cell_type": "code",
   "execution_count": 181,
   "id": "natural-franklin",
   "metadata": {},
   "outputs": [
    {
     "name": "stdout",
     "output_type": "stream",
     "text": [
      "a == 10\n",
      "b == 100\n",
      "c == 2.34\n"
     ]
    }
   ],
   "source": [
    "a = 10 ; b = 100 ; c = 2.34\n",
    "print('a ==',a)\n",
    "print('b ==',b)\n",
    "print('c ==',c)"
   ]
  },
  {
   "cell_type": "code",
   "execution_count": 183,
   "id": "educational-found",
   "metadata": {},
   "outputs": [
    {
     "name": "stdout",
     "output_type": "stream",
     "text": [
      "a == 10\n",
      "b == 3.14\n",
      "c == python\n"
     ]
    }
   ],
   "source": [
    "a = 10 ; b = 3.14 ; c = 'python'\n",
    "print('a ==',a)\n",
    "print('b ==',b)\n",
    "print('c ==',c)"
   ]
  },
  {
   "cell_type": "code",
   "execution_count": 185,
   "id": "wrong-portfolio",
   "metadata": {},
   "outputs": [
    {
     "name": "stdout",
     "output_type": "stream",
     "text": [
      "a == 10\n",
      "b == 3.14\n",
      "c == python\n"
     ]
    }
   ],
   "source": [
    "a = 10 ; \n",
    "b = 3.14 ;\n",
    "c = 'python' ;\n",
    "\n",
    "print('a ==',a)\n",
    "print('b ==',b)\n",
    "print('c ==',c)"
   ]
  },
  {
   "cell_type": "code",
   "execution_count": 191,
   "id": "basic-container",
   "metadata": {},
   "outputs": [
    {
     "name": "stdout",
     "output_type": "stream",
     "text": [
      "a == 10\n",
      "b == 3.14\n",
      "c == python\n"
     ]
    }
   ],
   "source": [
    "a = 10 \n",
    "b = 3.14\n",
    "c = 'python'\n",
    "\n",
    "print('a ==',a)\n",
    "print('b ==',b)\n",
    "print('c ==',c)"
   ]
  },
  {
   "cell_type": "code",
   "execution_count": 193,
   "id": "adjusted-chuck",
   "metadata": {},
   "outputs": [
    {
     "name": "stdout",
     "output_type": "stream",
     "text": [
      "a == 10\n",
      "b == 3.14\n",
      "c == python\n"
     ]
    }
   ],
   "source": [
    "a = 10 \n",
    "b = 3.14\n",
    "c = 'python'\n",
    "\n",
    "print('a ==',a)\n",
    "print('b ==',b)\n",
    "print('c ==',c)"
   ]
  },
  {
   "cell_type": "markdown",
   "id": "familiar-policy",
   "metadata": {},
   "source": [
    "### Multiple values to multiple variables"
   ]
  },
  {
   "cell_type": "code",
   "execution_count": 189,
   "id": "powerful-mining",
   "metadata": {},
   "outputs": [
    {
     "name": "stdout",
     "output_type": "stream",
     "text": [
      "a == 10\n",
      "b == 20\n",
      "c == 30\n"
     ]
    }
   ],
   "source": [
    "a,b,c = 10,20,30\n",
    "\n",
    "print('a ==',a)\n",
    "print('b ==',b)\n",
    "print('c ==',c)"
   ]
  },
  {
   "cell_type": "code",
   "execution_count": 195,
   "id": "proprietary-blame",
   "metadata": {},
   "outputs": [
    {
     "name": "stdout",
     "output_type": "stream",
     "text": [
      "a == 10\n",
      "b == 20\n"
     ]
    }
   ],
   "source": [
    "a,b = 10,20\n",
    "\n",
    "print('a ==',a)\n",
    "print('b ==',b)\n"
   ]
  },
  {
   "cell_type": "code",
   "execution_count": 196,
   "id": "related-latino",
   "metadata": {},
   "outputs": [
    {
     "data": {
      "text/plain": [
       "(10, 20, 30, 40)"
      ]
     },
     "execution_count": 196,
     "metadata": {},
     "output_type": "execute_result"
    }
   ],
   "source": [
    "a = 10,20,30,40\n",
    "a"
   ]
  },
  {
   "cell_type": "code",
   "execution_count": 198,
   "id": "stopped-parent",
   "metadata": {},
   "outputs": [],
   "source": [
    "a,b = 30,50"
   ]
  },
  {
   "cell_type": "code",
   "execution_count": null,
   "id": "saved-statement",
   "metadata": {},
   "outputs": [],
   "source": []
  },
  {
   "cell_type": "code",
   "execution_count": 214,
   "id": "satisfied-accessory",
   "metadata": {},
   "outputs": [
    {
     "name": "stdout",
     "output_type": "stream",
     "text": [
      "234567812345\n"
     ]
    },
    {
     "data": {
      "text/plain": [
       "'12345'"
      ]
     },
     "execution_count": 214,
     "metadata": {},
     "output_type": "execute_result"
    }
   ],
   "source": [
    "input(2345678)"
   ]
  },
  {
   "cell_type": "code",
   "execution_count": null,
   "id": "numerous-diana",
   "metadata": {},
   "outputs": [],
   "source": [
    "prime(11)"
   ]
  },
  {
   "cell_type": "code",
   "execution_count": 213,
   "id": "optical-helena",
   "metadata": {},
   "outputs": [
    {
     "data": {
      "text/plain": [
       "41"
      ]
     },
     "execution_count": 213,
     "metadata": {},
     "output_type": "execute_result"
    }
   ],
   "source": [
    "max([2,3,41])"
   ]
  },
  {
   "cell_type": "code",
   "execution_count": 217,
   "id": "cloudy-nightlife",
   "metadata": {},
   "outputs": [
    {
     "name": "stdout",
     "output_type": "stream",
     "text": [
      "a is greater than or equal to b\n",
      "a is equal to b\n"
     ]
    }
   ],
   "source": [
    "a = 10\n",
    "b = 10\n",
    "\n",
    "if a >= b: # True\n",
    "    print('a is greater than or equal to b')\n",
    "    \n",
    "if a == b: # True\n",
    "    print(\"a is equal to b\")\n",
    "    \n",
    "else:\n",
    "    print('a is less than b')"
   ]
  },
  {
   "cell_type": "code",
   "execution_count": 218,
   "id": "innovative-office",
   "metadata": {},
   "outputs": [
    {
     "name": "stdout",
     "output_type": "stream",
     "text": [
      "a is greater than or equal to b\n"
     ]
    }
   ],
   "source": [
    "a = 10\n",
    "b = 10\n",
    "\n",
    "if a >= b: # True\n",
    "    print('a is greater than or equal to b')\n",
    "    \n",
    "if a == b: # True\n",
    "    print(\"a is equal to b\")\n",
    "    \n",
    "else:\n",
    "    print('a is less than b')"
   ]
  }
 ],
 "metadata": {
  "kernelspec": {
   "display_name": "Python 3 (ipykernel)",
   "language": "python",
   "name": "python3"
  },
  "language_info": {
   "codemirror_mode": {
    "name": "ipython",
    "version": 3
   },
   "file_extension": ".py",
   "mimetype": "text/x-python",
   "name": "python",
   "nbconvert_exporter": "python",
   "pygments_lexer": "ipython3",
   "version": "3.9.12"
  }
 },
 "nbformat": 4,
 "nbformat_minor": 5
}
