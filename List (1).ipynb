{
 "cells": [
  {
   "cell_type": "markdown",
   "id": "promising-incentive",
   "metadata": {},
   "source": [
    "# List"
   ]
  },
  {
   "cell_type": "code",
   "execution_count": null,
   "id": "removable-scene",
   "metadata": {},
   "outputs": [],
   "source": [
    "1. Mutable\n",
    "2. Duplicates are allowed\n",
    "3. Ordered Datatype\n",
    "4. enclosed by []\n",
    "5. Comma seperated\n"
   ]
  },
  {
   "cell_type": "markdown",
   "id": "under-opposition",
   "metadata": {},
   "source": [
    "## List Functions"
   ]
  },
  {
   "cell_type": "code",
   "execution_count": null,
   "id": "certain-prison",
   "metadata": {},
   "outputs": [],
   "source": [
    "List Functions:\n",
    "    1. append()\n",
    "    2. extend()\n",
    "    3. insert()\n",
    "    4. remove()\n",
    "    5. pop()\n",
    "    6. clear()\n",
    "    7. index()\n",
    "    8. count()\n",
    "    9. copy()\n",
    "    10. sort()\n",
    "    11. reverse()\n",
    "\n",
    "Built in Functions:\n",
    "    1. sorted()\n",
    "    2. reversed()\n",
    "    3. max()\n",
    "    4. min()\n",
    "    5. sum()"
   ]
  },
  {
   "cell_type": "code",
   "execution_count": 3,
   "id": "scenic-independence",
   "metadata": {},
   "outputs": [
    {
     "data": {
      "text/plain": [
       "7"
      ]
     },
     "execution_count": 3,
     "metadata": {},
     "output_type": "execute_result"
    }
   ],
   "source": [
    "list1 = [4,5,6,7,8]\n",
    "list1[3]"
   ]
  },
  {
   "cell_type": "code",
   "execution_count": 5,
   "id": "standing-enough",
   "metadata": {},
   "outputs": [
    {
     "data": {
      "text/plain": [
       "7"
      ]
     },
     "execution_count": 5,
     "metadata": {},
     "output_type": "execute_result"
    }
   ],
   "source": [
    "list1 = [4,5,6,7,8]\n",
    "list1[-2]"
   ]
  },
  {
   "cell_type": "code",
   "execution_count": 7,
   "id": "passive-prison",
   "metadata": {},
   "outputs": [
    {
     "data": {
      "text/plain": [
       "[5, 6, 7]"
      ]
     },
     "execution_count": 7,
     "metadata": {},
     "output_type": "execute_result"
    }
   ],
   "source": [
    "list1 = [4,5,6,7,8]\n",
    "list1[1:4] # 1,2,3"
   ]
  },
  {
   "cell_type": "code",
   "execution_count": 9,
   "id": "decent-audit",
   "metadata": {},
   "outputs": [
    {
     "data": {
      "text/plain": [
       "[5, 6, 7]"
      ]
     },
     "execution_count": 9,
     "metadata": {},
     "output_type": "execute_result"
    }
   ],
   "source": [
    "list1 = [4,5,6,7,8]\n",
    "list1[-4:-1] # -4,-3,-2"
   ]
  },
  {
   "cell_type": "code",
   "execution_count": 11,
   "id": "plastic-florist",
   "metadata": {},
   "outputs": [
    {
     "name": "stdout",
     "output_type": "stream",
     "text": [
      "Number : 4\n",
      "Number : 5\n",
      "Number : 6\n",
      "Number : 7\n",
      "Number : 8\n"
     ]
    }
   ],
   "source": [
    "list1 = [4,5,6,7,8]\n",
    "for num in list1:\n",
    "    print(\"Number :\",num)\n"
   ]
  },
  {
   "cell_type": "code",
   "execution_count": 13,
   "id": "electric-strand",
   "metadata": {},
   "outputs": [
    {
     "name": "stdout",
     "output_type": "stream",
     "text": [
      "0\n",
      "1\n",
      "2\n",
      "3\n",
      "4\n"
     ]
    }
   ],
   "source": [
    "list1 = [4,5,6,7,8]\n",
    "for index,num in enumerate(list1):\n",
    "    print(index)\n"
   ]
  },
  {
   "cell_type": "code",
   "execution_count": 15,
   "id": "corresponding-conversion",
   "metadata": {},
   "outputs": [
    {
     "name": "stdout",
     "output_type": "stream",
     "text": [
      "4\n",
      "5\n",
      "6\n",
      "7\n",
      "8\n"
     ]
    }
   ],
   "source": [
    "list1 = [4,5,6,7,8]\n",
    "for index,num in enumerate(list1):\n",
    "    print(num)\n"
   ]
  },
  {
   "cell_type": "code",
   "execution_count": 17,
   "id": "under-hostel",
   "metadata": {},
   "outputs": [
    {
     "name": "stdout",
     "output_type": "stream",
     "text": [
      "0 4\n",
      "1 5\n",
      "2 6\n",
      "3 7\n",
      "4 8\n"
     ]
    }
   ],
   "source": [
    "list1 = [4,5,6,7,8]\n",
    "for index,num in enumerate(list1):\n",
    "    print(index,num)\n"
   ]
  },
  {
   "cell_type": "code",
   "execution_count": 18,
   "id": "prescription-hammer",
   "metadata": {},
   "outputs": [
    {
     "name": "stdout",
     "output_type": "stream",
     "text": [
      "value at index 0 is 4\n",
      "value at index 1 is 5\n",
      "value at index 2 is 6\n",
      "value at index 3 is 7\n",
      "value at index 4 is 8\n"
     ]
    }
   ],
   "source": [
    "list1 = [4,5,6,7,8]\n",
    "for index,num in enumerate(list1):\n",
    "    print(f\"value at index {index} is {num}\")"
   ]
  },
  {
   "cell_type": "markdown",
   "id": "flexible-provision",
   "metadata": {},
   "source": [
    "# List Functions"
   ]
  },
  {
   "cell_type": "markdown",
   "id": "basic-istanbul",
   "metadata": {},
   "source": [
    "## Add item in lists"
   ]
  },
  {
   "cell_type": "code",
   "execution_count": null,
   "id": "historic-particular",
   "metadata": {},
   "outputs": [],
   "source": [
    "1. append()\n",
    "2. extend()\n",
    "3. insert()"
   ]
  },
  {
   "cell_type": "markdown",
   "id": "thermal-crime",
   "metadata": {},
   "source": [
    "### 1. append()"
   ]
  },
  {
   "cell_type": "code",
   "execution_count": null,
   "id": "unlikely-toyota",
   "metadata": {},
   "outputs": [],
   "source": []
  },
  {
   "cell_type": "code",
   "execution_count": null,
   "id": "exclusive-clearance",
   "metadata": {},
   "outputs": [],
   "source": [
    "list.append(value)\n",
    "list will get update iteself"
   ]
  },
  {
   "cell_type": "code",
   "execution_count": null,
   "id": "sensitive-division",
   "metadata": {},
   "outputs": [],
   "source": [
    "It is used to add the items at last index"
   ]
  },
  {
   "cell_type": "code",
   "execution_count": 29,
   "id": "desirable-finish",
   "metadata": {},
   "outputs": [],
   "source": [
    "list1 = [4,5,6,7,8]\n",
    "list1 = [4,5,6,7,8,100]\n",
    "list1 = [4,5,6,7,8,100,200]"
   ]
  },
  {
   "cell_type": "code",
   "execution_count": 32,
   "id": "likely-minimum",
   "metadata": {},
   "outputs": [
    {
     "data": {
      "text/plain": [
       "[5, 6, 7, 8, 9, 100]"
      ]
     },
     "execution_count": 32,
     "metadata": {},
     "output_type": "execute_result"
    }
   ],
   "source": [
    "list1 = [5,6,7,8,9]\n",
    "list1.append(100)\n",
    "list1"
   ]
  },
  {
   "cell_type": "code",
   "execution_count": 27,
   "id": "express-canada",
   "metadata": {},
   "outputs": [
    {
     "name": "stdout",
     "output_type": "stream",
     "text": [
      "None\n"
     ]
    }
   ],
   "source": [
    "list1 = [5,6,7,8,9]\n",
    "x = list1.append(100)\n",
    "print(x)"
   ]
  },
  {
   "cell_type": "code",
   "execution_count": 28,
   "id": "administrative-limit",
   "metadata": {},
   "outputs": [
    {
     "data": {
      "text/plain": [
       "'PYTHON'"
      ]
     },
     "execution_count": 28,
     "metadata": {},
     "output_type": "execute_result"
    }
   ],
   "source": [
    "string = 'python'\n",
    "s1 = string.upper()\n",
    "s1"
   ]
  },
  {
   "cell_type": "code",
   "execution_count": 34,
   "id": "armed-newsletter",
   "metadata": {},
   "outputs": [
    {
     "data": {
      "text/plain": [
       "[5, 6, 7, 8, 9, 'Python']"
      ]
     },
     "execution_count": 34,
     "metadata": {},
     "output_type": "execute_result"
    }
   ],
   "source": [
    "list1 = [5,6,7,8,9]\n",
    "list1.append('Python')\n",
    "list1"
   ]
  },
  {
   "cell_type": "code",
   "execution_count": 36,
   "id": "lonely-cornwall",
   "metadata": {},
   "outputs": [
    {
     "data": {
      "text/plain": [
       "['Pune', 'Mumbai', 'Delhi', 'Chennai']"
      ]
     },
     "execution_count": 36,
     "metadata": {},
     "output_type": "execute_result"
    }
   ],
   "source": [
    "city_names = ['Pune','Mumbai','Delhi','Chennai']\n",
    "city_names"
   ]
  },
  {
   "cell_type": "code",
   "execution_count": 38,
   "id": "thousand-instruction",
   "metadata": {},
   "outputs": [
    {
     "data": {
      "text/plain": [
       "['Pune', 'Mumbai', 'Delhi', 'Chennai', 'Bangalore']"
      ]
     },
     "execution_count": 38,
     "metadata": {},
     "output_type": "execute_result"
    }
   ],
   "source": [
    "city_names = ['Pune','Mumbai','Delhi','Chennai']\n",
    "city_names.append(\"Bangalore\")\n",
    "city_names"
   ]
  },
  {
   "cell_type": "code",
   "execution_count": 41,
   "id": "curious-convertible",
   "metadata": {},
   "outputs": [
    {
     "data": {
      "text/plain": [
       "['Phy', 'Che', 'Math', 'Eng', 'Bio']"
      ]
     },
     "execution_count": 41,
     "metadata": {},
     "output_type": "execute_result"
    }
   ],
   "source": [
    "sub_names = [\"Phy\",\"Che\",\"Math\"]\n",
    "sub_names.append('Eng') # ['Phy', 'Che', 'Math', 'Eng']\n",
    "sub_names.append(\"Bio\") # ['Phy', 'Che', 'Math', 'Eng','Bio']\n",
    "sub_names"
   ]
  },
  {
   "cell_type": "code",
   "execution_count": 47,
   "id": "stupid-north",
   "metadata": {},
   "outputs": [
    {
     "data": {
      "text/plain": [
       "[4, 25, 49, 16, 81]"
      ]
     },
     "execution_count": 47,
     "metadata": {},
     "output_type": "execute_result"
    }
   ],
   "source": [
    "list1 = [2,5,7,4,9]\n",
    "# squares = [4,25,49,16,81]\n",
    "\n",
    "squares = []\n",
    "squares.append(4)\n",
    "squares.append(25)\n",
    "squares.append(49)\n",
    "squares.append(16)\n",
    "squares.append(81)\n",
    "\n",
    "squares"
   ]
  },
  {
   "cell_type": "code",
   "execution_count": 49,
   "id": "adequate-antique",
   "metadata": {},
   "outputs": [
    {
     "name": "stdout",
     "output_type": "stream",
     "text": [
      "2\n",
      "5\n",
      "7\n",
      "4\n",
      "9\n"
     ]
    }
   ],
   "source": [
    "list1 = [2,5,7,4,9]\n",
    "# squares = [4,25,49,16,81]\n",
    "\n",
    "squares = []\n",
    "\n",
    "for i in list1:\n",
    "    print(i)"
   ]
  },
  {
   "cell_type": "code",
   "execution_count": 56,
   "id": "manufactured-asthma",
   "metadata": {},
   "outputs": [
    {
     "name": "stdout",
     "output_type": "stream",
     "text": [
      "4\n",
      "25\n",
      "49\n",
      "16\n",
      "81\n"
     ]
    },
    {
     "data": {
      "text/plain": [
       "[4, 25, 49, 16, 81]"
      ]
     },
     "execution_count": 56,
     "metadata": {},
     "output_type": "execute_result"
    }
   ],
   "source": [
    "list1 = [2,5,7,4,9]\n",
    "# squares = [4,25,49,16,81]\n",
    "\n",
    "squares = []\n",
    "\n",
    "for i in list1:\n",
    "    print(i**2)\n",
    "    squares.append(i**2) \n",
    "    \n",
    "squares"
   ]
  },
  {
   "cell_type": "code",
   "execution_count": 61,
   "id": "looking-induction",
   "metadata": {},
   "outputs": [
    {
     "name": "stdout",
     "output_type": "stream",
     "text": [
      "[4]\n",
      "[4, 25]\n",
      "[4, 25, 49]\n",
      "[4, 25, 49, 16]\n",
      "[4, 25, 49, 16, 81]\n"
     ]
    }
   ],
   "source": [
    "list1 = [2,5,7,4,9]\n",
    "squares = []\n",
    "for i in list1:\n",
    "    squares.append(i**2) \n",
    "    print(squares)"
   ]
  },
  {
   "cell_type": "code",
   "execution_count": 64,
   "id": "modular-cherry",
   "metadata": {},
   "outputs": [
    {
     "data": {
      "text/plain": [
       "[2, 5, 7, 4, 9, [10, 20, 30, 40, 50, 60]]"
      ]
     },
     "execution_count": 64,
     "metadata": {},
     "output_type": "execute_result"
    }
   ],
   "source": [
    "list1 = [2,5,7,4,9]\n",
    "list2 = [10,20,30,40,50,60]\n",
    "list1.append(list2)\n",
    "list1"
   ]
  },
  {
   "cell_type": "code",
   "execution_count": 66,
   "id": "narrow-senegal",
   "metadata": {},
   "outputs": [
    {
     "data": {
      "text/plain": [
       "[2, 5, 7, 4, 9, {10, 20, 30, 40, 50, 60}]"
      ]
     },
     "execution_count": 66,
     "metadata": {},
     "output_type": "execute_result"
    }
   ],
   "source": [
    "list1 = [2,5,7,4,9]\n",
    "list2 = {10,20,30,40,50,60}\n",
    "list1.append(list2)\n",
    "list1"
   ]
  },
  {
   "cell_type": "markdown",
   "id": "weighted-racing",
   "metadata": {},
   "source": [
    "### 2. extend()"
   ]
  },
  {
   "cell_type": "code",
   "execution_count": null,
   "id": "precise-mailman",
   "metadata": {},
   "outputs": [],
   "source": [
    "list1.extend(list2)"
   ]
  },
  {
   "cell_type": "code",
   "execution_count": 68,
   "id": "convenient-faculty",
   "metadata": {},
   "outputs": [
    {
     "data": {
      "text/plain": [
       "[2, 5, 7, 4, 9, 10, 20, 30, 40, 50, 60]"
      ]
     },
     "execution_count": 68,
     "metadata": {},
     "output_type": "execute_result"
    }
   ],
   "source": [
    "list1 = [2,5,7,4,9]\n",
    "list2 = [10,20,30,40,50,60]\n",
    "list1.extend(list2)\n",
    "list1"
   ]
  },
  {
   "cell_type": "code",
   "execution_count": 70,
   "id": "virtual-surgery",
   "metadata": {},
   "outputs": [
    {
     "name": "stdout",
     "output_type": "stream",
     "text": [
      "list1 : [2, 5, 7, 4, 9, 10, 20, 30, 40, 50, 60]\n",
      "list2 : [10, 20, 30, 40, 50, 60]\n"
     ]
    }
   ],
   "source": [
    "list1 = [2,5,7,4,9]\n",
    "list2 = [10,20,30,40,50,60]\n",
    "list1.extend(list2)\n",
    "\n",
    "print(\"list1 :\",list1)\n",
    "print(\"list2 :\",list2)"
   ]
  },
  {
   "cell_type": "code",
   "execution_count": 72,
   "id": "existing-natural",
   "metadata": {},
   "outputs": [
    {
     "name": "stdout",
     "output_type": "stream",
     "text": [
      "list1 : [2, 5, 7, 4, 9]\n",
      "list2 : [10, 20, 30, 40, 50, 60, 2, 5, 7, 4, 9]\n"
     ]
    }
   ],
   "source": [
    "list1 = [2,5,7,4,9]\n",
    "list2 = [10,20,30,40,50,60]\n",
    "\n",
    "list2.extend(list1)\n",
    "\n",
    "print(\"list1 :\",list1)\n",
    "print(\"list2 :\",list2)"
   ]
  },
  {
   "cell_type": "code",
   "execution_count": 74,
   "id": "integrated-empty",
   "metadata": {},
   "outputs": [
    {
     "name": "stdout",
     "output_type": "stream",
     "text": [
      "list1 : [2, 5, 7, 4, 9, 10, 20, 30, 40, 50, 60]\n",
      "tuple1 : (10, 20, 30, 40, 50, 60)\n"
     ]
    }
   ],
   "source": [
    "list1 = [2,5,7,4,9]\n",
    "tuple1 = (10,20,30,40,50,60)\n",
    "\n",
    "list1.extend(tuple1)\n",
    "\n",
    "print(\"list1 :\",list1)\n",
    "print(\"tuple1 :\",tuple1)"
   ]
  },
  {
   "cell_type": "code",
   "execution_count": 76,
   "id": "inclusive-calgary",
   "metadata": {},
   "outputs": [
    {
     "ename": "AttributeError",
     "evalue": "'list' object has no attribute 'upper'",
     "output_type": "error",
     "traceback": [
      "\u001b[1;31m---------------------------------------------------------------------------\u001b[0m",
      "\u001b[1;31mAttributeError\u001b[0m                            Traceback (most recent call last)",
      "\u001b[1;32m<ipython-input-76-fdf586f082a3>\u001b[0m in \u001b[0;36m<module>\u001b[1;34m\u001b[0m\n\u001b[0;32m      1\u001b[0m \u001b[0mlist1\u001b[0m \u001b[1;33m=\u001b[0m \u001b[1;33m[\u001b[0m\u001b[1;34m'python'\u001b[0m\u001b[1;33m]\u001b[0m\u001b[1;33m\u001b[0m\u001b[1;33m\u001b[0m\u001b[0m\n\u001b[1;32m----> 2\u001b[1;33m \u001b[0mlist1\u001b[0m\u001b[1;33m.\u001b[0m\u001b[0mupper\u001b[0m\u001b[1;33m(\u001b[0m\u001b[1;33m)\u001b[0m\u001b[1;33m\u001b[0m\u001b[1;33m\u001b[0m\u001b[0m\n\u001b[0m",
      "\u001b[1;31mAttributeError\u001b[0m: 'list' object has no attribute 'upper'"
     ]
    }
   ],
   "source": [
    "list1 = ['python']\n",
    "list1.upper()"
   ]
  },
  {
   "cell_type": "code",
   "execution_count": 79,
   "id": "aware-money",
   "metadata": {},
   "outputs": [
    {
     "data": {
      "text/plain": [
       "[2, 5, 7, 4, 9, [10, 20, 30, 40, 50, 60]]"
      ]
     },
     "execution_count": 79,
     "metadata": {},
     "output_type": "execute_result"
    }
   ],
   "source": [
    "list1 = [2,5,7,4,9]\n",
    "list2 = [10,20,30,40,50,60]\n",
    "list1.append(list2)\n",
    "list1"
   ]
  },
  {
   "cell_type": "code",
   "execution_count": 84,
   "id": "adverse-tracker",
   "metadata": {},
   "outputs": [
    {
     "name": "stdout",
     "output_type": "stream",
     "text": [
      "[2, 5, 7, 4, 9, 10]\n",
      "[2, 5, 7, 4, 9, 10, 20]\n",
      "[2, 5, 7, 4, 9, 10, 20, 30]\n",
      "[2, 5, 7, 4, 9, 10, 20, 30, 40]\n",
      "[2, 5, 7, 4, 9, 10, 20, 30, 40, 50]\n",
      "[2, 5, 7, 4, 9, 10, 20, 30, 40, 50, 60]\n"
     ]
    }
   ],
   "source": [
    "list1 = [2,5,7,4,9]\n",
    "list2 = [10,20,30,40,50,60]\n",
    "\n",
    "for i in list2: # i = 20\n",
    "    list1.append(i) # [2,5,7,4,9,10,20]\n",
    "    print(list1)"
   ]
  },
  {
   "cell_type": "code",
   "execution_count": 86,
   "id": "blank-photograph",
   "metadata": {},
   "outputs": [
    {
     "name": "stdout",
     "output_type": "stream",
     "text": [
      "[2, 5, 7, 4, 9, 10, 20, 30, 40, 50, 60]\n"
     ]
    }
   ],
   "source": [
    "list1 = [2,5,7,4,9]\n",
    "list2 = [10,20,30,40,50,60]\n",
    "\n",
    "for i in list2: # i = 20\n",
    "    list1.append(i) # [2,5,7,4,9,10,20]\n",
    "print(list1)"
   ]
  },
  {
   "cell_type": "markdown",
   "id": "positive-paragraph",
   "metadata": {},
   "source": [
    "### 3. insert()"
   ]
  },
  {
   "cell_type": "code",
   "execution_count": null,
   "id": "external-senator",
   "metadata": {},
   "outputs": [],
   "source": [
    "list1.insert(index,value)"
   ]
  },
  {
   "cell_type": "code",
   "execution_count": 89,
   "id": "lovely-shopping",
   "metadata": {},
   "outputs": [
    {
     "data": {
      "text/plain": [
       "[10, 20, 50, 60, 70, 30]"
      ]
     },
     "execution_count": 89,
     "metadata": {},
     "output_type": "execute_result"
    }
   ],
   "source": [
    "list1 = [10,20,50,60,70]\n",
    "list1.append(30)\n",
    "list1"
   ]
  },
  {
   "cell_type": "code",
   "execution_count": 91,
   "id": "published-bible",
   "metadata": {},
   "outputs": [
    {
     "data": {
      "text/plain": [
       "[10, 20, 30, 50, 60, 70]"
      ]
     },
     "execution_count": 91,
     "metadata": {},
     "output_type": "execute_result"
    }
   ],
   "source": [
    "list1 = [10,20,50,60,70]\n",
    "list1.insert(2,30)\n",
    "list1"
   ]
  },
  {
   "cell_type": "code",
   "execution_count": 93,
   "id": "julian-allowance",
   "metadata": {},
   "outputs": [
    {
     "data": {
      "text/plain": [
       "[10, 20, 50, 60, 70, 30]"
      ]
     },
     "execution_count": 93,
     "metadata": {},
     "output_type": "execute_result"
    }
   ],
   "source": [
    "list1 = [10,20,50,60,70]\n",
    "list1.insert(7,30)\n",
    "list1"
   ]
  },
  {
   "cell_type": "code",
   "execution_count": 95,
   "id": "irish-information",
   "metadata": {},
   "outputs": [
    {
     "data": {
      "text/plain": [
       "[10, 'python', 20, 50, 60, 70]"
      ]
     },
     "execution_count": 95,
     "metadata": {},
     "output_type": "execute_result"
    }
   ],
   "source": [
    "list1 = [10,20,50,60,70]\n",
    "list1.insert(1,'python')\n",
    "list1"
   ]
  },
  {
   "cell_type": "markdown",
   "id": "documented-portsmouth",
   "metadata": {},
   "source": [
    "## Delete Items from list"
   ]
  },
  {
   "cell_type": "code",
   "execution_count": null,
   "id": "announced-triple",
   "metadata": {},
   "outputs": [],
   "source": [
    "1. remove\n",
    "2. pop\n",
    "3. clear\n",
    "\n",
    "del keyword"
   ]
  },
  {
   "cell_type": "markdown",
   "id": "packed-corporation",
   "metadata": {},
   "source": [
    "### 1. remove()"
   ]
  },
  {
   "cell_type": "code",
   "execution_count": null,
   "id": "advanced-twins",
   "metadata": {},
   "outputs": [],
   "source": [
    "list.remove(value)"
   ]
  },
  {
   "cell_type": "code",
   "execution_count": 98,
   "id": "understood-sleeping",
   "metadata": {},
   "outputs": [
    {
     "data": {
      "text/plain": [
       "[10, 20, 60, 70]"
      ]
     },
     "execution_count": 98,
     "metadata": {},
     "output_type": "execute_result"
    }
   ],
   "source": [
    "list1 = [10,20,50,60,70]\n",
    "list1.remove(50)\n",
    "list1"
   ]
  },
  {
   "cell_type": "code",
   "execution_count": 100,
   "id": "limited-innocent",
   "metadata": {},
   "outputs": [
    {
     "data": {
      "text/plain": [
       "[10, 20, 50, 70]"
      ]
     },
     "execution_count": 100,
     "metadata": {},
     "output_type": "execute_result"
    }
   ],
   "source": [
    "list1 = [10,20,50,60,70]\n",
    "list1.remove(60)\n",
    "list1"
   ]
  },
  {
   "cell_type": "code",
   "execution_count": 103,
   "id": "editorial-animal",
   "metadata": {},
   "outputs": [
    {
     "ename": "NameError",
     "evalue": "name 'Delhi' is not defined",
     "output_type": "error",
     "traceback": [
      "\u001b[1;31m---------------------------------------------------------------------------\u001b[0m",
      "\u001b[1;31mNameError\u001b[0m                                 Traceback (most recent call last)",
      "\u001b[1;32m<ipython-input-103-05e6f439d0aa>\u001b[0m in \u001b[0;36m<module>\u001b[1;34m\u001b[0m\n\u001b[0;32m      1\u001b[0m \u001b[0mcity_names\u001b[0m \u001b[1;33m=\u001b[0m \u001b[1;33m[\u001b[0m\u001b[1;34m'Pune'\u001b[0m\u001b[1;33m,\u001b[0m \u001b[1;34m'Mumbai'\u001b[0m\u001b[1;33m,\u001b[0m \u001b[1;34m'Delhi'\u001b[0m\u001b[1;33m,\u001b[0m \u001b[1;34m'Chennai'\u001b[0m\u001b[1;33m,\u001b[0m \u001b[1;34m'Bangalore'\u001b[0m\u001b[1;33m]\u001b[0m\u001b[1;33m\u001b[0m\u001b[1;33m\u001b[0m\u001b[0m\n\u001b[1;32m----> 2\u001b[1;33m \u001b[0mcity_names\u001b[0m\u001b[1;33m.\u001b[0m\u001b[0mremove\u001b[0m\u001b[1;33m(\u001b[0m\u001b[0mDelhi\u001b[0m\u001b[1;33m)\u001b[0m\u001b[1;33m\u001b[0m\u001b[1;33m\u001b[0m\u001b[0m\n\u001b[0m",
      "\u001b[1;31mNameError\u001b[0m: name 'Delhi' is not defined"
     ]
    }
   ],
   "source": [
    "city_names = ['Pune', 'Mumbai', 'Delhi', 'Chennai', 'Bangalore']\n",
    "city_names.remove(Delhi)"
   ]
  },
  {
   "cell_type": "code",
   "execution_count": 106,
   "id": "radical-yeast",
   "metadata": {},
   "outputs": [
    {
     "data": {
      "text/plain": [
       "['Pune', 'Mumbai', 'Chennai', 'Bangalore']"
      ]
     },
     "execution_count": 106,
     "metadata": {},
     "output_type": "execute_result"
    }
   ],
   "source": [
    "city_names = ['Pune', 'Mumbai', 'Delhi', 'Chennai', 'Bangalore']\n",
    "city_names.remove(\"Delhi\")\n",
    "city_names"
   ]
  },
  {
   "cell_type": "code",
   "execution_count": 108,
   "id": "collected-soldier",
   "metadata": {},
   "outputs": [
    {
     "ename": "ValueError",
     "evalue": "list.remove(x): x not in list",
     "output_type": "error",
     "traceback": [
      "\u001b[1;31m---------------------------------------------------------------------------\u001b[0m",
      "\u001b[1;31mValueError\u001b[0m                                Traceback (most recent call last)",
      "\u001b[1;32m<ipython-input-108-861c22ca3146>\u001b[0m in \u001b[0;36m<module>\u001b[1;34m\u001b[0m\n\u001b[0;32m      1\u001b[0m \u001b[0mcity_names\u001b[0m \u001b[1;33m=\u001b[0m \u001b[1;33m[\u001b[0m\u001b[1;34m'Pune'\u001b[0m\u001b[1;33m,\u001b[0m \u001b[1;34m'Mumbai'\u001b[0m\u001b[1;33m,\u001b[0m \u001b[1;34m'Delhi'\u001b[0m\u001b[1;33m,\u001b[0m \u001b[1;34m'Chennai'\u001b[0m\u001b[1;33m,\u001b[0m \u001b[1;34m'Bangalore'\u001b[0m\u001b[1;33m]\u001b[0m\u001b[1;33m\u001b[0m\u001b[1;33m\u001b[0m\u001b[0m\n\u001b[1;32m----> 2\u001b[1;33m \u001b[0mcity_names\u001b[0m\u001b[1;33m.\u001b[0m\u001b[0mremove\u001b[0m\u001b[1;33m(\u001b[0m\u001b[1;34m\"DELHI\"\u001b[0m\u001b[1;33m)\u001b[0m\u001b[1;33m\u001b[0m\u001b[1;33m\u001b[0m\u001b[0m\n\u001b[0m\u001b[0;32m      3\u001b[0m \u001b[0mcity_names\u001b[0m\u001b[1;33m\u001b[0m\u001b[1;33m\u001b[0m\u001b[0m\n",
      "\u001b[1;31mValueError\u001b[0m: list.remove(x): x not in list"
     ]
    }
   ],
   "source": [
    "city_names = ['Pune', 'Mumbai', 'Delhi', 'Chennai', 'Bangalore']\n",
    "city_names.remove(\"DELHI\")\n",
    "city_names"
   ]
  },
  {
   "cell_type": "code",
   "execution_count": 115,
   "id": "inner-crack",
   "metadata": {},
   "outputs": [
    {
     "name": "stdout",
     "output_type": "stream",
     "text": [
      "Delhi is deleted from list\n"
     ]
    }
   ],
   "source": [
    "city_names = ['Pune', 'Mumbai', 'Delhi', 'Chennai', 'Bangalore']\n",
    "city = 'Delhi'\n",
    "\n",
    "if city in city_names:\n",
    "    city_names.remove(city)\n",
    "    print(f\"{city} is deleted from list\")\n",
    "    \n",
    "else:\n",
    "    print(f\"{city} is not present in given list\")"
   ]
  },
  {
   "cell_type": "code",
   "execution_count": 110,
   "id": "greater-bridal",
   "metadata": {},
   "outputs": [
    {
     "data": {
      "text/plain": [
       "True"
      ]
     },
     "execution_count": 110,
     "metadata": {},
     "output_type": "execute_result"
    }
   ],
   "source": [
    "city_names = ['Pune', 'Mumbai', 'Delhi', 'Chennai', 'Bangalore']\n",
    "'Pune' in city_names"
   ]
  },
  {
   "cell_type": "code",
   "execution_count": 112,
   "id": "favorite-network",
   "metadata": {},
   "outputs": [
    {
     "data": {
      "text/plain": [
       "True"
      ]
     },
     "execution_count": 112,
     "metadata": {},
     "output_type": "execute_result"
    }
   ],
   "source": [
    "city_names = ['Pune', 'Mumbai', 'Delhi', 'Chennai', 'Bangalore']\n",
    "'Mumbai' in city_names"
   ]
  },
  {
   "cell_type": "code",
   "execution_count": 113,
   "id": "interpreted-offset",
   "metadata": {},
   "outputs": [
    {
     "data": {
      "text/plain": [
       "False"
      ]
     },
     "execution_count": 113,
     "metadata": {},
     "output_type": "execute_result"
    }
   ],
   "source": [
    "city_names = ['Pune', 'Mumbai', 'Delhi', 'Chennai', 'Bangalore']\n",
    "'Kolkata' in city_names"
   ]
  },
  {
   "cell_type": "code",
   "execution_count": 117,
   "id": "excess-latex",
   "metadata": {},
   "outputs": [
    {
     "name": "stdout",
     "output_type": "stream",
     "text": [
      "DELHI is not present in given list\n"
     ]
    }
   ],
   "source": [
    "city_names = ['Pune', 'Mumbai', 'Delhi', 'Chennai', 'Bangalore']\n",
    "city = 'DELHI'\n",
    "\n",
    "if city in city_names: # False\n",
    "    city_names.remove(city)\n",
    "    print(f\"{city} is deleted from list\")\n",
    "    \n",
    "else:\n",
    "    print(f\"{city} is not present in given list\")"
   ]
  },
  {
   "cell_type": "markdown",
   "id": "tired-genius",
   "metadata": {},
   "source": [
    "# 2. pop"
   ]
  },
  {
   "cell_type": "code",
   "execution_count": null,
   "id": "absolute-abuse",
   "metadata": {},
   "outputs": [],
   "source": [
    "list.pop(index)"
   ]
  },
  {
   "cell_type": "code",
   "execution_count": 120,
   "id": "quantitative-andorra",
   "metadata": {},
   "outputs": [
    {
     "data": {
      "text/plain": [
       "['Pune', 'Mumbai', 'Chennai', 'Bangalore']"
      ]
     },
     "execution_count": 120,
     "metadata": {},
     "output_type": "execute_result"
    }
   ],
   "source": [
    "city_names = ['Pune', 'Mumbai', 'Delhi', 'Chennai', 'Bangalore']\n",
    "city_names.pop(2)\n",
    "city_names"
   ]
  },
  {
   "cell_type": "code",
   "execution_count": 122,
   "id": "authentic-setting",
   "metadata": {},
   "outputs": [
    {
     "data": {
      "text/plain": [
       "['Pune', 'Mumbai', 'Delhi', 'Bangalore']"
      ]
     },
     "execution_count": 122,
     "metadata": {},
     "output_type": "execute_result"
    }
   ],
   "source": [
    "city_names = ['Pune', 'Mumbai', 'Delhi', 'Chennai', 'Bangalore']\n",
    "city_names.pop(3)\n",
    "city_names"
   ]
  },
  {
   "cell_type": "code",
   "execution_count": 123,
   "id": "governmental-savage",
   "metadata": {},
   "outputs": [
    {
     "data": {
      "text/plain": [
       "['Pune', 'Mumbai', 'Bangalore']"
      ]
     },
     "execution_count": 123,
     "metadata": {},
     "output_type": "execute_result"
    }
   ],
   "source": [
    "city_names = ['Pune', 'Mumbai', 'Delhi', 'Chennai', 'Bangalore']\n",
    "city_names.pop(2) # ['Pune', 'Mumbai', 'Chennai', 'Bangalore']\n",
    "city_names.pop(2) #  # ['Pune', 'Mumbai', 'Bangalore']\n",
    "city_names"
   ]
  },
  {
   "cell_type": "markdown",
   "id": "hybrid-front",
   "metadata": {},
   "source": [
    "# 3. clear()"
   ]
  },
  {
   "cell_type": "code",
   "execution_count": null,
   "id": "reflected-tyler",
   "metadata": {},
   "outputs": [],
   "source": [
    "list.clear()"
   ]
  },
  {
   "cell_type": "code",
   "execution_count": 125,
   "id": "dangerous-incidence",
   "metadata": {},
   "outputs": [
    {
     "data": {
      "text/plain": [
       "[]"
      ]
     },
     "execution_count": 125,
     "metadata": {},
     "output_type": "execute_result"
    }
   ],
   "source": [
    "city_names = ['Pune', 'Mumbai', 'Delhi', 'Chennai', 'Bangalore']\n",
    "city_names.clear()\n",
    "city_names"
   ]
  },
  {
   "cell_type": "code",
   "execution_count": null,
   "id": "military-seller",
   "metadata": {},
   "outputs": [],
   "source": [
    "city_names = ['Pune', 'Mumbai', 'Delhi', 'Chennai', 'Bangalore']\n",
    "city_names.clear() # city_names = []\n",
    "city_names"
   ]
  },
  {
   "cell_type": "markdown",
   "id": "involved-tennessee",
   "metadata": {},
   "source": [
    "### 4. del Keyword"
   ]
  },
  {
   "cell_type": "code",
   "execution_count": 127,
   "id": "complicated-margin",
   "metadata": {},
   "outputs": [
    {
     "ename": "NameError",
     "evalue": "name 'city_names' is not defined",
     "output_type": "error",
     "traceback": [
      "\u001b[1;31m---------------------------------------------------------------------------\u001b[0m",
      "\u001b[1;31mNameError\u001b[0m                                 Traceback (most recent call last)",
      "\u001b[1;32m<ipython-input-127-68063d069d0f>\u001b[0m in \u001b[0;36m<module>\u001b[1;34m\u001b[0m\n\u001b[0;32m      1\u001b[0m \u001b[0mcity_names\u001b[0m \u001b[1;33m=\u001b[0m \u001b[1;33m[\u001b[0m\u001b[1;34m'Pune'\u001b[0m\u001b[1;33m,\u001b[0m \u001b[1;34m'Mumbai'\u001b[0m\u001b[1;33m,\u001b[0m \u001b[1;34m'Delhi'\u001b[0m\u001b[1;33m,\u001b[0m \u001b[1;34m'Chennai'\u001b[0m\u001b[1;33m,\u001b[0m \u001b[1;34m'Bangalore'\u001b[0m\u001b[1;33m]\u001b[0m\u001b[1;33m\u001b[0m\u001b[1;33m\u001b[0m\u001b[0m\n\u001b[0;32m      2\u001b[0m \u001b[1;32mdel\u001b[0m \u001b[0mcity_names\u001b[0m\u001b[1;33m\u001b[0m\u001b[1;33m\u001b[0m\u001b[0m\n\u001b[1;32m----> 3\u001b[1;33m \u001b[0mprint\u001b[0m\u001b[1;33m(\u001b[0m\u001b[0mcity_names\u001b[0m\u001b[1;33m)\u001b[0m\u001b[1;33m\u001b[0m\u001b[1;33m\u001b[0m\u001b[0m\n\u001b[0m",
      "\u001b[1;31mNameError\u001b[0m: name 'city_names' is not defined"
     ]
    }
   ],
   "source": [
    "city_names = ['Pune', 'Mumbai', 'Delhi', 'Chennai', 'Bangalore']\n",
    "del city_names\n",
    "print(city_names)"
   ]
  },
  {
   "cell_type": "code",
   "execution_count": 129,
   "id": "continent-intensity",
   "metadata": {},
   "outputs": [
    {
     "name": "stdout",
     "output_type": "stream",
     "text": [
      "['Pune', 'Mumbai', 'Delhi', 'Chennai', 'Bangalore']\n"
     ]
    }
   ],
   "source": [
    "city_names = ['Pune', 'Mumbai', 'Delhi', 'Chennai', 'Bangalore']\n",
    "print(city_names)\n",
    "del city_names\n"
   ]
  },
  {
   "cell_type": "code",
   "execution_count": 133,
   "id": "stainless-gazette",
   "metadata": {},
   "outputs": [
    {
     "ename": "NameError",
     "evalue": "name 'string' is not defined",
     "output_type": "error",
     "traceback": [
      "\u001b[1;31m---------------------------------------------------------------------------\u001b[0m",
      "\u001b[1;31mNameError\u001b[0m                                 Traceback (most recent call last)",
      "\u001b[1;32m<ipython-input-133-8c2c1ad7eaf4>\u001b[0m in \u001b[0;36m<module>\u001b[1;34m\u001b[0m\n\u001b[0;32m      1\u001b[0m \u001b[0mstring\u001b[0m \u001b[1;33m=\u001b[0m \u001b[1;34m'data science'\u001b[0m\u001b[1;33m\u001b[0m\u001b[1;33m\u001b[0m\u001b[0m\n\u001b[0;32m      2\u001b[0m \u001b[1;32mdel\u001b[0m \u001b[0mstring\u001b[0m\u001b[1;33m\u001b[0m\u001b[1;33m\u001b[0m\u001b[0m\n\u001b[1;32m----> 3\u001b[1;33m \u001b[0mprint\u001b[0m\u001b[1;33m(\u001b[0m\u001b[0mstring\u001b[0m\u001b[1;33m)\u001b[0m\u001b[1;33m\u001b[0m\u001b[1;33m\u001b[0m\u001b[0m\n\u001b[0m",
      "\u001b[1;31mNameError\u001b[0m: name 'string' is not defined"
     ]
    }
   ],
   "source": [
    "string = 'data science'\n",
    "del string\n",
    "print(string)"
   ]
  },
  {
   "cell_type": "code",
   "execution_count": 136,
   "id": "italian-dylan",
   "metadata": {},
   "outputs": [
    {
     "data": {
      "text/plain": [
       "'Mumbai'"
      ]
     },
     "execution_count": 136,
     "metadata": {},
     "output_type": "execute_result"
    }
   ],
   "source": [
    "city_names = ['Pune', 'Mumbai', 'Delhi', 'Chennai', 'Bangalore']\n",
    "\n",
    "city_names[1]"
   ]
  },
  {
   "cell_type": "code",
   "execution_count": 138,
   "id": "duplicate-demographic",
   "metadata": {},
   "outputs": [
    {
     "name": "stdout",
     "output_type": "stream",
     "text": [
      "['Pune', 'Delhi', 'Chennai', 'Bangalore']\n"
     ]
    }
   ],
   "source": [
    "city_names = ['Pune', 'Mumbai', 'Delhi', 'Chennai', 'Bangalore']\n",
    "\n",
    "del city_names[1]\n",
    "print(city_names)"
   ]
  },
  {
   "cell_type": "code",
   "execution_count": 139,
   "id": "textile-kennedy",
   "metadata": {},
   "outputs": [
    {
     "name": "stdout",
     "output_type": "stream",
     "text": [
      "['Delhi', 'Chennai', 'Bangalore']\n"
     ]
    }
   ],
   "source": [
    "city_names = ['Pune', 'Mumbai', 'Delhi', 'Chennai', 'Bangalore']\n",
    "\n",
    "del city_names[1] # ['Pune', 'Delhi', 'Chennai', 'Bangalore']\n",
    "\n",
    "del city_names[0] # # ['Delhi', 'Chennai', 'Bangalore']\n",
    "\n",
    "print(city_names)"
   ]
  },
  {
   "cell_type": "code",
   "execution_count": 145,
   "id": "numeric-suspect",
   "metadata": {},
   "outputs": [
    {
     "data": {
      "text/plain": [
       "['Kolkata', 'Mumbai', 'Delhi', 'Chennai', 'Pune']"
      ]
     },
     "execution_count": 145,
     "metadata": {},
     "output_type": "execute_result"
    }
   ],
   "source": [
    "city_names = ['Pune', 'Mumbai', 'Delhi', 'Chennai', 'Bangalore']\n",
    "city_names[0] = \"Kolkata\" # ['Kolkata', 'Mumbai', 'Delhi', 'Chennai', 'Bangalore']\n",
    "city_names[-1] = \"Pune\" # ['Kolkata', 'Mumbai', 'Delhi', 'Chennai', 'Pune']\n",
    "city_names"
   ]
  },
  {
   "cell_type": "code",
   "execution_count": 149,
   "id": "based-breeding",
   "metadata": {},
   "outputs": [
    {
     "data": {
      "text/plain": [
       "[10, 20, 1000, 40, 50]"
      ]
     },
     "execution_count": 149,
     "metadata": {},
     "output_type": "execute_result"
    }
   ],
   "source": [
    "numbers = [10,20,30,40,50]\n",
    "numbers[2] = 1000\n",
    "numbers"
   ]
  },
  {
   "cell_type": "code",
   "execution_count": 152,
   "id": "awful-turner",
   "metadata": {},
   "outputs": [
    {
     "data": {
      "text/plain": [
       "50"
      ]
     },
     "execution_count": 152,
     "metadata": {},
     "output_type": "execute_result"
    }
   ],
   "source": [
    "numbers = [10,20,30,40,50]\n",
    "numbers[0]\n",
    "numbers[-1]"
   ]
  },
  {
   "cell_type": "code",
   "execution_count": 155,
   "id": "arranged-conducting",
   "metadata": {},
   "outputs": [
    {
     "data": {
      "text/plain": [
       "[50, 20, 30, 40, 10]"
      ]
     },
     "execution_count": 155,
     "metadata": {},
     "output_type": "execute_result"
    }
   ],
   "source": [
    "numbers = [10,20,30,40,50]\n",
    "numbers[0] = 50\n",
    "numbers[-1] = 10\n",
    "numbers"
   ]
  },
  {
   "cell_type": "code",
   "execution_count": 158,
   "id": "historical-polyester",
   "metadata": {},
   "outputs": [
    {
     "data": {
      "text/plain": [
       "[50, 20, 30, 40, 10]"
      ]
     },
     "execution_count": 158,
     "metadata": {},
     "output_type": "execute_result"
    }
   ],
   "source": [
    "numbers = [10,20,30,40,50]\n",
    "numbers[0] = numbers[-1] # [50,20,30,40,50]\n",
    "numbers[-1] = 10\n",
    "numbers"
   ]
  },
  {
   "cell_type": "code",
   "execution_count": 160,
   "id": "resistant-wrestling",
   "metadata": {},
   "outputs": [
    {
     "data": {
      "text/plain": [
       "[50, 20, 30, 40, 10]"
      ]
     },
     "execution_count": 160,
     "metadata": {},
     "output_type": "execute_result"
    }
   ],
   "source": [
    "numbers = [10,20,30,40,50]\n",
    "# numbers[0], numbers[-1]  = numbers[-1] , numbers[0]\n",
    "numbers[0], numbers[-1]  = 50 , 10\n",
    "numbers"
   ]
  },
  {
   "cell_type": "code",
   "execution_count": 162,
   "id": "angry-palmer",
   "metadata": {},
   "outputs": [
    {
     "data": {
      "text/plain": [
       "[50, 20, 30, 40, 10]"
      ]
     },
     "execution_count": 162,
     "metadata": {},
     "output_type": "execute_result"
    }
   ],
   "source": [
    "numbers = [10,20,30,40,50]\n",
    "numbers[0], numbers[-1]  = numbers[-1] , numbers[0]\n",
    "numbers"
   ]
  },
  {
   "cell_type": "code",
   "execution_count": 164,
   "id": "wrapped-silence",
   "metadata": {},
   "outputs": [
    {
     "data": {
      "text/plain": [
       "50"
      ]
     },
     "execution_count": 164,
     "metadata": {},
     "output_type": "execute_result"
    }
   ],
   "source": [
    "a,b = 40,50\n",
    "a \n",
    "b"
   ]
  },
  {
   "cell_type": "markdown",
   "id": "detected-tulsa",
   "metadata": {},
   "source": [
    "## 7. index"
   ]
  },
  {
   "cell_type": "code",
   "execution_count": null,
   "id": "excess-arena",
   "metadata": {},
   "outputs": [],
   "source": [
    "ind = list.index(item)"
   ]
  },
  {
   "cell_type": "code",
   "execution_count": 166,
   "id": "broad-wrapping",
   "metadata": {},
   "outputs": [
    {
     "data": {
      "text/plain": [
       "3"
      ]
     },
     "execution_count": 166,
     "metadata": {},
     "output_type": "execute_result"
    }
   ],
   "source": [
    "numbers = [10,20,30,40,50]\n",
    "ind = numbers.index(40)\n",
    "ind"
   ]
  },
  {
   "cell_type": "code",
   "execution_count": 168,
   "id": "studied-bathroom",
   "metadata": {},
   "outputs": [
    {
     "data": {
      "text/plain": [
       "4"
      ]
     },
     "execution_count": 168,
     "metadata": {},
     "output_type": "execute_result"
    }
   ],
   "source": [
    "city_names = ['Pune', 'Mumbai', 'Delhi', 'Chennai', 'Bangalore']\n",
    "city_names.index('Bangalore')"
   ]
  },
  {
   "cell_type": "code",
   "execution_count": 170,
   "id": "successful-workshop",
   "metadata": {},
   "outputs": [
    {
     "data": {
      "text/plain": [
       "0"
      ]
     },
     "execution_count": 170,
     "metadata": {},
     "output_type": "execute_result"
    }
   ],
   "source": [
    "city_names = ['Pune', 'Mumbai', 'Delhi', 'Chennai', 'Bangalore']\n",
    "city_names.index('Pune')"
   ]
  },
  {
   "cell_type": "code",
   "execution_count": 173,
   "id": "ambient-point",
   "metadata": {},
   "outputs": [
    {
     "ename": "ValueError",
     "evalue": "'mumbai' is not in list",
     "output_type": "error",
     "traceback": [
      "\u001b[1;31m---------------------------------------------------------------------------\u001b[0m",
      "\u001b[1;31mValueError\u001b[0m                                Traceback (most recent call last)",
      "\u001b[1;32m<ipython-input-173-196191c070e3>\u001b[0m in \u001b[0;36m<module>\u001b[1;34m\u001b[0m\n\u001b[0;32m      1\u001b[0m \u001b[0mcity_names\u001b[0m \u001b[1;33m=\u001b[0m \u001b[1;33m[\u001b[0m\u001b[1;34m'Pune'\u001b[0m\u001b[1;33m,\u001b[0m \u001b[1;34m'Mumbai'\u001b[0m\u001b[1;33m,\u001b[0m \u001b[1;34m'Delhi'\u001b[0m\u001b[1;33m,\u001b[0m \u001b[1;34m'Chennai'\u001b[0m\u001b[1;33m,\u001b[0m \u001b[1;34m'Bangalore'\u001b[0m\u001b[1;33m]\u001b[0m\u001b[1;33m\u001b[0m\u001b[1;33m\u001b[0m\u001b[0m\n\u001b[1;32m----> 2\u001b[1;33m \u001b[0mcity_names\u001b[0m\u001b[1;33m.\u001b[0m\u001b[0mindex\u001b[0m\u001b[1;33m(\u001b[0m\u001b[1;34m'mumbai'\u001b[0m\u001b[1;33m)\u001b[0m\u001b[1;33m\u001b[0m\u001b[1;33m\u001b[0m\u001b[0m\n\u001b[0m",
      "\u001b[1;31mValueError\u001b[0m: 'mumbai' is not in list"
     ]
    }
   ],
   "source": [
    "city_names = ['Pune', 'Mumbai', 'Delhi', 'Chennai', 'Bangalore']\n",
    "city_names.index('mumbai')"
   ]
  },
  {
   "cell_type": "code",
   "execution_count": 175,
   "id": "listed-tragedy",
   "metadata": {},
   "outputs": [
    {
     "data": {
      "text/plain": [
       "1"
      ]
     },
     "execution_count": 175,
     "metadata": {},
     "output_type": "execute_result"
    }
   ],
   "source": [
    "city_names = ['Pune', 'Mumbai', 'Delhi', 'Chennai', 'Bangalore']\n",
    "city = 'Mumbai'\n",
    "city_names.index(city) # 1"
   ]
  },
  {
   "cell_type": "code",
   "execution_count": 180,
   "id": "expressed-fluid",
   "metadata": {},
   "outputs": [
    {
     "name": "stdout",
     "output_type": "stream",
     "text": [
      "Index of Mumbai is 1\n"
     ]
    }
   ],
   "source": [
    "city_names = ['Pune', 'Mumbai', 'Delhi', 'Chennai', 'Bangalore']\n",
    "city = 'Mumbai'\n",
    "if city in city_names:\n",
    "    index = city_names.index(city)\n",
    "    print(f'Index of {city} is {index}')\n",
    "else:\n",
    "    print(f\"{city} is not present in list\")"
   ]
  },
  {
   "cell_type": "code",
   "execution_count": 181,
   "id": "baking-collectible",
   "metadata": {},
   "outputs": [
    {
     "name": "stdout",
     "output_type": "stream",
     "text": [
      "MUMBAI is not present in list\n"
     ]
    }
   ],
   "source": [
    "city_names = ['Pune', 'Mumbai', 'Delhi', 'Chennai', 'Bangalore']\n",
    "city = 'MUMBAI'\n",
    "if city in city_names:\n",
    "    index = city_names.index(city)\n",
    "    print(f'Index of {city} is {index}')\n",
    "else:\n",
    "    print(f\"{city} is not present in list\")"
   ]
  },
  {
   "cell_type": "code",
   "execution_count": 185,
   "id": "polyphonic-evanescence",
   "metadata": {},
   "outputs": [
    {
     "ename": "AttributeError",
     "evalue": "'list' object has no attribute 'find'",
     "output_type": "error",
     "traceback": [
      "\u001b[1;31m---------------------------------------------------------------------------\u001b[0m",
      "\u001b[1;31mAttributeError\u001b[0m                            Traceback (most recent call last)",
      "\u001b[1;32m<ipython-input-185-17702d49cdad>\u001b[0m in \u001b[0;36m<module>\u001b[1;34m\u001b[0m\n\u001b[0;32m      1\u001b[0m \u001b[0mcity_names\u001b[0m \u001b[1;33m=\u001b[0m \u001b[1;33m[\u001b[0m\u001b[1;34m'Pune'\u001b[0m\u001b[1;33m,\u001b[0m \u001b[1;34m'Mumbai'\u001b[0m\u001b[1;33m,\u001b[0m \u001b[1;34m'Delhi'\u001b[0m\u001b[1;33m,\u001b[0m \u001b[1;34m'Chennai'\u001b[0m\u001b[1;33m,\u001b[0m \u001b[1;34m'Bangalore'\u001b[0m\u001b[1;33m]\u001b[0m\u001b[1;33m\u001b[0m\u001b[1;33m\u001b[0m\u001b[0m\n\u001b[1;32m----> 2\u001b[1;33m \u001b[0mcity_names\u001b[0m\u001b[1;33m.\u001b[0m\u001b[0mfind\u001b[0m\u001b[1;33m(\u001b[0m\u001b[1;34m'Pune'\u001b[0m\u001b[1;33m)\u001b[0m\u001b[1;33m\u001b[0m\u001b[1;33m\u001b[0m\u001b[0m\n\u001b[0m",
      "\u001b[1;31mAttributeError\u001b[0m: 'list' object has no attribute 'find'"
     ]
    }
   ],
   "source": [
    "city_names = ['Pune', 'Mumbai', 'Delhi', 'Chennai', 'Bangalore']\n",
    "city_names.find('Pune')"
   ]
  },
  {
   "cell_type": "code",
   "execution_count": 188,
   "id": "optical-partnership",
   "metadata": {},
   "outputs": [
    {
     "data": {
      "text/plain": [
       "1"
      ]
     },
     "execution_count": 188,
     "metadata": {},
     "output_type": "execute_result"
    }
   ],
   "source": [
    "city_names = ['Pune', 'Mumbai', 'Delhi',  'Mumbai', 'Chennai', 'Bangalore' ,'Mumbai',  'Mumbai',  'Mumbai', ]\n",
    "city_names.index('Mumbai')"
   ]
  },
  {
   "cell_type": "code",
   "execution_count": 192,
   "id": "dietary-natural",
   "metadata": {},
   "outputs": [
    {
     "name": "stdout",
     "output_type": "stream",
     "text": [
      "0 Pune\n",
      "1 Mumbai\n",
      "2 Delhi\n",
      "3 Mumbai\n",
      "4 Chennai\n",
      "5 Bangalore\n",
      "6 Mumbai\n",
      "7 Mumbai\n",
      "8 Mumbai\n"
     ]
    }
   ],
   "source": [
    "city_names = ['Pune', 'Mumbai', 'Delhi',  'Mumbai', 'Chennai', 'Bangalore' ,'Mumbai',  'Mumbai',  'Mumbai', ]\n",
    "\n",
    "for index,city in enumerate(city_names):\n",
    "    print(index,city)"
   ]
  },
  {
   "cell_type": "code",
   "execution_count": 194,
   "id": "corresponding-jones",
   "metadata": {},
   "outputs": [
    {
     "name": "stdout",
     "output_type": "stream",
     "text": [
      "1 Mumbai\n",
      "3 Mumbai\n",
      "6 Mumbai\n",
      "7 Mumbai\n",
      "8 Mumbai\n"
     ]
    },
    {
     "data": {
      "text/plain": [
       "[1, 3, 6, 7, 8]"
      ]
     },
     "execution_count": 194,
     "metadata": {},
     "output_type": "execute_result"
    }
   ],
   "source": [
    "city_names = ['Pune', 'Mumbai', 'Delhi',  'Mumbai', 'Chennai', 'Bangalore' ,'Mumbai',  'Mumbai',  'Mumbai', ]\n",
    "index_list = []\n",
    "for index,city in enumerate(city_names): # city = \"Mumbai\"\n",
    "    if city == 'Mumbai': # True\n",
    "        print(index,city)\n",
    "        index_list.append(index)\n",
    "index_list"
   ]
  },
  {
   "cell_type": "markdown",
   "id": "dominant-status",
   "metadata": {},
   "source": [
    "### 8. count()"
   ]
  },
  {
   "cell_type": "code",
   "execution_count": null,
   "id": "jewish-increase",
   "metadata": {},
   "outputs": [],
   "source": [
    "list.count(item)"
   ]
  },
  {
   "cell_type": "code",
   "execution_count": 195,
   "id": "universal-texas",
   "metadata": {},
   "outputs": [
    {
     "data": {
      "text/plain": [
       "1"
      ]
     },
     "execution_count": 195,
     "metadata": {},
     "output_type": "execute_result"
    }
   ],
   "source": [
    "city_names = ['Pune', 'Mumbai', 'Delhi', 'Chennai', 'Bangalore']\n",
    "city_names.count('Delhi')"
   ]
  },
  {
   "cell_type": "code",
   "execution_count": 197,
   "id": "level-gambling",
   "metadata": {},
   "outputs": [
    {
     "data": {
      "text/plain": [
       "5"
      ]
     },
     "execution_count": 197,
     "metadata": {},
     "output_type": "execute_result"
    }
   ],
   "source": [
    "city_names = ['Pune', 'Mumbai', 'Delhi',  'Mumbai', 'Chennai', 'Bangalore' ,'Mumbai',  'Mumbai',  'Mumbai', ]\n",
    "city_names.count('Mumbai')"
   ]
  },
  {
   "cell_type": "markdown",
   "id": "colored-capital",
   "metadata": {},
   "source": [
    "### 9. copy()"
   ]
  },
  {
   "cell_type": "code",
   "execution_count": 199,
   "id": "unable-technology",
   "metadata": {},
   "outputs": [
    {
     "name": "stdout",
     "output_type": "stream",
     "text": [
      "List1 : [3, 4, 5, 6, 7]\n",
      "List2 : [3, 4, 5, 6, 7]\n"
     ]
    }
   ],
   "source": [
    "list1 = [3,4,5,6,7]\n",
    "list2 = list1\n",
    "print(\"List1 :\",list1)\n",
    "print(\"List2 :\",list2)"
   ]
  },
  {
   "cell_type": "code",
   "execution_count": 201,
   "id": "geographic-acrobat",
   "metadata": {},
   "outputs": [
    {
     "name": "stdout",
     "output_type": "stream",
     "text": [
      "List1 : [3, 4, 5, 6, 7, 1000]\n",
      "List2 : [3, 4, 5, 6, 7, 1000]\n"
     ]
    }
   ],
   "source": [
    "list1 = [3,4,5,6,7]\n",
    "list2 = list1\n",
    "\n",
    "list1.append(1000) # [3,4,5,6,7,1000]\n",
    "\n",
    "print(\"List1 :\",list1)\n",
    "print(\"List2 :\",list2)"
   ]
  },
  {
   "cell_type": "code",
   "execution_count": 204,
   "id": "excited-manufacturer",
   "metadata": {},
   "outputs": [
    {
     "name": "stdout",
     "output_type": "stream",
     "text": [
      "List1 : [3, 4, 5, 6, 7, 2000]\n",
      "List2 : [3, 4, 5, 6, 7, 2000]\n"
     ]
    }
   ],
   "source": [
    "list1 = [3,4,5,6,7]\n",
    "list2 = list1\n",
    "\n",
    "list2.append(2000) # [3,4,5,6,7,2000]\n",
    "\n",
    "print(\"List1 :\",list1)\n",
    "print(\"List2 :\",list2)"
   ]
  },
  {
   "cell_type": "code",
   "execution_count": 206,
   "id": "awful-highlight",
   "metadata": {},
   "outputs": [
    {
     "name": "stdout",
     "output_type": "stream",
     "text": [
      "List1 : [3, 4, 'Python', 6, 7]\n",
      "List2 : [3, 4, 'Python', 6, 7]\n"
     ]
    }
   ],
   "source": [
    "list1 = [3,4,5,6,7]\n",
    "list2 = list1\n",
    "\n",
    "list1[2] = 'Python'\n",
    "\n",
    "print(\"List1 :\",list1)\n",
    "print(\"List2 :\",list2)"
   ]
  },
  {
   "cell_type": "code",
   "execution_count": 208,
   "id": "coral-athens",
   "metadata": {},
   "outputs": [
    {
     "name": "stdout",
     "output_type": "stream",
     "text": [
      "List1 : [3, 4, 'Python', 6, 7]\n",
      "List2 : [3, 4, 5, 6, 7]\n"
     ]
    }
   ],
   "source": [
    "list1 = [3,4,5,6,7] \n",
    "list2 = list1.copy() # Shallow copy\n",
    "\n",
    "list1[2] = 'Python'\n",
    "\n",
    "print(\"List1 :\",list1)\n",
    "print(\"List2 :\",list2)"
   ]
  },
  {
   "cell_type": "code",
   "execution_count": 210,
   "id": "expressed-institute",
   "metadata": {},
   "outputs": [
    {
     "name": "stdout",
     "output_type": "stream",
     "text": [
      "List1 : [3, 4, 5, 6, 7]\n",
      "List2 : [3, 4, 5, 6, 7, 'Data science']\n"
     ]
    }
   ],
   "source": [
    "list1 = [3,4,5,6,7] \n",
    "list2 = list1.copy() # Shallow copy\n",
    "\n",
    "list2.append('Data science')\n",
    "\n",
    "print(\"List1 :\",list1)\n",
    "print(\"List2 :\",list2)"
   ]
  },
  {
   "cell_type": "markdown",
   "id": "laughing-entry",
   "metadata": {},
   "source": [
    "### Nested List"
   ]
  },
  {
   "cell_type": "code",
   "execution_count": null,
   "id": "younger-cambodia",
   "metadata": {},
   "outputs": [],
   "source": [
    "List in list"
   ]
  },
  {
   "cell_type": "code",
   "execution_count": 213,
   "id": "chief-accessory",
   "metadata": {},
   "outputs": [
    {
     "data": {
      "text/plain": [
       "4"
      ]
     },
     "execution_count": 213,
     "metadata": {},
     "output_type": "execute_result"
    }
   ],
   "source": [
    "list1 = [[2,3,4],[5,6,7],[10,20,30],[500,600,700]]\n",
    "len(list1)"
   ]
  },
  {
   "cell_type": "code",
   "execution_count": 215,
   "id": "consolidated-algeria",
   "metadata": {},
   "outputs": [
    {
     "data": {
      "text/plain": [
       "7"
      ]
     },
     "execution_count": 215,
     "metadata": {},
     "output_type": "execute_result"
    }
   ],
   "source": [
    "list1 = [[2,3,4],[5,6,7],[10,20,30],[500,600,700],14,15,16]\n",
    "len(list1)"
   ]
  },
  {
   "cell_type": "code",
   "execution_count": 218,
   "id": "oriental-chinese",
   "metadata": {},
   "outputs": [
    {
     "data": {
      "text/plain": [
       "10"
      ]
     },
     "execution_count": 218,
     "metadata": {},
     "output_type": "execute_result"
    }
   ],
   "source": [
    "list1 = [[2,3,4],[5,6,7],[10,20,30],[500,600,700],14,15,16]\n",
    "list1[2][0]"
   ]
  },
  {
   "cell_type": "code",
   "execution_count": 220,
   "id": "unavailable-copper",
   "metadata": {},
   "outputs": [
    {
     "data": {
      "text/plain": [
       "15"
      ]
     },
     "execution_count": 220,
     "metadata": {},
     "output_type": "execute_result"
    }
   ],
   "source": [
    "list1 = [[2,3,4],[5,6,7],[10,20,30],[500,600,700],14,15,16]\n",
    "list1[-2]"
   ]
  },
  {
   "cell_type": "code",
   "execution_count": 223,
   "id": "saving-necklace",
   "metadata": {},
   "outputs": [
    {
     "data": {
      "text/plain": [
       "600"
      ]
     },
     "execution_count": 223,
     "metadata": {},
     "output_type": "execute_result"
    }
   ],
   "source": [
    "list1 = [[2,3,4],[5,6,7],[10,20,30],[500,600,700],14,15,16]\n",
    "list1[3][1]"
   ]
  },
  {
   "cell_type": "code",
   "execution_count": 225,
   "id": "coastal-trance",
   "metadata": {},
   "outputs": [
    {
     "name": "stdout",
     "output_type": "stream",
     "text": [
      "List1 : [3, 4, 'Python', [6, 7], 10, 20]\n",
      "List2 : [3, 4, 5, [6, 7], 10, 20]\n"
     ]
    }
   ],
   "source": [
    "list1 = [3,4,5,[6,7],10,20] \n",
    "list2 = list1.copy() # Shallow copy\n",
    "\n",
    "list1[2] = 'Python'\n",
    "\n",
    "print(\"List1 :\",list1)\n",
    "print(\"List2 :\",list2)"
   ]
  },
  {
   "cell_type": "code",
   "execution_count": 231,
   "id": "compliant-candle",
   "metadata": {},
   "outputs": [
    {
     "name": "stdout",
     "output_type": "stream",
     "text": [
      "List1 : [3, 4, 5, [6000, 7], 10, 20]\n",
      "List2 : [3, 4, 5, [6000, 7], 10, 20]\n"
     ]
    }
   ],
   "source": [
    "list1 = [3,4,5,[6,7],10,20] \n",
    "list2 = list1.copy() # Shallow copy\n",
    "\n",
    "list1[3][0] = 6000\n",
    "\n",
    "print(\"List1 :\",list1)\n",
    "print(\"List2 :\",list2)"
   ]
  },
  {
   "cell_type": "markdown",
   "id": "liquid-behavior",
   "metadata": {},
   "source": [
    "#### Deep Copy"
   ]
  },
  {
   "cell_type": "code",
   "execution_count": 234,
   "id": "superb-carpet",
   "metadata": {},
   "outputs": [
    {
     "name": "stdout",
     "output_type": "stream",
     "text": [
      "List1 : [3, 4, 5, [6000, 7], 10, 20]\n",
      "List2 : [3, 4, 5, [6, 7], 10, 20]\n"
     ]
    }
   ],
   "source": [
    "import copy\n",
    "\n",
    "list1 = [3,4,5,[6,7],10,20] \n",
    "list2 = copy.deepcopy(list1) # deep copy\n",
    "\n",
    "list1[3][0] = 6000\n",
    "\n",
    "print(\"List1 :\",list1)\n",
    "print(\"List2 :\",list2)\n"
   ]
  },
  {
   "cell_type": "code",
   "execution_count": 236,
   "id": "threaded-wireless",
   "metadata": {},
   "outputs": [
    {
     "name": "stdout",
     "output_type": "stream",
     "text": [
      "List1 : [3, 4, 5, [6, 7], 10, 20]\n",
      "List2 : [3, 4, 5, [6, 7000], 10, 20]\n"
     ]
    }
   ],
   "source": [
    "import copy\n",
    "\n",
    "list1 = [3,4,5,[6,7],10,20] \n",
    "list2 = copy.deepcopy(list1) # deep copy\n",
    "\n",
    "list2[3][1] = 7000\n",
    "\n",
    "print(\"List1 :\",list1)\n",
    "print(\"List2 :\",list2)\n"
   ]
  },
  {
   "cell_type": "code",
   "execution_count": 237,
   "id": "comparative-christmas",
   "metadata": {},
   "outputs": [
    {
     "name": "stdout",
     "output_type": "stream",
     "text": [
      "List1 : [3, 4, 5, [6, 7], 10, 20]\n",
      "List2 : [3, 4, 5, 7000, 10, 20]\n"
     ]
    }
   ],
   "source": [
    "import copy\n",
    "\n",
    "list1 = [3,4,5,[6,7],10,20] \n",
    "list2 = copy.deepcopy(list1) # deep copy\n",
    "\n",
    "list2[3] = 7000\n",
    "\n",
    "print(\"List1 :\",list1)\n",
    "print(\"List2 :\",list2)\n"
   ]
  },
  {
   "cell_type": "markdown",
   "id": "mediterranean-active",
   "metadata": {},
   "source": [
    "## 10. sort()"
   ]
  },
  {
   "cell_type": "raw",
   "id": "recreational-methodology",
   "metadata": {},
   "source": [
    "list.sort()"
   ]
  },
  {
   "cell_type": "markdown",
   "id": "accompanied-beginning",
   "metadata": {},
   "source": [
    "#### Ascending Order`"
   ]
  },
  {
   "cell_type": "code",
   "execution_count": 246,
   "id": "sonic-cooperation",
   "metadata": {},
   "outputs": [
    {
     "data": {
      "text/plain": [
       "[1, 2, 4, 5, 6, 9]"
      ]
     },
     "execution_count": 246,
     "metadata": {},
     "output_type": "execute_result"
    }
   ],
   "source": [
    "list1 = [6,2,5,9,1,4]\n",
    "\n",
    "list1.sort()\n",
    "list1"
   ]
  },
  {
   "cell_type": "code",
   "execution_count": 247,
   "id": "forced-garden",
   "metadata": {},
   "outputs": [
    {
     "data": {
      "text/plain": [
       "[1, 2, 4, 5, 6, 9]"
      ]
     },
     "execution_count": 247,
     "metadata": {},
     "output_type": "execute_result"
    }
   ],
   "source": [
    "list1 = [6,2,5,9,1,4]\n",
    "\n",
    "list1.sort(reverse=False)\n",
    "list1"
   ]
  },
  {
   "cell_type": "code",
   "execution_count": 242,
   "id": "expensive-robertson",
   "metadata": {},
   "outputs": [
    {
     "data": {
      "text/plain": [
       "[1, 2, 4, 5, 6, 9]"
      ]
     },
     "execution_count": 242,
     "metadata": {},
     "output_type": "execute_result"
    }
   ],
   "source": [
    "list1 = [6,2,5,9,1,4]\n",
    "\n",
    "list1.sort()\n",
    "list1"
   ]
  },
  {
   "cell_type": "code",
   "execution_count": 243,
   "id": "chubby-privilege",
   "metadata": {},
   "outputs": [
    {
     "data": {
      "text/plain": [
       "[10, 15, 20, 20, 25, 30, 30, 35]"
      ]
     },
     "execution_count": 243,
     "metadata": {},
     "output_type": "execute_result"
    }
   ],
   "source": [
    "list1 = [10,20,30,15,25,35,20,30]\n",
    "\n",
    "list1.sort()\n",
    "list1"
   ]
  },
  {
   "cell_type": "markdown",
   "id": "configured-isaac",
   "metadata": {},
   "source": [
    "#### Descending Order"
   ]
  },
  {
   "cell_type": "code",
   "execution_count": 245,
   "id": "brief-commercial",
   "metadata": {},
   "outputs": [
    {
     "data": {
      "text/plain": [
       "[35, 30, 30, 25, 20, 20, 15, 10]"
      ]
     },
     "execution_count": 245,
     "metadata": {},
     "output_type": "execute_result"
    }
   ],
   "source": [
    "list1 = [10,20,30,15,25,35,20,30]\n",
    "\n",
    "list1.sort(reverse= True)\n",
    "list1"
   ]
  },
  {
   "cell_type": "code",
   "execution_count": 250,
   "id": "polished-apollo",
   "metadata": {},
   "outputs": [
    {
     "data": {
      "text/plain": [
       "['Bio', 'Che', 'Eng', 'Math', 'Phy']"
      ]
     },
     "execution_count": 250,
     "metadata": {},
     "output_type": "execute_result"
    }
   ],
   "source": [
    "sub_names = ['Phy', 'Che', 'Math', 'Eng', 'Bio']\n",
    "sub_names.sort()\n",
    "sub_names"
   ]
  },
  {
   "cell_type": "code",
   "execution_count": 252,
   "id": "vanilla-typing",
   "metadata": {},
   "outputs": [
    {
     "data": {
      "text/plain": [
       "['Phy', 'Math', 'Eng', 'Che', 'Bio']"
      ]
     },
     "execution_count": 252,
     "metadata": {},
     "output_type": "execute_result"
    }
   ],
   "source": [
    "sub_names = ['Phy', 'Che', 'Math', 'Eng', 'Bio']\n",
    "sub_names.sort(reverse=True)\n",
    "sub_names"
   ]
  },
  {
   "cell_type": "code",
   "execution_count": 254,
   "id": "plain-swing",
   "metadata": {},
   "outputs": [
    {
     "data": {
      "text/plain": [
       "['Bio', 'Eng', 'Phy', 'che', 'math']"
      ]
     },
     "execution_count": 254,
     "metadata": {},
     "output_type": "execute_result"
    }
   ],
   "source": [
    "sub_names = ['Phy', 'che', 'math', 'Eng', 'Bio']\n",
    "sub_names.sort()\n",
    "sub_names"
   ]
  },
  {
   "cell_type": "code",
   "execution_count": 256,
   "id": "accompanied-drain",
   "metadata": {},
   "outputs": [
    {
     "data": {
      "text/plain": [
       "['math', 'che', 'Phy', 'Eng', 'Bio']"
      ]
     },
     "execution_count": 256,
     "metadata": {},
     "output_type": "execute_result"
    }
   ],
   "source": [
    "sub_names = ['Phy', 'che', 'math', 'Eng', 'Bio']\n",
    "sub_names.sort(reverse=True)\n",
    "sub_names"
   ]
  },
  {
   "cell_type": "code",
   "execution_count": 257,
   "id": "religious-smart",
   "metadata": {},
   "outputs": [
    {
     "ename": "TypeError",
     "evalue": "'<' not supported between instances of 'str' and 'int'",
     "output_type": "error",
     "traceback": [
      "\u001b[1;31m---------------------------------------------------------------------------\u001b[0m",
      "\u001b[1;31mTypeError\u001b[0m                                 Traceback (most recent call last)",
      "\u001b[1;32m<ipython-input-257-9bc1a560cce9>\u001b[0m in \u001b[0;36m<module>\u001b[1;34m\u001b[0m\n\u001b[0;32m      1\u001b[0m \u001b[0msub_names\u001b[0m \u001b[1;33m=\u001b[0m \u001b[1;33m[\u001b[0m\u001b[1;34m'Phy'\u001b[0m\u001b[1;33m,\u001b[0m \u001b[1;34m'che'\u001b[0m\u001b[1;33m,\u001b[0m \u001b[1;34m'math'\u001b[0m\u001b[1;33m,\u001b[0m \u001b[1;34m'Eng'\u001b[0m\u001b[1;33m,\u001b[0m \u001b[1;34m'Bio'\u001b[0m\u001b[1;33m,\u001b[0m\u001b[1;36m10\u001b[0m\u001b[1;33m,\u001b[0m\u001b[1;36m40\u001b[0m\u001b[1;33m]\u001b[0m\u001b[1;33m\u001b[0m\u001b[1;33m\u001b[0m\u001b[0m\n\u001b[1;32m----> 2\u001b[1;33m \u001b[0msub_names\u001b[0m\u001b[1;33m.\u001b[0m\u001b[0msort\u001b[0m\u001b[1;33m(\u001b[0m\u001b[0mreverse\u001b[0m\u001b[1;33m=\u001b[0m\u001b[1;32mTrue\u001b[0m\u001b[1;33m)\u001b[0m\u001b[1;33m\u001b[0m\u001b[1;33m\u001b[0m\u001b[0m\n\u001b[0m\u001b[0;32m      3\u001b[0m \u001b[0msub_names\u001b[0m\u001b[1;33m\u001b[0m\u001b[1;33m\u001b[0m\u001b[0m\n",
      "\u001b[1;31mTypeError\u001b[0m: '<' not supported between instances of 'str' and 'int'"
     ]
    }
   ],
   "source": [
    "sub_names = ['Phy', 'che', 'math', 'Eng', 'Bio',10,40]\n",
    "sub_names.sort(reverse=True)\n",
    "sub_names"
   ]
  },
  {
   "cell_type": "markdown",
   "id": "noticed-moisture",
   "metadata": {},
   "source": [
    "## 11. reverse()"
   ]
  },
  {
   "cell_type": "code",
   "execution_count": null,
   "id": "freelance-distance",
   "metadata": {},
   "outputs": [],
   "source": [
    "list1.reverse()"
   ]
  },
  {
   "cell_type": "code",
   "execution_count": 260,
   "id": "square-illinois",
   "metadata": {},
   "outputs": [
    {
     "data": {
      "text/plain": [
       "[9, 8, 1, 6, 3, 4]"
      ]
     },
     "execution_count": 260,
     "metadata": {},
     "output_type": "execute_result"
    }
   ],
   "source": [
    "list1 = [4,3,6,1,8,9]\n",
    "list1.reverse()\n",
    "list1"
   ]
  },
  {
   "cell_type": "code",
   "execution_count": 262,
   "id": "comprehensive-bookmark",
   "metadata": {},
   "outputs": [
    {
     "data": {
      "text/plain": [
       "[9, 8, 1, 6, 3, 4]"
      ]
     },
     "execution_count": 262,
     "metadata": {},
     "output_type": "execute_result"
    }
   ],
   "source": [
    "list1 = [4,3,6,1,8,9]\n",
    "list1 = list1[::-1]\n",
    "list1"
   ]
  },
  {
   "cell_type": "code",
   "execution_count": 266,
   "id": "imported-wednesday",
   "metadata": {},
   "outputs": [
    {
     "data": {
      "text/plain": [
       "[40, 10, 'Bio', 'Eng', 'math', 'che', 'Phy']"
      ]
     },
     "execution_count": 266,
     "metadata": {},
     "output_type": "execute_result"
    }
   ],
   "source": [
    "sub_names = ['Phy', 'che', 'math', 'Eng', 'Bio',10,40]\n",
    "sub_names.reverse()\n",
    "sub_names"
   ]
  },
  {
   "cell_type": "code",
   "execution_count": 268,
   "id": "normal-bridal",
   "metadata": {},
   "outputs": [
    {
     "data": {
      "text/plain": [
       "['Phy', 'che', 'math', 'Eng', 'Bio', 10, 40]"
      ]
     },
     "execution_count": 268,
     "metadata": {},
     "output_type": "execute_result"
    }
   ],
   "source": [
    "sub_names = ['Phy', 'che', 'math', 'Eng', 'Bio',10,40]\n",
    "sub_names[::-1]\n",
    "sub_names"
   ]
  },
  {
   "cell_type": "code",
   "execution_count": 269,
   "id": "incorporate-complex",
   "metadata": {},
   "outputs": [
    {
     "data": {
      "text/plain": [
       "[40, 10, 'Bio', 'Eng', 'math', 'che', 'Phy']"
      ]
     },
     "execution_count": 269,
     "metadata": {},
     "output_type": "execute_result"
    }
   ],
   "source": [
    "sub_names = ['Phy', 'che', 'math', 'Eng', 'Bio',10,40]\n",
    "sub_names = sub_names[::-1]\n",
    "sub_names"
   ]
  },
  {
   "cell_type": "markdown",
   "id": "sustained-samoa",
   "metadata": {},
   "source": [
    "# Built in Function for list datatype"
   ]
  },
  {
   "cell_type": "markdown",
   "id": "bulgarian-parameter",
   "metadata": {},
   "source": [
    "#### 1. sorted()"
   ]
  },
  {
   "cell_type": "code",
   "execution_count": 273,
   "id": "personalized-distance",
   "metadata": {},
   "outputs": [
    {
     "name": "stdout",
     "output_type": "stream",
     "text": [
      "Python and data science\n"
     ]
    },
    {
     "data": {
      "text/plain": [
       "'Python and data science'"
      ]
     },
     "execution_count": 273,
     "metadata": {},
     "output_type": "execute_result"
    }
   ],
   "source": [
    "string  = 'Python and data science'\n",
    "print(string)\n",
    "string"
   ]
  },
  {
   "cell_type": "code",
   "execution_count": 277,
   "id": "united-inspector",
   "metadata": {},
   "outputs": [],
   "source": [
    "list1 = [10,20,30,15,25,35,20,30]\n",
    "list1.sort()"
   ]
  },
  {
   "cell_type": "code",
   "execution_count": 285,
   "id": "miniature-julian",
   "metadata": {},
   "outputs": [
    {
     "name": "stdout",
     "output_type": "stream",
     "text": [
      "New_List : [10, 15, 20, 20, 25, 30, 30, 35]\n",
      "list1    : [10, 20, 30, 15, 25, 35, 20, 30]\n"
     ]
    }
   ],
   "source": [
    "list1 = [10,20,30,15,25,35,20,30]\n",
    "x = sorted(list1)\n",
    "print(\"New_List :\",x)\n",
    "print(\"list1    :\",list1)"
   ]
  },
  {
   "cell_type": "code",
   "execution_count": 287,
   "id": "advanced-employment",
   "metadata": {},
   "outputs": [
    {
     "name": "stdout",
     "output_type": "stream",
     "text": [
      "New_List : [10, 15, 20, 20, 25, 30, 30, 35]\n",
      "list1    : [10, 20, 30, 15, 25, 35, 20, 30]\n"
     ]
    }
   ],
   "source": [
    "list1 = [10,20,30,15,25,35,20,30]\n",
    "x = sorted(list1,reverse=False)\n",
    "print(\"New_List :\",x)\n",
    "print(\"list1    :\",list1)"
   ]
  },
  {
   "cell_type": "code",
   "execution_count": 289,
   "id": "prostate-footwear",
   "metadata": {},
   "outputs": [
    {
     "name": "stdout",
     "output_type": "stream",
     "text": [
      "New_List : [35, 30, 30, 25, 20, 20, 15, 10]\n",
      "list1    : [10, 20, 30, 15, 25, 35, 20, 30]\n"
     ]
    }
   ],
   "source": [
    "list1 = [10,20,30,15,25,35,20,30]\n",
    "x = sorted(list1,reverse=True)\n",
    "print(\"New_List :\",x)\n",
    "print(\"list1    :\",list1)"
   ]
  },
  {
   "cell_type": "markdown",
   "id": "proud-piece",
   "metadata": {},
   "source": [
    "### 2. reversed()"
   ]
  },
  {
   "cell_type": "code",
   "execution_count": 291,
   "id": "informal-hormone",
   "metadata": {},
   "outputs": [
    {
     "data": {
      "text/plain": [
       "[30, 20, 35, 25, 15, 30, 20, 10]"
      ]
     },
     "execution_count": 291,
     "metadata": {},
     "output_type": "execute_result"
    }
   ],
   "source": [
    "list1 = [10,20,30,15,25,35,20,30]\n",
    "list1.reverse()\n",
    "list1"
   ]
  },
  {
   "cell_type": "code",
   "execution_count": 299,
   "id": "motivated-macro",
   "metadata": {},
   "outputs": [
    {
     "data": {
      "text/plain": [
       "[10, 20, 30, 15, 25, 35, 20, 30]"
      ]
     },
     "execution_count": 299,
     "metadata": {},
     "output_type": "execute_result"
    }
   ],
   "source": [
    "list1 = [10,20,30,15,25,35,20,30]\n",
    "\n",
    "reverse_list = list(reversed(list1))\n",
    "reverse_list\n",
    "list1"
   ]
  },
  {
   "cell_type": "markdown",
   "id": "respective-canal",
   "metadata": {},
   "source": [
    "## 3. max()"
   ]
  },
  {
   "cell_type": "code",
   "execution_count": 301,
   "id": "conceptual-cabin",
   "metadata": {},
   "outputs": [
    {
     "data": {
      "text/plain": [
       "35"
      ]
     },
     "execution_count": 301,
     "metadata": {},
     "output_type": "execute_result"
    }
   ],
   "source": [
    "list1 = [10,20,30,15,25,35,20,30]\n",
    "max(list1)"
   ]
  },
  {
   "cell_type": "markdown",
   "id": "pleasant-parallel",
   "metadata": {},
   "source": [
    "### 4. min()"
   ]
  },
  {
   "cell_type": "code",
   "execution_count": 303,
   "id": "assisted-bubble",
   "metadata": {},
   "outputs": [
    {
     "data": {
      "text/plain": [
       "10"
      ]
     },
     "execution_count": 303,
     "metadata": {},
     "output_type": "execute_result"
    }
   ],
   "source": [
    "list1 = [10,20,30,15,25,35,20,30]\n",
    "min(list1)"
   ]
  },
  {
   "cell_type": "markdown",
   "id": "usual-reverse",
   "metadata": {},
   "source": [
    "### 5. sum()"
   ]
  },
  {
   "cell_type": "code",
   "execution_count": 304,
   "id": "automated-modem",
   "metadata": {},
   "outputs": [
    {
     "data": {
      "text/plain": [
       "185"
      ]
     },
     "execution_count": 304,
     "metadata": {},
     "output_type": "execute_result"
    }
   ],
   "source": [
    "list1 = [10,20,30,15,25,35,20,30]\n",
    "sum(list1)"
   ]
  },
  {
   "cell_type": "code",
   "execution_count": 307,
   "id": "brown-lending",
   "metadata": {},
   "outputs": [
    {
     "data": {
      "text/plain": [
       "[10, 15, 20, 20, 25, 30, 30, 35]"
      ]
     },
     "execution_count": 307,
     "metadata": {},
     "output_type": "execute_result"
    }
   ],
   "source": [
    "list1 = [10,20,30,15,25,35,20,30]\n",
    "list1.sort()\n",
    "list1"
   ]
  },
  {
   "cell_type": "code",
   "execution_count": 310,
   "id": "joint-syria",
   "metadata": {},
   "outputs": [
    {
     "data": {
      "text/plain": [
       "[10, 15, 20, 20, 25, 30, 30, 35]"
      ]
     },
     "execution_count": 310,
     "metadata": {},
     "output_type": "execute_result"
    }
   ],
   "source": [
    "list1 = [10,20,30,15,25,35,20,30]\n",
    "new_list = sorted(list1)\n",
    "new_list"
   ]
  },
  {
   "cell_type": "code",
   "execution_count": 312,
   "id": "combined-enough",
   "metadata": {},
   "outputs": [
    {
     "data": {
      "text/plain": [
       "[10, 15, 20, 20, 25, 30, 30, 35]"
      ]
     },
     "execution_count": 312,
     "metadata": {},
     "output_type": "execute_result"
    }
   ],
   "source": [
    "list1 = [10,20,30,15,25,35,20,30]\n",
    "list1 = sorted(list1)\n",
    "list1"
   ]
  },
  {
   "cell_type": "code",
   "execution_count": 313,
   "id": "failing-matthew",
   "metadata": {},
   "outputs": [
    {
     "data": {
      "text/plain": [
       "[10, 15, 20, 20, 25, 30, 30, 35]"
      ]
     },
     "execution_count": 313,
     "metadata": {},
     "output_type": "execute_result"
    }
   ],
   "source": [
    "list1 = [10,20,30,15,25,35,20,30]\n",
    "list1.sort()\n",
    "list1"
   ]
  },
  {
   "cell_type": "code",
   "execution_count": 316,
   "id": "understanding-fetish",
   "metadata": {},
   "outputs": [
    {
     "data": {
      "text/plain": [
       "'Pune Mumbai Delhi Chennai Bangalore'"
      ]
     },
     "execution_count": 316,
     "metadata": {},
     "output_type": "execute_result"
    }
   ],
   "source": [
    "city_names = ['Pune', 'Mumbai', 'Delhi', 'Chennai', 'Bangalore']\n",
    "result = ' '.join(city_names)\n",
    "result"
   ]
  },
  {
   "cell_type": "code",
   "execution_count": 318,
   "id": "twelve-salvation",
   "metadata": {},
   "outputs": [
    {
     "data": {
      "text/plain": [
       "5"
      ]
     },
     "execution_count": 318,
     "metadata": {},
     "output_type": "execute_result"
    }
   ],
   "source": [
    "city_names = ['Pune', 'Mumbai', 'Delhi', 'Chennai', 'Bangalore']\n",
    "len(city_names)"
   ]
  },
  {
   "cell_type": "code",
   "execution_count": 322,
   "id": "comparable-wednesday",
   "metadata": {},
   "outputs": [
    {
     "data": {
      "text/plain": [
       "['Pune', 'Delhi', 'Chennai', 'Mumbai', 'Mumbai', 'Bangalore']"
      ]
     },
     "execution_count": 322,
     "metadata": {},
     "output_type": "execute_result"
    }
   ],
   "source": [
    "city_names = ['Pune', 'Mumbai', 'Delhi', 'Chennai','Mumbai','Mumbai','Bangalore']\n",
    "city_names.remove('Mumbai')\n",
    "city_names"
   ]
  }
 ],
 "metadata": {
  "kernelspec": {
   "display_name": "Python 3 (ipykernel)",
   "language": "python",
   "name": "python3"
  },
  "language_info": {
   "codemirror_mode": {
    "name": "ipython",
    "version": 3
   },
   "file_extension": ".py",
   "mimetype": "text/x-python",
   "name": "python",
   "nbconvert_exporter": "python",
   "pygments_lexer": "ipython3",
   "version": "3.9.12"
  }
 },
 "nbformat": 4,
 "nbformat_minor": 5
}
