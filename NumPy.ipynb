{
 "cells": [
  {
   "cell_type": "markdown",
   "id": "sharing-drunk",
   "metadata": {},
   "source": [
    "## NumPy"
   ]
  },
  {
   "cell_type": "raw",
   "id": "spatial-database",
   "metadata": {},
   "source": [
    "Numpy >> Numerical Python"
   ]
  },
  {
   "cell_type": "code",
   "execution_count": null,
   "id": "decent-nashville",
   "metadata": {},
   "outputs": [],
   "source": [
    "Type Casting\n",
    "Indexing\n",
    "Slicing\n",
    "\n"
   ]
  },
  {
   "cell_type": "markdown",
   "id": "ordinary-female",
   "metadata": {},
   "source": [
    "## Numpy Functions"
   ]
  },
  {
   "cell_type": "code",
   "execution_count": null,
   "id": "lightweight-gasoline",
   "metadata": {},
   "outputs": [],
   "source": [
    "1. np.array()\n",
    "2. array.ndim\n",
    "3. array.shape\n",
    "4. array.tolist()\n",
    "5. array.reshape()\n",
    "6. np.nditer()\n",
    "7. np.ndenumerate()\n",
    "8. array.flatten() # copy\n",
    "9. array.ravel()  # reference\n",
    "10. array.copy()\n",
    "11. np.zeros()\n",
    "12. np.ones()\n",
    "13. np.full()\n",
    "14. np.arange()\n",
    "15. np.around()\n",
    "16. np.linspace()\n",
    "17. np.eye()\n",
    "18. np.identity()\n",
    "19. np.random:\n",
    "    1. np.random.rand() # 0 to 1\n",
    "    2. np.random.randint()\n",
    "    3. np.random.randn()\n",
    "    4. np.random.ranf() # 0 to 1\n",
    " \n"
   ]
  },
  {
   "cell_type": "code",
   "execution_count": 2,
   "id": "loaded-incident",
   "metadata": {},
   "outputs": [],
   "source": [
    "import numpy as np"
   ]
  },
  {
   "cell_type": "code",
   "execution_count": 5,
   "id": "continued-bridges",
   "metadata": {},
   "outputs": [
    {
     "data": {
      "text/plain": [
       "(6,)"
      ]
     },
     "execution_count": 5,
     "metadata": {},
     "output_type": "execute_result"
    }
   ],
   "source": [
    "array1 = np.array([2,4,5,6,8,9])\n",
    "array1.shape"
   ]
  },
  {
   "cell_type": "code",
   "execution_count": 6,
   "id": "informative-bradley",
   "metadata": {},
   "outputs": [
    {
     "data": {
      "text/plain": [
       "array([[2, 4, 5],\n",
       "       [6, 8, 9]])"
      ]
     },
     "execution_count": 6,
     "metadata": {},
     "output_type": "execute_result"
    }
   ],
   "source": [
    "array1 = np.array([[2,4,5],[6,8,9]])\n",
    "array1"
   ]
  },
  {
   "cell_type": "code",
   "execution_count": 7,
   "id": "certified-parent",
   "metadata": {},
   "outputs": [
    {
     "data": {
      "text/plain": [
       "(2, 3)"
      ]
     },
     "execution_count": 7,
     "metadata": {},
     "output_type": "execute_result"
    }
   ],
   "source": [
    "array1.shape"
   ]
  },
  {
   "cell_type": "code",
   "execution_count": 9,
   "id": "increasing-preference",
   "metadata": {},
   "outputs": [
    {
     "data": {
      "text/plain": [
       "array([[[2, 4, 5],\n",
       "        [6, 8, 9]]])"
      ]
     },
     "execution_count": 9,
     "metadata": {},
     "output_type": "execute_result"
    }
   ],
   "source": [
    "array1 = np.array([[2,4,5],[6,8,9]],ndmin = 3)\n",
    "array1"
   ]
  },
  {
   "cell_type": "code",
   "execution_count": 14,
   "id": "greenhouse-detection",
   "metadata": {},
   "outputs": [
    {
     "data": {
      "text/plain": [
       "(5,)"
      ]
     },
     "execution_count": 14,
     "metadata": {},
     "output_type": "execute_result"
    }
   ],
   "source": [
    "array1 = np.array([3,4,6,7,70])\n",
    "array1.shape"
   ]
  },
  {
   "cell_type": "code",
   "execution_count": 15,
   "id": "criminal-attention",
   "metadata": {},
   "outputs": [
    {
     "name": "stdout",
     "output_type": "stream",
     "text": [
      "[[ 3  4  6  7 70]]\n"
     ]
    },
    {
     "data": {
      "text/plain": [
       "(1, 5)"
      ]
     },
     "execution_count": 15,
     "metadata": {},
     "output_type": "execute_result"
    }
   ],
   "source": [
    "array1 = np.array([[3,4,6,7,70]])\n",
    "print(array1)\n",
    "array1.shape"
   ]
  },
  {
   "cell_type": "code",
   "execution_count": 17,
   "id": "convinced-clock",
   "metadata": {},
   "outputs": [
    {
     "data": {
      "text/plain": [
       "array([[ 3,  4,  6,  7, 70]])"
      ]
     },
     "execution_count": 17,
     "metadata": {},
     "output_type": "execute_result"
    }
   ],
   "source": [
    "array1 = np.array([3,4,6,7,70],ndmin = 2)\n",
    "array1"
   ]
  },
  {
   "cell_type": "code",
   "execution_count": 19,
   "id": "attempted-maker",
   "metadata": {},
   "outputs": [
    {
     "data": {
      "text/plain": [
       "array([[[ 3,  4,  6,  7, 70]]])"
      ]
     },
     "execution_count": 19,
     "metadata": {},
     "output_type": "execute_result"
    }
   ],
   "source": [
    "array1 = np.array([3,4,6,7,70],ndmin = 3)\n",
    "array1"
   ]
  },
  {
   "cell_type": "code",
   "execution_count": 21,
   "id": "nervous-cardiff",
   "metadata": {},
   "outputs": [
    {
     "data": {
      "text/plain": [
       "array([[ 3,  4,  6,  7, 70]])"
      ]
     },
     "execution_count": 21,
     "metadata": {},
     "output_type": "execute_result"
    }
   ],
   "source": [
    "array1 = np.array([[3,4,6,7,70]],ndmin = 1)\n",
    "array1"
   ]
  },
  {
   "cell_type": "code",
   "execution_count": 23,
   "id": "manual-franchise",
   "metadata": {},
   "outputs": [
    {
     "data": {
      "text/plain": [
       "array([[[ 3,  4,  6,  7, 70]]])"
      ]
     },
     "execution_count": 23,
     "metadata": {},
     "output_type": "execute_result"
    }
   ],
   "source": [
    "array1 = np.array([[[3,4,6,7,70]]],ndmin = 2)\n",
    "array1"
   ]
  },
  {
   "cell_type": "code",
   "execution_count": 25,
   "id": "interior-highland",
   "metadata": {},
   "outputs": [
    {
     "data": {
      "text/plain": [
       "array([[[[[ 3,  4,  6,  7, 70]]]]])"
      ]
     },
     "execution_count": 25,
     "metadata": {},
     "output_type": "execute_result"
    }
   ],
   "source": [
    "array1 = np.array([[[3,4,6,7,70]]],ndmin = 5)\n",
    "array1"
   ]
  },
  {
   "cell_type": "code",
   "execution_count": null,
   "id": "checked-namibia",
   "metadata": {},
   "outputs": [],
   "source": [
    "8 Values:\n",
    "    2 * 4\n",
    "    4*2"
   ]
  },
  {
   "cell_type": "markdown",
   "id": "stuffed-event",
   "metadata": {},
   "source": [
    "## ReShape"
   ]
  },
  {
   "cell_type": "code",
   "execution_count": 26,
   "id": "premium-plant",
   "metadata": {},
   "outputs": [
    {
     "data": {
      "text/plain": [
       "array([ 2,  3,  4,  5,  1,  6,  7,  8,  9, 20, 30, 40])"
      ]
     },
     "execution_count": 26,
     "metadata": {},
     "output_type": "execute_result"
    }
   ],
   "source": [
    "array1 = np.array([2,3,4,5,1,6,7,8,9,20,30,40])\n",
    "array1"
   ]
  },
  {
   "cell_type": "code",
   "execution_count": 28,
   "id": "activated-addiction",
   "metadata": {},
   "outputs": [
    {
     "data": {
      "text/plain": [
       "(12,)"
      ]
     },
     "execution_count": 28,
     "metadata": {},
     "output_type": "execute_result"
    }
   ],
   "source": [
    "array1.shape"
   ]
  },
  {
   "cell_type": "code",
   "execution_count": 30,
   "id": "communist-tuning",
   "metadata": {},
   "outputs": [
    {
     "data": {
      "text/plain": [
       "array([[ 2,  3,  4,  5],\n",
       "       [ 1,  6,  7,  8],\n",
       "       [ 9, 20, 30, 40]])"
      ]
     },
     "execution_count": 30,
     "metadata": {},
     "output_type": "execute_result"
    }
   ],
   "source": [
    "array1.reshape(3,4)"
   ]
  },
  {
   "cell_type": "code",
   "execution_count": 32,
   "id": "spoken-stadium",
   "metadata": {},
   "outputs": [
    {
     "ename": "ValueError",
     "evalue": "cannot reshape array of size 12 into shape (3,5)",
     "output_type": "error",
     "traceback": [
      "\u001b[1;31m---------------------------------------------------------------------------\u001b[0m",
      "\u001b[1;31mValueError\u001b[0m                                Traceback (most recent call last)",
      "\u001b[1;32m<ipython-input-32-674d99fcd1dc>\u001b[0m in \u001b[0;36m<module>\u001b[1;34m\u001b[0m\n\u001b[1;32m----> 1\u001b[1;33m \u001b[0marray1\u001b[0m\u001b[1;33m.\u001b[0m\u001b[0mreshape\u001b[0m\u001b[1;33m(\u001b[0m\u001b[1;36m3\u001b[0m\u001b[1;33m,\u001b[0m\u001b[1;36m5\u001b[0m\u001b[1;33m)\u001b[0m\u001b[1;33m\u001b[0m\u001b[1;33m\u001b[0m\u001b[0m\n\u001b[0m",
      "\u001b[1;31mValueError\u001b[0m: cannot reshape array of size 12 into shape (3,5)"
     ]
    }
   ],
   "source": [
    "array1.reshape(3,5)"
   ]
  },
  {
   "cell_type": "code",
   "execution_count": 34,
   "id": "aging-parallel",
   "metadata": {},
   "outputs": [
    {
     "data": {
      "text/plain": [
       "array([ 2,  3,  4,  5,  1,  6,  7,  8,  9, 20, 30, 40])"
      ]
     },
     "execution_count": 34,
     "metadata": {},
     "output_type": "execute_result"
    }
   ],
   "source": [
    "array1"
   ]
  },
  {
   "cell_type": "code",
   "execution_count": 35,
   "id": "important-correction",
   "metadata": {},
   "outputs": [
    {
     "data": {
      "text/plain": [
       "array([[ 2,  3,  4],\n",
       "       [ 5,  1,  6],\n",
       "       [ 7,  8,  9],\n",
       "       [20, 30, 40]])"
      ]
     },
     "execution_count": 35,
     "metadata": {},
     "output_type": "execute_result"
    }
   ],
   "source": [
    "array1.reshape(4,3)"
   ]
  },
  {
   "cell_type": "code",
   "execution_count": 36,
   "id": "continuous-relay",
   "metadata": {},
   "outputs": [
    {
     "data": {
      "text/plain": [
       "array([[ 2,  3,  4],\n",
       "       [ 5,  1,  6],\n",
       "       [ 7,  8,  9],\n",
       "       [20, 30, 40]])"
      ]
     },
     "execution_count": 36,
     "metadata": {},
     "output_type": "execute_result"
    }
   ],
   "source": [
    "array1.reshape(4,3)"
   ]
  },
  {
   "cell_type": "code",
   "execution_count": 38,
   "id": "raising-realtor",
   "metadata": {},
   "outputs": [
    {
     "ename": "ValueError",
     "evalue": "cannot reshape array of size 12 into shape (4,2)",
     "output_type": "error",
     "traceback": [
      "\u001b[1;31m---------------------------------------------------------------------------\u001b[0m",
      "\u001b[1;31mValueError\u001b[0m                                Traceback (most recent call last)",
      "\u001b[1;32m<ipython-input-38-6f46512a80a9>\u001b[0m in \u001b[0;36m<module>\u001b[1;34m\u001b[0m\n\u001b[1;32m----> 1\u001b[1;33m \u001b[0marray1\u001b[0m\u001b[1;33m.\u001b[0m\u001b[0mreshape\u001b[0m\u001b[1;33m(\u001b[0m\u001b[1;36m4\u001b[0m\u001b[1;33m,\u001b[0m\u001b[1;36m2\u001b[0m\u001b[1;33m)\u001b[0m\u001b[1;33m\u001b[0m\u001b[1;33m\u001b[0m\u001b[0m\n\u001b[0m",
      "\u001b[1;31mValueError\u001b[0m: cannot reshape array of size 12 into shape (4,2)"
     ]
    }
   ],
   "source": [
    "array1.reshape(4,2)"
   ]
  },
  {
   "cell_type": "code",
   "execution_count": 40,
   "id": "rural-central",
   "metadata": {},
   "outputs": [
    {
     "data": {
      "text/plain": [
       "array([[ 2,  3],\n",
       "       [ 4,  5],\n",
       "       [ 1,  6],\n",
       "       [ 7,  8],\n",
       "       [ 9, 20],\n",
       "       [30, 40]])"
      ]
     },
     "execution_count": 40,
     "metadata": {},
     "output_type": "execute_result"
    }
   ],
   "source": [
    "array1.reshape(6,2)"
   ]
  },
  {
   "cell_type": "code",
   "execution_count": 43,
   "id": "composed-grocery",
   "metadata": {},
   "outputs": [
    {
     "data": {
      "text/plain": [
       "array([[ 2,  3,  4,  5,  1,  6],\n",
       "       [ 7,  8,  9, 20, 30, 40]])"
      ]
     },
     "execution_count": 43,
     "metadata": {},
     "output_type": "execute_result"
    }
   ],
   "source": [
    "array1.reshape(2,6)"
   ]
  },
  {
   "cell_type": "code",
   "execution_count": 45,
   "id": "loving-blink",
   "metadata": {},
   "outputs": [
    {
     "data": {
      "text/plain": [
       "array([[ 2,  3,  4,  5,  1,  6,  7,  8,  9, 20, 30, 40]])"
      ]
     },
     "execution_count": 45,
     "metadata": {},
     "output_type": "execute_result"
    }
   ],
   "source": [
    "array1.reshape(1,12)"
   ]
  },
  {
   "cell_type": "code",
   "execution_count": 48,
   "id": "prepared-heart",
   "metadata": {},
   "outputs": [
    {
     "data": {
      "text/plain": [
       "array([[ 2],\n",
       "       [ 3],\n",
       "       [ 4],\n",
       "       [ 5],\n",
       "       [ 1],\n",
       "       [ 6],\n",
       "       [ 7],\n",
       "       [ 8],\n",
       "       [ 9],\n",
       "       [20],\n",
       "       [30],\n",
       "       [40]])"
      ]
     },
     "execution_count": 48,
     "metadata": {},
     "output_type": "execute_result"
    }
   ],
   "source": [
    "array1.reshape(12,1)"
   ]
  },
  {
   "cell_type": "markdown",
   "id": "certified-eleven",
   "metadata": {},
   "source": [
    "##### 1D to 3D"
   ]
  },
  {
   "cell_type": "code",
   "execution_count": 49,
   "id": "other-generic",
   "metadata": {},
   "outputs": [
    {
     "data": {
      "text/plain": [
       "array([ 2,  3,  4,  5,  1,  6,  7,  8,  9, 20, 30, 40])"
      ]
     },
     "execution_count": 49,
     "metadata": {},
     "output_type": "execute_result"
    }
   ],
   "source": [
    "array1"
   ]
  },
  {
   "cell_type": "code",
   "execution_count": 51,
   "id": "empty-activity",
   "metadata": {},
   "outputs": [
    {
     "data": {
      "text/plain": [
       "array([[[ 2,  3],\n",
       "        [ 4,  5],\n",
       "        [ 1,  6]],\n",
       "\n",
       "       [[ 7,  8],\n",
       "        [ 9, 20],\n",
       "        [30, 40]]])"
      ]
     },
     "execution_count": 51,
     "metadata": {},
     "output_type": "execute_result"
    }
   ],
   "source": [
    "array1.reshape(2,3,2)"
   ]
  },
  {
   "cell_type": "code",
   "execution_count": 54,
   "id": "preceding-mambo",
   "metadata": {},
   "outputs": [
    {
     "data": {
      "text/plain": [
       "array([[[ 2,  3],\n",
       "        [ 4,  5]],\n",
       "\n",
       "       [[ 1,  6],\n",
       "        [ 7,  8]],\n",
       "\n",
       "       [[ 9, 20],\n",
       "        [30, 40]]])"
      ]
     },
     "execution_count": 54,
     "metadata": {},
     "output_type": "execute_result"
    }
   ],
   "source": [
    "array1.reshape(3,2,2)"
   ]
  },
  {
   "cell_type": "code",
   "execution_count": 56,
   "id": "noted-hazard",
   "metadata": {},
   "outputs": [
    {
     "data": {
      "text/plain": [
       "array([[[ 2,  3],\n",
       "        [ 4,  5],\n",
       "        [ 1,  6],\n",
       "        [ 7,  8],\n",
       "        [ 9, 20],\n",
       "        [30, 40]]])"
      ]
     },
     "execution_count": 56,
     "metadata": {},
     "output_type": "execute_result"
    }
   ],
   "source": [
    "array1.reshape(1,6,2)"
   ]
  },
  {
   "cell_type": "code",
   "execution_count": 60,
   "id": "greatest-calculation",
   "metadata": {},
   "outputs": [
    {
     "data": {
      "text/plain": [
       "array([[20, 30, 40],\n",
       "       [ 5,  1,  6],\n",
       "       [71, 82, 93],\n",
       "       [20, 30, 40]])"
      ]
     },
     "execution_count": 60,
     "metadata": {},
     "output_type": "execute_result"
    }
   ],
   "source": [
    "array2 = np.array([[ 20,  30,  40],\n",
    "                       [ 5,  1,  6],\n",
    "                       [ 71,  82,  93],\n",
    "                       [20, 30, 40]])\n",
    "array2 # 4*3"
   ]
  },
  {
   "cell_type": "code",
   "execution_count": 62,
   "id": "julian-error",
   "metadata": {},
   "outputs": [
    {
     "data": {
      "text/plain": [
       "array([[[20, 30],\n",
       "        [40,  5],\n",
       "        [ 1,  6]],\n",
       "\n",
       "       [[71, 82],\n",
       "        [93, 20],\n",
       "        [30, 40]]])"
      ]
     },
     "execution_count": 62,
     "metadata": {},
     "output_type": "execute_result"
    }
   ],
   "source": [
    "array2.reshape(2,3,2)"
   ]
  },
  {
   "cell_type": "code",
   "execution_count": 64,
   "id": "ranging-tender",
   "metadata": {},
   "outputs": [
    {
     "data": {
      "text/plain": [
       "array([20, 30, 40,  5,  1,  6, 71, 82, 93, 20, 30, 40])"
      ]
     },
     "execution_count": 64,
     "metadata": {},
     "output_type": "execute_result"
    }
   ],
   "source": [
    "array2.reshape(12,)"
   ]
  },
  {
   "cell_type": "markdown",
   "id": "congressional-lodging",
   "metadata": {},
   "source": [
    "### For loop"
   ]
  },
  {
   "cell_type": "code",
   "execution_count": 68,
   "id": "annual-export",
   "metadata": {},
   "outputs": [
    {
     "data": {
      "text/plain": [
       "array([20, 30, 40,  5,  1])"
      ]
     },
     "execution_count": 68,
     "metadata": {},
     "output_type": "execute_result"
    }
   ],
   "source": [
    "arr1 = np.array([20, 30, 40,  5,  1])\n",
    "arr1"
   ]
  },
  {
   "cell_type": "code",
   "execution_count": 70,
   "id": "declared-northern",
   "metadata": {},
   "outputs": [
    {
     "name": "stdout",
     "output_type": "stream",
     "text": [
      "20\n",
      "30\n",
      "40\n",
      "5\n",
      "1\n"
     ]
    }
   ],
   "source": [
    "for i in arr1:\n",
    "    print(i)"
   ]
  },
  {
   "cell_type": "code",
   "execution_count": 73,
   "id": "recreational-original",
   "metadata": {},
   "outputs": [
    {
     "data": {
      "text/plain": [
       "array([[20, 30, 40],\n",
       "       [ 5,  1,  4]])"
      ]
     },
     "execution_count": 73,
     "metadata": {},
     "output_type": "execute_result"
    }
   ],
   "source": [
    "arr1 = np.array([[20, 30, 40],  [5,  1, 4]])\n",
    "arr1"
   ]
  },
  {
   "cell_type": "code",
   "execution_count": 75,
   "id": "consolidated-burlington",
   "metadata": {},
   "outputs": [
    {
     "name": "stdout",
     "output_type": "stream",
     "text": [
      "[20 30 40]\n",
      "[5 1 4]\n"
     ]
    }
   ],
   "source": [
    "for i in arr1:\n",
    "    print(i)"
   ]
  },
  {
   "cell_type": "code",
   "execution_count": 77,
   "id": "awful-quarterly",
   "metadata": {},
   "outputs": [
    {
     "name": "stdout",
     "output_type": "stream",
     "text": [
      "20\n",
      "30\n",
      "40\n",
      "5\n",
      "1\n",
      "4\n"
     ]
    }
   ],
   "source": [
    "for i in arr1:\n",
    "    for j in i:\n",
    "        print(j)"
   ]
  },
  {
   "cell_type": "code",
   "execution_count": 79,
   "id": "disciplinary-difference",
   "metadata": {},
   "outputs": [
    {
     "data": {
      "text/plain": [
       "array([[[20, 30, 40],\n",
       "        [ 5,  1,  4]],\n",
       "\n",
       "       [[20, 30, 40],\n",
       "        [ 5,  1,  4]]])"
      ]
     },
     "execution_count": 79,
     "metadata": {},
     "output_type": "execute_result"
    }
   ],
   "source": [
    "arr1 = np.array([[[20, 30, 40],  [5,  1, 4]],[[20, 30, 40],  [5,  1, 4]]])\n",
    "arr1"
   ]
  },
  {
   "cell_type": "code",
   "execution_count": 81,
   "id": "moderate-savings",
   "metadata": {},
   "outputs": [
    {
     "data": {
      "text/plain": [
       "(2, 2, 3)"
      ]
     },
     "execution_count": 81,
     "metadata": {},
     "output_type": "execute_result"
    }
   ],
   "source": [
    "arr1.shape"
   ]
  },
  {
   "cell_type": "code",
   "execution_count": 84,
   "id": "bacterial-advertising",
   "metadata": {},
   "outputs": [
    {
     "name": "stdout",
     "output_type": "stream",
     "text": [
      "20\n",
      "30\n",
      "40\n",
      "5\n",
      "1\n",
      "4\n",
      "20\n",
      "30\n",
      "40\n",
      "5\n",
      "1\n",
      "4\n"
     ]
    }
   ],
   "source": [
    "for i in arr1:\n",
    "    for j in i:\n",
    "        for k in j:\n",
    "            print(k)"
   ]
  },
  {
   "cell_type": "markdown",
   "id": "entitled-practitioner",
   "metadata": {},
   "source": [
    "### 3. nditer()"
   ]
  },
  {
   "cell_type": "code",
   "execution_count": 85,
   "id": "geological-cleaners",
   "metadata": {},
   "outputs": [
    {
     "data": {
      "text/plain": [
       "array([20, 30, 40,  5,  1])"
      ]
     },
     "execution_count": 85,
     "metadata": {},
     "output_type": "execute_result"
    }
   ],
   "source": [
    "arr1 = np.array([20, 30, 40,  5,  1])\n",
    "arr1"
   ]
  },
  {
   "cell_type": "code",
   "execution_count": 88,
   "id": "offensive-legislature",
   "metadata": {},
   "outputs": [
    {
     "name": "stdout",
     "output_type": "stream",
     "text": [
      "20\n",
      "30\n",
      "40\n",
      "5\n",
      "1\n"
     ]
    }
   ],
   "source": [
    "for i in np.nditer(arr1):\n",
    "    print(i)"
   ]
  },
  {
   "cell_type": "code",
   "execution_count": 89,
   "id": "encouraging-music",
   "metadata": {},
   "outputs": [
    {
     "data": {
      "text/plain": [
       "array([[20, 30, 40],\n",
       "       [ 5,  6,  1]])"
      ]
     },
     "execution_count": 89,
     "metadata": {},
     "output_type": "execute_result"
    }
   ],
   "source": [
    "arr2 = np.array([[20, 30, 40], [ 5, 6, 1]])\n",
    "arr2"
   ]
  },
  {
   "cell_type": "code",
   "execution_count": 91,
   "id": "sublime-european",
   "metadata": {},
   "outputs": [
    {
     "name": "stdout",
     "output_type": "stream",
     "text": [
      "20\n",
      "30\n",
      "40\n",
      "5\n",
      "6\n",
      "1\n"
     ]
    }
   ],
   "source": [
    "for i in np.nditer(arr2):\n",
    "    print(i)"
   ]
  },
  {
   "cell_type": "code",
   "execution_count": 92,
   "id": "numerical-position",
   "metadata": {},
   "outputs": [
    {
     "data": {
      "text/plain": [
       "array([[[20, 30, 40],\n",
       "        [ 5,  1,  4]],\n",
       "\n",
       "       [[20, 30, 40],\n",
       "        [ 5,  1,  4]]])"
      ]
     },
     "execution_count": 92,
     "metadata": {},
     "output_type": "execute_result"
    }
   ],
   "source": [
    "arr3 = np.array([[[20, 30, 40],  [5,  1, 4]],[[20, 30, 40],  [5,  1, 4]]])\n",
    "arr3"
   ]
  },
  {
   "cell_type": "code",
   "execution_count": 94,
   "id": "protective-creature",
   "metadata": {},
   "outputs": [
    {
     "name": "stdout",
     "output_type": "stream",
     "text": [
      "20\n",
      "30\n",
      "40\n",
      "5\n",
      "1\n",
      "4\n",
      "20\n",
      "30\n",
      "40\n",
      "5\n",
      "1\n",
      "4\n"
     ]
    }
   ],
   "source": [
    "for i in np.nditer(arr3):\n",
    "    print(i)"
   ]
  },
  {
   "cell_type": "markdown",
   "id": "governmental-leather",
   "metadata": {},
   "source": [
    "### 4. np.ndenumerate()"
   ]
  },
  {
   "cell_type": "code",
   "execution_count": 96,
   "id": "liberal-willow",
   "metadata": {},
   "outputs": [
    {
     "data": {
      "text/plain": [
       "array([3, 4, 5, 6, 7, 8])"
      ]
     },
     "execution_count": 96,
     "metadata": {},
     "output_type": "execute_result"
    }
   ],
   "source": [
    "array1 = np.array([3,4,5,6,7,8])\n",
    "array1"
   ]
  },
  {
   "cell_type": "code",
   "execution_count": 100,
   "id": "current-institution",
   "metadata": {},
   "outputs": [
    {
     "name": "stdout",
     "output_type": "stream",
     "text": [
      "0 3\n",
      "1 4\n",
      "2 5\n",
      "3 6\n",
      "4 7\n",
      "5 8\n"
     ]
    }
   ],
   "source": [
    "for i,v in enumerate(array1):\n",
    "    print(i,v)"
   ]
  },
  {
   "cell_type": "code",
   "execution_count": 102,
   "id": "nuclear-drilling",
   "metadata": {},
   "outputs": [
    {
     "data": {
      "text/plain": [
       "array([[ 3,  4,  5],\n",
       "       [ 6,  7,  8],\n",
       "       [10, 20, 30]])"
      ]
     },
     "execution_count": 102,
     "metadata": {},
     "output_type": "execute_result"
    }
   ],
   "source": [
    "array2 = np.array([[3,4,5],[6,7,8],[10,20,30]])\n",
    "array2"
   ]
  },
  {
   "cell_type": "code",
   "execution_count": 106,
   "id": "lined-wallace",
   "metadata": {},
   "outputs": [
    {
     "name": "stdout",
     "output_type": "stream",
     "text": [
      "0 [3 4 5]\n",
      "1 [6 7 8]\n",
      "2 [10 20 30]\n"
     ]
    }
   ],
   "source": [
    "for i,v in enumerate(array2):\n",
    "    print(i,v)"
   ]
  },
  {
   "cell_type": "code",
   "execution_count": 108,
   "id": "swiss-suicide",
   "metadata": {},
   "outputs": [
    {
     "data": {
      "text/plain": [
       "array([[ 3,  4,  5],\n",
       "       [ 6,  7,  8],\n",
       "       [10, 20, 30]])"
      ]
     },
     "execution_count": 108,
     "metadata": {},
     "output_type": "execute_result"
    }
   ],
   "source": [
    "array2"
   ]
  },
  {
   "cell_type": "code",
   "execution_count": 110,
   "id": "hungarian-casting",
   "metadata": {},
   "outputs": [
    {
     "data": {
      "text/plain": [
       "20"
      ]
     },
     "execution_count": 110,
     "metadata": {},
     "output_type": "execute_result"
    }
   ],
   "source": [
    "array2[2,1]"
   ]
  },
  {
   "cell_type": "code",
   "execution_count": 111,
   "id": "desirable-uganda",
   "metadata": {},
   "outputs": [
    {
     "data": {
      "text/plain": [
       "8"
      ]
     },
     "execution_count": 111,
     "metadata": {},
     "output_type": "execute_result"
    }
   ],
   "source": [
    "array2[1,2]"
   ]
  },
  {
   "cell_type": "code",
   "execution_count": null,
   "id": "fallen-steering",
   "metadata": {},
   "outputs": [],
   "source": []
  },
  {
   "cell_type": "code",
   "execution_count": 114,
   "id": "valid-fundamentals",
   "metadata": {},
   "outputs": [
    {
     "name": "stdout",
     "output_type": "stream",
     "text": [
      "Value at index (0, 0) is 3\n",
      "Value at index (0, 1) is 4\n",
      "Value at index (0, 2) is 5\n",
      "Value at index (1, 0) is 6\n",
      "Value at index (1, 1) is 7\n",
      "Value at index (1, 2) is 8\n",
      "Value at index (2, 0) is 10\n",
      "Value at index (2, 1) is 20\n",
      "Value at index (2, 2) is 30\n"
     ]
    }
   ],
   "source": [
    "for i,v in np.ndenumerate(array2):\n",
    "    print(f\"Value at index {i} is {v}\")"
   ]
  },
  {
   "cell_type": "code",
   "execution_count": 118,
   "id": "neither-anger",
   "metadata": {},
   "outputs": [
    {
     "data": {
      "text/plain": [
       "array([[[  3,   4,   5],\n",
       "        [  6,   7,   8]],\n",
       "\n",
       "       [[ 10,  20,  30],\n",
       "        [100, 200, 400]]])"
      ]
     },
     "execution_count": 118,
     "metadata": {},
     "output_type": "execute_result"
    }
   ],
   "source": [
    "array3 = np.array([[[3,4,5],[6,7,8]],[[10,20,30],[100,200,400]]])\n",
    "array3"
   ]
  },
  {
   "cell_type": "code",
   "execution_count": 120,
   "id": "silver-brooks",
   "metadata": {},
   "outputs": [
    {
     "data": {
      "text/plain": [
       "100"
      ]
     },
     "execution_count": 120,
     "metadata": {},
     "output_type": "execute_result"
    }
   ],
   "source": [
    "array2[1,1,0]"
   ]
  },
  {
   "cell_type": "code",
   "execution_count": 122,
   "id": "small-anthropology",
   "metadata": {},
   "outputs": [
    {
     "data": {
      "text/plain": [
       "5"
      ]
     },
     "execution_count": 122,
     "metadata": {},
     "output_type": "execute_result"
    }
   ],
   "source": [
    "array2[0,0,2]"
   ]
  },
  {
   "cell_type": "code",
   "execution_count": 123,
   "id": "married-conjunction",
   "metadata": {},
   "outputs": [
    {
     "data": {
      "text/plain": [
       "6"
      ]
     },
     "execution_count": 123,
     "metadata": {},
     "output_type": "execute_result"
    }
   ],
   "source": [
    "array2[0,1,0]"
   ]
  },
  {
   "cell_type": "code",
   "execution_count": null,
   "id": "seventh-johnson",
   "metadata": {},
   "outputs": [],
   "source": []
  },
  {
   "cell_type": "code",
   "execution_count": 125,
   "id": "extreme-basic",
   "metadata": {},
   "outputs": [
    {
     "name": "stdout",
     "output_type": "stream",
     "text": [
      "Value at index (0, 0, 0) is 3\n",
      "Value at index (0, 0, 1) is 4\n",
      "Value at index (0, 0, 2) is 5\n",
      "Value at index (0, 1, 0) is 6\n",
      "Value at index (0, 1, 1) is 7\n",
      "Value at index (0, 1, 2) is 8\n",
      "Value at index (1, 0, 0) is 10\n",
      "Value at index (1, 0, 1) is 20\n",
      "Value at index (1, 0, 2) is 30\n",
      "Value at index (1, 1, 0) is 100\n",
      "Value at index (1, 1, 1) is 200\n",
      "Value at index (1, 1, 2) is 400\n"
     ]
    }
   ],
   "source": [
    "for i,v in np.ndenumerate(array3):\n",
    "    print(f\"Value at index {i} is {v}\")"
   ]
  },
  {
   "cell_type": "code",
   "execution_count": null,
   "id": "accessory-calvin",
   "metadata": {},
   "outputs": [],
   "source": []
  },
  {
   "cell_type": "code",
   "execution_count": 127,
   "id": "reported-index",
   "metadata": {},
   "outputs": [
    {
     "data": {
      "text/plain": [
       "array([  3,   4,   5,   6,   7,   8,  10,  20,  30, 100, 200, 400])"
      ]
     },
     "execution_count": 127,
     "metadata": {},
     "output_type": "execute_result"
    }
   ],
   "source": [
    "array3 = np.array([[[3,4,5],[6,7,8]],[[10,20,30],[100,200,400]]])\n",
    "array3.reshape(12,)"
   ]
  },
  {
   "cell_type": "markdown",
   "id": "radio-mobile",
   "metadata": {},
   "source": [
    "### 5. flatten"
   ]
  },
  {
   "cell_type": "code",
   "execution_count": null,
   "id": "critical-memory",
   "metadata": {},
   "outputs": [],
   "source": [
    "Used to convert n-Dimensional array to 1-D array"
   ]
  },
  {
   "cell_type": "code",
   "execution_count": 133,
   "id": "psychological-hormone",
   "metadata": {},
   "outputs": [],
   "source": [
    "array3 = np.array([[[3,4,5],[6,7,8]],[[10,20,30],[100,200,400]]])\n",
    "array5 = array3.flatten()"
   ]
  },
  {
   "cell_type": "code",
   "execution_count": 132,
   "id": "moderate-credit",
   "metadata": {},
   "outputs": [
    {
     "data": {
      "text/plain": [
       "array([  3,   4,   5,   6,   7,   8,  10,  20,  30, 100, 200, 400])"
      ]
     },
     "execution_count": 132,
     "metadata": {},
     "output_type": "execute_result"
    }
   ],
   "source": [
    "array5"
   ]
  },
  {
   "cell_type": "code",
   "execution_count": null,
   "id": "assisted-request",
   "metadata": {},
   "outputs": [],
   "source": []
  },
  {
   "cell_type": "code",
   "execution_count": 135,
   "id": "temporal-investor",
   "metadata": {},
   "outputs": [
    {
     "data": {
      "text/plain": [
       "array([ 3,  4,  5,  6,  7,  8, 10, 20, 30])"
      ]
     },
     "execution_count": 135,
     "metadata": {},
     "output_type": "execute_result"
    }
   ],
   "source": [
    "array2 = np.array([[3,4,5],[6,7,8],[10,20,30]])\n",
    "array2.flatten()"
   ]
  },
  {
   "cell_type": "code",
   "execution_count": null,
   "id": "centered-sheffield",
   "metadata": {},
   "outputs": [],
   "source": []
  },
  {
   "cell_type": "markdown",
   "id": "curious-corporation",
   "metadata": {},
   "source": [
    "#### 6. ravel"
   ]
  },
  {
   "cell_type": "code",
   "execution_count": null,
   "id": "theoretical-novelty",
   "metadata": {},
   "outputs": [],
   "source": [
    "Used to covert n-D array to 1-D array\n",
    "\n",
    "It returns only reference of original array"
   ]
  },
  {
   "cell_type": "code",
   "execution_count": 136,
   "id": "spiritual-tours",
   "metadata": {},
   "outputs": [
    {
     "data": {
      "text/plain": [
       "array([ 3,  4,  5,  6,  7,  8, 10, 20, 30])"
      ]
     },
     "execution_count": 136,
     "metadata": {},
     "output_type": "execute_result"
    }
   ],
   "source": [
    "array2 = np.array([[3,4,5],[6,7,8],[10,20,30]])\n",
    "array2.ravel()"
   ]
  },
  {
   "cell_type": "code",
   "execution_count": 138,
   "id": "seasonal-healthcare",
   "metadata": {},
   "outputs": [
    {
     "data": {
      "text/plain": [
       "array([  3,   4,   5,   6,   7,   8,  10,  20,  30, 100, 200, 400])"
      ]
     },
     "execution_count": 138,
     "metadata": {},
     "output_type": "execute_result"
    }
   ],
   "source": [
    "array3 = np.array([[[3,4,5],[6,7,8]],[[10,20,30],[100,200,400]]])\n",
    "array5 = array3.ravel()\n",
    "array5"
   ]
  },
  {
   "cell_type": "markdown",
   "id": "found-tyler",
   "metadata": {},
   "source": [
    "### 7. Copy"
   ]
  },
  {
   "cell_type": "code",
   "execution_count": 142,
   "id": "radio-elements",
   "metadata": {},
   "outputs": [
    {
     "name": "stdout",
     "output_type": "stream",
     "text": [
      "List1 : [[4, 5, 6], [1000, 20, 40]]\n",
      "List2 : [[4, 5, 6], [1000, 20, 40]]\n"
     ]
    }
   ],
   "source": [
    "list1 = [[4,5,6],[10,20,40]]\n",
    "list2 = list1.copy() # Shallow Copy\n",
    "\n",
    "list2[1][0] = 1000\n",
    "print(\"List1 :\",list1)\n",
    "print(\"List2 :\",list2)"
   ]
  },
  {
   "cell_type": "code",
   "execution_count": 145,
   "id": "anonymous-repository",
   "metadata": {},
   "outputs": [
    {
     "name": "stdout",
     "output_type": "stream",
     "text": [
      "arr1 :\n",
      " [[ 4  5  6]\n",
      " [10 20 40]]\n",
      "arr2 :\n",
      " [[   4    5    6]\n",
      " [1000   20   40]]\n"
     ]
    }
   ],
   "source": [
    "arr1 = np.array([[4,5,6],[10,20,40]])\n",
    "arr2 = arr1.copy()  # Deep Copy\n",
    "\n",
    "arr2[1][0] = 1000\n",
    "\n",
    "print(\"arr1 :\\n\",arr1)\n",
    "print(\"arr2 :\\n\",arr2)"
   ]
  },
  {
   "cell_type": "code",
   "execution_count": 149,
   "id": "ongoing-consensus",
   "metadata": {},
   "outputs": [
    {
     "name": "stdout",
     "output_type": "stream",
     "text": [
      "arr1 :\n",
      " [[400   5   6]\n",
      " [ 10  20  40]]\n",
      "****************************************\n",
      "arr2 :\n",
      " [[ 4  5  6]\n",
      " [10 20 40]]\n"
     ]
    }
   ],
   "source": [
    "arr1 = np.array([[4,5,6],[10,20,40]])\n",
    "arr2 = arr1.copy()  # Deep Copy\n",
    "\n",
    "arr1[0,0] = 400\n",
    "\n",
    "print(\"arr1 :\\n\",arr1)\n",
    "print(\"*\"*40)\n",
    "print(\"arr2 :\\n\",arr2)"
   ]
  },
  {
   "cell_type": "code",
   "execution_count": 150,
   "id": "appreciated-disney",
   "metadata": {},
   "outputs": [
    {
     "name": "stdout",
     "output_type": "stream",
     "text": [
      "arr1 :\n",
      " [[400   5   6]\n",
      " [ 10  20  40]]\n",
      "****************************************\n",
      "arr2 :\n",
      " [[400   5   6]\n",
      " [ 10  20  40]]\n"
     ]
    }
   ],
   "source": [
    "arr1 = np.array([[4,5,6],[10,20,40]])\n",
    "arr2 = arr1  # Reference\n",
    "\n",
    "arr1[0,0] = 400\n",
    "\n",
    "print(\"arr1 :\\n\",arr1)\n",
    "print(\"*\"*40)\n",
    "print(\"arr2 :\\n\",arr2)"
   ]
  },
  {
   "cell_type": "code",
   "execution_count": 153,
   "id": "powered-subject",
   "metadata": {},
   "outputs": [
    {
     "name": "stdout",
     "output_type": "stream",
     "text": [
      "[ 4  5  6 10 20 40]\n"
     ]
    }
   ],
   "source": [
    "arr1 = np.array([[4,5,6],[10,20,40]])\n",
    "arr2 = arr1.ravel()\n",
    "print(arr2)"
   ]
  },
  {
   "cell_type": "code",
   "execution_count": 157,
   "id": "numeric-drama",
   "metadata": {},
   "outputs": [
    {
     "name": "stdout",
     "output_type": "stream",
     "text": [
      "arr2 [ 4  5  6 10 20 40]\n",
      "arr1 :\n",
      " [[ 4  5  6]\n",
      " [10 20 40]]\n",
      "****************************************\n",
      "arr2 :\n",
      " [   4    5 6666   10   20   40]\n"
     ]
    }
   ],
   "source": [
    "arr1 = np.array([[4,5,6],[10,20,40]])\n",
    "arr2 = arr1.flatten()\n",
    "print(\"arr2\",arr2)\n",
    "\n",
    "arr2[2] = 6666\n",
    "\n",
    "print(\"arr1 :\\n\",arr1)\n",
    "print(\"*\"*40)\n",
    "print(\"arr2 :\\n\",arr2)"
   ]
  },
  {
   "cell_type": "code",
   "execution_count": null,
   "id": "overhead-wildlife",
   "metadata": {},
   "outputs": [],
   "source": [
    "arr1 = np.array([[4,5,6],[10,20,40]])\n",
    "arr2 = arr1.ravel()\n",
    "print(\"arr2\",arr2)\n",
    "\n",
    "arr2[2] = 6666\n",
    "\n",
    "print(\"arr1 :\\n\",arr1)\n",
    "print(\"*\"*40)\n",
    "print(\"arr2 :\\n\",arr2)"
   ]
  },
  {
   "cell_type": "code",
   "execution_count": 158,
   "id": "contained-shade",
   "metadata": {},
   "outputs": [
    {
     "name": "stdout",
     "output_type": "stream",
     "text": [
      "[ 4  5  6 10 20 40]\n",
      "arr1 :\n",
      " [[ 4  5  6]\n",
      " [10 20 40]]\n",
      "****************************************\n",
      "arr2 :\n",
      " [   4    5 6666   10   20   40]\n"
     ]
    }
   ],
   "source": [
    "arr1 = np.array([[4,5,6],[10,20,40]])\n",
    "arr2 = arr1.ravel().copy()\n",
    "print(arr2)\n",
    "\n",
    "arr2[2] = 6666\n",
    "\n",
    "print(\"arr1 :\\n\",arr1)\n",
    "print(\"*\"*40)\n",
    "print(\"arr2 :\\n\",arr2)"
   ]
  },
  {
   "cell_type": "markdown",
   "id": "satellite-taste",
   "metadata": {},
   "source": [
    "### 8. zeros"
   ]
  },
  {
   "cell_type": "code",
   "execution_count": null,
   "id": "clear-dimension",
   "metadata": {},
   "outputs": [],
   "source": [
    "np.zeros(shape, dtype = float)"
   ]
  },
  {
   "cell_type": "code",
   "execution_count": 161,
   "id": "distant-employment",
   "metadata": {},
   "outputs": [],
   "source": [
    "list1 = [0,0,0,0,0,0,0,0,0,0]"
   ]
  },
  {
   "cell_type": "code",
   "execution_count": 163,
   "id": "preceding-struggle",
   "metadata": {},
   "outputs": [
    {
     "data": {
      "text/plain": [
       "array([0., 0., 0., 0., 0., 0., 0., 0., 0., 0.])"
      ]
     },
     "execution_count": 163,
     "metadata": {},
     "output_type": "execute_result"
    }
   ],
   "source": [
    "arr1 = np.zeros(10)\n",
    "arr1"
   ]
  },
  {
   "cell_type": "code",
   "execution_count": 165,
   "id": "proper-custom",
   "metadata": {},
   "outputs": [
    {
     "data": {
      "text/plain": [
       "array([0, 0, 0, 0, 0, 0, 0, 0, 0, 0])"
      ]
     },
     "execution_count": 165,
     "metadata": {},
     "output_type": "execute_result"
    }
   ],
   "source": [
    "arr1 = np.zeros(10,dtype = int)\n",
    "arr1"
   ]
  },
  {
   "cell_type": "code",
   "execution_count": 167,
   "id": "municipal-worry",
   "metadata": {},
   "outputs": [
    {
     "data": {
      "text/plain": [
       "array([[0, 0, 0, 0, 0],\n",
       "       [0, 0, 0, 0, 0],\n",
       "       [0, 0, 0, 0, 0],\n",
       "       [0, 0, 0, 0, 0]])"
      ]
     },
     "execution_count": 167,
     "metadata": {},
     "output_type": "execute_result"
    }
   ],
   "source": [
    "arr1 = np.zeros([4,5],dtype = int)\n",
    "arr1"
   ]
  },
  {
   "cell_type": "code",
   "execution_count": 169,
   "id": "light-victim",
   "metadata": {},
   "outputs": [
    {
     "data": {
      "text/plain": [
       "array([[0, 0, 0, 0, 0],\n",
       "       [0, 0, 0, 0, 0],\n",
       "       [0, 0, 0, 0, 0],\n",
       "       [0, 0, 0, 0, 0],\n",
       "       [0, 0, 0, 0, 0]])"
      ]
     },
     "execution_count": 169,
     "metadata": {},
     "output_type": "execute_result"
    }
   ],
   "source": [
    "arr1 = np.zeros([5,5],dtype = int)\n",
    "arr1"
   ]
  },
  {
   "cell_type": "code",
   "execution_count": 173,
   "id": "included-ground",
   "metadata": {},
   "outputs": [
    {
     "data": {
      "text/plain": [
       "array([0, 0, 0, 0, 0])"
      ]
     },
     "execution_count": 173,
     "metadata": {},
     "output_type": "execute_result"
    }
   ],
   "source": [
    "arr2 = np.zeros(5,dtype = int)\n",
    "arr2"
   ]
  },
  {
   "cell_type": "markdown",
   "id": "thousand-separation",
   "metadata": {},
   "source": [
    "### 9. ones"
   ]
  },
  {
   "cell_type": "code",
   "execution_count": null,
   "id": "double-fabric",
   "metadata": {},
   "outputs": [],
   "source": [
    "np.ones(shape, dtype = float)"
   ]
  },
  {
   "cell_type": "code",
   "execution_count": 175,
   "id": "mathematical-legislature",
   "metadata": {},
   "outputs": [
    {
     "data": {
      "text/plain": [
       "array([1., 1., 1., 1., 1., 1., 1., 1., 1., 1.])"
      ]
     },
     "execution_count": 175,
     "metadata": {},
     "output_type": "execute_result"
    }
   ],
   "source": [
    "arr1 = np.ones(10)\n",
    "arr1"
   ]
  },
  {
   "cell_type": "code",
   "execution_count": 178,
   "id": "corrected-combat",
   "metadata": {},
   "outputs": [
    {
     "data": {
      "text/plain": [
       "array([1., 1., 1., 1., 1.])"
      ]
     },
     "execution_count": 178,
     "metadata": {},
     "output_type": "execute_result"
    }
   ],
   "source": [
    "arr1 = np.ones(5)\n",
    "arr1"
   ]
  },
  {
   "cell_type": "code",
   "execution_count": 180,
   "id": "metropolitan-captain",
   "metadata": {},
   "outputs": [
    {
     "data": {
      "text/plain": [
       "array([1, 1, 1, 1, 1])"
      ]
     },
     "execution_count": 180,
     "metadata": {},
     "output_type": "execute_result"
    }
   ],
   "source": [
    "arr1 = np.ones(5,int)\n",
    "arr1"
   ]
  },
  {
   "cell_type": "code",
   "execution_count": 182,
   "id": "developed-karen",
   "metadata": {},
   "outputs": [
    {
     "data": {
      "text/plain": [
       "array([1, 1, 1, 1, 1])"
      ]
     },
     "execution_count": 182,
     "metadata": {},
     "output_type": "execute_result"
    }
   ],
   "source": [
    "arr1 = np.ones(5,dtype = int)\n",
    "arr1"
   ]
  },
  {
   "cell_type": "code",
   "execution_count": 184,
   "id": "hispanic-northwest",
   "metadata": {},
   "outputs": [
    {
     "data": {
      "text/plain": [
       "array([[1, 1, 1, 1, 1, 1],\n",
       "       [1, 1, 1, 1, 1, 1],\n",
       "       [1, 1, 1, 1, 1, 1],\n",
       "       [1, 1, 1, 1, 1, 1],\n",
       "       [1, 1, 1, 1, 1, 1]])"
      ]
     },
     "execution_count": 184,
     "metadata": {},
     "output_type": "execute_result"
    }
   ],
   "source": [
    "arr1 = np.ones([5,6],dtype = int)\n",
    "arr1"
   ]
  },
  {
   "cell_type": "code",
   "execution_count": 186,
   "id": "blank-corner",
   "metadata": {},
   "outputs": [
    {
     "data": {
      "text/plain": [
       "array([[1, 1, 1, 1, 1],\n",
       "       [1, 1, 1, 1, 1],\n",
       "       [1, 1, 1, 1, 1],\n",
       "       [1, 1, 1, 1, 1]])"
      ]
     },
     "execution_count": 186,
     "metadata": {},
     "output_type": "execute_result"
    }
   ],
   "source": [
    "arr1 = np.ones((4,5),dtype = int)\n",
    "arr1"
   ]
  },
  {
   "cell_type": "code",
   "execution_count": 188,
   "id": "partial-scott",
   "metadata": {},
   "outputs": [
    {
     "data": {
      "text/plain": [
       "(4, 5)"
      ]
     },
     "execution_count": 188,
     "metadata": {},
     "output_type": "execute_result"
    }
   ],
   "source": [
    "arr1.shape"
   ]
  },
  {
   "cell_type": "code",
   "execution_count": 190,
   "id": "advisory-anger",
   "metadata": {},
   "outputs": [
    {
     "data": {
      "text/plain": [
       "array([[[1, 1],\n",
       "        [1, 1],\n",
       "        [1, 1]],\n",
       "\n",
       "       [[1, 1],\n",
       "        [1, 1],\n",
       "        [1, 1]],\n",
       "\n",
       "       [[1, 1],\n",
       "        [1, 1],\n",
       "        [1, 1]],\n",
       "\n",
       "       [[1, 1],\n",
       "        [1, 1],\n",
       "        [1, 1]]])"
      ]
     },
     "execution_count": 190,
     "metadata": {},
     "output_type": "execute_result"
    }
   ],
   "source": [
    "arr1 = np.ones((4,3,2),dtype = int)\n",
    "arr1"
   ]
  },
  {
   "cell_type": "code",
   "execution_count": 191,
   "id": "latin-television",
   "metadata": {},
   "outputs": [
    {
     "data": {
      "text/plain": [
       "array([1, 1, 1, 1, 1])"
      ]
     },
     "execution_count": 191,
     "metadata": {},
     "output_type": "execute_result"
    }
   ],
   "source": [
    "arr1 = np.ones(5,dtype = int)\n",
    "arr1"
   ]
  },
  {
   "cell_type": "markdown",
   "id": "sexual-removal",
   "metadata": {},
   "source": [
    "#### 10. full"
   ]
  },
  {
   "cell_type": "code",
   "execution_count": null,
   "id": "optimum-bonus",
   "metadata": {},
   "outputs": [],
   "source": [
    "np.full(shape, value)"
   ]
  },
  {
   "cell_type": "code",
   "execution_count": 193,
   "id": "clear-conservative",
   "metadata": {},
   "outputs": [
    {
     "data": {
      "text/plain": [
       "array([1., 1., 1., 1., 1., 1., 1., 1., 1., 1.])"
      ]
     },
     "execution_count": 193,
     "metadata": {},
     "output_type": "execute_result"
    }
   ],
   "source": [
    "np.ones(10)"
   ]
  },
  {
   "cell_type": "code",
   "execution_count": 195,
   "id": "fancy-flashing",
   "metadata": {},
   "outputs": [
    {
     "data": {
      "text/plain": [
       "array([2, 2, 2, 2, 2, 2, 2, 2, 2, 2])"
      ]
     },
     "execution_count": 195,
     "metadata": {},
     "output_type": "execute_result"
    }
   ],
   "source": [
    "arr = np.full(10,2)\n",
    "arr"
   ]
  },
  {
   "cell_type": "code",
   "execution_count": 197,
   "id": "divided-origin",
   "metadata": {},
   "outputs": [
    {
     "data": {
      "text/plain": [
       "array([3, 3, 3, 3, 3, 3, 3, 3, 3, 3])"
      ]
     },
     "execution_count": 197,
     "metadata": {},
     "output_type": "execute_result"
    }
   ],
   "source": [
    "arr = np.full(10,3)\n",
    "arr"
   ]
  },
  {
   "cell_type": "code",
   "execution_count": 199,
   "id": "thorough-vessel",
   "metadata": {},
   "outputs": [
    {
     "data": {
      "text/plain": [
       "array([0, 0, 0, 0, 0, 0, 0, 0, 0, 0])"
      ]
     },
     "execution_count": 199,
     "metadata": {},
     "output_type": "execute_result"
    }
   ],
   "source": [
    "arr = np.full(10,0)\n",
    "arr"
   ]
  },
  {
   "cell_type": "code",
   "execution_count": 201,
   "id": "medieval-trunk",
   "metadata": {},
   "outputs": [
    {
     "data": {
      "text/plain": [
       "array([1, 1, 1, 1, 1, 1, 1, 1, 1, 1])"
      ]
     },
     "execution_count": 201,
     "metadata": {},
     "output_type": "execute_result"
    }
   ],
   "source": [
    "arr = np.full(10,1)\n",
    "arr"
   ]
  },
  {
   "cell_type": "code",
   "execution_count": 203,
   "id": "champion-broadcasting",
   "metadata": {},
   "outputs": [
    {
     "data": {
      "text/plain": [
       "array([[1, 1, 1, 1, 1],\n",
       "       [1, 1, 1, 1, 1],\n",
       "       [1, 1, 1, 1, 1],\n",
       "       [1, 1, 1, 1, 1]])"
      ]
     },
     "execution_count": 203,
     "metadata": {},
     "output_type": "execute_result"
    }
   ],
   "source": [
    "arr = np.full((4,5),1)\n",
    "arr"
   ]
  },
  {
   "cell_type": "code",
   "execution_count": 206,
   "id": "protective-shelter",
   "metadata": {},
   "outputs": [
    {
     "data": {
      "text/plain": [
       "array([[5, 5, 5, 5, 5],\n",
       "       [5, 5, 5, 5, 5],\n",
       "       [5, 5, 5, 5, 5],\n",
       "       [5, 5, 5, 5, 5]])"
      ]
     },
     "execution_count": 206,
     "metadata": {},
     "output_type": "execute_result"
    }
   ],
   "source": [
    "arr = np.full((4,5),5)\n",
    "arr"
   ]
  },
  {
   "cell_type": "code",
   "execution_count": null,
   "id": "successful-czech",
   "metadata": {},
   "outputs": [],
   "source": []
  },
  {
   "cell_type": "code",
   "execution_count": 209,
   "id": "liable-crossing",
   "metadata": {},
   "outputs": [
    {
     "data": {
      "text/plain": [
       "array([0, 0, 0, 0, 0, 0, 0, 0, 0, 0])"
      ]
     },
     "execution_count": 209,
     "metadata": {},
     "output_type": "execute_result"
    }
   ],
   "source": [
    "np.zeros(10,int)"
   ]
  },
  {
   "cell_type": "code",
   "execution_count": 211,
   "id": "adjusted-repeat",
   "metadata": {},
   "outputs": [
    {
     "data": {
      "text/plain": [
       "array([0, 0, 0, 0, 0, 0, 0, 0, 0, 0])"
      ]
     },
     "execution_count": 211,
     "metadata": {},
     "output_type": "execute_result"
    }
   ],
   "source": [
    "np.full(10,0)"
   ]
  },
  {
   "cell_type": "markdown",
   "id": "detected-treasurer",
   "metadata": {},
   "source": [
    "#### 12. arange()"
   ]
  },
  {
   "cell_type": "code",
   "execution_count": 212,
   "id": "varied-professional",
   "metadata": {},
   "outputs": [
    {
     "data": {
      "text/plain": [
       "range(4, 10)"
      ]
     },
     "execution_count": 212,
     "metadata": {},
     "output_type": "execute_result"
    }
   ],
   "source": [
    "range(4,10)"
   ]
  },
  {
   "cell_type": "code",
   "execution_count": 214,
   "id": "declared-species",
   "metadata": {},
   "outputs": [
    {
     "name": "stdout",
     "output_type": "stream",
     "text": [
      "4\n",
      "5\n",
      "6\n",
      "7\n",
      "8\n",
      "9\n"
     ]
    }
   ],
   "source": [
    "for i in range(4,10):\n",
    "    print(i)"
   ]
  },
  {
   "cell_type": "code",
   "execution_count": 216,
   "id": "occupied-south",
   "metadata": {},
   "outputs": [
    {
     "data": {
      "text/plain": [
       "[4, 5, 6, 7, 8, 9]"
      ]
     },
     "execution_count": 216,
     "metadata": {},
     "output_type": "execute_result"
    }
   ],
   "source": [
    "list(range(4,10))"
   ]
  },
  {
   "cell_type": "code",
   "execution_count": 218,
   "id": "constitutional-hanging",
   "metadata": {},
   "outputs": [
    {
     "data": {
      "text/plain": [
       "array([4, 5, 6, 7, 8, 9])"
      ]
     },
     "execution_count": 218,
     "metadata": {},
     "output_type": "execute_result"
    }
   ],
   "source": [
    "arr1 = np.arange(4,10)\n",
    "arr1"
   ]
  },
  {
   "cell_type": "code",
   "execution_count": 220,
   "id": "regular-tension",
   "metadata": {},
   "outputs": [
    {
     "data": {
      "text/plain": [
       "array([ 0,  2,  4,  6,  8, 10, 12, 14, 16, 18, 20])"
      ]
     },
     "execution_count": 220,
     "metadata": {},
     "output_type": "execute_result"
    }
   ],
   "source": [
    "arr1 = np.arange(0,21,2)\n",
    "arr1"
   ]
  },
  {
   "cell_type": "code",
   "execution_count": 222,
   "id": "former-season",
   "metadata": {},
   "outputs": [
    {
     "data": {
      "text/plain": [
       "[0, 2, 4, 6, 8, 10, 12, 14, 16, 18, 20]"
      ]
     },
     "execution_count": 222,
     "metadata": {},
     "output_type": "execute_result"
    }
   ],
   "source": [
    "x = list(range(0,21,2))\n",
    "x"
   ]
  },
  {
   "cell_type": "code",
   "execution_count": 226,
   "id": "fantastic-finnish",
   "metadata": {},
   "outputs": [
    {
     "data": {
      "text/plain": [
       "array([10,  9,  8,  7,  6,  5,  4,  3,  2,  1])"
      ]
     },
     "execution_count": 226,
     "metadata": {},
     "output_type": "execute_result"
    }
   ],
   "source": [
    "arr1 = np.arange(10,0,-1)\n",
    "arr1"
   ]
  },
  {
   "cell_type": "code",
   "execution_count": 230,
   "id": "dominant-occasion",
   "metadata": {},
   "outputs": [
    {
     "data": {
      "text/plain": [
       "array([-5, -4, -3, -2, -1,  0,  1,  2,  3,  4,  5])"
      ]
     },
     "execution_count": 230,
     "metadata": {},
     "output_type": "execute_result"
    }
   ],
   "source": [
    "arr1 = np.arange(-5,6)\n",
    "arr1"
   ]
  },
  {
   "cell_type": "markdown",
   "id": "threaded-lawyer",
   "metadata": {},
   "source": [
    "#### 13. around()"
   ]
  },
  {
   "cell_type": "code",
   "execution_count": 232,
   "id": "subsequent-cooler",
   "metadata": {},
   "outputs": [
    {
     "data": {
      "text/plain": [
       "4.68"
      ]
     },
     "execution_count": 232,
     "metadata": {},
     "output_type": "execute_result"
    }
   ],
   "source": [
    "round(4.6789,2)"
   ]
  },
  {
   "cell_type": "code",
   "execution_count": 235,
   "id": "according-angle",
   "metadata": {},
   "outputs": [],
   "source": [
    "list1 = [4.5678,6.345678, 10.123456]\n",
    "# round(list1,2)"
   ]
  },
  {
   "cell_type": "code",
   "execution_count": 237,
   "id": "attached-sharp",
   "metadata": {},
   "outputs": [
    {
     "data": {
      "text/plain": [
       "4.68"
      ]
     },
     "execution_count": 237,
     "metadata": {},
     "output_type": "execute_result"
    }
   ],
   "source": [
    "np.around(4.6789,2)"
   ]
  },
  {
   "cell_type": "code",
   "execution_count": 240,
   "id": "dynamic-administrator",
   "metadata": {},
   "outputs": [
    {
     "data": {
      "text/plain": [
       "array([ 4.57,  6.35, 10.12])"
      ]
     },
     "execution_count": 240,
     "metadata": {},
     "output_type": "execute_result"
    }
   ],
   "source": [
    "arr1 = np.array( [4.5678,6.345678, 10.123456])\n",
    "result = np.around(arr1,2)\n",
    "result"
   ]
  },
  {
   "cell_type": "code",
   "execution_count": 242,
   "id": "visible-morris",
   "metadata": {},
   "outputs": [
    {
     "data": {
      "text/plain": [
       "array([[ 4.568,  6.346],\n",
       "       [10.123,  9.346]])"
      ]
     },
     "execution_count": 242,
     "metadata": {},
     "output_type": "execute_result"
    }
   ],
   "source": [
    "arr1 = np.array( [[4.5678,6.345678], [10.123456,9.3456]])\n",
    "result = np.around(arr1,3)\n",
    "result"
   ]
  },
  {
   "cell_type": "code",
   "execution_count": 244,
   "id": "reliable-portuguese",
   "metadata": {},
   "outputs": [
    {
     "data": {
      "text/plain": [
       "array([[ 4.6,  6.3],\n",
       "       [10.1,  9.3]])"
      ]
     },
     "execution_count": 244,
     "metadata": {},
     "output_type": "execute_result"
    }
   ],
   "source": [
    "arr1 = np.array( [[4.5678,6.345678], [10.123456,9.3456]])\n",
    "result = np.around(arr1,1)\n",
    "result"
   ]
  },
  {
   "cell_type": "code",
   "execution_count": 246,
   "id": "official-penalty",
   "metadata": {},
   "outputs": [
    {
     "data": {
      "text/plain": [
       "array([[ 4.57,  6.35],\n",
       "       [10.12,  9.35]])"
      ]
     },
     "execution_count": 246,
     "metadata": {},
     "output_type": "execute_result"
    }
   ],
   "source": [
    "arr1 = np.array( [[4.5678,6.345678], [10.123456,9.3456]])\n",
    "result = np.around(arr1,2)\n",
    "result"
   ]
  },
  {
   "cell_type": "code",
   "execution_count": 248,
   "id": "grand-radical",
   "metadata": {},
   "outputs": [
    {
     "name": "stdout",
     "output_type": "stream",
     "text": [
      "[[4.57, 6.35], [10.12, 9.35]] <class 'list'>\n"
     ]
    }
   ],
   "source": [
    "arr1 = np.array( [[4.5678,6.345678], [10.123456,9.3456]])\n",
    "result = np.around(arr1,2)\n",
    "x = result.tolist()\n",
    "print(x,type(x))"
   ]
  },
  {
   "cell_type": "code",
   "execution_count": 252,
   "id": "honey-processor",
   "metadata": {},
   "outputs": [
    {
     "name": "stdout",
     "output_type": "stream",
     "text": [
      "[[4.57, 6.35], [10.12, 93456.0]] <class 'list'>\n"
     ]
    }
   ],
   "source": [
    "arr1 = np.array( [[4.5678,6.345678], [10.123456,93456]])\n",
    "result = np.around(arr1,2)\n",
    "x = result.tolist()\n",
    "print(x,type(x))"
   ]
  },
  {
   "cell_type": "markdown",
   "id": "civil-paper",
   "metadata": {},
   "source": [
    "### 14. linspace"
   ]
  },
  {
   "cell_type": "code",
   "execution_count": null,
   "id": "disturbed-denmark",
   "metadata": {},
   "outputs": [],
   "source": [
    "np.linspace(start, end, num = 50)\n",
    "\n",
    "It returns evenly spaced values"
   ]
  },
  {
   "cell_type": "code",
   "execution_count": 254,
   "id": "developed-burden",
   "metadata": {},
   "outputs": [
    {
     "data": {
      "text/plain": [
       "array([ 1.,  2.,  3.,  4.,  5.,  6.,  7.,  8.,  9., 10., 11., 12., 13.,\n",
       "       14., 15., 16., 17., 18., 19., 20., 21., 22., 23., 24., 25., 26.,\n",
       "       27., 28., 29., 30., 31., 32., 33., 34., 35., 36., 37., 38., 39.,\n",
       "       40., 41., 42., 43., 44., 45., 46., 47., 48., 49., 50.])"
      ]
     },
     "execution_count": 254,
     "metadata": {},
     "output_type": "execute_result"
    }
   ],
   "source": [
    "np.linspace(1,50)"
   ]
  },
  {
   "cell_type": "code",
   "execution_count": 259,
   "id": "fatal-tenant",
   "metadata": {},
   "outputs": [
    {
     "data": {
      "text/plain": [
       "array([100.        , 108.16326531, 116.32653061, 124.48979592,\n",
       "       132.65306122, 140.81632653, 148.97959184, 157.14285714,\n",
       "       165.30612245, 173.46938776, 181.63265306, 189.79591837,\n",
       "       197.95918367, 206.12244898, 214.28571429, 222.44897959,\n",
       "       230.6122449 , 238.7755102 , 246.93877551, 255.10204082,\n",
       "       263.26530612, 271.42857143, 279.59183673, 287.75510204,\n",
       "       295.91836735, 304.08163265, 312.24489796, 320.40816327,\n",
       "       328.57142857, 336.73469388, 344.89795918, 353.06122449,\n",
       "       361.2244898 , 369.3877551 , 377.55102041, 385.71428571,\n",
       "       393.87755102, 402.04081633, 410.20408163, 418.36734694,\n",
       "       426.53061224, 434.69387755, 442.85714286, 451.02040816,\n",
       "       459.18367347, 467.34693878, 475.51020408, 483.67346939,\n",
       "       491.83673469, 500.        ])"
      ]
     },
     "execution_count": 259,
     "metadata": {},
     "output_type": "execute_result"
    }
   ],
   "source": [
    "np.linspace(100,500)"
   ]
  },
  {
   "cell_type": "code",
   "execution_count": null,
   "id": "toxic-sculpture",
   "metadata": {},
   "outputs": [],
   "source": []
  },
  {
   "cell_type": "code",
   "execution_count": 257,
   "id": "medical-senate",
   "metadata": {},
   "outputs": [
    {
     "data": {
      "text/plain": [
       "8.163265309999986"
      ]
     },
     "execution_count": 257,
     "metadata": {},
     "output_type": "execute_result"
    }
   ],
   "source": [
    "140.81632653 - 132.65306122"
   ]
  },
  {
   "cell_type": "code",
   "execution_count": 258,
   "id": "liquid-beads",
   "metadata": {},
   "outputs": [
    {
     "data": {
      "text/plain": [
       "8.163265309999986"
      ]
     },
     "execution_count": 258,
     "metadata": {},
     "output_type": "execute_result"
    }
   ],
   "source": [
    "442.85714286 - 434.69387755"
   ]
  },
  {
   "cell_type": "code",
   "execution_count": 261,
   "id": "legislative-london",
   "metadata": {},
   "outputs": [
    {
     "data": {
      "text/plain": [
       "array([10.        , 10.20408163, 10.40816327, 10.6122449 , 10.81632653,\n",
       "       11.02040816, 11.2244898 , 11.42857143, 11.63265306, 11.83673469,\n",
       "       12.04081633, 12.24489796, 12.44897959, 12.65306122, 12.85714286,\n",
       "       13.06122449, 13.26530612, 13.46938776, 13.67346939, 13.87755102,\n",
       "       14.08163265, 14.28571429, 14.48979592, 14.69387755, 14.89795918,\n",
       "       15.10204082, 15.30612245, 15.51020408, 15.71428571, 15.91836735,\n",
       "       16.12244898, 16.32653061, 16.53061224, 16.73469388, 16.93877551,\n",
       "       17.14285714, 17.34693878, 17.55102041, 17.75510204, 17.95918367,\n",
       "       18.16326531, 18.36734694, 18.57142857, 18.7755102 , 18.97959184,\n",
       "       19.18367347, 19.3877551 , 19.59183673, 19.79591837, 20.        ])"
      ]
     },
     "execution_count": 261,
     "metadata": {},
     "output_type": "execute_result"
    }
   ],
   "source": [
    "np.linspace(10,20)"
   ]
  },
  {
   "cell_type": "code",
   "execution_count": 263,
   "id": "essential-success",
   "metadata": {},
   "outputs": [
    {
     "data": {
      "text/plain": [
       "array([10. , 12.5, 15. , 17.5, 20. ])"
      ]
     },
     "execution_count": 263,
     "metadata": {},
     "output_type": "execute_result"
    }
   ],
   "source": [
    "np.linspace(10,20,num = 5)"
   ]
  },
  {
   "cell_type": "code",
   "execution_count": 266,
   "id": "weighted-reservation",
   "metadata": {},
   "outputs": [
    {
     "data": {
      "text/plain": [
       "(array([10.        , 11.11111111, 12.22222222, 13.33333333, 14.44444444,\n",
       "        15.55555556, 16.66666667, 17.77777778, 18.88888889, 20.        ]),\n",
       " 1.1111111111111112)"
      ]
     },
     "execution_count": 266,
     "metadata": {},
     "output_type": "execute_result"
    }
   ],
   "source": [
    "np.linspace(10,20,num = 10,retstep=True)"
   ]
  },
  {
   "cell_type": "code",
   "execution_count": 268,
   "id": "italic-gnome",
   "metadata": {},
   "outputs": [
    {
     "data": {
      "text/plain": [
       "(array([10. , 12.5, 15. , 17.5, 20. ]), 2.5)"
      ]
     },
     "execution_count": 268,
     "metadata": {},
     "output_type": "execute_result"
    }
   ],
   "source": [
    "np.linspace(10,20,num = 5,retstep=True)"
   ]
  },
  {
   "cell_type": "markdown",
   "id": "important-content",
   "metadata": {},
   "source": [
    "### 15. eye"
   ]
  },
  {
   "cell_type": "code",
   "execution_count": 271,
   "id": "acoustic-third",
   "metadata": {},
   "outputs": [
    {
     "data": {
      "text/plain": [
       "array([[1, 0, 0, 0, 0],\n",
       "       [0, 1, 0, 0, 0],\n",
       "       [0, 0, 1, 0, 0],\n",
       "       [0, 0, 0, 1, 0],\n",
       "       [0, 0, 0, 0, 1]])"
      ]
     },
     "execution_count": 271,
     "metadata": {},
     "output_type": "execute_result"
    }
   ],
   "source": [
    "arr1 = np.eye(5,dtype = int)\n",
    "arr1"
   ]
  },
  {
   "cell_type": "code",
   "execution_count": 273,
   "id": "competent-shield",
   "metadata": {},
   "outputs": [
    {
     "data": {
      "text/plain": [
       "array([[1, 0],\n",
       "       [0, 1]])"
      ]
     },
     "execution_count": 273,
     "metadata": {},
     "output_type": "execute_result"
    }
   ],
   "source": [
    "arr1 = np.eye(2,dtype = int)\n",
    "arr1"
   ]
  },
  {
   "cell_type": "code",
   "execution_count": 275,
   "id": "utility-intent",
   "metadata": {},
   "outputs": [
    {
     "data": {
      "text/plain": [
       "array([[1, 0, 0],\n",
       "       [0, 1, 0],\n",
       "       [0, 0, 1]])"
      ]
     },
     "execution_count": 275,
     "metadata": {},
     "output_type": "execute_result"
    }
   ],
   "source": [
    "arr1 = np.eye(3,dtype = int)\n",
    "arr1"
   ]
  },
  {
   "cell_type": "code",
   "execution_count": 278,
   "id": "approximate-convention",
   "metadata": {},
   "outputs": [
    {
     "data": {
      "text/plain": [
       "array([[1, 0, 0, 0, 0],\n",
       "       [0, 1, 0, 0, 0],\n",
       "       [0, 0, 1, 0, 0],\n",
       "       [0, 0, 0, 1, 0]])"
      ]
     },
     "execution_count": 278,
     "metadata": {},
     "output_type": "execute_result"
    }
   ],
   "source": [
    "arr1 = np.eye(4,5,dtype = int)\n",
    "arr1"
   ]
  },
  {
   "cell_type": "code",
   "execution_count": 280,
   "id": "powerful-chorus",
   "metadata": {},
   "outputs": [
    {
     "data": {
      "text/plain": [
       "array([[1, 0, 0, 0, 0, 0, 0],\n",
       "       [0, 1, 0, 0, 0, 0, 0],\n",
       "       [0, 0, 1, 0, 0, 0, 0],\n",
       "       [0, 0, 0, 1, 0, 0, 0]])"
      ]
     },
     "execution_count": 280,
     "metadata": {},
     "output_type": "execute_result"
    }
   ],
   "source": [
    "arr1 = np.eye(4,7,dtype = int)\n",
    "arr1"
   ]
  },
  {
   "cell_type": "code",
   "execution_count": 282,
   "id": "rubber-calgary",
   "metadata": {},
   "outputs": [
    {
     "data": {
      "text/plain": [
       "array([[1, 0, 0, 0],\n",
       "       [0, 1, 0, 0],\n",
       "       [0, 0, 1, 0],\n",
       "       [0, 0, 0, 1]])"
      ]
     },
     "execution_count": 282,
     "metadata": {},
     "output_type": "execute_result"
    }
   ],
   "source": [
    "arr1 = np.identity(4,dtype = int)\n",
    "arr1"
   ]
  },
  {
   "cell_type": "code",
   "execution_count": 286,
   "id": "emotional-sunglasses",
   "metadata": {},
   "outputs": [
    {
     "data": {
      "text/plain": [
       "array([[1, 0, 0, 0],\n",
       "       [0, 1, 0, 0],\n",
       "       [0, 0, 1, 0],\n",
       "       [0, 0, 0, 1]])"
      ]
     },
     "execution_count": 286,
     "metadata": {},
     "output_type": "execute_result"
    }
   ],
   "source": [
    "arr1 = np.identity(4,int)\n",
    "arr1"
   ]
  },
  {
   "cell_type": "code",
   "execution_count": 287,
   "id": "absent-means",
   "metadata": {},
   "outputs": [
    {
     "data": {
      "text/plain": [
       "array([[1, 0, 0, 0],\n",
       "       [0, 1, 0, 0],\n",
       "       [0, 0, 1, 0],\n",
       "       [0, 0, 0, 1]])"
      ]
     },
     "execution_count": 287,
     "metadata": {},
     "output_type": "execute_result"
    }
   ],
   "source": [
    "arr1 = np.identity(4,int)\n",
    "arr1"
   ]
  },
  {
   "cell_type": "code",
   "execution_count": 290,
   "id": "elder-experience",
   "metadata": {},
   "outputs": [
    {
     "data": {
      "text/plain": [
       "array([[1, 0, 0, 0],\n",
       "       [0, 1, 0, 0],\n",
       "       [0, 0, 1, 0],\n",
       "       [0, 0, 0, 1]])"
      ]
     },
     "execution_count": 290,
     "metadata": {},
     "output_type": "execute_result"
    }
   ],
   "source": [
    "arr1 = np.eye(4,dtype = int)\n",
    "arr1"
   ]
  },
  {
   "cell_type": "code",
   "execution_count": 291,
   "id": "compatible-given",
   "metadata": {},
   "outputs": [
    {
     "data": {
      "text/plain": [
       "array([[1, 0, 0, 0, 0],\n",
       "       [0, 1, 0, 0, 0],\n",
       "       [0, 0, 1, 0, 0],\n",
       "       [0, 0, 0, 1, 0]])"
      ]
     },
     "execution_count": 291,
     "metadata": {},
     "output_type": "execute_result"
    }
   ],
   "source": [
    "arr1 = np.eye(4,5,dtype = int)\n",
    "arr1"
   ]
  },
  {
   "cell_type": "code",
   "execution_count": 293,
   "id": "silent-district",
   "metadata": {},
   "outputs": [
    {
     "data": {
      "text/plain": [
       "array([[1, 0, 0, 0, 0],\n",
       "       [0, 1, 0, 0, 0],\n",
       "       [0, 0, 1, 0, 0],\n",
       "       [0, 0, 0, 1, 0],\n",
       "       [0, 0, 0, 0, 1]])"
      ]
     },
     "execution_count": 293,
     "metadata": {},
     "output_type": "execute_result"
    }
   ],
   "source": [
    "arr1 = np.identity(5,int)\n",
    "arr1"
   ]
  },
  {
   "cell_type": "markdown",
   "id": "conceptual-nelson",
   "metadata": {},
   "source": [
    "### 16. random"
   ]
  },
  {
   "cell_type": "code",
   "execution_count": null,
   "id": "frequent-faith",
   "metadata": {},
   "outputs": [],
   "source": [
    "Used to generate random numbers\n",
    "\n",
    "random:\n",
    "    1. random.rand\n",
    "    2. random.randint\n",
    "    3. random.randn\n",
    "    4. random.ranf"
   ]
  },
  {
   "cell_type": "markdown",
   "id": "exposed-suspect",
   "metadata": {},
   "source": [
    "#### 16.1 random.rand"
   ]
  },
  {
   "cell_type": "code",
   "execution_count": null,
   "id": "median-verse",
   "metadata": {},
   "outputs": [],
   "source": [
    "It return random values between 0 to 1"
   ]
  },
  {
   "cell_type": "code",
   "execution_count": 313,
   "id": "chief-sixth",
   "metadata": {},
   "outputs": [
    {
     "data": {
      "text/plain": [
       "array([0.50525508, 0.23300989, 0.16869662, 0.12922019, 0.43400055])"
      ]
     },
     "execution_count": 313,
     "metadata": {},
     "output_type": "execute_result"
    }
   ],
   "source": [
    "array1 = np.random.rand(5)\n",
    "array1"
   ]
  },
  {
   "cell_type": "code",
   "execution_count": 315,
   "id": "later-mounting",
   "metadata": {},
   "outputs": [
    {
     "data": {
      "text/plain": [
       "array([0.46238891, 0.60388293, 0.83091907, 0.09010355, 0.44949668,\n",
       "       0.1966848 , 0.70388392, 0.62513398, 0.35628603, 0.16685574])"
      ]
     },
     "execution_count": 315,
     "metadata": {},
     "output_type": "execute_result"
    }
   ],
   "source": [
    "array1 = np.random.rand(10)\n",
    "array1"
   ]
  },
  {
   "cell_type": "code",
   "execution_count": 318,
   "id": "dedicated-technical",
   "metadata": {},
   "outputs": [
    {
     "data": {
      "text/plain": [
       "array([[0.38854654, 0.41540925, 0.77994949],\n",
       "       [0.80536582, 0.15712576, 0.1583223 ]])"
      ]
     },
     "execution_count": 318,
     "metadata": {},
     "output_type": "execute_result"
    }
   ],
   "source": [
    "array1 = np.random.rand(2,3)\n",
    "array1"
   ]
  },
  {
   "cell_type": "code",
   "execution_count": 328,
   "id": "norwegian-locking",
   "metadata": {},
   "outputs": [
    {
     "data": {
      "text/plain": [
       "array([[0.79904919, 0.08223631, 0.79727351],\n",
       "       [0.51419241, 0.07716708, 0.92934292],\n",
       "       [0.14864303, 0.35424489, 0.75979308],\n",
       "       [0.34968405, 0.42060875, 0.91840312],\n",
       "       [0.82601376, 0.84833399, 0.26351337]])"
      ]
     },
     "execution_count": 328,
     "metadata": {},
     "output_type": "execute_result"
    }
   ],
   "source": [
    "array1 = np.random.rand(5,3)\n",
    "array1"
   ]
  },
  {
   "cell_type": "markdown",
   "id": "directed-bosnia",
   "metadata": {},
   "source": [
    "#### 16.2 random.randint"
   ]
  },
  {
   "cell_type": "code",
   "execution_count": null,
   "id": "vocational-thinking",
   "metadata": {},
   "outputs": [],
   "source": [
    "Used to generate random numbers\n",
    "\n",
    "np.random.randint(start_value , end_value, size = 1)"
   ]
  },
  {
   "cell_type": "code",
   "execution_count": 337,
   "id": "animal-genetics",
   "metadata": {},
   "outputs": [
    {
     "data": {
      "text/plain": [
       "array([14, 37, 13, 22, 65, 98, 56, 48, 95, 84])"
      ]
     },
     "execution_count": 337,
     "metadata": {},
     "output_type": "execute_result"
    }
   ],
   "source": [
    "arr1 = np.random.randint(10,100,size = 10)\n",
    "arr1"
   ]
  },
  {
   "cell_type": "code",
   "execution_count": 338,
   "id": "satellite-remark",
   "metadata": {},
   "outputs": [
    {
     "data": {
      "text/plain": [
       "array([11, 10, 10, 11, 11, 10, 10, 10, 11, 11])"
      ]
     },
     "execution_count": 338,
     "metadata": {},
     "output_type": "execute_result"
    }
   ],
   "source": [
    "arr1 = np.random.randint(10,12,size = 10)\n",
    "arr1"
   ]
  },
  {
   "cell_type": "code",
   "execution_count": 341,
   "id": "detected-religious",
   "metadata": {},
   "outputs": [
    {
     "data": {
      "text/plain": [
       "17"
      ]
     },
     "execution_count": 341,
     "metadata": {},
     "output_type": "execute_result"
    }
   ],
   "source": [
    "arr1 = np.random.randint(10,30)\n",
    "arr1"
   ]
  },
  {
   "cell_type": "code",
   "execution_count": 344,
   "id": "civilian-invention",
   "metadata": {},
   "outputs": [
    {
     "data": {
      "text/plain": [
       "array([13, 11, 12, 28, 16])"
      ]
     },
     "execution_count": 344,
     "metadata": {},
     "output_type": "execute_result"
    }
   ],
   "source": [
    "arr1 = np.random.randint(10,30,size = 5)\n",
    "arr1"
   ]
  },
  {
   "cell_type": "code",
   "execution_count": 346,
   "id": "emotional-twins",
   "metadata": {},
   "outputs": [
    {
     "data": {
      "text/plain": [
       "array([[29, 27, 14, 13, 20],\n",
       "       [17, 20, 18, 19, 22],\n",
       "       [22, 14, 22, 10, 25]])"
      ]
     },
     "execution_count": 346,
     "metadata": {},
     "output_type": "execute_result"
    }
   ],
   "source": [
    "arr1 = np.random.randint(10,30,size = (3,5))\n",
    "arr1"
   ]
  },
  {
   "cell_type": "code",
   "execution_count": 353,
   "id": "exact-memphis",
   "metadata": {},
   "outputs": [
    {
     "data": {
      "text/plain": [
       "array([[13, 18, 23],\n",
       "       [10, 27, 14],\n",
       "       [10, 29, 21],\n",
       "       [13, 22, 29]])"
      ]
     },
     "execution_count": 353,
     "metadata": {},
     "output_type": "execute_result"
    }
   ],
   "source": [
    "arr1 = np.random.randint(10,30,size = (4,3))\n",
    "arr1"
   ]
  },
  {
   "cell_type": "markdown",
   "id": "naval-external",
   "metadata": {},
   "source": [
    "### 16.3 randn"
   ]
  },
  {
   "cell_type": "code",
   "execution_count": null,
   "id": "impressive-happening",
   "metadata": {},
   "outputs": [],
   "source": [
    "It return samples from normally distributed data\n",
    "Normal Distribution >>> Gaussian Distribution"
   ]
  },
  {
   "cell_type": "code",
   "execution_count": 355,
   "id": "orange-arena",
   "metadata": {},
   "outputs": [],
   "source": [
    "arr1 = np.random.randn(100)\n",
    "# arr1"
   ]
  },
  {
   "cell_type": "code",
   "execution_count": 356,
   "id": "stupid-private",
   "metadata": {},
   "outputs": [],
   "source": [
    "import seaborn as sns"
   ]
  },
  {
   "cell_type": "code",
   "execution_count": 358,
   "id": "magnetic-keyboard",
   "metadata": {},
   "outputs": [
    {
     "data": {
      "text/plain": [
       "<AxesSubplot:ylabel='Density'>"
      ]
     },
     "execution_count": 358,
     "metadata": {},
     "output_type": "execute_result"
    },
    {
     "data": {
      "image/png": "[encoded data removed]",
      "text/plain": [
       "<Figure size 432x288 with 1 Axes>"
      ]
     },
     "metadata": {
      "needs_background": "light"
     },
     "output_type": "display_data"
    }
   ],
   "source": [
    "sns.kdeplot(arr1)"
   ]
  },
  {
   "cell_type": "markdown",
   "id": "amber-helena",
   "metadata": {},
   "source": [
    "#### 16.4 random.ranf"
   ]
  },
  {
   "cell_type": "code",
   "execution_count": null,
   "id": "possible-object",
   "metadata": {},
   "outputs": [],
   "source": [
    "It Returns values in 0 to 1"
   ]
  },
  {
   "cell_type": "code",
   "execution_count": 362,
   "id": "charitable-theory",
   "metadata": {},
   "outputs": [
    {
     "data": {
      "text/plain": [
       "array([0.34548498, 0.51344266, 0.54008402, 0.46040923, 0.11394395,\n",
       "       0.31281693, 0.91624228, 0.77836589, 0.84484498, 0.5269515 ])"
      ]
     },
     "execution_count": 362,
     "metadata": {},
     "output_type": "execute_result"
    }
   ],
   "source": [
    "arr1 = np.random.ranf(10)\n",
    "arr1"
   ]
  },
  {
   "cell_type": "code",
   "execution_count": 363,
   "id": "useful-helmet",
   "metadata": {},
   "outputs": [
    {
     "data": {
      "text/plain": [
       "array([0.21689984, 0.29909124, 0.02712831, 0.19491598, 0.50100005,\n",
       "       0.3685671 , 0.83212846, 0.65997119, 0.43649274, 0.63275197])"
      ]
     },
     "execution_count": 363,
     "metadata": {},
     "output_type": "execute_result"
    }
   ],
   "source": [
    "arr1 = np.random.rand(10)\n",
    "arr1"
   ]
  },
  {
   "cell_type": "code",
   "execution_count": 364,
   "id": "endless-sentence",
   "metadata": {},
   "outputs": [],
   "source": [
    "import pandas as pd"
   ]
  },
  {
   "cell_type": "code",
   "execution_count": 368,
   "id": "signed-today",
   "metadata": {},
   "outputs": [
    {
     "data": {
      "text/html": [
       "<div>\n",
       "<style scoped>\n",
       "    .dataframe tbody tr th:only-of-type {\n",
       "        vertical-align: middle;\n",
       "    }\n",
       "\n",
       "    .dataframe tbody tr th {\n",
       "        vertical-align: top;\n",
       "    }\n",
       "\n",
       "    .dataframe thead th {\n",
       "        text-align: right;\n",
       "    }\n",
       "</style>\n",
       "<table border=\"1\" class=\"dataframe\">\n",
       "  <thead>\n",
       "    <tr style=\"text-align: right;\">\n",
       "      <th></th>\n",
       "      <th>0</th>\n",
       "      <th>1</th>\n",
       "      <th>2</th>\n",
       "    </tr>\n",
       "  </thead>\n",
       "  <tbody>\n",
       "    <tr>\n",
       "      <th>0</th>\n",
       "      <td>18</td>\n",
       "      <td>12</td>\n",
       "      <td>25</td>\n",
       "    </tr>\n",
       "    <tr>\n",
       "      <th>1</th>\n",
       "      <td>12</td>\n",
       "      <td>22</td>\n",
       "      <td>19</td>\n",
       "    </tr>\n",
       "    <tr>\n",
       "      <th>2</th>\n",
       "      <td>21</td>\n",
       "      <td>23</td>\n",
       "      <td>18</td>\n",
       "    </tr>\n",
       "    <tr>\n",
       "      <th>3</th>\n",
       "      <td>20</td>\n",
       "      <td>29</td>\n",
       "      <td>16</td>\n",
       "    </tr>\n",
       "  </tbody>\n",
       "</table>\n",
       "</div>"
      ],
      "text/plain": [
       "    0   1   2\n",
       "0  18  12  25\n",
       "1  12  22  19\n",
       "2  21  23  18\n",
       "3  20  29  16"
      ]
     },
     "execution_count": 368,
     "metadata": {},
     "output_type": "execute_result"
    }
   ],
   "source": [
    "arr1 = np.random.randint(10,30,size = (4,3))\n",
    "df = pd.DataFrame(arr1)\n",
    "df"
   ]
  },
  {
   "cell_type": "code",
   "execution_count": 370,
   "id": "urban-complexity",
   "metadata": {},
   "outputs": [
    {
     "data": {
      "text/html": [
       "<div>\n",
       "<style scoped>\n",
       "    .dataframe tbody tr th:only-of-type {\n",
       "        vertical-align: middle;\n",
       "    }\n",
       "\n",
       "    .dataframe tbody tr th {\n",
       "        vertical-align: top;\n",
       "    }\n",
       "\n",
       "    .dataframe thead th {\n",
       "        text-align: right;\n",
       "    }\n",
       "</style>\n",
       "<table border=\"1\" class=\"dataframe\">\n",
       "  <thead>\n",
       "    <tr style=\"text-align: right;\">\n",
       "      <th></th>\n",
       "      <th>0</th>\n",
       "      <th>1</th>\n",
       "      <th>2</th>\n",
       "    </tr>\n",
       "  </thead>\n",
       "  <tbody>\n",
       "    <tr>\n",
       "      <th>0</th>\n",
       "      <td>12</td>\n",
       "      <td>25</td>\n",
       "      <td>25</td>\n",
       "    </tr>\n",
       "    <tr>\n",
       "      <th>1</th>\n",
       "      <td>12</td>\n",
       "      <td>14</td>\n",
       "      <td>27</td>\n",
       "    </tr>\n",
       "    <tr>\n",
       "      <th>2</th>\n",
       "      <td>28</td>\n",
       "      <td>11</td>\n",
       "      <td>19</td>\n",
       "    </tr>\n",
       "    <tr>\n",
       "      <th>3</th>\n",
       "      <td>23</td>\n",
       "      <td>27</td>\n",
       "      <td>22</td>\n",
       "    </tr>\n",
       "    <tr>\n",
       "      <th>4</th>\n",
       "      <td>14</td>\n",
       "      <td>21</td>\n",
       "      <td>10</td>\n",
       "    </tr>\n",
       "    <tr>\n",
       "      <th>5</th>\n",
       "      <td>23</td>\n",
       "      <td>23</td>\n",
       "      <td>28</td>\n",
       "    </tr>\n",
       "    <tr>\n",
       "      <th>6</th>\n",
       "      <td>26</td>\n",
       "      <td>16</td>\n",
       "      <td>16</td>\n",
       "    </tr>\n",
       "    <tr>\n",
       "      <th>7</th>\n",
       "      <td>19</td>\n",
       "      <td>18</td>\n",
       "      <td>19</td>\n",
       "    </tr>\n",
       "    <tr>\n",
       "      <th>8</th>\n",
       "      <td>19</td>\n",
       "      <td>18</td>\n",
       "      <td>25</td>\n",
       "    </tr>\n",
       "    <tr>\n",
       "      <th>9</th>\n",
       "      <td>29</td>\n",
       "      <td>21</td>\n",
       "      <td>23</td>\n",
       "    </tr>\n",
       "  </tbody>\n",
       "</table>\n",
       "</div>"
      ],
      "text/plain": [
       "    0   1   2\n",
       "0  12  25  25\n",
       "1  12  14  27\n",
       "2  28  11  19\n",
       "3  23  27  22\n",
       "4  14  21  10\n",
       "5  23  23  28\n",
       "6  26  16  16\n",
       "7  19  18  19\n",
       "8  19  18  25\n",
       "9  29  21  23"
      ]
     },
     "execution_count": 370,
     "metadata": {},
     "output_type": "execute_result"
    }
   ],
   "source": [
    "arr1 = np.random.randint(10,30,size = (10,3))\n",
    "df = pd.DataFrame(arr1)\n",
    "df"
   ]
  },
  {
   "cell_type": "code",
   "execution_count": 376,
   "id": "sunset-given",
   "metadata": {},
   "outputs": [
    {
     "data": {
      "text/html": [
       "<div>\n",
       "<style scoped>\n",
       "    .dataframe tbody tr th:only-of-type {\n",
       "        vertical-align: middle;\n",
       "    }\n",
       "\n",
       "    .dataframe tbody tr th {\n",
       "        vertical-align: top;\n",
       "    }\n",
       "\n",
       "    .dataframe thead th {\n",
       "        text-align: right;\n",
       "    }\n",
       "</style>\n",
       "<table border=\"1\" class=\"dataframe\">\n",
       "  <thead>\n",
       "    <tr style=\"text-align: right;\">\n",
       "      <th></th>\n",
       "      <th>Zeros</th>\n",
       "      <th>Ones</th>\n",
       "      <th>arange</th>\n",
       "      <th>Linspace</th>\n",
       "      <th>Randint</th>\n",
       "      <th>Full</th>\n",
       "    </tr>\n",
       "  </thead>\n",
       "  <tbody>\n",
       "    <tr>\n",
       "      <th>0</th>\n",
       "      <td>0</td>\n",
       "      <td>1</td>\n",
       "      <td>10</td>\n",
       "      <td>10.000000</td>\n",
       "      <td>60</td>\n",
       "      <td>5</td>\n",
       "    </tr>\n",
       "    <tr>\n",
       "      <th>1</th>\n",
       "      <td>0</td>\n",
       "      <td>1</td>\n",
       "      <td>11</td>\n",
       "      <td>13.333333</td>\n",
       "      <td>72</td>\n",
       "      <td>5</td>\n",
       "    </tr>\n",
       "    <tr>\n",
       "      <th>2</th>\n",
       "      <td>0</td>\n",
       "      <td>1</td>\n",
       "      <td>12</td>\n",
       "      <td>16.666667</td>\n",
       "      <td>85</td>\n",
       "      <td>5</td>\n",
       "    </tr>\n",
       "    <tr>\n",
       "      <th>3</th>\n",
       "      <td>0</td>\n",
       "      <td>1</td>\n",
       "      <td>13</td>\n",
       "      <td>20.000000</td>\n",
       "      <td>54</td>\n",
       "      <td>5</td>\n",
       "    </tr>\n",
       "    <tr>\n",
       "      <th>4</th>\n",
       "      <td>0</td>\n",
       "      <td>1</td>\n",
       "      <td>14</td>\n",
       "      <td>23.333333</td>\n",
       "      <td>61</td>\n",
       "      <td>5</td>\n",
       "    </tr>\n",
       "    <tr>\n",
       "      <th>5</th>\n",
       "      <td>0</td>\n",
       "      <td>1</td>\n",
       "      <td>15</td>\n",
       "      <td>26.666667</td>\n",
       "      <td>55</td>\n",
       "      <td>5</td>\n",
       "    </tr>\n",
       "    <tr>\n",
       "      <th>6</th>\n",
       "      <td>0</td>\n",
       "      <td>1</td>\n",
       "      <td>16</td>\n",
       "      <td>30.000000</td>\n",
       "      <td>99</td>\n",
       "      <td>5</td>\n",
       "    </tr>\n",
       "    <tr>\n",
       "      <th>7</th>\n",
       "      <td>0</td>\n",
       "      <td>1</td>\n",
       "      <td>17</td>\n",
       "      <td>33.333333</td>\n",
       "      <td>94</td>\n",
       "      <td>5</td>\n",
       "    </tr>\n",
       "    <tr>\n",
       "      <th>8</th>\n",
       "      <td>0</td>\n",
       "      <td>1</td>\n",
       "      <td>18</td>\n",
       "      <td>36.666667</td>\n",
       "      <td>97</td>\n",
       "      <td>5</td>\n",
       "    </tr>\n",
       "    <tr>\n",
       "      <th>9</th>\n",
       "      <td>0</td>\n",
       "      <td>1</td>\n",
       "      <td>19</td>\n",
       "      <td>40.000000</td>\n",
       "      <td>54</td>\n",
       "      <td>5</td>\n",
       "    </tr>\n",
       "  </tbody>\n",
       "</table>\n",
       "</div>"
      ],
      "text/plain": [
       "   Zeros  Ones  arange   Linspace  Randint  Full\n",
       "0      0     1      10  10.000000       60     5\n",
       "1      0     1      11  13.333333       72     5\n",
       "2      0     1      12  16.666667       85     5\n",
       "3      0     1      13  20.000000       54     5\n",
       "4      0     1      14  23.333333       61     5\n",
       "5      0     1      15  26.666667       55     5\n",
       "6      0     1      16  30.000000       99     5\n",
       "7      0     1      17  33.333333       94     5\n",
       "8      0     1      18  36.666667       97     5\n",
       "9      0     1      19  40.000000       54     5"
      ]
     },
     "execution_count": 376,
     "metadata": {},
     "output_type": "execute_result"
    }
   ],
   "source": [
    "dict1 = {\"Zeros\": np.zeros(10,dtype = int),\n",
    "        \"Ones\" :np.ones(10,dtype = int),\n",
    "        \"arange\" : np.arange(10,20), \n",
    "        \"Linspace\": np.linspace(10,40,num = 10),\n",
    "        \"Randint\": np.random.randint(50,100,size = 10),\n",
    "        \"Full\":np.full(10,5)}\n",
    "\n",
    "df = pd.DataFrame(dict1)\n",
    "df"
   ]
  },
  {
   "cell_type": "code",
   "execution_count": null,
   "id": "joint-tattoo",
   "metadata": {},
   "outputs": [],
   "source": []
  }
 ],
 "metadata": {
  "kernelspec": {
   "display_name": "Python 3",
   "language": "python",
   "name": "python3"
  },
  "language_info": {
   "codemirror_mode": {
    "name": "ipython",
    "version": 3
   },
   "file_extension": ".py",
   "mimetype": "text/x-python",
   "name": "python",
   "nbconvert_exporter": "python",
   "pygments_lexer": "ipython3",
   "version": "3.8.7"
  }
 },
 "nbformat": 4,
 "nbformat_minor": 5
}
