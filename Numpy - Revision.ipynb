{
 "cells": [
  {
   "cell_type": "markdown",
   "id": "ambient-ready",
   "metadata": {},
   "source": [
    "# Numpy - Revision"
   ]
  },
  {
   "cell_type": "code",
   "execution_count": null,
   "id": "wooden-algeria",
   "metadata": {},
   "outputs": [],
   "source": [
    "Numpy >> Numerical Python\n",
    "\n",
    "Indexing and Slicing\n",
    "Mutable"
   ]
  },
  {
   "cell_type": "code",
   "execution_count": 1,
   "id": "corresponding-toronto",
   "metadata": {},
   "outputs": [],
   "source": [
    "import numpy as np"
   ]
  },
  {
   "cell_type": "markdown",
   "id": "fallen-indian",
   "metadata": {},
   "source": [
    "## Numpy Functions"
   ]
  },
  {
   "cell_type": "code",
   "execution_count": null,
   "id": "conceptual-mixer",
   "metadata": {},
   "outputs": [],
   "source": [
    "1. np.array([],dtype = float, ndmin = 1)\n",
    "2. array.ndim\n",
    "3. array.shape:\n",
    "    array.shape[0] >> Row Count\n",
    "    array.shape[1] >> ColumnCount\n",
    "4. array.tolist() >> n-D array to list\n",
    "5. array.reshape() >> change dimensions of an array\n",
    "6. np.nditer()     >> For Loop\n",
    "7. np.ndenumerate() >> For loop with index\n",
    "8. array.flatten()  >> Returns copy\n",
    "9. array.ravel()    >> Returns reference\n",
    "10. array.copy()    >> Deep Copy\n",
    "11. np.zeros()\n",
    "12. np.ones()\n",
    "13. np.full()\n",
    "14. np.arange()\n",
    "15. np.around()\n",
    "16. np.linspace()\n",
    "17. np.eye()          >> one or two argument\n",
    "18. np.identity()     >> Only one argument\n",
    "19. np.random:\n",
    "    1. np.random.rand() >> 0 to 1\n",
    "    2. np.random.randint(start, end, size = (4,5))\n",
    "    3. np.random.randn() >> Normally distribted Values\n",
    "    4. np.random.ranf()  >> 0 to 1\n",
    "\n",
    "20. np.sort() # Ascending\n",
    "21. -np.sort(-array) # Descending\n",
    "22. np.where(condition) # Return Index\n",
    "23. np.delete(array1, index)"
   ]
  },
  {
   "cell_type": "markdown",
   "id": "arabic-password",
   "metadata": {},
   "source": [
    "### Join Multiple Arrays"
   ]
  },
  {
   "cell_type": "code",
   "execution_count": null,
   "id": "solid-friendly",
   "metadata": {},
   "outputs": [],
   "source": [
    "1. np.append(array1, value, axis = None):\n",
    "    axis = 0 >> Rows\n",
    "    axis = 1 >> Columns\n",
    "    \n",
    "2. np.concatenate([arr1, arr2, ..., arrN],axis = 0)\n",
    "3. np.concatenate([arr1, arr2, ..., arrN],axis = 1)\n"
   ]
  },
  {
   "cell_type": "markdown",
   "id": "cordless-contract",
   "metadata": {},
   "source": [
    "## Matrix Operations"
   ]
  },
  {
   "cell_type": "code",
   "execution_count": null,
   "id": "structural-johnston",
   "metadata": {},
   "outputs": [],
   "source": [
    "1. np.add()\n",
    "2. np.multiply()\n",
    "3. np.dot()\n"
   ]
  },
  {
   "cell_type": "markdown",
   "id": "coordinated-cowboy",
   "metadata": {},
   "source": [
    "### Math Operations"
   ]
  },
  {
   "cell_type": "code",
   "execution_count": null,
   "id": "express-wheel",
   "metadata": {},
   "outputs": [],
   "source": [
    "1. np.floor():\n",
    "    np.floor(6.78) >> 6\n",
    "2. np.ceil():\n",
    "    np.ceil(6.78)  >> 7\n",
    "    \n",
    "3. np.sqrt()\n",
    "4. np.cbrt()\n",
    "5. np.add()\n",
    "6. np.multiply()\n",
    "7. np.min()\n",
    "8. np.max()\n",
    "9. np.sum()\n",
    "10. np.cumsum()\n",
    "11. np.pi"
   ]
  },
  {
   "cell_type": "markdown",
   "id": "universal-surfing",
   "metadata": {},
   "source": [
    "### Statistics"
   ]
  },
  {
   "cell_type": "code",
   "execution_count": null,
   "id": "incoming-decline",
   "metadata": {},
   "outputs": [],
   "source": [
    "1. np.mean()\n",
    "2. np.median()\n",
    "3. np.std()\n",
    "4. np.var()\n",
    "5. scipy.stats.mode()[0][0]"
   ]
  },
  {
   "cell_type": "markdown",
   "id": "concerned-diary",
   "metadata": {},
   "source": [
    "### Log"
   ]
  },
  {
   "cell_type": "code",
   "execution_count": null,
   "id": "honest-excitement",
   "metadata": {},
   "outputs": [],
   "source": [
    "1. np.log() >> Natural Log\n",
    "2. np.log2()\n",
    "3. np.log10()\n"
   ]
  },
  {
   "cell_type": "markdown",
   "id": "worthy-correction",
   "metadata": {},
   "source": [
    "### Linear Algebra"
   ]
  },
  {
   "cell_type": "code",
   "execution_count": null,
   "id": "blond-junction",
   "metadata": {},
   "outputs": [],
   "source": [
    "1. np.linalg.solve()\n",
    "2. np.linalg.inv()\n",
    "3. np.linalg.eigvals()\n",
    "4. np.linalg.eig() >> Returns Eigen Values and Eigen Vectors\n",
    "5. poly = np.polynomial.Polynomial():\n",
    "    poly.roots()"
   ]
  },
  {
   "cell_type": "markdown",
   "id": "armed-sacrifice",
   "metadata": {},
   "source": [
    "### Trigonometry"
   ]
  },
  {
   "cell_type": "code",
   "execution_count": null,
   "id": "grave-being",
   "metadata": {},
   "outputs": [],
   "source": [
    "1. np.sin()\n",
    "2. np.cos()\n",
    "3. np.tan()\n",
    "4. np.deg2rad()\n",
    "5. np.rad2deg()"
   ]
  },
  {
   "cell_type": "code",
   "execution_count": null,
   "id": "diverse-weapon",
   "metadata": {},
   "outputs": [],
   "source": []
  },
  {
   "cell_type": "code",
   "execution_count": 7,
   "id": "individual-spouse",
   "metadata": {},
   "outputs": [
    {
     "data": {
      "text/plain": [
       "array([[3., 4., 5., 6.]])"
      ]
     },
     "execution_count": 7,
     "metadata": {},
     "output_type": "execute_result"
    }
   ],
   "source": [
    "array1 = np.array([3,4,5,6],dtype = float, ndmin = 2)\n",
    "array1"
   ]
  },
  {
   "cell_type": "code",
   "execution_count": 9,
   "id": "dependent-slovakia",
   "metadata": {},
   "outputs": [
    {
     "data": {
      "text/plain": [
       "array([3., 4., 5., 6.])"
      ]
     },
     "execution_count": 9,
     "metadata": {},
     "output_type": "execute_result"
    }
   ],
   "source": [
    "array1.flatten()"
   ]
  },
  {
   "cell_type": "code",
   "execution_count": 10,
   "id": "alternate-louisiana",
   "metadata": {},
   "outputs": [
    {
     "data": {
      "text/plain": [
       "array([3., 4., 5., 6.])"
      ]
     },
     "execution_count": 10,
     "metadata": {},
     "output_type": "execute_result"
    }
   ],
   "source": [
    "array1.ravel()"
   ]
  },
  {
   "cell_type": "code",
   "execution_count": 5,
   "id": "solved-error",
   "metadata": {},
   "outputs": [
    {
     "data": {
      "text/plain": [
       "2"
      ]
     },
     "execution_count": 5,
     "metadata": {},
     "output_type": "execute_result"
    }
   ],
   "source": [
    "array1.ndim"
   ]
  },
  {
   "cell_type": "code",
   "execution_count": 11,
   "id": "talented-activity",
   "metadata": {},
   "outputs": [
    {
     "data": {
      "text/plain": [
       "(1, 4)"
      ]
     },
     "execution_count": 11,
     "metadata": {},
     "output_type": "execute_result"
    }
   ],
   "source": [
    "array1.shape"
   ]
  },
  {
   "cell_type": "code",
   "execution_count": 15,
   "id": "parliamentary-disorder",
   "metadata": {},
   "outputs": [
    {
     "data": {
      "text/plain": [
       "4.0"
      ]
     },
     "execution_count": 15,
     "metadata": {},
     "output_type": "execute_result"
    }
   ],
   "source": [
    "np.floor(4.67)"
   ]
  },
  {
   "cell_type": "code",
   "execution_count": 18,
   "id": "unknown-depth",
   "metadata": {},
   "outputs": [
    {
     "data": {
      "text/plain": [
       "(array([2], dtype=int64),)"
      ]
     },
     "execution_count": 18,
     "metadata": {},
     "output_type": "execute_result"
    }
   ],
   "source": [
    "array1 = np.array([3,4,5,6])\n",
    "np.where(array1 == 5)"
   ]
  },
  {
   "cell_type": "code",
   "execution_count": 23,
   "id": "beneficial-letter",
   "metadata": {},
   "outputs": [
    {
     "data": {
      "text/plain": [
       "array([  3, 400,   5,   6])"
      ]
     },
     "execution_count": 23,
     "metadata": {},
     "output_type": "execute_result"
    }
   ],
   "source": [
    "array1 = np.array([3,4,5,6])\n",
    "array1[1] = 400\n",
    "array1"
   ]
  },
  {
   "cell_type": "code",
   "execution_count": null,
   "id": "interim-basketball",
   "metadata": {},
   "outputs": [],
   "source": []
  },
  {
   "cell_type": "code",
   "execution_count": 14,
   "id": "broadband-genealogy",
   "metadata": {},
   "outputs": [
    {
     "data": {
      "text/plain": [
       "5.0"
      ]
     },
     "execution_count": 14,
     "metadata": {},
     "output_type": "execute_result"
    }
   ],
   "source": [
    "np.ceil(4.67)"
   ]
  },
  {
   "cell_type": "code",
   "execution_count": 20,
   "id": "through-indian",
   "metadata": {},
   "outputs": [
    {
     "data": {
      "text/plain": [
       "9"
      ]
     },
     "execution_count": 20,
     "metadata": {},
     "output_type": "execute_result"
    }
   ],
   "source": [
    "np.add(4,5)"
   ]
  },
  {
   "cell_type": "code",
   "execution_count": 21,
   "id": "progressive-protocol",
   "metadata": {},
   "outputs": [
    {
     "data": {
      "text/plain": [
       "20"
      ]
     },
     "execution_count": 21,
     "metadata": {},
     "output_type": "execute_result"
    }
   ],
   "source": [
    "np.multiply(4,5)"
   ]
  }
 ],
 "metadata": {
  "kernelspec": {
   "display_name": "Python 3",
   "language": "python",
   "name": "python3"
  },
  "language_info": {
   "codemirror_mode": {
    "name": "ipython",
    "version": 3
   },
   "file_extension": ".py",
   "mimetype": "text/x-python",
   "name": "python",
   "nbconvert_exporter": "python",
   "pygments_lexer": "ipython3",
   "version": "3.8.7"
  }
 },
 "nbformat": 4,
 "nbformat_minor": 5
}
